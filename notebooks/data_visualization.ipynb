{
 "cells": [
  {
   "cell_type": "markdown",
   "id": "c8f96658",
   "metadata": {},
   "source": [
    "# Data Visualization\n",
    "\n",
    "## 0. Importing Libraries"
   ]
  },
  {
   "cell_type": "code",
   "execution_count": 1,
   "id": "84e6f9e6",
   "metadata": {},
   "outputs": [],
   "source": [
    "import json\n",
    "import os\n",
    "import sys\n",
    "from sklearn import metrics\n",
    "import plotly.express as px\n",
    "import plotly.graph_objects as go\n",
    "from plotly.subplots import make_subplots\n",
    "from plotly.validators.scatter.marker import SymbolValidator\n",
    "import numpy as np\n",
    "import pandas as pd\n",
    "\n",
    "# base_path = os.path.dirname(os.path.dirname(os.path.abspath(__file__)))\n",
    "# sys.path.append(base_path)\n"
   ]
  },
  {
   "cell_type": "markdown",
   "id": "366e767a",
   "metadata": {},
   "source": [
    "## 1. Basic Processing Block"
   ]
  },
  {
   "cell_type": "code",
   "execution_count": 2,
   "id": "e69fabc7",
   "metadata": {},
   "outputs": [],
   "source": [
    "username = \"fnx11\"\n",
    "\n",
    "# just for notebook\n",
    "base_path = f'/home/{username}/thesis/codes/CosDefence/'\n",
    "\n",
    "# for picking data from the repo\n",
    "json_folder = os.path.join(base_path, 'json_files/')\n",
    "\n",
    "# for picking data from results folder\n",
    "# json_folder = f'/home/{username}/thesis/codes/Results/iter3/'\n",
    "\n",
    "plots_folder = base_path + 'plots/'\n",
    "\n",
    "file_p_frac0 = json_folder + 'mnist_C0.1_P0.0_FDRS30_LR0.001_OptAdam.txt'\n",
    "file_p_frac10 = json_folder + 'mnist_C0.1_P0.1_FDRS30_LR0.001_OptAdam.txt'\n",
    "file_p_frac20 = json_folder + 'mnist_C0.1_P0.2_FDRS30_LR0.001_OptAdam.txt'\n",
    "file_p_frac40 = json_folder + 'mnist_C0.1_P0.4_FDRS30_LR0.001_OptAdam.txt'\n",
    "\n",
    "files_dict = {}\n",
    "c_fracs = [0.1, 0.2, 0.4, 1.0]\n",
    "p_fracs = [0.0, 0.1, 0.2, 0.4]\n",
    "atts = [0, 1]\n",
    "for c_frac in c_fracs:\n",
    "    for p_frac in p_fracs:\n",
    "        for att in atts:\n",
    "            dict_key = f'file_c{int(c_frac*100)}_p{int(p_frac*100):02}_a{att}'\n",
    "#             print(dict_key)\n",
    "            files_dict[dict_key] = json_folder + f'basic_C{c_frac}_P{p_frac}_Att{att}_FDRS400_LR0.001_OptAdam.txt'\n",
    "\n",
    "def get_poisoned_client_nums(file_name):\n",
    "    result_data = {}\n",
    "    with open(file_name) as result_file:\n",
    "        result_data = json.load(result_file)\n",
    "    \n",
    "    return result_data['poisoned_client_sel']\n",
    "\n",
    "def get_training_losses(file_name):\n",
    "    result_data = {}\n",
    "    with open(file_name) as result_file:\n",
    "        result_data = json.load(result_file)\n",
    "    \n",
    "    return result_data['avg_training_losses']\n",
    "\n",
    "def get_test_data_df(file_name):\n",
    "    result_data = {}\n",
    "    with open(file_name) as result_file:\n",
    "        result_data = json.load(result_file)\n",
    "\n",
    "    testing_rounds = len(result_data['testing_losses'])\n",
    "    testing_every = result_data['config']['testing_every']\n",
    "    round_num = [i*testing_every for i in range(1, testing_rounds+1)]\n",
    "\n",
    "    test_data_df = pd.DataFrame()\n",
    "    test_data_df['round_num'] = round_num\n",
    "    test_data_df['testing_loss'] = result_data['testing_losses']\n",
    "    test_data_df['total_acc'] = result_data['total_accuracies']\n",
    "    \n",
    "    avg_precision = []\n",
    "    avg_recall = []\n",
    "    avg_f1score = []\n",
    "    for j in range(testing_rounds):\n",
    "        avg_precision.append(result_data['avg_metric_vals'][j][0])\n",
    "        avg_recall.append(result_data['avg_metric_vals'][j][1])\n",
    "        avg_f1score.append(result_data['avg_metric_vals'][j][2])\n",
    "    test_data_df['avg_precision'] = avg_precision\n",
    "    test_data_df['avg_recall'] = avg_recall\n",
    "    test_data_df['avg_f1score'] = avg_f1score\n",
    "    \n",
    "        \n",
    "    for i in range(10):\n",
    "        class_name = f'class_{i}'\n",
    "        temp_class_acc = []\n",
    "        temp_class_precision = []\n",
    "        temp_class_recall = []\n",
    "        temp_class_f1score = []\n",
    "        for j in range(testing_rounds):\n",
    "            temp_class_acc.append(result_data['class_accuracies'][j][i])\n",
    "            temp_class_precision.append(result_data['class_precisions'][j][i])\n",
    "            temp_class_recall.append(result_data['class_recalls'][j][i])\n",
    "            temp_class_f1score.append(result_data['class_f1scores'][j][i])\n",
    "            \n",
    "        test_data_df[class_name+'_acc'] = temp_class_acc\n",
    "        test_data_df[class_name+'_precision'] = temp_class_precision\n",
    "        test_data_df[class_name+'_recall'] = temp_class_recall\n",
    "        test_data_df[class_name+'_f1score'] = temp_class_f1score\n",
    "        \n",
    "    return test_data_df\n",
    "\n",
    "def get_final_test_data(file_name):\n",
    "    result_data = {}\n",
    "    with open(file_name) as result_file:\n",
    "        result_data = json.load(result_file)\n",
    "        \n",
    "    predictions = result_data['final_test_data']['predictions']\n",
    "    ground_truths = result_data['final_test_data']['ground_truths']\n",
    "    total_acc = result_data['final_test_data']['total_acc']\n",
    "    classes_acc = result_data['final_test_data']['classes_acc']\n",
    "    testing_loss = result_data['final_test_data']['testing_loss']\n",
    "    \n",
    "    return total_acc, classes_acc, predictions, ground_truths, testing_loss\n",
    "\n",
    "# saving all the data in a dataframe so that we can easily plot it with plottly\n"
   ]
  },
  {
   "cell_type": "markdown",
   "id": "aa3243dd",
   "metadata": {},
   "source": [
    "## 1. Plotting Training Loss of Clients\n",
    "\n",
    "Clients are picked randomly there is no gurantee that all the clients have equal number of training epochs."
   ]
  },
  {
   "cell_type": "code",
   "execution_count": 3,
   "id": "06c4f300",
   "metadata": {},
   "outputs": [
    {
     "ename": "FileNotFoundError",
     "evalue": "[Errno 2] No such file or directory: '/home/fnx11/thesis/codes/CosDefence/json_files/mnist_C0.1_P0.2_FDRS30_LR0.001_OptAdam.txt'",
     "output_type": "error",
     "traceback": [
      "\u001b[0;31m---------------------------------------------------------------------------\u001b[0m",
      "\u001b[0;31mFileNotFoundError\u001b[0m                         Traceback (most recent call last)",
      "\u001b[0;32m<ipython-input-3-a26a925fdad0>\u001b[0m in \u001b[0;36m<module>\u001b[0;34m\u001b[0m\n\u001b[0;32m----> 1\u001b[0;31m \u001b[0mavg_training_losses\u001b[0m \u001b[0;34m=\u001b[0m \u001b[0mget_training_losses\u001b[0m\u001b[0;34m(\u001b[0m\u001b[0mfile_p_frac20\u001b[0m\u001b[0;34m)\u001b[0m\u001b[0;34m\u001b[0m\u001b[0;34m\u001b[0m\u001b[0m\n\u001b[0m",
      "\u001b[0;32m<ipython-input-2-e79a4dd4f11b>\u001b[0m in \u001b[0;36mget_training_losses\u001b[0;34m(file_name)\u001b[0m\n\u001b[1;32m     37\u001b[0m \u001b[0;32mdef\u001b[0m \u001b[0mget_training_losses\u001b[0m\u001b[0;34m(\u001b[0m\u001b[0mfile_name\u001b[0m\u001b[0;34m)\u001b[0m\u001b[0;34m:\u001b[0m\u001b[0;34m\u001b[0m\u001b[0;34m\u001b[0m\u001b[0m\n\u001b[1;32m     38\u001b[0m     \u001b[0mresult_data\u001b[0m \u001b[0;34m=\u001b[0m \u001b[0;34m{\u001b[0m\u001b[0;34m}\u001b[0m\u001b[0;34m\u001b[0m\u001b[0;34m\u001b[0m\u001b[0m\n\u001b[0;32m---> 39\u001b[0;31m     \u001b[0;32mwith\u001b[0m \u001b[0mopen\u001b[0m\u001b[0;34m(\u001b[0m\u001b[0mfile_name\u001b[0m\u001b[0;34m)\u001b[0m \u001b[0;32mas\u001b[0m \u001b[0mresult_file\u001b[0m\u001b[0;34m:\u001b[0m\u001b[0;34m\u001b[0m\u001b[0;34m\u001b[0m\u001b[0m\n\u001b[0m\u001b[1;32m     40\u001b[0m         \u001b[0mresult_data\u001b[0m \u001b[0;34m=\u001b[0m \u001b[0mjson\u001b[0m\u001b[0;34m.\u001b[0m\u001b[0mload\u001b[0m\u001b[0;34m(\u001b[0m\u001b[0mresult_file\u001b[0m\u001b[0;34m)\u001b[0m\u001b[0;34m\u001b[0m\u001b[0;34m\u001b[0m\u001b[0m\n\u001b[1;32m     41\u001b[0m \u001b[0;34m\u001b[0m\u001b[0m\n",
      "\u001b[0;31mFileNotFoundError\u001b[0m: [Errno 2] No such file or directory: '/home/fnx11/thesis/codes/CosDefence/json_files/mnist_C0.1_P0.2_FDRS30_LR0.001_OptAdam.txt'"
     ]
    }
   ],
   "source": [
    "avg_training_losses = get_training_losses(file_p_frac20)"
   ]
  },
  {
   "cell_type": "code",
   "execution_count": 15,
   "id": "6fcc0ce6",
   "metadata": {
    "scrolled": false
   },
   "outputs": [
    {
     "data": {
      "application/vnd.plotly.v1+json": {
       "config": {
        "plotlyServerURL": "https://plot.ly"
       },
       "data": [
        {
         "mode": "lines",
         "name": "Training Loss",
         "type": "scatter",
         "x": [
          0,
          1,
          2,
          3,
          4,
          5,
          6,
          7,
          8,
          9,
          10,
          11,
          12,
          13,
          14,
          15,
          16,
          17,
          18,
          19,
          20,
          21,
          22,
          23,
          24,
          25,
          26,
          27,
          28,
          29
         ],
         "y": [
          1.939447462522224,
          1.8308595750553933,
          1.646201653720117,
          1.3886935134831466,
          1.240395838058983,
          1.1165889764532182,
          0.8874131595856264,
          0.8568726409938844,
          0.833672591068727,
          0.7141952640485981,
          0.641863261272802,
          0.578986554373713,
          0.5455380003096413,
          0.5051496817029593,
          0.535856043689084,
          0.45536844652493064,
          0.4697416911951686,
          0.45708980463883464,
          0.3718420947564072,
          0.3437049946419018,
          0.466588413029197,
          0.42259253205402814,
          0.3336851161452668,
          0.3686129695534998,
          0.31037424837385175,
          0.32147955080732105,
          0.29796401900638747,
          0.28447063893773683,
          0.2692734027851211,
          0.24736463422042446
         ]
        }
       ],
       "layout": {
        "template": {
         "data": {
          "bar": [
           {
            "error_x": {
             "color": "#2a3f5f"
            },
            "error_y": {
             "color": "#2a3f5f"
            },
            "marker": {
             "line": {
              "color": "#E5ECF6",
              "width": 0.5
             }
            },
            "type": "bar"
           }
          ],
          "barpolar": [
           {
            "marker": {
             "line": {
              "color": "#E5ECF6",
              "width": 0.5
             }
            },
            "type": "barpolar"
           }
          ],
          "carpet": [
           {
            "aaxis": {
             "endlinecolor": "#2a3f5f",
             "gridcolor": "white",
             "linecolor": "white",
             "minorgridcolor": "white",
             "startlinecolor": "#2a3f5f"
            },
            "baxis": {
             "endlinecolor": "#2a3f5f",
             "gridcolor": "white",
             "linecolor": "white",
             "minorgridcolor": "white",
             "startlinecolor": "#2a3f5f"
            },
            "type": "carpet"
           }
          ],
          "choropleth": [
           {
            "colorbar": {
             "outlinewidth": 0,
             "ticks": ""
            },
            "type": "choropleth"
           }
          ],
          "contour": [
           {
            "colorbar": {
             "outlinewidth": 0,
             "ticks": ""
            },
            "colorscale": [
             [
              0,
              "#0d0887"
             ],
             [
              0.1111111111111111,
              "#46039f"
             ],
             [
              0.2222222222222222,
              "#7201a8"
             ],
             [
              0.3333333333333333,
              "#9c179e"
             ],
             [
              0.4444444444444444,
              "#bd3786"
             ],
             [
              0.5555555555555556,
              "#d8576b"
             ],
             [
              0.6666666666666666,
              "#ed7953"
             ],
             [
              0.7777777777777778,
              "#fb9f3a"
             ],
             [
              0.8888888888888888,
              "#fdca26"
             ],
             [
              1,
              "#f0f921"
             ]
            ],
            "type": "contour"
           }
          ],
          "contourcarpet": [
           {
            "colorbar": {
             "outlinewidth": 0,
             "ticks": ""
            },
            "type": "contourcarpet"
           }
          ],
          "heatmap": [
           {
            "colorbar": {
             "outlinewidth": 0,
             "ticks": ""
            },
            "colorscale": [
             [
              0,
              "#0d0887"
             ],
             [
              0.1111111111111111,
              "#46039f"
             ],
             [
              0.2222222222222222,
              "#7201a8"
             ],
             [
              0.3333333333333333,
              "#9c179e"
             ],
             [
              0.4444444444444444,
              "#bd3786"
             ],
             [
              0.5555555555555556,
              "#d8576b"
             ],
             [
              0.6666666666666666,
              "#ed7953"
             ],
             [
              0.7777777777777778,
              "#fb9f3a"
             ],
             [
              0.8888888888888888,
              "#fdca26"
             ],
             [
              1,
              "#f0f921"
             ]
            ],
            "type": "heatmap"
           }
          ],
          "heatmapgl": [
           {
            "colorbar": {
             "outlinewidth": 0,
             "ticks": ""
            },
            "colorscale": [
             [
              0,
              "#0d0887"
             ],
             [
              0.1111111111111111,
              "#46039f"
             ],
             [
              0.2222222222222222,
              "#7201a8"
             ],
             [
              0.3333333333333333,
              "#9c179e"
             ],
             [
              0.4444444444444444,
              "#bd3786"
             ],
             [
              0.5555555555555556,
              "#d8576b"
             ],
             [
              0.6666666666666666,
              "#ed7953"
             ],
             [
              0.7777777777777778,
              "#fb9f3a"
             ],
             [
              0.8888888888888888,
              "#fdca26"
             ],
             [
              1,
              "#f0f921"
             ]
            ],
            "type": "heatmapgl"
           }
          ],
          "histogram": [
           {
            "marker": {
             "colorbar": {
              "outlinewidth": 0,
              "ticks": ""
             }
            },
            "type": "histogram"
           }
          ],
          "histogram2d": [
           {
            "colorbar": {
             "outlinewidth": 0,
             "ticks": ""
            },
            "colorscale": [
             [
              0,
              "#0d0887"
             ],
             [
              0.1111111111111111,
              "#46039f"
             ],
             [
              0.2222222222222222,
              "#7201a8"
             ],
             [
              0.3333333333333333,
              "#9c179e"
             ],
             [
              0.4444444444444444,
              "#bd3786"
             ],
             [
              0.5555555555555556,
              "#d8576b"
             ],
             [
              0.6666666666666666,
              "#ed7953"
             ],
             [
              0.7777777777777778,
              "#fb9f3a"
             ],
             [
              0.8888888888888888,
              "#fdca26"
             ],
             [
              1,
              "#f0f921"
             ]
            ],
            "type": "histogram2d"
           }
          ],
          "histogram2dcontour": [
           {
            "colorbar": {
             "outlinewidth": 0,
             "ticks": ""
            },
            "colorscale": [
             [
              0,
              "#0d0887"
             ],
             [
              0.1111111111111111,
              "#46039f"
             ],
             [
              0.2222222222222222,
              "#7201a8"
             ],
             [
              0.3333333333333333,
              "#9c179e"
             ],
             [
              0.4444444444444444,
              "#bd3786"
             ],
             [
              0.5555555555555556,
              "#d8576b"
             ],
             [
              0.6666666666666666,
              "#ed7953"
             ],
             [
              0.7777777777777778,
              "#fb9f3a"
             ],
             [
              0.8888888888888888,
              "#fdca26"
             ],
             [
              1,
              "#f0f921"
             ]
            ],
            "type": "histogram2dcontour"
           }
          ],
          "mesh3d": [
           {
            "colorbar": {
             "outlinewidth": 0,
             "ticks": ""
            },
            "type": "mesh3d"
           }
          ],
          "parcoords": [
           {
            "line": {
             "colorbar": {
              "outlinewidth": 0,
              "ticks": ""
             }
            },
            "type": "parcoords"
           }
          ],
          "pie": [
           {
            "automargin": true,
            "type": "pie"
           }
          ],
          "scatter": [
           {
            "marker": {
             "colorbar": {
              "outlinewidth": 0,
              "ticks": ""
             }
            },
            "type": "scatter"
           }
          ],
          "scatter3d": [
           {
            "line": {
             "colorbar": {
              "outlinewidth": 0,
              "ticks": ""
             }
            },
            "marker": {
             "colorbar": {
              "outlinewidth": 0,
              "ticks": ""
             }
            },
            "type": "scatter3d"
           }
          ],
          "scattercarpet": [
           {
            "marker": {
             "colorbar": {
              "outlinewidth": 0,
              "ticks": ""
             }
            },
            "type": "scattercarpet"
           }
          ],
          "scattergeo": [
           {
            "marker": {
             "colorbar": {
              "outlinewidth": 0,
              "ticks": ""
             }
            },
            "type": "scattergeo"
           }
          ],
          "scattergl": [
           {
            "marker": {
             "colorbar": {
              "outlinewidth": 0,
              "ticks": ""
             }
            },
            "type": "scattergl"
           }
          ],
          "scattermapbox": [
           {
            "marker": {
             "colorbar": {
              "outlinewidth": 0,
              "ticks": ""
             }
            },
            "type": "scattermapbox"
           }
          ],
          "scatterpolar": [
           {
            "marker": {
             "colorbar": {
              "outlinewidth": 0,
              "ticks": ""
             }
            },
            "type": "scatterpolar"
           }
          ],
          "scatterpolargl": [
           {
            "marker": {
             "colorbar": {
              "outlinewidth": 0,
              "ticks": ""
             }
            },
            "type": "scatterpolargl"
           }
          ],
          "scatterternary": [
           {
            "marker": {
             "colorbar": {
              "outlinewidth": 0,
              "ticks": ""
             }
            },
            "type": "scatterternary"
           }
          ],
          "surface": [
           {
            "colorbar": {
             "outlinewidth": 0,
             "ticks": ""
            },
            "colorscale": [
             [
              0,
              "#0d0887"
             ],
             [
              0.1111111111111111,
              "#46039f"
             ],
             [
              0.2222222222222222,
              "#7201a8"
             ],
             [
              0.3333333333333333,
              "#9c179e"
             ],
             [
              0.4444444444444444,
              "#bd3786"
             ],
             [
              0.5555555555555556,
              "#d8576b"
             ],
             [
              0.6666666666666666,
              "#ed7953"
             ],
             [
              0.7777777777777778,
              "#fb9f3a"
             ],
             [
              0.8888888888888888,
              "#fdca26"
             ],
             [
              1,
              "#f0f921"
             ]
            ],
            "type": "surface"
           }
          ],
          "table": [
           {
            "cells": {
             "fill": {
              "color": "#EBF0F8"
             },
             "line": {
              "color": "white"
             }
            },
            "header": {
             "fill": {
              "color": "#C8D4E3"
             },
             "line": {
              "color": "white"
             }
            },
            "type": "table"
           }
          ]
         },
         "layout": {
          "annotationdefaults": {
           "arrowcolor": "#2a3f5f",
           "arrowhead": 0,
           "arrowwidth": 1
          },
          "autotypenumbers": "strict",
          "coloraxis": {
           "colorbar": {
            "outlinewidth": 0,
            "ticks": ""
           }
          },
          "colorscale": {
           "diverging": [
            [
             0,
             "#8e0152"
            ],
            [
             0.1,
             "#c51b7d"
            ],
            [
             0.2,
             "#de77ae"
            ],
            [
             0.3,
             "#f1b6da"
            ],
            [
             0.4,
             "#fde0ef"
            ],
            [
             0.5,
             "#f7f7f7"
            ],
            [
             0.6,
             "#e6f5d0"
            ],
            [
             0.7,
             "#b8e186"
            ],
            [
             0.8,
             "#7fbc41"
            ],
            [
             0.9,
             "#4d9221"
            ],
            [
             1,
             "#276419"
            ]
           ],
           "sequential": [
            [
             0,
             "#0d0887"
            ],
            [
             0.1111111111111111,
             "#46039f"
            ],
            [
             0.2222222222222222,
             "#7201a8"
            ],
            [
             0.3333333333333333,
             "#9c179e"
            ],
            [
             0.4444444444444444,
             "#bd3786"
            ],
            [
             0.5555555555555556,
             "#d8576b"
            ],
            [
             0.6666666666666666,
             "#ed7953"
            ],
            [
             0.7777777777777778,
             "#fb9f3a"
            ],
            [
             0.8888888888888888,
             "#fdca26"
            ],
            [
             1,
             "#f0f921"
            ]
           ],
           "sequentialminus": [
            [
             0,
             "#0d0887"
            ],
            [
             0.1111111111111111,
             "#46039f"
            ],
            [
             0.2222222222222222,
             "#7201a8"
            ],
            [
             0.3333333333333333,
             "#9c179e"
            ],
            [
             0.4444444444444444,
             "#bd3786"
            ],
            [
             0.5555555555555556,
             "#d8576b"
            ],
            [
             0.6666666666666666,
             "#ed7953"
            ],
            [
             0.7777777777777778,
             "#fb9f3a"
            ],
            [
             0.8888888888888888,
             "#fdca26"
            ],
            [
             1,
             "#f0f921"
            ]
           ]
          },
          "colorway": [
           "#636efa",
           "#EF553B",
           "#00cc96",
           "#ab63fa",
           "#FFA15A",
           "#19d3f3",
           "#FF6692",
           "#B6E880",
           "#FF97FF",
           "#FECB52"
          ],
          "font": {
           "color": "#2a3f5f"
          },
          "geo": {
           "bgcolor": "white",
           "lakecolor": "white",
           "landcolor": "#E5ECF6",
           "showlakes": true,
           "showland": true,
           "subunitcolor": "white"
          },
          "hoverlabel": {
           "align": "left"
          },
          "hovermode": "closest",
          "mapbox": {
           "style": "light"
          },
          "paper_bgcolor": "white",
          "plot_bgcolor": "#E5ECF6",
          "polar": {
           "angularaxis": {
            "gridcolor": "white",
            "linecolor": "white",
            "ticks": ""
           },
           "bgcolor": "#E5ECF6",
           "radialaxis": {
            "gridcolor": "white",
            "linecolor": "white",
            "ticks": ""
           }
          },
          "scene": {
           "xaxis": {
            "backgroundcolor": "#E5ECF6",
            "gridcolor": "white",
            "gridwidth": 2,
            "linecolor": "white",
            "showbackground": true,
            "ticks": "",
            "zerolinecolor": "white"
           },
           "yaxis": {
            "backgroundcolor": "#E5ECF6",
            "gridcolor": "white",
            "gridwidth": 2,
            "linecolor": "white",
            "showbackground": true,
            "ticks": "",
            "zerolinecolor": "white"
           },
           "zaxis": {
            "backgroundcolor": "#E5ECF6",
            "gridcolor": "white",
            "gridwidth": 2,
            "linecolor": "white",
            "showbackground": true,
            "ticks": "",
            "zerolinecolor": "white"
           }
          },
          "shapedefaults": {
           "line": {
            "color": "#2a3f5f"
           }
          },
          "ternary": {
           "aaxis": {
            "gridcolor": "white",
            "linecolor": "white",
            "ticks": ""
           },
           "baxis": {
            "gridcolor": "white",
            "linecolor": "white",
            "ticks": ""
           },
           "bgcolor": "#E5ECF6",
           "caxis": {
            "gridcolor": "white",
            "linecolor": "white",
            "ticks": ""
           }
          },
          "title": {
           "x": 0.05
          },
          "xaxis": {
           "automargin": true,
           "gridcolor": "white",
           "linecolor": "white",
           "ticks": "",
           "title": {
            "standoff": 15
           },
           "zerolinecolor": "white",
           "zerolinewidth": 2
          },
          "yaxis": {
           "automargin": true,
           "gridcolor": "white",
           "linecolor": "white",
           "ticks": "",
           "title": {
            "standoff": 15
           },
           "zerolinecolor": "white",
           "zerolinewidth": 2
          }
         }
        },
        "title": {
         "text": "Training Losses"
        },
        "xaxis": {
         "title": {
          "text": "Epoch"
         }
        },
        "yaxis": {
         "title": {
          "text": "Loss"
         }
        }
       }
      },
      "text/html": [
       "<div>                            <div id=\"bd034489-ed02-4180-9d56-a662c0b439f8\" class=\"plotly-graph-div\" style=\"height:525px; width:100%;\"></div>            <script type=\"text/javascript\">                require([\"plotly\"], function(Plotly) {                    window.PLOTLYENV=window.PLOTLYENV || {};                                    if (document.getElementById(\"bd034489-ed02-4180-9d56-a662c0b439f8\")) {                    Plotly.newPlot(                        \"bd034489-ed02-4180-9d56-a662c0b439f8\",                        [{\"mode\": \"lines\", \"name\": \"Training Loss\", \"type\": \"scatter\", \"x\": [0, 1, 2, 3, 4, 5, 6, 7, 8, 9, 10, 11, 12, 13, 14, 15, 16, 17, 18, 19, 20, 21, 22, 23, 24, 25, 26, 27, 28, 29], \"y\": [1.939447462522224, 1.8308595750553933, 1.646201653720117, 1.3886935134831466, 1.240395838058983, 1.1165889764532182, 0.8874131595856264, 0.8568726409938844, 0.833672591068727, 0.7141952640485981, 0.641863261272802, 0.578986554373713, 0.5455380003096413, 0.5051496817029593, 0.535856043689084, 0.45536844652493064, 0.4697416911951686, 0.45708980463883464, 0.3718420947564072, 0.3437049946419018, 0.466588413029197, 0.42259253205402814, 0.3336851161452668, 0.3686129695534998, 0.31037424837385175, 0.32147955080732105, 0.29796401900638747, 0.28447063893773683, 0.2692734027851211, 0.24736463422042446]}],                        {\"template\": {\"data\": {\"bar\": [{\"error_x\": {\"color\": \"#2a3f5f\"}, \"error_y\": {\"color\": \"#2a3f5f\"}, \"marker\": {\"line\": {\"color\": \"#E5ECF6\", \"width\": 0.5}}, \"type\": \"bar\"}], \"barpolar\": [{\"marker\": {\"line\": {\"color\": \"#E5ECF6\", \"width\": 0.5}}, \"type\": \"barpolar\"}], \"carpet\": [{\"aaxis\": {\"endlinecolor\": \"#2a3f5f\", \"gridcolor\": \"white\", \"linecolor\": \"white\", \"minorgridcolor\": \"white\", \"startlinecolor\": \"#2a3f5f\"}, \"baxis\": {\"endlinecolor\": \"#2a3f5f\", \"gridcolor\": \"white\", \"linecolor\": \"white\", \"minorgridcolor\": \"white\", \"startlinecolor\": \"#2a3f5f\"}, \"type\": \"carpet\"}], \"choropleth\": [{\"colorbar\": {\"outlinewidth\": 0, \"ticks\": \"\"}, \"type\": \"choropleth\"}], \"contour\": [{\"colorbar\": {\"outlinewidth\": 0, \"ticks\": \"\"}, \"colorscale\": [[0.0, \"#0d0887\"], [0.1111111111111111, \"#46039f\"], [0.2222222222222222, \"#7201a8\"], [0.3333333333333333, \"#9c179e\"], [0.4444444444444444, \"#bd3786\"], [0.5555555555555556, \"#d8576b\"], [0.6666666666666666, \"#ed7953\"], [0.7777777777777778, \"#fb9f3a\"], [0.8888888888888888, \"#fdca26\"], [1.0, \"#f0f921\"]], \"type\": \"contour\"}], \"contourcarpet\": [{\"colorbar\": {\"outlinewidth\": 0, \"ticks\": \"\"}, \"type\": \"contourcarpet\"}], \"heatmap\": [{\"colorbar\": {\"outlinewidth\": 0, \"ticks\": \"\"}, \"colorscale\": [[0.0, \"#0d0887\"], [0.1111111111111111, \"#46039f\"], [0.2222222222222222, \"#7201a8\"], [0.3333333333333333, \"#9c179e\"], [0.4444444444444444, \"#bd3786\"], [0.5555555555555556, \"#d8576b\"], [0.6666666666666666, \"#ed7953\"], [0.7777777777777778, \"#fb9f3a\"], [0.8888888888888888, \"#fdca26\"], [1.0, \"#f0f921\"]], \"type\": \"heatmap\"}], \"heatmapgl\": [{\"colorbar\": {\"outlinewidth\": 0, \"ticks\": \"\"}, \"colorscale\": [[0.0, \"#0d0887\"], [0.1111111111111111, \"#46039f\"], [0.2222222222222222, \"#7201a8\"], [0.3333333333333333, \"#9c179e\"], [0.4444444444444444, \"#bd3786\"], [0.5555555555555556, \"#d8576b\"], [0.6666666666666666, \"#ed7953\"], [0.7777777777777778, \"#fb9f3a\"], [0.8888888888888888, \"#fdca26\"], [1.0, \"#f0f921\"]], \"type\": \"heatmapgl\"}], \"histogram\": [{\"marker\": {\"colorbar\": {\"outlinewidth\": 0, \"ticks\": \"\"}}, \"type\": \"histogram\"}], \"histogram2d\": [{\"colorbar\": {\"outlinewidth\": 0, \"ticks\": \"\"}, \"colorscale\": [[0.0, \"#0d0887\"], [0.1111111111111111, \"#46039f\"], [0.2222222222222222, \"#7201a8\"], [0.3333333333333333, \"#9c179e\"], [0.4444444444444444, \"#bd3786\"], [0.5555555555555556, \"#d8576b\"], [0.6666666666666666, \"#ed7953\"], [0.7777777777777778, \"#fb9f3a\"], [0.8888888888888888, \"#fdca26\"], [1.0, \"#f0f921\"]], \"type\": \"histogram2d\"}], \"histogram2dcontour\": [{\"colorbar\": {\"outlinewidth\": 0, \"ticks\": \"\"}, \"colorscale\": [[0.0, \"#0d0887\"], [0.1111111111111111, \"#46039f\"], [0.2222222222222222, \"#7201a8\"], [0.3333333333333333, \"#9c179e\"], [0.4444444444444444, \"#bd3786\"], [0.5555555555555556, \"#d8576b\"], [0.6666666666666666, \"#ed7953\"], [0.7777777777777778, \"#fb9f3a\"], [0.8888888888888888, \"#fdca26\"], [1.0, \"#f0f921\"]], \"type\": \"histogram2dcontour\"}], \"mesh3d\": [{\"colorbar\": {\"outlinewidth\": 0, \"ticks\": \"\"}, \"type\": \"mesh3d\"}], \"parcoords\": [{\"line\": {\"colorbar\": {\"outlinewidth\": 0, \"ticks\": \"\"}}, \"type\": \"parcoords\"}], \"pie\": [{\"automargin\": true, \"type\": \"pie\"}], \"scatter\": [{\"marker\": {\"colorbar\": {\"outlinewidth\": 0, \"ticks\": \"\"}}, \"type\": \"scatter\"}], \"scatter3d\": [{\"line\": {\"colorbar\": {\"outlinewidth\": 0, \"ticks\": \"\"}}, \"marker\": {\"colorbar\": {\"outlinewidth\": 0, \"ticks\": \"\"}}, \"type\": \"scatter3d\"}], \"scattercarpet\": [{\"marker\": {\"colorbar\": {\"outlinewidth\": 0, \"ticks\": \"\"}}, \"type\": \"scattercarpet\"}], \"scattergeo\": [{\"marker\": {\"colorbar\": {\"outlinewidth\": 0, \"ticks\": \"\"}}, \"type\": \"scattergeo\"}], \"scattergl\": [{\"marker\": {\"colorbar\": {\"outlinewidth\": 0, \"ticks\": \"\"}}, \"type\": \"scattergl\"}], \"scattermapbox\": [{\"marker\": {\"colorbar\": {\"outlinewidth\": 0, \"ticks\": \"\"}}, \"type\": \"scattermapbox\"}], \"scatterpolar\": [{\"marker\": {\"colorbar\": {\"outlinewidth\": 0, \"ticks\": \"\"}}, \"type\": \"scatterpolar\"}], \"scatterpolargl\": [{\"marker\": {\"colorbar\": {\"outlinewidth\": 0, \"ticks\": \"\"}}, \"type\": \"scatterpolargl\"}], \"scatterternary\": [{\"marker\": {\"colorbar\": {\"outlinewidth\": 0, \"ticks\": \"\"}}, \"type\": \"scatterternary\"}], \"surface\": [{\"colorbar\": {\"outlinewidth\": 0, \"ticks\": \"\"}, \"colorscale\": [[0.0, \"#0d0887\"], [0.1111111111111111, \"#46039f\"], [0.2222222222222222, \"#7201a8\"], [0.3333333333333333, \"#9c179e\"], [0.4444444444444444, \"#bd3786\"], [0.5555555555555556, \"#d8576b\"], [0.6666666666666666, \"#ed7953\"], [0.7777777777777778, \"#fb9f3a\"], [0.8888888888888888, \"#fdca26\"], [1.0, \"#f0f921\"]], \"type\": \"surface\"}], \"table\": [{\"cells\": {\"fill\": {\"color\": \"#EBF0F8\"}, \"line\": {\"color\": \"white\"}}, \"header\": {\"fill\": {\"color\": \"#C8D4E3\"}, \"line\": {\"color\": \"white\"}}, \"type\": \"table\"}]}, \"layout\": {\"annotationdefaults\": {\"arrowcolor\": \"#2a3f5f\", \"arrowhead\": 0, \"arrowwidth\": 1}, \"autotypenumbers\": \"strict\", \"coloraxis\": {\"colorbar\": {\"outlinewidth\": 0, \"ticks\": \"\"}}, \"colorscale\": {\"diverging\": [[0, \"#8e0152\"], [0.1, \"#c51b7d\"], [0.2, \"#de77ae\"], [0.3, \"#f1b6da\"], [0.4, \"#fde0ef\"], [0.5, \"#f7f7f7\"], [0.6, \"#e6f5d0\"], [0.7, \"#b8e186\"], [0.8, \"#7fbc41\"], [0.9, \"#4d9221\"], [1, \"#276419\"]], \"sequential\": [[0.0, \"#0d0887\"], [0.1111111111111111, \"#46039f\"], [0.2222222222222222, \"#7201a8\"], [0.3333333333333333, \"#9c179e\"], [0.4444444444444444, \"#bd3786\"], [0.5555555555555556, \"#d8576b\"], [0.6666666666666666, \"#ed7953\"], [0.7777777777777778, \"#fb9f3a\"], [0.8888888888888888, \"#fdca26\"], [1.0, \"#f0f921\"]], \"sequentialminus\": [[0.0, \"#0d0887\"], [0.1111111111111111, \"#46039f\"], [0.2222222222222222, \"#7201a8\"], [0.3333333333333333, \"#9c179e\"], [0.4444444444444444, \"#bd3786\"], [0.5555555555555556, \"#d8576b\"], [0.6666666666666666, \"#ed7953\"], [0.7777777777777778, \"#fb9f3a\"], [0.8888888888888888, \"#fdca26\"], [1.0, \"#f0f921\"]]}, \"colorway\": [\"#636efa\", \"#EF553B\", \"#00cc96\", \"#ab63fa\", \"#FFA15A\", \"#19d3f3\", \"#FF6692\", \"#B6E880\", \"#FF97FF\", \"#FECB52\"], \"font\": {\"color\": \"#2a3f5f\"}, \"geo\": {\"bgcolor\": \"white\", \"lakecolor\": \"white\", \"landcolor\": \"#E5ECF6\", \"showlakes\": true, \"showland\": true, \"subunitcolor\": \"white\"}, \"hoverlabel\": {\"align\": \"left\"}, \"hovermode\": \"closest\", \"mapbox\": {\"style\": \"light\"}, \"paper_bgcolor\": \"white\", \"plot_bgcolor\": \"#E5ECF6\", \"polar\": {\"angularaxis\": {\"gridcolor\": \"white\", \"linecolor\": \"white\", \"ticks\": \"\"}, \"bgcolor\": \"#E5ECF6\", \"radialaxis\": {\"gridcolor\": \"white\", \"linecolor\": \"white\", \"ticks\": \"\"}}, \"scene\": {\"xaxis\": {\"backgroundcolor\": \"#E5ECF6\", \"gridcolor\": \"white\", \"gridwidth\": 2, \"linecolor\": \"white\", \"showbackground\": true, \"ticks\": \"\", \"zerolinecolor\": \"white\"}, \"yaxis\": {\"backgroundcolor\": \"#E5ECF6\", \"gridcolor\": \"white\", \"gridwidth\": 2, \"linecolor\": \"white\", \"showbackground\": true, \"ticks\": \"\", \"zerolinecolor\": \"white\"}, \"zaxis\": {\"backgroundcolor\": \"#E5ECF6\", \"gridcolor\": \"white\", \"gridwidth\": 2, \"linecolor\": \"white\", \"showbackground\": true, \"ticks\": \"\", \"zerolinecolor\": \"white\"}}, \"shapedefaults\": {\"line\": {\"color\": \"#2a3f5f\"}}, \"ternary\": {\"aaxis\": {\"gridcolor\": \"white\", \"linecolor\": \"white\", \"ticks\": \"\"}, \"baxis\": {\"gridcolor\": \"white\", \"linecolor\": \"white\", \"ticks\": \"\"}, \"bgcolor\": \"#E5ECF6\", \"caxis\": {\"gridcolor\": \"white\", \"linecolor\": \"white\", \"ticks\": \"\"}}, \"title\": {\"x\": 0.05}, \"xaxis\": {\"automargin\": true, \"gridcolor\": \"white\", \"linecolor\": \"white\", \"ticks\": \"\", \"title\": {\"standoff\": 15}, \"zerolinecolor\": \"white\", \"zerolinewidth\": 2}, \"yaxis\": {\"automargin\": true, \"gridcolor\": \"white\", \"linecolor\": \"white\", \"ticks\": \"\", \"title\": {\"standoff\": 15}, \"zerolinecolor\": \"white\", \"zerolinewidth\": 2}}}, \"title\": {\"text\": \"Training Losses\"}, \"xaxis\": {\"title\": {\"text\": \"Epoch\"}}, \"yaxis\": {\"title\": {\"text\": \"Loss\"}}},                        {\"responsive\": true}                    ).then(function(){\n",
       "                            \n",
       "var gd = document.getElementById('bd034489-ed02-4180-9d56-a662c0b439f8');\n",
       "var x = new MutationObserver(function (mutations, observer) {{\n",
       "        var display = window.getComputedStyle(gd).display;\n",
       "        if (!display || display === 'none') {{\n",
       "            console.log([gd, 'removed!']);\n",
       "            Plotly.purge(gd);\n",
       "            observer.disconnect();\n",
       "        }}\n",
       "}});\n",
       "\n",
       "// Listen for the removal of the full notebook cells\n",
       "var notebookContainer = gd.closest('#notebook-container');\n",
       "if (notebookContainer) {{\n",
       "    x.observe(notebookContainer, {childList: true});\n",
       "}}\n",
       "\n",
       "// Listen for the clearing of the current output cell\n",
       "var outputEl = gd.closest('.output');\n",
       "if (outputEl) {{\n",
       "    x.observe(outputEl, {childList: true});\n",
       "}}\n",
       "\n",
       "                        })                };                });            </script>        </div>"
      ]
     },
     "metadata": {},
     "output_type": "display_data"
    }
   ],
   "source": [
    "fig = go.Figure()\n",
    "# for i in range(100):\n",
    "#     losses = client_training_losses[i][:100]\n",
    "#     fig.add_trace(go.Scatter(x=np.arange(len(losses)), y=losses,\n",
    "#                     mode='lines+markers',\n",
    "#                     name=f'client{i}'))\n",
    "\n",
    "fig.add_trace(go.Scatter(x=np.arange(len(avg_training_losses)), y=avg_training_losses,\n",
    "                    mode='lines',\n",
    "                    name=f'Training Loss'))\n",
    "\n",
    "fig.update_layout(title='Training Losses',\n",
    "                   xaxis_title='Epoch',\n",
    "                   yaxis_title='Loss')\n",
    "fig.show()"
   ]
  },
  {
   "cell_type": "markdown",
   "id": "24b1854e",
   "metadata": {},
   "source": [
    "## 2. Plotting Testing Loss and Accuracies\n",
    "\n",
    "Testing and accuracy calculation is done at every 10th round(can be changed)."
   ]
  },
  {
   "cell_type": "code",
   "execution_count": 16,
   "id": "943aaf83",
   "metadata": {},
   "outputs": [
    {
     "data": {
      "text/html": [
       "<div>\n",
       "<style scoped>\n",
       "    .dataframe tbody tr th:only-of-type {\n",
       "        vertical-align: middle;\n",
       "    }\n",
       "\n",
       "    .dataframe tbody tr th {\n",
       "        vertical-align: top;\n",
       "    }\n",
       "\n",
       "    .dataframe thead th {\n",
       "        text-align: right;\n",
       "    }\n",
       "</style>\n",
       "<table border=\"1\" class=\"dataframe\">\n",
       "  <thead>\n",
       "    <tr style=\"text-align: right;\">\n",
       "      <th></th>\n",
       "      <th>round_num</th>\n",
       "      <th>testing_loss</th>\n",
       "      <th>total_acc</th>\n",
       "      <th>avg_precision</th>\n",
       "      <th>avg_recall</th>\n",
       "      <th>avg_f1score</th>\n",
       "      <th>class_0_acc</th>\n",
       "      <th>class_0_precision</th>\n",
       "      <th>class_0_recall</th>\n",
       "      <th>class_0_f1score</th>\n",
       "      <th>...</th>\n",
       "      <th>class_7_recall</th>\n",
       "      <th>class_7_f1score</th>\n",
       "      <th>class_8_acc</th>\n",
       "      <th>class_8_precision</th>\n",
       "      <th>class_8_recall</th>\n",
       "      <th>class_8_f1score</th>\n",
       "      <th>class_9_acc</th>\n",
       "      <th>class_9_precision</th>\n",
       "      <th>class_9_recall</th>\n",
       "      <th>class_9_f1score</th>\n",
       "    </tr>\n",
       "  </thead>\n",
       "  <tbody>\n",
       "    <tr>\n",
       "      <th>0</th>\n",
       "      <td>3</td>\n",
       "      <td>0.050803</td>\n",
       "      <td>51.19</td>\n",
       "      <td>0.691059</td>\n",
       "      <td>0.5119</td>\n",
       "      <td>0.446473</td>\n",
       "      <td>98.061224</td>\n",
       "      <td>0.486582</td>\n",
       "      <td>0.980612</td>\n",
       "      <td>0.650423</td>\n",
       "      <td>...</td>\n",
       "      <td>0.257782</td>\n",
       "      <td>0.407379</td>\n",
       "      <td>0.000000</td>\n",
       "      <td>1.000000</td>\n",
       "      <td>0.000000</td>\n",
       "      <td>0.000000</td>\n",
       "      <td>3.171457</td>\n",
       "      <td>0.888889</td>\n",
       "      <td>0.031715</td>\n",
       "      <td>0.061244</td>\n",
       "    </tr>\n",
       "    <tr>\n",
       "      <th>1</th>\n",
       "      <td>6</td>\n",
       "      <td>0.029256</td>\n",
       "      <td>72.85</td>\n",
       "      <td>0.749570</td>\n",
       "      <td>0.7285</td>\n",
       "      <td>0.707174</td>\n",
       "      <td>97.755102</td>\n",
       "      <td>0.778229</td>\n",
       "      <td>0.977551</td>\n",
       "      <td>0.866576</td>\n",
       "      <td>...</td>\n",
       "      <td>0.761673</td>\n",
       "      <td>0.813506</td>\n",
       "      <td>53.080082</td>\n",
       "      <td>0.810345</td>\n",
       "      <td>0.530801</td>\n",
       "      <td>0.641439</td>\n",
       "      <td>18.334985</td>\n",
       "      <td>0.728346</td>\n",
       "      <td>0.183350</td>\n",
       "      <td>0.292953</td>\n",
       "    </tr>\n",
       "    <tr>\n",
       "      <th>2</th>\n",
       "      <td>9</td>\n",
       "      <td>0.023956</td>\n",
       "      <td>77.22</td>\n",
       "      <td>0.799095</td>\n",
       "      <td>0.7722</td>\n",
       "      <td>0.755298</td>\n",
       "      <td>95.918367</td>\n",
       "      <td>0.911736</td>\n",
       "      <td>0.959184</td>\n",
       "      <td>0.934858</td>\n",
       "      <td>...</td>\n",
       "      <td>0.874514</td>\n",
       "      <td>0.874088</td>\n",
       "      <td>62.217659</td>\n",
       "      <td>0.736330</td>\n",
       "      <td>0.622177</td>\n",
       "      <td>0.674457</td>\n",
       "      <td>78.394450</td>\n",
       "      <td>0.560993</td>\n",
       "      <td>0.783944</td>\n",
       "      <td>0.653989</td>\n",
       "    </tr>\n",
       "    <tr>\n",
       "      <th>3</th>\n",
       "      <td>12</td>\n",
       "      <td>0.017194</td>\n",
       "      <td>83.46</td>\n",
       "      <td>0.844055</td>\n",
       "      <td>0.8346</td>\n",
       "      <td>0.832335</td>\n",
       "      <td>95.918367</td>\n",
       "      <td>0.926108</td>\n",
       "      <td>0.959184</td>\n",
       "      <td>0.942356</td>\n",
       "      <td>...</td>\n",
       "      <td>0.853113</td>\n",
       "      <td>0.883182</td>\n",
       "      <td>73.305955</td>\n",
       "      <td>0.795987</td>\n",
       "      <td>0.733060</td>\n",
       "      <td>0.763228</td>\n",
       "      <td>77.502478</td>\n",
       "      <td>0.699463</td>\n",
       "      <td>0.775025</td>\n",
       "      <td>0.735308</td>\n",
       "    </tr>\n",
       "    <tr>\n",
       "      <th>4</th>\n",
       "      <td>15</td>\n",
       "      <td>0.015321</td>\n",
       "      <td>85.26</td>\n",
       "      <td>0.858032</td>\n",
       "      <td>0.8526</td>\n",
       "      <td>0.848557</td>\n",
       "      <td>97.244898</td>\n",
       "      <td>0.925243</td>\n",
       "      <td>0.972449</td>\n",
       "      <td>0.948259</td>\n",
       "      <td>...</td>\n",
       "      <td>0.910506</td>\n",
       "      <td>0.888467</td>\n",
       "      <td>77.618070</td>\n",
       "      <td>0.789144</td>\n",
       "      <td>0.776181</td>\n",
       "      <td>0.782609</td>\n",
       "      <td>77.106046</td>\n",
       "      <td>0.784274</td>\n",
       "      <td>0.771060</td>\n",
       "      <td>0.777611</td>\n",
       "    </tr>\n",
       "    <tr>\n",
       "      <th>5</th>\n",
       "      <td>18</td>\n",
       "      <td>0.012611</td>\n",
       "      <td>87.55</td>\n",
       "      <td>0.878318</td>\n",
       "      <td>0.8755</td>\n",
       "      <td>0.874640</td>\n",
       "      <td>97.755102</td>\n",
       "      <td>0.914995</td>\n",
       "      <td>0.977551</td>\n",
       "      <td>0.945239</td>\n",
       "      <td>...</td>\n",
       "      <td>0.893969</td>\n",
       "      <td>0.896585</td>\n",
       "      <td>84.086242</td>\n",
       "      <td>0.794374</td>\n",
       "      <td>0.840862</td>\n",
       "      <td>0.816958</td>\n",
       "      <td>81.169475</td>\n",
       "      <td>0.806897</td>\n",
       "      <td>0.811695</td>\n",
       "      <td>0.809289</td>\n",
       "    </tr>\n",
       "    <tr>\n",
       "      <th>6</th>\n",
       "      <td>21</td>\n",
       "      <td>0.012262</td>\n",
       "      <td>87.62</td>\n",
       "      <td>0.882813</td>\n",
       "      <td>0.8762</td>\n",
       "      <td>0.875050</td>\n",
       "      <td>97.653061</td>\n",
       "      <td>0.921078</td>\n",
       "      <td>0.976531</td>\n",
       "      <td>0.947994</td>\n",
       "      <td>...</td>\n",
       "      <td>0.887160</td>\n",
       "      <td>0.903418</td>\n",
       "      <td>89.938398</td>\n",
       "      <td>0.748718</td>\n",
       "      <td>0.899384</td>\n",
       "      <td>0.817164</td>\n",
       "      <td>84.440040</td>\n",
       "      <td>0.787431</td>\n",
       "      <td>0.844400</td>\n",
       "      <td>0.814921</td>\n",
       "    </tr>\n",
       "    <tr>\n",
       "      <th>7</th>\n",
       "      <td>24</td>\n",
       "      <td>0.012186</td>\n",
       "      <td>87.89</td>\n",
       "      <td>0.886135</td>\n",
       "      <td>0.8789</td>\n",
       "      <td>0.876756</td>\n",
       "      <td>96.938776</td>\n",
       "      <td>0.934120</td>\n",
       "      <td>0.969388</td>\n",
       "      <td>0.951427</td>\n",
       "      <td>...</td>\n",
       "      <td>0.885214</td>\n",
       "      <td>0.912738</td>\n",
       "      <td>86.960986</td>\n",
       "      <td>0.798303</td>\n",
       "      <td>0.869610</td>\n",
       "      <td>0.832432</td>\n",
       "      <td>87.809713</td>\n",
       "      <td>0.754043</td>\n",
       "      <td>0.878097</td>\n",
       "      <td>0.811355</td>\n",
       "    </tr>\n",
       "    <tr>\n",
       "      <th>8</th>\n",
       "      <td>27</td>\n",
       "      <td>0.009698</td>\n",
       "      <td>90.35</td>\n",
       "      <td>0.904738</td>\n",
       "      <td>0.9035</td>\n",
       "      <td>0.902887</td>\n",
       "      <td>97.755102</td>\n",
       "      <td>0.922929</td>\n",
       "      <td>0.977551</td>\n",
       "      <td>0.949455</td>\n",
       "      <td>...</td>\n",
       "      <td>0.915370</td>\n",
       "      <td>0.908740</td>\n",
       "      <td>84.188912</td>\n",
       "      <td>0.886486</td>\n",
       "      <td>0.841889</td>\n",
       "      <td>0.863612</td>\n",
       "      <td>87.314172</td>\n",
       "      <td>0.847115</td>\n",
       "      <td>0.873142</td>\n",
       "      <td>0.859932</td>\n",
       "    </tr>\n",
       "    <tr>\n",
       "      <th>9</th>\n",
       "      <td>30</td>\n",
       "      <td>0.008380</td>\n",
       "      <td>91.79</td>\n",
       "      <td>0.918260</td>\n",
       "      <td>0.9179</td>\n",
       "      <td>0.917540</td>\n",
       "      <td>98.061224</td>\n",
       "      <td>0.930300</td>\n",
       "      <td>0.980612</td>\n",
       "      <td>0.954794</td>\n",
       "      <td>...</td>\n",
       "      <td>0.904669</td>\n",
       "      <td>0.925373</td>\n",
       "      <td>86.242300</td>\n",
       "      <td>0.910076</td>\n",
       "      <td>0.862423</td>\n",
       "      <td>0.885609</td>\n",
       "      <td>86.323092</td>\n",
       "      <td>0.903527</td>\n",
       "      <td>0.863231</td>\n",
       "      <td>0.882919</td>\n",
       "    </tr>\n",
       "  </tbody>\n",
       "</table>\n",
       "<p>10 rows × 46 columns</p>\n",
       "</div>"
      ],
      "text/plain": [
       "   round_num  testing_loss  total_acc  avg_precision  avg_recall  avg_f1score  \\\n",
       "0          3      0.050803      51.19       0.691059      0.5119     0.446473   \n",
       "1          6      0.029256      72.85       0.749570      0.7285     0.707174   \n",
       "2          9      0.023956      77.22       0.799095      0.7722     0.755298   \n",
       "3         12      0.017194      83.46       0.844055      0.8346     0.832335   \n",
       "4         15      0.015321      85.26       0.858032      0.8526     0.848557   \n",
       "5         18      0.012611      87.55       0.878318      0.8755     0.874640   \n",
       "6         21      0.012262      87.62       0.882813      0.8762     0.875050   \n",
       "7         24      0.012186      87.89       0.886135      0.8789     0.876756   \n",
       "8         27      0.009698      90.35       0.904738      0.9035     0.902887   \n",
       "9         30      0.008380      91.79       0.918260      0.9179     0.917540   \n",
       "\n",
       "   class_0_acc  class_0_precision  class_0_recall  class_0_f1score  ...  \\\n",
       "0    98.061224           0.486582        0.980612         0.650423  ...   \n",
       "1    97.755102           0.778229        0.977551         0.866576  ...   \n",
       "2    95.918367           0.911736        0.959184         0.934858  ...   \n",
       "3    95.918367           0.926108        0.959184         0.942356  ...   \n",
       "4    97.244898           0.925243        0.972449         0.948259  ...   \n",
       "5    97.755102           0.914995        0.977551         0.945239  ...   \n",
       "6    97.653061           0.921078        0.976531         0.947994  ...   \n",
       "7    96.938776           0.934120        0.969388         0.951427  ...   \n",
       "8    97.755102           0.922929        0.977551         0.949455  ...   \n",
       "9    98.061224           0.930300        0.980612         0.954794  ...   \n",
       "\n",
       "   class_7_recall  class_7_f1score  class_8_acc  class_8_precision  \\\n",
       "0        0.257782         0.407379     0.000000           1.000000   \n",
       "1        0.761673         0.813506    53.080082           0.810345   \n",
       "2        0.874514         0.874088    62.217659           0.736330   \n",
       "3        0.853113         0.883182    73.305955           0.795987   \n",
       "4        0.910506         0.888467    77.618070           0.789144   \n",
       "5        0.893969         0.896585    84.086242           0.794374   \n",
       "6        0.887160         0.903418    89.938398           0.748718   \n",
       "7        0.885214         0.912738    86.960986           0.798303   \n",
       "8        0.915370         0.908740    84.188912           0.886486   \n",
       "9        0.904669         0.925373    86.242300           0.910076   \n",
       "\n",
       "   class_8_recall  class_8_f1score  class_9_acc  class_9_precision  \\\n",
       "0        0.000000         0.000000     3.171457           0.888889   \n",
       "1        0.530801         0.641439    18.334985           0.728346   \n",
       "2        0.622177         0.674457    78.394450           0.560993   \n",
       "3        0.733060         0.763228    77.502478           0.699463   \n",
       "4        0.776181         0.782609    77.106046           0.784274   \n",
       "5        0.840862         0.816958    81.169475           0.806897   \n",
       "6        0.899384         0.817164    84.440040           0.787431   \n",
       "7        0.869610         0.832432    87.809713           0.754043   \n",
       "8        0.841889         0.863612    87.314172           0.847115   \n",
       "9        0.862423         0.885609    86.323092           0.903527   \n",
       "\n",
       "   class_9_recall  class_9_f1score  \n",
       "0        0.031715         0.061244  \n",
       "1        0.183350         0.292953  \n",
       "2        0.783944         0.653989  \n",
       "3        0.775025         0.735308  \n",
       "4        0.771060         0.777611  \n",
       "5        0.811695         0.809289  \n",
       "6        0.844400         0.814921  \n",
       "7        0.878097         0.811355  \n",
       "8        0.873142         0.859932  \n",
       "9        0.863231         0.882919  \n",
       "\n",
       "[10 rows x 46 columns]"
      ]
     },
     "execution_count": 16,
     "metadata": {},
     "output_type": "execute_result"
    }
   ],
   "source": [
    "data_df = get_test_data_df(file_p_frac20)\n",
    "data_df.head(40) # we know that we trained for 800 rounds and tested every 10 round."
   ]
  },
  {
   "cell_type": "markdown",
   "id": "ce6f0b95",
   "metadata": {},
   "source": [
    "### A. Comparing All accuracies"
   ]
  },
  {
   "cell_type": "code",
   "execution_count": 17,
   "id": "62da9ab8",
   "metadata": {},
   "outputs": [
    {
     "data": {
      "application/vnd.plotly.v1+json": {
       "config": {
        "plotlyServerURL": "https://plot.ly"
       },
       "data": [
        {
         "mode": "lines+markers",
         "name": "total_acc",
         "type": "scatter",
         "x": [
          3,
          6,
          9,
          12,
          15,
          18,
          21,
          24,
          27,
          30
         ],
         "y": [
          51.19,
          72.85,
          77.22,
          83.46,
          85.26,
          87.55,
          87.62,
          87.89,
          90.35,
          91.79
         ]
        },
        {
         "mode": "lines+markers",
         "name": "class_0_acc",
         "type": "scatter",
         "x": [
          3,
          6,
          9,
          12,
          15,
          18,
          21,
          24,
          27,
          30
         ],
         "y": [
          98.06122448979592,
          97.75510204081633,
          95.91836734693878,
          95.91836734693878,
          97.24489795918367,
          97.75510204081633,
          97.65306122448979,
          96.93877551020408,
          97.75510204081633,
          98.06122448979592
         ]
        },
        {
         "mode": "lines+markers",
         "name": "class_1_acc",
         "type": "scatter",
         "x": [
          3,
          6,
          9,
          12,
          15,
          18,
          21,
          24,
          27,
          30
         ],
         "y": [
          98.94273127753304,
          98.50220264317181,
          97.79735682819383,
          97.26872246696036,
          97.18061674008811,
          96.82819383259911,
          96.2114537444934,
          97.00440528634361,
          97.3568281938326,
          98.06167400881057
         ]
        },
        {
         "mode": "lines+markers",
         "name": "class_2_acc",
         "type": "scatter",
         "x": [
          3,
          6,
          9,
          12,
          15,
          18,
          21,
          24,
          27,
          30
         ],
         "y": [
          76.06589147286822,
          58.042635658914726,
          21.22093023255814,
          58.62403100775194,
          56.104651162790695,
          71.70542635658914,
          65.31007751937985,
          59.883720930232556,
          78.58527131782945,
          88.56589147286822
         ]
        },
        {
         "mode": "lines+markers",
         "name": "class_3_acc",
         "type": "scatter",
         "x": [
          3,
          6,
          9,
          12,
          15,
          18,
          21,
          24,
          27,
          30
         ],
         "y": [
          75.74257425742574,
          82.57425742574257,
          77.82178217821782,
          82.07920792079207,
          87.72277227722772,
          84.45544554455445,
          86.93069306930693,
          88.61386138613861,
          89.60396039603961,
          91.38613861386139
         ]
        },
        {
         "mode": "lines+markers",
         "name": "class_4_acc",
         "type": "scatter",
         "x": [
          3,
          6,
          9,
          12,
          15,
          18,
          21,
          24,
          27,
          30
         ],
         "y": [
          48.37067209775967,
          92.4643584521385,
          79.42973523421588,
          88.59470468431772,
          92.87169042769857,
          91.85336048879837,
          90.93686354378819,
          92.36252545824847,
          93.48268839103869,
          96.02851323828921
         ]
        },
        {
         "mode": "lines+markers",
         "name": "class_5_acc",
         "type": "scatter",
         "x": [
          3,
          6,
          9,
          12,
          15,
          18,
          21,
          24,
          27,
          30
         ],
         "y": [
          30.044843049327355,
          58.408071748878925,
          82.95964125560538,
          78.69955156950672,
          81.16591928251121,
          85.31390134529148,
          83.07174887892377,
          89.01345291479821,
          89.12556053811659,
          88.00448430493273
         ]
        },
        {
         "mode": "lines+markers",
         "name": "class_6_acc",
         "type": "scatter",
         "x": [
          3,
          6,
          9,
          12,
          15,
          18,
          21,
          24,
          27,
          30
         ],
         "y": [
          46.45093945720251,
          89.97912317327766,
          88.83089770354906,
          96.34655532359082,
          93.84133611691023,
          92.37995824634656,
          92.58872651356994,
          91.9624217118998,
          94.05010438413362,
          93.84133611691023
         ]
        },
        {
         "mode": "lines+markers",
         "name": "class_7_acc",
         "type": "scatter",
         "x": [
          3,
          6,
          9,
          12,
          15,
          18,
          21,
          24,
          27,
          30
         ],
         "y": [
          25.77821011673152,
          76.16731517509727,
          87.45136186770428,
          85.3112840466926,
          91.05058365758755,
          89.39688715953308,
          88.715953307393,
          88.52140077821012,
          91.53696498054475,
          90.46692607003891
         ]
        },
        {
         "mode": "lines+markers",
         "name": "class_8_acc",
         "type": "scatter",
         "x": [
          3,
          6,
          9,
          12,
          15,
          18,
          21,
          24,
          27,
          30
         ],
         "y": [
          0,
          53.08008213552361,
          62.217659137577,
          73.30595482546201,
          77.61806981519507,
          84.08624229979466,
          89.93839835728953,
          86.96098562628337,
          84.18891170431212,
          86.24229979466119
         ]
        },
        {
         "mode": "lines+markers",
         "name": "class_9_acc",
         "type": "scatter",
         "x": [
          3,
          6,
          9,
          12,
          15,
          18,
          21,
          24,
          27,
          30
         ],
         "y": [
          3.1714568880079286,
          18.334985133795836,
          78.39444995044599,
          77.50247770069376,
          77.10604558969277,
          81.16947472745292,
          84.4400396432111,
          87.80971258671953,
          87.31417244796829,
          86.32309217046581
         ]
        }
       ],
       "layout": {
        "template": {
         "data": {
          "bar": [
           {
            "error_x": {
             "color": "#2a3f5f"
            },
            "error_y": {
             "color": "#2a3f5f"
            },
            "marker": {
             "line": {
              "color": "#E5ECF6",
              "width": 0.5
             }
            },
            "type": "bar"
           }
          ],
          "barpolar": [
           {
            "marker": {
             "line": {
              "color": "#E5ECF6",
              "width": 0.5
             }
            },
            "type": "barpolar"
           }
          ],
          "carpet": [
           {
            "aaxis": {
             "endlinecolor": "#2a3f5f",
             "gridcolor": "white",
             "linecolor": "white",
             "minorgridcolor": "white",
             "startlinecolor": "#2a3f5f"
            },
            "baxis": {
             "endlinecolor": "#2a3f5f",
             "gridcolor": "white",
             "linecolor": "white",
             "minorgridcolor": "white",
             "startlinecolor": "#2a3f5f"
            },
            "type": "carpet"
           }
          ],
          "choropleth": [
           {
            "colorbar": {
             "outlinewidth": 0,
             "ticks": ""
            },
            "type": "choropleth"
           }
          ],
          "contour": [
           {
            "colorbar": {
             "outlinewidth": 0,
             "ticks": ""
            },
            "colorscale": [
             [
              0,
              "#0d0887"
             ],
             [
              0.1111111111111111,
              "#46039f"
             ],
             [
              0.2222222222222222,
              "#7201a8"
             ],
             [
              0.3333333333333333,
              "#9c179e"
             ],
             [
              0.4444444444444444,
              "#bd3786"
             ],
             [
              0.5555555555555556,
              "#d8576b"
             ],
             [
              0.6666666666666666,
              "#ed7953"
             ],
             [
              0.7777777777777778,
              "#fb9f3a"
             ],
             [
              0.8888888888888888,
              "#fdca26"
             ],
             [
              1,
              "#f0f921"
             ]
            ],
            "type": "contour"
           }
          ],
          "contourcarpet": [
           {
            "colorbar": {
             "outlinewidth": 0,
             "ticks": ""
            },
            "type": "contourcarpet"
           }
          ],
          "heatmap": [
           {
            "colorbar": {
             "outlinewidth": 0,
             "ticks": ""
            },
            "colorscale": [
             [
              0,
              "#0d0887"
             ],
             [
              0.1111111111111111,
              "#46039f"
             ],
             [
              0.2222222222222222,
              "#7201a8"
             ],
             [
              0.3333333333333333,
              "#9c179e"
             ],
             [
              0.4444444444444444,
              "#bd3786"
             ],
             [
              0.5555555555555556,
              "#d8576b"
             ],
             [
              0.6666666666666666,
              "#ed7953"
             ],
             [
              0.7777777777777778,
              "#fb9f3a"
             ],
             [
              0.8888888888888888,
              "#fdca26"
             ],
             [
              1,
              "#f0f921"
             ]
            ],
            "type": "heatmap"
           }
          ],
          "heatmapgl": [
           {
            "colorbar": {
             "outlinewidth": 0,
             "ticks": ""
            },
            "colorscale": [
             [
              0,
              "#0d0887"
             ],
             [
              0.1111111111111111,
              "#46039f"
             ],
             [
              0.2222222222222222,
              "#7201a8"
             ],
             [
              0.3333333333333333,
              "#9c179e"
             ],
             [
              0.4444444444444444,
              "#bd3786"
             ],
             [
              0.5555555555555556,
              "#d8576b"
             ],
             [
              0.6666666666666666,
              "#ed7953"
             ],
             [
              0.7777777777777778,
              "#fb9f3a"
             ],
             [
              0.8888888888888888,
              "#fdca26"
             ],
             [
              1,
              "#f0f921"
             ]
            ],
            "type": "heatmapgl"
           }
          ],
          "histogram": [
           {
            "marker": {
             "colorbar": {
              "outlinewidth": 0,
              "ticks": ""
             }
            },
            "type": "histogram"
           }
          ],
          "histogram2d": [
           {
            "colorbar": {
             "outlinewidth": 0,
             "ticks": ""
            },
            "colorscale": [
             [
              0,
              "#0d0887"
             ],
             [
              0.1111111111111111,
              "#46039f"
             ],
             [
              0.2222222222222222,
              "#7201a8"
             ],
             [
              0.3333333333333333,
              "#9c179e"
             ],
             [
              0.4444444444444444,
              "#bd3786"
             ],
             [
              0.5555555555555556,
              "#d8576b"
             ],
             [
              0.6666666666666666,
              "#ed7953"
             ],
             [
              0.7777777777777778,
              "#fb9f3a"
             ],
             [
              0.8888888888888888,
              "#fdca26"
             ],
             [
              1,
              "#f0f921"
             ]
            ],
            "type": "histogram2d"
           }
          ],
          "histogram2dcontour": [
           {
            "colorbar": {
             "outlinewidth": 0,
             "ticks": ""
            },
            "colorscale": [
             [
              0,
              "#0d0887"
             ],
             [
              0.1111111111111111,
              "#46039f"
             ],
             [
              0.2222222222222222,
              "#7201a8"
             ],
             [
              0.3333333333333333,
              "#9c179e"
             ],
             [
              0.4444444444444444,
              "#bd3786"
             ],
             [
              0.5555555555555556,
              "#d8576b"
             ],
             [
              0.6666666666666666,
              "#ed7953"
             ],
             [
              0.7777777777777778,
              "#fb9f3a"
             ],
             [
              0.8888888888888888,
              "#fdca26"
             ],
             [
              1,
              "#f0f921"
             ]
            ],
            "type": "histogram2dcontour"
           }
          ],
          "mesh3d": [
           {
            "colorbar": {
             "outlinewidth": 0,
             "ticks": ""
            },
            "type": "mesh3d"
           }
          ],
          "parcoords": [
           {
            "line": {
             "colorbar": {
              "outlinewidth": 0,
              "ticks": ""
             }
            },
            "type": "parcoords"
           }
          ],
          "pie": [
           {
            "automargin": true,
            "type": "pie"
           }
          ],
          "scatter": [
           {
            "marker": {
             "colorbar": {
              "outlinewidth": 0,
              "ticks": ""
             }
            },
            "type": "scatter"
           }
          ],
          "scatter3d": [
           {
            "line": {
             "colorbar": {
              "outlinewidth": 0,
              "ticks": ""
             }
            },
            "marker": {
             "colorbar": {
              "outlinewidth": 0,
              "ticks": ""
             }
            },
            "type": "scatter3d"
           }
          ],
          "scattercarpet": [
           {
            "marker": {
             "colorbar": {
              "outlinewidth": 0,
              "ticks": ""
             }
            },
            "type": "scattercarpet"
           }
          ],
          "scattergeo": [
           {
            "marker": {
             "colorbar": {
              "outlinewidth": 0,
              "ticks": ""
             }
            },
            "type": "scattergeo"
           }
          ],
          "scattergl": [
           {
            "marker": {
             "colorbar": {
              "outlinewidth": 0,
              "ticks": ""
             }
            },
            "type": "scattergl"
           }
          ],
          "scattermapbox": [
           {
            "marker": {
             "colorbar": {
              "outlinewidth": 0,
              "ticks": ""
             }
            },
            "type": "scattermapbox"
           }
          ],
          "scatterpolar": [
           {
            "marker": {
             "colorbar": {
              "outlinewidth": 0,
              "ticks": ""
             }
            },
            "type": "scatterpolar"
           }
          ],
          "scatterpolargl": [
           {
            "marker": {
             "colorbar": {
              "outlinewidth": 0,
              "ticks": ""
             }
            },
            "type": "scatterpolargl"
           }
          ],
          "scatterternary": [
           {
            "marker": {
             "colorbar": {
              "outlinewidth": 0,
              "ticks": ""
             }
            },
            "type": "scatterternary"
           }
          ],
          "surface": [
           {
            "colorbar": {
             "outlinewidth": 0,
             "ticks": ""
            },
            "colorscale": [
             [
              0,
              "#0d0887"
             ],
             [
              0.1111111111111111,
              "#46039f"
             ],
             [
              0.2222222222222222,
              "#7201a8"
             ],
             [
              0.3333333333333333,
              "#9c179e"
             ],
             [
              0.4444444444444444,
              "#bd3786"
             ],
             [
              0.5555555555555556,
              "#d8576b"
             ],
             [
              0.6666666666666666,
              "#ed7953"
             ],
             [
              0.7777777777777778,
              "#fb9f3a"
             ],
             [
              0.8888888888888888,
              "#fdca26"
             ],
             [
              1,
              "#f0f921"
             ]
            ],
            "type": "surface"
           }
          ],
          "table": [
           {
            "cells": {
             "fill": {
              "color": "#EBF0F8"
             },
             "line": {
              "color": "white"
             }
            },
            "header": {
             "fill": {
              "color": "#C8D4E3"
             },
             "line": {
              "color": "white"
             }
            },
            "type": "table"
           }
          ]
         },
         "layout": {
          "annotationdefaults": {
           "arrowcolor": "#2a3f5f",
           "arrowhead": 0,
           "arrowwidth": 1
          },
          "autotypenumbers": "strict",
          "coloraxis": {
           "colorbar": {
            "outlinewidth": 0,
            "ticks": ""
           }
          },
          "colorscale": {
           "diverging": [
            [
             0,
             "#8e0152"
            ],
            [
             0.1,
             "#c51b7d"
            ],
            [
             0.2,
             "#de77ae"
            ],
            [
             0.3,
             "#f1b6da"
            ],
            [
             0.4,
             "#fde0ef"
            ],
            [
             0.5,
             "#f7f7f7"
            ],
            [
             0.6,
             "#e6f5d0"
            ],
            [
             0.7,
             "#b8e186"
            ],
            [
             0.8,
             "#7fbc41"
            ],
            [
             0.9,
             "#4d9221"
            ],
            [
             1,
             "#276419"
            ]
           ],
           "sequential": [
            [
             0,
             "#0d0887"
            ],
            [
             0.1111111111111111,
             "#46039f"
            ],
            [
             0.2222222222222222,
             "#7201a8"
            ],
            [
             0.3333333333333333,
             "#9c179e"
            ],
            [
             0.4444444444444444,
             "#bd3786"
            ],
            [
             0.5555555555555556,
             "#d8576b"
            ],
            [
             0.6666666666666666,
             "#ed7953"
            ],
            [
             0.7777777777777778,
             "#fb9f3a"
            ],
            [
             0.8888888888888888,
             "#fdca26"
            ],
            [
             1,
             "#f0f921"
            ]
           ],
           "sequentialminus": [
            [
             0,
             "#0d0887"
            ],
            [
             0.1111111111111111,
             "#46039f"
            ],
            [
             0.2222222222222222,
             "#7201a8"
            ],
            [
             0.3333333333333333,
             "#9c179e"
            ],
            [
             0.4444444444444444,
             "#bd3786"
            ],
            [
             0.5555555555555556,
             "#d8576b"
            ],
            [
             0.6666666666666666,
             "#ed7953"
            ],
            [
             0.7777777777777778,
             "#fb9f3a"
            ],
            [
             0.8888888888888888,
             "#fdca26"
            ],
            [
             1,
             "#f0f921"
            ]
           ]
          },
          "colorway": [
           "#636efa",
           "#EF553B",
           "#00cc96",
           "#ab63fa",
           "#FFA15A",
           "#19d3f3",
           "#FF6692",
           "#B6E880",
           "#FF97FF",
           "#FECB52"
          ],
          "font": {
           "color": "#2a3f5f"
          },
          "geo": {
           "bgcolor": "white",
           "lakecolor": "white",
           "landcolor": "#E5ECF6",
           "showlakes": true,
           "showland": true,
           "subunitcolor": "white"
          },
          "hoverlabel": {
           "align": "left"
          },
          "hovermode": "closest",
          "mapbox": {
           "style": "light"
          },
          "paper_bgcolor": "white",
          "plot_bgcolor": "#E5ECF6",
          "polar": {
           "angularaxis": {
            "gridcolor": "white",
            "linecolor": "white",
            "ticks": ""
           },
           "bgcolor": "#E5ECF6",
           "radialaxis": {
            "gridcolor": "white",
            "linecolor": "white",
            "ticks": ""
           }
          },
          "scene": {
           "xaxis": {
            "backgroundcolor": "#E5ECF6",
            "gridcolor": "white",
            "gridwidth": 2,
            "linecolor": "white",
            "showbackground": true,
            "ticks": "",
            "zerolinecolor": "white"
           },
           "yaxis": {
            "backgroundcolor": "#E5ECF6",
            "gridcolor": "white",
            "gridwidth": 2,
            "linecolor": "white",
            "showbackground": true,
            "ticks": "",
            "zerolinecolor": "white"
           },
           "zaxis": {
            "backgroundcolor": "#E5ECF6",
            "gridcolor": "white",
            "gridwidth": 2,
            "linecolor": "white",
            "showbackground": true,
            "ticks": "",
            "zerolinecolor": "white"
           }
          },
          "shapedefaults": {
           "line": {
            "color": "#2a3f5f"
           }
          },
          "ternary": {
           "aaxis": {
            "gridcolor": "white",
            "linecolor": "white",
            "ticks": ""
           },
           "baxis": {
            "gridcolor": "white",
            "linecolor": "white",
            "ticks": ""
           },
           "bgcolor": "#E5ECF6",
           "caxis": {
            "gridcolor": "white",
            "linecolor": "white",
            "ticks": ""
           }
          },
          "title": {
           "x": 0.05
          },
          "xaxis": {
           "automargin": true,
           "gridcolor": "white",
           "linecolor": "white",
           "ticks": "",
           "title": {
            "standoff": 15
           },
           "zerolinecolor": "white",
           "zerolinewidth": 2
          },
          "yaxis": {
           "automargin": true,
           "gridcolor": "white",
           "linecolor": "white",
           "ticks": "",
           "title": {
            "standoff": 15
           },
           "zerolinecolor": "white",
           "zerolinewidth": 2
          }
         }
        },
        "title": {
         "text": "Accuracy Evolution"
        },
        "xaxis": {
         "title": {
          "text": "Round Num"
         }
        },
        "yaxis": {
         "title": {
          "text": "Accuracy"
         }
        }
       }
      },
      "text/html": [
       "<div>                            <div id=\"3b1b7608-93be-48bc-8e38-15d1e42893b5\" class=\"plotly-graph-div\" style=\"height:525px; width:100%;\"></div>            <script type=\"text/javascript\">                require([\"plotly\"], function(Plotly) {                    window.PLOTLYENV=window.PLOTLYENV || {};                                    if (document.getElementById(\"3b1b7608-93be-48bc-8e38-15d1e42893b5\")) {                    Plotly.newPlot(                        \"3b1b7608-93be-48bc-8e38-15d1e42893b5\",                        [{\"mode\": \"lines+markers\", \"name\": \"total_acc\", \"type\": \"scatter\", \"x\": [3, 6, 9, 12, 15, 18, 21, 24, 27, 30], \"y\": [51.19, 72.85, 77.22, 83.46, 85.26, 87.55, 87.62, 87.89, 90.35, 91.79]}, {\"mode\": \"lines+markers\", \"name\": \"class_0_acc\", \"type\": \"scatter\", \"x\": [3, 6, 9, 12, 15, 18, 21, 24, 27, 30], \"y\": [98.06122448979592, 97.75510204081633, 95.91836734693878, 95.91836734693878, 97.24489795918367, 97.75510204081633, 97.65306122448979, 96.93877551020408, 97.75510204081633, 98.06122448979592]}, {\"mode\": \"lines+markers\", \"name\": \"class_1_acc\", \"type\": \"scatter\", \"x\": [3, 6, 9, 12, 15, 18, 21, 24, 27, 30], \"y\": [98.94273127753304, 98.50220264317181, 97.79735682819383, 97.26872246696036, 97.18061674008811, 96.82819383259911, 96.2114537444934, 97.00440528634361, 97.3568281938326, 98.06167400881057]}, {\"mode\": \"lines+markers\", \"name\": \"class_2_acc\", \"type\": \"scatter\", \"x\": [3, 6, 9, 12, 15, 18, 21, 24, 27, 30], \"y\": [76.06589147286822, 58.042635658914726, 21.22093023255814, 58.62403100775194, 56.104651162790695, 71.70542635658914, 65.31007751937985, 59.883720930232556, 78.58527131782945, 88.56589147286822]}, {\"mode\": \"lines+markers\", \"name\": \"class_3_acc\", \"type\": \"scatter\", \"x\": [3, 6, 9, 12, 15, 18, 21, 24, 27, 30], \"y\": [75.74257425742574, 82.57425742574257, 77.82178217821782, 82.07920792079207, 87.72277227722772, 84.45544554455445, 86.93069306930693, 88.61386138613861, 89.60396039603961, 91.38613861386139]}, {\"mode\": \"lines+markers\", \"name\": \"class_4_acc\", \"type\": \"scatter\", \"x\": [3, 6, 9, 12, 15, 18, 21, 24, 27, 30], \"y\": [48.37067209775967, 92.4643584521385, 79.42973523421588, 88.59470468431772, 92.87169042769857, 91.85336048879837, 90.93686354378819, 92.36252545824847, 93.48268839103869, 96.02851323828921]}, {\"mode\": \"lines+markers\", \"name\": \"class_5_acc\", \"type\": \"scatter\", \"x\": [3, 6, 9, 12, 15, 18, 21, 24, 27, 30], \"y\": [30.044843049327355, 58.408071748878925, 82.95964125560538, 78.69955156950672, 81.16591928251121, 85.31390134529148, 83.07174887892377, 89.01345291479821, 89.12556053811659, 88.00448430493273]}, {\"mode\": \"lines+markers\", \"name\": \"class_6_acc\", \"type\": \"scatter\", \"x\": [3, 6, 9, 12, 15, 18, 21, 24, 27, 30], \"y\": [46.45093945720251, 89.97912317327766, 88.83089770354906, 96.34655532359082, 93.84133611691023, 92.37995824634656, 92.58872651356994, 91.9624217118998, 94.05010438413362, 93.84133611691023]}, {\"mode\": \"lines+markers\", \"name\": \"class_7_acc\", \"type\": \"scatter\", \"x\": [3, 6, 9, 12, 15, 18, 21, 24, 27, 30], \"y\": [25.77821011673152, 76.16731517509727, 87.45136186770428, 85.3112840466926, 91.05058365758755, 89.39688715953308, 88.715953307393, 88.52140077821012, 91.53696498054475, 90.46692607003891]}, {\"mode\": \"lines+markers\", \"name\": \"class_8_acc\", \"type\": \"scatter\", \"x\": [3, 6, 9, 12, 15, 18, 21, 24, 27, 30], \"y\": [0.0, 53.08008213552361, 62.217659137577, 73.30595482546201, 77.61806981519507, 84.08624229979466, 89.93839835728953, 86.96098562628337, 84.18891170431212, 86.24229979466119]}, {\"mode\": \"lines+markers\", \"name\": \"class_9_acc\", \"type\": \"scatter\", \"x\": [3, 6, 9, 12, 15, 18, 21, 24, 27, 30], \"y\": [3.1714568880079286, 18.334985133795836, 78.39444995044599, 77.50247770069376, 77.10604558969277, 81.16947472745292, 84.4400396432111, 87.80971258671953, 87.31417244796829, 86.32309217046581]}],                        {\"template\": {\"data\": {\"bar\": [{\"error_x\": {\"color\": \"#2a3f5f\"}, \"error_y\": {\"color\": \"#2a3f5f\"}, \"marker\": {\"line\": {\"color\": \"#E5ECF6\", \"width\": 0.5}}, \"type\": \"bar\"}], \"barpolar\": [{\"marker\": {\"line\": {\"color\": \"#E5ECF6\", \"width\": 0.5}}, \"type\": \"barpolar\"}], \"carpet\": [{\"aaxis\": {\"endlinecolor\": \"#2a3f5f\", \"gridcolor\": \"white\", \"linecolor\": \"white\", \"minorgridcolor\": \"white\", \"startlinecolor\": \"#2a3f5f\"}, \"baxis\": {\"endlinecolor\": \"#2a3f5f\", \"gridcolor\": \"white\", \"linecolor\": \"white\", \"minorgridcolor\": \"white\", \"startlinecolor\": \"#2a3f5f\"}, \"type\": \"carpet\"}], \"choropleth\": [{\"colorbar\": {\"outlinewidth\": 0, \"ticks\": \"\"}, \"type\": \"choropleth\"}], \"contour\": [{\"colorbar\": {\"outlinewidth\": 0, \"ticks\": \"\"}, \"colorscale\": [[0.0, \"#0d0887\"], [0.1111111111111111, \"#46039f\"], [0.2222222222222222, \"#7201a8\"], [0.3333333333333333, \"#9c179e\"], [0.4444444444444444, \"#bd3786\"], [0.5555555555555556, \"#d8576b\"], [0.6666666666666666, \"#ed7953\"], [0.7777777777777778, \"#fb9f3a\"], [0.8888888888888888, \"#fdca26\"], [1.0, \"#f0f921\"]], \"type\": \"contour\"}], \"contourcarpet\": [{\"colorbar\": {\"outlinewidth\": 0, \"ticks\": \"\"}, \"type\": \"contourcarpet\"}], \"heatmap\": [{\"colorbar\": {\"outlinewidth\": 0, \"ticks\": \"\"}, \"colorscale\": [[0.0, \"#0d0887\"], [0.1111111111111111, \"#46039f\"], [0.2222222222222222, \"#7201a8\"], [0.3333333333333333, \"#9c179e\"], [0.4444444444444444, \"#bd3786\"], [0.5555555555555556, \"#d8576b\"], [0.6666666666666666, \"#ed7953\"], [0.7777777777777778, \"#fb9f3a\"], [0.8888888888888888, \"#fdca26\"], [1.0, \"#f0f921\"]], \"type\": \"heatmap\"}], \"heatmapgl\": [{\"colorbar\": {\"outlinewidth\": 0, \"ticks\": \"\"}, \"colorscale\": [[0.0, \"#0d0887\"], [0.1111111111111111, \"#46039f\"], [0.2222222222222222, \"#7201a8\"], [0.3333333333333333, \"#9c179e\"], [0.4444444444444444, \"#bd3786\"], [0.5555555555555556, \"#d8576b\"], [0.6666666666666666, \"#ed7953\"], [0.7777777777777778, \"#fb9f3a\"], [0.8888888888888888, \"#fdca26\"], [1.0, \"#f0f921\"]], \"type\": \"heatmapgl\"}], \"histogram\": [{\"marker\": {\"colorbar\": {\"outlinewidth\": 0, \"ticks\": \"\"}}, \"type\": \"histogram\"}], \"histogram2d\": [{\"colorbar\": {\"outlinewidth\": 0, \"ticks\": \"\"}, \"colorscale\": [[0.0, \"#0d0887\"], [0.1111111111111111, \"#46039f\"], [0.2222222222222222, \"#7201a8\"], [0.3333333333333333, \"#9c179e\"], [0.4444444444444444, \"#bd3786\"], [0.5555555555555556, \"#d8576b\"], [0.6666666666666666, \"#ed7953\"], [0.7777777777777778, \"#fb9f3a\"], [0.8888888888888888, \"#fdca26\"], [1.0, \"#f0f921\"]], \"type\": \"histogram2d\"}], \"histogram2dcontour\": [{\"colorbar\": {\"outlinewidth\": 0, \"ticks\": \"\"}, \"colorscale\": [[0.0, \"#0d0887\"], [0.1111111111111111, \"#46039f\"], [0.2222222222222222, \"#7201a8\"], [0.3333333333333333, \"#9c179e\"], [0.4444444444444444, \"#bd3786\"], [0.5555555555555556, \"#d8576b\"], [0.6666666666666666, \"#ed7953\"], [0.7777777777777778, \"#fb9f3a\"], [0.8888888888888888, \"#fdca26\"], [1.0, \"#f0f921\"]], \"type\": \"histogram2dcontour\"}], \"mesh3d\": [{\"colorbar\": {\"outlinewidth\": 0, \"ticks\": \"\"}, \"type\": \"mesh3d\"}], \"parcoords\": [{\"line\": {\"colorbar\": {\"outlinewidth\": 0, \"ticks\": \"\"}}, \"type\": \"parcoords\"}], \"pie\": [{\"automargin\": true, \"type\": \"pie\"}], \"scatter\": [{\"marker\": {\"colorbar\": {\"outlinewidth\": 0, \"ticks\": \"\"}}, \"type\": \"scatter\"}], \"scatter3d\": [{\"line\": {\"colorbar\": {\"outlinewidth\": 0, \"ticks\": \"\"}}, \"marker\": {\"colorbar\": {\"outlinewidth\": 0, \"ticks\": \"\"}}, \"type\": \"scatter3d\"}], \"scattercarpet\": [{\"marker\": {\"colorbar\": {\"outlinewidth\": 0, \"ticks\": \"\"}}, \"type\": \"scattercarpet\"}], \"scattergeo\": [{\"marker\": {\"colorbar\": {\"outlinewidth\": 0, \"ticks\": \"\"}}, \"type\": \"scattergeo\"}], \"scattergl\": [{\"marker\": {\"colorbar\": {\"outlinewidth\": 0, \"ticks\": \"\"}}, \"type\": \"scattergl\"}], \"scattermapbox\": [{\"marker\": {\"colorbar\": {\"outlinewidth\": 0, \"ticks\": \"\"}}, \"type\": \"scattermapbox\"}], \"scatterpolar\": [{\"marker\": {\"colorbar\": {\"outlinewidth\": 0, \"ticks\": \"\"}}, \"type\": \"scatterpolar\"}], \"scatterpolargl\": [{\"marker\": {\"colorbar\": {\"outlinewidth\": 0, \"ticks\": \"\"}}, \"type\": \"scatterpolargl\"}], \"scatterternary\": [{\"marker\": {\"colorbar\": {\"outlinewidth\": 0, \"ticks\": \"\"}}, \"type\": \"scatterternary\"}], \"surface\": [{\"colorbar\": {\"outlinewidth\": 0, \"ticks\": \"\"}, \"colorscale\": [[0.0, \"#0d0887\"], [0.1111111111111111, \"#46039f\"], [0.2222222222222222, \"#7201a8\"], [0.3333333333333333, \"#9c179e\"], [0.4444444444444444, \"#bd3786\"], [0.5555555555555556, \"#d8576b\"], [0.6666666666666666, \"#ed7953\"], [0.7777777777777778, \"#fb9f3a\"], [0.8888888888888888, \"#fdca26\"], [1.0, \"#f0f921\"]], \"type\": \"surface\"}], \"table\": [{\"cells\": {\"fill\": {\"color\": \"#EBF0F8\"}, \"line\": {\"color\": \"white\"}}, \"header\": {\"fill\": {\"color\": \"#C8D4E3\"}, \"line\": {\"color\": \"white\"}}, \"type\": \"table\"}]}, \"layout\": {\"annotationdefaults\": {\"arrowcolor\": \"#2a3f5f\", \"arrowhead\": 0, \"arrowwidth\": 1}, \"autotypenumbers\": \"strict\", \"coloraxis\": {\"colorbar\": {\"outlinewidth\": 0, \"ticks\": \"\"}}, \"colorscale\": {\"diverging\": [[0, \"#8e0152\"], [0.1, \"#c51b7d\"], [0.2, \"#de77ae\"], [0.3, \"#f1b6da\"], [0.4, \"#fde0ef\"], [0.5, \"#f7f7f7\"], [0.6, \"#e6f5d0\"], [0.7, \"#b8e186\"], [0.8, \"#7fbc41\"], [0.9, \"#4d9221\"], [1, \"#276419\"]], \"sequential\": [[0.0, \"#0d0887\"], [0.1111111111111111, \"#46039f\"], [0.2222222222222222, \"#7201a8\"], [0.3333333333333333, \"#9c179e\"], [0.4444444444444444, \"#bd3786\"], [0.5555555555555556, \"#d8576b\"], [0.6666666666666666, \"#ed7953\"], [0.7777777777777778, \"#fb9f3a\"], [0.8888888888888888, \"#fdca26\"], [1.0, \"#f0f921\"]], \"sequentialminus\": [[0.0, \"#0d0887\"], [0.1111111111111111, \"#46039f\"], [0.2222222222222222, \"#7201a8\"], [0.3333333333333333, \"#9c179e\"], [0.4444444444444444, \"#bd3786\"], [0.5555555555555556, \"#d8576b\"], [0.6666666666666666, \"#ed7953\"], [0.7777777777777778, \"#fb9f3a\"], [0.8888888888888888, \"#fdca26\"], [1.0, \"#f0f921\"]]}, \"colorway\": [\"#636efa\", \"#EF553B\", \"#00cc96\", \"#ab63fa\", \"#FFA15A\", \"#19d3f3\", \"#FF6692\", \"#B6E880\", \"#FF97FF\", \"#FECB52\"], \"font\": {\"color\": \"#2a3f5f\"}, \"geo\": {\"bgcolor\": \"white\", \"lakecolor\": \"white\", \"landcolor\": \"#E5ECF6\", \"showlakes\": true, \"showland\": true, \"subunitcolor\": \"white\"}, \"hoverlabel\": {\"align\": \"left\"}, \"hovermode\": \"closest\", \"mapbox\": {\"style\": \"light\"}, \"paper_bgcolor\": \"white\", \"plot_bgcolor\": \"#E5ECF6\", \"polar\": {\"angularaxis\": {\"gridcolor\": \"white\", \"linecolor\": \"white\", \"ticks\": \"\"}, \"bgcolor\": \"#E5ECF6\", \"radialaxis\": {\"gridcolor\": \"white\", \"linecolor\": \"white\", \"ticks\": \"\"}}, \"scene\": {\"xaxis\": {\"backgroundcolor\": \"#E5ECF6\", \"gridcolor\": \"white\", \"gridwidth\": 2, \"linecolor\": \"white\", \"showbackground\": true, \"ticks\": \"\", \"zerolinecolor\": \"white\"}, \"yaxis\": {\"backgroundcolor\": \"#E5ECF6\", \"gridcolor\": \"white\", \"gridwidth\": 2, \"linecolor\": \"white\", \"showbackground\": true, \"ticks\": \"\", \"zerolinecolor\": \"white\"}, \"zaxis\": {\"backgroundcolor\": \"#E5ECF6\", \"gridcolor\": \"white\", \"gridwidth\": 2, \"linecolor\": \"white\", \"showbackground\": true, \"ticks\": \"\", \"zerolinecolor\": \"white\"}}, \"shapedefaults\": {\"line\": {\"color\": \"#2a3f5f\"}}, \"ternary\": {\"aaxis\": {\"gridcolor\": \"white\", \"linecolor\": \"white\", \"ticks\": \"\"}, \"baxis\": {\"gridcolor\": \"white\", \"linecolor\": \"white\", \"ticks\": \"\"}, \"bgcolor\": \"#E5ECF6\", \"caxis\": {\"gridcolor\": \"white\", \"linecolor\": \"white\", \"ticks\": \"\"}}, \"title\": {\"x\": 0.05}, \"xaxis\": {\"automargin\": true, \"gridcolor\": \"white\", \"linecolor\": \"white\", \"ticks\": \"\", \"title\": {\"standoff\": 15}, \"zerolinecolor\": \"white\", \"zerolinewidth\": 2}, \"yaxis\": {\"automargin\": true, \"gridcolor\": \"white\", \"linecolor\": \"white\", \"ticks\": \"\", \"title\": {\"standoff\": 15}, \"zerolinecolor\": \"white\", \"zerolinewidth\": 2}}}, \"title\": {\"text\": \"Accuracy Evolution\"}, \"xaxis\": {\"title\": {\"text\": \"Round Num\"}}, \"yaxis\": {\"title\": {\"text\": \"Accuracy\"}}},                        {\"responsive\": true}                    ).then(function(){\n",
       "                            \n",
       "var gd = document.getElementById('3b1b7608-93be-48bc-8e38-15d1e42893b5');\n",
       "var x = new MutationObserver(function (mutations, observer) {{\n",
       "        var display = window.getComputedStyle(gd).display;\n",
       "        if (!display || display === 'none') {{\n",
       "            console.log([gd, 'removed!']);\n",
       "            Plotly.purge(gd);\n",
       "            observer.disconnect();\n",
       "        }}\n",
       "}});\n",
       "\n",
       "// Listen for the removal of the full notebook cells\n",
       "var notebookContainer = gd.closest('#notebook-container');\n",
       "if (notebookContainer) {{\n",
       "    x.observe(notebookContainer, {childList: true});\n",
       "}}\n",
       "\n",
       "// Listen for the clearing of the current output cell\n",
       "var outputEl = gd.closest('.output');\n",
       "if (outputEl) {{\n",
       "    x.observe(outputEl, {childList: true});\n",
       "}}\n",
       "\n",
       "                        })                };                });            </script>        </div>"
      ]
     },
     "metadata": {},
     "output_type": "display_data"
    }
   ],
   "source": [
    "# Create traces\n",
    "fig = go.Figure()\n",
    "fig.add_trace(go.Scatter(x=data_df['round_num'], y=data_df['total_acc'],\n",
    "                    mode='lines+markers',\n",
    "                    name='total_acc'))\n",
    "for i in range(10):\n",
    "    class_name = f'class_{i}_acc'\n",
    "    fig.add_trace(go.Scatter(x=data_df['round_num'], y=data_df[class_name],\n",
    "                        mode='lines+markers',\n",
    "                        name=class_name))\n",
    "\n",
    "fig.update_layout(title='Accuracy Evolution',\n",
    "                   xaxis_title='Round Num',\n",
    "                   yaxis_title='Accuracy')\n",
    "fig.show()\n"
   ]
  },
  {
   "cell_type": "markdown",
   "id": "20a031a6",
   "metadata": {},
   "source": [
    "### B. Comparing Accuracy of Flipped classes(Source and Target)"
   ]
  },
  {
   "cell_type": "code",
   "execution_count": 18,
   "id": "d478ebdd",
   "metadata": {},
   "outputs": [
    {
     "data": {
      "application/vnd.plotly.v1+json": {
       "config": {
        "plotlyServerURL": "https://plot.ly"
       },
       "data": [
        {
         "mode": "lines+markers",
         "name": "total_acc",
         "type": "scatter",
         "x": [
          3,
          6,
          9,
          12,
          15,
          18,
          21,
          24,
          27,
          30
         ],
         "y": [
          51.19,
          72.85,
          77.22,
          83.46,
          85.26,
          87.55,
          87.62,
          87.89,
          90.35,
          91.79
         ]
        },
        {
         "mode": "lines+markers",
         "name": "flipped_source",
         "type": "scatter",
         "x": [
          3,
          6,
          9,
          12,
          15,
          18,
          21,
          24,
          27,
          30
         ],
         "y": [
          76.06589147286822,
          58.042635658914726,
          21.22093023255814,
          58.62403100775194,
          56.104651162790695,
          71.70542635658914,
          65.31007751937985,
          59.883720930232556,
          78.58527131782945,
          88.56589147286822
         ]
        },
        {
         "mode": "lines+markers",
         "name": "flipped_target",
         "type": "scatter",
         "x": [
          3,
          6,
          9,
          12,
          15,
          18,
          21,
          24,
          27,
          30
         ],
         "y": [
          3.1714568880079286,
          18.334985133795836,
          78.39444995044599,
          77.50247770069376,
          77.10604558969277,
          81.16947472745292,
          84.4400396432111,
          87.80971258671953,
          87.31417244796829,
          86.32309217046581
         ]
        }
       ],
       "layout": {
        "template": {
         "data": {
          "bar": [
           {
            "error_x": {
             "color": "#2a3f5f"
            },
            "error_y": {
             "color": "#2a3f5f"
            },
            "marker": {
             "line": {
              "color": "#E5ECF6",
              "width": 0.5
             }
            },
            "type": "bar"
           }
          ],
          "barpolar": [
           {
            "marker": {
             "line": {
              "color": "#E5ECF6",
              "width": 0.5
             }
            },
            "type": "barpolar"
           }
          ],
          "carpet": [
           {
            "aaxis": {
             "endlinecolor": "#2a3f5f",
             "gridcolor": "white",
             "linecolor": "white",
             "minorgridcolor": "white",
             "startlinecolor": "#2a3f5f"
            },
            "baxis": {
             "endlinecolor": "#2a3f5f",
             "gridcolor": "white",
             "linecolor": "white",
             "minorgridcolor": "white",
             "startlinecolor": "#2a3f5f"
            },
            "type": "carpet"
           }
          ],
          "choropleth": [
           {
            "colorbar": {
             "outlinewidth": 0,
             "ticks": ""
            },
            "type": "choropleth"
           }
          ],
          "contour": [
           {
            "colorbar": {
             "outlinewidth": 0,
             "ticks": ""
            },
            "colorscale": [
             [
              0,
              "#0d0887"
             ],
             [
              0.1111111111111111,
              "#46039f"
             ],
             [
              0.2222222222222222,
              "#7201a8"
             ],
             [
              0.3333333333333333,
              "#9c179e"
             ],
             [
              0.4444444444444444,
              "#bd3786"
             ],
             [
              0.5555555555555556,
              "#d8576b"
             ],
             [
              0.6666666666666666,
              "#ed7953"
             ],
             [
              0.7777777777777778,
              "#fb9f3a"
             ],
             [
              0.8888888888888888,
              "#fdca26"
             ],
             [
              1,
              "#f0f921"
             ]
            ],
            "type": "contour"
           }
          ],
          "contourcarpet": [
           {
            "colorbar": {
             "outlinewidth": 0,
             "ticks": ""
            },
            "type": "contourcarpet"
           }
          ],
          "heatmap": [
           {
            "colorbar": {
             "outlinewidth": 0,
             "ticks": ""
            },
            "colorscale": [
             [
              0,
              "#0d0887"
             ],
             [
              0.1111111111111111,
              "#46039f"
             ],
             [
              0.2222222222222222,
              "#7201a8"
             ],
             [
              0.3333333333333333,
              "#9c179e"
             ],
             [
              0.4444444444444444,
              "#bd3786"
             ],
             [
              0.5555555555555556,
              "#d8576b"
             ],
             [
              0.6666666666666666,
              "#ed7953"
             ],
             [
              0.7777777777777778,
              "#fb9f3a"
             ],
             [
              0.8888888888888888,
              "#fdca26"
             ],
             [
              1,
              "#f0f921"
             ]
            ],
            "type": "heatmap"
           }
          ],
          "heatmapgl": [
           {
            "colorbar": {
             "outlinewidth": 0,
             "ticks": ""
            },
            "colorscale": [
             [
              0,
              "#0d0887"
             ],
             [
              0.1111111111111111,
              "#46039f"
             ],
             [
              0.2222222222222222,
              "#7201a8"
             ],
             [
              0.3333333333333333,
              "#9c179e"
             ],
             [
              0.4444444444444444,
              "#bd3786"
             ],
             [
              0.5555555555555556,
              "#d8576b"
             ],
             [
              0.6666666666666666,
              "#ed7953"
             ],
             [
              0.7777777777777778,
              "#fb9f3a"
             ],
             [
              0.8888888888888888,
              "#fdca26"
             ],
             [
              1,
              "#f0f921"
             ]
            ],
            "type": "heatmapgl"
           }
          ],
          "histogram": [
           {
            "marker": {
             "colorbar": {
              "outlinewidth": 0,
              "ticks": ""
             }
            },
            "type": "histogram"
           }
          ],
          "histogram2d": [
           {
            "colorbar": {
             "outlinewidth": 0,
             "ticks": ""
            },
            "colorscale": [
             [
              0,
              "#0d0887"
             ],
             [
              0.1111111111111111,
              "#46039f"
             ],
             [
              0.2222222222222222,
              "#7201a8"
             ],
             [
              0.3333333333333333,
              "#9c179e"
             ],
             [
              0.4444444444444444,
              "#bd3786"
             ],
             [
              0.5555555555555556,
              "#d8576b"
             ],
             [
              0.6666666666666666,
              "#ed7953"
             ],
             [
              0.7777777777777778,
              "#fb9f3a"
             ],
             [
              0.8888888888888888,
              "#fdca26"
             ],
             [
              1,
              "#f0f921"
             ]
            ],
            "type": "histogram2d"
           }
          ],
          "histogram2dcontour": [
           {
            "colorbar": {
             "outlinewidth": 0,
             "ticks": ""
            },
            "colorscale": [
             [
              0,
              "#0d0887"
             ],
             [
              0.1111111111111111,
              "#46039f"
             ],
             [
              0.2222222222222222,
              "#7201a8"
             ],
             [
              0.3333333333333333,
              "#9c179e"
             ],
             [
              0.4444444444444444,
              "#bd3786"
             ],
             [
              0.5555555555555556,
              "#d8576b"
             ],
             [
              0.6666666666666666,
              "#ed7953"
             ],
             [
              0.7777777777777778,
              "#fb9f3a"
             ],
             [
              0.8888888888888888,
              "#fdca26"
             ],
             [
              1,
              "#f0f921"
             ]
            ],
            "type": "histogram2dcontour"
           }
          ],
          "mesh3d": [
           {
            "colorbar": {
             "outlinewidth": 0,
             "ticks": ""
            },
            "type": "mesh3d"
           }
          ],
          "parcoords": [
           {
            "line": {
             "colorbar": {
              "outlinewidth": 0,
              "ticks": ""
             }
            },
            "type": "parcoords"
           }
          ],
          "pie": [
           {
            "automargin": true,
            "type": "pie"
           }
          ],
          "scatter": [
           {
            "marker": {
             "colorbar": {
              "outlinewidth": 0,
              "ticks": ""
             }
            },
            "type": "scatter"
           }
          ],
          "scatter3d": [
           {
            "line": {
             "colorbar": {
              "outlinewidth": 0,
              "ticks": ""
             }
            },
            "marker": {
             "colorbar": {
              "outlinewidth": 0,
              "ticks": ""
             }
            },
            "type": "scatter3d"
           }
          ],
          "scattercarpet": [
           {
            "marker": {
             "colorbar": {
              "outlinewidth": 0,
              "ticks": ""
             }
            },
            "type": "scattercarpet"
           }
          ],
          "scattergeo": [
           {
            "marker": {
             "colorbar": {
              "outlinewidth": 0,
              "ticks": ""
             }
            },
            "type": "scattergeo"
           }
          ],
          "scattergl": [
           {
            "marker": {
             "colorbar": {
              "outlinewidth": 0,
              "ticks": ""
             }
            },
            "type": "scattergl"
           }
          ],
          "scattermapbox": [
           {
            "marker": {
             "colorbar": {
              "outlinewidth": 0,
              "ticks": ""
             }
            },
            "type": "scattermapbox"
           }
          ],
          "scatterpolar": [
           {
            "marker": {
             "colorbar": {
              "outlinewidth": 0,
              "ticks": ""
             }
            },
            "type": "scatterpolar"
           }
          ],
          "scatterpolargl": [
           {
            "marker": {
             "colorbar": {
              "outlinewidth": 0,
              "ticks": ""
             }
            },
            "type": "scatterpolargl"
           }
          ],
          "scatterternary": [
           {
            "marker": {
             "colorbar": {
              "outlinewidth": 0,
              "ticks": ""
             }
            },
            "type": "scatterternary"
           }
          ],
          "surface": [
           {
            "colorbar": {
             "outlinewidth": 0,
             "ticks": ""
            },
            "colorscale": [
             [
              0,
              "#0d0887"
             ],
             [
              0.1111111111111111,
              "#46039f"
             ],
             [
              0.2222222222222222,
              "#7201a8"
             ],
             [
              0.3333333333333333,
              "#9c179e"
             ],
             [
              0.4444444444444444,
              "#bd3786"
             ],
             [
              0.5555555555555556,
              "#d8576b"
             ],
             [
              0.6666666666666666,
              "#ed7953"
             ],
             [
              0.7777777777777778,
              "#fb9f3a"
             ],
             [
              0.8888888888888888,
              "#fdca26"
             ],
             [
              1,
              "#f0f921"
             ]
            ],
            "type": "surface"
           }
          ],
          "table": [
           {
            "cells": {
             "fill": {
              "color": "#EBF0F8"
             },
             "line": {
              "color": "white"
             }
            },
            "header": {
             "fill": {
              "color": "#C8D4E3"
             },
             "line": {
              "color": "white"
             }
            },
            "type": "table"
           }
          ]
         },
         "layout": {
          "annotationdefaults": {
           "arrowcolor": "#2a3f5f",
           "arrowhead": 0,
           "arrowwidth": 1
          },
          "autotypenumbers": "strict",
          "coloraxis": {
           "colorbar": {
            "outlinewidth": 0,
            "ticks": ""
           }
          },
          "colorscale": {
           "diverging": [
            [
             0,
             "#8e0152"
            ],
            [
             0.1,
             "#c51b7d"
            ],
            [
             0.2,
             "#de77ae"
            ],
            [
             0.3,
             "#f1b6da"
            ],
            [
             0.4,
             "#fde0ef"
            ],
            [
             0.5,
             "#f7f7f7"
            ],
            [
             0.6,
             "#e6f5d0"
            ],
            [
             0.7,
             "#b8e186"
            ],
            [
             0.8,
             "#7fbc41"
            ],
            [
             0.9,
             "#4d9221"
            ],
            [
             1,
             "#276419"
            ]
           ],
           "sequential": [
            [
             0,
             "#0d0887"
            ],
            [
             0.1111111111111111,
             "#46039f"
            ],
            [
             0.2222222222222222,
             "#7201a8"
            ],
            [
             0.3333333333333333,
             "#9c179e"
            ],
            [
             0.4444444444444444,
             "#bd3786"
            ],
            [
             0.5555555555555556,
             "#d8576b"
            ],
            [
             0.6666666666666666,
             "#ed7953"
            ],
            [
             0.7777777777777778,
             "#fb9f3a"
            ],
            [
             0.8888888888888888,
             "#fdca26"
            ],
            [
             1,
             "#f0f921"
            ]
           ],
           "sequentialminus": [
            [
             0,
             "#0d0887"
            ],
            [
             0.1111111111111111,
             "#46039f"
            ],
            [
             0.2222222222222222,
             "#7201a8"
            ],
            [
             0.3333333333333333,
             "#9c179e"
            ],
            [
             0.4444444444444444,
             "#bd3786"
            ],
            [
             0.5555555555555556,
             "#d8576b"
            ],
            [
             0.6666666666666666,
             "#ed7953"
            ],
            [
             0.7777777777777778,
             "#fb9f3a"
            ],
            [
             0.8888888888888888,
             "#fdca26"
            ],
            [
             1,
             "#f0f921"
            ]
           ]
          },
          "colorway": [
           "#636efa",
           "#EF553B",
           "#00cc96",
           "#ab63fa",
           "#FFA15A",
           "#19d3f3",
           "#FF6692",
           "#B6E880",
           "#FF97FF",
           "#FECB52"
          ],
          "font": {
           "color": "#2a3f5f"
          },
          "geo": {
           "bgcolor": "white",
           "lakecolor": "white",
           "landcolor": "#E5ECF6",
           "showlakes": true,
           "showland": true,
           "subunitcolor": "white"
          },
          "hoverlabel": {
           "align": "left"
          },
          "hovermode": "closest",
          "mapbox": {
           "style": "light"
          },
          "paper_bgcolor": "white",
          "plot_bgcolor": "#E5ECF6",
          "polar": {
           "angularaxis": {
            "gridcolor": "white",
            "linecolor": "white",
            "ticks": ""
           },
           "bgcolor": "#E5ECF6",
           "radialaxis": {
            "gridcolor": "white",
            "linecolor": "white",
            "ticks": ""
           }
          },
          "scene": {
           "xaxis": {
            "backgroundcolor": "#E5ECF6",
            "gridcolor": "white",
            "gridwidth": 2,
            "linecolor": "white",
            "showbackground": true,
            "ticks": "",
            "zerolinecolor": "white"
           },
           "yaxis": {
            "backgroundcolor": "#E5ECF6",
            "gridcolor": "white",
            "gridwidth": 2,
            "linecolor": "white",
            "showbackground": true,
            "ticks": "",
            "zerolinecolor": "white"
           },
           "zaxis": {
            "backgroundcolor": "#E5ECF6",
            "gridcolor": "white",
            "gridwidth": 2,
            "linecolor": "white",
            "showbackground": true,
            "ticks": "",
            "zerolinecolor": "white"
           }
          },
          "shapedefaults": {
           "line": {
            "color": "#2a3f5f"
           }
          },
          "ternary": {
           "aaxis": {
            "gridcolor": "white",
            "linecolor": "white",
            "ticks": ""
           },
           "baxis": {
            "gridcolor": "white",
            "linecolor": "white",
            "ticks": ""
           },
           "bgcolor": "#E5ECF6",
           "caxis": {
            "gridcolor": "white",
            "linecolor": "white",
            "ticks": ""
           }
          },
          "title": {
           "x": 0.05
          },
          "xaxis": {
           "automargin": true,
           "gridcolor": "white",
           "linecolor": "white",
           "ticks": "",
           "title": {
            "standoff": 15
           },
           "zerolinecolor": "white",
           "zerolinewidth": 2
          },
          "yaxis": {
           "automargin": true,
           "gridcolor": "white",
           "linecolor": "white",
           "ticks": "",
           "title": {
            "standoff": 15
           },
           "zerolinecolor": "white",
           "zerolinewidth": 2
          }
         }
        },
        "title": {
         "text": "Accuracy Evolution"
        },
        "xaxis": {
         "title": {
          "text": "Round Num"
         }
        },
        "yaxis": {
         "title": {
          "text": "Accuracy"
         }
        }
       }
      },
      "text/html": [
       "<div>                            <div id=\"1b2895c1-1b76-408c-af19-d033b03fd165\" class=\"plotly-graph-div\" style=\"height:525px; width:100%;\"></div>            <script type=\"text/javascript\">                require([\"plotly\"], function(Plotly) {                    window.PLOTLYENV=window.PLOTLYENV || {};                                    if (document.getElementById(\"1b2895c1-1b76-408c-af19-d033b03fd165\")) {                    Plotly.newPlot(                        \"1b2895c1-1b76-408c-af19-d033b03fd165\",                        [{\"mode\": \"lines+markers\", \"name\": \"total_acc\", \"type\": \"scatter\", \"x\": [3, 6, 9, 12, 15, 18, 21, 24, 27, 30], \"y\": [51.19, 72.85, 77.22, 83.46, 85.26, 87.55, 87.62, 87.89, 90.35, 91.79]}, {\"mode\": \"lines+markers\", \"name\": \"flipped_source\", \"type\": \"scatter\", \"x\": [3, 6, 9, 12, 15, 18, 21, 24, 27, 30], \"y\": [76.06589147286822, 58.042635658914726, 21.22093023255814, 58.62403100775194, 56.104651162790695, 71.70542635658914, 65.31007751937985, 59.883720930232556, 78.58527131782945, 88.56589147286822]}, {\"mode\": \"lines+markers\", \"name\": \"flipped_target\", \"type\": \"scatter\", \"x\": [3, 6, 9, 12, 15, 18, 21, 24, 27, 30], \"y\": [3.1714568880079286, 18.334985133795836, 78.39444995044599, 77.50247770069376, 77.10604558969277, 81.16947472745292, 84.4400396432111, 87.80971258671953, 87.31417244796829, 86.32309217046581]}],                        {\"template\": {\"data\": {\"bar\": [{\"error_x\": {\"color\": \"#2a3f5f\"}, \"error_y\": {\"color\": \"#2a3f5f\"}, \"marker\": {\"line\": {\"color\": \"#E5ECF6\", \"width\": 0.5}}, \"type\": \"bar\"}], \"barpolar\": [{\"marker\": {\"line\": {\"color\": \"#E5ECF6\", \"width\": 0.5}}, \"type\": \"barpolar\"}], \"carpet\": [{\"aaxis\": {\"endlinecolor\": \"#2a3f5f\", \"gridcolor\": \"white\", \"linecolor\": \"white\", \"minorgridcolor\": \"white\", \"startlinecolor\": \"#2a3f5f\"}, \"baxis\": {\"endlinecolor\": \"#2a3f5f\", \"gridcolor\": \"white\", \"linecolor\": \"white\", \"minorgridcolor\": \"white\", \"startlinecolor\": \"#2a3f5f\"}, \"type\": \"carpet\"}], \"choropleth\": [{\"colorbar\": {\"outlinewidth\": 0, \"ticks\": \"\"}, \"type\": \"choropleth\"}], \"contour\": [{\"colorbar\": {\"outlinewidth\": 0, \"ticks\": \"\"}, \"colorscale\": [[0.0, \"#0d0887\"], [0.1111111111111111, \"#46039f\"], [0.2222222222222222, \"#7201a8\"], [0.3333333333333333, \"#9c179e\"], [0.4444444444444444, \"#bd3786\"], [0.5555555555555556, \"#d8576b\"], [0.6666666666666666, \"#ed7953\"], [0.7777777777777778, \"#fb9f3a\"], [0.8888888888888888, \"#fdca26\"], [1.0, \"#f0f921\"]], \"type\": \"contour\"}], \"contourcarpet\": [{\"colorbar\": {\"outlinewidth\": 0, \"ticks\": \"\"}, \"type\": \"contourcarpet\"}], \"heatmap\": [{\"colorbar\": {\"outlinewidth\": 0, \"ticks\": \"\"}, \"colorscale\": [[0.0, \"#0d0887\"], [0.1111111111111111, \"#46039f\"], [0.2222222222222222, \"#7201a8\"], [0.3333333333333333, \"#9c179e\"], [0.4444444444444444, \"#bd3786\"], [0.5555555555555556, \"#d8576b\"], [0.6666666666666666, \"#ed7953\"], [0.7777777777777778, \"#fb9f3a\"], [0.8888888888888888, \"#fdca26\"], [1.0, \"#f0f921\"]], \"type\": \"heatmap\"}], \"heatmapgl\": [{\"colorbar\": {\"outlinewidth\": 0, \"ticks\": \"\"}, \"colorscale\": [[0.0, \"#0d0887\"], [0.1111111111111111, \"#46039f\"], [0.2222222222222222, \"#7201a8\"], [0.3333333333333333, \"#9c179e\"], [0.4444444444444444, \"#bd3786\"], [0.5555555555555556, \"#d8576b\"], [0.6666666666666666, \"#ed7953\"], [0.7777777777777778, \"#fb9f3a\"], [0.8888888888888888, \"#fdca26\"], [1.0, \"#f0f921\"]], \"type\": \"heatmapgl\"}], \"histogram\": [{\"marker\": {\"colorbar\": {\"outlinewidth\": 0, \"ticks\": \"\"}}, \"type\": \"histogram\"}], \"histogram2d\": [{\"colorbar\": {\"outlinewidth\": 0, \"ticks\": \"\"}, \"colorscale\": [[0.0, \"#0d0887\"], [0.1111111111111111, \"#46039f\"], [0.2222222222222222, \"#7201a8\"], [0.3333333333333333, \"#9c179e\"], [0.4444444444444444, \"#bd3786\"], [0.5555555555555556, \"#d8576b\"], [0.6666666666666666, \"#ed7953\"], [0.7777777777777778, \"#fb9f3a\"], [0.8888888888888888, \"#fdca26\"], [1.0, \"#f0f921\"]], \"type\": \"histogram2d\"}], \"histogram2dcontour\": [{\"colorbar\": {\"outlinewidth\": 0, \"ticks\": \"\"}, \"colorscale\": [[0.0, \"#0d0887\"], [0.1111111111111111, \"#46039f\"], [0.2222222222222222, \"#7201a8\"], [0.3333333333333333, \"#9c179e\"], [0.4444444444444444, \"#bd3786\"], [0.5555555555555556, \"#d8576b\"], [0.6666666666666666, \"#ed7953\"], [0.7777777777777778, \"#fb9f3a\"], [0.8888888888888888, \"#fdca26\"], [1.0, \"#f0f921\"]], \"type\": \"histogram2dcontour\"}], \"mesh3d\": [{\"colorbar\": {\"outlinewidth\": 0, \"ticks\": \"\"}, \"type\": \"mesh3d\"}], \"parcoords\": [{\"line\": {\"colorbar\": {\"outlinewidth\": 0, \"ticks\": \"\"}}, \"type\": \"parcoords\"}], \"pie\": [{\"automargin\": true, \"type\": \"pie\"}], \"scatter\": [{\"marker\": {\"colorbar\": {\"outlinewidth\": 0, \"ticks\": \"\"}}, \"type\": \"scatter\"}], \"scatter3d\": [{\"line\": {\"colorbar\": {\"outlinewidth\": 0, \"ticks\": \"\"}}, \"marker\": {\"colorbar\": {\"outlinewidth\": 0, \"ticks\": \"\"}}, \"type\": \"scatter3d\"}], \"scattercarpet\": [{\"marker\": {\"colorbar\": {\"outlinewidth\": 0, \"ticks\": \"\"}}, \"type\": \"scattercarpet\"}], \"scattergeo\": [{\"marker\": {\"colorbar\": {\"outlinewidth\": 0, \"ticks\": \"\"}}, \"type\": \"scattergeo\"}], \"scattergl\": [{\"marker\": {\"colorbar\": {\"outlinewidth\": 0, \"ticks\": \"\"}}, \"type\": \"scattergl\"}], \"scattermapbox\": [{\"marker\": {\"colorbar\": {\"outlinewidth\": 0, \"ticks\": \"\"}}, \"type\": \"scattermapbox\"}], \"scatterpolar\": [{\"marker\": {\"colorbar\": {\"outlinewidth\": 0, \"ticks\": \"\"}}, \"type\": \"scatterpolar\"}], \"scatterpolargl\": [{\"marker\": {\"colorbar\": {\"outlinewidth\": 0, \"ticks\": \"\"}}, \"type\": \"scatterpolargl\"}], \"scatterternary\": [{\"marker\": {\"colorbar\": {\"outlinewidth\": 0, \"ticks\": \"\"}}, \"type\": \"scatterternary\"}], \"surface\": [{\"colorbar\": {\"outlinewidth\": 0, \"ticks\": \"\"}, \"colorscale\": [[0.0, \"#0d0887\"], [0.1111111111111111, \"#46039f\"], [0.2222222222222222, \"#7201a8\"], [0.3333333333333333, \"#9c179e\"], [0.4444444444444444, \"#bd3786\"], [0.5555555555555556, \"#d8576b\"], [0.6666666666666666, \"#ed7953\"], [0.7777777777777778, \"#fb9f3a\"], [0.8888888888888888, \"#fdca26\"], [1.0, \"#f0f921\"]], \"type\": \"surface\"}], \"table\": [{\"cells\": {\"fill\": {\"color\": \"#EBF0F8\"}, \"line\": {\"color\": \"white\"}}, \"header\": {\"fill\": {\"color\": \"#C8D4E3\"}, \"line\": {\"color\": \"white\"}}, \"type\": \"table\"}]}, \"layout\": {\"annotationdefaults\": {\"arrowcolor\": \"#2a3f5f\", \"arrowhead\": 0, \"arrowwidth\": 1}, \"autotypenumbers\": \"strict\", \"coloraxis\": {\"colorbar\": {\"outlinewidth\": 0, \"ticks\": \"\"}}, \"colorscale\": {\"diverging\": [[0, \"#8e0152\"], [0.1, \"#c51b7d\"], [0.2, \"#de77ae\"], [0.3, \"#f1b6da\"], [0.4, \"#fde0ef\"], [0.5, \"#f7f7f7\"], [0.6, \"#e6f5d0\"], [0.7, \"#b8e186\"], [0.8, \"#7fbc41\"], [0.9, \"#4d9221\"], [1, \"#276419\"]], \"sequential\": [[0.0, \"#0d0887\"], [0.1111111111111111, \"#46039f\"], [0.2222222222222222, \"#7201a8\"], [0.3333333333333333, \"#9c179e\"], [0.4444444444444444, \"#bd3786\"], [0.5555555555555556, \"#d8576b\"], [0.6666666666666666, \"#ed7953\"], [0.7777777777777778, \"#fb9f3a\"], [0.8888888888888888, \"#fdca26\"], [1.0, \"#f0f921\"]], \"sequentialminus\": [[0.0, \"#0d0887\"], [0.1111111111111111, \"#46039f\"], [0.2222222222222222, \"#7201a8\"], [0.3333333333333333, \"#9c179e\"], [0.4444444444444444, \"#bd3786\"], [0.5555555555555556, \"#d8576b\"], [0.6666666666666666, \"#ed7953\"], [0.7777777777777778, \"#fb9f3a\"], [0.8888888888888888, \"#fdca26\"], [1.0, \"#f0f921\"]]}, \"colorway\": [\"#636efa\", \"#EF553B\", \"#00cc96\", \"#ab63fa\", \"#FFA15A\", \"#19d3f3\", \"#FF6692\", \"#B6E880\", \"#FF97FF\", \"#FECB52\"], \"font\": {\"color\": \"#2a3f5f\"}, \"geo\": {\"bgcolor\": \"white\", \"lakecolor\": \"white\", \"landcolor\": \"#E5ECF6\", \"showlakes\": true, \"showland\": true, \"subunitcolor\": \"white\"}, \"hoverlabel\": {\"align\": \"left\"}, \"hovermode\": \"closest\", \"mapbox\": {\"style\": \"light\"}, \"paper_bgcolor\": \"white\", \"plot_bgcolor\": \"#E5ECF6\", \"polar\": {\"angularaxis\": {\"gridcolor\": \"white\", \"linecolor\": \"white\", \"ticks\": \"\"}, \"bgcolor\": \"#E5ECF6\", \"radialaxis\": {\"gridcolor\": \"white\", \"linecolor\": \"white\", \"ticks\": \"\"}}, \"scene\": {\"xaxis\": {\"backgroundcolor\": \"#E5ECF6\", \"gridcolor\": \"white\", \"gridwidth\": 2, \"linecolor\": \"white\", \"showbackground\": true, \"ticks\": \"\", \"zerolinecolor\": \"white\"}, \"yaxis\": {\"backgroundcolor\": \"#E5ECF6\", \"gridcolor\": \"white\", \"gridwidth\": 2, \"linecolor\": \"white\", \"showbackground\": true, \"ticks\": \"\", \"zerolinecolor\": \"white\"}, \"zaxis\": {\"backgroundcolor\": \"#E5ECF6\", \"gridcolor\": \"white\", \"gridwidth\": 2, \"linecolor\": \"white\", \"showbackground\": true, \"ticks\": \"\", \"zerolinecolor\": \"white\"}}, \"shapedefaults\": {\"line\": {\"color\": \"#2a3f5f\"}}, \"ternary\": {\"aaxis\": {\"gridcolor\": \"white\", \"linecolor\": \"white\", \"ticks\": \"\"}, \"baxis\": {\"gridcolor\": \"white\", \"linecolor\": \"white\", \"ticks\": \"\"}, \"bgcolor\": \"#E5ECF6\", \"caxis\": {\"gridcolor\": \"white\", \"linecolor\": \"white\", \"ticks\": \"\"}}, \"title\": {\"x\": 0.05}, \"xaxis\": {\"automargin\": true, \"gridcolor\": \"white\", \"linecolor\": \"white\", \"ticks\": \"\", \"title\": {\"standoff\": 15}, \"zerolinecolor\": \"white\", \"zerolinewidth\": 2}, \"yaxis\": {\"automargin\": true, \"gridcolor\": \"white\", \"linecolor\": \"white\", \"ticks\": \"\", \"title\": {\"standoff\": 15}, \"zerolinecolor\": \"white\", \"zerolinewidth\": 2}}}, \"title\": {\"text\": \"Accuracy Evolution\"}, \"xaxis\": {\"title\": {\"text\": \"Round Num\"}}, \"yaxis\": {\"title\": {\"text\": \"Accuracy\"}}},                        {\"responsive\": true}                    ).then(function(){\n",
       "                            \n",
       "var gd = document.getElementById('1b2895c1-1b76-408c-af19-d033b03fd165');\n",
       "var x = new MutationObserver(function (mutations, observer) {{\n",
       "        var display = window.getComputedStyle(gd).display;\n",
       "        if (!display || display === 'none') {{\n",
       "            console.log([gd, 'removed!']);\n",
       "            Plotly.purge(gd);\n",
       "            observer.disconnect();\n",
       "        }}\n",
       "}});\n",
       "\n",
       "// Listen for the removal of the full notebook cells\n",
       "var notebookContainer = gd.closest('#notebook-container');\n",
       "if (notebookContainer) {{\n",
       "    x.observe(notebookContainer, {childList: true});\n",
       "}}\n",
       "\n",
       "// Listen for the clearing of the current output cell\n",
       "var outputEl = gd.closest('.output');\n",
       "if (outputEl) {{\n",
       "    x.observe(outputEl, {childList: true});\n",
       "}}\n",
       "\n",
       "                        })                };                });            </script>        </div>"
      ]
     },
     "metadata": {},
     "output_type": "display_data"
    }
   ],
   "source": [
    "# Create traces\n",
    "fig = go.Figure()\n",
    "fig.add_trace(go.Scatter(x=data_df['round_num'], y=data_df['total_acc'],\n",
    "                    mode='lines+markers',\n",
    "                    name='total_acc'))\n",
    "\n",
    "fig.add_trace(go.Scatter(x=data_df['round_num'], y=data_df['class_2_acc'],\n",
    "                    mode='lines+markers',\n",
    "                    name='flipped_source'))\n",
    "\n",
    "fig.add_trace(go.Scatter(x=data_df['round_num'], y=data_df['class_9_acc'],\n",
    "                    mode='lines+markers',\n",
    "                    name='flipped_target'))\n",
    "\n",
    "fig.update_layout(title='Accuracy Evolution',\n",
    "                   xaxis_title='Round Num',\n",
    "                   yaxis_title='Accuracy')\n",
    "fig.show()"
   ]
  },
  {
   "cell_type": "markdown",
   "id": "2173855e",
   "metadata": {},
   "source": [
    "### C. Testing Loss"
   ]
  },
  {
   "cell_type": "code",
   "execution_count": 19,
   "id": "2b13657b",
   "metadata": {},
   "outputs": [
    {
     "data": {
      "application/vnd.plotly.v1+json": {
       "config": {
        "plotlyServerURL": "https://plot.ly"
       },
       "data": [
        {
         "mode": "lines+markers",
         "name": "testing_loss",
         "type": "scatter",
         "x": [
          3,
          6,
          9,
          12,
          15,
          18,
          21,
          24,
          27,
          30
         ],
         "y": [
          0.05080273056030273,
          0.029255797004699706,
          0.02395574067234993,
          0.017193593895435334,
          0.015320575848966837,
          0.0126106580555439,
          0.01226192853562534,
          0.012186334429681301,
          0.009697576715517789,
          0.008379533927235751
         ]
        }
       ],
       "layout": {
        "template": {
         "data": {
          "bar": [
           {
            "error_x": {
             "color": "#2a3f5f"
            },
            "error_y": {
             "color": "#2a3f5f"
            },
            "marker": {
             "line": {
              "color": "#E5ECF6",
              "width": 0.5
             }
            },
            "type": "bar"
           }
          ],
          "barpolar": [
           {
            "marker": {
             "line": {
              "color": "#E5ECF6",
              "width": 0.5
             }
            },
            "type": "barpolar"
           }
          ],
          "carpet": [
           {
            "aaxis": {
             "endlinecolor": "#2a3f5f",
             "gridcolor": "white",
             "linecolor": "white",
             "minorgridcolor": "white",
             "startlinecolor": "#2a3f5f"
            },
            "baxis": {
             "endlinecolor": "#2a3f5f",
             "gridcolor": "white",
             "linecolor": "white",
             "minorgridcolor": "white",
             "startlinecolor": "#2a3f5f"
            },
            "type": "carpet"
           }
          ],
          "choropleth": [
           {
            "colorbar": {
             "outlinewidth": 0,
             "ticks": ""
            },
            "type": "choropleth"
           }
          ],
          "contour": [
           {
            "colorbar": {
             "outlinewidth": 0,
             "ticks": ""
            },
            "colorscale": [
             [
              0,
              "#0d0887"
             ],
             [
              0.1111111111111111,
              "#46039f"
             ],
             [
              0.2222222222222222,
              "#7201a8"
             ],
             [
              0.3333333333333333,
              "#9c179e"
             ],
             [
              0.4444444444444444,
              "#bd3786"
             ],
             [
              0.5555555555555556,
              "#d8576b"
             ],
             [
              0.6666666666666666,
              "#ed7953"
             ],
             [
              0.7777777777777778,
              "#fb9f3a"
             ],
             [
              0.8888888888888888,
              "#fdca26"
             ],
             [
              1,
              "#f0f921"
             ]
            ],
            "type": "contour"
           }
          ],
          "contourcarpet": [
           {
            "colorbar": {
             "outlinewidth": 0,
             "ticks": ""
            },
            "type": "contourcarpet"
           }
          ],
          "heatmap": [
           {
            "colorbar": {
             "outlinewidth": 0,
             "ticks": ""
            },
            "colorscale": [
             [
              0,
              "#0d0887"
             ],
             [
              0.1111111111111111,
              "#46039f"
             ],
             [
              0.2222222222222222,
              "#7201a8"
             ],
             [
              0.3333333333333333,
              "#9c179e"
             ],
             [
              0.4444444444444444,
              "#bd3786"
             ],
             [
              0.5555555555555556,
              "#d8576b"
             ],
             [
              0.6666666666666666,
              "#ed7953"
             ],
             [
              0.7777777777777778,
              "#fb9f3a"
             ],
             [
              0.8888888888888888,
              "#fdca26"
             ],
             [
              1,
              "#f0f921"
             ]
            ],
            "type": "heatmap"
           }
          ],
          "heatmapgl": [
           {
            "colorbar": {
             "outlinewidth": 0,
             "ticks": ""
            },
            "colorscale": [
             [
              0,
              "#0d0887"
             ],
             [
              0.1111111111111111,
              "#46039f"
             ],
             [
              0.2222222222222222,
              "#7201a8"
             ],
             [
              0.3333333333333333,
              "#9c179e"
             ],
             [
              0.4444444444444444,
              "#bd3786"
             ],
             [
              0.5555555555555556,
              "#d8576b"
             ],
             [
              0.6666666666666666,
              "#ed7953"
             ],
             [
              0.7777777777777778,
              "#fb9f3a"
             ],
             [
              0.8888888888888888,
              "#fdca26"
             ],
             [
              1,
              "#f0f921"
             ]
            ],
            "type": "heatmapgl"
           }
          ],
          "histogram": [
           {
            "marker": {
             "colorbar": {
              "outlinewidth": 0,
              "ticks": ""
             }
            },
            "type": "histogram"
           }
          ],
          "histogram2d": [
           {
            "colorbar": {
             "outlinewidth": 0,
             "ticks": ""
            },
            "colorscale": [
             [
              0,
              "#0d0887"
             ],
             [
              0.1111111111111111,
              "#46039f"
             ],
             [
              0.2222222222222222,
              "#7201a8"
             ],
             [
              0.3333333333333333,
              "#9c179e"
             ],
             [
              0.4444444444444444,
              "#bd3786"
             ],
             [
              0.5555555555555556,
              "#d8576b"
             ],
             [
              0.6666666666666666,
              "#ed7953"
             ],
             [
              0.7777777777777778,
              "#fb9f3a"
             ],
             [
              0.8888888888888888,
              "#fdca26"
             ],
             [
              1,
              "#f0f921"
             ]
            ],
            "type": "histogram2d"
           }
          ],
          "histogram2dcontour": [
           {
            "colorbar": {
             "outlinewidth": 0,
             "ticks": ""
            },
            "colorscale": [
             [
              0,
              "#0d0887"
             ],
             [
              0.1111111111111111,
              "#46039f"
             ],
             [
              0.2222222222222222,
              "#7201a8"
             ],
             [
              0.3333333333333333,
              "#9c179e"
             ],
             [
              0.4444444444444444,
              "#bd3786"
             ],
             [
              0.5555555555555556,
              "#d8576b"
             ],
             [
              0.6666666666666666,
              "#ed7953"
             ],
             [
              0.7777777777777778,
              "#fb9f3a"
             ],
             [
              0.8888888888888888,
              "#fdca26"
             ],
             [
              1,
              "#f0f921"
             ]
            ],
            "type": "histogram2dcontour"
           }
          ],
          "mesh3d": [
           {
            "colorbar": {
             "outlinewidth": 0,
             "ticks": ""
            },
            "type": "mesh3d"
           }
          ],
          "parcoords": [
           {
            "line": {
             "colorbar": {
              "outlinewidth": 0,
              "ticks": ""
             }
            },
            "type": "parcoords"
           }
          ],
          "pie": [
           {
            "automargin": true,
            "type": "pie"
           }
          ],
          "scatter": [
           {
            "marker": {
             "colorbar": {
              "outlinewidth": 0,
              "ticks": ""
             }
            },
            "type": "scatter"
           }
          ],
          "scatter3d": [
           {
            "line": {
             "colorbar": {
              "outlinewidth": 0,
              "ticks": ""
             }
            },
            "marker": {
             "colorbar": {
              "outlinewidth": 0,
              "ticks": ""
             }
            },
            "type": "scatter3d"
           }
          ],
          "scattercarpet": [
           {
            "marker": {
             "colorbar": {
              "outlinewidth": 0,
              "ticks": ""
             }
            },
            "type": "scattercarpet"
           }
          ],
          "scattergeo": [
           {
            "marker": {
             "colorbar": {
              "outlinewidth": 0,
              "ticks": ""
             }
            },
            "type": "scattergeo"
           }
          ],
          "scattergl": [
           {
            "marker": {
             "colorbar": {
              "outlinewidth": 0,
              "ticks": ""
             }
            },
            "type": "scattergl"
           }
          ],
          "scattermapbox": [
           {
            "marker": {
             "colorbar": {
              "outlinewidth": 0,
              "ticks": ""
             }
            },
            "type": "scattermapbox"
           }
          ],
          "scatterpolar": [
           {
            "marker": {
             "colorbar": {
              "outlinewidth": 0,
              "ticks": ""
             }
            },
            "type": "scatterpolar"
           }
          ],
          "scatterpolargl": [
           {
            "marker": {
             "colorbar": {
              "outlinewidth": 0,
              "ticks": ""
             }
            },
            "type": "scatterpolargl"
           }
          ],
          "scatterternary": [
           {
            "marker": {
             "colorbar": {
              "outlinewidth": 0,
              "ticks": ""
             }
            },
            "type": "scatterternary"
           }
          ],
          "surface": [
           {
            "colorbar": {
             "outlinewidth": 0,
             "ticks": ""
            },
            "colorscale": [
             [
              0,
              "#0d0887"
             ],
             [
              0.1111111111111111,
              "#46039f"
             ],
             [
              0.2222222222222222,
              "#7201a8"
             ],
             [
              0.3333333333333333,
              "#9c179e"
             ],
             [
              0.4444444444444444,
              "#bd3786"
             ],
             [
              0.5555555555555556,
              "#d8576b"
             ],
             [
              0.6666666666666666,
              "#ed7953"
             ],
             [
              0.7777777777777778,
              "#fb9f3a"
             ],
             [
              0.8888888888888888,
              "#fdca26"
             ],
             [
              1,
              "#f0f921"
             ]
            ],
            "type": "surface"
           }
          ],
          "table": [
           {
            "cells": {
             "fill": {
              "color": "#EBF0F8"
             },
             "line": {
              "color": "white"
             }
            },
            "header": {
             "fill": {
              "color": "#C8D4E3"
             },
             "line": {
              "color": "white"
             }
            },
            "type": "table"
           }
          ]
         },
         "layout": {
          "annotationdefaults": {
           "arrowcolor": "#2a3f5f",
           "arrowhead": 0,
           "arrowwidth": 1
          },
          "autotypenumbers": "strict",
          "coloraxis": {
           "colorbar": {
            "outlinewidth": 0,
            "ticks": ""
           }
          },
          "colorscale": {
           "diverging": [
            [
             0,
             "#8e0152"
            ],
            [
             0.1,
             "#c51b7d"
            ],
            [
             0.2,
             "#de77ae"
            ],
            [
             0.3,
             "#f1b6da"
            ],
            [
             0.4,
             "#fde0ef"
            ],
            [
             0.5,
             "#f7f7f7"
            ],
            [
             0.6,
             "#e6f5d0"
            ],
            [
             0.7,
             "#b8e186"
            ],
            [
             0.8,
             "#7fbc41"
            ],
            [
             0.9,
             "#4d9221"
            ],
            [
             1,
             "#276419"
            ]
           ],
           "sequential": [
            [
             0,
             "#0d0887"
            ],
            [
             0.1111111111111111,
             "#46039f"
            ],
            [
             0.2222222222222222,
             "#7201a8"
            ],
            [
             0.3333333333333333,
             "#9c179e"
            ],
            [
             0.4444444444444444,
             "#bd3786"
            ],
            [
             0.5555555555555556,
             "#d8576b"
            ],
            [
             0.6666666666666666,
             "#ed7953"
            ],
            [
             0.7777777777777778,
             "#fb9f3a"
            ],
            [
             0.8888888888888888,
             "#fdca26"
            ],
            [
             1,
             "#f0f921"
            ]
           ],
           "sequentialminus": [
            [
             0,
             "#0d0887"
            ],
            [
             0.1111111111111111,
             "#46039f"
            ],
            [
             0.2222222222222222,
             "#7201a8"
            ],
            [
             0.3333333333333333,
             "#9c179e"
            ],
            [
             0.4444444444444444,
             "#bd3786"
            ],
            [
             0.5555555555555556,
             "#d8576b"
            ],
            [
             0.6666666666666666,
             "#ed7953"
            ],
            [
             0.7777777777777778,
             "#fb9f3a"
            ],
            [
             0.8888888888888888,
             "#fdca26"
            ],
            [
             1,
             "#f0f921"
            ]
           ]
          },
          "colorway": [
           "#636efa",
           "#EF553B",
           "#00cc96",
           "#ab63fa",
           "#FFA15A",
           "#19d3f3",
           "#FF6692",
           "#B6E880",
           "#FF97FF",
           "#FECB52"
          ],
          "font": {
           "color": "#2a3f5f"
          },
          "geo": {
           "bgcolor": "white",
           "lakecolor": "white",
           "landcolor": "#E5ECF6",
           "showlakes": true,
           "showland": true,
           "subunitcolor": "white"
          },
          "hoverlabel": {
           "align": "left"
          },
          "hovermode": "closest",
          "mapbox": {
           "style": "light"
          },
          "paper_bgcolor": "white",
          "plot_bgcolor": "#E5ECF6",
          "polar": {
           "angularaxis": {
            "gridcolor": "white",
            "linecolor": "white",
            "ticks": ""
           },
           "bgcolor": "#E5ECF6",
           "radialaxis": {
            "gridcolor": "white",
            "linecolor": "white",
            "ticks": ""
           }
          },
          "scene": {
           "xaxis": {
            "backgroundcolor": "#E5ECF6",
            "gridcolor": "white",
            "gridwidth": 2,
            "linecolor": "white",
            "showbackground": true,
            "ticks": "",
            "zerolinecolor": "white"
           },
           "yaxis": {
            "backgroundcolor": "#E5ECF6",
            "gridcolor": "white",
            "gridwidth": 2,
            "linecolor": "white",
            "showbackground": true,
            "ticks": "",
            "zerolinecolor": "white"
           },
           "zaxis": {
            "backgroundcolor": "#E5ECF6",
            "gridcolor": "white",
            "gridwidth": 2,
            "linecolor": "white",
            "showbackground": true,
            "ticks": "",
            "zerolinecolor": "white"
           }
          },
          "shapedefaults": {
           "line": {
            "color": "#2a3f5f"
           }
          },
          "ternary": {
           "aaxis": {
            "gridcolor": "white",
            "linecolor": "white",
            "ticks": ""
           },
           "baxis": {
            "gridcolor": "white",
            "linecolor": "white",
            "ticks": ""
           },
           "bgcolor": "#E5ECF6",
           "caxis": {
            "gridcolor": "white",
            "linecolor": "white",
            "ticks": ""
           }
          },
          "title": {
           "x": 0.05
          },
          "xaxis": {
           "automargin": true,
           "gridcolor": "white",
           "linecolor": "white",
           "ticks": "",
           "title": {
            "standoff": 15
           },
           "zerolinecolor": "white",
           "zerolinewidth": 2
          },
          "yaxis": {
           "automargin": true,
           "gridcolor": "white",
           "linecolor": "white",
           "ticks": "",
           "title": {
            "standoff": 15
           },
           "zerolinecolor": "white",
           "zerolinewidth": 2
          }
         }
        },
        "title": {
         "text": "Testing Loss over the Training"
        },
        "xaxis": {
         "title": {
          "text": "Round Num"
         }
        },
        "yaxis": {
         "title": {
          "text": "Loss"
         }
        }
       }
      },
      "text/html": [
       "<div>                            <div id=\"e8edb53d-bcd6-4455-a6e7-5fc017dd81de\" class=\"plotly-graph-div\" style=\"height:525px; width:100%;\"></div>            <script type=\"text/javascript\">                require([\"plotly\"], function(Plotly) {                    window.PLOTLYENV=window.PLOTLYENV || {};                                    if (document.getElementById(\"e8edb53d-bcd6-4455-a6e7-5fc017dd81de\")) {                    Plotly.newPlot(                        \"e8edb53d-bcd6-4455-a6e7-5fc017dd81de\",                        [{\"mode\": \"lines+markers\", \"name\": \"testing_loss\", \"type\": \"scatter\", \"x\": [3, 6, 9, 12, 15, 18, 21, 24, 27, 30], \"y\": [0.05080273056030273, 0.029255797004699706, 0.02395574067234993, 0.017193593895435334, 0.015320575848966837, 0.0126106580555439, 0.01226192853562534, 0.012186334429681301, 0.009697576715517789, 0.008379533927235751]}],                        {\"template\": {\"data\": {\"bar\": [{\"error_x\": {\"color\": \"#2a3f5f\"}, \"error_y\": {\"color\": \"#2a3f5f\"}, \"marker\": {\"line\": {\"color\": \"#E5ECF6\", \"width\": 0.5}}, \"type\": \"bar\"}], \"barpolar\": [{\"marker\": {\"line\": {\"color\": \"#E5ECF6\", \"width\": 0.5}}, \"type\": \"barpolar\"}], \"carpet\": [{\"aaxis\": {\"endlinecolor\": \"#2a3f5f\", \"gridcolor\": \"white\", \"linecolor\": \"white\", \"minorgridcolor\": \"white\", \"startlinecolor\": \"#2a3f5f\"}, \"baxis\": {\"endlinecolor\": \"#2a3f5f\", \"gridcolor\": \"white\", \"linecolor\": \"white\", \"minorgridcolor\": \"white\", \"startlinecolor\": \"#2a3f5f\"}, \"type\": \"carpet\"}], \"choropleth\": [{\"colorbar\": {\"outlinewidth\": 0, \"ticks\": \"\"}, \"type\": \"choropleth\"}], \"contour\": [{\"colorbar\": {\"outlinewidth\": 0, \"ticks\": \"\"}, \"colorscale\": [[0.0, \"#0d0887\"], [0.1111111111111111, \"#46039f\"], [0.2222222222222222, \"#7201a8\"], [0.3333333333333333, \"#9c179e\"], [0.4444444444444444, \"#bd3786\"], [0.5555555555555556, \"#d8576b\"], [0.6666666666666666, \"#ed7953\"], [0.7777777777777778, \"#fb9f3a\"], [0.8888888888888888, \"#fdca26\"], [1.0, \"#f0f921\"]], \"type\": \"contour\"}], \"contourcarpet\": [{\"colorbar\": {\"outlinewidth\": 0, \"ticks\": \"\"}, \"type\": \"contourcarpet\"}], \"heatmap\": [{\"colorbar\": {\"outlinewidth\": 0, \"ticks\": \"\"}, \"colorscale\": [[0.0, \"#0d0887\"], [0.1111111111111111, \"#46039f\"], [0.2222222222222222, \"#7201a8\"], [0.3333333333333333, \"#9c179e\"], [0.4444444444444444, \"#bd3786\"], [0.5555555555555556, \"#d8576b\"], [0.6666666666666666, \"#ed7953\"], [0.7777777777777778, \"#fb9f3a\"], [0.8888888888888888, \"#fdca26\"], [1.0, \"#f0f921\"]], \"type\": \"heatmap\"}], \"heatmapgl\": [{\"colorbar\": {\"outlinewidth\": 0, \"ticks\": \"\"}, \"colorscale\": [[0.0, \"#0d0887\"], [0.1111111111111111, \"#46039f\"], [0.2222222222222222, \"#7201a8\"], [0.3333333333333333, \"#9c179e\"], [0.4444444444444444, \"#bd3786\"], [0.5555555555555556, \"#d8576b\"], [0.6666666666666666, \"#ed7953\"], [0.7777777777777778, \"#fb9f3a\"], [0.8888888888888888, \"#fdca26\"], [1.0, \"#f0f921\"]], \"type\": \"heatmapgl\"}], \"histogram\": [{\"marker\": {\"colorbar\": {\"outlinewidth\": 0, \"ticks\": \"\"}}, \"type\": \"histogram\"}], \"histogram2d\": [{\"colorbar\": {\"outlinewidth\": 0, \"ticks\": \"\"}, \"colorscale\": [[0.0, \"#0d0887\"], [0.1111111111111111, \"#46039f\"], [0.2222222222222222, \"#7201a8\"], [0.3333333333333333, \"#9c179e\"], [0.4444444444444444, \"#bd3786\"], [0.5555555555555556, \"#d8576b\"], [0.6666666666666666, \"#ed7953\"], [0.7777777777777778, \"#fb9f3a\"], [0.8888888888888888, \"#fdca26\"], [1.0, \"#f0f921\"]], \"type\": \"histogram2d\"}], \"histogram2dcontour\": [{\"colorbar\": {\"outlinewidth\": 0, \"ticks\": \"\"}, \"colorscale\": [[0.0, \"#0d0887\"], [0.1111111111111111, \"#46039f\"], [0.2222222222222222, \"#7201a8\"], [0.3333333333333333, \"#9c179e\"], [0.4444444444444444, \"#bd3786\"], [0.5555555555555556, \"#d8576b\"], [0.6666666666666666, \"#ed7953\"], [0.7777777777777778, \"#fb9f3a\"], [0.8888888888888888, \"#fdca26\"], [1.0, \"#f0f921\"]], \"type\": \"histogram2dcontour\"}], \"mesh3d\": [{\"colorbar\": {\"outlinewidth\": 0, \"ticks\": \"\"}, \"type\": \"mesh3d\"}], \"parcoords\": [{\"line\": {\"colorbar\": {\"outlinewidth\": 0, \"ticks\": \"\"}}, \"type\": \"parcoords\"}], \"pie\": [{\"automargin\": true, \"type\": \"pie\"}], \"scatter\": [{\"marker\": {\"colorbar\": {\"outlinewidth\": 0, \"ticks\": \"\"}}, \"type\": \"scatter\"}], \"scatter3d\": [{\"line\": {\"colorbar\": {\"outlinewidth\": 0, \"ticks\": \"\"}}, \"marker\": {\"colorbar\": {\"outlinewidth\": 0, \"ticks\": \"\"}}, \"type\": \"scatter3d\"}], \"scattercarpet\": [{\"marker\": {\"colorbar\": {\"outlinewidth\": 0, \"ticks\": \"\"}}, \"type\": \"scattercarpet\"}], \"scattergeo\": [{\"marker\": {\"colorbar\": {\"outlinewidth\": 0, \"ticks\": \"\"}}, \"type\": \"scattergeo\"}], \"scattergl\": [{\"marker\": {\"colorbar\": {\"outlinewidth\": 0, \"ticks\": \"\"}}, \"type\": \"scattergl\"}], \"scattermapbox\": [{\"marker\": {\"colorbar\": {\"outlinewidth\": 0, \"ticks\": \"\"}}, \"type\": \"scattermapbox\"}], \"scatterpolar\": [{\"marker\": {\"colorbar\": {\"outlinewidth\": 0, \"ticks\": \"\"}}, \"type\": \"scatterpolar\"}], \"scatterpolargl\": [{\"marker\": {\"colorbar\": {\"outlinewidth\": 0, \"ticks\": \"\"}}, \"type\": \"scatterpolargl\"}], \"scatterternary\": [{\"marker\": {\"colorbar\": {\"outlinewidth\": 0, \"ticks\": \"\"}}, \"type\": \"scatterternary\"}], \"surface\": [{\"colorbar\": {\"outlinewidth\": 0, \"ticks\": \"\"}, \"colorscale\": [[0.0, \"#0d0887\"], [0.1111111111111111, \"#46039f\"], [0.2222222222222222, \"#7201a8\"], [0.3333333333333333, \"#9c179e\"], [0.4444444444444444, \"#bd3786\"], [0.5555555555555556, \"#d8576b\"], [0.6666666666666666, \"#ed7953\"], [0.7777777777777778, \"#fb9f3a\"], [0.8888888888888888, \"#fdca26\"], [1.0, \"#f0f921\"]], \"type\": \"surface\"}], \"table\": [{\"cells\": {\"fill\": {\"color\": \"#EBF0F8\"}, \"line\": {\"color\": \"white\"}}, \"header\": {\"fill\": {\"color\": \"#C8D4E3\"}, \"line\": {\"color\": \"white\"}}, \"type\": \"table\"}]}, \"layout\": {\"annotationdefaults\": {\"arrowcolor\": \"#2a3f5f\", \"arrowhead\": 0, \"arrowwidth\": 1}, \"autotypenumbers\": \"strict\", \"coloraxis\": {\"colorbar\": {\"outlinewidth\": 0, \"ticks\": \"\"}}, \"colorscale\": {\"diverging\": [[0, \"#8e0152\"], [0.1, \"#c51b7d\"], [0.2, \"#de77ae\"], [0.3, \"#f1b6da\"], [0.4, \"#fde0ef\"], [0.5, \"#f7f7f7\"], [0.6, \"#e6f5d0\"], [0.7, \"#b8e186\"], [0.8, \"#7fbc41\"], [0.9, \"#4d9221\"], [1, \"#276419\"]], \"sequential\": [[0.0, \"#0d0887\"], [0.1111111111111111, \"#46039f\"], [0.2222222222222222, \"#7201a8\"], [0.3333333333333333, \"#9c179e\"], [0.4444444444444444, \"#bd3786\"], [0.5555555555555556, \"#d8576b\"], [0.6666666666666666, \"#ed7953\"], [0.7777777777777778, \"#fb9f3a\"], [0.8888888888888888, \"#fdca26\"], [1.0, \"#f0f921\"]], \"sequentialminus\": [[0.0, \"#0d0887\"], [0.1111111111111111, \"#46039f\"], [0.2222222222222222, \"#7201a8\"], [0.3333333333333333, \"#9c179e\"], [0.4444444444444444, \"#bd3786\"], [0.5555555555555556, \"#d8576b\"], [0.6666666666666666, \"#ed7953\"], [0.7777777777777778, \"#fb9f3a\"], [0.8888888888888888, \"#fdca26\"], [1.0, \"#f0f921\"]]}, \"colorway\": [\"#636efa\", \"#EF553B\", \"#00cc96\", \"#ab63fa\", \"#FFA15A\", \"#19d3f3\", \"#FF6692\", \"#B6E880\", \"#FF97FF\", \"#FECB52\"], \"font\": {\"color\": \"#2a3f5f\"}, \"geo\": {\"bgcolor\": \"white\", \"lakecolor\": \"white\", \"landcolor\": \"#E5ECF6\", \"showlakes\": true, \"showland\": true, \"subunitcolor\": \"white\"}, \"hoverlabel\": {\"align\": \"left\"}, \"hovermode\": \"closest\", \"mapbox\": {\"style\": \"light\"}, \"paper_bgcolor\": \"white\", \"plot_bgcolor\": \"#E5ECF6\", \"polar\": {\"angularaxis\": {\"gridcolor\": \"white\", \"linecolor\": \"white\", \"ticks\": \"\"}, \"bgcolor\": \"#E5ECF6\", \"radialaxis\": {\"gridcolor\": \"white\", \"linecolor\": \"white\", \"ticks\": \"\"}}, \"scene\": {\"xaxis\": {\"backgroundcolor\": \"#E5ECF6\", \"gridcolor\": \"white\", \"gridwidth\": 2, \"linecolor\": \"white\", \"showbackground\": true, \"ticks\": \"\", \"zerolinecolor\": \"white\"}, \"yaxis\": {\"backgroundcolor\": \"#E5ECF6\", \"gridcolor\": \"white\", \"gridwidth\": 2, \"linecolor\": \"white\", \"showbackground\": true, \"ticks\": \"\", \"zerolinecolor\": \"white\"}, \"zaxis\": {\"backgroundcolor\": \"#E5ECF6\", \"gridcolor\": \"white\", \"gridwidth\": 2, \"linecolor\": \"white\", \"showbackground\": true, \"ticks\": \"\", \"zerolinecolor\": \"white\"}}, \"shapedefaults\": {\"line\": {\"color\": \"#2a3f5f\"}}, \"ternary\": {\"aaxis\": {\"gridcolor\": \"white\", \"linecolor\": \"white\", \"ticks\": \"\"}, \"baxis\": {\"gridcolor\": \"white\", \"linecolor\": \"white\", \"ticks\": \"\"}, \"bgcolor\": \"#E5ECF6\", \"caxis\": {\"gridcolor\": \"white\", \"linecolor\": \"white\", \"ticks\": \"\"}}, \"title\": {\"x\": 0.05}, \"xaxis\": {\"automargin\": true, \"gridcolor\": \"white\", \"linecolor\": \"white\", \"ticks\": \"\", \"title\": {\"standoff\": 15}, \"zerolinecolor\": \"white\", \"zerolinewidth\": 2}, \"yaxis\": {\"automargin\": true, \"gridcolor\": \"white\", \"linecolor\": \"white\", \"ticks\": \"\", \"title\": {\"standoff\": 15}, \"zerolinecolor\": \"white\", \"zerolinewidth\": 2}}}, \"title\": {\"text\": \"Testing Loss over the Training\"}, \"xaxis\": {\"title\": {\"text\": \"Round Num\"}}, \"yaxis\": {\"title\": {\"text\": \"Loss\"}}},                        {\"responsive\": true}                    ).then(function(){\n",
       "                            \n",
       "var gd = document.getElementById('e8edb53d-bcd6-4455-a6e7-5fc017dd81de');\n",
       "var x = new MutationObserver(function (mutations, observer) {{\n",
       "        var display = window.getComputedStyle(gd).display;\n",
       "        if (!display || display === 'none') {{\n",
       "            console.log([gd, 'removed!']);\n",
       "            Plotly.purge(gd);\n",
       "            observer.disconnect();\n",
       "        }}\n",
       "}});\n",
       "\n",
       "// Listen for the removal of the full notebook cells\n",
       "var notebookContainer = gd.closest('#notebook-container');\n",
       "if (notebookContainer) {{\n",
       "    x.observe(notebookContainer, {childList: true});\n",
       "}}\n",
       "\n",
       "// Listen for the clearing of the current output cell\n",
       "var outputEl = gd.closest('.output');\n",
       "if (outputEl) {{\n",
       "    x.observe(outputEl, {childList: true});\n",
       "}}\n",
       "\n",
       "                        })                };                });            </script>        </div>"
      ]
     },
     "metadata": {},
     "output_type": "display_data"
    }
   ],
   "source": [
    "# Create traces\n",
    "fig = go.Figure()\n",
    "fig.add_trace(go.Scatter(x=data_df['round_num'], y=data_df['testing_loss'],\n",
    "                    mode='lines+markers',\n",
    "                    name='testing_loss'))\n",
    "fig.update_layout(title='Testing Loss over the Training',\n",
    "                   xaxis_title='Round Num',\n",
    "                   yaxis_title='Loss')\n",
    "fig.show()"
   ]
  },
  {
   "cell_type": "markdown",
   "id": "c88c002e",
   "metadata": {},
   "source": [
    "## 3. Compare Different Poisoned Data Scenarios\n",
    "\n",
    "Read 4 different files with different compare the accuracies and taining losses"
   ]
  },
  {
   "cell_type": "code",
   "execution_count": 20,
   "id": "a4cc19d1",
   "metadata": {},
   "outputs": [],
   "source": [
    "data0_df = get_test_data_df(file_p_frac0)\n",
    "data10_df = get_test_data_df(file_p_frac10)\n",
    "data20_df = get_test_data_df(file_p_frac20)\n",
    "data40_df = get_test_data_df(file_p_frac40)\n",
    "# all_data_dfs = [data0_df[:20], data10_df[:20], data20_df[:20], data40_df[:20]]\n",
    "all_data_dfs = [data0_df, data10_df, data20_df, data40_df]"
   ]
  },
  {
   "cell_type": "markdown",
   "id": "b7786b83",
   "metadata": {},
   "source": [
    "### A. Comparing Total Acc, Flipped Source and Flipped Target in different scenarios"
   ]
  },
  {
   "cell_type": "code",
   "execution_count": 21,
   "id": "ae4cb1fd",
   "metadata": {},
   "outputs": [
    {
     "data": {
      "application/vnd.plotly.v1+json": {
       "config": {
        "plotlyServerURL": "https://plot.ly"
       },
       "data": [
        {
         "mode": "lines+markers",
         "name": "total_acc0",
         "type": "scatter",
         "x": [
          3,
          6,
          9,
          12,
          15,
          18,
          21,
          24,
          27,
          30
         ],
         "y": [
          46.11,
          72.26,
          80.85,
          84.72,
          86.58,
          88.33,
          89.65,
          90.42,
          91.03,
          91.84
         ]
        },
        {
         "mode": "lines+markers",
         "name": "flipped_source0",
         "type": "scatter",
         "x": [
          3,
          6,
          9,
          12,
          15,
          18,
          21,
          24,
          27,
          30
         ],
         "y": [
          57.46124031007752,
          70.15503875968992,
          81.5891472868217,
          83.91472868217055,
          82.94573643410853,
          83.81782945736434,
          85.65891472868218,
          86.33720930232558,
          90.21317829457364,
          92.63565891472868
         ]
        },
        {
         "mode": "lines+markers",
         "name": "flipped_target0",
         "type": "scatter",
         "x": [
          3,
          6,
          9,
          12,
          15,
          18,
          21,
          24,
          27,
          30
         ],
         "y": [
          70.16848364717542,
          86.02576808721507,
          69.37561942517344,
          87.41328047571854,
          70.36669970267592,
          83.84539147670961,
          85.0346878097126,
          89.197224975223,
          87.21506442021804,
          90.48562933597621
         ]
        },
        {
         "mode": "lines+markers",
         "name": "total_acc10",
         "type": "scatter",
         "x": [
          3,
          6,
          9,
          12,
          15,
          18,
          21,
          24,
          27,
          30
         ],
         "y": [
          44.16,
          76.01,
          83.47,
          86.78,
          88.37,
          89.17,
          90.17,
          90.5,
          91.23,
          92.64
         ]
        },
        {
         "mode": "lines+markers",
         "name": "flipped_source10",
         "type": "scatter",
         "x": [
          3,
          6,
          9,
          12,
          15,
          18,
          21,
          24,
          27,
          30
         ],
         "y": [
          43.21705426356589,
          73.74031007751938,
          79.36046511627907,
          86.33720930232558,
          83.52713178294573,
          88.0813953488372,
          84.20542635658914,
          82.75193798449612,
          84.10852713178295,
          90.79457364341086
         ]
        },
        {
         "mode": "lines+markers",
         "name": "flipped_target10",
         "type": "scatter",
         "x": [
          3,
          6,
          9,
          12,
          15,
          18,
          21,
          24,
          27,
          30
         ],
         "y": [
          0.5946481665014867,
          16.55104063429138,
          62.537165510406346,
          77.10604558969277,
          84.2418235877106,
          85.62933597621408,
          85.82755203171457,
          90.8820614469772,
          86.62041625371656,
          90.8820614469772
         ]
        },
        {
         "mode": "lines+markers",
         "name": "total_acc20",
         "type": "scatter",
         "x": [
          3,
          6,
          9,
          12,
          15,
          18,
          21,
          24,
          27,
          30
         ],
         "y": [
          51.19,
          72.85,
          77.22,
          83.46,
          85.26,
          87.55,
          87.62,
          87.89,
          90.35,
          91.79
         ]
        },
        {
         "mode": "lines+markers",
         "name": "flipped_source20",
         "type": "scatter",
         "x": [
          3,
          6,
          9,
          12,
          15,
          18,
          21,
          24,
          27,
          30
         ],
         "y": [
          76.06589147286822,
          58.042635658914726,
          21.22093023255814,
          58.62403100775194,
          56.104651162790695,
          71.70542635658914,
          65.31007751937985,
          59.883720930232556,
          78.58527131782945,
          88.56589147286822
         ]
        },
        {
         "mode": "lines+markers",
         "name": "flipped_target20",
         "type": "scatter",
         "x": [
          3,
          6,
          9,
          12,
          15,
          18,
          21,
          24,
          27,
          30
         ],
         "y": [
          3.1714568880079286,
          18.334985133795836,
          78.39444995044599,
          77.50247770069376,
          77.10604558969277,
          81.16947472745292,
          84.4400396432111,
          87.80971258671953,
          87.31417244796829,
          86.32309217046581
         ]
        },
        {
         "mode": "lines+markers",
         "name": "total_acc40",
         "type": "scatter",
         "x": [
          3,
          6,
          9,
          12,
          15,
          18,
          21,
          24,
          27,
          30
         ],
         "y": [
          39.78,
          64.34,
          74.3,
          78.23,
          81.74,
          87.44,
          87.5,
          85.13,
          83.61,
          82.28
         ]
        },
        {
         "mode": "lines+markers",
         "name": "flipped_source40",
         "type": "scatter",
         "x": [
          3,
          6,
          9,
          12,
          15,
          18,
          21,
          24,
          27,
          30
         ],
         "y": [
          0,
          0,
          5.426356589147287,
          6.976744186046512,
          25.775193798449614,
          69.47674418604652,
          62.4031007751938,
          33.333333333333336,
          13.081395348837209,
          0
         ]
        },
        {
         "mode": "lines+markers",
         "name": "flipped_target40",
         "type": "scatter",
         "x": [
          3,
          6,
          9,
          12,
          15,
          18,
          21,
          24,
          27,
          30
         ],
         "y": [
          68.78097125867195,
          84.4400396432111,
          66.10505450941527,
          81.86323092170466,
          87.21506442021804,
          85.53022794846383,
          88.10703666997027,
          89.99008919722498,
          88.50346878097126,
          87.1159563924678
         ]
        }
       ],
       "layout": {
        "template": {
         "data": {
          "bar": [
           {
            "error_x": {
             "color": "#2a3f5f"
            },
            "error_y": {
             "color": "#2a3f5f"
            },
            "marker": {
             "line": {
              "color": "#E5ECF6",
              "width": 0.5
             }
            },
            "type": "bar"
           }
          ],
          "barpolar": [
           {
            "marker": {
             "line": {
              "color": "#E5ECF6",
              "width": 0.5
             }
            },
            "type": "barpolar"
           }
          ],
          "carpet": [
           {
            "aaxis": {
             "endlinecolor": "#2a3f5f",
             "gridcolor": "white",
             "linecolor": "white",
             "minorgridcolor": "white",
             "startlinecolor": "#2a3f5f"
            },
            "baxis": {
             "endlinecolor": "#2a3f5f",
             "gridcolor": "white",
             "linecolor": "white",
             "minorgridcolor": "white",
             "startlinecolor": "#2a3f5f"
            },
            "type": "carpet"
           }
          ],
          "choropleth": [
           {
            "colorbar": {
             "outlinewidth": 0,
             "ticks": ""
            },
            "type": "choropleth"
           }
          ],
          "contour": [
           {
            "colorbar": {
             "outlinewidth": 0,
             "ticks": ""
            },
            "colorscale": [
             [
              0,
              "#0d0887"
             ],
             [
              0.1111111111111111,
              "#46039f"
             ],
             [
              0.2222222222222222,
              "#7201a8"
             ],
             [
              0.3333333333333333,
              "#9c179e"
             ],
             [
              0.4444444444444444,
              "#bd3786"
             ],
             [
              0.5555555555555556,
              "#d8576b"
             ],
             [
              0.6666666666666666,
              "#ed7953"
             ],
             [
              0.7777777777777778,
              "#fb9f3a"
             ],
             [
              0.8888888888888888,
              "#fdca26"
             ],
             [
              1,
              "#f0f921"
             ]
            ],
            "type": "contour"
           }
          ],
          "contourcarpet": [
           {
            "colorbar": {
             "outlinewidth": 0,
             "ticks": ""
            },
            "type": "contourcarpet"
           }
          ],
          "heatmap": [
           {
            "colorbar": {
             "outlinewidth": 0,
             "ticks": ""
            },
            "colorscale": [
             [
              0,
              "#0d0887"
             ],
             [
              0.1111111111111111,
              "#46039f"
             ],
             [
              0.2222222222222222,
              "#7201a8"
             ],
             [
              0.3333333333333333,
              "#9c179e"
             ],
             [
              0.4444444444444444,
              "#bd3786"
             ],
             [
              0.5555555555555556,
              "#d8576b"
             ],
             [
              0.6666666666666666,
              "#ed7953"
             ],
             [
              0.7777777777777778,
              "#fb9f3a"
             ],
             [
              0.8888888888888888,
              "#fdca26"
             ],
             [
              1,
              "#f0f921"
             ]
            ],
            "type": "heatmap"
           }
          ],
          "heatmapgl": [
           {
            "colorbar": {
             "outlinewidth": 0,
             "ticks": ""
            },
            "colorscale": [
             [
              0,
              "#0d0887"
             ],
             [
              0.1111111111111111,
              "#46039f"
             ],
             [
              0.2222222222222222,
              "#7201a8"
             ],
             [
              0.3333333333333333,
              "#9c179e"
             ],
             [
              0.4444444444444444,
              "#bd3786"
             ],
             [
              0.5555555555555556,
              "#d8576b"
             ],
             [
              0.6666666666666666,
              "#ed7953"
             ],
             [
              0.7777777777777778,
              "#fb9f3a"
             ],
             [
              0.8888888888888888,
              "#fdca26"
             ],
             [
              1,
              "#f0f921"
             ]
            ],
            "type": "heatmapgl"
           }
          ],
          "histogram": [
           {
            "marker": {
             "colorbar": {
              "outlinewidth": 0,
              "ticks": ""
             }
            },
            "type": "histogram"
           }
          ],
          "histogram2d": [
           {
            "colorbar": {
             "outlinewidth": 0,
             "ticks": ""
            },
            "colorscale": [
             [
              0,
              "#0d0887"
             ],
             [
              0.1111111111111111,
              "#46039f"
             ],
             [
              0.2222222222222222,
              "#7201a8"
             ],
             [
              0.3333333333333333,
              "#9c179e"
             ],
             [
              0.4444444444444444,
              "#bd3786"
             ],
             [
              0.5555555555555556,
              "#d8576b"
             ],
             [
              0.6666666666666666,
              "#ed7953"
             ],
             [
              0.7777777777777778,
              "#fb9f3a"
             ],
             [
              0.8888888888888888,
              "#fdca26"
             ],
             [
              1,
              "#f0f921"
             ]
            ],
            "type": "histogram2d"
           }
          ],
          "histogram2dcontour": [
           {
            "colorbar": {
             "outlinewidth": 0,
             "ticks": ""
            },
            "colorscale": [
             [
              0,
              "#0d0887"
             ],
             [
              0.1111111111111111,
              "#46039f"
             ],
             [
              0.2222222222222222,
              "#7201a8"
             ],
             [
              0.3333333333333333,
              "#9c179e"
             ],
             [
              0.4444444444444444,
              "#bd3786"
             ],
             [
              0.5555555555555556,
              "#d8576b"
             ],
             [
              0.6666666666666666,
              "#ed7953"
             ],
             [
              0.7777777777777778,
              "#fb9f3a"
             ],
             [
              0.8888888888888888,
              "#fdca26"
             ],
             [
              1,
              "#f0f921"
             ]
            ],
            "type": "histogram2dcontour"
           }
          ],
          "mesh3d": [
           {
            "colorbar": {
             "outlinewidth": 0,
             "ticks": ""
            },
            "type": "mesh3d"
           }
          ],
          "parcoords": [
           {
            "line": {
             "colorbar": {
              "outlinewidth": 0,
              "ticks": ""
             }
            },
            "type": "parcoords"
           }
          ],
          "pie": [
           {
            "automargin": true,
            "type": "pie"
           }
          ],
          "scatter": [
           {
            "marker": {
             "colorbar": {
              "outlinewidth": 0,
              "ticks": ""
             }
            },
            "type": "scatter"
           }
          ],
          "scatter3d": [
           {
            "line": {
             "colorbar": {
              "outlinewidth": 0,
              "ticks": ""
             }
            },
            "marker": {
             "colorbar": {
              "outlinewidth": 0,
              "ticks": ""
             }
            },
            "type": "scatter3d"
           }
          ],
          "scattercarpet": [
           {
            "marker": {
             "colorbar": {
              "outlinewidth": 0,
              "ticks": ""
             }
            },
            "type": "scattercarpet"
           }
          ],
          "scattergeo": [
           {
            "marker": {
             "colorbar": {
              "outlinewidth": 0,
              "ticks": ""
             }
            },
            "type": "scattergeo"
           }
          ],
          "scattergl": [
           {
            "marker": {
             "colorbar": {
              "outlinewidth": 0,
              "ticks": ""
             }
            },
            "type": "scattergl"
           }
          ],
          "scattermapbox": [
           {
            "marker": {
             "colorbar": {
              "outlinewidth": 0,
              "ticks": ""
             }
            },
            "type": "scattermapbox"
           }
          ],
          "scatterpolar": [
           {
            "marker": {
             "colorbar": {
              "outlinewidth": 0,
              "ticks": ""
             }
            },
            "type": "scatterpolar"
           }
          ],
          "scatterpolargl": [
           {
            "marker": {
             "colorbar": {
              "outlinewidth": 0,
              "ticks": ""
             }
            },
            "type": "scatterpolargl"
           }
          ],
          "scatterternary": [
           {
            "marker": {
             "colorbar": {
              "outlinewidth": 0,
              "ticks": ""
             }
            },
            "type": "scatterternary"
           }
          ],
          "surface": [
           {
            "colorbar": {
             "outlinewidth": 0,
             "ticks": ""
            },
            "colorscale": [
             [
              0,
              "#0d0887"
             ],
             [
              0.1111111111111111,
              "#46039f"
             ],
             [
              0.2222222222222222,
              "#7201a8"
             ],
             [
              0.3333333333333333,
              "#9c179e"
             ],
             [
              0.4444444444444444,
              "#bd3786"
             ],
             [
              0.5555555555555556,
              "#d8576b"
             ],
             [
              0.6666666666666666,
              "#ed7953"
             ],
             [
              0.7777777777777778,
              "#fb9f3a"
             ],
             [
              0.8888888888888888,
              "#fdca26"
             ],
             [
              1,
              "#f0f921"
             ]
            ],
            "type": "surface"
           }
          ],
          "table": [
           {
            "cells": {
             "fill": {
              "color": "#EBF0F8"
             },
             "line": {
              "color": "white"
             }
            },
            "header": {
             "fill": {
              "color": "#C8D4E3"
             },
             "line": {
              "color": "white"
             }
            },
            "type": "table"
           }
          ]
         },
         "layout": {
          "annotationdefaults": {
           "arrowcolor": "#2a3f5f",
           "arrowhead": 0,
           "arrowwidth": 1
          },
          "autotypenumbers": "strict",
          "coloraxis": {
           "colorbar": {
            "outlinewidth": 0,
            "ticks": ""
           }
          },
          "colorscale": {
           "diverging": [
            [
             0,
             "#8e0152"
            ],
            [
             0.1,
             "#c51b7d"
            ],
            [
             0.2,
             "#de77ae"
            ],
            [
             0.3,
             "#f1b6da"
            ],
            [
             0.4,
             "#fde0ef"
            ],
            [
             0.5,
             "#f7f7f7"
            ],
            [
             0.6,
             "#e6f5d0"
            ],
            [
             0.7,
             "#b8e186"
            ],
            [
             0.8,
             "#7fbc41"
            ],
            [
             0.9,
             "#4d9221"
            ],
            [
             1,
             "#276419"
            ]
           ],
           "sequential": [
            [
             0,
             "#0d0887"
            ],
            [
             0.1111111111111111,
             "#46039f"
            ],
            [
             0.2222222222222222,
             "#7201a8"
            ],
            [
             0.3333333333333333,
             "#9c179e"
            ],
            [
             0.4444444444444444,
             "#bd3786"
            ],
            [
             0.5555555555555556,
             "#d8576b"
            ],
            [
             0.6666666666666666,
             "#ed7953"
            ],
            [
             0.7777777777777778,
             "#fb9f3a"
            ],
            [
             0.8888888888888888,
             "#fdca26"
            ],
            [
             1,
             "#f0f921"
            ]
           ],
           "sequentialminus": [
            [
             0,
             "#0d0887"
            ],
            [
             0.1111111111111111,
             "#46039f"
            ],
            [
             0.2222222222222222,
             "#7201a8"
            ],
            [
             0.3333333333333333,
             "#9c179e"
            ],
            [
             0.4444444444444444,
             "#bd3786"
            ],
            [
             0.5555555555555556,
             "#d8576b"
            ],
            [
             0.6666666666666666,
             "#ed7953"
            ],
            [
             0.7777777777777778,
             "#fb9f3a"
            ],
            [
             0.8888888888888888,
             "#fdca26"
            ],
            [
             1,
             "#f0f921"
            ]
           ]
          },
          "colorway": [
           "#636efa",
           "#EF553B",
           "#00cc96",
           "#ab63fa",
           "#FFA15A",
           "#19d3f3",
           "#FF6692",
           "#B6E880",
           "#FF97FF",
           "#FECB52"
          ],
          "font": {
           "color": "#2a3f5f"
          },
          "geo": {
           "bgcolor": "white",
           "lakecolor": "white",
           "landcolor": "#E5ECF6",
           "showlakes": true,
           "showland": true,
           "subunitcolor": "white"
          },
          "hoverlabel": {
           "align": "left"
          },
          "hovermode": "closest",
          "mapbox": {
           "style": "light"
          },
          "paper_bgcolor": "white",
          "plot_bgcolor": "#E5ECF6",
          "polar": {
           "angularaxis": {
            "gridcolor": "white",
            "linecolor": "white",
            "ticks": ""
           },
           "bgcolor": "#E5ECF6",
           "radialaxis": {
            "gridcolor": "white",
            "linecolor": "white",
            "ticks": ""
           }
          },
          "scene": {
           "xaxis": {
            "backgroundcolor": "#E5ECF6",
            "gridcolor": "white",
            "gridwidth": 2,
            "linecolor": "white",
            "showbackground": true,
            "ticks": "",
            "zerolinecolor": "white"
           },
           "yaxis": {
            "backgroundcolor": "#E5ECF6",
            "gridcolor": "white",
            "gridwidth": 2,
            "linecolor": "white",
            "showbackground": true,
            "ticks": "",
            "zerolinecolor": "white"
           },
           "zaxis": {
            "backgroundcolor": "#E5ECF6",
            "gridcolor": "white",
            "gridwidth": 2,
            "linecolor": "white",
            "showbackground": true,
            "ticks": "",
            "zerolinecolor": "white"
           }
          },
          "shapedefaults": {
           "line": {
            "color": "#2a3f5f"
           }
          },
          "ternary": {
           "aaxis": {
            "gridcolor": "white",
            "linecolor": "white",
            "ticks": ""
           },
           "baxis": {
            "gridcolor": "white",
            "linecolor": "white",
            "ticks": ""
           },
           "bgcolor": "#E5ECF6",
           "caxis": {
            "gridcolor": "white",
            "linecolor": "white",
            "ticks": ""
           }
          },
          "title": {
           "x": 0.05
          },
          "xaxis": {
           "automargin": true,
           "gridcolor": "white",
           "linecolor": "white",
           "ticks": "",
           "title": {
            "standoff": 15
           },
           "zerolinecolor": "white",
           "zerolinewidth": 2
          },
          "yaxis": {
           "automargin": true,
           "gridcolor": "white",
           "linecolor": "white",
           "ticks": "",
           "title": {
            "standoff": 15
           },
           "zerolinecolor": "white",
           "zerolinewidth": 2
          }
         }
        },
        "title": {
         "text": "Accuracy Evolution"
        },
        "xaxis": {
         "title": {
          "text": "Round Num"
         }
        },
        "yaxis": {
         "title": {
          "text": "Accuracy"
         }
        }
       }
      },
      "text/html": [
       "<div>                            <div id=\"8886150f-d5b8-4f9e-b8c5-16a9cf55ca7f\" class=\"plotly-graph-div\" style=\"height:525px; width:100%;\"></div>            <script type=\"text/javascript\">                require([\"plotly\"], function(Plotly) {                    window.PLOTLYENV=window.PLOTLYENV || {};                                    if (document.getElementById(\"8886150f-d5b8-4f9e-b8c5-16a9cf55ca7f\")) {                    Plotly.newPlot(                        \"8886150f-d5b8-4f9e-b8c5-16a9cf55ca7f\",                        [{\"mode\": \"lines+markers\", \"name\": \"total_acc0\", \"type\": \"scatter\", \"x\": [3, 6, 9, 12, 15, 18, 21, 24, 27, 30], \"y\": [46.11, 72.26, 80.85, 84.72, 86.58, 88.33, 89.65, 90.42, 91.03, 91.84]}, {\"mode\": \"lines+markers\", \"name\": \"flipped_source0\", \"type\": \"scatter\", \"x\": [3, 6, 9, 12, 15, 18, 21, 24, 27, 30], \"y\": [57.46124031007752, 70.15503875968992, 81.5891472868217, 83.91472868217055, 82.94573643410853, 83.81782945736434, 85.65891472868218, 86.33720930232558, 90.21317829457364, 92.63565891472868]}, {\"mode\": \"lines+markers\", \"name\": \"flipped_target0\", \"type\": \"scatter\", \"x\": [3, 6, 9, 12, 15, 18, 21, 24, 27, 30], \"y\": [70.16848364717542, 86.02576808721507, 69.37561942517344, 87.41328047571854, 70.36669970267592, 83.84539147670961, 85.0346878097126, 89.197224975223, 87.21506442021804, 90.48562933597621]}, {\"mode\": \"lines+markers\", \"name\": \"total_acc10\", \"type\": \"scatter\", \"x\": [3, 6, 9, 12, 15, 18, 21, 24, 27, 30], \"y\": [44.16, 76.01, 83.47, 86.78, 88.37, 89.17, 90.17, 90.5, 91.23, 92.64]}, {\"mode\": \"lines+markers\", \"name\": \"flipped_source10\", \"type\": \"scatter\", \"x\": [3, 6, 9, 12, 15, 18, 21, 24, 27, 30], \"y\": [43.21705426356589, 73.74031007751938, 79.36046511627907, 86.33720930232558, 83.52713178294573, 88.0813953488372, 84.20542635658914, 82.75193798449612, 84.10852713178295, 90.79457364341086]}, {\"mode\": \"lines+markers\", \"name\": \"flipped_target10\", \"type\": \"scatter\", \"x\": [3, 6, 9, 12, 15, 18, 21, 24, 27, 30], \"y\": [0.5946481665014867, 16.55104063429138, 62.537165510406346, 77.10604558969277, 84.2418235877106, 85.62933597621408, 85.82755203171457, 90.8820614469772, 86.62041625371656, 90.8820614469772]}, {\"mode\": \"lines+markers\", \"name\": \"total_acc20\", \"type\": \"scatter\", \"x\": [3, 6, 9, 12, 15, 18, 21, 24, 27, 30], \"y\": [51.19, 72.85, 77.22, 83.46, 85.26, 87.55, 87.62, 87.89, 90.35, 91.79]}, {\"mode\": \"lines+markers\", \"name\": \"flipped_source20\", \"type\": \"scatter\", \"x\": [3, 6, 9, 12, 15, 18, 21, 24, 27, 30], \"y\": [76.06589147286822, 58.042635658914726, 21.22093023255814, 58.62403100775194, 56.104651162790695, 71.70542635658914, 65.31007751937985, 59.883720930232556, 78.58527131782945, 88.56589147286822]}, {\"mode\": \"lines+markers\", \"name\": \"flipped_target20\", \"type\": \"scatter\", \"x\": [3, 6, 9, 12, 15, 18, 21, 24, 27, 30], \"y\": [3.1714568880079286, 18.334985133795836, 78.39444995044599, 77.50247770069376, 77.10604558969277, 81.16947472745292, 84.4400396432111, 87.80971258671953, 87.31417244796829, 86.32309217046581]}, {\"mode\": \"lines+markers\", \"name\": \"total_acc40\", \"type\": \"scatter\", \"x\": [3, 6, 9, 12, 15, 18, 21, 24, 27, 30], \"y\": [39.78, 64.34, 74.3, 78.23, 81.74, 87.44, 87.5, 85.13, 83.61, 82.28]}, {\"mode\": \"lines+markers\", \"name\": \"flipped_source40\", \"type\": \"scatter\", \"x\": [3, 6, 9, 12, 15, 18, 21, 24, 27, 30], \"y\": [0.0, 0.0, 5.426356589147287, 6.976744186046512, 25.775193798449614, 69.47674418604652, 62.4031007751938, 33.333333333333336, 13.081395348837209, 0.0]}, {\"mode\": \"lines+markers\", \"name\": \"flipped_target40\", \"type\": \"scatter\", \"x\": [3, 6, 9, 12, 15, 18, 21, 24, 27, 30], \"y\": [68.78097125867195, 84.4400396432111, 66.10505450941527, 81.86323092170466, 87.21506442021804, 85.53022794846383, 88.10703666997027, 89.99008919722498, 88.50346878097126, 87.1159563924678]}],                        {\"template\": {\"data\": {\"bar\": [{\"error_x\": {\"color\": \"#2a3f5f\"}, \"error_y\": {\"color\": \"#2a3f5f\"}, \"marker\": {\"line\": {\"color\": \"#E5ECF6\", \"width\": 0.5}}, \"type\": \"bar\"}], \"barpolar\": [{\"marker\": {\"line\": {\"color\": \"#E5ECF6\", \"width\": 0.5}}, \"type\": \"barpolar\"}], \"carpet\": [{\"aaxis\": {\"endlinecolor\": \"#2a3f5f\", \"gridcolor\": \"white\", \"linecolor\": \"white\", \"minorgridcolor\": \"white\", \"startlinecolor\": \"#2a3f5f\"}, \"baxis\": {\"endlinecolor\": \"#2a3f5f\", \"gridcolor\": \"white\", \"linecolor\": \"white\", \"minorgridcolor\": \"white\", \"startlinecolor\": \"#2a3f5f\"}, \"type\": \"carpet\"}], \"choropleth\": [{\"colorbar\": {\"outlinewidth\": 0, \"ticks\": \"\"}, \"type\": \"choropleth\"}], \"contour\": [{\"colorbar\": {\"outlinewidth\": 0, \"ticks\": \"\"}, \"colorscale\": [[0.0, \"#0d0887\"], [0.1111111111111111, \"#46039f\"], [0.2222222222222222, \"#7201a8\"], [0.3333333333333333, \"#9c179e\"], [0.4444444444444444, \"#bd3786\"], [0.5555555555555556, \"#d8576b\"], [0.6666666666666666, \"#ed7953\"], [0.7777777777777778, \"#fb9f3a\"], [0.8888888888888888, \"#fdca26\"], [1.0, \"#f0f921\"]], \"type\": \"contour\"}], \"contourcarpet\": [{\"colorbar\": {\"outlinewidth\": 0, \"ticks\": \"\"}, \"type\": \"contourcarpet\"}], \"heatmap\": [{\"colorbar\": {\"outlinewidth\": 0, \"ticks\": \"\"}, \"colorscale\": [[0.0, \"#0d0887\"], [0.1111111111111111, \"#46039f\"], [0.2222222222222222, \"#7201a8\"], [0.3333333333333333, \"#9c179e\"], [0.4444444444444444, \"#bd3786\"], [0.5555555555555556, \"#d8576b\"], [0.6666666666666666, \"#ed7953\"], [0.7777777777777778, \"#fb9f3a\"], [0.8888888888888888, \"#fdca26\"], [1.0, \"#f0f921\"]], \"type\": \"heatmap\"}], \"heatmapgl\": [{\"colorbar\": {\"outlinewidth\": 0, \"ticks\": \"\"}, \"colorscale\": [[0.0, \"#0d0887\"], [0.1111111111111111, \"#46039f\"], [0.2222222222222222, \"#7201a8\"], [0.3333333333333333, \"#9c179e\"], [0.4444444444444444, \"#bd3786\"], [0.5555555555555556, \"#d8576b\"], [0.6666666666666666, \"#ed7953\"], [0.7777777777777778, \"#fb9f3a\"], [0.8888888888888888, \"#fdca26\"], [1.0, \"#f0f921\"]], \"type\": \"heatmapgl\"}], \"histogram\": [{\"marker\": {\"colorbar\": {\"outlinewidth\": 0, \"ticks\": \"\"}}, \"type\": \"histogram\"}], \"histogram2d\": [{\"colorbar\": {\"outlinewidth\": 0, \"ticks\": \"\"}, \"colorscale\": [[0.0, \"#0d0887\"], [0.1111111111111111, \"#46039f\"], [0.2222222222222222, \"#7201a8\"], [0.3333333333333333, \"#9c179e\"], [0.4444444444444444, \"#bd3786\"], [0.5555555555555556, \"#d8576b\"], [0.6666666666666666, \"#ed7953\"], [0.7777777777777778, \"#fb9f3a\"], [0.8888888888888888, \"#fdca26\"], [1.0, \"#f0f921\"]], \"type\": \"histogram2d\"}], \"histogram2dcontour\": [{\"colorbar\": {\"outlinewidth\": 0, \"ticks\": \"\"}, \"colorscale\": [[0.0, \"#0d0887\"], [0.1111111111111111, \"#46039f\"], [0.2222222222222222, \"#7201a8\"], [0.3333333333333333, \"#9c179e\"], [0.4444444444444444, \"#bd3786\"], [0.5555555555555556, \"#d8576b\"], [0.6666666666666666, \"#ed7953\"], [0.7777777777777778, \"#fb9f3a\"], [0.8888888888888888, \"#fdca26\"], [1.0, \"#f0f921\"]], \"type\": \"histogram2dcontour\"}], \"mesh3d\": [{\"colorbar\": {\"outlinewidth\": 0, \"ticks\": \"\"}, \"type\": \"mesh3d\"}], \"parcoords\": [{\"line\": {\"colorbar\": {\"outlinewidth\": 0, \"ticks\": \"\"}}, \"type\": \"parcoords\"}], \"pie\": [{\"automargin\": true, \"type\": \"pie\"}], \"scatter\": [{\"marker\": {\"colorbar\": {\"outlinewidth\": 0, \"ticks\": \"\"}}, \"type\": \"scatter\"}], \"scatter3d\": [{\"line\": {\"colorbar\": {\"outlinewidth\": 0, \"ticks\": \"\"}}, \"marker\": {\"colorbar\": {\"outlinewidth\": 0, \"ticks\": \"\"}}, \"type\": \"scatter3d\"}], \"scattercarpet\": [{\"marker\": {\"colorbar\": {\"outlinewidth\": 0, \"ticks\": \"\"}}, \"type\": \"scattercarpet\"}], \"scattergeo\": [{\"marker\": {\"colorbar\": {\"outlinewidth\": 0, \"ticks\": \"\"}}, \"type\": \"scattergeo\"}], \"scattergl\": [{\"marker\": {\"colorbar\": {\"outlinewidth\": 0, \"ticks\": \"\"}}, \"type\": \"scattergl\"}], \"scattermapbox\": [{\"marker\": {\"colorbar\": {\"outlinewidth\": 0, \"ticks\": \"\"}}, \"type\": \"scattermapbox\"}], \"scatterpolar\": [{\"marker\": {\"colorbar\": {\"outlinewidth\": 0, \"ticks\": \"\"}}, \"type\": \"scatterpolar\"}], \"scatterpolargl\": [{\"marker\": {\"colorbar\": {\"outlinewidth\": 0, \"ticks\": \"\"}}, \"type\": \"scatterpolargl\"}], \"scatterternary\": [{\"marker\": {\"colorbar\": {\"outlinewidth\": 0, \"ticks\": \"\"}}, \"type\": \"scatterternary\"}], \"surface\": [{\"colorbar\": {\"outlinewidth\": 0, \"ticks\": \"\"}, \"colorscale\": [[0.0, \"#0d0887\"], [0.1111111111111111, \"#46039f\"], [0.2222222222222222, \"#7201a8\"], [0.3333333333333333, \"#9c179e\"], [0.4444444444444444, \"#bd3786\"], [0.5555555555555556, \"#d8576b\"], [0.6666666666666666, \"#ed7953\"], [0.7777777777777778, \"#fb9f3a\"], [0.8888888888888888, \"#fdca26\"], [1.0, \"#f0f921\"]], \"type\": \"surface\"}], \"table\": [{\"cells\": {\"fill\": {\"color\": \"#EBF0F8\"}, \"line\": {\"color\": \"white\"}}, \"header\": {\"fill\": {\"color\": \"#C8D4E3\"}, \"line\": {\"color\": \"white\"}}, \"type\": \"table\"}]}, \"layout\": {\"annotationdefaults\": {\"arrowcolor\": \"#2a3f5f\", \"arrowhead\": 0, \"arrowwidth\": 1}, \"autotypenumbers\": \"strict\", \"coloraxis\": {\"colorbar\": {\"outlinewidth\": 0, \"ticks\": \"\"}}, \"colorscale\": {\"diverging\": [[0, \"#8e0152\"], [0.1, \"#c51b7d\"], [0.2, \"#de77ae\"], [0.3, \"#f1b6da\"], [0.4, \"#fde0ef\"], [0.5, \"#f7f7f7\"], [0.6, \"#e6f5d0\"], [0.7, \"#b8e186\"], [0.8, \"#7fbc41\"], [0.9, \"#4d9221\"], [1, \"#276419\"]], \"sequential\": [[0.0, \"#0d0887\"], [0.1111111111111111, \"#46039f\"], [0.2222222222222222, \"#7201a8\"], [0.3333333333333333, \"#9c179e\"], [0.4444444444444444, \"#bd3786\"], [0.5555555555555556, \"#d8576b\"], [0.6666666666666666, \"#ed7953\"], [0.7777777777777778, \"#fb9f3a\"], [0.8888888888888888, \"#fdca26\"], [1.0, \"#f0f921\"]], \"sequentialminus\": [[0.0, \"#0d0887\"], [0.1111111111111111, \"#46039f\"], [0.2222222222222222, \"#7201a8\"], [0.3333333333333333, \"#9c179e\"], [0.4444444444444444, \"#bd3786\"], [0.5555555555555556, \"#d8576b\"], [0.6666666666666666, \"#ed7953\"], [0.7777777777777778, \"#fb9f3a\"], [0.8888888888888888, \"#fdca26\"], [1.0, \"#f0f921\"]]}, \"colorway\": [\"#636efa\", \"#EF553B\", \"#00cc96\", \"#ab63fa\", \"#FFA15A\", \"#19d3f3\", \"#FF6692\", \"#B6E880\", \"#FF97FF\", \"#FECB52\"], \"font\": {\"color\": \"#2a3f5f\"}, \"geo\": {\"bgcolor\": \"white\", \"lakecolor\": \"white\", \"landcolor\": \"#E5ECF6\", \"showlakes\": true, \"showland\": true, \"subunitcolor\": \"white\"}, \"hoverlabel\": {\"align\": \"left\"}, \"hovermode\": \"closest\", \"mapbox\": {\"style\": \"light\"}, \"paper_bgcolor\": \"white\", \"plot_bgcolor\": \"#E5ECF6\", \"polar\": {\"angularaxis\": {\"gridcolor\": \"white\", \"linecolor\": \"white\", \"ticks\": \"\"}, \"bgcolor\": \"#E5ECF6\", \"radialaxis\": {\"gridcolor\": \"white\", \"linecolor\": \"white\", \"ticks\": \"\"}}, \"scene\": {\"xaxis\": {\"backgroundcolor\": \"#E5ECF6\", \"gridcolor\": \"white\", \"gridwidth\": 2, \"linecolor\": \"white\", \"showbackground\": true, \"ticks\": \"\", \"zerolinecolor\": \"white\"}, \"yaxis\": {\"backgroundcolor\": \"#E5ECF6\", \"gridcolor\": \"white\", \"gridwidth\": 2, \"linecolor\": \"white\", \"showbackground\": true, \"ticks\": \"\", \"zerolinecolor\": \"white\"}, \"zaxis\": {\"backgroundcolor\": \"#E5ECF6\", \"gridcolor\": \"white\", \"gridwidth\": 2, \"linecolor\": \"white\", \"showbackground\": true, \"ticks\": \"\", \"zerolinecolor\": \"white\"}}, \"shapedefaults\": {\"line\": {\"color\": \"#2a3f5f\"}}, \"ternary\": {\"aaxis\": {\"gridcolor\": \"white\", \"linecolor\": \"white\", \"ticks\": \"\"}, \"baxis\": {\"gridcolor\": \"white\", \"linecolor\": \"white\", \"ticks\": \"\"}, \"bgcolor\": \"#E5ECF6\", \"caxis\": {\"gridcolor\": \"white\", \"linecolor\": \"white\", \"ticks\": \"\"}}, \"title\": {\"x\": 0.05}, \"xaxis\": {\"automargin\": true, \"gridcolor\": \"white\", \"linecolor\": \"white\", \"ticks\": \"\", \"title\": {\"standoff\": 15}, \"zerolinecolor\": \"white\", \"zerolinewidth\": 2}, \"yaxis\": {\"automargin\": true, \"gridcolor\": \"white\", \"linecolor\": \"white\", \"ticks\": \"\", \"title\": {\"standoff\": 15}, \"zerolinecolor\": \"white\", \"zerolinewidth\": 2}}}, \"title\": {\"text\": \"Accuracy Evolution\"}, \"xaxis\": {\"title\": {\"text\": \"Round Num\"}}, \"yaxis\": {\"title\": {\"text\": \"Accuracy\"}}},                        {\"responsive\": true}                    ).then(function(){\n",
       "                            \n",
       "var gd = document.getElementById('8886150f-d5b8-4f9e-b8c5-16a9cf55ca7f');\n",
       "var x = new MutationObserver(function (mutations, observer) {{\n",
       "        var display = window.getComputedStyle(gd).display;\n",
       "        if (!display || display === 'none') {{\n",
       "            console.log([gd, 'removed!']);\n",
       "            Plotly.purge(gd);\n",
       "            observer.disconnect();\n",
       "        }}\n",
       "}});\n",
       "\n",
       "// Listen for the removal of the full notebook cells\n",
       "var notebookContainer = gd.closest('#notebook-container');\n",
       "if (notebookContainer) {{\n",
       "    x.observe(notebookContainer, {childList: true});\n",
       "}}\n",
       "\n",
       "// Listen for the clearing of the current output cell\n",
       "var outputEl = gd.closest('.output');\n",
       "if (outputEl) {{\n",
       "    x.observe(outputEl, {childList: true});\n",
       "}}\n",
       "\n",
       "                        })                };                });            </script>        </div>"
      ]
     },
     "metadata": {},
     "output_type": "display_data"
    }
   ],
   "source": [
    "# Create traces\n",
    "fig = go.Figure()\n",
    "for i, data_df in enumerate(all_data_dfs):\n",
    "    \n",
    "    # to make data40 and plot curves make better sense\n",
    "    if i==3:\n",
    "        i += 1\n",
    "\n",
    "    fig.add_trace(go.Scatter(x=data_df['round_num'], y=data_df['total_acc'],\n",
    "                        mode='lines+markers',\n",
    "                        name=f'total_acc{i*10}'))\n",
    "\n",
    "    fig.add_trace(go.Scatter(x=data_df['round_num'], y=data_df['class_2_acc'],\n",
    "                        mode='lines+markers',\n",
    "                        name=f'flipped_source{i*10}'))\n",
    "\n",
    "    fig.add_trace(go.Scatter(x=data_df['round_num'], y=data_df['class_9_acc'],\n",
    "                        mode='lines+markers',\n",
    "                        name=f'flipped_target{i*10}'))\n",
    "\n",
    "fig.update_layout(title='Accuracy Evolution',\n",
    "                   xaxis_title='Round Num',\n",
    "                   yaxis_title='Accuracy')\n",
    "fig.show()"
   ]
  },
  {
   "cell_type": "markdown",
   "id": "9561d7d9",
   "metadata": {},
   "source": [
    "### Separate sub plots"
   ]
  },
  {
   "cell_type": "code",
   "execution_count": 22,
   "id": "d8ec91aa",
   "metadata": {},
   "outputs": [
    {
     "data": {
      "application/vnd.plotly.v1+json": {
       "config": {
        "plotlyServerURL": "https://plot.ly"
       },
       "data": [
        {
         "mode": "lines+markers",
         "name": "total_acc0",
         "type": "scatter",
         "x": [
          3,
          6,
          9,
          12,
          15,
          18,
          21,
          24,
          27,
          30
         ],
         "xaxis": "x",
         "y": [
          39.78,
          64.34,
          74.3,
          78.23,
          81.74,
          87.44,
          87.5,
          85.13,
          83.61,
          82.28
         ],
         "yaxis": "y"
        },
        {
         "mode": "lines+markers",
         "name": "flipped_source0",
         "type": "scatter",
         "x": [
          3,
          6,
          9,
          12,
          15,
          18,
          21,
          24,
          27,
          30
         ],
         "xaxis": "x",
         "y": [
          0,
          0,
          5.426356589147287,
          6.976744186046512,
          25.775193798449614,
          69.47674418604652,
          62.4031007751938,
          33.333333333333336,
          13.081395348837209,
          0
         ],
         "yaxis": "y"
        },
        {
         "mode": "lines+markers",
         "name": "flipped_target0",
         "type": "scatter",
         "x": [
          3,
          6,
          9,
          12,
          15,
          18,
          21,
          24,
          27,
          30
         ],
         "xaxis": "x",
         "y": [
          68.78097125867195,
          84.4400396432111,
          66.10505450941527,
          81.86323092170466,
          87.21506442021804,
          85.53022794846383,
          88.10703666997027,
          89.99008919722498,
          88.50346878097126,
          87.1159563924678
         ],
         "yaxis": "y"
        },
        {
         "mode": "lines+markers",
         "name": "total_acc10",
         "type": "scatter",
         "x": [
          3,
          6,
          9,
          12,
          15,
          18,
          21,
          24,
          27,
          30
         ],
         "xaxis": "x2",
         "y": [
          39.78,
          64.34,
          74.3,
          78.23,
          81.74,
          87.44,
          87.5,
          85.13,
          83.61,
          82.28
         ],
         "yaxis": "y2"
        },
        {
         "mode": "lines+markers",
         "name": "flipped_source10",
         "type": "scatter",
         "x": [
          3,
          6,
          9,
          12,
          15,
          18,
          21,
          24,
          27,
          30
         ],
         "xaxis": "x2",
         "y": [
          0,
          0,
          5.426356589147287,
          6.976744186046512,
          25.775193798449614,
          69.47674418604652,
          62.4031007751938,
          33.333333333333336,
          13.081395348837209,
          0
         ],
         "yaxis": "y2"
        },
        {
         "mode": "lines+markers",
         "name": "flipped_target10",
         "type": "scatter",
         "x": [
          3,
          6,
          9,
          12,
          15,
          18,
          21,
          24,
          27,
          30
         ],
         "xaxis": "x2",
         "y": [
          68.78097125867195,
          84.4400396432111,
          66.10505450941527,
          81.86323092170466,
          87.21506442021804,
          85.53022794846383,
          88.10703666997027,
          89.99008919722498,
          88.50346878097126,
          87.1159563924678
         ],
         "yaxis": "y2"
        },
        {
         "mode": "lines+markers",
         "name": "total_acc20",
         "type": "scatter",
         "x": [
          3,
          6,
          9,
          12,
          15,
          18,
          21,
          24,
          27,
          30
         ],
         "xaxis": "x3",
         "y": [
          39.78,
          64.34,
          74.3,
          78.23,
          81.74,
          87.44,
          87.5,
          85.13,
          83.61,
          82.28
         ],
         "yaxis": "y3"
        },
        {
         "mode": "lines+markers",
         "name": "flipped_source20",
         "type": "scatter",
         "x": [
          3,
          6,
          9,
          12,
          15,
          18,
          21,
          24,
          27,
          30
         ],
         "xaxis": "x3",
         "y": [
          0,
          0,
          5.426356589147287,
          6.976744186046512,
          25.775193798449614,
          69.47674418604652,
          62.4031007751938,
          33.333333333333336,
          13.081395348837209,
          0
         ],
         "yaxis": "y3"
        },
        {
         "mode": "lines+markers",
         "name": "flipped_target20",
         "type": "scatter",
         "x": [
          3,
          6,
          9,
          12,
          15,
          18,
          21,
          24,
          27,
          30
         ],
         "xaxis": "x3",
         "y": [
          68.78097125867195,
          84.4400396432111,
          66.10505450941527,
          81.86323092170466,
          87.21506442021804,
          85.53022794846383,
          88.10703666997027,
          89.99008919722498,
          88.50346878097126,
          87.1159563924678
         ],
         "yaxis": "y3"
        },
        {
         "mode": "lines+markers",
         "name": "total_acc40",
         "type": "scatter",
         "x": [
          3,
          6,
          9,
          12,
          15,
          18,
          21,
          24,
          27,
          30
         ],
         "xaxis": "x4",
         "y": [
          39.78,
          64.34,
          74.3,
          78.23,
          81.74,
          87.44,
          87.5,
          85.13,
          83.61,
          82.28
         ],
         "yaxis": "y4"
        },
        {
         "mode": "lines+markers",
         "name": "flipped_source40",
         "type": "scatter",
         "x": [
          3,
          6,
          9,
          12,
          15,
          18,
          21,
          24,
          27,
          30
         ],
         "xaxis": "x4",
         "y": [
          0,
          0,
          5.426356589147287,
          6.976744186046512,
          25.775193798449614,
          69.47674418604652,
          62.4031007751938,
          33.333333333333336,
          13.081395348837209,
          0
         ],
         "yaxis": "y4"
        },
        {
         "mode": "lines+markers",
         "name": "flipped_target40",
         "type": "scatter",
         "x": [
          3,
          6,
          9,
          12,
          15,
          18,
          21,
          24,
          27,
          30
         ],
         "xaxis": "x4",
         "y": [
          68.78097125867195,
          84.4400396432111,
          66.10505450941527,
          81.86323092170466,
          87.21506442021804,
          85.53022794846383,
          88.10703666997027,
          89.99008919722498,
          88.50346878097126,
          87.1159563924678
         ],
         "yaxis": "y4"
        }
       ],
       "layout": {
        "template": {
         "data": {
          "bar": [
           {
            "error_x": {
             "color": "#2a3f5f"
            },
            "error_y": {
             "color": "#2a3f5f"
            },
            "marker": {
             "line": {
              "color": "#E5ECF6",
              "width": 0.5
             }
            },
            "type": "bar"
           }
          ],
          "barpolar": [
           {
            "marker": {
             "line": {
              "color": "#E5ECF6",
              "width": 0.5
             }
            },
            "type": "barpolar"
           }
          ],
          "carpet": [
           {
            "aaxis": {
             "endlinecolor": "#2a3f5f",
             "gridcolor": "white",
             "linecolor": "white",
             "minorgridcolor": "white",
             "startlinecolor": "#2a3f5f"
            },
            "baxis": {
             "endlinecolor": "#2a3f5f",
             "gridcolor": "white",
             "linecolor": "white",
             "minorgridcolor": "white",
             "startlinecolor": "#2a3f5f"
            },
            "type": "carpet"
           }
          ],
          "choropleth": [
           {
            "colorbar": {
             "outlinewidth": 0,
             "ticks": ""
            },
            "type": "choropleth"
           }
          ],
          "contour": [
           {
            "colorbar": {
             "outlinewidth": 0,
             "ticks": ""
            },
            "colorscale": [
             [
              0,
              "#0d0887"
             ],
             [
              0.1111111111111111,
              "#46039f"
             ],
             [
              0.2222222222222222,
              "#7201a8"
             ],
             [
              0.3333333333333333,
              "#9c179e"
             ],
             [
              0.4444444444444444,
              "#bd3786"
             ],
             [
              0.5555555555555556,
              "#d8576b"
             ],
             [
              0.6666666666666666,
              "#ed7953"
             ],
             [
              0.7777777777777778,
              "#fb9f3a"
             ],
             [
              0.8888888888888888,
              "#fdca26"
             ],
             [
              1,
              "#f0f921"
             ]
            ],
            "type": "contour"
           }
          ],
          "contourcarpet": [
           {
            "colorbar": {
             "outlinewidth": 0,
             "ticks": ""
            },
            "type": "contourcarpet"
           }
          ],
          "heatmap": [
           {
            "colorbar": {
             "outlinewidth": 0,
             "ticks": ""
            },
            "colorscale": [
             [
              0,
              "#0d0887"
             ],
             [
              0.1111111111111111,
              "#46039f"
             ],
             [
              0.2222222222222222,
              "#7201a8"
             ],
             [
              0.3333333333333333,
              "#9c179e"
             ],
             [
              0.4444444444444444,
              "#bd3786"
             ],
             [
              0.5555555555555556,
              "#d8576b"
             ],
             [
              0.6666666666666666,
              "#ed7953"
             ],
             [
              0.7777777777777778,
              "#fb9f3a"
             ],
             [
              0.8888888888888888,
              "#fdca26"
             ],
             [
              1,
              "#f0f921"
             ]
            ],
            "type": "heatmap"
           }
          ],
          "heatmapgl": [
           {
            "colorbar": {
             "outlinewidth": 0,
             "ticks": ""
            },
            "colorscale": [
             [
              0,
              "#0d0887"
             ],
             [
              0.1111111111111111,
              "#46039f"
             ],
             [
              0.2222222222222222,
              "#7201a8"
             ],
             [
              0.3333333333333333,
              "#9c179e"
             ],
             [
              0.4444444444444444,
              "#bd3786"
             ],
             [
              0.5555555555555556,
              "#d8576b"
             ],
             [
              0.6666666666666666,
              "#ed7953"
             ],
             [
              0.7777777777777778,
              "#fb9f3a"
             ],
             [
              0.8888888888888888,
              "#fdca26"
             ],
             [
              1,
              "#f0f921"
             ]
            ],
            "type": "heatmapgl"
           }
          ],
          "histogram": [
           {
            "marker": {
             "colorbar": {
              "outlinewidth": 0,
              "ticks": ""
             }
            },
            "type": "histogram"
           }
          ],
          "histogram2d": [
           {
            "colorbar": {
             "outlinewidth": 0,
             "ticks": ""
            },
            "colorscale": [
             [
              0,
              "#0d0887"
             ],
             [
              0.1111111111111111,
              "#46039f"
             ],
             [
              0.2222222222222222,
              "#7201a8"
             ],
             [
              0.3333333333333333,
              "#9c179e"
             ],
             [
              0.4444444444444444,
              "#bd3786"
             ],
             [
              0.5555555555555556,
              "#d8576b"
             ],
             [
              0.6666666666666666,
              "#ed7953"
             ],
             [
              0.7777777777777778,
              "#fb9f3a"
             ],
             [
              0.8888888888888888,
              "#fdca26"
             ],
             [
              1,
              "#f0f921"
             ]
            ],
            "type": "histogram2d"
           }
          ],
          "histogram2dcontour": [
           {
            "colorbar": {
             "outlinewidth": 0,
             "ticks": ""
            },
            "colorscale": [
             [
              0,
              "#0d0887"
             ],
             [
              0.1111111111111111,
              "#46039f"
             ],
             [
              0.2222222222222222,
              "#7201a8"
             ],
             [
              0.3333333333333333,
              "#9c179e"
             ],
             [
              0.4444444444444444,
              "#bd3786"
             ],
             [
              0.5555555555555556,
              "#d8576b"
             ],
             [
              0.6666666666666666,
              "#ed7953"
             ],
             [
              0.7777777777777778,
              "#fb9f3a"
             ],
             [
              0.8888888888888888,
              "#fdca26"
             ],
             [
              1,
              "#f0f921"
             ]
            ],
            "type": "histogram2dcontour"
           }
          ],
          "mesh3d": [
           {
            "colorbar": {
             "outlinewidth": 0,
             "ticks": ""
            },
            "type": "mesh3d"
           }
          ],
          "parcoords": [
           {
            "line": {
             "colorbar": {
              "outlinewidth": 0,
              "ticks": ""
             }
            },
            "type": "parcoords"
           }
          ],
          "pie": [
           {
            "automargin": true,
            "type": "pie"
           }
          ],
          "scatter": [
           {
            "marker": {
             "colorbar": {
              "outlinewidth": 0,
              "ticks": ""
             }
            },
            "type": "scatter"
           }
          ],
          "scatter3d": [
           {
            "line": {
             "colorbar": {
              "outlinewidth": 0,
              "ticks": ""
             }
            },
            "marker": {
             "colorbar": {
              "outlinewidth": 0,
              "ticks": ""
             }
            },
            "type": "scatter3d"
           }
          ],
          "scattercarpet": [
           {
            "marker": {
             "colorbar": {
              "outlinewidth": 0,
              "ticks": ""
             }
            },
            "type": "scattercarpet"
           }
          ],
          "scattergeo": [
           {
            "marker": {
             "colorbar": {
              "outlinewidth": 0,
              "ticks": ""
             }
            },
            "type": "scattergeo"
           }
          ],
          "scattergl": [
           {
            "marker": {
             "colorbar": {
              "outlinewidth": 0,
              "ticks": ""
             }
            },
            "type": "scattergl"
           }
          ],
          "scattermapbox": [
           {
            "marker": {
             "colorbar": {
              "outlinewidth": 0,
              "ticks": ""
             }
            },
            "type": "scattermapbox"
           }
          ],
          "scatterpolar": [
           {
            "marker": {
             "colorbar": {
              "outlinewidth": 0,
              "ticks": ""
             }
            },
            "type": "scatterpolar"
           }
          ],
          "scatterpolargl": [
           {
            "marker": {
             "colorbar": {
              "outlinewidth": 0,
              "ticks": ""
             }
            },
            "type": "scatterpolargl"
           }
          ],
          "scatterternary": [
           {
            "marker": {
             "colorbar": {
              "outlinewidth": 0,
              "ticks": ""
             }
            },
            "type": "scatterternary"
           }
          ],
          "surface": [
           {
            "colorbar": {
             "outlinewidth": 0,
             "ticks": ""
            },
            "colorscale": [
             [
              0,
              "#0d0887"
             ],
             [
              0.1111111111111111,
              "#46039f"
             ],
             [
              0.2222222222222222,
              "#7201a8"
             ],
             [
              0.3333333333333333,
              "#9c179e"
             ],
             [
              0.4444444444444444,
              "#bd3786"
             ],
             [
              0.5555555555555556,
              "#d8576b"
             ],
             [
              0.6666666666666666,
              "#ed7953"
             ],
             [
              0.7777777777777778,
              "#fb9f3a"
             ],
             [
              0.8888888888888888,
              "#fdca26"
             ],
             [
              1,
              "#f0f921"
             ]
            ],
            "type": "surface"
           }
          ],
          "table": [
           {
            "cells": {
             "fill": {
              "color": "#EBF0F8"
             },
             "line": {
              "color": "white"
             }
            },
            "header": {
             "fill": {
              "color": "#C8D4E3"
             },
             "line": {
              "color": "white"
             }
            },
            "type": "table"
           }
          ]
         },
         "layout": {
          "annotationdefaults": {
           "arrowcolor": "#2a3f5f",
           "arrowhead": 0,
           "arrowwidth": 1
          },
          "autotypenumbers": "strict",
          "coloraxis": {
           "colorbar": {
            "outlinewidth": 0,
            "ticks": ""
           }
          },
          "colorscale": {
           "diverging": [
            [
             0,
             "#8e0152"
            ],
            [
             0.1,
             "#c51b7d"
            ],
            [
             0.2,
             "#de77ae"
            ],
            [
             0.3,
             "#f1b6da"
            ],
            [
             0.4,
             "#fde0ef"
            ],
            [
             0.5,
             "#f7f7f7"
            ],
            [
             0.6,
             "#e6f5d0"
            ],
            [
             0.7,
             "#b8e186"
            ],
            [
             0.8,
             "#7fbc41"
            ],
            [
             0.9,
             "#4d9221"
            ],
            [
             1,
             "#276419"
            ]
           ],
           "sequential": [
            [
             0,
             "#0d0887"
            ],
            [
             0.1111111111111111,
             "#46039f"
            ],
            [
             0.2222222222222222,
             "#7201a8"
            ],
            [
             0.3333333333333333,
             "#9c179e"
            ],
            [
             0.4444444444444444,
             "#bd3786"
            ],
            [
             0.5555555555555556,
             "#d8576b"
            ],
            [
             0.6666666666666666,
             "#ed7953"
            ],
            [
             0.7777777777777778,
             "#fb9f3a"
            ],
            [
             0.8888888888888888,
             "#fdca26"
            ],
            [
             1,
             "#f0f921"
            ]
           ],
           "sequentialminus": [
            [
             0,
             "#0d0887"
            ],
            [
             0.1111111111111111,
             "#46039f"
            ],
            [
             0.2222222222222222,
             "#7201a8"
            ],
            [
             0.3333333333333333,
             "#9c179e"
            ],
            [
             0.4444444444444444,
             "#bd3786"
            ],
            [
             0.5555555555555556,
             "#d8576b"
            ],
            [
             0.6666666666666666,
             "#ed7953"
            ],
            [
             0.7777777777777778,
             "#fb9f3a"
            ],
            [
             0.8888888888888888,
             "#fdca26"
            ],
            [
             1,
             "#f0f921"
            ]
           ]
          },
          "colorway": [
           "#636efa",
           "#EF553B",
           "#00cc96",
           "#ab63fa",
           "#FFA15A",
           "#19d3f3",
           "#FF6692",
           "#B6E880",
           "#FF97FF",
           "#FECB52"
          ],
          "font": {
           "color": "#2a3f5f"
          },
          "geo": {
           "bgcolor": "white",
           "lakecolor": "white",
           "landcolor": "#E5ECF6",
           "showlakes": true,
           "showland": true,
           "subunitcolor": "white"
          },
          "hoverlabel": {
           "align": "left"
          },
          "hovermode": "closest",
          "mapbox": {
           "style": "light"
          },
          "paper_bgcolor": "white",
          "plot_bgcolor": "#E5ECF6",
          "polar": {
           "angularaxis": {
            "gridcolor": "white",
            "linecolor": "white",
            "ticks": ""
           },
           "bgcolor": "#E5ECF6",
           "radialaxis": {
            "gridcolor": "white",
            "linecolor": "white",
            "ticks": ""
           }
          },
          "scene": {
           "xaxis": {
            "backgroundcolor": "#E5ECF6",
            "gridcolor": "white",
            "gridwidth": 2,
            "linecolor": "white",
            "showbackground": true,
            "ticks": "",
            "zerolinecolor": "white"
           },
           "yaxis": {
            "backgroundcolor": "#E5ECF6",
            "gridcolor": "white",
            "gridwidth": 2,
            "linecolor": "white",
            "showbackground": true,
            "ticks": "",
            "zerolinecolor": "white"
           },
           "zaxis": {
            "backgroundcolor": "#E5ECF6",
            "gridcolor": "white",
            "gridwidth": 2,
            "linecolor": "white",
            "showbackground": true,
            "ticks": "",
            "zerolinecolor": "white"
           }
          },
          "shapedefaults": {
           "line": {
            "color": "#2a3f5f"
           }
          },
          "ternary": {
           "aaxis": {
            "gridcolor": "white",
            "linecolor": "white",
            "ticks": ""
           },
           "baxis": {
            "gridcolor": "white",
            "linecolor": "white",
            "ticks": ""
           },
           "bgcolor": "#E5ECF6",
           "caxis": {
            "gridcolor": "white",
            "linecolor": "white",
            "ticks": ""
           }
          },
          "title": {
           "x": 0.05
          },
          "xaxis": {
           "automargin": true,
           "gridcolor": "white",
           "linecolor": "white",
           "ticks": "",
           "title": {
            "standoff": 15
           },
           "zerolinecolor": "white",
           "zerolinewidth": 2
          },
          "yaxis": {
           "automargin": true,
           "gridcolor": "white",
           "linecolor": "white",
           "ticks": "",
           "title": {
            "standoff": 15
           },
           "zerolinecolor": "white",
           "zerolinewidth": 2
          }
         }
        },
        "title": {
         "text": "Accuracy Evolution"
        },
        "xaxis": {
         "anchor": "y",
         "domain": [
          0,
          0.45
         ],
         "title": {
          "text": "Round Num"
         }
        },
        "xaxis2": {
         "anchor": "y2",
         "domain": [
          0.55,
          1
         ]
        },
        "xaxis3": {
         "anchor": "y3",
         "domain": [
          0,
          0.45
         ]
        },
        "xaxis4": {
         "anchor": "y4",
         "domain": [
          0.55,
          1
         ]
        },
        "yaxis": {
         "anchor": "x",
         "domain": [
          0.575,
          1
         ],
         "title": {
          "text": "Accuracy"
         }
        },
        "yaxis2": {
         "anchor": "x2",
         "domain": [
          0.575,
          1
         ]
        },
        "yaxis3": {
         "anchor": "x3",
         "domain": [
          0,
          0.425
         ]
        },
        "yaxis4": {
         "anchor": "x4",
         "domain": [
          0,
          0.425
         ]
        }
       }
      },
      "text/html": [
       "<div>                            <div id=\"d502b155-bd4e-4ce5-9a4f-6331f5598408\" class=\"plotly-graph-div\" style=\"height:525px; width:100%;\"></div>            <script type=\"text/javascript\">                require([\"plotly\"], function(Plotly) {                    window.PLOTLYENV=window.PLOTLYENV || {};                                    if (document.getElementById(\"d502b155-bd4e-4ce5-9a4f-6331f5598408\")) {                    Plotly.newPlot(                        \"d502b155-bd4e-4ce5-9a4f-6331f5598408\",                        [{\"mode\": \"lines+markers\", \"name\": \"total_acc0\", \"type\": \"scatter\", \"x\": [3, 6, 9, 12, 15, 18, 21, 24, 27, 30], \"xaxis\": \"x\", \"y\": [39.78, 64.34, 74.3, 78.23, 81.74, 87.44, 87.5, 85.13, 83.61, 82.28], \"yaxis\": \"y\"}, {\"mode\": \"lines+markers\", \"name\": \"flipped_source0\", \"type\": \"scatter\", \"x\": [3, 6, 9, 12, 15, 18, 21, 24, 27, 30], \"xaxis\": \"x\", \"y\": [0.0, 0.0, 5.426356589147287, 6.976744186046512, 25.775193798449614, 69.47674418604652, 62.4031007751938, 33.333333333333336, 13.081395348837209, 0.0], \"yaxis\": \"y\"}, {\"mode\": \"lines+markers\", \"name\": \"flipped_target0\", \"type\": \"scatter\", \"x\": [3, 6, 9, 12, 15, 18, 21, 24, 27, 30], \"xaxis\": \"x\", \"y\": [68.78097125867195, 84.4400396432111, 66.10505450941527, 81.86323092170466, 87.21506442021804, 85.53022794846383, 88.10703666997027, 89.99008919722498, 88.50346878097126, 87.1159563924678], \"yaxis\": \"y\"}, {\"mode\": \"lines+markers\", \"name\": \"total_acc10\", \"type\": \"scatter\", \"x\": [3, 6, 9, 12, 15, 18, 21, 24, 27, 30], \"xaxis\": \"x2\", \"y\": [39.78, 64.34, 74.3, 78.23, 81.74, 87.44, 87.5, 85.13, 83.61, 82.28], \"yaxis\": \"y2\"}, {\"mode\": \"lines+markers\", \"name\": \"flipped_source10\", \"type\": \"scatter\", \"x\": [3, 6, 9, 12, 15, 18, 21, 24, 27, 30], \"xaxis\": \"x2\", \"y\": [0.0, 0.0, 5.426356589147287, 6.976744186046512, 25.775193798449614, 69.47674418604652, 62.4031007751938, 33.333333333333336, 13.081395348837209, 0.0], \"yaxis\": \"y2\"}, {\"mode\": \"lines+markers\", \"name\": \"flipped_target10\", \"type\": \"scatter\", \"x\": [3, 6, 9, 12, 15, 18, 21, 24, 27, 30], \"xaxis\": \"x2\", \"y\": [68.78097125867195, 84.4400396432111, 66.10505450941527, 81.86323092170466, 87.21506442021804, 85.53022794846383, 88.10703666997027, 89.99008919722498, 88.50346878097126, 87.1159563924678], \"yaxis\": \"y2\"}, {\"mode\": \"lines+markers\", \"name\": \"total_acc20\", \"type\": \"scatter\", \"x\": [3, 6, 9, 12, 15, 18, 21, 24, 27, 30], \"xaxis\": \"x3\", \"y\": [39.78, 64.34, 74.3, 78.23, 81.74, 87.44, 87.5, 85.13, 83.61, 82.28], \"yaxis\": \"y3\"}, {\"mode\": \"lines+markers\", \"name\": \"flipped_source20\", \"type\": \"scatter\", \"x\": [3, 6, 9, 12, 15, 18, 21, 24, 27, 30], \"xaxis\": \"x3\", \"y\": [0.0, 0.0, 5.426356589147287, 6.976744186046512, 25.775193798449614, 69.47674418604652, 62.4031007751938, 33.333333333333336, 13.081395348837209, 0.0], \"yaxis\": \"y3\"}, {\"mode\": \"lines+markers\", \"name\": \"flipped_target20\", \"type\": \"scatter\", \"x\": [3, 6, 9, 12, 15, 18, 21, 24, 27, 30], \"xaxis\": \"x3\", \"y\": [68.78097125867195, 84.4400396432111, 66.10505450941527, 81.86323092170466, 87.21506442021804, 85.53022794846383, 88.10703666997027, 89.99008919722498, 88.50346878097126, 87.1159563924678], \"yaxis\": \"y3\"}, {\"mode\": \"lines+markers\", \"name\": \"total_acc40\", \"type\": \"scatter\", \"x\": [3, 6, 9, 12, 15, 18, 21, 24, 27, 30], \"xaxis\": \"x4\", \"y\": [39.78, 64.34, 74.3, 78.23, 81.74, 87.44, 87.5, 85.13, 83.61, 82.28], \"yaxis\": \"y4\"}, {\"mode\": \"lines+markers\", \"name\": \"flipped_source40\", \"type\": \"scatter\", \"x\": [3, 6, 9, 12, 15, 18, 21, 24, 27, 30], \"xaxis\": \"x4\", \"y\": [0.0, 0.0, 5.426356589147287, 6.976744186046512, 25.775193798449614, 69.47674418604652, 62.4031007751938, 33.333333333333336, 13.081395348837209, 0.0], \"yaxis\": \"y4\"}, {\"mode\": \"lines+markers\", \"name\": \"flipped_target40\", \"type\": \"scatter\", \"x\": [3, 6, 9, 12, 15, 18, 21, 24, 27, 30], \"xaxis\": \"x4\", \"y\": [68.78097125867195, 84.4400396432111, 66.10505450941527, 81.86323092170466, 87.21506442021804, 85.53022794846383, 88.10703666997027, 89.99008919722498, 88.50346878097126, 87.1159563924678], \"yaxis\": \"y4\"}],                        {\"template\": {\"data\": {\"bar\": [{\"error_x\": {\"color\": \"#2a3f5f\"}, \"error_y\": {\"color\": \"#2a3f5f\"}, \"marker\": {\"line\": {\"color\": \"#E5ECF6\", \"width\": 0.5}}, \"type\": \"bar\"}], \"barpolar\": [{\"marker\": {\"line\": {\"color\": \"#E5ECF6\", \"width\": 0.5}}, \"type\": \"barpolar\"}], \"carpet\": [{\"aaxis\": {\"endlinecolor\": \"#2a3f5f\", \"gridcolor\": \"white\", \"linecolor\": \"white\", \"minorgridcolor\": \"white\", \"startlinecolor\": \"#2a3f5f\"}, \"baxis\": {\"endlinecolor\": \"#2a3f5f\", \"gridcolor\": \"white\", \"linecolor\": \"white\", \"minorgridcolor\": \"white\", \"startlinecolor\": \"#2a3f5f\"}, \"type\": \"carpet\"}], \"choropleth\": [{\"colorbar\": {\"outlinewidth\": 0, \"ticks\": \"\"}, \"type\": \"choropleth\"}], \"contour\": [{\"colorbar\": {\"outlinewidth\": 0, \"ticks\": \"\"}, \"colorscale\": [[0.0, \"#0d0887\"], [0.1111111111111111, \"#46039f\"], [0.2222222222222222, \"#7201a8\"], [0.3333333333333333, \"#9c179e\"], [0.4444444444444444, \"#bd3786\"], [0.5555555555555556, \"#d8576b\"], [0.6666666666666666, \"#ed7953\"], [0.7777777777777778, \"#fb9f3a\"], [0.8888888888888888, \"#fdca26\"], [1.0, \"#f0f921\"]], \"type\": \"contour\"}], \"contourcarpet\": [{\"colorbar\": {\"outlinewidth\": 0, \"ticks\": \"\"}, \"type\": \"contourcarpet\"}], \"heatmap\": [{\"colorbar\": {\"outlinewidth\": 0, \"ticks\": \"\"}, \"colorscale\": [[0.0, \"#0d0887\"], [0.1111111111111111, \"#46039f\"], [0.2222222222222222, \"#7201a8\"], [0.3333333333333333, \"#9c179e\"], [0.4444444444444444, \"#bd3786\"], [0.5555555555555556, \"#d8576b\"], [0.6666666666666666, \"#ed7953\"], [0.7777777777777778, \"#fb9f3a\"], [0.8888888888888888, \"#fdca26\"], [1.0, \"#f0f921\"]], \"type\": \"heatmap\"}], \"heatmapgl\": [{\"colorbar\": {\"outlinewidth\": 0, \"ticks\": \"\"}, \"colorscale\": [[0.0, \"#0d0887\"], [0.1111111111111111, \"#46039f\"], [0.2222222222222222, \"#7201a8\"], [0.3333333333333333, \"#9c179e\"], [0.4444444444444444, \"#bd3786\"], [0.5555555555555556, \"#d8576b\"], [0.6666666666666666, \"#ed7953\"], [0.7777777777777778, \"#fb9f3a\"], [0.8888888888888888, \"#fdca26\"], [1.0, \"#f0f921\"]], \"type\": \"heatmapgl\"}], \"histogram\": [{\"marker\": {\"colorbar\": {\"outlinewidth\": 0, \"ticks\": \"\"}}, \"type\": \"histogram\"}], \"histogram2d\": [{\"colorbar\": {\"outlinewidth\": 0, \"ticks\": \"\"}, \"colorscale\": [[0.0, \"#0d0887\"], [0.1111111111111111, \"#46039f\"], [0.2222222222222222, \"#7201a8\"], [0.3333333333333333, \"#9c179e\"], [0.4444444444444444, \"#bd3786\"], [0.5555555555555556, \"#d8576b\"], [0.6666666666666666, \"#ed7953\"], [0.7777777777777778, \"#fb9f3a\"], [0.8888888888888888, \"#fdca26\"], [1.0, \"#f0f921\"]], \"type\": \"histogram2d\"}], \"histogram2dcontour\": [{\"colorbar\": {\"outlinewidth\": 0, \"ticks\": \"\"}, \"colorscale\": [[0.0, \"#0d0887\"], [0.1111111111111111, \"#46039f\"], [0.2222222222222222, \"#7201a8\"], [0.3333333333333333, \"#9c179e\"], [0.4444444444444444, \"#bd3786\"], [0.5555555555555556, \"#d8576b\"], [0.6666666666666666, \"#ed7953\"], [0.7777777777777778, \"#fb9f3a\"], [0.8888888888888888, \"#fdca26\"], [1.0, \"#f0f921\"]], \"type\": \"histogram2dcontour\"}], \"mesh3d\": [{\"colorbar\": {\"outlinewidth\": 0, \"ticks\": \"\"}, \"type\": \"mesh3d\"}], \"parcoords\": [{\"line\": {\"colorbar\": {\"outlinewidth\": 0, \"ticks\": \"\"}}, \"type\": \"parcoords\"}], \"pie\": [{\"automargin\": true, \"type\": \"pie\"}], \"scatter\": [{\"marker\": {\"colorbar\": {\"outlinewidth\": 0, \"ticks\": \"\"}}, \"type\": \"scatter\"}], \"scatter3d\": [{\"line\": {\"colorbar\": {\"outlinewidth\": 0, \"ticks\": \"\"}}, \"marker\": {\"colorbar\": {\"outlinewidth\": 0, \"ticks\": \"\"}}, \"type\": \"scatter3d\"}], \"scattercarpet\": [{\"marker\": {\"colorbar\": {\"outlinewidth\": 0, \"ticks\": \"\"}}, \"type\": \"scattercarpet\"}], \"scattergeo\": [{\"marker\": {\"colorbar\": {\"outlinewidth\": 0, \"ticks\": \"\"}}, \"type\": \"scattergeo\"}], \"scattergl\": [{\"marker\": {\"colorbar\": {\"outlinewidth\": 0, \"ticks\": \"\"}}, \"type\": \"scattergl\"}], \"scattermapbox\": [{\"marker\": {\"colorbar\": {\"outlinewidth\": 0, \"ticks\": \"\"}}, \"type\": \"scattermapbox\"}], \"scatterpolar\": [{\"marker\": {\"colorbar\": {\"outlinewidth\": 0, \"ticks\": \"\"}}, \"type\": \"scatterpolar\"}], \"scatterpolargl\": [{\"marker\": {\"colorbar\": {\"outlinewidth\": 0, \"ticks\": \"\"}}, \"type\": \"scatterpolargl\"}], \"scatterternary\": [{\"marker\": {\"colorbar\": {\"outlinewidth\": 0, \"ticks\": \"\"}}, \"type\": \"scatterternary\"}], \"surface\": [{\"colorbar\": {\"outlinewidth\": 0, \"ticks\": \"\"}, \"colorscale\": [[0.0, \"#0d0887\"], [0.1111111111111111, \"#46039f\"], [0.2222222222222222, \"#7201a8\"], [0.3333333333333333, \"#9c179e\"], [0.4444444444444444, \"#bd3786\"], [0.5555555555555556, \"#d8576b\"], [0.6666666666666666, \"#ed7953\"], [0.7777777777777778, \"#fb9f3a\"], [0.8888888888888888, \"#fdca26\"], [1.0, \"#f0f921\"]], \"type\": \"surface\"}], \"table\": [{\"cells\": {\"fill\": {\"color\": \"#EBF0F8\"}, \"line\": {\"color\": \"white\"}}, \"header\": {\"fill\": {\"color\": \"#C8D4E3\"}, \"line\": {\"color\": \"white\"}}, \"type\": \"table\"}]}, \"layout\": {\"annotationdefaults\": {\"arrowcolor\": \"#2a3f5f\", \"arrowhead\": 0, \"arrowwidth\": 1}, \"autotypenumbers\": \"strict\", \"coloraxis\": {\"colorbar\": {\"outlinewidth\": 0, \"ticks\": \"\"}}, \"colorscale\": {\"diverging\": [[0, \"#8e0152\"], [0.1, \"#c51b7d\"], [0.2, \"#de77ae\"], [0.3, \"#f1b6da\"], [0.4, \"#fde0ef\"], [0.5, \"#f7f7f7\"], [0.6, \"#e6f5d0\"], [0.7, \"#b8e186\"], [0.8, \"#7fbc41\"], [0.9, \"#4d9221\"], [1, \"#276419\"]], \"sequential\": [[0.0, \"#0d0887\"], [0.1111111111111111, \"#46039f\"], [0.2222222222222222, \"#7201a8\"], [0.3333333333333333, \"#9c179e\"], [0.4444444444444444, \"#bd3786\"], [0.5555555555555556, \"#d8576b\"], [0.6666666666666666, \"#ed7953\"], [0.7777777777777778, \"#fb9f3a\"], [0.8888888888888888, \"#fdca26\"], [1.0, \"#f0f921\"]], \"sequentialminus\": [[0.0, \"#0d0887\"], [0.1111111111111111, \"#46039f\"], [0.2222222222222222, \"#7201a8\"], [0.3333333333333333, \"#9c179e\"], [0.4444444444444444, \"#bd3786\"], [0.5555555555555556, \"#d8576b\"], [0.6666666666666666, \"#ed7953\"], [0.7777777777777778, \"#fb9f3a\"], [0.8888888888888888, \"#fdca26\"], [1.0, \"#f0f921\"]]}, \"colorway\": [\"#636efa\", \"#EF553B\", \"#00cc96\", \"#ab63fa\", \"#FFA15A\", \"#19d3f3\", \"#FF6692\", \"#B6E880\", \"#FF97FF\", \"#FECB52\"], \"font\": {\"color\": \"#2a3f5f\"}, \"geo\": {\"bgcolor\": \"white\", \"lakecolor\": \"white\", \"landcolor\": \"#E5ECF6\", \"showlakes\": true, \"showland\": true, \"subunitcolor\": \"white\"}, \"hoverlabel\": {\"align\": \"left\"}, \"hovermode\": \"closest\", \"mapbox\": {\"style\": \"light\"}, \"paper_bgcolor\": \"white\", \"plot_bgcolor\": \"#E5ECF6\", \"polar\": {\"angularaxis\": {\"gridcolor\": \"white\", \"linecolor\": \"white\", \"ticks\": \"\"}, \"bgcolor\": \"#E5ECF6\", \"radialaxis\": {\"gridcolor\": \"white\", \"linecolor\": \"white\", \"ticks\": \"\"}}, \"scene\": {\"xaxis\": {\"backgroundcolor\": \"#E5ECF6\", \"gridcolor\": \"white\", \"gridwidth\": 2, \"linecolor\": \"white\", \"showbackground\": true, \"ticks\": \"\", \"zerolinecolor\": \"white\"}, \"yaxis\": {\"backgroundcolor\": \"#E5ECF6\", \"gridcolor\": \"white\", \"gridwidth\": 2, \"linecolor\": \"white\", \"showbackground\": true, \"ticks\": \"\", \"zerolinecolor\": \"white\"}, \"zaxis\": {\"backgroundcolor\": \"#E5ECF6\", \"gridcolor\": \"white\", \"gridwidth\": 2, \"linecolor\": \"white\", \"showbackground\": true, \"ticks\": \"\", \"zerolinecolor\": \"white\"}}, \"shapedefaults\": {\"line\": {\"color\": \"#2a3f5f\"}}, \"ternary\": {\"aaxis\": {\"gridcolor\": \"white\", \"linecolor\": \"white\", \"ticks\": \"\"}, \"baxis\": {\"gridcolor\": \"white\", \"linecolor\": \"white\", \"ticks\": \"\"}, \"bgcolor\": \"#E5ECF6\", \"caxis\": {\"gridcolor\": \"white\", \"linecolor\": \"white\", \"ticks\": \"\"}}, \"title\": {\"x\": 0.05}, \"xaxis\": {\"automargin\": true, \"gridcolor\": \"white\", \"linecolor\": \"white\", \"ticks\": \"\", \"title\": {\"standoff\": 15}, \"zerolinecolor\": \"white\", \"zerolinewidth\": 2}, \"yaxis\": {\"automargin\": true, \"gridcolor\": \"white\", \"linecolor\": \"white\", \"ticks\": \"\", \"title\": {\"standoff\": 15}, \"zerolinecolor\": \"white\", \"zerolinewidth\": 2}}}, \"title\": {\"text\": \"Accuracy Evolution\"}, \"xaxis\": {\"anchor\": \"y\", \"domain\": [0.0, 0.45], \"title\": {\"text\": \"Round Num\"}}, \"xaxis2\": {\"anchor\": \"y2\", \"domain\": [0.55, 1.0]}, \"xaxis3\": {\"anchor\": \"y3\", \"domain\": [0.0, 0.45]}, \"xaxis4\": {\"anchor\": \"y4\", \"domain\": [0.55, 1.0]}, \"yaxis\": {\"anchor\": \"x\", \"domain\": [0.575, 1.0], \"title\": {\"text\": \"Accuracy\"}}, \"yaxis2\": {\"anchor\": \"x2\", \"domain\": [0.575, 1.0]}, \"yaxis3\": {\"anchor\": \"x3\", \"domain\": [0.0, 0.425]}, \"yaxis4\": {\"anchor\": \"x4\", \"domain\": [0.0, 0.425]}},                        {\"responsive\": true}                    ).then(function(){\n",
       "                            \n",
       "var gd = document.getElementById('d502b155-bd4e-4ce5-9a4f-6331f5598408');\n",
       "var x = new MutationObserver(function (mutations, observer) {{\n",
       "        var display = window.getComputedStyle(gd).display;\n",
       "        if (!display || display === 'none') {{\n",
       "            console.log([gd, 'removed!']);\n",
       "            Plotly.purge(gd);\n",
       "            observer.disconnect();\n",
       "        }}\n",
       "}});\n",
       "\n",
       "// Listen for the removal of the full notebook cells\n",
       "var notebookContainer = gd.closest('#notebook-container');\n",
       "if (notebookContainer) {{\n",
       "    x.observe(notebookContainer, {childList: true});\n",
       "}}\n",
       "\n",
       "// Listen for the clearing of the current output cell\n",
       "var outputEl = gd.closest('.output');\n",
       "if (outputEl) {{\n",
       "    x.observe(outputEl, {childList: true});\n",
       "}}\n",
       "\n",
       "                        })                };                });            </script>        </div>"
      ]
     },
     "metadata": {},
     "output_type": "display_data"
    }
   ],
   "source": [
    "fig = make_subplots(rows=2, cols=2)\n",
    "\n",
    "# Top left\n",
    "fig.add_trace(go.Scatter(x=data_df['round_num'], y=data_df['total_acc'],\n",
    "                    mode='lines+markers',\n",
    "                    name='total_acc0'), row=1, col=1)\n",
    "\n",
    "fig.add_trace(go.Scatter(x=data_df['round_num'], y=data_df['class_2_acc'],\n",
    "                    mode='lines+markers',\n",
    "                    name='flipped_source0'), row=1, col=1)\n",
    "\n",
    "fig.add_trace(go.Scatter(x=data_df['round_num'], y=data_df['class_9_acc'],\n",
    "                    mode='lines+markers',\n",
    "                    name='flipped_target0'), row=1, col=1)\n",
    "\n",
    "# Top right\n",
    "fig.add_trace(go.Scatter(x=data_df['round_num'], y=data_df['total_acc'],\n",
    "                    mode='lines+markers',\n",
    "                    name='total_acc10'), row=1, col=2)\n",
    "\n",
    "fig.add_trace(go.Scatter(x=data_df['round_num'], y=data_df['class_2_acc'],\n",
    "                    mode='lines+markers',\n",
    "                    name='flipped_source10'), row=1, col=2)\n",
    "\n",
    "fig.add_trace(go.Scatter(x=data_df['round_num'], y=data_df['class_9_acc'],\n",
    "                    mode='lines+markers',\n",
    "                    name='flipped_target10'), row=1, col=2)\n",
    "\n",
    "# Bottom left\n",
    "fig.add_trace(go.Scatter(x=data_df['round_num'], y=data_df['total_acc'],\n",
    "                    mode='lines+markers',\n",
    "                    name='total_acc20'), row=2, col=1)\n",
    "\n",
    "fig.add_trace(go.Scatter(x=data_df['round_num'], y=data_df['class_2_acc'],\n",
    "                    mode='lines+markers',\n",
    "                    name='flipped_source20'), row=2, col=1)\n",
    "\n",
    "fig.add_trace(go.Scatter(x=data_df['round_num'], y=data_df['class_9_acc'],\n",
    "                    mode='lines+markers',\n",
    "                    name='flipped_target20'), row=2, col=1)\n",
    "\n",
    "# Bottom right\n",
    "fig.add_trace(go.Scatter(x=data_df['round_num'], y=data_df['total_acc'],\n",
    "                    mode='lines+markers',\n",
    "                    name='total_acc40'), row=2, col=2)\n",
    "\n",
    "fig.add_trace(go.Scatter(x=data_df['round_num'], y=data_df['class_2_acc'],\n",
    "                    mode='lines+markers',\n",
    "                    name='flipped_source40'), row=2, col=2)\n",
    "\n",
    "fig.add_trace(go.Scatter(x=data_df['round_num'], y=data_df['class_9_acc'],\n",
    "                    mode='lines+markers',\n",
    "                    name='flipped_target40'), row=2, col=2)\n",
    "\n",
    "fig.update_layout(title='Accuracy Evolution',\n",
    "                   xaxis_title='Round Num',\n",
    "                   yaxis_title='Accuracy')\n",
    "fig.show()\n"
   ]
  },
  {
   "cell_type": "markdown",
   "id": "93426375",
   "metadata": {},
   "source": [
    "## 4. Calculate Precision, Recall and F1-Measure of each class"
   ]
  },
  {
   "cell_type": "code",
   "execution_count": 12,
   "id": "bc8e68f8",
   "metadata": {},
   "outputs": [
    {
     "name": "stdout",
     "output_type": "stream",
     "text": [
      "[[372  51  53  46  18  10   6  57 264 123]\n",
      " [ 12 467   4  49   2   7   9  23 106 321]\n",
      " [ 74  17 141 128 258  59 173  75  46  29]\n",
      " [ 38  24  94 340  66  81 201  81  20  55]\n",
      " [ 52   8  84  78 368  47 227  97  20  19]\n",
      " [ 16  18 103 275 140  84 252  63  28  21]\n",
      " [ 10   9  93 182 212  66 341  45   8  34]\n",
      " [ 35  22  44 137 135  36 114 394  13  70]\n",
      " [147 112  24  48   6   5   2  11 520 125]\n",
      " [ 31 201   8  37   3   8   6  40 115 551]]\n",
      "              precision    recall  f1-score   support\n",
      "\n",
      "           0      0.473     0.372     0.416      1000\n",
      "           1      0.503     0.467     0.484      1000\n",
      "           2      0.218     0.141     0.171      1000\n",
      "           3      0.258     0.340     0.293      1000\n",
      "           4      0.305     0.368     0.333      1000\n",
      "           5      0.208     0.084     0.120      1000\n",
      "           6      0.256     0.341     0.293      1000\n",
      "           7      0.445     0.394     0.418      1000\n",
      "           8      0.456     0.520     0.486      1000\n",
      "           9      0.409     0.551     0.469      1000\n",
      "\n",
      "    accuracy                          0.358     10000\n",
      "   macro avg      0.353     0.358     0.348     10000\n",
      "weighted avg      0.353     0.358     0.348     10000\n",
      "\n"
     ]
    }
   ],
   "source": [
    "total_acc, classes_acc, predictions, ground_truths, testing_loss = get_final_test_data(file_p_frac0)\n",
    "confusion_matrix = metrics.confusion_matrix(ground_truths, predictions)\n",
    "clf_report = metrics.classification_report(ground_truths, predictions, digits=3)\n",
    "print(confusion_matrix)\n",
    "print(clf_report)"
   ]
  },
  {
   "cell_type": "code",
   "execution_count": 13,
   "id": "8936449d",
   "metadata": {},
   "outputs": [
    {
     "name": "stdout",
     "output_type": "stream",
     "text": [
      "[[   0    0    0    0    0    0    0    0    0 1000]\n",
      " [   0    0    0    0    0    0    0    0    0 1000]\n",
      " [   0    0    0    0    0    0    0    0    0 1000]\n",
      " [   0    0    0    0    0    0    0    0    0 1000]\n",
      " [   0    0    0    0    0    0    0    0    0 1000]\n",
      " [   0    0    0    0    0    0    0    0    0 1000]\n",
      " [   0    0    0    0    0    0    0    0    0 1000]\n",
      " [   0    0    0    0    0    0    0    0    0 1000]\n",
      " [   0    0    0    0    0    0    0    0    0 1000]\n",
      " [   0    0    0    0    0    0    0    0    0 1000]]\n",
      "              precision    recall  f1-score   support\n",
      "\n",
      "           0      0.000     0.000     0.000      1000\n",
      "           1      0.000     0.000     0.000      1000\n",
      "           2      0.000     0.000     0.000      1000\n",
      "           3      0.000     0.000     0.000      1000\n",
      "           4      0.000     0.000     0.000      1000\n",
      "           5      0.000     0.000     0.000      1000\n",
      "           6      0.000     0.000     0.000      1000\n",
      "           7      0.000     0.000     0.000      1000\n",
      "           8      0.000     0.000     0.000      1000\n",
      "           9      0.100     1.000     0.182      1000\n",
      "\n",
      "    accuracy                          0.100     10000\n",
      "   macro avg      0.010     0.100     0.018     10000\n",
      "weighted avg      0.010     0.100     0.018     10000\n",
      "\n"
     ]
    },
    {
     "name": "stderr",
     "output_type": "stream",
     "text": [
      "/home/fnx11/miniconda3/envs/torch_env/lib/python3.9/site-packages/sklearn/metrics/_classification.py:1245: UndefinedMetricWarning:\n",
      "\n",
      "Precision and F-score are ill-defined and being set to 0.0 in labels with no predicted samples. Use `zero_division` parameter to control this behavior.\n",
      "\n",
      "/home/fnx11/miniconda3/envs/torch_env/lib/python3.9/site-packages/sklearn/metrics/_classification.py:1245: UndefinedMetricWarning:\n",
      "\n",
      "Precision and F-score are ill-defined and being set to 0.0 in labels with no predicted samples. Use `zero_division` parameter to control this behavior.\n",
      "\n",
      "/home/fnx11/miniconda3/envs/torch_env/lib/python3.9/site-packages/sklearn/metrics/_classification.py:1245: UndefinedMetricWarning:\n",
      "\n",
      "Precision and F-score are ill-defined and being set to 0.0 in labels with no predicted samples. Use `zero_division` parameter to control this behavior.\n",
      "\n"
     ]
    }
   ],
   "source": [
    "total_acc, classes_acc, predictions, ground_truths, testing_loss = get_final_test_data(file_p_frac10)\n",
    "confusion_matrix = metrics.confusion_matrix(ground_truths, predictions)\n",
    "clf_report = metrics.classification_report(ground_truths, predictions, digits=3)\n",
    "print(confusion_matrix)\n",
    "print(clf_report)"
   ]
  },
  {
   "cell_type": "code",
   "execution_count": 14,
   "id": "78724b24",
   "metadata": {},
   "outputs": [
    {
     "name": "stdout",
     "output_type": "stream",
     "text": [
      "[[446  40  90   5   5   4  75  45 100 190]\n",
      " [ 75 270  15  19   0   3  61  28  79 450]\n",
      " [ 87   3 186  20   4   7 572  45  15  61]\n",
      " [ 43  10 102  77   1  13 596  47   3 108]\n",
      " [ 50   2  91   5   3   0 734  59   7  49]\n",
      " [ 27   9 111  85   1  14 629  39  10  75]\n",
      " [ 13   2  63  28   1   4 811  28   1  49]\n",
      " [ 39   8  70  15   3   8 438 262   5 152]\n",
      " [291  73  33  10   4   8  37  16 278 250]\n",
      " [ 93  78  13  20   2   5  70  39  53 627]]\n",
      "              precision    recall  f1-score   support\n",
      "\n",
      "           0      0.383     0.446     0.412      1000\n",
      "           1      0.545     0.270     0.361      1000\n",
      "           2      0.240     0.186     0.210      1000\n",
      "           3      0.271     0.077     0.120      1000\n",
      "           4      0.125     0.003     0.006      1000\n",
      "           5      0.212     0.014     0.026      1000\n",
      "           6      0.202     0.811     0.323      1000\n",
      "           7      0.431     0.262     0.326      1000\n",
      "           8      0.505     0.278     0.358      1000\n",
      "           9      0.312     0.627     0.416      1000\n",
      "\n",
      "    accuracy                          0.297     10000\n",
      "   macro avg      0.323     0.297     0.256     10000\n",
      "weighted avg      0.323     0.297     0.256     10000\n",
      "\n"
     ]
    }
   ],
   "source": [
    "total_acc, classes_acc, predictions, ground_truths, testing_loss = get_final_test_data(file_p_frac20)\n",
    "confusion_matrix = metrics.confusion_matrix(ground_truths, predictions)\n",
    "clf_report = metrics.classification_report(ground_truths, predictions, digits=3)\n",
    "print(confusion_matrix)\n",
    "print(clf_report)"
   ]
  },
  {
   "cell_type": "code",
   "execution_count": 15,
   "id": "dfad8e1f",
   "metadata": {},
   "outputs": [
    {
     "name": "stdout",
     "output_type": "stream",
     "text": [
      "[[   0    0    0    0    0    0    0    0    0 1000]\n",
      " [   0    0    0    0    0    0    0    0    0 1000]\n",
      " [   0    0    0    0    0    0    0    0    0 1000]\n",
      " [   0    0    0    0    0    0    0    0    0 1000]\n",
      " [   0    0    0    0    0    0    0    0    0 1000]\n",
      " [   0    0    0    0    0    0    0    0    0 1000]\n",
      " [   0    0    0    0    0    0    0    0    0 1000]\n",
      " [   0    0    0    0    0    0    0    0    0 1000]\n",
      " [   0    0    0    0    0    0    0    0    0 1000]\n",
      " [   0    0    0    0    0    0    0    0    0 1000]]\n",
      "              precision    recall  f1-score   support\n",
      "\n",
      "           0      0.000     0.000     0.000      1000\n",
      "           1      0.000     0.000     0.000      1000\n",
      "           2      0.000     0.000     0.000      1000\n",
      "           3      0.000     0.000     0.000      1000\n",
      "           4      0.000     0.000     0.000      1000\n",
      "           5      0.000     0.000     0.000      1000\n",
      "           6      0.000     0.000     0.000      1000\n",
      "           7      0.000     0.000     0.000      1000\n",
      "           8      0.000     0.000     0.000      1000\n",
      "           9      0.100     1.000     0.182      1000\n",
      "\n",
      "    accuracy                          0.100     10000\n",
      "   macro avg      0.010     0.100     0.018     10000\n",
      "weighted avg      0.010     0.100     0.018     10000\n",
      "\n"
     ]
    },
    {
     "name": "stderr",
     "output_type": "stream",
     "text": [
      "/home/fnx11/miniconda3/envs/torch_env/lib/python3.9/site-packages/sklearn/metrics/_classification.py:1245: UndefinedMetricWarning:\n",
      "\n",
      "Precision and F-score are ill-defined and being set to 0.0 in labels with no predicted samples. Use `zero_division` parameter to control this behavior.\n",
      "\n",
      "/home/fnx11/miniconda3/envs/torch_env/lib/python3.9/site-packages/sklearn/metrics/_classification.py:1245: UndefinedMetricWarning:\n",
      "\n",
      "Precision and F-score are ill-defined and being set to 0.0 in labels with no predicted samples. Use `zero_division` parameter to control this behavior.\n",
      "\n",
      "/home/fnx11/miniconda3/envs/torch_env/lib/python3.9/site-packages/sklearn/metrics/_classification.py:1245: UndefinedMetricWarning:\n",
      "\n",
      "Precision and F-score are ill-defined and being set to 0.0 in labels with no predicted samples. Use `zero_division` parameter to control this behavior.\n",
      "\n"
     ]
    }
   ],
   "source": [
    "total_acc, classes_acc, predictions, ground_truths, testing_loss = get_final_test_data(file_p_frac40)\n",
    "confusion_matrix = metrics.confusion_matrix(ground_truths, predictions)\n",
    "clf_report = metrics.classification_report(ground_truths, predictions, digits=3)\n",
    "print(confusion_matrix)\n",
    "print(clf_report)"
   ]
  },
  {
   "cell_type": "markdown",
   "id": "32f98484",
   "metadata": {},
   "source": [
    "## 5. Varying c_frac, p_frac and attack\n",
    "c_frac={0.1, 0.2, 0.4, 1.0} and p_frac = {0.0, 0.1, 0.2, 0.4} and attack = {(2, 9), (0, 2)}  bird-> truck, airplane -> bird."
   ]
  },
  {
   "cell_type": "markdown",
   "id": "9b10222f",
   "metadata": {},
   "source": [
    "### First keeping c_per same and varying p_per, plotting total_acc and source_acc\n",
    "c_frac = 0.1, 0.2, 0.4, 1.0\n",
    "c_per = 10, 20, 40, 100"
   ]
  },
  {
   "cell_type": "code",
   "execution_count": 16,
   "id": "d1f761a0",
   "metadata": {
    "scrolled": false
   },
   "outputs": [
    {
     "data": {
      "application/vnd.plotly.v1+json": {
       "config": {
        "plotlyServerURL": "https://plot.ly"
       },
       "data": [
        {
         "mode": "lines+markers",
         "name": "total_acc_p_per00",
         "type": "scatter",
         "x": [
          10,
          20,
          30,
          40,
          50,
          60,
          70,
          80,
          90,
          100,
          110,
          120,
          130,
          140,
          150,
          160,
          170,
          180,
          190,
          200,
          210,
          220,
          230,
          240,
          250,
          260,
          270,
          280,
          290,
          300,
          310,
          320,
          330,
          340,
          350,
          360,
          370,
          380,
          390,
          400
         ],
         "y": [
          10,
          10,
          10,
          10,
          10,
          10,
          10,
          10,
          10,
          10,
          10,
          10,
          10,
          10,
          10,
          10,
          10,
          10,
          10,
          10,
          10,
          10,
          10,
          10,
          10,
          10,
          10,
          10,
          10,
          10,
          10,
          10,
          10,
          10,
          10,
          10,
          10,
          10,
          10,
          10
         ]
        },
        {
         "marker": {
          "symbol": "square"
         },
         "mode": "lines+markers",
         "name": "flipped_source_p_per00",
         "type": "scatter",
         "x": [
          10,
          20,
          30,
          40,
          50,
          60,
          70,
          80,
          90,
          100,
          110,
          120,
          130,
          140,
          150,
          160,
          170,
          180,
          190,
          200,
          210,
          220,
          230,
          240,
          250,
          260,
          270,
          280,
          290,
          300,
          310,
          320,
          330,
          340,
          350,
          360,
          370,
          380,
          390,
          400
         ],
         "y": [
          0,
          0,
          0,
          0,
          0,
          0,
          0,
          0,
          0,
          0,
          0,
          0,
          0,
          0,
          0,
          0,
          0,
          0,
          0,
          100,
          0,
          0,
          0,
          0,
          0,
          0,
          0,
          0,
          0,
          0,
          100,
          0,
          0,
          0,
          100,
          0,
          0,
          0,
          0,
          0
         ]
        },
        {
         "mode": "lines+markers",
         "name": "total_acc_p_per10",
         "type": "scatter",
         "x": [
          10,
          20,
          30,
          40,
          50,
          60,
          70,
          80,
          90,
          100,
          110,
          120,
          130,
          140,
          150,
          160,
          170,
          180,
          190,
          200,
          210,
          220,
          230,
          240,
          250,
          260,
          270,
          280,
          290,
          300,
          310,
          320,
          330,
          340,
          350,
          360,
          370,
          380,
          390,
          400
         ],
         "y": [
          21.26,
          29.89,
          35.97,
          39.77,
          44.58,
          47.09,
          47.23,
          52.05,
          53.42,
          54.02,
          56.24,
          56.89,
          57.5,
          57.96,
          58.82,
          59.43,
          59.15,
          59.66,
          60.33,
          60.64,
          61.41,
          61.69,
          61.41,
          61.04,
          61.56,
          61.02,
          61.89,
          62.02,
          62.57,
          62.14,
          61.53,
          61.77,
          61.98,
          62.34,
          61.55,
          61.86,
          62.32,
          61.35,
          61.97,
          62.54
         ]
        },
        {
         "marker": {
          "symbol": "square"
         },
         "mode": "lines+markers",
         "name": "flipped_source_p_per10",
         "type": "scatter",
         "x": [
          10,
          20,
          30,
          40,
          50,
          60,
          70,
          80,
          90,
          100,
          110,
          120,
          130,
          140,
          150,
          160,
          170,
          180,
          190,
          200,
          210,
          220,
          230,
          240,
          250,
          260,
          270,
          280,
          290,
          300,
          310,
          320,
          330,
          340,
          350,
          360,
          370,
          380,
          390,
          400
         ],
         "y": [
          0,
          0,
          1.8,
          1.3,
          16.2,
          28.6,
          48.7,
          22.6,
          27.8,
          22.9,
          29.5,
          27.4,
          32.8,
          54.7,
          45,
          47.4,
          23.8,
          34.4,
          34.5,
          33.9,
          42.3,
          53.9,
          58.6,
          27.5,
          54.1,
          42.5,
          46.9,
          44,
          45.1,
          43.3,
          43.4,
          56.6,
          51.2,
          47.8,
          57.6,
          55.8,
          43.2,
          62.3,
          46.5,
          51.2
         ]
        },
        {
         "mode": "lines+markers",
         "name": "total_acc_p_per20",
         "type": "scatter",
         "x": [
          10,
          20,
          30,
          40,
          50,
          60,
          70,
          80,
          90,
          100,
          110,
          120,
          130,
          140,
          150,
          160,
          170,
          180,
          190,
          200,
          210,
          220,
          230,
          240,
          250,
          260,
          270,
          280,
          290,
          300,
          310,
          320,
          330,
          340,
          350,
          360,
          370,
          380,
          390,
          400
         ],
         "y": [
          10,
          21.9,
          27.62,
          31.64,
          33.96,
          36.8,
          37.71,
          41.01,
          41.6,
          45.11,
          47.45,
          49.57,
          51.59,
          52.71,
          52.55,
          53.99,
          55.12,
          54.89,
          54.3,
          55.32,
          55.5,
          56.76,
          56.42,
          56.55,
          56.03,
          55.66,
          57.24,
          57.34,
          58.05,
          57.43,
          57.72,
          57.62,
          58.13,
          58.08,
          58.46,
          57.77,
          57.78,
          58.57,
          59.21,
          58.66
         ]
        },
        {
         "marker": {
          "symbol": "square"
         },
         "mode": "lines+markers",
         "name": "flipped_source_p_per20",
         "type": "scatter",
         "x": [
          10,
          20,
          30,
          40,
          50,
          60,
          70,
          80,
          90,
          100,
          110,
          120,
          130,
          140,
          150,
          160,
          170,
          180,
          190,
          200,
          210,
          220,
          230,
          240,
          250,
          260,
          270,
          280,
          290,
          300,
          310,
          320,
          330,
          340,
          350,
          360,
          370,
          380,
          390,
          400
         ],
         "y": [
          0,
          0.4,
          9.9,
          17.6,
          16.9,
          9.2,
          2.9,
          7.7,
          0.6,
          6.9,
          6.7,
          18.8,
          30.2,
          13.4,
          9.5,
          20,
          36.7,
          12.9,
          16.9,
          24.4,
          23.4,
          32.8,
          41.4,
          22.5,
          30,
          8,
          20.4,
          48.4,
          39.2,
          26.9,
          27.4,
          24.7,
          43.1,
          28,
          23.6,
          20.1,
          58.2,
          26.6,
          37.5,
          35.6
         ]
        },
        {
         "mode": "lines+markers",
         "name": "total_acc_p_per40",
         "type": "scatter",
         "x": [
          10,
          20,
          30,
          40,
          50,
          60,
          70,
          80,
          90,
          100,
          110,
          120,
          130,
          140,
          150,
          160,
          170,
          180,
          190,
          200,
          210,
          220,
          230,
          240,
          250,
          260,
          270,
          280,
          290,
          300,
          310,
          320,
          330,
          340,
          350,
          360,
          370,
          380,
          390,
          400
         ],
         "y": [
          10,
          10,
          10,
          10,
          10,
          10,
          10,
          10,
          10,
          10,
          10,
          10,
          10,
          10,
          10,
          10,
          10,
          10,
          10,
          10,
          10,
          10,
          10,
          10,
          10,
          10,
          10,
          10,
          10,
          10,
          10,
          10,
          10,
          10,
          10,
          10,
          10,
          10,
          10,
          10
         ]
        },
        {
         "marker": {
          "symbol": "square"
         },
         "mode": "lines+markers",
         "name": "flipped_source_p_per40",
         "type": "scatter",
         "x": [
          10,
          20,
          30,
          40,
          50,
          60,
          70,
          80,
          90,
          100,
          110,
          120,
          130,
          140,
          150,
          160,
          170,
          180,
          190,
          200,
          210,
          220,
          230,
          240,
          250,
          260,
          270,
          280,
          290,
          300,
          310,
          320,
          330,
          340,
          350,
          360,
          370,
          380,
          390,
          400
         ],
         "y": [
          0,
          0,
          0,
          0,
          0,
          0,
          0,
          0,
          0,
          0,
          0,
          0,
          0,
          0,
          0,
          0,
          0,
          0,
          0,
          0,
          0,
          0,
          0,
          0,
          0,
          0,
          0,
          0,
          0,
          0,
          0,
          0,
          0,
          0,
          0,
          0,
          0,
          0,
          0,
          0
         ]
        }
       ],
       "layout": {
        "template": {
         "data": {
          "bar": [
           {
            "error_x": {
             "color": "#2a3f5f"
            },
            "error_y": {
             "color": "#2a3f5f"
            },
            "marker": {
             "line": {
              "color": "#E5ECF6",
              "width": 0.5
             }
            },
            "type": "bar"
           }
          ],
          "barpolar": [
           {
            "marker": {
             "line": {
              "color": "#E5ECF6",
              "width": 0.5
             }
            },
            "type": "barpolar"
           }
          ],
          "carpet": [
           {
            "aaxis": {
             "endlinecolor": "#2a3f5f",
             "gridcolor": "white",
             "linecolor": "white",
             "minorgridcolor": "white",
             "startlinecolor": "#2a3f5f"
            },
            "baxis": {
             "endlinecolor": "#2a3f5f",
             "gridcolor": "white",
             "linecolor": "white",
             "minorgridcolor": "white",
             "startlinecolor": "#2a3f5f"
            },
            "type": "carpet"
           }
          ],
          "choropleth": [
           {
            "colorbar": {
             "outlinewidth": 0,
             "ticks": ""
            },
            "type": "choropleth"
           }
          ],
          "contour": [
           {
            "colorbar": {
             "outlinewidth": 0,
             "ticks": ""
            },
            "colorscale": [
             [
              0,
              "#0d0887"
             ],
             [
              0.1111111111111111,
              "#46039f"
             ],
             [
              0.2222222222222222,
              "#7201a8"
             ],
             [
              0.3333333333333333,
              "#9c179e"
             ],
             [
              0.4444444444444444,
              "#bd3786"
             ],
             [
              0.5555555555555556,
              "#d8576b"
             ],
             [
              0.6666666666666666,
              "#ed7953"
             ],
             [
              0.7777777777777778,
              "#fb9f3a"
             ],
             [
              0.8888888888888888,
              "#fdca26"
             ],
             [
              1,
              "#f0f921"
             ]
            ],
            "type": "contour"
           }
          ],
          "contourcarpet": [
           {
            "colorbar": {
             "outlinewidth": 0,
             "ticks": ""
            },
            "type": "contourcarpet"
           }
          ],
          "heatmap": [
           {
            "colorbar": {
             "outlinewidth": 0,
             "ticks": ""
            },
            "colorscale": [
             [
              0,
              "#0d0887"
             ],
             [
              0.1111111111111111,
              "#46039f"
             ],
             [
              0.2222222222222222,
              "#7201a8"
             ],
             [
              0.3333333333333333,
              "#9c179e"
             ],
             [
              0.4444444444444444,
              "#bd3786"
             ],
             [
              0.5555555555555556,
              "#d8576b"
             ],
             [
              0.6666666666666666,
              "#ed7953"
             ],
             [
              0.7777777777777778,
              "#fb9f3a"
             ],
             [
              0.8888888888888888,
              "#fdca26"
             ],
             [
              1,
              "#f0f921"
             ]
            ],
            "type": "heatmap"
           }
          ],
          "heatmapgl": [
           {
            "colorbar": {
             "outlinewidth": 0,
             "ticks": ""
            },
            "colorscale": [
             [
              0,
              "#0d0887"
             ],
             [
              0.1111111111111111,
              "#46039f"
             ],
             [
              0.2222222222222222,
              "#7201a8"
             ],
             [
              0.3333333333333333,
              "#9c179e"
             ],
             [
              0.4444444444444444,
              "#bd3786"
             ],
             [
              0.5555555555555556,
              "#d8576b"
             ],
             [
              0.6666666666666666,
              "#ed7953"
             ],
             [
              0.7777777777777778,
              "#fb9f3a"
             ],
             [
              0.8888888888888888,
              "#fdca26"
             ],
             [
              1,
              "#f0f921"
             ]
            ],
            "type": "heatmapgl"
           }
          ],
          "histogram": [
           {
            "marker": {
             "colorbar": {
              "outlinewidth": 0,
              "ticks": ""
             }
            },
            "type": "histogram"
           }
          ],
          "histogram2d": [
           {
            "colorbar": {
             "outlinewidth": 0,
             "ticks": ""
            },
            "colorscale": [
             [
              0,
              "#0d0887"
             ],
             [
              0.1111111111111111,
              "#46039f"
             ],
             [
              0.2222222222222222,
              "#7201a8"
             ],
             [
              0.3333333333333333,
              "#9c179e"
             ],
             [
              0.4444444444444444,
              "#bd3786"
             ],
             [
              0.5555555555555556,
              "#d8576b"
             ],
             [
              0.6666666666666666,
              "#ed7953"
             ],
             [
              0.7777777777777778,
              "#fb9f3a"
             ],
             [
              0.8888888888888888,
              "#fdca26"
             ],
             [
              1,
              "#f0f921"
             ]
            ],
            "type": "histogram2d"
           }
          ],
          "histogram2dcontour": [
           {
            "colorbar": {
             "outlinewidth": 0,
             "ticks": ""
            },
            "colorscale": [
             [
              0,
              "#0d0887"
             ],
             [
              0.1111111111111111,
              "#46039f"
             ],
             [
              0.2222222222222222,
              "#7201a8"
             ],
             [
              0.3333333333333333,
              "#9c179e"
             ],
             [
              0.4444444444444444,
              "#bd3786"
             ],
             [
              0.5555555555555556,
              "#d8576b"
             ],
             [
              0.6666666666666666,
              "#ed7953"
             ],
             [
              0.7777777777777778,
              "#fb9f3a"
             ],
             [
              0.8888888888888888,
              "#fdca26"
             ],
             [
              1,
              "#f0f921"
             ]
            ],
            "type": "histogram2dcontour"
           }
          ],
          "mesh3d": [
           {
            "colorbar": {
             "outlinewidth": 0,
             "ticks": ""
            },
            "type": "mesh3d"
           }
          ],
          "parcoords": [
           {
            "line": {
             "colorbar": {
              "outlinewidth": 0,
              "ticks": ""
             }
            },
            "type": "parcoords"
           }
          ],
          "pie": [
           {
            "automargin": true,
            "type": "pie"
           }
          ],
          "scatter": [
           {
            "marker": {
             "colorbar": {
              "outlinewidth": 0,
              "ticks": ""
             }
            },
            "type": "scatter"
           }
          ],
          "scatter3d": [
           {
            "line": {
             "colorbar": {
              "outlinewidth": 0,
              "ticks": ""
             }
            },
            "marker": {
             "colorbar": {
              "outlinewidth": 0,
              "ticks": ""
             }
            },
            "type": "scatter3d"
           }
          ],
          "scattercarpet": [
           {
            "marker": {
             "colorbar": {
              "outlinewidth": 0,
              "ticks": ""
             }
            },
            "type": "scattercarpet"
           }
          ],
          "scattergeo": [
           {
            "marker": {
             "colorbar": {
              "outlinewidth": 0,
              "ticks": ""
             }
            },
            "type": "scattergeo"
           }
          ],
          "scattergl": [
           {
            "marker": {
             "colorbar": {
              "outlinewidth": 0,
              "ticks": ""
             }
            },
            "type": "scattergl"
           }
          ],
          "scattermapbox": [
           {
            "marker": {
             "colorbar": {
              "outlinewidth": 0,
              "ticks": ""
             }
            },
            "type": "scattermapbox"
           }
          ],
          "scatterpolar": [
           {
            "marker": {
             "colorbar": {
              "outlinewidth": 0,
              "ticks": ""
             }
            },
            "type": "scatterpolar"
           }
          ],
          "scatterpolargl": [
           {
            "marker": {
             "colorbar": {
              "outlinewidth": 0,
              "ticks": ""
             }
            },
            "type": "scatterpolargl"
           }
          ],
          "scatterternary": [
           {
            "marker": {
             "colorbar": {
              "outlinewidth": 0,
              "ticks": ""
             }
            },
            "type": "scatterternary"
           }
          ],
          "surface": [
           {
            "colorbar": {
             "outlinewidth": 0,
             "ticks": ""
            },
            "colorscale": [
             [
              0,
              "#0d0887"
             ],
             [
              0.1111111111111111,
              "#46039f"
             ],
             [
              0.2222222222222222,
              "#7201a8"
             ],
             [
              0.3333333333333333,
              "#9c179e"
             ],
             [
              0.4444444444444444,
              "#bd3786"
             ],
             [
              0.5555555555555556,
              "#d8576b"
             ],
             [
              0.6666666666666666,
              "#ed7953"
             ],
             [
              0.7777777777777778,
              "#fb9f3a"
             ],
             [
              0.8888888888888888,
              "#fdca26"
             ],
             [
              1,
              "#f0f921"
             ]
            ],
            "type": "surface"
           }
          ],
          "table": [
           {
            "cells": {
             "fill": {
              "color": "#EBF0F8"
             },
             "line": {
              "color": "white"
             }
            },
            "header": {
             "fill": {
              "color": "#C8D4E3"
             },
             "line": {
              "color": "white"
             }
            },
            "type": "table"
           }
          ]
         },
         "layout": {
          "annotationdefaults": {
           "arrowcolor": "#2a3f5f",
           "arrowhead": 0,
           "arrowwidth": 1
          },
          "autotypenumbers": "strict",
          "coloraxis": {
           "colorbar": {
            "outlinewidth": 0,
            "ticks": ""
           }
          },
          "colorscale": {
           "diverging": [
            [
             0,
             "#8e0152"
            ],
            [
             0.1,
             "#c51b7d"
            ],
            [
             0.2,
             "#de77ae"
            ],
            [
             0.3,
             "#f1b6da"
            ],
            [
             0.4,
             "#fde0ef"
            ],
            [
             0.5,
             "#f7f7f7"
            ],
            [
             0.6,
             "#e6f5d0"
            ],
            [
             0.7,
             "#b8e186"
            ],
            [
             0.8,
             "#7fbc41"
            ],
            [
             0.9,
             "#4d9221"
            ],
            [
             1,
             "#276419"
            ]
           ],
           "sequential": [
            [
             0,
             "#0d0887"
            ],
            [
             0.1111111111111111,
             "#46039f"
            ],
            [
             0.2222222222222222,
             "#7201a8"
            ],
            [
             0.3333333333333333,
             "#9c179e"
            ],
            [
             0.4444444444444444,
             "#bd3786"
            ],
            [
             0.5555555555555556,
             "#d8576b"
            ],
            [
             0.6666666666666666,
             "#ed7953"
            ],
            [
             0.7777777777777778,
             "#fb9f3a"
            ],
            [
             0.8888888888888888,
             "#fdca26"
            ],
            [
             1,
             "#f0f921"
            ]
           ],
           "sequentialminus": [
            [
             0,
             "#0d0887"
            ],
            [
             0.1111111111111111,
             "#46039f"
            ],
            [
             0.2222222222222222,
             "#7201a8"
            ],
            [
             0.3333333333333333,
             "#9c179e"
            ],
            [
             0.4444444444444444,
             "#bd3786"
            ],
            [
             0.5555555555555556,
             "#d8576b"
            ],
            [
             0.6666666666666666,
             "#ed7953"
            ],
            [
             0.7777777777777778,
             "#fb9f3a"
            ],
            [
             0.8888888888888888,
             "#fdca26"
            ],
            [
             1,
             "#f0f921"
            ]
           ]
          },
          "colorway": [
           "#636efa",
           "#EF553B",
           "#00cc96",
           "#ab63fa",
           "#FFA15A",
           "#19d3f3",
           "#FF6692",
           "#B6E880",
           "#FF97FF",
           "#FECB52"
          ],
          "font": {
           "color": "#2a3f5f"
          },
          "geo": {
           "bgcolor": "white",
           "lakecolor": "white",
           "landcolor": "#E5ECF6",
           "showlakes": true,
           "showland": true,
           "subunitcolor": "white"
          },
          "hoverlabel": {
           "align": "left"
          },
          "hovermode": "closest",
          "mapbox": {
           "style": "light"
          },
          "paper_bgcolor": "white",
          "plot_bgcolor": "#E5ECF6",
          "polar": {
           "angularaxis": {
            "gridcolor": "white",
            "linecolor": "white",
            "ticks": ""
           },
           "bgcolor": "#E5ECF6",
           "radialaxis": {
            "gridcolor": "white",
            "linecolor": "white",
            "ticks": ""
           }
          },
          "scene": {
           "xaxis": {
            "backgroundcolor": "#E5ECF6",
            "gridcolor": "white",
            "gridwidth": 2,
            "linecolor": "white",
            "showbackground": true,
            "ticks": "",
            "zerolinecolor": "white"
           },
           "yaxis": {
            "backgroundcolor": "#E5ECF6",
            "gridcolor": "white",
            "gridwidth": 2,
            "linecolor": "white",
            "showbackground": true,
            "ticks": "",
            "zerolinecolor": "white"
           },
           "zaxis": {
            "backgroundcolor": "#E5ECF6",
            "gridcolor": "white",
            "gridwidth": 2,
            "linecolor": "white",
            "showbackground": true,
            "ticks": "",
            "zerolinecolor": "white"
           }
          },
          "shapedefaults": {
           "line": {
            "color": "#2a3f5f"
           }
          },
          "ternary": {
           "aaxis": {
            "gridcolor": "white",
            "linecolor": "white",
            "ticks": ""
           },
           "baxis": {
            "gridcolor": "white",
            "linecolor": "white",
            "ticks": ""
           },
           "bgcolor": "#E5ECF6",
           "caxis": {
            "gridcolor": "white",
            "linecolor": "white",
            "ticks": ""
           }
          },
          "title": {
           "x": 0.05
          },
          "xaxis": {
           "automargin": true,
           "gridcolor": "white",
           "linecolor": "white",
           "ticks": "",
           "title": {
            "standoff": 15
           },
           "zerolinecolor": "white",
           "zerolinewidth": 2
          },
          "yaxis": {
           "automargin": true,
           "gridcolor": "white",
           "linecolor": "white",
           "ticks": "",
           "title": {
            "standoff": 15
           },
           "zerolinecolor": "white",
           "zerolinewidth": 2
          }
         }
        },
        "title": {
         "text": "Effect on Accuracy when c_per=10 p_per increased from 0 to 40"
        },
        "xaxis": {
         "title": {
          "text": "Round Num"
         }
        },
        "yaxis": {
         "title": {
          "text": "Accuracy"
         }
        }
       }
      },
      "text/html": [
       "<div>                            <div id=\"dff9da78-2ca3-42da-8e77-1ad58551d439\" class=\"plotly-graph-div\" style=\"height:525px; width:100%;\"></div>            <script type=\"text/javascript\">                require([\"plotly\"], function(Plotly) {                    window.PLOTLYENV=window.PLOTLYENV || {};                                    if (document.getElementById(\"dff9da78-2ca3-42da-8e77-1ad58551d439\")) {                    Plotly.newPlot(                        \"dff9da78-2ca3-42da-8e77-1ad58551d439\",                        [{\"mode\": \"lines+markers\", \"name\": \"total_acc_p_per00\", \"type\": \"scatter\", \"x\": [10, 20, 30, 40, 50, 60, 70, 80, 90, 100, 110, 120, 130, 140, 150, 160, 170, 180, 190, 200, 210, 220, 230, 240, 250, 260, 270, 280, 290, 300, 310, 320, 330, 340, 350, 360, 370, 380, 390, 400], \"y\": [10.0, 10.0, 10.0, 10.0, 10.0, 10.0, 10.0, 10.0, 10.0, 10.0, 10.0, 10.0, 10.0, 10.0, 10.0, 10.0, 10.0, 10.0, 10.0, 10.0, 10.0, 10.0, 10.0, 10.0, 10.0, 10.0, 10.0, 10.0, 10.0, 10.0, 10.0, 10.0, 10.0, 10.0, 10.0, 10.0, 10.0, 10.0, 10.0, 10.0]}, {\"marker\": {\"symbol\": \"square\"}, \"mode\": \"lines+markers\", \"name\": \"flipped_source_p_per00\", \"type\": \"scatter\", \"x\": [10, 20, 30, 40, 50, 60, 70, 80, 90, 100, 110, 120, 130, 140, 150, 160, 170, 180, 190, 200, 210, 220, 230, 240, 250, 260, 270, 280, 290, 300, 310, 320, 330, 340, 350, 360, 370, 380, 390, 400], \"y\": [0.0, 0.0, 0.0, 0.0, 0.0, 0.0, 0.0, 0.0, 0.0, 0.0, 0.0, 0.0, 0.0, 0.0, 0.0, 0.0, 0.0, 0.0, 0.0, 100.0, 0.0, 0.0, 0.0, 0.0, 0.0, 0.0, 0.0, 0.0, 0.0, 0.0, 100.0, 0.0, 0.0, 0.0, 100.0, 0.0, 0.0, 0.0, 0.0, 0.0]}, {\"mode\": \"lines+markers\", \"name\": \"total_acc_p_per10\", \"type\": \"scatter\", \"x\": [10, 20, 30, 40, 50, 60, 70, 80, 90, 100, 110, 120, 130, 140, 150, 160, 170, 180, 190, 200, 210, 220, 230, 240, 250, 260, 270, 280, 290, 300, 310, 320, 330, 340, 350, 360, 370, 380, 390, 400], \"y\": [21.26, 29.89, 35.97, 39.77, 44.58, 47.09, 47.23, 52.05, 53.42, 54.02, 56.24, 56.89, 57.5, 57.96, 58.82, 59.43, 59.15, 59.66, 60.33, 60.64, 61.41, 61.69, 61.41, 61.04, 61.56, 61.02, 61.89, 62.02, 62.57, 62.14, 61.53, 61.77, 61.98, 62.34, 61.55, 61.86, 62.32, 61.35, 61.97, 62.54]}, {\"marker\": {\"symbol\": \"square\"}, \"mode\": \"lines+markers\", \"name\": \"flipped_source_p_per10\", \"type\": \"scatter\", \"x\": [10, 20, 30, 40, 50, 60, 70, 80, 90, 100, 110, 120, 130, 140, 150, 160, 170, 180, 190, 200, 210, 220, 230, 240, 250, 260, 270, 280, 290, 300, 310, 320, 330, 340, 350, 360, 370, 380, 390, 400], \"y\": [0.0, 0.0, 1.8, 1.3, 16.2, 28.6, 48.7, 22.6, 27.8, 22.9, 29.5, 27.4, 32.8, 54.7, 45.0, 47.4, 23.8, 34.4, 34.5, 33.9, 42.3, 53.9, 58.6, 27.5, 54.1, 42.5, 46.9, 44.0, 45.1, 43.3, 43.4, 56.6, 51.2, 47.8, 57.6, 55.8, 43.2, 62.3, 46.5, 51.2]}, {\"mode\": \"lines+markers\", \"name\": \"total_acc_p_per20\", \"type\": \"scatter\", \"x\": [10, 20, 30, 40, 50, 60, 70, 80, 90, 100, 110, 120, 130, 140, 150, 160, 170, 180, 190, 200, 210, 220, 230, 240, 250, 260, 270, 280, 290, 300, 310, 320, 330, 340, 350, 360, 370, 380, 390, 400], \"y\": [10.0, 21.9, 27.62, 31.64, 33.96, 36.8, 37.71, 41.01, 41.6, 45.11, 47.45, 49.57, 51.59, 52.71, 52.55, 53.99, 55.12, 54.89, 54.3, 55.32, 55.5, 56.76, 56.42, 56.55, 56.03, 55.66, 57.24, 57.34, 58.05, 57.43, 57.72, 57.62, 58.13, 58.08, 58.46, 57.77, 57.78, 58.57, 59.21, 58.66]}, {\"marker\": {\"symbol\": \"square\"}, \"mode\": \"lines+markers\", \"name\": \"flipped_source_p_per20\", \"type\": \"scatter\", \"x\": [10, 20, 30, 40, 50, 60, 70, 80, 90, 100, 110, 120, 130, 140, 150, 160, 170, 180, 190, 200, 210, 220, 230, 240, 250, 260, 270, 280, 290, 300, 310, 320, 330, 340, 350, 360, 370, 380, 390, 400], \"y\": [0.0, 0.4, 9.9, 17.6, 16.9, 9.2, 2.9, 7.7, 0.6, 6.9, 6.7, 18.8, 30.2, 13.4, 9.5, 20.0, 36.7, 12.9, 16.9, 24.4, 23.4, 32.8, 41.4, 22.5, 30.0, 8.0, 20.4, 48.4, 39.2, 26.9, 27.4, 24.7, 43.1, 28.0, 23.6, 20.1, 58.2, 26.6, 37.5, 35.6]}, {\"mode\": \"lines+markers\", \"name\": \"total_acc_p_per40\", \"type\": \"scatter\", \"x\": [10, 20, 30, 40, 50, 60, 70, 80, 90, 100, 110, 120, 130, 140, 150, 160, 170, 180, 190, 200, 210, 220, 230, 240, 250, 260, 270, 280, 290, 300, 310, 320, 330, 340, 350, 360, 370, 380, 390, 400], \"y\": [10.0, 10.0, 10.0, 10.0, 10.0, 10.0, 10.0, 10.0, 10.0, 10.0, 10.0, 10.0, 10.0, 10.0, 10.0, 10.0, 10.0, 10.0, 10.0, 10.0, 10.0, 10.0, 10.0, 10.0, 10.0, 10.0, 10.0, 10.0, 10.0, 10.0, 10.0, 10.0, 10.0, 10.0, 10.0, 10.0, 10.0, 10.0, 10.0, 10.0]}, {\"marker\": {\"symbol\": \"square\"}, \"mode\": \"lines+markers\", \"name\": \"flipped_source_p_per40\", \"type\": \"scatter\", \"x\": [10, 20, 30, 40, 50, 60, 70, 80, 90, 100, 110, 120, 130, 140, 150, 160, 170, 180, 190, 200, 210, 220, 230, 240, 250, 260, 270, 280, 290, 300, 310, 320, 330, 340, 350, 360, 370, 380, 390, 400], \"y\": [0.0, 0.0, 0.0, 0.0, 0.0, 0.0, 0.0, 0.0, 0.0, 0.0, 0.0, 0.0, 0.0, 0.0, 0.0, 0.0, 0.0, 0.0, 0.0, 0.0, 0.0, 0.0, 0.0, 0.0, 0.0, 0.0, 0.0, 0.0, 0.0, 0.0, 0.0, 0.0, 0.0, 0.0, 0.0, 0.0, 0.0, 0.0, 0.0, 0.0]}],                        {\"template\": {\"data\": {\"bar\": [{\"error_x\": {\"color\": \"#2a3f5f\"}, \"error_y\": {\"color\": \"#2a3f5f\"}, \"marker\": {\"line\": {\"color\": \"#E5ECF6\", \"width\": 0.5}}, \"type\": \"bar\"}], \"barpolar\": [{\"marker\": {\"line\": {\"color\": \"#E5ECF6\", \"width\": 0.5}}, \"type\": \"barpolar\"}], \"carpet\": [{\"aaxis\": {\"endlinecolor\": \"#2a3f5f\", \"gridcolor\": \"white\", \"linecolor\": \"white\", \"minorgridcolor\": \"white\", \"startlinecolor\": \"#2a3f5f\"}, \"baxis\": {\"endlinecolor\": \"#2a3f5f\", \"gridcolor\": \"white\", \"linecolor\": \"white\", \"minorgridcolor\": \"white\", \"startlinecolor\": \"#2a3f5f\"}, \"type\": \"carpet\"}], \"choropleth\": [{\"colorbar\": {\"outlinewidth\": 0, \"ticks\": \"\"}, \"type\": \"choropleth\"}], \"contour\": [{\"colorbar\": {\"outlinewidth\": 0, \"ticks\": \"\"}, \"colorscale\": [[0.0, \"#0d0887\"], [0.1111111111111111, \"#46039f\"], [0.2222222222222222, \"#7201a8\"], [0.3333333333333333, \"#9c179e\"], [0.4444444444444444, \"#bd3786\"], [0.5555555555555556, \"#d8576b\"], [0.6666666666666666, \"#ed7953\"], [0.7777777777777778, \"#fb9f3a\"], [0.8888888888888888, \"#fdca26\"], [1.0, \"#f0f921\"]], \"type\": \"contour\"}], \"contourcarpet\": [{\"colorbar\": {\"outlinewidth\": 0, \"ticks\": \"\"}, \"type\": \"contourcarpet\"}], \"heatmap\": [{\"colorbar\": {\"outlinewidth\": 0, \"ticks\": \"\"}, \"colorscale\": [[0.0, \"#0d0887\"], [0.1111111111111111, \"#46039f\"], [0.2222222222222222, \"#7201a8\"], [0.3333333333333333, \"#9c179e\"], [0.4444444444444444, \"#bd3786\"], [0.5555555555555556, \"#d8576b\"], [0.6666666666666666, \"#ed7953\"], [0.7777777777777778, \"#fb9f3a\"], [0.8888888888888888, \"#fdca26\"], [1.0, \"#f0f921\"]], \"type\": \"heatmap\"}], \"heatmapgl\": [{\"colorbar\": {\"outlinewidth\": 0, \"ticks\": \"\"}, \"colorscale\": [[0.0, \"#0d0887\"], [0.1111111111111111, \"#46039f\"], [0.2222222222222222, \"#7201a8\"], [0.3333333333333333, \"#9c179e\"], [0.4444444444444444, \"#bd3786\"], [0.5555555555555556, \"#d8576b\"], [0.6666666666666666, \"#ed7953\"], [0.7777777777777778, \"#fb9f3a\"], [0.8888888888888888, \"#fdca26\"], [1.0, \"#f0f921\"]], \"type\": \"heatmapgl\"}], \"histogram\": [{\"marker\": {\"colorbar\": {\"outlinewidth\": 0, \"ticks\": \"\"}}, \"type\": \"histogram\"}], \"histogram2d\": [{\"colorbar\": {\"outlinewidth\": 0, \"ticks\": \"\"}, \"colorscale\": [[0.0, \"#0d0887\"], [0.1111111111111111, \"#46039f\"], [0.2222222222222222, \"#7201a8\"], [0.3333333333333333, \"#9c179e\"], [0.4444444444444444, \"#bd3786\"], [0.5555555555555556, \"#d8576b\"], [0.6666666666666666, \"#ed7953\"], [0.7777777777777778, \"#fb9f3a\"], [0.8888888888888888, \"#fdca26\"], [1.0, \"#f0f921\"]], \"type\": \"histogram2d\"}], \"histogram2dcontour\": [{\"colorbar\": {\"outlinewidth\": 0, \"ticks\": \"\"}, \"colorscale\": [[0.0, \"#0d0887\"], [0.1111111111111111, \"#46039f\"], [0.2222222222222222, \"#7201a8\"], [0.3333333333333333, \"#9c179e\"], [0.4444444444444444, \"#bd3786\"], [0.5555555555555556, \"#d8576b\"], [0.6666666666666666, \"#ed7953\"], [0.7777777777777778, \"#fb9f3a\"], [0.8888888888888888, \"#fdca26\"], [1.0, \"#f0f921\"]], \"type\": \"histogram2dcontour\"}], \"mesh3d\": [{\"colorbar\": {\"outlinewidth\": 0, \"ticks\": \"\"}, \"type\": \"mesh3d\"}], \"parcoords\": [{\"line\": {\"colorbar\": {\"outlinewidth\": 0, \"ticks\": \"\"}}, \"type\": \"parcoords\"}], \"pie\": [{\"automargin\": true, \"type\": \"pie\"}], \"scatter\": [{\"marker\": {\"colorbar\": {\"outlinewidth\": 0, \"ticks\": \"\"}}, \"type\": \"scatter\"}], \"scatter3d\": [{\"line\": {\"colorbar\": {\"outlinewidth\": 0, \"ticks\": \"\"}}, \"marker\": {\"colorbar\": {\"outlinewidth\": 0, \"ticks\": \"\"}}, \"type\": \"scatter3d\"}], \"scattercarpet\": [{\"marker\": {\"colorbar\": {\"outlinewidth\": 0, \"ticks\": \"\"}}, \"type\": \"scattercarpet\"}], \"scattergeo\": [{\"marker\": {\"colorbar\": {\"outlinewidth\": 0, \"ticks\": \"\"}}, \"type\": \"scattergeo\"}], \"scattergl\": [{\"marker\": {\"colorbar\": {\"outlinewidth\": 0, \"ticks\": \"\"}}, \"type\": \"scattergl\"}], \"scattermapbox\": [{\"marker\": {\"colorbar\": {\"outlinewidth\": 0, \"ticks\": \"\"}}, \"type\": \"scattermapbox\"}], \"scatterpolar\": [{\"marker\": {\"colorbar\": {\"outlinewidth\": 0, \"ticks\": \"\"}}, \"type\": \"scatterpolar\"}], \"scatterpolargl\": [{\"marker\": {\"colorbar\": {\"outlinewidth\": 0, \"ticks\": \"\"}}, \"type\": \"scatterpolargl\"}], \"scatterternary\": [{\"marker\": {\"colorbar\": {\"outlinewidth\": 0, \"ticks\": \"\"}}, \"type\": \"scatterternary\"}], \"surface\": [{\"colorbar\": {\"outlinewidth\": 0, \"ticks\": \"\"}, \"colorscale\": [[0.0, \"#0d0887\"], [0.1111111111111111, \"#46039f\"], [0.2222222222222222, \"#7201a8\"], [0.3333333333333333, \"#9c179e\"], [0.4444444444444444, \"#bd3786\"], [0.5555555555555556, \"#d8576b\"], [0.6666666666666666, \"#ed7953\"], [0.7777777777777778, \"#fb9f3a\"], [0.8888888888888888, \"#fdca26\"], [1.0, \"#f0f921\"]], \"type\": \"surface\"}], \"table\": [{\"cells\": {\"fill\": {\"color\": \"#EBF0F8\"}, \"line\": {\"color\": \"white\"}}, \"header\": {\"fill\": {\"color\": \"#C8D4E3\"}, \"line\": {\"color\": \"white\"}}, \"type\": \"table\"}]}, \"layout\": {\"annotationdefaults\": {\"arrowcolor\": \"#2a3f5f\", \"arrowhead\": 0, \"arrowwidth\": 1}, \"autotypenumbers\": \"strict\", \"coloraxis\": {\"colorbar\": {\"outlinewidth\": 0, \"ticks\": \"\"}}, \"colorscale\": {\"diverging\": [[0, \"#8e0152\"], [0.1, \"#c51b7d\"], [0.2, \"#de77ae\"], [0.3, \"#f1b6da\"], [0.4, \"#fde0ef\"], [0.5, \"#f7f7f7\"], [0.6, \"#e6f5d0\"], [0.7, \"#b8e186\"], [0.8, \"#7fbc41\"], [0.9, \"#4d9221\"], [1, \"#276419\"]], \"sequential\": [[0.0, \"#0d0887\"], [0.1111111111111111, \"#46039f\"], [0.2222222222222222, \"#7201a8\"], [0.3333333333333333, \"#9c179e\"], [0.4444444444444444, \"#bd3786\"], [0.5555555555555556, \"#d8576b\"], [0.6666666666666666, \"#ed7953\"], [0.7777777777777778, \"#fb9f3a\"], [0.8888888888888888, \"#fdca26\"], [1.0, \"#f0f921\"]], \"sequentialminus\": [[0.0, \"#0d0887\"], [0.1111111111111111, \"#46039f\"], [0.2222222222222222, \"#7201a8\"], [0.3333333333333333, \"#9c179e\"], [0.4444444444444444, \"#bd3786\"], [0.5555555555555556, \"#d8576b\"], [0.6666666666666666, \"#ed7953\"], [0.7777777777777778, \"#fb9f3a\"], [0.8888888888888888, \"#fdca26\"], [1.0, \"#f0f921\"]]}, \"colorway\": [\"#636efa\", \"#EF553B\", \"#00cc96\", \"#ab63fa\", \"#FFA15A\", \"#19d3f3\", \"#FF6692\", \"#B6E880\", \"#FF97FF\", \"#FECB52\"], \"font\": {\"color\": \"#2a3f5f\"}, \"geo\": {\"bgcolor\": \"white\", \"lakecolor\": \"white\", \"landcolor\": \"#E5ECF6\", \"showlakes\": true, \"showland\": true, \"subunitcolor\": \"white\"}, \"hoverlabel\": {\"align\": \"left\"}, \"hovermode\": \"closest\", \"mapbox\": {\"style\": \"light\"}, \"paper_bgcolor\": \"white\", \"plot_bgcolor\": \"#E5ECF6\", \"polar\": {\"angularaxis\": {\"gridcolor\": \"white\", \"linecolor\": \"white\", \"ticks\": \"\"}, \"bgcolor\": \"#E5ECF6\", \"radialaxis\": {\"gridcolor\": \"white\", \"linecolor\": \"white\", \"ticks\": \"\"}}, \"scene\": {\"xaxis\": {\"backgroundcolor\": \"#E5ECF6\", \"gridcolor\": \"white\", \"gridwidth\": 2, \"linecolor\": \"white\", \"showbackground\": true, \"ticks\": \"\", \"zerolinecolor\": \"white\"}, \"yaxis\": {\"backgroundcolor\": \"#E5ECF6\", \"gridcolor\": \"white\", \"gridwidth\": 2, \"linecolor\": \"white\", \"showbackground\": true, \"ticks\": \"\", \"zerolinecolor\": \"white\"}, \"zaxis\": {\"backgroundcolor\": \"#E5ECF6\", \"gridcolor\": \"white\", \"gridwidth\": 2, \"linecolor\": \"white\", \"showbackground\": true, \"ticks\": \"\", \"zerolinecolor\": \"white\"}}, \"shapedefaults\": {\"line\": {\"color\": \"#2a3f5f\"}}, \"ternary\": {\"aaxis\": {\"gridcolor\": \"white\", \"linecolor\": \"white\", \"ticks\": \"\"}, \"baxis\": {\"gridcolor\": \"white\", \"linecolor\": \"white\", \"ticks\": \"\"}, \"bgcolor\": \"#E5ECF6\", \"caxis\": {\"gridcolor\": \"white\", \"linecolor\": \"white\", \"ticks\": \"\"}}, \"title\": {\"x\": 0.05}, \"xaxis\": {\"automargin\": true, \"gridcolor\": \"white\", \"linecolor\": \"white\", \"ticks\": \"\", \"title\": {\"standoff\": 15}, \"zerolinecolor\": \"white\", \"zerolinewidth\": 2}, \"yaxis\": {\"automargin\": true, \"gridcolor\": \"white\", \"linecolor\": \"white\", \"ticks\": \"\", \"title\": {\"standoff\": 15}, \"zerolinecolor\": \"white\", \"zerolinewidth\": 2}}}, \"title\": {\"text\": \"Effect on Accuracy when c_per=10 p_per increased from 0 to 40\"}, \"xaxis\": {\"title\": {\"text\": \"Round Num\"}}, \"yaxis\": {\"title\": {\"text\": \"Accuracy\"}}},                        {\"responsive\": true}                    ).then(function(){\n",
       "                            \n",
       "var gd = document.getElementById('dff9da78-2ca3-42da-8e77-1ad58551d439');\n",
       "var x = new MutationObserver(function (mutations, observer) {{\n",
       "        var display = window.getComputedStyle(gd).display;\n",
       "        if (!display || display === 'none') {{\n",
       "            console.log([gd, 'removed!']);\n",
       "            Plotly.purge(gd);\n",
       "            observer.disconnect();\n",
       "        }}\n",
       "}});\n",
       "\n",
       "// Listen for the removal of the full notebook cells\n",
       "var notebookContainer = gd.closest('#notebook-container');\n",
       "if (notebookContainer) {{\n",
       "    x.observe(notebookContainer, {childList: true});\n",
       "}}\n",
       "\n",
       "// Listen for the clearing of the current output cell\n",
       "var outputEl = gd.closest('.output');\n",
       "if (outputEl) {{\n",
       "    x.observe(outputEl, {childList: true});\n",
       "}}\n",
       "\n",
       "                        })                };                });            </script>        </div>"
      ]
     },
     "metadata": {},
     "output_type": "display_data"
    },
    {
     "data": {
      "application/vnd.plotly.v1+json": {
       "config": {
        "plotlyServerURL": "https://plot.ly"
       },
       "data": [
        {
         "mode": "lines+markers",
         "name": "total_acc_p_per00",
         "type": "scatter",
         "x": [
          10,
          20,
          30,
          40,
          50,
          60,
          70,
          80,
          90,
          100,
          110,
          120,
          130,
          140,
          150,
          160,
          170,
          180,
          190,
          200,
          210,
          220,
          230,
          240,
          250,
          260,
          270,
          280,
          290,
          300,
          310,
          320,
          330,
          340,
          350,
          360,
          370,
          380,
          390,
          400
         ],
         "y": [
          10,
          10,
          10,
          10,
          10,
          10,
          10,
          10,
          10,
          10,
          10,
          10,
          10.01,
          9.98,
          10,
          10,
          10,
          10,
          10,
          10,
          10,
          10,
          10,
          10,
          10,
          10,
          10.01,
          9.99,
          10,
          9.99,
          10.1,
          10.5,
          13.42,
          20.82,
          25.58,
          32.72,
          32.1,
          33.13,
          33.92,
          35.78
         ]
        },
        {
         "marker": {
          "symbol": "square"
         },
         "mode": "lines+markers",
         "name": "flipped_source_p_per00",
         "type": "scatter",
         "x": [
          10,
          20,
          30,
          40,
          50,
          60,
          70,
          80,
          90,
          100,
          110,
          120,
          130,
          140,
          150,
          160,
          170,
          180,
          190,
          200,
          210,
          220,
          230,
          240,
          250,
          260,
          270,
          280,
          290,
          300,
          310,
          320,
          330,
          340,
          350,
          360,
          370,
          380,
          390,
          400
         ],
         "y": [
          100,
          0,
          0,
          0,
          0,
          0,
          0,
          0,
          0,
          0,
          0,
          0,
          0,
          0,
          0,
          0,
          0,
          0,
          0,
          0,
          0,
          100,
          0,
          0,
          0,
          0,
          0,
          0,
          0,
          0,
          0,
          0,
          0,
          0,
          13,
          6.5,
          0.6,
          10.3,
          12.6,
          14.1
         ]
        },
        {
         "mode": "lines+markers",
         "name": "total_acc_p_per10",
         "type": "scatter",
         "x": [
          10,
          20,
          30,
          40,
          50,
          60,
          70,
          80,
          90,
          100,
          110,
          120,
          130,
          140,
          150,
          160,
          170,
          180,
          190,
          200,
          210,
          220,
          230,
          240,
          250,
          260,
          270,
          280,
          290,
          300,
          310,
          320,
          330,
          340,
          350,
          360,
          370,
          380,
          390,
          400
         ],
         "y": [
          10,
          10,
          10,
          10,
          10,
          10,
          10,
          10,
          10,
          10,
          10,
          10,
          10,
          10,
          10,
          10,
          10,
          10,
          10,
          10,
          10,
          10,
          10,
          10,
          10,
          10,
          10,
          10,
          10,
          10,
          10,
          10,
          10,
          10,
          10,
          10,
          10,
          10,
          10,
          10
         ]
        },
        {
         "marker": {
          "symbol": "square"
         },
         "mode": "lines+markers",
         "name": "flipped_source_p_per10",
         "type": "scatter",
         "x": [
          10,
          20,
          30,
          40,
          50,
          60,
          70,
          80,
          90,
          100,
          110,
          120,
          130,
          140,
          150,
          160,
          170,
          180,
          190,
          200,
          210,
          220,
          230,
          240,
          250,
          260,
          270,
          280,
          290,
          300,
          310,
          320,
          330,
          340,
          350,
          360,
          370,
          380,
          390,
          400
         ],
         "y": [
          0,
          0,
          0,
          0,
          0,
          0,
          0,
          0,
          0,
          0,
          0,
          0,
          0,
          0,
          0,
          0,
          0,
          0,
          0,
          0,
          0,
          0,
          0,
          0,
          0,
          0,
          0,
          0,
          0,
          0,
          0,
          0,
          0,
          0,
          0,
          0,
          0,
          0,
          0,
          0
         ]
        },
        {
         "mode": "lines+markers",
         "name": "total_acc_p_per20",
         "type": "scatter",
         "x": [
          10,
          20,
          30,
          40,
          50,
          60,
          70,
          80,
          90,
          100,
          110,
          120,
          130,
          140,
          150,
          160,
          170,
          180,
          190,
          200,
          210,
          220,
          230,
          240,
          250,
          260,
          270,
          280,
          290,
          300,
          310,
          320,
          330,
          340,
          350,
          360,
          370,
          380,
          390,
          400
         ],
         "y": [
          10,
          10,
          10,
          10,
          10,
          10,
          10,
          10,
          10,
          10,
          10,
          10,
          10,
          10,
          10,
          10,
          10,
          10,
          10,
          10,
          10,
          10,
          10,
          10,
          10,
          10,
          10,
          10,
          10,
          10,
          10,
          10,
          10,
          10,
          10,
          10,
          10.57,
          20.38,
          28.54,
          29.74
         ]
        },
        {
         "marker": {
          "symbol": "square"
         },
         "mode": "lines+markers",
         "name": "flipped_source_p_per20",
         "type": "scatter",
         "x": [
          10,
          20,
          30,
          40,
          50,
          60,
          70,
          80,
          90,
          100,
          110,
          120,
          130,
          140,
          150,
          160,
          170,
          180,
          190,
          200,
          210,
          220,
          230,
          240,
          250,
          260,
          270,
          280,
          290,
          300,
          310,
          320,
          330,
          340,
          350,
          360,
          370,
          380,
          390,
          400
         ],
         "y": [
          0,
          0,
          0,
          0,
          0,
          0,
          0,
          0,
          0,
          0,
          0,
          0,
          0,
          0,
          0,
          0,
          0,
          0,
          0,
          0,
          0,
          0,
          0,
          0,
          0,
          0,
          0,
          0,
          0,
          0,
          0,
          0,
          0,
          0,
          0,
          0,
          0,
          0,
          0,
          18.6
         ]
        },
        {
         "mode": "lines+markers",
         "name": "total_acc_p_per40",
         "type": "scatter",
         "x": [
          10,
          20,
          30,
          40,
          50,
          60,
          70,
          80,
          90,
          100,
          110,
          120,
          130,
          140,
          150,
          160,
          170,
          180,
          190,
          200,
          210,
          220,
          230,
          240,
          250,
          260,
          270,
          280,
          290,
          300,
          310,
          320,
          330,
          340,
          350,
          360,
          370,
          380,
          390,
          400
         ],
         "y": [
          10,
          10,
          10,
          10,
          10,
          10,
          10,
          10,
          10,
          10,
          10,
          10,
          10,
          10,
          10,
          10,
          10,
          10,
          10,
          10,
          10,
          10,
          10,
          10,
          10,
          10,
          10,
          10,
          10,
          10,
          10,
          10,
          10,
          10,
          10,
          10,
          10,
          10,
          10,
          10
         ]
        },
        {
         "marker": {
          "symbol": "square"
         },
         "mode": "lines+markers",
         "name": "flipped_source_p_per40",
         "type": "scatter",
         "x": [
          10,
          20,
          30,
          40,
          50,
          60,
          70,
          80,
          90,
          100,
          110,
          120,
          130,
          140,
          150,
          160,
          170,
          180,
          190,
          200,
          210,
          220,
          230,
          240,
          250,
          260,
          270,
          280,
          290,
          300,
          310,
          320,
          330,
          340,
          350,
          360,
          370,
          380,
          390,
          400
         ],
         "y": [
          0,
          0,
          0,
          0,
          0,
          0,
          0,
          0,
          0,
          0,
          0,
          0,
          0,
          0,
          0,
          0,
          0,
          0,
          0,
          0,
          0,
          0,
          0,
          0,
          0,
          0,
          0,
          0,
          0,
          0,
          0,
          0,
          0,
          0,
          0,
          0,
          0,
          0,
          0,
          0
         ]
        }
       ],
       "layout": {
        "template": {
         "data": {
          "bar": [
           {
            "error_x": {
             "color": "#2a3f5f"
            },
            "error_y": {
             "color": "#2a3f5f"
            },
            "marker": {
             "line": {
              "color": "#E5ECF6",
              "width": 0.5
             }
            },
            "type": "bar"
           }
          ],
          "barpolar": [
           {
            "marker": {
             "line": {
              "color": "#E5ECF6",
              "width": 0.5
             }
            },
            "type": "barpolar"
           }
          ],
          "carpet": [
           {
            "aaxis": {
             "endlinecolor": "#2a3f5f",
             "gridcolor": "white",
             "linecolor": "white",
             "minorgridcolor": "white",
             "startlinecolor": "#2a3f5f"
            },
            "baxis": {
             "endlinecolor": "#2a3f5f",
             "gridcolor": "white",
             "linecolor": "white",
             "minorgridcolor": "white",
             "startlinecolor": "#2a3f5f"
            },
            "type": "carpet"
           }
          ],
          "choropleth": [
           {
            "colorbar": {
             "outlinewidth": 0,
             "ticks": ""
            },
            "type": "choropleth"
           }
          ],
          "contour": [
           {
            "colorbar": {
             "outlinewidth": 0,
             "ticks": ""
            },
            "colorscale": [
             [
              0,
              "#0d0887"
             ],
             [
              0.1111111111111111,
              "#46039f"
             ],
             [
              0.2222222222222222,
              "#7201a8"
             ],
             [
              0.3333333333333333,
              "#9c179e"
             ],
             [
              0.4444444444444444,
              "#bd3786"
             ],
             [
              0.5555555555555556,
              "#d8576b"
             ],
             [
              0.6666666666666666,
              "#ed7953"
             ],
             [
              0.7777777777777778,
              "#fb9f3a"
             ],
             [
              0.8888888888888888,
              "#fdca26"
             ],
             [
              1,
              "#f0f921"
             ]
            ],
            "type": "contour"
           }
          ],
          "contourcarpet": [
           {
            "colorbar": {
             "outlinewidth": 0,
             "ticks": ""
            },
            "type": "contourcarpet"
           }
          ],
          "heatmap": [
           {
            "colorbar": {
             "outlinewidth": 0,
             "ticks": ""
            },
            "colorscale": [
             [
              0,
              "#0d0887"
             ],
             [
              0.1111111111111111,
              "#46039f"
             ],
             [
              0.2222222222222222,
              "#7201a8"
             ],
             [
              0.3333333333333333,
              "#9c179e"
             ],
             [
              0.4444444444444444,
              "#bd3786"
             ],
             [
              0.5555555555555556,
              "#d8576b"
             ],
             [
              0.6666666666666666,
              "#ed7953"
             ],
             [
              0.7777777777777778,
              "#fb9f3a"
             ],
             [
              0.8888888888888888,
              "#fdca26"
             ],
             [
              1,
              "#f0f921"
             ]
            ],
            "type": "heatmap"
           }
          ],
          "heatmapgl": [
           {
            "colorbar": {
             "outlinewidth": 0,
             "ticks": ""
            },
            "colorscale": [
             [
              0,
              "#0d0887"
             ],
             [
              0.1111111111111111,
              "#46039f"
             ],
             [
              0.2222222222222222,
              "#7201a8"
             ],
             [
              0.3333333333333333,
              "#9c179e"
             ],
             [
              0.4444444444444444,
              "#bd3786"
             ],
             [
              0.5555555555555556,
              "#d8576b"
             ],
             [
              0.6666666666666666,
              "#ed7953"
             ],
             [
              0.7777777777777778,
              "#fb9f3a"
             ],
             [
              0.8888888888888888,
              "#fdca26"
             ],
             [
              1,
              "#f0f921"
             ]
            ],
            "type": "heatmapgl"
           }
          ],
          "histogram": [
           {
            "marker": {
             "colorbar": {
              "outlinewidth": 0,
              "ticks": ""
             }
            },
            "type": "histogram"
           }
          ],
          "histogram2d": [
           {
            "colorbar": {
             "outlinewidth": 0,
             "ticks": ""
            },
            "colorscale": [
             [
              0,
              "#0d0887"
             ],
             [
              0.1111111111111111,
              "#46039f"
             ],
             [
              0.2222222222222222,
              "#7201a8"
             ],
             [
              0.3333333333333333,
              "#9c179e"
             ],
             [
              0.4444444444444444,
              "#bd3786"
             ],
             [
              0.5555555555555556,
              "#d8576b"
             ],
             [
              0.6666666666666666,
              "#ed7953"
             ],
             [
              0.7777777777777778,
              "#fb9f3a"
             ],
             [
              0.8888888888888888,
              "#fdca26"
             ],
             [
              1,
              "#f0f921"
             ]
            ],
            "type": "histogram2d"
           }
          ],
          "histogram2dcontour": [
           {
            "colorbar": {
             "outlinewidth": 0,
             "ticks": ""
            },
            "colorscale": [
             [
              0,
              "#0d0887"
             ],
             [
              0.1111111111111111,
              "#46039f"
             ],
             [
              0.2222222222222222,
              "#7201a8"
             ],
             [
              0.3333333333333333,
              "#9c179e"
             ],
             [
              0.4444444444444444,
              "#bd3786"
             ],
             [
              0.5555555555555556,
              "#d8576b"
             ],
             [
              0.6666666666666666,
              "#ed7953"
             ],
             [
              0.7777777777777778,
              "#fb9f3a"
             ],
             [
              0.8888888888888888,
              "#fdca26"
             ],
             [
              1,
              "#f0f921"
             ]
            ],
            "type": "histogram2dcontour"
           }
          ],
          "mesh3d": [
           {
            "colorbar": {
             "outlinewidth": 0,
             "ticks": ""
            },
            "type": "mesh3d"
           }
          ],
          "parcoords": [
           {
            "line": {
             "colorbar": {
              "outlinewidth": 0,
              "ticks": ""
             }
            },
            "type": "parcoords"
           }
          ],
          "pie": [
           {
            "automargin": true,
            "type": "pie"
           }
          ],
          "scatter": [
           {
            "marker": {
             "colorbar": {
              "outlinewidth": 0,
              "ticks": ""
             }
            },
            "type": "scatter"
           }
          ],
          "scatter3d": [
           {
            "line": {
             "colorbar": {
              "outlinewidth": 0,
              "ticks": ""
             }
            },
            "marker": {
             "colorbar": {
              "outlinewidth": 0,
              "ticks": ""
             }
            },
            "type": "scatter3d"
           }
          ],
          "scattercarpet": [
           {
            "marker": {
             "colorbar": {
              "outlinewidth": 0,
              "ticks": ""
             }
            },
            "type": "scattercarpet"
           }
          ],
          "scattergeo": [
           {
            "marker": {
             "colorbar": {
              "outlinewidth": 0,
              "ticks": ""
             }
            },
            "type": "scattergeo"
           }
          ],
          "scattergl": [
           {
            "marker": {
             "colorbar": {
              "outlinewidth": 0,
              "ticks": ""
             }
            },
            "type": "scattergl"
           }
          ],
          "scattermapbox": [
           {
            "marker": {
             "colorbar": {
              "outlinewidth": 0,
              "ticks": ""
             }
            },
            "type": "scattermapbox"
           }
          ],
          "scatterpolar": [
           {
            "marker": {
             "colorbar": {
              "outlinewidth": 0,
              "ticks": ""
             }
            },
            "type": "scatterpolar"
           }
          ],
          "scatterpolargl": [
           {
            "marker": {
             "colorbar": {
              "outlinewidth": 0,
              "ticks": ""
             }
            },
            "type": "scatterpolargl"
           }
          ],
          "scatterternary": [
           {
            "marker": {
             "colorbar": {
              "outlinewidth": 0,
              "ticks": ""
             }
            },
            "type": "scatterternary"
           }
          ],
          "surface": [
           {
            "colorbar": {
             "outlinewidth": 0,
             "ticks": ""
            },
            "colorscale": [
             [
              0,
              "#0d0887"
             ],
             [
              0.1111111111111111,
              "#46039f"
             ],
             [
              0.2222222222222222,
              "#7201a8"
             ],
             [
              0.3333333333333333,
              "#9c179e"
             ],
             [
              0.4444444444444444,
              "#bd3786"
             ],
             [
              0.5555555555555556,
              "#d8576b"
             ],
             [
              0.6666666666666666,
              "#ed7953"
             ],
             [
              0.7777777777777778,
              "#fb9f3a"
             ],
             [
              0.8888888888888888,
              "#fdca26"
             ],
             [
              1,
              "#f0f921"
             ]
            ],
            "type": "surface"
           }
          ],
          "table": [
           {
            "cells": {
             "fill": {
              "color": "#EBF0F8"
             },
             "line": {
              "color": "white"
             }
            },
            "header": {
             "fill": {
              "color": "#C8D4E3"
             },
             "line": {
              "color": "white"
             }
            },
            "type": "table"
           }
          ]
         },
         "layout": {
          "annotationdefaults": {
           "arrowcolor": "#2a3f5f",
           "arrowhead": 0,
           "arrowwidth": 1
          },
          "autotypenumbers": "strict",
          "coloraxis": {
           "colorbar": {
            "outlinewidth": 0,
            "ticks": ""
           }
          },
          "colorscale": {
           "diverging": [
            [
             0,
             "#8e0152"
            ],
            [
             0.1,
             "#c51b7d"
            ],
            [
             0.2,
             "#de77ae"
            ],
            [
             0.3,
             "#f1b6da"
            ],
            [
             0.4,
             "#fde0ef"
            ],
            [
             0.5,
             "#f7f7f7"
            ],
            [
             0.6,
             "#e6f5d0"
            ],
            [
             0.7,
             "#b8e186"
            ],
            [
             0.8,
             "#7fbc41"
            ],
            [
             0.9,
             "#4d9221"
            ],
            [
             1,
             "#276419"
            ]
           ],
           "sequential": [
            [
             0,
             "#0d0887"
            ],
            [
             0.1111111111111111,
             "#46039f"
            ],
            [
             0.2222222222222222,
             "#7201a8"
            ],
            [
             0.3333333333333333,
             "#9c179e"
            ],
            [
             0.4444444444444444,
             "#bd3786"
            ],
            [
             0.5555555555555556,
             "#d8576b"
            ],
            [
             0.6666666666666666,
             "#ed7953"
            ],
            [
             0.7777777777777778,
             "#fb9f3a"
            ],
            [
             0.8888888888888888,
             "#fdca26"
            ],
            [
             1,
             "#f0f921"
            ]
           ],
           "sequentialminus": [
            [
             0,
             "#0d0887"
            ],
            [
             0.1111111111111111,
             "#46039f"
            ],
            [
             0.2222222222222222,
             "#7201a8"
            ],
            [
             0.3333333333333333,
             "#9c179e"
            ],
            [
             0.4444444444444444,
             "#bd3786"
            ],
            [
             0.5555555555555556,
             "#d8576b"
            ],
            [
             0.6666666666666666,
             "#ed7953"
            ],
            [
             0.7777777777777778,
             "#fb9f3a"
            ],
            [
             0.8888888888888888,
             "#fdca26"
            ],
            [
             1,
             "#f0f921"
            ]
           ]
          },
          "colorway": [
           "#636efa",
           "#EF553B",
           "#00cc96",
           "#ab63fa",
           "#FFA15A",
           "#19d3f3",
           "#FF6692",
           "#B6E880",
           "#FF97FF",
           "#FECB52"
          ],
          "font": {
           "color": "#2a3f5f"
          },
          "geo": {
           "bgcolor": "white",
           "lakecolor": "white",
           "landcolor": "#E5ECF6",
           "showlakes": true,
           "showland": true,
           "subunitcolor": "white"
          },
          "hoverlabel": {
           "align": "left"
          },
          "hovermode": "closest",
          "mapbox": {
           "style": "light"
          },
          "paper_bgcolor": "white",
          "plot_bgcolor": "#E5ECF6",
          "polar": {
           "angularaxis": {
            "gridcolor": "white",
            "linecolor": "white",
            "ticks": ""
           },
           "bgcolor": "#E5ECF6",
           "radialaxis": {
            "gridcolor": "white",
            "linecolor": "white",
            "ticks": ""
           }
          },
          "scene": {
           "xaxis": {
            "backgroundcolor": "#E5ECF6",
            "gridcolor": "white",
            "gridwidth": 2,
            "linecolor": "white",
            "showbackground": true,
            "ticks": "",
            "zerolinecolor": "white"
           },
           "yaxis": {
            "backgroundcolor": "#E5ECF6",
            "gridcolor": "white",
            "gridwidth": 2,
            "linecolor": "white",
            "showbackground": true,
            "ticks": "",
            "zerolinecolor": "white"
           },
           "zaxis": {
            "backgroundcolor": "#E5ECF6",
            "gridcolor": "white",
            "gridwidth": 2,
            "linecolor": "white",
            "showbackground": true,
            "ticks": "",
            "zerolinecolor": "white"
           }
          },
          "shapedefaults": {
           "line": {
            "color": "#2a3f5f"
           }
          },
          "ternary": {
           "aaxis": {
            "gridcolor": "white",
            "linecolor": "white",
            "ticks": ""
           },
           "baxis": {
            "gridcolor": "white",
            "linecolor": "white",
            "ticks": ""
           },
           "bgcolor": "#E5ECF6",
           "caxis": {
            "gridcolor": "white",
            "linecolor": "white",
            "ticks": ""
           }
          },
          "title": {
           "x": 0.05
          },
          "xaxis": {
           "automargin": true,
           "gridcolor": "white",
           "linecolor": "white",
           "ticks": "",
           "title": {
            "standoff": 15
           },
           "zerolinecolor": "white",
           "zerolinewidth": 2
          },
          "yaxis": {
           "automargin": true,
           "gridcolor": "white",
           "linecolor": "white",
           "ticks": "",
           "title": {
            "standoff": 15
           },
           "zerolinecolor": "white",
           "zerolinewidth": 2
          }
         }
        },
        "title": {
         "text": "Effect on Accuracy when c_per=20 p_per increased from 0 to 40"
        },
        "xaxis": {
         "title": {
          "text": "Round Num"
         }
        },
        "yaxis": {
         "title": {
          "text": "Accuracy"
         }
        }
       }
      },
      "text/html": [
       "<div>                            <div id=\"b5520627-b7e4-4c66-b320-49b54bba4f22\" class=\"plotly-graph-div\" style=\"height:525px; width:100%;\"></div>            <script type=\"text/javascript\">                require([\"plotly\"], function(Plotly) {                    window.PLOTLYENV=window.PLOTLYENV || {};                                    if (document.getElementById(\"b5520627-b7e4-4c66-b320-49b54bba4f22\")) {                    Plotly.newPlot(                        \"b5520627-b7e4-4c66-b320-49b54bba4f22\",                        [{\"mode\": \"lines+markers\", \"name\": \"total_acc_p_per00\", \"type\": \"scatter\", \"x\": [10, 20, 30, 40, 50, 60, 70, 80, 90, 100, 110, 120, 130, 140, 150, 160, 170, 180, 190, 200, 210, 220, 230, 240, 250, 260, 270, 280, 290, 300, 310, 320, 330, 340, 350, 360, 370, 380, 390, 400], \"y\": [10.0, 10.0, 10.0, 10.0, 10.0, 10.0, 10.0, 10.0, 10.0, 10.0, 10.0, 10.0, 10.01, 9.98, 10.0, 10.0, 10.0, 10.0, 10.0, 10.0, 10.0, 10.0, 10.0, 10.0, 10.0, 10.0, 10.01, 9.99, 10.0, 9.99, 10.1, 10.5, 13.42, 20.82, 25.58, 32.72, 32.1, 33.13, 33.92, 35.78]}, {\"marker\": {\"symbol\": \"square\"}, \"mode\": \"lines+markers\", \"name\": \"flipped_source_p_per00\", \"type\": \"scatter\", \"x\": [10, 20, 30, 40, 50, 60, 70, 80, 90, 100, 110, 120, 130, 140, 150, 160, 170, 180, 190, 200, 210, 220, 230, 240, 250, 260, 270, 280, 290, 300, 310, 320, 330, 340, 350, 360, 370, 380, 390, 400], \"y\": [100.0, 0.0, 0.0, 0.0, 0.0, 0.0, 0.0, 0.0, 0.0, 0.0, 0.0, 0.0, 0.0, 0.0, 0.0, 0.0, 0.0, 0.0, 0.0, 0.0, 0.0, 100.0, 0.0, 0.0, 0.0, 0.0, 0.0, 0.0, 0.0, 0.0, 0.0, 0.0, 0.0, 0.0, 13.0, 6.5, 0.6, 10.3, 12.6, 14.1]}, {\"mode\": \"lines+markers\", \"name\": \"total_acc_p_per10\", \"type\": \"scatter\", \"x\": [10, 20, 30, 40, 50, 60, 70, 80, 90, 100, 110, 120, 130, 140, 150, 160, 170, 180, 190, 200, 210, 220, 230, 240, 250, 260, 270, 280, 290, 300, 310, 320, 330, 340, 350, 360, 370, 380, 390, 400], \"y\": [10.0, 10.0, 10.0, 10.0, 10.0, 10.0, 10.0, 10.0, 10.0, 10.0, 10.0, 10.0, 10.0, 10.0, 10.0, 10.0, 10.0, 10.0, 10.0, 10.0, 10.0, 10.0, 10.0, 10.0, 10.0, 10.0, 10.0, 10.0, 10.0, 10.0, 10.0, 10.0, 10.0, 10.0, 10.0, 10.0, 10.0, 10.0, 10.0, 10.0]}, {\"marker\": {\"symbol\": \"square\"}, \"mode\": \"lines+markers\", \"name\": \"flipped_source_p_per10\", \"type\": \"scatter\", \"x\": [10, 20, 30, 40, 50, 60, 70, 80, 90, 100, 110, 120, 130, 140, 150, 160, 170, 180, 190, 200, 210, 220, 230, 240, 250, 260, 270, 280, 290, 300, 310, 320, 330, 340, 350, 360, 370, 380, 390, 400], \"y\": [0.0, 0.0, 0.0, 0.0, 0.0, 0.0, 0.0, 0.0, 0.0, 0.0, 0.0, 0.0, 0.0, 0.0, 0.0, 0.0, 0.0, 0.0, 0.0, 0.0, 0.0, 0.0, 0.0, 0.0, 0.0, 0.0, 0.0, 0.0, 0.0, 0.0, 0.0, 0.0, 0.0, 0.0, 0.0, 0.0, 0.0, 0.0, 0.0, 0.0]}, {\"mode\": \"lines+markers\", \"name\": \"total_acc_p_per20\", \"type\": \"scatter\", \"x\": [10, 20, 30, 40, 50, 60, 70, 80, 90, 100, 110, 120, 130, 140, 150, 160, 170, 180, 190, 200, 210, 220, 230, 240, 250, 260, 270, 280, 290, 300, 310, 320, 330, 340, 350, 360, 370, 380, 390, 400], \"y\": [10.0, 10.0, 10.0, 10.0, 10.0, 10.0, 10.0, 10.0, 10.0, 10.0, 10.0, 10.0, 10.0, 10.0, 10.0, 10.0, 10.0, 10.0, 10.0, 10.0, 10.0, 10.0, 10.0, 10.0, 10.0, 10.0, 10.0, 10.0, 10.0, 10.0, 10.0, 10.0, 10.0, 10.0, 10.0, 10.0, 10.57, 20.38, 28.54, 29.74]}, {\"marker\": {\"symbol\": \"square\"}, \"mode\": \"lines+markers\", \"name\": \"flipped_source_p_per20\", \"type\": \"scatter\", \"x\": [10, 20, 30, 40, 50, 60, 70, 80, 90, 100, 110, 120, 130, 140, 150, 160, 170, 180, 190, 200, 210, 220, 230, 240, 250, 260, 270, 280, 290, 300, 310, 320, 330, 340, 350, 360, 370, 380, 390, 400], \"y\": [0.0, 0.0, 0.0, 0.0, 0.0, 0.0, 0.0, 0.0, 0.0, 0.0, 0.0, 0.0, 0.0, 0.0, 0.0, 0.0, 0.0, 0.0, 0.0, 0.0, 0.0, 0.0, 0.0, 0.0, 0.0, 0.0, 0.0, 0.0, 0.0, 0.0, 0.0, 0.0, 0.0, 0.0, 0.0, 0.0, 0.0, 0.0, 0.0, 18.6]}, {\"mode\": \"lines+markers\", \"name\": \"total_acc_p_per40\", \"type\": \"scatter\", \"x\": [10, 20, 30, 40, 50, 60, 70, 80, 90, 100, 110, 120, 130, 140, 150, 160, 170, 180, 190, 200, 210, 220, 230, 240, 250, 260, 270, 280, 290, 300, 310, 320, 330, 340, 350, 360, 370, 380, 390, 400], \"y\": [10.0, 10.0, 10.0, 10.0, 10.0, 10.0, 10.0, 10.0, 10.0, 10.0, 10.0, 10.0, 10.0, 10.0, 10.0, 10.0, 10.0, 10.0, 10.0, 10.0, 10.0, 10.0, 10.0, 10.0, 10.0, 10.0, 10.0, 10.0, 10.0, 10.0, 10.0, 10.0, 10.0, 10.0, 10.0, 10.0, 10.0, 10.0, 10.0, 10.0]}, {\"marker\": {\"symbol\": \"square\"}, \"mode\": \"lines+markers\", \"name\": \"flipped_source_p_per40\", \"type\": \"scatter\", \"x\": [10, 20, 30, 40, 50, 60, 70, 80, 90, 100, 110, 120, 130, 140, 150, 160, 170, 180, 190, 200, 210, 220, 230, 240, 250, 260, 270, 280, 290, 300, 310, 320, 330, 340, 350, 360, 370, 380, 390, 400], \"y\": [0.0, 0.0, 0.0, 0.0, 0.0, 0.0, 0.0, 0.0, 0.0, 0.0, 0.0, 0.0, 0.0, 0.0, 0.0, 0.0, 0.0, 0.0, 0.0, 0.0, 0.0, 0.0, 0.0, 0.0, 0.0, 0.0, 0.0, 0.0, 0.0, 0.0, 0.0, 0.0, 0.0, 0.0, 0.0, 0.0, 0.0, 0.0, 0.0, 0.0]}],                        {\"template\": {\"data\": {\"bar\": [{\"error_x\": {\"color\": \"#2a3f5f\"}, \"error_y\": {\"color\": \"#2a3f5f\"}, \"marker\": {\"line\": {\"color\": \"#E5ECF6\", \"width\": 0.5}}, \"type\": \"bar\"}], \"barpolar\": [{\"marker\": {\"line\": {\"color\": \"#E5ECF6\", \"width\": 0.5}}, \"type\": \"barpolar\"}], \"carpet\": [{\"aaxis\": {\"endlinecolor\": \"#2a3f5f\", \"gridcolor\": \"white\", \"linecolor\": \"white\", \"minorgridcolor\": \"white\", \"startlinecolor\": \"#2a3f5f\"}, \"baxis\": {\"endlinecolor\": \"#2a3f5f\", \"gridcolor\": \"white\", \"linecolor\": \"white\", \"minorgridcolor\": \"white\", \"startlinecolor\": \"#2a3f5f\"}, \"type\": \"carpet\"}], \"choropleth\": [{\"colorbar\": {\"outlinewidth\": 0, \"ticks\": \"\"}, \"type\": \"choropleth\"}], \"contour\": [{\"colorbar\": {\"outlinewidth\": 0, \"ticks\": \"\"}, \"colorscale\": [[0.0, \"#0d0887\"], [0.1111111111111111, \"#46039f\"], [0.2222222222222222, \"#7201a8\"], [0.3333333333333333, \"#9c179e\"], [0.4444444444444444, \"#bd3786\"], [0.5555555555555556, \"#d8576b\"], [0.6666666666666666, \"#ed7953\"], [0.7777777777777778, \"#fb9f3a\"], [0.8888888888888888, \"#fdca26\"], [1.0, \"#f0f921\"]], \"type\": \"contour\"}], \"contourcarpet\": [{\"colorbar\": {\"outlinewidth\": 0, \"ticks\": \"\"}, \"type\": \"contourcarpet\"}], \"heatmap\": [{\"colorbar\": {\"outlinewidth\": 0, \"ticks\": \"\"}, \"colorscale\": [[0.0, \"#0d0887\"], [0.1111111111111111, \"#46039f\"], [0.2222222222222222, \"#7201a8\"], [0.3333333333333333, \"#9c179e\"], [0.4444444444444444, \"#bd3786\"], [0.5555555555555556, \"#d8576b\"], [0.6666666666666666, \"#ed7953\"], [0.7777777777777778, \"#fb9f3a\"], [0.8888888888888888, \"#fdca26\"], [1.0, \"#f0f921\"]], \"type\": \"heatmap\"}], \"heatmapgl\": [{\"colorbar\": {\"outlinewidth\": 0, \"ticks\": \"\"}, \"colorscale\": [[0.0, \"#0d0887\"], [0.1111111111111111, \"#46039f\"], [0.2222222222222222, \"#7201a8\"], [0.3333333333333333, \"#9c179e\"], [0.4444444444444444, \"#bd3786\"], [0.5555555555555556, \"#d8576b\"], [0.6666666666666666, \"#ed7953\"], [0.7777777777777778, \"#fb9f3a\"], [0.8888888888888888, \"#fdca26\"], [1.0, \"#f0f921\"]], \"type\": \"heatmapgl\"}], \"histogram\": [{\"marker\": {\"colorbar\": {\"outlinewidth\": 0, \"ticks\": \"\"}}, \"type\": \"histogram\"}], \"histogram2d\": [{\"colorbar\": {\"outlinewidth\": 0, \"ticks\": \"\"}, \"colorscale\": [[0.0, \"#0d0887\"], [0.1111111111111111, \"#46039f\"], [0.2222222222222222, \"#7201a8\"], [0.3333333333333333, \"#9c179e\"], [0.4444444444444444, \"#bd3786\"], [0.5555555555555556, \"#d8576b\"], [0.6666666666666666, \"#ed7953\"], [0.7777777777777778, \"#fb9f3a\"], [0.8888888888888888, \"#fdca26\"], [1.0, \"#f0f921\"]], \"type\": \"histogram2d\"}], \"histogram2dcontour\": [{\"colorbar\": {\"outlinewidth\": 0, \"ticks\": \"\"}, \"colorscale\": [[0.0, \"#0d0887\"], [0.1111111111111111, \"#46039f\"], [0.2222222222222222, \"#7201a8\"], [0.3333333333333333, \"#9c179e\"], [0.4444444444444444, \"#bd3786\"], [0.5555555555555556, \"#d8576b\"], [0.6666666666666666, \"#ed7953\"], [0.7777777777777778, \"#fb9f3a\"], [0.8888888888888888, \"#fdca26\"], [1.0, \"#f0f921\"]], \"type\": \"histogram2dcontour\"}], \"mesh3d\": [{\"colorbar\": {\"outlinewidth\": 0, \"ticks\": \"\"}, \"type\": \"mesh3d\"}], \"parcoords\": [{\"line\": {\"colorbar\": {\"outlinewidth\": 0, \"ticks\": \"\"}}, \"type\": \"parcoords\"}], \"pie\": [{\"automargin\": true, \"type\": \"pie\"}], \"scatter\": [{\"marker\": {\"colorbar\": {\"outlinewidth\": 0, \"ticks\": \"\"}}, \"type\": \"scatter\"}], \"scatter3d\": [{\"line\": {\"colorbar\": {\"outlinewidth\": 0, \"ticks\": \"\"}}, \"marker\": {\"colorbar\": {\"outlinewidth\": 0, \"ticks\": \"\"}}, \"type\": \"scatter3d\"}], \"scattercarpet\": [{\"marker\": {\"colorbar\": {\"outlinewidth\": 0, \"ticks\": \"\"}}, \"type\": \"scattercarpet\"}], \"scattergeo\": [{\"marker\": {\"colorbar\": {\"outlinewidth\": 0, \"ticks\": \"\"}}, \"type\": \"scattergeo\"}], \"scattergl\": [{\"marker\": {\"colorbar\": {\"outlinewidth\": 0, \"ticks\": \"\"}}, \"type\": \"scattergl\"}], \"scattermapbox\": [{\"marker\": {\"colorbar\": {\"outlinewidth\": 0, \"ticks\": \"\"}}, \"type\": \"scattermapbox\"}], \"scatterpolar\": [{\"marker\": {\"colorbar\": {\"outlinewidth\": 0, \"ticks\": \"\"}}, \"type\": \"scatterpolar\"}], \"scatterpolargl\": [{\"marker\": {\"colorbar\": {\"outlinewidth\": 0, \"ticks\": \"\"}}, \"type\": \"scatterpolargl\"}], \"scatterternary\": [{\"marker\": {\"colorbar\": {\"outlinewidth\": 0, \"ticks\": \"\"}}, \"type\": \"scatterternary\"}], \"surface\": [{\"colorbar\": {\"outlinewidth\": 0, \"ticks\": \"\"}, \"colorscale\": [[0.0, \"#0d0887\"], [0.1111111111111111, \"#46039f\"], [0.2222222222222222, \"#7201a8\"], [0.3333333333333333, \"#9c179e\"], [0.4444444444444444, \"#bd3786\"], [0.5555555555555556, \"#d8576b\"], [0.6666666666666666, \"#ed7953\"], [0.7777777777777778, \"#fb9f3a\"], [0.8888888888888888, \"#fdca26\"], [1.0, \"#f0f921\"]], \"type\": \"surface\"}], \"table\": [{\"cells\": {\"fill\": {\"color\": \"#EBF0F8\"}, \"line\": {\"color\": \"white\"}}, \"header\": {\"fill\": {\"color\": \"#C8D4E3\"}, \"line\": {\"color\": \"white\"}}, \"type\": \"table\"}]}, \"layout\": {\"annotationdefaults\": {\"arrowcolor\": \"#2a3f5f\", \"arrowhead\": 0, \"arrowwidth\": 1}, \"autotypenumbers\": \"strict\", \"coloraxis\": {\"colorbar\": {\"outlinewidth\": 0, \"ticks\": \"\"}}, \"colorscale\": {\"diverging\": [[0, \"#8e0152\"], [0.1, \"#c51b7d\"], [0.2, \"#de77ae\"], [0.3, \"#f1b6da\"], [0.4, \"#fde0ef\"], [0.5, \"#f7f7f7\"], [0.6, \"#e6f5d0\"], [0.7, \"#b8e186\"], [0.8, \"#7fbc41\"], [0.9, \"#4d9221\"], [1, \"#276419\"]], \"sequential\": [[0.0, \"#0d0887\"], [0.1111111111111111, \"#46039f\"], [0.2222222222222222, \"#7201a8\"], [0.3333333333333333, \"#9c179e\"], [0.4444444444444444, \"#bd3786\"], [0.5555555555555556, \"#d8576b\"], [0.6666666666666666, \"#ed7953\"], [0.7777777777777778, \"#fb9f3a\"], [0.8888888888888888, \"#fdca26\"], [1.0, \"#f0f921\"]], \"sequentialminus\": [[0.0, \"#0d0887\"], [0.1111111111111111, \"#46039f\"], [0.2222222222222222, \"#7201a8\"], [0.3333333333333333, \"#9c179e\"], [0.4444444444444444, \"#bd3786\"], [0.5555555555555556, \"#d8576b\"], [0.6666666666666666, \"#ed7953\"], [0.7777777777777778, \"#fb9f3a\"], [0.8888888888888888, \"#fdca26\"], [1.0, \"#f0f921\"]]}, \"colorway\": [\"#636efa\", \"#EF553B\", \"#00cc96\", \"#ab63fa\", \"#FFA15A\", \"#19d3f3\", \"#FF6692\", \"#B6E880\", \"#FF97FF\", \"#FECB52\"], \"font\": {\"color\": \"#2a3f5f\"}, \"geo\": {\"bgcolor\": \"white\", \"lakecolor\": \"white\", \"landcolor\": \"#E5ECF6\", \"showlakes\": true, \"showland\": true, \"subunitcolor\": \"white\"}, \"hoverlabel\": {\"align\": \"left\"}, \"hovermode\": \"closest\", \"mapbox\": {\"style\": \"light\"}, \"paper_bgcolor\": \"white\", \"plot_bgcolor\": \"#E5ECF6\", \"polar\": {\"angularaxis\": {\"gridcolor\": \"white\", \"linecolor\": \"white\", \"ticks\": \"\"}, \"bgcolor\": \"#E5ECF6\", \"radialaxis\": {\"gridcolor\": \"white\", \"linecolor\": \"white\", \"ticks\": \"\"}}, \"scene\": {\"xaxis\": {\"backgroundcolor\": \"#E5ECF6\", \"gridcolor\": \"white\", \"gridwidth\": 2, \"linecolor\": \"white\", \"showbackground\": true, \"ticks\": \"\", \"zerolinecolor\": \"white\"}, \"yaxis\": {\"backgroundcolor\": \"#E5ECF6\", \"gridcolor\": \"white\", \"gridwidth\": 2, \"linecolor\": \"white\", \"showbackground\": true, \"ticks\": \"\", \"zerolinecolor\": \"white\"}, \"zaxis\": {\"backgroundcolor\": \"#E5ECF6\", \"gridcolor\": \"white\", \"gridwidth\": 2, \"linecolor\": \"white\", \"showbackground\": true, \"ticks\": \"\", \"zerolinecolor\": \"white\"}}, \"shapedefaults\": {\"line\": {\"color\": \"#2a3f5f\"}}, \"ternary\": {\"aaxis\": {\"gridcolor\": \"white\", \"linecolor\": \"white\", \"ticks\": \"\"}, \"baxis\": {\"gridcolor\": \"white\", \"linecolor\": \"white\", \"ticks\": \"\"}, \"bgcolor\": \"#E5ECF6\", \"caxis\": {\"gridcolor\": \"white\", \"linecolor\": \"white\", \"ticks\": \"\"}}, \"title\": {\"x\": 0.05}, \"xaxis\": {\"automargin\": true, \"gridcolor\": \"white\", \"linecolor\": \"white\", \"ticks\": \"\", \"title\": {\"standoff\": 15}, \"zerolinecolor\": \"white\", \"zerolinewidth\": 2}, \"yaxis\": {\"automargin\": true, \"gridcolor\": \"white\", \"linecolor\": \"white\", \"ticks\": \"\", \"title\": {\"standoff\": 15}, \"zerolinecolor\": \"white\", \"zerolinewidth\": 2}}}, \"title\": {\"text\": \"Effect on Accuracy when c_per=20 p_per increased from 0 to 40\"}, \"xaxis\": {\"title\": {\"text\": \"Round Num\"}}, \"yaxis\": {\"title\": {\"text\": \"Accuracy\"}}},                        {\"responsive\": true}                    ).then(function(){\n",
       "                            \n",
       "var gd = document.getElementById('b5520627-b7e4-4c66-b320-49b54bba4f22');\n",
       "var x = new MutationObserver(function (mutations, observer) {{\n",
       "        var display = window.getComputedStyle(gd).display;\n",
       "        if (!display || display === 'none') {{\n",
       "            console.log([gd, 'removed!']);\n",
       "            Plotly.purge(gd);\n",
       "            observer.disconnect();\n",
       "        }}\n",
       "}});\n",
       "\n",
       "// Listen for the removal of the full notebook cells\n",
       "var notebookContainer = gd.closest('#notebook-container');\n",
       "if (notebookContainer) {{\n",
       "    x.observe(notebookContainer, {childList: true});\n",
       "}}\n",
       "\n",
       "// Listen for the clearing of the current output cell\n",
       "var outputEl = gd.closest('.output');\n",
       "if (outputEl) {{\n",
       "    x.observe(outputEl, {childList: true});\n",
       "}}\n",
       "\n",
       "                        })                };                });            </script>        </div>"
      ]
     },
     "metadata": {},
     "output_type": "display_data"
    },
    {
     "data": {
      "application/vnd.plotly.v1+json": {
       "config": {
        "plotlyServerURL": "https://plot.ly"
       },
       "data": [
        {
         "mode": "lines+markers",
         "name": "total_acc_p_per00",
         "type": "scatter",
         "x": [
          10,
          20,
          30,
          40,
          50,
          60,
          70,
          80,
          90,
          100,
          110,
          120,
          130,
          140,
          150,
          160,
          170,
          180,
          190,
          200,
          210,
          220,
          230,
          240,
          250,
          260,
          270,
          280,
          290,
          300,
          310,
          320,
          330,
          340,
          350,
          360,
          370,
          380,
          390,
          400
         ],
         "y": [
          22.68,
          30.7,
          38.93,
          46.12,
          50.09,
          53.39,
          55.64,
          57.2,
          58.23,
          59.55,
          60.5,
          60.98,
          61.62,
          62.12,
          62.62,
          63.09,
          63.59,
          64.16,
          64.26,
          63.71,
          64.59,
          64.6,
          64.7,
          64.9,
          64.96,
          64.72,
          65.28,
          65.31,
          65.23,
          65.5,
          65.66,
          65.8,
          65.58,
          65.96,
          65.88,
          65.63,
          65.77,
          65.83,
          66.05,
          66.17
         ]
        },
        {
         "marker": {
          "symbol": "square"
         },
         "mode": "lines+markers",
         "name": "flipped_source_p_per00",
         "type": "scatter",
         "x": [
          10,
          20,
          30,
          40,
          50,
          60,
          70,
          80,
          90,
          100,
          110,
          120,
          130,
          140,
          150,
          160,
          170,
          180,
          190,
          200,
          210,
          220,
          230,
          240,
          250,
          260,
          270,
          280,
          290,
          300,
          310,
          320,
          330,
          340,
          350,
          360,
          370,
          380,
          390,
          400
         ],
         "y": [
          0,
          4.8,
          15.9,
          21.5,
          20.1,
          33.1,
          33.2,
          35.3,
          37.2,
          37.2,
          44.6,
          42.8,
          47.1,
          45.1,
          48.7,
          45.6,
          48,
          55.2,
          48.9,
          49.7,
          43.6,
          46.1,
          45.6,
          52.5,
          46,
          44.7,
          49,
          53.7,
          47.4,
          52.1,
          53.8,
          52.2,
          50.6,
          50.7,
          52.9,
          52.6,
          50.7,
          52,
          48.1,
          55.2
         ]
        },
        {
         "mode": "lines+markers",
         "name": "total_acc_p_per10",
         "type": "scatter",
         "x": [
          10,
          20,
          30,
          40,
          50,
          60,
          70,
          80,
          90,
          100,
          110,
          120,
          130,
          140,
          150,
          160,
          170,
          180,
          190,
          200,
          210,
          220,
          230,
          240,
          250,
          260,
          270,
          280,
          290,
          300,
          310,
          320,
          330,
          340,
          350,
          360,
          370,
          380,
          390,
          400
         ],
         "y": [
          20.65,
          32.73,
          41.17,
          47.44,
          51.88,
          54.8,
          57.01,
          58.89,
          59.81,
          61.24,
          62.35,
          62.52,
          63.52,
          63.63,
          64.39,
          64.65,
          64.66,
          64.85,
          64.92,
          65.25,
          65.3,
          65.55,
          65.68,
          65.37,
          65.29,
          66.04,
          65.57,
          66.04,
          66.09,
          66.07,
          66.14,
          65.86,
          66.07,
          66.27,
          66.16,
          66.05,
          66.35,
          66.29,
          66.06,
          66.03
         ]
        },
        {
         "marker": {
          "symbol": "square"
         },
         "mode": "lines+markers",
         "name": "flipped_source_p_per10",
         "type": "scatter",
         "x": [
          10,
          20,
          30,
          40,
          50,
          60,
          70,
          80,
          90,
          100,
          110,
          120,
          130,
          140,
          150,
          160,
          170,
          180,
          190,
          200,
          210,
          220,
          230,
          240,
          250,
          260,
          270,
          280,
          290,
          300,
          310,
          320,
          330,
          340,
          350,
          360,
          370,
          380,
          390,
          400
         ],
         "y": [
          0,
          3.9,
          14.1,
          26.9,
          27.9,
          32.9,
          37.1,
          44.6,
          32.6,
          38.9,
          47.9,
          46.8,
          45.7,
          46.9,
          48.3,
          56.5,
          45.9,
          47.1,
          50.5,
          49.8,
          57.7,
          59.5,
          54.7,
          55.9,
          51.3,
          51,
          54.6,
          52.4,
          54.4,
          50.3,
          51.7,
          48.6,
          54.1,
          53.7,
          50.2,
          56.2,
          51.8,
          53.4,
          52.9,
          52.7
         ]
        },
        {
         "mode": "lines+markers",
         "name": "total_acc_p_per20",
         "type": "scatter",
         "x": [
          10,
          20,
          30,
          40,
          50,
          60,
          70,
          80,
          90,
          100,
          110,
          120,
          130,
          140,
          150,
          160,
          170,
          180,
          190,
          200,
          210,
          220,
          230,
          240,
          250,
          260,
          270,
          280,
          290,
          300,
          310,
          320,
          330,
          340,
          350,
          360,
          370,
          380,
          390,
          400
         ],
         "y": [
          10,
          25.24,
          34.55,
          40.61,
          43.42,
          47.03,
          49.42,
          51.78,
          53.53,
          54.16,
          56.02,
          57.02,
          57.9,
          58.54,
          59.2,
          59.74,
          60.77,
          61.29,
          61.44,
          61.75,
          62.25,
          62.08,
          62.89,
          62.9,
          63.03,
          63.35,
          63.85,
          63.64,
          63.15,
          63.7,
          63.7,
          63.65,
          63.85,
          63.74,
          63.89,
          64.11,
          64.11,
          63.61,
          63.85,
          63.98
         ]
        },
        {
         "marker": {
          "symbol": "square"
         },
         "mode": "lines+markers",
         "name": "flipped_source_p_per20",
         "type": "scatter",
         "x": [
          10,
          20,
          30,
          40,
          50,
          60,
          70,
          80,
          90,
          100,
          110,
          120,
          130,
          140,
          150,
          160,
          170,
          180,
          190,
          200,
          210,
          220,
          230,
          240,
          250,
          260,
          270,
          280,
          290,
          300,
          310,
          320,
          330,
          340,
          350,
          360,
          370,
          380,
          390,
          400
         ],
         "y": [
          0,
          0,
          0.2,
          4.4,
          5.6,
          9.7,
          6.7,
          14.3,
          13.5,
          9.4,
          22.5,
          29.4,
          34.4,
          28.7,
          30.2,
          31.5,
          39.7,
          49.7,
          38.5,
          30.7,
          39.4,
          34.1,
          44.6,
          47.4,
          41.8,
          41.4,
          41.9,
          44,
          43.4,
          42.7,
          44.9,
          44.3,
          41.3,
          41.4,
          43.2,
          46.9,
          45.3,
          42.6,
          39.9,
          40.5
         ]
        },
        {
         "mode": "lines+markers",
         "name": "total_acc_p_per40",
         "type": "scatter",
         "x": [
          10,
          20,
          30,
          40,
          50,
          60,
          70,
          80,
          90,
          100,
          110,
          120,
          130,
          140,
          150,
          160,
          170,
          180,
          190,
          200,
          210,
          220,
          230,
          240,
          250,
          260,
          270,
          280,
          290,
          300,
          310,
          320,
          330,
          340,
          350,
          360,
          370,
          380,
          390,
          400
         ],
         "y": [
          10,
          10,
          10,
          10,
          10,
          10,
          10,
          10,
          10,
          10,
          10,
          10,
          10,
          10,
          10,
          10,
          10,
          10,
          10,
          10,
          10,
          10,
          10,
          10,
          10,
          10,
          10,
          10,
          10,
          10,
          10,
          10,
          10,
          10,
          10,
          10,
          10,
          10,
          10,
          10
         ]
        },
        {
         "marker": {
          "symbol": "square"
         },
         "mode": "lines+markers",
         "name": "flipped_source_p_per40",
         "type": "scatter",
         "x": [
          10,
          20,
          30,
          40,
          50,
          60,
          70,
          80,
          90,
          100,
          110,
          120,
          130,
          140,
          150,
          160,
          170,
          180,
          190,
          200,
          210,
          220,
          230,
          240,
          250,
          260,
          270,
          280,
          290,
          300,
          310,
          320,
          330,
          340,
          350,
          360,
          370,
          380,
          390,
          400
         ],
         "y": [
          0,
          0,
          0,
          0,
          0,
          0,
          0,
          0,
          0,
          0,
          0,
          0,
          0,
          0,
          0,
          0,
          0,
          0,
          0,
          0,
          0,
          0,
          0,
          0,
          0,
          0,
          0,
          0,
          0,
          0,
          0,
          0,
          0,
          0,
          0,
          0,
          0,
          0,
          0,
          0
         ]
        }
       ],
       "layout": {
        "template": {
         "data": {
          "bar": [
           {
            "error_x": {
             "color": "#2a3f5f"
            },
            "error_y": {
             "color": "#2a3f5f"
            },
            "marker": {
             "line": {
              "color": "#E5ECF6",
              "width": 0.5
             }
            },
            "type": "bar"
           }
          ],
          "barpolar": [
           {
            "marker": {
             "line": {
              "color": "#E5ECF6",
              "width": 0.5
             }
            },
            "type": "barpolar"
           }
          ],
          "carpet": [
           {
            "aaxis": {
             "endlinecolor": "#2a3f5f",
             "gridcolor": "white",
             "linecolor": "white",
             "minorgridcolor": "white",
             "startlinecolor": "#2a3f5f"
            },
            "baxis": {
             "endlinecolor": "#2a3f5f",
             "gridcolor": "white",
             "linecolor": "white",
             "minorgridcolor": "white",
             "startlinecolor": "#2a3f5f"
            },
            "type": "carpet"
           }
          ],
          "choropleth": [
           {
            "colorbar": {
             "outlinewidth": 0,
             "ticks": ""
            },
            "type": "choropleth"
           }
          ],
          "contour": [
           {
            "colorbar": {
             "outlinewidth": 0,
             "ticks": ""
            },
            "colorscale": [
             [
              0,
              "#0d0887"
             ],
             [
              0.1111111111111111,
              "#46039f"
             ],
             [
              0.2222222222222222,
              "#7201a8"
             ],
             [
              0.3333333333333333,
              "#9c179e"
             ],
             [
              0.4444444444444444,
              "#bd3786"
             ],
             [
              0.5555555555555556,
              "#d8576b"
             ],
             [
              0.6666666666666666,
              "#ed7953"
             ],
             [
              0.7777777777777778,
              "#fb9f3a"
             ],
             [
              0.8888888888888888,
              "#fdca26"
             ],
             [
              1,
              "#f0f921"
             ]
            ],
            "type": "contour"
           }
          ],
          "contourcarpet": [
           {
            "colorbar": {
             "outlinewidth": 0,
             "ticks": ""
            },
            "type": "contourcarpet"
           }
          ],
          "heatmap": [
           {
            "colorbar": {
             "outlinewidth": 0,
             "ticks": ""
            },
            "colorscale": [
             [
              0,
              "#0d0887"
             ],
             [
              0.1111111111111111,
              "#46039f"
             ],
             [
              0.2222222222222222,
              "#7201a8"
             ],
             [
              0.3333333333333333,
              "#9c179e"
             ],
             [
              0.4444444444444444,
              "#bd3786"
             ],
             [
              0.5555555555555556,
              "#d8576b"
             ],
             [
              0.6666666666666666,
              "#ed7953"
             ],
             [
              0.7777777777777778,
              "#fb9f3a"
             ],
             [
              0.8888888888888888,
              "#fdca26"
             ],
             [
              1,
              "#f0f921"
             ]
            ],
            "type": "heatmap"
           }
          ],
          "heatmapgl": [
           {
            "colorbar": {
             "outlinewidth": 0,
             "ticks": ""
            },
            "colorscale": [
             [
              0,
              "#0d0887"
             ],
             [
              0.1111111111111111,
              "#46039f"
             ],
             [
              0.2222222222222222,
              "#7201a8"
             ],
             [
              0.3333333333333333,
              "#9c179e"
             ],
             [
              0.4444444444444444,
              "#bd3786"
             ],
             [
              0.5555555555555556,
              "#d8576b"
             ],
             [
              0.6666666666666666,
              "#ed7953"
             ],
             [
              0.7777777777777778,
              "#fb9f3a"
             ],
             [
              0.8888888888888888,
              "#fdca26"
             ],
             [
              1,
              "#f0f921"
             ]
            ],
            "type": "heatmapgl"
           }
          ],
          "histogram": [
           {
            "marker": {
             "colorbar": {
              "outlinewidth": 0,
              "ticks": ""
             }
            },
            "type": "histogram"
           }
          ],
          "histogram2d": [
           {
            "colorbar": {
             "outlinewidth": 0,
             "ticks": ""
            },
            "colorscale": [
             [
              0,
              "#0d0887"
             ],
             [
              0.1111111111111111,
              "#46039f"
             ],
             [
              0.2222222222222222,
              "#7201a8"
             ],
             [
              0.3333333333333333,
              "#9c179e"
             ],
             [
              0.4444444444444444,
              "#bd3786"
             ],
             [
              0.5555555555555556,
              "#d8576b"
             ],
             [
              0.6666666666666666,
              "#ed7953"
             ],
             [
              0.7777777777777778,
              "#fb9f3a"
             ],
             [
              0.8888888888888888,
              "#fdca26"
             ],
             [
              1,
              "#f0f921"
             ]
            ],
            "type": "histogram2d"
           }
          ],
          "histogram2dcontour": [
           {
            "colorbar": {
             "outlinewidth": 0,
             "ticks": ""
            },
            "colorscale": [
             [
              0,
              "#0d0887"
             ],
             [
              0.1111111111111111,
              "#46039f"
             ],
             [
              0.2222222222222222,
              "#7201a8"
             ],
             [
              0.3333333333333333,
              "#9c179e"
             ],
             [
              0.4444444444444444,
              "#bd3786"
             ],
             [
              0.5555555555555556,
              "#d8576b"
             ],
             [
              0.6666666666666666,
              "#ed7953"
             ],
             [
              0.7777777777777778,
              "#fb9f3a"
             ],
             [
              0.8888888888888888,
              "#fdca26"
             ],
             [
              1,
              "#f0f921"
             ]
            ],
            "type": "histogram2dcontour"
           }
          ],
          "mesh3d": [
           {
            "colorbar": {
             "outlinewidth": 0,
             "ticks": ""
            },
            "type": "mesh3d"
           }
          ],
          "parcoords": [
           {
            "line": {
             "colorbar": {
              "outlinewidth": 0,
              "ticks": ""
             }
            },
            "type": "parcoords"
           }
          ],
          "pie": [
           {
            "automargin": true,
            "type": "pie"
           }
          ],
          "scatter": [
           {
            "marker": {
             "colorbar": {
              "outlinewidth": 0,
              "ticks": ""
             }
            },
            "type": "scatter"
           }
          ],
          "scatter3d": [
           {
            "line": {
             "colorbar": {
              "outlinewidth": 0,
              "ticks": ""
             }
            },
            "marker": {
             "colorbar": {
              "outlinewidth": 0,
              "ticks": ""
             }
            },
            "type": "scatter3d"
           }
          ],
          "scattercarpet": [
           {
            "marker": {
             "colorbar": {
              "outlinewidth": 0,
              "ticks": ""
             }
            },
            "type": "scattercarpet"
           }
          ],
          "scattergeo": [
           {
            "marker": {
             "colorbar": {
              "outlinewidth": 0,
              "ticks": ""
             }
            },
            "type": "scattergeo"
           }
          ],
          "scattergl": [
           {
            "marker": {
             "colorbar": {
              "outlinewidth": 0,
              "ticks": ""
             }
            },
            "type": "scattergl"
           }
          ],
          "scattermapbox": [
           {
            "marker": {
             "colorbar": {
              "outlinewidth": 0,
              "ticks": ""
             }
            },
            "type": "scattermapbox"
           }
          ],
          "scatterpolar": [
           {
            "marker": {
             "colorbar": {
              "outlinewidth": 0,
              "ticks": ""
             }
            },
            "type": "scatterpolar"
           }
          ],
          "scatterpolargl": [
           {
            "marker": {
             "colorbar": {
              "outlinewidth": 0,
              "ticks": ""
             }
            },
            "type": "scatterpolargl"
           }
          ],
          "scatterternary": [
           {
            "marker": {
             "colorbar": {
              "outlinewidth": 0,
              "ticks": ""
             }
            },
            "type": "scatterternary"
           }
          ],
          "surface": [
           {
            "colorbar": {
             "outlinewidth": 0,
             "ticks": ""
            },
            "colorscale": [
             [
              0,
              "#0d0887"
             ],
             [
              0.1111111111111111,
              "#46039f"
             ],
             [
              0.2222222222222222,
              "#7201a8"
             ],
             [
              0.3333333333333333,
              "#9c179e"
             ],
             [
              0.4444444444444444,
              "#bd3786"
             ],
             [
              0.5555555555555556,
              "#d8576b"
             ],
             [
              0.6666666666666666,
              "#ed7953"
             ],
             [
              0.7777777777777778,
              "#fb9f3a"
             ],
             [
              0.8888888888888888,
              "#fdca26"
             ],
             [
              1,
              "#f0f921"
             ]
            ],
            "type": "surface"
           }
          ],
          "table": [
           {
            "cells": {
             "fill": {
              "color": "#EBF0F8"
             },
             "line": {
              "color": "white"
             }
            },
            "header": {
             "fill": {
              "color": "#C8D4E3"
             },
             "line": {
              "color": "white"
             }
            },
            "type": "table"
           }
          ]
         },
         "layout": {
          "annotationdefaults": {
           "arrowcolor": "#2a3f5f",
           "arrowhead": 0,
           "arrowwidth": 1
          },
          "autotypenumbers": "strict",
          "coloraxis": {
           "colorbar": {
            "outlinewidth": 0,
            "ticks": ""
           }
          },
          "colorscale": {
           "diverging": [
            [
             0,
             "#8e0152"
            ],
            [
             0.1,
             "#c51b7d"
            ],
            [
             0.2,
             "#de77ae"
            ],
            [
             0.3,
             "#f1b6da"
            ],
            [
             0.4,
             "#fde0ef"
            ],
            [
             0.5,
             "#f7f7f7"
            ],
            [
             0.6,
             "#e6f5d0"
            ],
            [
             0.7,
             "#b8e186"
            ],
            [
             0.8,
             "#7fbc41"
            ],
            [
             0.9,
             "#4d9221"
            ],
            [
             1,
             "#276419"
            ]
           ],
           "sequential": [
            [
             0,
             "#0d0887"
            ],
            [
             0.1111111111111111,
             "#46039f"
            ],
            [
             0.2222222222222222,
             "#7201a8"
            ],
            [
             0.3333333333333333,
             "#9c179e"
            ],
            [
             0.4444444444444444,
             "#bd3786"
            ],
            [
             0.5555555555555556,
             "#d8576b"
            ],
            [
             0.6666666666666666,
             "#ed7953"
            ],
            [
             0.7777777777777778,
             "#fb9f3a"
            ],
            [
             0.8888888888888888,
             "#fdca26"
            ],
            [
             1,
             "#f0f921"
            ]
           ],
           "sequentialminus": [
            [
             0,
             "#0d0887"
            ],
            [
             0.1111111111111111,
             "#46039f"
            ],
            [
             0.2222222222222222,
             "#7201a8"
            ],
            [
             0.3333333333333333,
             "#9c179e"
            ],
            [
             0.4444444444444444,
             "#bd3786"
            ],
            [
             0.5555555555555556,
             "#d8576b"
            ],
            [
             0.6666666666666666,
             "#ed7953"
            ],
            [
             0.7777777777777778,
             "#fb9f3a"
            ],
            [
             0.8888888888888888,
             "#fdca26"
            ],
            [
             1,
             "#f0f921"
            ]
           ]
          },
          "colorway": [
           "#636efa",
           "#EF553B",
           "#00cc96",
           "#ab63fa",
           "#FFA15A",
           "#19d3f3",
           "#FF6692",
           "#B6E880",
           "#FF97FF",
           "#FECB52"
          ],
          "font": {
           "color": "#2a3f5f"
          },
          "geo": {
           "bgcolor": "white",
           "lakecolor": "white",
           "landcolor": "#E5ECF6",
           "showlakes": true,
           "showland": true,
           "subunitcolor": "white"
          },
          "hoverlabel": {
           "align": "left"
          },
          "hovermode": "closest",
          "mapbox": {
           "style": "light"
          },
          "paper_bgcolor": "white",
          "plot_bgcolor": "#E5ECF6",
          "polar": {
           "angularaxis": {
            "gridcolor": "white",
            "linecolor": "white",
            "ticks": ""
           },
           "bgcolor": "#E5ECF6",
           "radialaxis": {
            "gridcolor": "white",
            "linecolor": "white",
            "ticks": ""
           }
          },
          "scene": {
           "xaxis": {
            "backgroundcolor": "#E5ECF6",
            "gridcolor": "white",
            "gridwidth": 2,
            "linecolor": "white",
            "showbackground": true,
            "ticks": "",
            "zerolinecolor": "white"
           },
           "yaxis": {
            "backgroundcolor": "#E5ECF6",
            "gridcolor": "white",
            "gridwidth": 2,
            "linecolor": "white",
            "showbackground": true,
            "ticks": "",
            "zerolinecolor": "white"
           },
           "zaxis": {
            "backgroundcolor": "#E5ECF6",
            "gridcolor": "white",
            "gridwidth": 2,
            "linecolor": "white",
            "showbackground": true,
            "ticks": "",
            "zerolinecolor": "white"
           }
          },
          "shapedefaults": {
           "line": {
            "color": "#2a3f5f"
           }
          },
          "ternary": {
           "aaxis": {
            "gridcolor": "white",
            "linecolor": "white",
            "ticks": ""
           },
           "baxis": {
            "gridcolor": "white",
            "linecolor": "white",
            "ticks": ""
           },
           "bgcolor": "#E5ECF6",
           "caxis": {
            "gridcolor": "white",
            "linecolor": "white",
            "ticks": ""
           }
          },
          "title": {
           "x": 0.05
          },
          "xaxis": {
           "automargin": true,
           "gridcolor": "white",
           "linecolor": "white",
           "ticks": "",
           "title": {
            "standoff": 15
           },
           "zerolinecolor": "white",
           "zerolinewidth": 2
          },
          "yaxis": {
           "automargin": true,
           "gridcolor": "white",
           "linecolor": "white",
           "ticks": "",
           "title": {
            "standoff": 15
           },
           "zerolinecolor": "white",
           "zerolinewidth": 2
          }
         }
        },
        "title": {
         "text": "Effect on Accuracy when c_per=40 p_per increased from 0 to 40"
        },
        "xaxis": {
         "title": {
          "text": "Round Num"
         }
        },
        "yaxis": {
         "title": {
          "text": "Accuracy"
         }
        }
       }
      },
      "text/html": [
       "<div>                            <div id=\"c0474882-a385-46c1-a944-de8be769e8d1\" class=\"plotly-graph-div\" style=\"height:525px; width:100%;\"></div>            <script type=\"text/javascript\">                require([\"plotly\"], function(Plotly) {                    window.PLOTLYENV=window.PLOTLYENV || {};                                    if (document.getElementById(\"c0474882-a385-46c1-a944-de8be769e8d1\")) {                    Plotly.newPlot(                        \"c0474882-a385-46c1-a944-de8be769e8d1\",                        [{\"mode\": \"lines+markers\", \"name\": \"total_acc_p_per00\", \"type\": \"scatter\", \"x\": [10, 20, 30, 40, 50, 60, 70, 80, 90, 100, 110, 120, 130, 140, 150, 160, 170, 180, 190, 200, 210, 220, 230, 240, 250, 260, 270, 280, 290, 300, 310, 320, 330, 340, 350, 360, 370, 380, 390, 400], \"y\": [22.68, 30.7, 38.93, 46.12, 50.09, 53.39, 55.64, 57.2, 58.23, 59.55, 60.5, 60.98, 61.62, 62.12, 62.62, 63.09, 63.59, 64.16, 64.26, 63.71, 64.59, 64.6, 64.7, 64.9, 64.96, 64.72, 65.28, 65.31, 65.23, 65.5, 65.66, 65.8, 65.58, 65.96, 65.88, 65.63, 65.77, 65.83, 66.05, 66.17]}, {\"marker\": {\"symbol\": \"square\"}, \"mode\": \"lines+markers\", \"name\": \"flipped_source_p_per00\", \"type\": \"scatter\", \"x\": [10, 20, 30, 40, 50, 60, 70, 80, 90, 100, 110, 120, 130, 140, 150, 160, 170, 180, 190, 200, 210, 220, 230, 240, 250, 260, 270, 280, 290, 300, 310, 320, 330, 340, 350, 360, 370, 380, 390, 400], \"y\": [0.0, 4.8, 15.9, 21.5, 20.1, 33.1, 33.2, 35.3, 37.2, 37.2, 44.6, 42.8, 47.1, 45.1, 48.7, 45.6, 48.0, 55.2, 48.9, 49.7, 43.6, 46.1, 45.6, 52.5, 46.0, 44.7, 49.0, 53.7, 47.4, 52.1, 53.8, 52.2, 50.6, 50.7, 52.9, 52.6, 50.7, 52.0, 48.1, 55.2]}, {\"mode\": \"lines+markers\", \"name\": \"total_acc_p_per10\", \"type\": \"scatter\", \"x\": [10, 20, 30, 40, 50, 60, 70, 80, 90, 100, 110, 120, 130, 140, 150, 160, 170, 180, 190, 200, 210, 220, 230, 240, 250, 260, 270, 280, 290, 300, 310, 320, 330, 340, 350, 360, 370, 380, 390, 400], \"y\": [20.65, 32.73, 41.17, 47.44, 51.88, 54.8, 57.01, 58.89, 59.81, 61.24, 62.35, 62.52, 63.52, 63.63, 64.39, 64.65, 64.66, 64.85, 64.92, 65.25, 65.3, 65.55, 65.68, 65.37, 65.29, 66.04, 65.57, 66.04, 66.09, 66.07, 66.14, 65.86, 66.07, 66.27, 66.16, 66.05, 66.35, 66.29, 66.06, 66.03]}, {\"marker\": {\"symbol\": \"square\"}, \"mode\": \"lines+markers\", \"name\": \"flipped_source_p_per10\", \"type\": \"scatter\", \"x\": [10, 20, 30, 40, 50, 60, 70, 80, 90, 100, 110, 120, 130, 140, 150, 160, 170, 180, 190, 200, 210, 220, 230, 240, 250, 260, 270, 280, 290, 300, 310, 320, 330, 340, 350, 360, 370, 380, 390, 400], \"y\": [0.0, 3.9, 14.1, 26.9, 27.9, 32.9, 37.1, 44.6, 32.6, 38.9, 47.9, 46.8, 45.7, 46.9, 48.3, 56.5, 45.9, 47.1, 50.5, 49.8, 57.7, 59.5, 54.7, 55.9, 51.3, 51.0, 54.6, 52.4, 54.4, 50.3, 51.7, 48.6, 54.1, 53.7, 50.2, 56.2, 51.8, 53.4, 52.9, 52.7]}, {\"mode\": \"lines+markers\", \"name\": \"total_acc_p_per20\", \"type\": \"scatter\", \"x\": [10, 20, 30, 40, 50, 60, 70, 80, 90, 100, 110, 120, 130, 140, 150, 160, 170, 180, 190, 200, 210, 220, 230, 240, 250, 260, 270, 280, 290, 300, 310, 320, 330, 340, 350, 360, 370, 380, 390, 400], \"y\": [10.0, 25.24, 34.55, 40.61, 43.42, 47.03, 49.42, 51.78, 53.53, 54.16, 56.02, 57.02, 57.9, 58.54, 59.2, 59.74, 60.77, 61.29, 61.44, 61.75, 62.25, 62.08, 62.89, 62.9, 63.03, 63.35, 63.85, 63.64, 63.15, 63.7, 63.7, 63.65, 63.85, 63.74, 63.89, 64.11, 64.11, 63.61, 63.85, 63.98]}, {\"marker\": {\"symbol\": \"square\"}, \"mode\": \"lines+markers\", \"name\": \"flipped_source_p_per20\", \"type\": \"scatter\", \"x\": [10, 20, 30, 40, 50, 60, 70, 80, 90, 100, 110, 120, 130, 140, 150, 160, 170, 180, 190, 200, 210, 220, 230, 240, 250, 260, 270, 280, 290, 300, 310, 320, 330, 340, 350, 360, 370, 380, 390, 400], \"y\": [0.0, 0.0, 0.2, 4.4, 5.6, 9.7, 6.7, 14.3, 13.5, 9.4, 22.5, 29.4, 34.4, 28.7, 30.2, 31.5, 39.7, 49.7, 38.5, 30.7, 39.4, 34.1, 44.6, 47.4, 41.8, 41.4, 41.9, 44.0, 43.4, 42.7, 44.9, 44.3, 41.3, 41.4, 43.2, 46.9, 45.3, 42.6, 39.9, 40.5]}, {\"mode\": \"lines+markers\", \"name\": \"total_acc_p_per40\", \"type\": \"scatter\", \"x\": [10, 20, 30, 40, 50, 60, 70, 80, 90, 100, 110, 120, 130, 140, 150, 160, 170, 180, 190, 200, 210, 220, 230, 240, 250, 260, 270, 280, 290, 300, 310, 320, 330, 340, 350, 360, 370, 380, 390, 400], \"y\": [10.0, 10.0, 10.0, 10.0, 10.0, 10.0, 10.0, 10.0, 10.0, 10.0, 10.0, 10.0, 10.0, 10.0, 10.0, 10.0, 10.0, 10.0, 10.0, 10.0, 10.0, 10.0, 10.0, 10.0, 10.0, 10.0, 10.0, 10.0, 10.0, 10.0, 10.0, 10.0, 10.0, 10.0, 10.0, 10.0, 10.0, 10.0, 10.0, 10.0]}, {\"marker\": {\"symbol\": \"square\"}, \"mode\": \"lines+markers\", \"name\": \"flipped_source_p_per40\", \"type\": \"scatter\", \"x\": [10, 20, 30, 40, 50, 60, 70, 80, 90, 100, 110, 120, 130, 140, 150, 160, 170, 180, 190, 200, 210, 220, 230, 240, 250, 260, 270, 280, 290, 300, 310, 320, 330, 340, 350, 360, 370, 380, 390, 400], \"y\": [0.0, 0.0, 0.0, 0.0, 0.0, 0.0, 0.0, 0.0, 0.0, 0.0, 0.0, 0.0, 0.0, 0.0, 0.0, 0.0, 0.0, 0.0, 0.0, 0.0, 0.0, 0.0, 0.0, 0.0, 0.0, 0.0, 0.0, 0.0, 0.0, 0.0, 0.0, 0.0, 0.0, 0.0, 0.0, 0.0, 0.0, 0.0, 0.0, 0.0]}],                        {\"template\": {\"data\": {\"bar\": [{\"error_x\": {\"color\": \"#2a3f5f\"}, \"error_y\": {\"color\": \"#2a3f5f\"}, \"marker\": {\"line\": {\"color\": \"#E5ECF6\", \"width\": 0.5}}, \"type\": \"bar\"}], \"barpolar\": [{\"marker\": {\"line\": {\"color\": \"#E5ECF6\", \"width\": 0.5}}, \"type\": \"barpolar\"}], \"carpet\": [{\"aaxis\": {\"endlinecolor\": \"#2a3f5f\", \"gridcolor\": \"white\", \"linecolor\": \"white\", \"minorgridcolor\": \"white\", \"startlinecolor\": \"#2a3f5f\"}, \"baxis\": {\"endlinecolor\": \"#2a3f5f\", \"gridcolor\": \"white\", \"linecolor\": \"white\", \"minorgridcolor\": \"white\", \"startlinecolor\": \"#2a3f5f\"}, \"type\": \"carpet\"}], \"choropleth\": [{\"colorbar\": {\"outlinewidth\": 0, \"ticks\": \"\"}, \"type\": \"choropleth\"}], \"contour\": [{\"colorbar\": {\"outlinewidth\": 0, \"ticks\": \"\"}, \"colorscale\": [[0.0, \"#0d0887\"], [0.1111111111111111, \"#46039f\"], [0.2222222222222222, \"#7201a8\"], [0.3333333333333333, \"#9c179e\"], [0.4444444444444444, \"#bd3786\"], [0.5555555555555556, \"#d8576b\"], [0.6666666666666666, \"#ed7953\"], [0.7777777777777778, \"#fb9f3a\"], [0.8888888888888888, \"#fdca26\"], [1.0, \"#f0f921\"]], \"type\": \"contour\"}], \"contourcarpet\": [{\"colorbar\": {\"outlinewidth\": 0, \"ticks\": \"\"}, \"type\": \"contourcarpet\"}], \"heatmap\": [{\"colorbar\": {\"outlinewidth\": 0, \"ticks\": \"\"}, \"colorscale\": [[0.0, \"#0d0887\"], [0.1111111111111111, \"#46039f\"], [0.2222222222222222, \"#7201a8\"], [0.3333333333333333, \"#9c179e\"], [0.4444444444444444, \"#bd3786\"], [0.5555555555555556, \"#d8576b\"], [0.6666666666666666, \"#ed7953\"], [0.7777777777777778, \"#fb9f3a\"], [0.8888888888888888, \"#fdca26\"], [1.0, \"#f0f921\"]], \"type\": \"heatmap\"}], \"heatmapgl\": [{\"colorbar\": {\"outlinewidth\": 0, \"ticks\": \"\"}, \"colorscale\": [[0.0, \"#0d0887\"], [0.1111111111111111, \"#46039f\"], [0.2222222222222222, \"#7201a8\"], [0.3333333333333333, \"#9c179e\"], [0.4444444444444444, \"#bd3786\"], [0.5555555555555556, \"#d8576b\"], [0.6666666666666666, \"#ed7953\"], [0.7777777777777778, \"#fb9f3a\"], [0.8888888888888888, \"#fdca26\"], [1.0, \"#f0f921\"]], \"type\": \"heatmapgl\"}], \"histogram\": [{\"marker\": {\"colorbar\": {\"outlinewidth\": 0, \"ticks\": \"\"}}, \"type\": \"histogram\"}], \"histogram2d\": [{\"colorbar\": {\"outlinewidth\": 0, \"ticks\": \"\"}, \"colorscale\": [[0.0, \"#0d0887\"], [0.1111111111111111, \"#46039f\"], [0.2222222222222222, \"#7201a8\"], [0.3333333333333333, \"#9c179e\"], [0.4444444444444444, \"#bd3786\"], [0.5555555555555556, \"#d8576b\"], [0.6666666666666666, \"#ed7953\"], [0.7777777777777778, \"#fb9f3a\"], [0.8888888888888888, \"#fdca26\"], [1.0, \"#f0f921\"]], \"type\": \"histogram2d\"}], \"histogram2dcontour\": [{\"colorbar\": {\"outlinewidth\": 0, \"ticks\": \"\"}, \"colorscale\": [[0.0, \"#0d0887\"], [0.1111111111111111, \"#46039f\"], [0.2222222222222222, \"#7201a8\"], [0.3333333333333333, \"#9c179e\"], [0.4444444444444444, \"#bd3786\"], [0.5555555555555556, \"#d8576b\"], [0.6666666666666666, \"#ed7953\"], [0.7777777777777778, \"#fb9f3a\"], [0.8888888888888888, \"#fdca26\"], [1.0, \"#f0f921\"]], \"type\": \"histogram2dcontour\"}], \"mesh3d\": [{\"colorbar\": {\"outlinewidth\": 0, \"ticks\": \"\"}, \"type\": \"mesh3d\"}], \"parcoords\": [{\"line\": {\"colorbar\": {\"outlinewidth\": 0, \"ticks\": \"\"}}, \"type\": \"parcoords\"}], \"pie\": [{\"automargin\": true, \"type\": \"pie\"}], \"scatter\": [{\"marker\": {\"colorbar\": {\"outlinewidth\": 0, \"ticks\": \"\"}}, \"type\": \"scatter\"}], \"scatter3d\": [{\"line\": {\"colorbar\": {\"outlinewidth\": 0, \"ticks\": \"\"}}, \"marker\": {\"colorbar\": {\"outlinewidth\": 0, \"ticks\": \"\"}}, \"type\": \"scatter3d\"}], \"scattercarpet\": [{\"marker\": {\"colorbar\": {\"outlinewidth\": 0, \"ticks\": \"\"}}, \"type\": \"scattercarpet\"}], \"scattergeo\": [{\"marker\": {\"colorbar\": {\"outlinewidth\": 0, \"ticks\": \"\"}}, \"type\": \"scattergeo\"}], \"scattergl\": [{\"marker\": {\"colorbar\": {\"outlinewidth\": 0, \"ticks\": \"\"}}, \"type\": \"scattergl\"}], \"scattermapbox\": [{\"marker\": {\"colorbar\": {\"outlinewidth\": 0, \"ticks\": \"\"}}, \"type\": \"scattermapbox\"}], \"scatterpolar\": [{\"marker\": {\"colorbar\": {\"outlinewidth\": 0, \"ticks\": \"\"}}, \"type\": \"scatterpolar\"}], \"scatterpolargl\": [{\"marker\": {\"colorbar\": {\"outlinewidth\": 0, \"ticks\": \"\"}}, \"type\": \"scatterpolargl\"}], \"scatterternary\": [{\"marker\": {\"colorbar\": {\"outlinewidth\": 0, \"ticks\": \"\"}}, \"type\": \"scatterternary\"}], \"surface\": [{\"colorbar\": {\"outlinewidth\": 0, \"ticks\": \"\"}, \"colorscale\": [[0.0, \"#0d0887\"], [0.1111111111111111, \"#46039f\"], [0.2222222222222222, \"#7201a8\"], [0.3333333333333333, \"#9c179e\"], [0.4444444444444444, \"#bd3786\"], [0.5555555555555556, \"#d8576b\"], [0.6666666666666666, \"#ed7953\"], [0.7777777777777778, \"#fb9f3a\"], [0.8888888888888888, \"#fdca26\"], [1.0, \"#f0f921\"]], \"type\": \"surface\"}], \"table\": [{\"cells\": {\"fill\": {\"color\": \"#EBF0F8\"}, \"line\": {\"color\": \"white\"}}, \"header\": {\"fill\": {\"color\": \"#C8D4E3\"}, \"line\": {\"color\": \"white\"}}, \"type\": \"table\"}]}, \"layout\": {\"annotationdefaults\": {\"arrowcolor\": \"#2a3f5f\", \"arrowhead\": 0, \"arrowwidth\": 1}, \"autotypenumbers\": \"strict\", \"coloraxis\": {\"colorbar\": {\"outlinewidth\": 0, \"ticks\": \"\"}}, \"colorscale\": {\"diverging\": [[0, \"#8e0152\"], [0.1, \"#c51b7d\"], [0.2, \"#de77ae\"], [0.3, \"#f1b6da\"], [0.4, \"#fde0ef\"], [0.5, \"#f7f7f7\"], [0.6, \"#e6f5d0\"], [0.7, \"#b8e186\"], [0.8, \"#7fbc41\"], [0.9, \"#4d9221\"], [1, \"#276419\"]], \"sequential\": [[0.0, \"#0d0887\"], [0.1111111111111111, \"#46039f\"], [0.2222222222222222, \"#7201a8\"], [0.3333333333333333, \"#9c179e\"], [0.4444444444444444, \"#bd3786\"], [0.5555555555555556, \"#d8576b\"], [0.6666666666666666, \"#ed7953\"], [0.7777777777777778, \"#fb9f3a\"], [0.8888888888888888, \"#fdca26\"], [1.0, \"#f0f921\"]], \"sequentialminus\": [[0.0, \"#0d0887\"], [0.1111111111111111, \"#46039f\"], [0.2222222222222222, \"#7201a8\"], [0.3333333333333333, \"#9c179e\"], [0.4444444444444444, \"#bd3786\"], [0.5555555555555556, \"#d8576b\"], [0.6666666666666666, \"#ed7953\"], [0.7777777777777778, \"#fb9f3a\"], [0.8888888888888888, \"#fdca26\"], [1.0, \"#f0f921\"]]}, \"colorway\": [\"#636efa\", \"#EF553B\", \"#00cc96\", \"#ab63fa\", \"#FFA15A\", \"#19d3f3\", \"#FF6692\", \"#B6E880\", \"#FF97FF\", \"#FECB52\"], \"font\": {\"color\": \"#2a3f5f\"}, \"geo\": {\"bgcolor\": \"white\", \"lakecolor\": \"white\", \"landcolor\": \"#E5ECF6\", \"showlakes\": true, \"showland\": true, \"subunitcolor\": \"white\"}, \"hoverlabel\": {\"align\": \"left\"}, \"hovermode\": \"closest\", \"mapbox\": {\"style\": \"light\"}, \"paper_bgcolor\": \"white\", \"plot_bgcolor\": \"#E5ECF6\", \"polar\": {\"angularaxis\": {\"gridcolor\": \"white\", \"linecolor\": \"white\", \"ticks\": \"\"}, \"bgcolor\": \"#E5ECF6\", \"radialaxis\": {\"gridcolor\": \"white\", \"linecolor\": \"white\", \"ticks\": \"\"}}, \"scene\": {\"xaxis\": {\"backgroundcolor\": \"#E5ECF6\", \"gridcolor\": \"white\", \"gridwidth\": 2, \"linecolor\": \"white\", \"showbackground\": true, \"ticks\": \"\", \"zerolinecolor\": \"white\"}, \"yaxis\": {\"backgroundcolor\": \"#E5ECF6\", \"gridcolor\": \"white\", \"gridwidth\": 2, \"linecolor\": \"white\", \"showbackground\": true, \"ticks\": \"\", \"zerolinecolor\": \"white\"}, \"zaxis\": {\"backgroundcolor\": \"#E5ECF6\", \"gridcolor\": \"white\", \"gridwidth\": 2, \"linecolor\": \"white\", \"showbackground\": true, \"ticks\": \"\", \"zerolinecolor\": \"white\"}}, \"shapedefaults\": {\"line\": {\"color\": \"#2a3f5f\"}}, \"ternary\": {\"aaxis\": {\"gridcolor\": \"white\", \"linecolor\": \"white\", \"ticks\": \"\"}, \"baxis\": {\"gridcolor\": \"white\", \"linecolor\": \"white\", \"ticks\": \"\"}, \"bgcolor\": \"#E5ECF6\", \"caxis\": {\"gridcolor\": \"white\", \"linecolor\": \"white\", \"ticks\": \"\"}}, \"title\": {\"x\": 0.05}, \"xaxis\": {\"automargin\": true, \"gridcolor\": \"white\", \"linecolor\": \"white\", \"ticks\": \"\", \"title\": {\"standoff\": 15}, \"zerolinecolor\": \"white\", \"zerolinewidth\": 2}, \"yaxis\": {\"automargin\": true, \"gridcolor\": \"white\", \"linecolor\": \"white\", \"ticks\": \"\", \"title\": {\"standoff\": 15}, \"zerolinecolor\": \"white\", \"zerolinewidth\": 2}}}, \"title\": {\"text\": \"Effect on Accuracy when c_per=40 p_per increased from 0 to 40\"}, \"xaxis\": {\"title\": {\"text\": \"Round Num\"}}, \"yaxis\": {\"title\": {\"text\": \"Accuracy\"}}},                        {\"responsive\": true}                    ).then(function(){\n",
       "                            \n",
       "var gd = document.getElementById('c0474882-a385-46c1-a944-de8be769e8d1');\n",
       "var x = new MutationObserver(function (mutations, observer) {{\n",
       "        var display = window.getComputedStyle(gd).display;\n",
       "        if (!display || display === 'none') {{\n",
       "            console.log([gd, 'removed!']);\n",
       "            Plotly.purge(gd);\n",
       "            observer.disconnect();\n",
       "        }}\n",
       "}});\n",
       "\n",
       "// Listen for the removal of the full notebook cells\n",
       "var notebookContainer = gd.closest('#notebook-container');\n",
       "if (notebookContainer) {{\n",
       "    x.observe(notebookContainer, {childList: true});\n",
       "}}\n",
       "\n",
       "// Listen for the clearing of the current output cell\n",
       "var outputEl = gd.closest('.output');\n",
       "if (outputEl) {{\n",
       "    x.observe(outputEl, {childList: true});\n",
       "}}\n",
       "\n",
       "                        })                };                });            </script>        </div>"
      ]
     },
     "metadata": {},
     "output_type": "display_data"
    },
    {
     "data": {
      "application/vnd.plotly.v1+json": {
       "config": {
        "plotlyServerURL": "https://plot.ly"
       },
       "data": [
        {
         "mode": "lines+markers",
         "name": "total_acc_p_per00",
         "type": "scatter",
         "x": [
          10,
          20,
          30,
          40,
          50,
          60,
          70,
          80,
          90,
          100,
          110,
          120,
          130,
          140,
          150,
          160,
          170,
          180,
          190,
          200,
          210,
          220,
          230,
          240,
          250,
          260,
          270,
          280,
          290,
          300,
          310,
          320,
          330,
          340,
          350,
          360,
          370,
          380,
          390,
          400
         ],
         "y": [
          19.56,
          27.74,
          39.76,
          49.45,
          55.69,
          60.5,
          63.18,
          64.89,
          66.1,
          67.2,
          67.75,
          68.37,
          68.74,
          69.37,
          69.68,
          69.6,
          70.02,
          70,
          70.03,
          70.25,
          70.24,
          70.53,
          70.5,
          70.68,
          70.59,
          70.88,
          71.09,
          71.26,
          71.06,
          71.09,
          71.09,
          71.25,
          71.04,
          71.08,
          71.18,
          71.14,
          71.24,
          71.39,
          71.11,
          71.37
         ]
        },
        {
         "marker": {
          "symbol": "square"
         },
         "mode": "lines+markers",
         "name": "flipped_source_p_per00",
         "type": "scatter",
         "x": [
          10,
          20,
          30,
          40,
          50,
          60,
          70,
          80,
          90,
          100,
          110,
          120,
          130,
          140,
          150,
          160,
          170,
          180,
          190,
          200,
          210,
          220,
          230,
          240,
          250,
          260,
          270,
          280,
          290,
          300,
          310,
          320,
          330,
          340,
          350,
          360,
          370,
          380,
          390,
          400
         ],
         "y": [
          0,
          0,
          9.5,
          27.2,
          36.8,
          43.9,
          47.4,
          50.5,
          52.1,
          54.5,
          55.7,
          55.6,
          57.3,
          57.3,
          58.3,
          58.8,
          58.5,
          59.4,
          58.5,
          58.7,
          58.1,
          59.1,
          58.6,
          59,
          59.3,
          58.4,
          59.4,
          60,
          59.5,
          60,
          59.7,
          60.5,
          60.2,
          59,
          59.1,
          60.2,
          59.2,
          59.7,
          60.3,
          60
         ]
        },
        {
         "mode": "lines+markers",
         "name": "total_acc_p_per10",
         "type": "scatter",
         "x": [
          10,
          20,
          30,
          40,
          50,
          60,
          70,
          80,
          90,
          100,
          110,
          120,
          130,
          140,
          150,
          160,
          170,
          180,
          190,
          200,
          210,
          220,
          230,
          240,
          250,
          260,
          270,
          280,
          290,
          300,
          310,
          320,
          330,
          340,
          350,
          360,
          370,
          380,
          390,
          400
         ],
         "y": [
          20.88,
          31.87,
          41.05,
          47.16,
          52.93,
          57.42,
          60.91,
          63.46,
          65.14,
          66.4,
          67.67,
          68.05,
          68.6,
          69.04,
          69.45,
          69.79,
          69.81,
          69.91,
          69.94,
          70.06,
          70.33,
          70.6,
          70.5,
          70.57,
          70.67,
          70.76,
          70.87,
          70.89,
          70.71,
          70.94,
          70.81,
          71.01,
          71.15,
          71.13,
          71.02,
          70.99,
          70.91,
          71.13,
          71.04,
          71.16
         ]
        },
        {
         "marker": {
          "symbol": "square"
         },
         "mode": "lines+markers",
         "name": "flipped_source_p_per10",
         "type": "scatter",
         "x": [
          10,
          20,
          30,
          40,
          50,
          60,
          70,
          80,
          90,
          100,
          110,
          120,
          130,
          140,
          150,
          160,
          170,
          180,
          190,
          200,
          210,
          220,
          230,
          240,
          250,
          260,
          270,
          280,
          290,
          300,
          310,
          320,
          330,
          340,
          350,
          360,
          370,
          380,
          390,
          400
         ],
         "y": [
          0,
          0,
          8.2,
          19.6,
          27.4,
          34.2,
          40.1,
          44.4,
          47.3,
          48.7,
          50.5,
          50.8,
          52.8,
          53.5,
          54,
          53.4,
          53.7,
          54.2,
          54.7,
          55.1,
          55.4,
          55.7,
          55.5,
          55.7,
          55.4,
          55.3,
          55.4,
          55,
          54.5,
          56.7,
          54.8,
          54.5,
          54.3,
          56.1,
          56.3,
          55.2,
          55.3,
          54.5,
          55.3,
          55.4
         ]
        },
        {
         "mode": "lines+markers",
         "name": "total_acc_p_per20",
         "type": "scatter",
         "x": [
          10,
          20,
          30,
          40,
          50,
          60,
          70,
          80,
          90,
          100,
          110,
          120,
          130,
          140,
          150,
          160,
          170,
          180,
          190,
          200,
          210,
          220,
          230,
          240,
          250,
          260,
          270,
          280,
          290,
          300,
          310,
          320,
          330,
          340,
          350,
          360,
          370,
          380,
          390,
          400
         ],
         "y": [
          19.21,
          27.94,
          38.02,
          47.89,
          54.56,
          58.98,
          61.56,
          63.59,
          65.27,
          66.76,
          67.88,
          68.36,
          68.89,
          68.93,
          69.11,
          69.19,
          69.31,
          69.29,
          69.71,
          69.71,
          69.79,
          69.91,
          69.99,
          70.11,
          70.16,
          70.2,
          70.05,
          70.08,
          70.18,
          70.16,
          70.21,
          70.17,
          70.14,
          69.91,
          70.16,
          70.07,
          70.12,
          70.2,
          70.36,
          70.17
         ]
        },
        {
         "marker": {
          "symbol": "square"
         },
         "mode": "lines+markers",
         "name": "flipped_source_p_per20",
         "type": "scatter",
         "x": [
          10,
          20,
          30,
          40,
          50,
          60,
          70,
          80,
          90,
          100,
          110,
          120,
          130,
          140,
          150,
          160,
          170,
          180,
          190,
          200,
          210,
          220,
          230,
          240,
          250,
          260,
          270,
          280,
          290,
          300,
          310,
          320,
          330,
          340,
          350,
          360,
          370,
          380,
          390,
          400
         ],
         "y": [
          0,
          0,
          3.1,
          12.1,
          18.3,
          26.9,
          32.8,
          37.5,
          40,
          44.5,
          45.3,
          46.4,
          46.9,
          46.9,
          47,
          46.4,
          47.1,
          47.5,
          47.8,
          48.8,
          49.4,
          48.6,
          49.4,
          49.9,
          50.3,
          50.1,
          50.2,
          50.3,
          49.3,
          49.5,
          49.4,
          50.3,
          49.8,
          49.2,
          49.1,
          49.8,
          50.2,
          49.9,
          49.8,
          49.6
         ]
        },
        {
         "mode": "lines+markers",
         "name": "total_acc_p_per40",
         "type": "scatter",
         "x": [
          10,
          20,
          30,
          40,
          50,
          60,
          70,
          80,
          90,
          100,
          110,
          120,
          130,
          140,
          150,
          160,
          170,
          180,
          190,
          200,
          210,
          220,
          230,
          240,
          250,
          260,
          270,
          280,
          290,
          300,
          310,
          320,
          330,
          340,
          350,
          360,
          370,
          380,
          390,
          400
         ],
         "y": [
          20.83,
          31.37,
          43.12,
          49.35,
          54.35,
          58.4,
          61.46,
          62.98,
          63.92,
          65.1,
          65.89,
          66.26,
          66.7,
          67.19,
          67.47,
          67.57,
          67.87,
          67.73,
          67.65,
          67.91,
          67.77,
          67.95,
          68.15,
          68.52,
          68.43,
          68.5,
          68.65,
          68.69,
          68.67,
          68.75,
          68.91,
          68.99,
          69.14,
          69.13,
          69.03,
          68.84,
          69.16,
          69.01,
          69.1,
          69.05
         ]
        },
        {
         "marker": {
          "symbol": "square"
         },
         "mode": "lines+markers",
         "name": "flipped_source_p_per40",
         "type": "scatter",
         "x": [
          10,
          20,
          30,
          40,
          50,
          60,
          70,
          80,
          90,
          100,
          110,
          120,
          130,
          140,
          150,
          160,
          170,
          180,
          190,
          200,
          210,
          220,
          230,
          240,
          250,
          260,
          270,
          280,
          290,
          300,
          310,
          320,
          330,
          340,
          350,
          360,
          370,
          380,
          390,
          400
         ],
         "y": [
          0,
          0,
          0.1,
          0.8,
          5.8,
          16.6,
          24.6,
          27.6,
          27.6,
          29.2,
          30.5,
          31.9,
          33.2,
          33,
          33.5,
          35.1,
          33.4,
          34.2,
          34.7,
          35.6,
          35.4,
          34.8,
          36.3,
          37.5,
          36,
          36.1,
          37.2,
          36.6,
          36.8,
          36.5,
          38.2,
          37.4,
          38.7,
          39.5,
          38.9,
          38.1,
          37.5,
          39,
          40,
          38.9
         ]
        }
       ],
       "layout": {
        "template": {
         "data": {
          "bar": [
           {
            "error_x": {
             "color": "#2a3f5f"
            },
            "error_y": {
             "color": "#2a3f5f"
            },
            "marker": {
             "line": {
              "color": "#E5ECF6",
              "width": 0.5
             }
            },
            "type": "bar"
           }
          ],
          "barpolar": [
           {
            "marker": {
             "line": {
              "color": "#E5ECF6",
              "width": 0.5
             }
            },
            "type": "barpolar"
           }
          ],
          "carpet": [
           {
            "aaxis": {
             "endlinecolor": "#2a3f5f",
             "gridcolor": "white",
             "linecolor": "white",
             "minorgridcolor": "white",
             "startlinecolor": "#2a3f5f"
            },
            "baxis": {
             "endlinecolor": "#2a3f5f",
             "gridcolor": "white",
             "linecolor": "white",
             "minorgridcolor": "white",
             "startlinecolor": "#2a3f5f"
            },
            "type": "carpet"
           }
          ],
          "choropleth": [
           {
            "colorbar": {
             "outlinewidth": 0,
             "ticks": ""
            },
            "type": "choropleth"
           }
          ],
          "contour": [
           {
            "colorbar": {
             "outlinewidth": 0,
             "ticks": ""
            },
            "colorscale": [
             [
              0,
              "#0d0887"
             ],
             [
              0.1111111111111111,
              "#46039f"
             ],
             [
              0.2222222222222222,
              "#7201a8"
             ],
             [
              0.3333333333333333,
              "#9c179e"
             ],
             [
              0.4444444444444444,
              "#bd3786"
             ],
             [
              0.5555555555555556,
              "#d8576b"
             ],
             [
              0.6666666666666666,
              "#ed7953"
             ],
             [
              0.7777777777777778,
              "#fb9f3a"
             ],
             [
              0.8888888888888888,
              "#fdca26"
             ],
             [
              1,
              "#f0f921"
             ]
            ],
            "type": "contour"
           }
          ],
          "contourcarpet": [
           {
            "colorbar": {
             "outlinewidth": 0,
             "ticks": ""
            },
            "type": "contourcarpet"
           }
          ],
          "heatmap": [
           {
            "colorbar": {
             "outlinewidth": 0,
             "ticks": ""
            },
            "colorscale": [
             [
              0,
              "#0d0887"
             ],
             [
              0.1111111111111111,
              "#46039f"
             ],
             [
              0.2222222222222222,
              "#7201a8"
             ],
             [
              0.3333333333333333,
              "#9c179e"
             ],
             [
              0.4444444444444444,
              "#bd3786"
             ],
             [
              0.5555555555555556,
              "#d8576b"
             ],
             [
              0.6666666666666666,
              "#ed7953"
             ],
             [
              0.7777777777777778,
              "#fb9f3a"
             ],
             [
              0.8888888888888888,
              "#fdca26"
             ],
             [
              1,
              "#f0f921"
             ]
            ],
            "type": "heatmap"
           }
          ],
          "heatmapgl": [
           {
            "colorbar": {
             "outlinewidth": 0,
             "ticks": ""
            },
            "colorscale": [
             [
              0,
              "#0d0887"
             ],
             [
              0.1111111111111111,
              "#46039f"
             ],
             [
              0.2222222222222222,
              "#7201a8"
             ],
             [
              0.3333333333333333,
              "#9c179e"
             ],
             [
              0.4444444444444444,
              "#bd3786"
             ],
             [
              0.5555555555555556,
              "#d8576b"
             ],
             [
              0.6666666666666666,
              "#ed7953"
             ],
             [
              0.7777777777777778,
              "#fb9f3a"
             ],
             [
              0.8888888888888888,
              "#fdca26"
             ],
             [
              1,
              "#f0f921"
             ]
            ],
            "type": "heatmapgl"
           }
          ],
          "histogram": [
           {
            "marker": {
             "colorbar": {
              "outlinewidth": 0,
              "ticks": ""
             }
            },
            "type": "histogram"
           }
          ],
          "histogram2d": [
           {
            "colorbar": {
             "outlinewidth": 0,
             "ticks": ""
            },
            "colorscale": [
             [
              0,
              "#0d0887"
             ],
             [
              0.1111111111111111,
              "#46039f"
             ],
             [
              0.2222222222222222,
              "#7201a8"
             ],
             [
              0.3333333333333333,
              "#9c179e"
             ],
             [
              0.4444444444444444,
              "#bd3786"
             ],
             [
              0.5555555555555556,
              "#d8576b"
             ],
             [
              0.6666666666666666,
              "#ed7953"
             ],
             [
              0.7777777777777778,
              "#fb9f3a"
             ],
             [
              0.8888888888888888,
              "#fdca26"
             ],
             [
              1,
              "#f0f921"
             ]
            ],
            "type": "histogram2d"
           }
          ],
          "histogram2dcontour": [
           {
            "colorbar": {
             "outlinewidth": 0,
             "ticks": ""
            },
            "colorscale": [
             [
              0,
              "#0d0887"
             ],
             [
              0.1111111111111111,
              "#46039f"
             ],
             [
              0.2222222222222222,
              "#7201a8"
             ],
             [
              0.3333333333333333,
              "#9c179e"
             ],
             [
              0.4444444444444444,
              "#bd3786"
             ],
             [
              0.5555555555555556,
              "#d8576b"
             ],
             [
              0.6666666666666666,
              "#ed7953"
             ],
             [
              0.7777777777777778,
              "#fb9f3a"
             ],
             [
              0.8888888888888888,
              "#fdca26"
             ],
             [
              1,
              "#f0f921"
             ]
            ],
            "type": "histogram2dcontour"
           }
          ],
          "mesh3d": [
           {
            "colorbar": {
             "outlinewidth": 0,
             "ticks": ""
            },
            "type": "mesh3d"
           }
          ],
          "parcoords": [
           {
            "line": {
             "colorbar": {
              "outlinewidth": 0,
              "ticks": ""
             }
            },
            "type": "parcoords"
           }
          ],
          "pie": [
           {
            "automargin": true,
            "type": "pie"
           }
          ],
          "scatter": [
           {
            "marker": {
             "colorbar": {
              "outlinewidth": 0,
              "ticks": ""
             }
            },
            "type": "scatter"
           }
          ],
          "scatter3d": [
           {
            "line": {
             "colorbar": {
              "outlinewidth": 0,
              "ticks": ""
             }
            },
            "marker": {
             "colorbar": {
              "outlinewidth": 0,
              "ticks": ""
             }
            },
            "type": "scatter3d"
           }
          ],
          "scattercarpet": [
           {
            "marker": {
             "colorbar": {
              "outlinewidth": 0,
              "ticks": ""
             }
            },
            "type": "scattercarpet"
           }
          ],
          "scattergeo": [
           {
            "marker": {
             "colorbar": {
              "outlinewidth": 0,
              "ticks": ""
             }
            },
            "type": "scattergeo"
           }
          ],
          "scattergl": [
           {
            "marker": {
             "colorbar": {
              "outlinewidth": 0,
              "ticks": ""
             }
            },
            "type": "scattergl"
           }
          ],
          "scattermapbox": [
           {
            "marker": {
             "colorbar": {
              "outlinewidth": 0,
              "ticks": ""
             }
            },
            "type": "scattermapbox"
           }
          ],
          "scatterpolar": [
           {
            "marker": {
             "colorbar": {
              "outlinewidth": 0,
              "ticks": ""
             }
            },
            "type": "scatterpolar"
           }
          ],
          "scatterpolargl": [
           {
            "marker": {
             "colorbar": {
              "outlinewidth": 0,
              "ticks": ""
             }
            },
            "type": "scatterpolargl"
           }
          ],
          "scatterternary": [
           {
            "marker": {
             "colorbar": {
              "outlinewidth": 0,
              "ticks": ""
             }
            },
            "type": "scatterternary"
           }
          ],
          "surface": [
           {
            "colorbar": {
             "outlinewidth": 0,
             "ticks": ""
            },
            "colorscale": [
             [
              0,
              "#0d0887"
             ],
             [
              0.1111111111111111,
              "#46039f"
             ],
             [
              0.2222222222222222,
              "#7201a8"
             ],
             [
              0.3333333333333333,
              "#9c179e"
             ],
             [
              0.4444444444444444,
              "#bd3786"
             ],
             [
              0.5555555555555556,
              "#d8576b"
             ],
             [
              0.6666666666666666,
              "#ed7953"
             ],
             [
              0.7777777777777778,
              "#fb9f3a"
             ],
             [
              0.8888888888888888,
              "#fdca26"
             ],
             [
              1,
              "#f0f921"
             ]
            ],
            "type": "surface"
           }
          ],
          "table": [
           {
            "cells": {
             "fill": {
              "color": "#EBF0F8"
             },
             "line": {
              "color": "white"
             }
            },
            "header": {
             "fill": {
              "color": "#C8D4E3"
             },
             "line": {
              "color": "white"
             }
            },
            "type": "table"
           }
          ]
         },
         "layout": {
          "annotationdefaults": {
           "arrowcolor": "#2a3f5f",
           "arrowhead": 0,
           "arrowwidth": 1
          },
          "autotypenumbers": "strict",
          "coloraxis": {
           "colorbar": {
            "outlinewidth": 0,
            "ticks": ""
           }
          },
          "colorscale": {
           "diverging": [
            [
             0,
             "#8e0152"
            ],
            [
             0.1,
             "#c51b7d"
            ],
            [
             0.2,
             "#de77ae"
            ],
            [
             0.3,
             "#f1b6da"
            ],
            [
             0.4,
             "#fde0ef"
            ],
            [
             0.5,
             "#f7f7f7"
            ],
            [
             0.6,
             "#e6f5d0"
            ],
            [
             0.7,
             "#b8e186"
            ],
            [
             0.8,
             "#7fbc41"
            ],
            [
             0.9,
             "#4d9221"
            ],
            [
             1,
             "#276419"
            ]
           ],
           "sequential": [
            [
             0,
             "#0d0887"
            ],
            [
             0.1111111111111111,
             "#46039f"
            ],
            [
             0.2222222222222222,
             "#7201a8"
            ],
            [
             0.3333333333333333,
             "#9c179e"
            ],
            [
             0.4444444444444444,
             "#bd3786"
            ],
            [
             0.5555555555555556,
             "#d8576b"
            ],
            [
             0.6666666666666666,
             "#ed7953"
            ],
            [
             0.7777777777777778,
             "#fb9f3a"
            ],
            [
             0.8888888888888888,
             "#fdca26"
            ],
            [
             1,
             "#f0f921"
            ]
           ],
           "sequentialminus": [
            [
             0,
             "#0d0887"
            ],
            [
             0.1111111111111111,
             "#46039f"
            ],
            [
             0.2222222222222222,
             "#7201a8"
            ],
            [
             0.3333333333333333,
             "#9c179e"
            ],
            [
             0.4444444444444444,
             "#bd3786"
            ],
            [
             0.5555555555555556,
             "#d8576b"
            ],
            [
             0.6666666666666666,
             "#ed7953"
            ],
            [
             0.7777777777777778,
             "#fb9f3a"
            ],
            [
             0.8888888888888888,
             "#fdca26"
            ],
            [
             1,
             "#f0f921"
            ]
           ]
          },
          "colorway": [
           "#636efa",
           "#EF553B",
           "#00cc96",
           "#ab63fa",
           "#FFA15A",
           "#19d3f3",
           "#FF6692",
           "#B6E880",
           "#FF97FF",
           "#FECB52"
          ],
          "font": {
           "color": "#2a3f5f"
          },
          "geo": {
           "bgcolor": "white",
           "lakecolor": "white",
           "landcolor": "#E5ECF6",
           "showlakes": true,
           "showland": true,
           "subunitcolor": "white"
          },
          "hoverlabel": {
           "align": "left"
          },
          "hovermode": "closest",
          "mapbox": {
           "style": "light"
          },
          "paper_bgcolor": "white",
          "plot_bgcolor": "#E5ECF6",
          "polar": {
           "angularaxis": {
            "gridcolor": "white",
            "linecolor": "white",
            "ticks": ""
           },
           "bgcolor": "#E5ECF6",
           "radialaxis": {
            "gridcolor": "white",
            "linecolor": "white",
            "ticks": ""
           }
          },
          "scene": {
           "xaxis": {
            "backgroundcolor": "#E5ECF6",
            "gridcolor": "white",
            "gridwidth": 2,
            "linecolor": "white",
            "showbackground": true,
            "ticks": "",
            "zerolinecolor": "white"
           },
           "yaxis": {
            "backgroundcolor": "#E5ECF6",
            "gridcolor": "white",
            "gridwidth": 2,
            "linecolor": "white",
            "showbackground": true,
            "ticks": "",
            "zerolinecolor": "white"
           },
           "zaxis": {
            "backgroundcolor": "#E5ECF6",
            "gridcolor": "white",
            "gridwidth": 2,
            "linecolor": "white",
            "showbackground": true,
            "ticks": "",
            "zerolinecolor": "white"
           }
          },
          "shapedefaults": {
           "line": {
            "color": "#2a3f5f"
           }
          },
          "ternary": {
           "aaxis": {
            "gridcolor": "white",
            "linecolor": "white",
            "ticks": ""
           },
           "baxis": {
            "gridcolor": "white",
            "linecolor": "white",
            "ticks": ""
           },
           "bgcolor": "#E5ECF6",
           "caxis": {
            "gridcolor": "white",
            "linecolor": "white",
            "ticks": ""
           }
          },
          "title": {
           "x": 0.05
          },
          "xaxis": {
           "automargin": true,
           "gridcolor": "white",
           "linecolor": "white",
           "ticks": "",
           "title": {
            "standoff": 15
           },
           "zerolinecolor": "white",
           "zerolinewidth": 2
          },
          "yaxis": {
           "automargin": true,
           "gridcolor": "white",
           "linecolor": "white",
           "ticks": "",
           "title": {
            "standoff": 15
           },
           "zerolinecolor": "white",
           "zerolinewidth": 2
          }
         }
        },
        "title": {
         "text": "Effect on Accuracy when c_per=100 p_per increased from 0 to 40"
        },
        "xaxis": {
         "title": {
          "text": "Round Num"
         }
        },
        "yaxis": {
         "title": {
          "text": "Accuracy"
         }
        }
       }
      },
      "text/html": [
       "<div>                            <div id=\"83702e7f-be03-462a-84fe-641308625b34\" class=\"plotly-graph-div\" style=\"height:525px; width:100%;\"></div>            <script type=\"text/javascript\">                require([\"plotly\"], function(Plotly) {                    window.PLOTLYENV=window.PLOTLYENV || {};                                    if (document.getElementById(\"83702e7f-be03-462a-84fe-641308625b34\")) {                    Plotly.newPlot(                        \"83702e7f-be03-462a-84fe-641308625b34\",                        [{\"mode\": \"lines+markers\", \"name\": \"total_acc_p_per00\", \"type\": \"scatter\", \"x\": [10, 20, 30, 40, 50, 60, 70, 80, 90, 100, 110, 120, 130, 140, 150, 160, 170, 180, 190, 200, 210, 220, 230, 240, 250, 260, 270, 280, 290, 300, 310, 320, 330, 340, 350, 360, 370, 380, 390, 400], \"y\": [19.56, 27.74, 39.76, 49.45, 55.69, 60.5, 63.18, 64.89, 66.1, 67.2, 67.75, 68.37, 68.74, 69.37, 69.68, 69.6, 70.02, 70.0, 70.03, 70.25, 70.24, 70.53, 70.5, 70.68, 70.59, 70.88, 71.09, 71.26, 71.06, 71.09, 71.09, 71.25, 71.04, 71.08, 71.18, 71.14, 71.24, 71.39, 71.11, 71.37]}, {\"marker\": {\"symbol\": \"square\"}, \"mode\": \"lines+markers\", \"name\": \"flipped_source_p_per00\", \"type\": \"scatter\", \"x\": [10, 20, 30, 40, 50, 60, 70, 80, 90, 100, 110, 120, 130, 140, 150, 160, 170, 180, 190, 200, 210, 220, 230, 240, 250, 260, 270, 280, 290, 300, 310, 320, 330, 340, 350, 360, 370, 380, 390, 400], \"y\": [0.0, 0.0, 9.5, 27.2, 36.8, 43.9, 47.4, 50.5, 52.1, 54.5, 55.7, 55.6, 57.3, 57.3, 58.3, 58.8, 58.5, 59.4, 58.5, 58.7, 58.1, 59.1, 58.6, 59.0, 59.3, 58.4, 59.4, 60.0, 59.5, 60.0, 59.7, 60.5, 60.2, 59.0, 59.1, 60.2, 59.2, 59.7, 60.3, 60.0]}, {\"mode\": \"lines+markers\", \"name\": \"total_acc_p_per10\", \"type\": \"scatter\", \"x\": [10, 20, 30, 40, 50, 60, 70, 80, 90, 100, 110, 120, 130, 140, 150, 160, 170, 180, 190, 200, 210, 220, 230, 240, 250, 260, 270, 280, 290, 300, 310, 320, 330, 340, 350, 360, 370, 380, 390, 400], \"y\": [20.88, 31.87, 41.05, 47.16, 52.93, 57.42, 60.91, 63.46, 65.14, 66.4, 67.67, 68.05, 68.6, 69.04, 69.45, 69.79, 69.81, 69.91, 69.94, 70.06, 70.33, 70.6, 70.5, 70.57, 70.67, 70.76, 70.87, 70.89, 70.71, 70.94, 70.81, 71.01, 71.15, 71.13, 71.02, 70.99, 70.91, 71.13, 71.04, 71.16]}, {\"marker\": {\"symbol\": \"square\"}, \"mode\": \"lines+markers\", \"name\": \"flipped_source_p_per10\", \"type\": \"scatter\", \"x\": [10, 20, 30, 40, 50, 60, 70, 80, 90, 100, 110, 120, 130, 140, 150, 160, 170, 180, 190, 200, 210, 220, 230, 240, 250, 260, 270, 280, 290, 300, 310, 320, 330, 340, 350, 360, 370, 380, 390, 400], \"y\": [0.0, 0.0, 8.2, 19.6, 27.4, 34.2, 40.1, 44.4, 47.3, 48.7, 50.5, 50.8, 52.8, 53.5, 54.0, 53.4, 53.7, 54.2, 54.7, 55.1, 55.4, 55.7, 55.5, 55.7, 55.4, 55.3, 55.4, 55.0, 54.5, 56.7, 54.8, 54.5, 54.3, 56.1, 56.3, 55.2, 55.3, 54.5, 55.3, 55.4]}, {\"mode\": \"lines+markers\", \"name\": \"total_acc_p_per20\", \"type\": \"scatter\", \"x\": [10, 20, 30, 40, 50, 60, 70, 80, 90, 100, 110, 120, 130, 140, 150, 160, 170, 180, 190, 200, 210, 220, 230, 240, 250, 260, 270, 280, 290, 300, 310, 320, 330, 340, 350, 360, 370, 380, 390, 400], \"y\": [19.21, 27.94, 38.02, 47.89, 54.56, 58.98, 61.56, 63.59, 65.27, 66.76, 67.88, 68.36, 68.89, 68.93, 69.11, 69.19, 69.31, 69.29, 69.71, 69.71, 69.79, 69.91, 69.99, 70.11, 70.16, 70.2, 70.05, 70.08, 70.18, 70.16, 70.21, 70.17, 70.14, 69.91, 70.16, 70.07, 70.12, 70.2, 70.36, 70.17]}, {\"marker\": {\"symbol\": \"square\"}, \"mode\": \"lines+markers\", \"name\": \"flipped_source_p_per20\", \"type\": \"scatter\", \"x\": [10, 20, 30, 40, 50, 60, 70, 80, 90, 100, 110, 120, 130, 140, 150, 160, 170, 180, 190, 200, 210, 220, 230, 240, 250, 260, 270, 280, 290, 300, 310, 320, 330, 340, 350, 360, 370, 380, 390, 400], \"y\": [0.0, 0.0, 3.1, 12.1, 18.3, 26.9, 32.8, 37.5, 40.0, 44.5, 45.3, 46.4, 46.9, 46.9, 47.0, 46.4, 47.1, 47.5, 47.8, 48.8, 49.4, 48.6, 49.4, 49.9, 50.3, 50.1, 50.2, 50.3, 49.3, 49.5, 49.4, 50.3, 49.8, 49.2, 49.1, 49.8, 50.2, 49.9, 49.8, 49.6]}, {\"mode\": \"lines+markers\", \"name\": \"total_acc_p_per40\", \"type\": \"scatter\", \"x\": [10, 20, 30, 40, 50, 60, 70, 80, 90, 100, 110, 120, 130, 140, 150, 160, 170, 180, 190, 200, 210, 220, 230, 240, 250, 260, 270, 280, 290, 300, 310, 320, 330, 340, 350, 360, 370, 380, 390, 400], \"y\": [20.83, 31.37, 43.12, 49.35, 54.35, 58.4, 61.46, 62.98, 63.92, 65.1, 65.89, 66.26, 66.7, 67.19, 67.47, 67.57, 67.87, 67.73, 67.65, 67.91, 67.77, 67.95, 68.15, 68.52, 68.43, 68.5, 68.65, 68.69, 68.67, 68.75, 68.91, 68.99, 69.14, 69.13, 69.03, 68.84, 69.16, 69.01, 69.1, 69.05]}, {\"marker\": {\"symbol\": \"square\"}, \"mode\": \"lines+markers\", \"name\": \"flipped_source_p_per40\", \"type\": \"scatter\", \"x\": [10, 20, 30, 40, 50, 60, 70, 80, 90, 100, 110, 120, 130, 140, 150, 160, 170, 180, 190, 200, 210, 220, 230, 240, 250, 260, 270, 280, 290, 300, 310, 320, 330, 340, 350, 360, 370, 380, 390, 400], \"y\": [0.0, 0.0, 0.1, 0.8, 5.8, 16.6, 24.6, 27.6, 27.6, 29.2, 30.5, 31.9, 33.2, 33.0, 33.5, 35.1, 33.4, 34.2, 34.7, 35.6, 35.4, 34.8, 36.3, 37.5, 36.0, 36.1, 37.2, 36.6, 36.8, 36.5, 38.2, 37.4, 38.7, 39.5, 38.9, 38.1, 37.5, 39.0, 40.0, 38.9]}],                        {\"template\": {\"data\": {\"bar\": [{\"error_x\": {\"color\": \"#2a3f5f\"}, \"error_y\": {\"color\": \"#2a3f5f\"}, \"marker\": {\"line\": {\"color\": \"#E5ECF6\", \"width\": 0.5}}, \"type\": \"bar\"}], \"barpolar\": [{\"marker\": {\"line\": {\"color\": \"#E5ECF6\", \"width\": 0.5}}, \"type\": \"barpolar\"}], \"carpet\": [{\"aaxis\": {\"endlinecolor\": \"#2a3f5f\", \"gridcolor\": \"white\", \"linecolor\": \"white\", \"minorgridcolor\": \"white\", \"startlinecolor\": \"#2a3f5f\"}, \"baxis\": {\"endlinecolor\": \"#2a3f5f\", \"gridcolor\": \"white\", \"linecolor\": \"white\", \"minorgridcolor\": \"white\", \"startlinecolor\": \"#2a3f5f\"}, \"type\": \"carpet\"}], \"choropleth\": [{\"colorbar\": {\"outlinewidth\": 0, \"ticks\": \"\"}, \"type\": \"choropleth\"}], \"contour\": [{\"colorbar\": {\"outlinewidth\": 0, \"ticks\": \"\"}, \"colorscale\": [[0.0, \"#0d0887\"], [0.1111111111111111, \"#46039f\"], [0.2222222222222222, \"#7201a8\"], [0.3333333333333333, \"#9c179e\"], [0.4444444444444444, \"#bd3786\"], [0.5555555555555556, \"#d8576b\"], [0.6666666666666666, \"#ed7953\"], [0.7777777777777778, \"#fb9f3a\"], [0.8888888888888888, \"#fdca26\"], [1.0, \"#f0f921\"]], \"type\": \"contour\"}], \"contourcarpet\": [{\"colorbar\": {\"outlinewidth\": 0, \"ticks\": \"\"}, \"type\": \"contourcarpet\"}], \"heatmap\": [{\"colorbar\": {\"outlinewidth\": 0, \"ticks\": \"\"}, \"colorscale\": [[0.0, \"#0d0887\"], [0.1111111111111111, \"#46039f\"], [0.2222222222222222, \"#7201a8\"], [0.3333333333333333, \"#9c179e\"], [0.4444444444444444, \"#bd3786\"], [0.5555555555555556, \"#d8576b\"], [0.6666666666666666, \"#ed7953\"], [0.7777777777777778, \"#fb9f3a\"], [0.8888888888888888, \"#fdca26\"], [1.0, \"#f0f921\"]], \"type\": \"heatmap\"}], \"heatmapgl\": [{\"colorbar\": {\"outlinewidth\": 0, \"ticks\": \"\"}, \"colorscale\": [[0.0, \"#0d0887\"], [0.1111111111111111, \"#46039f\"], [0.2222222222222222, \"#7201a8\"], [0.3333333333333333, \"#9c179e\"], [0.4444444444444444, \"#bd3786\"], [0.5555555555555556, \"#d8576b\"], [0.6666666666666666, \"#ed7953\"], [0.7777777777777778, \"#fb9f3a\"], [0.8888888888888888, \"#fdca26\"], [1.0, \"#f0f921\"]], \"type\": \"heatmapgl\"}], \"histogram\": [{\"marker\": {\"colorbar\": {\"outlinewidth\": 0, \"ticks\": \"\"}}, \"type\": \"histogram\"}], \"histogram2d\": [{\"colorbar\": {\"outlinewidth\": 0, \"ticks\": \"\"}, \"colorscale\": [[0.0, \"#0d0887\"], [0.1111111111111111, \"#46039f\"], [0.2222222222222222, \"#7201a8\"], [0.3333333333333333, \"#9c179e\"], [0.4444444444444444, \"#bd3786\"], [0.5555555555555556, \"#d8576b\"], [0.6666666666666666, \"#ed7953\"], [0.7777777777777778, \"#fb9f3a\"], [0.8888888888888888, \"#fdca26\"], [1.0, \"#f0f921\"]], \"type\": \"histogram2d\"}], \"histogram2dcontour\": [{\"colorbar\": {\"outlinewidth\": 0, \"ticks\": \"\"}, \"colorscale\": [[0.0, \"#0d0887\"], [0.1111111111111111, \"#46039f\"], [0.2222222222222222, \"#7201a8\"], [0.3333333333333333, \"#9c179e\"], [0.4444444444444444, \"#bd3786\"], [0.5555555555555556, \"#d8576b\"], [0.6666666666666666, \"#ed7953\"], [0.7777777777777778, \"#fb9f3a\"], [0.8888888888888888, \"#fdca26\"], [1.0, \"#f0f921\"]], \"type\": \"histogram2dcontour\"}], \"mesh3d\": [{\"colorbar\": {\"outlinewidth\": 0, \"ticks\": \"\"}, \"type\": \"mesh3d\"}], \"parcoords\": [{\"line\": {\"colorbar\": {\"outlinewidth\": 0, \"ticks\": \"\"}}, \"type\": \"parcoords\"}], \"pie\": [{\"automargin\": true, \"type\": \"pie\"}], \"scatter\": [{\"marker\": {\"colorbar\": {\"outlinewidth\": 0, \"ticks\": \"\"}}, \"type\": \"scatter\"}], \"scatter3d\": [{\"line\": {\"colorbar\": {\"outlinewidth\": 0, \"ticks\": \"\"}}, \"marker\": {\"colorbar\": {\"outlinewidth\": 0, \"ticks\": \"\"}}, \"type\": \"scatter3d\"}], \"scattercarpet\": [{\"marker\": {\"colorbar\": {\"outlinewidth\": 0, \"ticks\": \"\"}}, \"type\": \"scattercarpet\"}], \"scattergeo\": [{\"marker\": {\"colorbar\": {\"outlinewidth\": 0, \"ticks\": \"\"}}, \"type\": \"scattergeo\"}], \"scattergl\": [{\"marker\": {\"colorbar\": {\"outlinewidth\": 0, \"ticks\": \"\"}}, \"type\": \"scattergl\"}], \"scattermapbox\": [{\"marker\": {\"colorbar\": {\"outlinewidth\": 0, \"ticks\": \"\"}}, \"type\": \"scattermapbox\"}], \"scatterpolar\": [{\"marker\": {\"colorbar\": {\"outlinewidth\": 0, \"ticks\": \"\"}}, \"type\": \"scatterpolar\"}], \"scatterpolargl\": [{\"marker\": {\"colorbar\": {\"outlinewidth\": 0, \"ticks\": \"\"}}, \"type\": \"scatterpolargl\"}], \"scatterternary\": [{\"marker\": {\"colorbar\": {\"outlinewidth\": 0, \"ticks\": \"\"}}, \"type\": \"scatterternary\"}], \"surface\": [{\"colorbar\": {\"outlinewidth\": 0, \"ticks\": \"\"}, \"colorscale\": [[0.0, \"#0d0887\"], [0.1111111111111111, \"#46039f\"], [0.2222222222222222, \"#7201a8\"], [0.3333333333333333, \"#9c179e\"], [0.4444444444444444, \"#bd3786\"], [0.5555555555555556, \"#d8576b\"], [0.6666666666666666, \"#ed7953\"], [0.7777777777777778, \"#fb9f3a\"], [0.8888888888888888, \"#fdca26\"], [1.0, \"#f0f921\"]], \"type\": \"surface\"}], \"table\": [{\"cells\": {\"fill\": {\"color\": \"#EBF0F8\"}, \"line\": {\"color\": \"white\"}}, \"header\": {\"fill\": {\"color\": \"#C8D4E3\"}, \"line\": {\"color\": \"white\"}}, \"type\": \"table\"}]}, \"layout\": {\"annotationdefaults\": {\"arrowcolor\": \"#2a3f5f\", \"arrowhead\": 0, \"arrowwidth\": 1}, \"autotypenumbers\": \"strict\", \"coloraxis\": {\"colorbar\": {\"outlinewidth\": 0, \"ticks\": \"\"}}, \"colorscale\": {\"diverging\": [[0, \"#8e0152\"], [0.1, \"#c51b7d\"], [0.2, \"#de77ae\"], [0.3, \"#f1b6da\"], [0.4, \"#fde0ef\"], [0.5, \"#f7f7f7\"], [0.6, \"#e6f5d0\"], [0.7, \"#b8e186\"], [0.8, \"#7fbc41\"], [0.9, \"#4d9221\"], [1, \"#276419\"]], \"sequential\": [[0.0, \"#0d0887\"], [0.1111111111111111, \"#46039f\"], [0.2222222222222222, \"#7201a8\"], [0.3333333333333333, \"#9c179e\"], [0.4444444444444444, \"#bd3786\"], [0.5555555555555556, \"#d8576b\"], [0.6666666666666666, \"#ed7953\"], [0.7777777777777778, \"#fb9f3a\"], [0.8888888888888888, \"#fdca26\"], [1.0, \"#f0f921\"]], \"sequentialminus\": [[0.0, \"#0d0887\"], [0.1111111111111111, \"#46039f\"], [0.2222222222222222, \"#7201a8\"], [0.3333333333333333, \"#9c179e\"], [0.4444444444444444, \"#bd3786\"], [0.5555555555555556, \"#d8576b\"], [0.6666666666666666, \"#ed7953\"], [0.7777777777777778, \"#fb9f3a\"], [0.8888888888888888, \"#fdca26\"], [1.0, \"#f0f921\"]]}, \"colorway\": [\"#636efa\", \"#EF553B\", \"#00cc96\", \"#ab63fa\", \"#FFA15A\", \"#19d3f3\", \"#FF6692\", \"#B6E880\", \"#FF97FF\", \"#FECB52\"], \"font\": {\"color\": \"#2a3f5f\"}, \"geo\": {\"bgcolor\": \"white\", \"lakecolor\": \"white\", \"landcolor\": \"#E5ECF6\", \"showlakes\": true, \"showland\": true, \"subunitcolor\": \"white\"}, \"hoverlabel\": {\"align\": \"left\"}, \"hovermode\": \"closest\", \"mapbox\": {\"style\": \"light\"}, \"paper_bgcolor\": \"white\", \"plot_bgcolor\": \"#E5ECF6\", \"polar\": {\"angularaxis\": {\"gridcolor\": \"white\", \"linecolor\": \"white\", \"ticks\": \"\"}, \"bgcolor\": \"#E5ECF6\", \"radialaxis\": {\"gridcolor\": \"white\", \"linecolor\": \"white\", \"ticks\": \"\"}}, \"scene\": {\"xaxis\": {\"backgroundcolor\": \"#E5ECF6\", \"gridcolor\": \"white\", \"gridwidth\": 2, \"linecolor\": \"white\", \"showbackground\": true, \"ticks\": \"\", \"zerolinecolor\": \"white\"}, \"yaxis\": {\"backgroundcolor\": \"#E5ECF6\", \"gridcolor\": \"white\", \"gridwidth\": 2, \"linecolor\": \"white\", \"showbackground\": true, \"ticks\": \"\", \"zerolinecolor\": \"white\"}, \"zaxis\": {\"backgroundcolor\": \"#E5ECF6\", \"gridcolor\": \"white\", \"gridwidth\": 2, \"linecolor\": \"white\", \"showbackground\": true, \"ticks\": \"\", \"zerolinecolor\": \"white\"}}, \"shapedefaults\": {\"line\": {\"color\": \"#2a3f5f\"}}, \"ternary\": {\"aaxis\": {\"gridcolor\": \"white\", \"linecolor\": \"white\", \"ticks\": \"\"}, \"baxis\": {\"gridcolor\": \"white\", \"linecolor\": \"white\", \"ticks\": \"\"}, \"bgcolor\": \"#E5ECF6\", \"caxis\": {\"gridcolor\": \"white\", \"linecolor\": \"white\", \"ticks\": \"\"}}, \"title\": {\"x\": 0.05}, \"xaxis\": {\"automargin\": true, \"gridcolor\": \"white\", \"linecolor\": \"white\", \"ticks\": \"\", \"title\": {\"standoff\": 15}, \"zerolinecolor\": \"white\", \"zerolinewidth\": 2}, \"yaxis\": {\"automargin\": true, \"gridcolor\": \"white\", \"linecolor\": \"white\", \"ticks\": \"\", \"title\": {\"standoff\": 15}, \"zerolinecolor\": \"white\", \"zerolinewidth\": 2}}}, \"title\": {\"text\": \"Effect on Accuracy when c_per=100 p_per increased from 0 to 40\"}, \"xaxis\": {\"title\": {\"text\": \"Round Num\"}}, \"yaxis\": {\"title\": {\"text\": \"Accuracy\"}}},                        {\"responsive\": true}                    ).then(function(){\n",
       "                            \n",
       "var gd = document.getElementById('83702e7f-be03-462a-84fe-641308625b34');\n",
       "var x = new MutationObserver(function (mutations, observer) {{\n",
       "        var display = window.getComputedStyle(gd).display;\n",
       "        if (!display || display === 'none') {{\n",
       "            console.log([gd, 'removed!']);\n",
       "            Plotly.purge(gd);\n",
       "            observer.disconnect();\n",
       "        }}\n",
       "}});\n",
       "\n",
       "// Listen for the removal of the full notebook cells\n",
       "var notebookContainer = gd.closest('#notebook-container');\n",
       "if (notebookContainer) {{\n",
       "    x.observe(notebookContainer, {childList: true});\n",
       "}}\n",
       "\n",
       "// Listen for the clearing of the current output cell\n",
       "var outputEl = gd.closest('.output');\n",
       "if (outputEl) {{\n",
       "    x.observe(outputEl, {childList: true});\n",
       "}}\n",
       "\n",
       "                        })                };                });            </script>        </div>"
      ]
     },
     "metadata": {},
     "output_type": "display_data"
    }
   ],
   "source": [
    "for k in [10, 20, 40, 100]:\n",
    "    all_data_dfs = []\n",
    "    for j in [0, 10, 20, 40]:\n",
    "        file_name = f'file_c{k:02}_p{j:02}_a0'\n",
    "        all_data_dfs.append(get_test_data_df(files_dict[file_name]))\n",
    "    fig = go.Figure()\n",
    "    for i, data_df in enumerate(all_data_dfs):\n",
    "        # to make data40 and plot curves make better sense\n",
    "        if i==3:\n",
    "            i += 1\n",
    "            \n",
    "        i = i*10\n",
    "#         fig.add_trace(go.Scatter(x=data_df['round_num'], y=data_df['total_acc'],\n",
    "#                             mode='lines', line={'dash': 'dash'},\n",
    "#                             name=f'total_acc_c_per{k:02}_p_per{i:02}'))\n",
    "\n",
    "        fig.add_trace(go.Scatter(x=data_df['round_num'], y=data_df['total_acc'],\n",
    "                            mode='lines+markers',\n",
    "                            name=f'total_acc_p_per{i:02}'))\n",
    "\n",
    "        fig.add_trace(go.Scatter(x=data_df['round_num'], y=data_df['class_2_acc'],\n",
    "                            mode='lines+markers', marker_symbol = 'square',\n",
    "                            name=f'flipped_source_p_per{i:02}'))\n",
    "\n",
    "\n",
    "    fig.update_layout(title=f'Effect on Accuracy when c_per={k:02} p_per increased from 0 to 40',\n",
    "                       xaxis_title='Round Num',\n",
    "                       yaxis_title='Accuracy')\n",
    "    \n",
    "    fig.write_image(plots_folder + file_name +\".png\", width=800)\n",
    "    fig.show()"
   ]
  },
  {
   "cell_type": "markdown",
   "id": "0cb764c9",
   "metadata": {},
   "source": [
    "### Now let's compare two attack types\n",
    "first we see for same c_per = 20 and p_per = 20, plot att0 and att1"
   ]
  },
  {
   "cell_type": "code",
   "execution_count": 17,
   "id": "c0c1196f",
   "metadata": {},
   "outputs": [
    {
     "data": {
      "application/vnd.plotly.v1+json": {
       "config": {
        "plotlyServerURL": "https://plot.ly"
       },
       "data": [
        {
         "mode": "lines+markers",
         "name": "total_acc_att0",
         "type": "scatter",
         "x": [
          10,
          20,
          30,
          40,
          50,
          60,
          70,
          80,
          90,
          100,
          110,
          120,
          130,
          140,
          150,
          160,
          170,
          180,
          190,
          200,
          210,
          220,
          230,
          240,
          250,
          260,
          270,
          280,
          290,
          300,
          310,
          320,
          330,
          340,
          350,
          360,
          370,
          380,
          390,
          400
         ],
         "y": [
          10,
          10,
          10,
          10,
          10,
          10,
          10,
          10,
          10,
          10,
          10,
          10,
          10,
          10,
          10,
          10,
          10,
          10,
          10,
          10,
          10,
          10,
          10,
          10,
          10,
          10,
          10,
          10,
          10,
          10,
          10,
          10,
          10,
          10,
          10,
          10,
          10.57,
          20.38,
          28.54,
          29.74
         ]
        },
        {
         "mode": "lines+markers",
         "name": "flipped_source_att0",
         "type": "scatter",
         "x": [
          10,
          20,
          30,
          40,
          50,
          60,
          70,
          80,
          90,
          100,
          110,
          120,
          130,
          140,
          150,
          160,
          170,
          180,
          190,
          200,
          210,
          220,
          230,
          240,
          250,
          260,
          270,
          280,
          290,
          300,
          310,
          320,
          330,
          340,
          350,
          360,
          370,
          380,
          390,
          400
         ],
         "y": [
          0,
          0,
          0,
          0,
          0,
          0,
          0,
          0,
          0,
          0,
          0,
          0,
          0,
          0,
          0,
          0,
          0,
          0,
          0,
          0,
          0,
          0,
          0,
          0,
          0,
          0,
          0,
          0,
          0,
          0,
          0,
          0,
          0,
          0,
          0,
          0,
          0,
          0,
          0,
          18.6
         ]
        },
        {
         "mode": "lines+markers",
         "name": "total_acc_att1",
         "type": "scatter",
         "x": [
          10,
          20,
          30,
          40,
          50,
          60,
          70,
          80,
          90,
          100,
          110,
          120,
          130,
          140,
          150,
          160,
          170,
          180,
          190,
          200,
          210,
          220,
          230,
          240,
          250,
          260,
          270,
          280,
          290,
          300,
          310,
          320,
          330,
          340,
          350,
          360,
          370,
          380,
          390,
          400
         ],
         "y": [
          10,
          10,
          10,
          10,
          10,
          10,
          10,
          10,
          10,
          10,
          10,
          10,
          10,
          10,
          10,
          10,
          10,
          10,
          10,
          10,
          10,
          10,
          10,
          10,
          10,
          10,
          10,
          10,
          10,
          10,
          10,
          10,
          10,
          10,
          10,
          10,
          10,
          10,
          10,
          10
         ]
        },
        {
         "mode": "lines+markers",
         "name": "flipped_source_att1",
         "type": "scatter",
         "x": [
          10,
          20,
          30,
          40,
          50,
          60,
          70,
          80,
          90,
          100,
          110,
          120,
          130,
          140,
          150,
          160,
          170,
          180,
          190,
          200,
          210,
          220,
          230,
          240,
          250,
          260,
          270,
          280,
          290,
          300,
          310,
          320,
          330,
          340,
          350,
          360,
          370,
          380,
          390,
          400
         ],
         "y": [
          0,
          0,
          0,
          0,
          0,
          0,
          0,
          0,
          0,
          0,
          0,
          0,
          0,
          0,
          0,
          0,
          0,
          0,
          0,
          0,
          0,
          0,
          0,
          0,
          0,
          0,
          0,
          0,
          0,
          0,
          0,
          0,
          0,
          0,
          0,
          0,
          0,
          0,
          0,
          0
         ]
        }
       ],
       "layout": {
        "template": {
         "data": {
          "bar": [
           {
            "error_x": {
             "color": "#2a3f5f"
            },
            "error_y": {
             "color": "#2a3f5f"
            },
            "marker": {
             "line": {
              "color": "#E5ECF6",
              "width": 0.5
             }
            },
            "type": "bar"
           }
          ],
          "barpolar": [
           {
            "marker": {
             "line": {
              "color": "#E5ECF6",
              "width": 0.5
             }
            },
            "type": "barpolar"
           }
          ],
          "carpet": [
           {
            "aaxis": {
             "endlinecolor": "#2a3f5f",
             "gridcolor": "white",
             "linecolor": "white",
             "minorgridcolor": "white",
             "startlinecolor": "#2a3f5f"
            },
            "baxis": {
             "endlinecolor": "#2a3f5f",
             "gridcolor": "white",
             "linecolor": "white",
             "minorgridcolor": "white",
             "startlinecolor": "#2a3f5f"
            },
            "type": "carpet"
           }
          ],
          "choropleth": [
           {
            "colorbar": {
             "outlinewidth": 0,
             "ticks": ""
            },
            "type": "choropleth"
           }
          ],
          "contour": [
           {
            "colorbar": {
             "outlinewidth": 0,
             "ticks": ""
            },
            "colorscale": [
             [
              0,
              "#0d0887"
             ],
             [
              0.1111111111111111,
              "#46039f"
             ],
             [
              0.2222222222222222,
              "#7201a8"
             ],
             [
              0.3333333333333333,
              "#9c179e"
             ],
             [
              0.4444444444444444,
              "#bd3786"
             ],
             [
              0.5555555555555556,
              "#d8576b"
             ],
             [
              0.6666666666666666,
              "#ed7953"
             ],
             [
              0.7777777777777778,
              "#fb9f3a"
             ],
             [
              0.8888888888888888,
              "#fdca26"
             ],
             [
              1,
              "#f0f921"
             ]
            ],
            "type": "contour"
           }
          ],
          "contourcarpet": [
           {
            "colorbar": {
             "outlinewidth": 0,
             "ticks": ""
            },
            "type": "contourcarpet"
           }
          ],
          "heatmap": [
           {
            "colorbar": {
             "outlinewidth": 0,
             "ticks": ""
            },
            "colorscale": [
             [
              0,
              "#0d0887"
             ],
             [
              0.1111111111111111,
              "#46039f"
             ],
             [
              0.2222222222222222,
              "#7201a8"
             ],
             [
              0.3333333333333333,
              "#9c179e"
             ],
             [
              0.4444444444444444,
              "#bd3786"
             ],
             [
              0.5555555555555556,
              "#d8576b"
             ],
             [
              0.6666666666666666,
              "#ed7953"
             ],
             [
              0.7777777777777778,
              "#fb9f3a"
             ],
             [
              0.8888888888888888,
              "#fdca26"
             ],
             [
              1,
              "#f0f921"
             ]
            ],
            "type": "heatmap"
           }
          ],
          "heatmapgl": [
           {
            "colorbar": {
             "outlinewidth": 0,
             "ticks": ""
            },
            "colorscale": [
             [
              0,
              "#0d0887"
             ],
             [
              0.1111111111111111,
              "#46039f"
             ],
             [
              0.2222222222222222,
              "#7201a8"
             ],
             [
              0.3333333333333333,
              "#9c179e"
             ],
             [
              0.4444444444444444,
              "#bd3786"
             ],
             [
              0.5555555555555556,
              "#d8576b"
             ],
             [
              0.6666666666666666,
              "#ed7953"
             ],
             [
              0.7777777777777778,
              "#fb9f3a"
             ],
             [
              0.8888888888888888,
              "#fdca26"
             ],
             [
              1,
              "#f0f921"
             ]
            ],
            "type": "heatmapgl"
           }
          ],
          "histogram": [
           {
            "marker": {
             "colorbar": {
              "outlinewidth": 0,
              "ticks": ""
             }
            },
            "type": "histogram"
           }
          ],
          "histogram2d": [
           {
            "colorbar": {
             "outlinewidth": 0,
             "ticks": ""
            },
            "colorscale": [
             [
              0,
              "#0d0887"
             ],
             [
              0.1111111111111111,
              "#46039f"
             ],
             [
              0.2222222222222222,
              "#7201a8"
             ],
             [
              0.3333333333333333,
              "#9c179e"
             ],
             [
              0.4444444444444444,
              "#bd3786"
             ],
             [
              0.5555555555555556,
              "#d8576b"
             ],
             [
              0.6666666666666666,
              "#ed7953"
             ],
             [
              0.7777777777777778,
              "#fb9f3a"
             ],
             [
              0.8888888888888888,
              "#fdca26"
             ],
             [
              1,
              "#f0f921"
             ]
            ],
            "type": "histogram2d"
           }
          ],
          "histogram2dcontour": [
           {
            "colorbar": {
             "outlinewidth": 0,
             "ticks": ""
            },
            "colorscale": [
             [
              0,
              "#0d0887"
             ],
             [
              0.1111111111111111,
              "#46039f"
             ],
             [
              0.2222222222222222,
              "#7201a8"
             ],
             [
              0.3333333333333333,
              "#9c179e"
             ],
             [
              0.4444444444444444,
              "#bd3786"
             ],
             [
              0.5555555555555556,
              "#d8576b"
             ],
             [
              0.6666666666666666,
              "#ed7953"
             ],
             [
              0.7777777777777778,
              "#fb9f3a"
             ],
             [
              0.8888888888888888,
              "#fdca26"
             ],
             [
              1,
              "#f0f921"
             ]
            ],
            "type": "histogram2dcontour"
           }
          ],
          "mesh3d": [
           {
            "colorbar": {
             "outlinewidth": 0,
             "ticks": ""
            },
            "type": "mesh3d"
           }
          ],
          "parcoords": [
           {
            "line": {
             "colorbar": {
              "outlinewidth": 0,
              "ticks": ""
             }
            },
            "type": "parcoords"
           }
          ],
          "pie": [
           {
            "automargin": true,
            "type": "pie"
           }
          ],
          "scatter": [
           {
            "marker": {
             "colorbar": {
              "outlinewidth": 0,
              "ticks": ""
             }
            },
            "type": "scatter"
           }
          ],
          "scatter3d": [
           {
            "line": {
             "colorbar": {
              "outlinewidth": 0,
              "ticks": ""
             }
            },
            "marker": {
             "colorbar": {
              "outlinewidth": 0,
              "ticks": ""
             }
            },
            "type": "scatter3d"
           }
          ],
          "scattercarpet": [
           {
            "marker": {
             "colorbar": {
              "outlinewidth": 0,
              "ticks": ""
             }
            },
            "type": "scattercarpet"
           }
          ],
          "scattergeo": [
           {
            "marker": {
             "colorbar": {
              "outlinewidth": 0,
              "ticks": ""
             }
            },
            "type": "scattergeo"
           }
          ],
          "scattergl": [
           {
            "marker": {
             "colorbar": {
              "outlinewidth": 0,
              "ticks": ""
             }
            },
            "type": "scattergl"
           }
          ],
          "scattermapbox": [
           {
            "marker": {
             "colorbar": {
              "outlinewidth": 0,
              "ticks": ""
             }
            },
            "type": "scattermapbox"
           }
          ],
          "scatterpolar": [
           {
            "marker": {
             "colorbar": {
              "outlinewidth": 0,
              "ticks": ""
             }
            },
            "type": "scatterpolar"
           }
          ],
          "scatterpolargl": [
           {
            "marker": {
             "colorbar": {
              "outlinewidth": 0,
              "ticks": ""
             }
            },
            "type": "scatterpolargl"
           }
          ],
          "scatterternary": [
           {
            "marker": {
             "colorbar": {
              "outlinewidth": 0,
              "ticks": ""
             }
            },
            "type": "scatterternary"
           }
          ],
          "surface": [
           {
            "colorbar": {
             "outlinewidth": 0,
             "ticks": ""
            },
            "colorscale": [
             [
              0,
              "#0d0887"
             ],
             [
              0.1111111111111111,
              "#46039f"
             ],
             [
              0.2222222222222222,
              "#7201a8"
             ],
             [
              0.3333333333333333,
              "#9c179e"
             ],
             [
              0.4444444444444444,
              "#bd3786"
             ],
             [
              0.5555555555555556,
              "#d8576b"
             ],
             [
              0.6666666666666666,
              "#ed7953"
             ],
             [
              0.7777777777777778,
              "#fb9f3a"
             ],
             [
              0.8888888888888888,
              "#fdca26"
             ],
             [
              1,
              "#f0f921"
             ]
            ],
            "type": "surface"
           }
          ],
          "table": [
           {
            "cells": {
             "fill": {
              "color": "#EBF0F8"
             },
             "line": {
              "color": "white"
             }
            },
            "header": {
             "fill": {
              "color": "#C8D4E3"
             },
             "line": {
              "color": "white"
             }
            },
            "type": "table"
           }
          ]
         },
         "layout": {
          "annotationdefaults": {
           "arrowcolor": "#2a3f5f",
           "arrowhead": 0,
           "arrowwidth": 1
          },
          "autotypenumbers": "strict",
          "coloraxis": {
           "colorbar": {
            "outlinewidth": 0,
            "ticks": ""
           }
          },
          "colorscale": {
           "diverging": [
            [
             0,
             "#8e0152"
            ],
            [
             0.1,
             "#c51b7d"
            ],
            [
             0.2,
             "#de77ae"
            ],
            [
             0.3,
             "#f1b6da"
            ],
            [
             0.4,
             "#fde0ef"
            ],
            [
             0.5,
             "#f7f7f7"
            ],
            [
             0.6,
             "#e6f5d0"
            ],
            [
             0.7,
             "#b8e186"
            ],
            [
             0.8,
             "#7fbc41"
            ],
            [
             0.9,
             "#4d9221"
            ],
            [
             1,
             "#276419"
            ]
           ],
           "sequential": [
            [
             0,
             "#0d0887"
            ],
            [
             0.1111111111111111,
             "#46039f"
            ],
            [
             0.2222222222222222,
             "#7201a8"
            ],
            [
             0.3333333333333333,
             "#9c179e"
            ],
            [
             0.4444444444444444,
             "#bd3786"
            ],
            [
             0.5555555555555556,
             "#d8576b"
            ],
            [
             0.6666666666666666,
             "#ed7953"
            ],
            [
             0.7777777777777778,
             "#fb9f3a"
            ],
            [
             0.8888888888888888,
             "#fdca26"
            ],
            [
             1,
             "#f0f921"
            ]
           ],
           "sequentialminus": [
            [
             0,
             "#0d0887"
            ],
            [
             0.1111111111111111,
             "#46039f"
            ],
            [
             0.2222222222222222,
             "#7201a8"
            ],
            [
             0.3333333333333333,
             "#9c179e"
            ],
            [
             0.4444444444444444,
             "#bd3786"
            ],
            [
             0.5555555555555556,
             "#d8576b"
            ],
            [
             0.6666666666666666,
             "#ed7953"
            ],
            [
             0.7777777777777778,
             "#fb9f3a"
            ],
            [
             0.8888888888888888,
             "#fdca26"
            ],
            [
             1,
             "#f0f921"
            ]
           ]
          },
          "colorway": [
           "#636efa",
           "#EF553B",
           "#00cc96",
           "#ab63fa",
           "#FFA15A",
           "#19d3f3",
           "#FF6692",
           "#B6E880",
           "#FF97FF",
           "#FECB52"
          ],
          "font": {
           "color": "#2a3f5f"
          },
          "geo": {
           "bgcolor": "white",
           "lakecolor": "white",
           "landcolor": "#E5ECF6",
           "showlakes": true,
           "showland": true,
           "subunitcolor": "white"
          },
          "hoverlabel": {
           "align": "left"
          },
          "hovermode": "closest",
          "mapbox": {
           "style": "light"
          },
          "paper_bgcolor": "white",
          "plot_bgcolor": "#E5ECF6",
          "polar": {
           "angularaxis": {
            "gridcolor": "white",
            "linecolor": "white",
            "ticks": ""
           },
           "bgcolor": "#E5ECF6",
           "radialaxis": {
            "gridcolor": "white",
            "linecolor": "white",
            "ticks": ""
           }
          },
          "scene": {
           "xaxis": {
            "backgroundcolor": "#E5ECF6",
            "gridcolor": "white",
            "gridwidth": 2,
            "linecolor": "white",
            "showbackground": true,
            "ticks": "",
            "zerolinecolor": "white"
           },
           "yaxis": {
            "backgroundcolor": "#E5ECF6",
            "gridcolor": "white",
            "gridwidth": 2,
            "linecolor": "white",
            "showbackground": true,
            "ticks": "",
            "zerolinecolor": "white"
           },
           "zaxis": {
            "backgroundcolor": "#E5ECF6",
            "gridcolor": "white",
            "gridwidth": 2,
            "linecolor": "white",
            "showbackground": true,
            "ticks": "",
            "zerolinecolor": "white"
           }
          },
          "shapedefaults": {
           "line": {
            "color": "#2a3f5f"
           }
          },
          "ternary": {
           "aaxis": {
            "gridcolor": "white",
            "linecolor": "white",
            "ticks": ""
           },
           "baxis": {
            "gridcolor": "white",
            "linecolor": "white",
            "ticks": ""
           },
           "bgcolor": "#E5ECF6",
           "caxis": {
            "gridcolor": "white",
            "linecolor": "white",
            "ticks": ""
           }
          },
          "title": {
           "x": 0.05
          },
          "xaxis": {
           "automargin": true,
           "gridcolor": "white",
           "linecolor": "white",
           "ticks": "",
           "title": {
            "standoff": 15
           },
           "zerolinecolor": "white",
           "zerolinewidth": 2
          },
          "yaxis": {
           "automargin": true,
           "gridcolor": "white",
           "linecolor": "white",
           "ticks": "",
           "title": {
            "standoff": 15
           },
           "zerolinecolor": "white",
           "zerolinewidth": 2
          }
         }
        },
        "title": {
         "text": "Accuracy Evolution"
        },
        "xaxis": {
         "title": {
          "text": "Round Num"
         }
        },
        "yaxis": {
         "title": {
          "text": "Accuracy"
         }
        }
       }
      },
      "text/html": [
       "<div>                            <div id=\"775cc5cb-743b-45d1-8174-d2947654ca7e\" class=\"plotly-graph-div\" style=\"height:525px; width:100%;\"></div>            <script type=\"text/javascript\">                require([\"plotly\"], function(Plotly) {                    window.PLOTLYENV=window.PLOTLYENV || {};                                    if (document.getElementById(\"775cc5cb-743b-45d1-8174-d2947654ca7e\")) {                    Plotly.newPlot(                        \"775cc5cb-743b-45d1-8174-d2947654ca7e\",                        [{\"mode\": \"lines+markers\", \"name\": \"total_acc_att0\", \"type\": \"scatter\", \"x\": [10, 20, 30, 40, 50, 60, 70, 80, 90, 100, 110, 120, 130, 140, 150, 160, 170, 180, 190, 200, 210, 220, 230, 240, 250, 260, 270, 280, 290, 300, 310, 320, 330, 340, 350, 360, 370, 380, 390, 400], \"y\": [10.0, 10.0, 10.0, 10.0, 10.0, 10.0, 10.0, 10.0, 10.0, 10.0, 10.0, 10.0, 10.0, 10.0, 10.0, 10.0, 10.0, 10.0, 10.0, 10.0, 10.0, 10.0, 10.0, 10.0, 10.0, 10.0, 10.0, 10.0, 10.0, 10.0, 10.0, 10.0, 10.0, 10.0, 10.0, 10.0, 10.57, 20.38, 28.54, 29.74]}, {\"mode\": \"lines+markers\", \"name\": \"flipped_source_att0\", \"type\": \"scatter\", \"x\": [10, 20, 30, 40, 50, 60, 70, 80, 90, 100, 110, 120, 130, 140, 150, 160, 170, 180, 190, 200, 210, 220, 230, 240, 250, 260, 270, 280, 290, 300, 310, 320, 330, 340, 350, 360, 370, 380, 390, 400], \"y\": [0.0, 0.0, 0.0, 0.0, 0.0, 0.0, 0.0, 0.0, 0.0, 0.0, 0.0, 0.0, 0.0, 0.0, 0.0, 0.0, 0.0, 0.0, 0.0, 0.0, 0.0, 0.0, 0.0, 0.0, 0.0, 0.0, 0.0, 0.0, 0.0, 0.0, 0.0, 0.0, 0.0, 0.0, 0.0, 0.0, 0.0, 0.0, 0.0, 18.6]}, {\"mode\": \"lines+markers\", \"name\": \"total_acc_att1\", \"type\": \"scatter\", \"x\": [10, 20, 30, 40, 50, 60, 70, 80, 90, 100, 110, 120, 130, 140, 150, 160, 170, 180, 190, 200, 210, 220, 230, 240, 250, 260, 270, 280, 290, 300, 310, 320, 330, 340, 350, 360, 370, 380, 390, 400], \"y\": [10.0, 10.0, 10.0, 10.0, 10.0, 10.0, 10.0, 10.0, 10.0, 10.0, 10.0, 10.0, 10.0, 10.0, 10.0, 10.0, 10.0, 10.0, 10.0, 10.0, 10.0, 10.0, 10.0, 10.0, 10.0, 10.0, 10.0, 10.0, 10.0, 10.0, 10.0, 10.0, 10.0, 10.0, 10.0, 10.0, 10.0, 10.0, 10.0, 10.0]}, {\"mode\": \"lines+markers\", \"name\": \"flipped_source_att1\", \"type\": \"scatter\", \"x\": [10, 20, 30, 40, 50, 60, 70, 80, 90, 100, 110, 120, 130, 140, 150, 160, 170, 180, 190, 200, 210, 220, 230, 240, 250, 260, 270, 280, 290, 300, 310, 320, 330, 340, 350, 360, 370, 380, 390, 400], \"y\": [0.0, 0.0, 0.0, 0.0, 0.0, 0.0, 0.0, 0.0, 0.0, 0.0, 0.0, 0.0, 0.0, 0.0, 0.0, 0.0, 0.0, 0.0, 0.0, 0.0, 0.0, 0.0, 0.0, 0.0, 0.0, 0.0, 0.0, 0.0, 0.0, 0.0, 0.0, 0.0, 0.0, 0.0, 0.0, 0.0, 0.0, 0.0, 0.0, 0.0]}],                        {\"template\": {\"data\": {\"bar\": [{\"error_x\": {\"color\": \"#2a3f5f\"}, \"error_y\": {\"color\": \"#2a3f5f\"}, \"marker\": {\"line\": {\"color\": \"#E5ECF6\", \"width\": 0.5}}, \"type\": \"bar\"}], \"barpolar\": [{\"marker\": {\"line\": {\"color\": \"#E5ECF6\", \"width\": 0.5}}, \"type\": \"barpolar\"}], \"carpet\": [{\"aaxis\": {\"endlinecolor\": \"#2a3f5f\", \"gridcolor\": \"white\", \"linecolor\": \"white\", \"minorgridcolor\": \"white\", \"startlinecolor\": \"#2a3f5f\"}, \"baxis\": {\"endlinecolor\": \"#2a3f5f\", \"gridcolor\": \"white\", \"linecolor\": \"white\", \"minorgridcolor\": \"white\", \"startlinecolor\": \"#2a3f5f\"}, \"type\": \"carpet\"}], \"choropleth\": [{\"colorbar\": {\"outlinewidth\": 0, \"ticks\": \"\"}, \"type\": \"choropleth\"}], \"contour\": [{\"colorbar\": {\"outlinewidth\": 0, \"ticks\": \"\"}, \"colorscale\": [[0.0, \"#0d0887\"], [0.1111111111111111, \"#46039f\"], [0.2222222222222222, \"#7201a8\"], [0.3333333333333333, \"#9c179e\"], [0.4444444444444444, \"#bd3786\"], [0.5555555555555556, \"#d8576b\"], [0.6666666666666666, \"#ed7953\"], [0.7777777777777778, \"#fb9f3a\"], [0.8888888888888888, \"#fdca26\"], [1.0, \"#f0f921\"]], \"type\": \"contour\"}], \"contourcarpet\": [{\"colorbar\": {\"outlinewidth\": 0, \"ticks\": \"\"}, \"type\": \"contourcarpet\"}], \"heatmap\": [{\"colorbar\": {\"outlinewidth\": 0, \"ticks\": \"\"}, \"colorscale\": [[0.0, \"#0d0887\"], [0.1111111111111111, \"#46039f\"], [0.2222222222222222, \"#7201a8\"], [0.3333333333333333, \"#9c179e\"], [0.4444444444444444, \"#bd3786\"], [0.5555555555555556, \"#d8576b\"], [0.6666666666666666, \"#ed7953\"], [0.7777777777777778, \"#fb9f3a\"], [0.8888888888888888, \"#fdca26\"], [1.0, \"#f0f921\"]], \"type\": \"heatmap\"}], \"heatmapgl\": [{\"colorbar\": {\"outlinewidth\": 0, \"ticks\": \"\"}, \"colorscale\": [[0.0, \"#0d0887\"], [0.1111111111111111, \"#46039f\"], [0.2222222222222222, \"#7201a8\"], [0.3333333333333333, \"#9c179e\"], [0.4444444444444444, \"#bd3786\"], [0.5555555555555556, \"#d8576b\"], [0.6666666666666666, \"#ed7953\"], [0.7777777777777778, \"#fb9f3a\"], [0.8888888888888888, \"#fdca26\"], [1.0, \"#f0f921\"]], \"type\": \"heatmapgl\"}], \"histogram\": [{\"marker\": {\"colorbar\": {\"outlinewidth\": 0, \"ticks\": \"\"}}, \"type\": \"histogram\"}], \"histogram2d\": [{\"colorbar\": {\"outlinewidth\": 0, \"ticks\": \"\"}, \"colorscale\": [[0.0, \"#0d0887\"], [0.1111111111111111, \"#46039f\"], [0.2222222222222222, \"#7201a8\"], [0.3333333333333333, \"#9c179e\"], [0.4444444444444444, \"#bd3786\"], [0.5555555555555556, \"#d8576b\"], [0.6666666666666666, \"#ed7953\"], [0.7777777777777778, \"#fb9f3a\"], [0.8888888888888888, \"#fdca26\"], [1.0, \"#f0f921\"]], \"type\": \"histogram2d\"}], \"histogram2dcontour\": [{\"colorbar\": {\"outlinewidth\": 0, \"ticks\": \"\"}, \"colorscale\": [[0.0, \"#0d0887\"], [0.1111111111111111, \"#46039f\"], [0.2222222222222222, \"#7201a8\"], [0.3333333333333333, \"#9c179e\"], [0.4444444444444444, \"#bd3786\"], [0.5555555555555556, \"#d8576b\"], [0.6666666666666666, \"#ed7953\"], [0.7777777777777778, \"#fb9f3a\"], [0.8888888888888888, \"#fdca26\"], [1.0, \"#f0f921\"]], \"type\": \"histogram2dcontour\"}], \"mesh3d\": [{\"colorbar\": {\"outlinewidth\": 0, \"ticks\": \"\"}, \"type\": \"mesh3d\"}], \"parcoords\": [{\"line\": {\"colorbar\": {\"outlinewidth\": 0, \"ticks\": \"\"}}, \"type\": \"parcoords\"}], \"pie\": [{\"automargin\": true, \"type\": \"pie\"}], \"scatter\": [{\"marker\": {\"colorbar\": {\"outlinewidth\": 0, \"ticks\": \"\"}}, \"type\": \"scatter\"}], \"scatter3d\": [{\"line\": {\"colorbar\": {\"outlinewidth\": 0, \"ticks\": \"\"}}, \"marker\": {\"colorbar\": {\"outlinewidth\": 0, \"ticks\": \"\"}}, \"type\": \"scatter3d\"}], \"scattercarpet\": [{\"marker\": {\"colorbar\": {\"outlinewidth\": 0, \"ticks\": \"\"}}, \"type\": \"scattercarpet\"}], \"scattergeo\": [{\"marker\": {\"colorbar\": {\"outlinewidth\": 0, \"ticks\": \"\"}}, \"type\": \"scattergeo\"}], \"scattergl\": [{\"marker\": {\"colorbar\": {\"outlinewidth\": 0, \"ticks\": \"\"}}, \"type\": \"scattergl\"}], \"scattermapbox\": [{\"marker\": {\"colorbar\": {\"outlinewidth\": 0, \"ticks\": \"\"}}, \"type\": \"scattermapbox\"}], \"scatterpolar\": [{\"marker\": {\"colorbar\": {\"outlinewidth\": 0, \"ticks\": \"\"}}, \"type\": \"scatterpolar\"}], \"scatterpolargl\": [{\"marker\": {\"colorbar\": {\"outlinewidth\": 0, \"ticks\": \"\"}}, \"type\": \"scatterpolargl\"}], \"scatterternary\": [{\"marker\": {\"colorbar\": {\"outlinewidth\": 0, \"ticks\": \"\"}}, \"type\": \"scatterternary\"}], \"surface\": [{\"colorbar\": {\"outlinewidth\": 0, \"ticks\": \"\"}, \"colorscale\": [[0.0, \"#0d0887\"], [0.1111111111111111, \"#46039f\"], [0.2222222222222222, \"#7201a8\"], [0.3333333333333333, \"#9c179e\"], [0.4444444444444444, \"#bd3786\"], [0.5555555555555556, \"#d8576b\"], [0.6666666666666666, \"#ed7953\"], [0.7777777777777778, \"#fb9f3a\"], [0.8888888888888888, \"#fdca26\"], [1.0, \"#f0f921\"]], \"type\": \"surface\"}], \"table\": [{\"cells\": {\"fill\": {\"color\": \"#EBF0F8\"}, \"line\": {\"color\": \"white\"}}, \"header\": {\"fill\": {\"color\": \"#C8D4E3\"}, \"line\": {\"color\": \"white\"}}, \"type\": \"table\"}]}, \"layout\": {\"annotationdefaults\": {\"arrowcolor\": \"#2a3f5f\", \"arrowhead\": 0, \"arrowwidth\": 1}, \"autotypenumbers\": \"strict\", \"coloraxis\": {\"colorbar\": {\"outlinewidth\": 0, \"ticks\": \"\"}}, \"colorscale\": {\"diverging\": [[0, \"#8e0152\"], [0.1, \"#c51b7d\"], [0.2, \"#de77ae\"], [0.3, \"#f1b6da\"], [0.4, \"#fde0ef\"], [0.5, \"#f7f7f7\"], [0.6, \"#e6f5d0\"], [0.7, \"#b8e186\"], [0.8, \"#7fbc41\"], [0.9, \"#4d9221\"], [1, \"#276419\"]], \"sequential\": [[0.0, \"#0d0887\"], [0.1111111111111111, \"#46039f\"], [0.2222222222222222, \"#7201a8\"], [0.3333333333333333, \"#9c179e\"], [0.4444444444444444, \"#bd3786\"], [0.5555555555555556, \"#d8576b\"], [0.6666666666666666, \"#ed7953\"], [0.7777777777777778, \"#fb9f3a\"], [0.8888888888888888, \"#fdca26\"], [1.0, \"#f0f921\"]], \"sequentialminus\": [[0.0, \"#0d0887\"], [0.1111111111111111, \"#46039f\"], [0.2222222222222222, \"#7201a8\"], [0.3333333333333333, \"#9c179e\"], [0.4444444444444444, \"#bd3786\"], [0.5555555555555556, \"#d8576b\"], [0.6666666666666666, \"#ed7953\"], [0.7777777777777778, \"#fb9f3a\"], [0.8888888888888888, \"#fdca26\"], [1.0, \"#f0f921\"]]}, \"colorway\": [\"#636efa\", \"#EF553B\", \"#00cc96\", \"#ab63fa\", \"#FFA15A\", \"#19d3f3\", \"#FF6692\", \"#B6E880\", \"#FF97FF\", \"#FECB52\"], \"font\": {\"color\": \"#2a3f5f\"}, \"geo\": {\"bgcolor\": \"white\", \"lakecolor\": \"white\", \"landcolor\": \"#E5ECF6\", \"showlakes\": true, \"showland\": true, \"subunitcolor\": \"white\"}, \"hoverlabel\": {\"align\": \"left\"}, \"hovermode\": \"closest\", \"mapbox\": {\"style\": \"light\"}, \"paper_bgcolor\": \"white\", \"plot_bgcolor\": \"#E5ECF6\", \"polar\": {\"angularaxis\": {\"gridcolor\": \"white\", \"linecolor\": \"white\", \"ticks\": \"\"}, \"bgcolor\": \"#E5ECF6\", \"radialaxis\": {\"gridcolor\": \"white\", \"linecolor\": \"white\", \"ticks\": \"\"}}, \"scene\": {\"xaxis\": {\"backgroundcolor\": \"#E5ECF6\", \"gridcolor\": \"white\", \"gridwidth\": 2, \"linecolor\": \"white\", \"showbackground\": true, \"ticks\": \"\", \"zerolinecolor\": \"white\"}, \"yaxis\": {\"backgroundcolor\": \"#E5ECF6\", \"gridcolor\": \"white\", \"gridwidth\": 2, \"linecolor\": \"white\", \"showbackground\": true, \"ticks\": \"\", \"zerolinecolor\": \"white\"}, \"zaxis\": {\"backgroundcolor\": \"#E5ECF6\", \"gridcolor\": \"white\", \"gridwidth\": 2, \"linecolor\": \"white\", \"showbackground\": true, \"ticks\": \"\", \"zerolinecolor\": \"white\"}}, \"shapedefaults\": {\"line\": {\"color\": \"#2a3f5f\"}}, \"ternary\": {\"aaxis\": {\"gridcolor\": \"white\", \"linecolor\": \"white\", \"ticks\": \"\"}, \"baxis\": {\"gridcolor\": \"white\", \"linecolor\": \"white\", \"ticks\": \"\"}, \"bgcolor\": \"#E5ECF6\", \"caxis\": {\"gridcolor\": \"white\", \"linecolor\": \"white\", \"ticks\": \"\"}}, \"title\": {\"x\": 0.05}, \"xaxis\": {\"automargin\": true, \"gridcolor\": \"white\", \"linecolor\": \"white\", \"ticks\": \"\", \"title\": {\"standoff\": 15}, \"zerolinecolor\": \"white\", \"zerolinewidth\": 2}, \"yaxis\": {\"automargin\": true, \"gridcolor\": \"white\", \"linecolor\": \"white\", \"ticks\": \"\", \"title\": {\"standoff\": 15}, \"zerolinecolor\": \"white\", \"zerolinewidth\": 2}}}, \"title\": {\"text\": \"Accuracy Evolution\"}, \"xaxis\": {\"title\": {\"text\": \"Round Num\"}}, \"yaxis\": {\"title\": {\"text\": \"Accuracy\"}}},                        {\"responsive\": true}                    ).then(function(){\n",
       "                            \n",
       "var gd = document.getElementById('775cc5cb-743b-45d1-8174-d2947654ca7e');\n",
       "var x = new MutationObserver(function (mutations, observer) {{\n",
       "        var display = window.getComputedStyle(gd).display;\n",
       "        if (!display || display === 'none') {{\n",
       "            console.log([gd, 'removed!']);\n",
       "            Plotly.purge(gd);\n",
       "            observer.disconnect();\n",
       "        }}\n",
       "}});\n",
       "\n",
       "// Listen for the removal of the full notebook cells\n",
       "var notebookContainer = gd.closest('#notebook-container');\n",
       "if (notebookContainer) {{\n",
       "    x.observe(notebookContainer, {childList: true});\n",
       "}}\n",
       "\n",
       "// Listen for the clearing of the current output cell\n",
       "var outputEl = gd.closest('.output');\n",
       "if (outputEl) {{\n",
       "    x.observe(outputEl, {childList: true});\n",
       "}}\n",
       "\n",
       "                        })                };                });            </script>        </div>"
      ]
     },
     "metadata": {},
     "output_type": "display_data"
    }
   ],
   "source": [
    "atts = [0, 1]\n",
    "all_data_dfs = []\n",
    "all_data_dfs.append(get_test_data_df(files_dict['file_c20_p20_a0']))\n",
    "all_data_dfs.append(get_test_data_df(files_dict['file_c20_p20_a1']))\n",
    "\n",
    "# Create traces\n",
    "fig = go.Figure()\n",
    "for att, data_df in zip(atts, all_data_dfs):\n",
    "\n",
    "    fig.add_trace(go.Scatter(x=data_df['round_num'], y=data_df['total_acc'],\n",
    "                        mode='lines+markers',\n",
    "                        name=f'total_acc_att{att}'))\n",
    "\n",
    "    fig.add_trace(go.Scatter(x=data_df['round_num'], y=data_df['class_2_acc'],\n",
    "                        mode='lines+markers',\n",
    "                        name=f'flipped_source_att{att}'))\n",
    "\n",
    "#     fig.add_trace(go.Scatter(x=data_df['round_num'], y=data_df['class_9_acc'],\n",
    "#                         mode='lines+markers',\n",
    "#                         name=f'flipped_target_att{att}'))\n",
    "\n",
    "fig.update_layout(title='Accuracy Evolution',\n",
    "                   xaxis_title='Round Num',\n",
    "                   yaxis_title='Accuracy')\n",
    "fig.show()\n"
   ]
  },
  {
   "cell_type": "markdown",
   "id": "960a8af7",
   "metadata": {},
   "source": [
    "## Plotting avg training loss and testing loss\n",
    "when p_per increases for c_per=20"
   ]
  },
  {
   "cell_type": "code",
   "execution_count": 18,
   "id": "ff945b31",
   "metadata": {},
   "outputs": [
    {
     "data": {
      "application/vnd.plotly.v1+json": {
       "config": {
        "plotlyServerURL": "https://plot.ly"
       },
       "data": [
        {
         "mode": "lines",
         "name": "c_per_20_p_per_00",
         "type": "scatter",
         "x": [
          0,
          1,
          2,
          3,
          4,
          5,
          6,
          7,
          8,
          9,
          10,
          11,
          12,
          13,
          14,
          15,
          16,
          17,
          18,
          19,
          20,
          21,
          22,
          23,
          24,
          25,
          26,
          27,
          28,
          29,
          30,
          31,
          32,
          33,
          34,
          35,
          36,
          37,
          38,
          39,
          40,
          41,
          42,
          43,
          44,
          45,
          46,
          47,
          48,
          49,
          50,
          51,
          52,
          53,
          54,
          55,
          56,
          57,
          58,
          59,
          60,
          61,
          62,
          63,
          64,
          65,
          66,
          67,
          68,
          69,
          70,
          71,
          72,
          73,
          74,
          75,
          76,
          77,
          78,
          79,
          80,
          81,
          82,
          83,
          84,
          85,
          86,
          87,
          88,
          89,
          90,
          91,
          92,
          93,
          94,
          95,
          96,
          97,
          98,
          99,
          100,
          101,
          102,
          103,
          104,
          105,
          106,
          107,
          108,
          109,
          110,
          111,
          112,
          113,
          114,
          115,
          116,
          117,
          118,
          119,
          120,
          121,
          122,
          123,
          124,
          125,
          126,
          127,
          128,
          129,
          130,
          131,
          132,
          133,
          134,
          135,
          136,
          137,
          138,
          139,
          140,
          141,
          142,
          143,
          144,
          145,
          146,
          147,
          148,
          149,
          150,
          151,
          152,
          153,
          154,
          155,
          156,
          157,
          158,
          159,
          160,
          161,
          162,
          163,
          164,
          165,
          166,
          167,
          168,
          169,
          170,
          171,
          172,
          173,
          174,
          175,
          176,
          177,
          178,
          179,
          180,
          181,
          182,
          183,
          184,
          185,
          186,
          187,
          188,
          189,
          190,
          191,
          192,
          193,
          194,
          195,
          196,
          197,
          198,
          199,
          200,
          201,
          202,
          203,
          204,
          205,
          206,
          207,
          208,
          209,
          210,
          211,
          212,
          213,
          214,
          215,
          216,
          217,
          218,
          219,
          220,
          221,
          222,
          223,
          224,
          225,
          226,
          227,
          228,
          229,
          230,
          231,
          232,
          233,
          234,
          235,
          236,
          237,
          238,
          239,
          240,
          241,
          242,
          243,
          244,
          245,
          246,
          247,
          248,
          249,
          250,
          251,
          252,
          253,
          254,
          255,
          256,
          257,
          258,
          259,
          260,
          261,
          262,
          263,
          264,
          265,
          266,
          267,
          268,
          269,
          270,
          271,
          272,
          273,
          274,
          275,
          276,
          277,
          278,
          279,
          280,
          281,
          282,
          283,
          284,
          285,
          286,
          287,
          288,
          289,
          290,
          291,
          292,
          293,
          294,
          295,
          296,
          297,
          298,
          299,
          300,
          301,
          302,
          303,
          304,
          305,
          306,
          307,
          308,
          309,
          310,
          311,
          312,
          313,
          314,
          315,
          316,
          317,
          318,
          319,
          320,
          321,
          322,
          323,
          324,
          325,
          326,
          327,
          328,
          329,
          330,
          331,
          332,
          333,
          334,
          335,
          336,
          337,
          338,
          339,
          340,
          341,
          342,
          343,
          344,
          345,
          346,
          347,
          348,
          349,
          350,
          351,
          352,
          353,
          354,
          355,
          356,
          357,
          358,
          359,
          360,
          361,
          362,
          363,
          364,
          365,
          366,
          367,
          368,
          369,
          370,
          371,
          372,
          373,
          374,
          375,
          376,
          377,
          378,
          379,
          380,
          381,
          382,
          383,
          384,
          385,
          386,
          387,
          388,
          389,
          390,
          391,
          392,
          393,
          394,
          395,
          396,
          397,
          398,
          399
         ],
         "y": [
          2.3164772260994746,
          2.1633431829512118,
          2.115613877152403,
          2.0760801331450542,
          2.0520062977448106,
          2.065957635392745,
          2.04725190444539,
          2.030686594483753,
          2.004631110653281,
          2.0318882539247474,
          2.028151724177102,
          2.003253217600286,
          2.016681844430665,
          2.009918228847285,
          1.9829107711712521,
          2.0353341657668356,
          2.0100182019794977,
          2.0029171314090495,
          2.046069449310501,
          2.0261287645126385,
          2.010958014242351,
          2.0324683926378686,
          2.0284781776989504,
          2.0106852455685535,
          2.0371392454952,
          1.994018297145764,
          2.0092007643232743,
          2.019510427614053,
          2.037372734273473,
          2.0176573817928634,
          2.013039281653861,
          2.0414184790104626,
          2.0077651829769216,
          2.0501626159374915,
          1.9996410923078656,
          2.0319238239588833,
          2.0150481874123214,
          2.045884480245877,
          2.023936325280616,
          2.0111168149237826,
          2.077211721241489,
          2.04510338678956,
          2.0129905986910064,
          2.018331334491571,
          1.9999015018964805,
          2.021016616684695,
          2.027114222074548,
          2.0116739561160406,
          2.0153988293061653,
          2.0436407893585664,
          2.0250700435290736,
          2.0466382483020427,
          2.0204205056652422,
          2.01193521466727,
          2.036331654153764,
          2.0342186223094663,
          2.027179867091278,
          1.9974988967490692,
          2.014192395595213,
          2.0156010083854197,
          2.026319853651027,
          1.991391364329805,
          2.0140351093374194,
          1.986341121420264,
          2.028236563379566,
          2.0470374583887554,
          2.008991300594062,
          2.032209896296263,
          2.0224213746997215,
          2.034588558971882,
          1.998144421602289,
          2.0161122190766028,
          2.026308259088546,
          2.008701716021945,
          2.0023008007556204,
          2.0103801585733887,
          2.03671834776178,
          2.017692709093293,
          2.006610129214823,
          2.0186773563735185,
          2.0361506188306526,
          2.029110889912894,
          2.041632530155281,
          2.0202422666673856,
          1.993195821437985,
          2.012519502174109,
          2.038104730192572,
          2.005667722628762,
          2.008881899404029,
          1.9941366109376155,
          2.0265088997160396,
          2.018865428554515,
          2.0301168461019787,
          2.023234739837547,
          1.9951072139665484,
          2.021968257489304,
          2.02845003635933,
          2.0502870315685864,
          1.999558116402477,
          1.9761623424167432,
          2.0190977223527926,
          2.010495936218649,
          2.0132361994124945,
          2.048613140421609,
          2.02969606158634,
          2.009093851844469,
          2.0151994153236346,
          2.0215344856182735,
          2.0364982607929663,
          2.0393004888668655,
          2.0186140343546866,
          2.014690694709619,
          1.9918841978535056,
          2.0039589127525685,
          2.0458065551705658,
          2.0029237747813267,
          2.0431180180981756,
          2.0176540639872353,
          2.0235010070726274,
          2.023617942569156,
          2.0166114004639293,
          2.0178928607453903,
          2.0092767172803483,
          2.037931136103968,
          1.9878628920142856,
          2.0211483793643614,
          2.0391577354321875,
          2.0071123687550427,
          2.0074386366332573,
          2.0333697241420547,
          2.0227598157400886,
          2.031182855181396,
          2.025621919892728,
          1.9933387978933754,
          1.9983800674788654,
          2.0478347399582466,
          2.012637064357598,
          2.022993005625904,
          1.9882860105484723,
          2.0248871659860015,
          2.0290060846135023,
          2.028895706869662,
          2.036721884769698,
          2.016328801276783,
          2.020297699856261,
          1.9729103670145076,
          2.059826187044382,
          2.0315916344523433,
          2.009278908744455,
          2.054533087089658,
          2.0032649995759133,
          2.0443980374218276,
          2.015135768645753,
          1.9829073891664541,
          2.014248897011081,
          2.029910007553796,
          2.0334730112925175,
          2.0188928204899033,
          2.014817922686537,
          2.015884819068015,
          2.015655114191274,
          2.0305824712229272,
          2.040399755785863,
          2.01987554791073,
          2.0429506542161104,
          2.0162507429718968,
          1.9987022339676817,
          2.1173109888553503,
          1.9499269929404062,
          2.065392151102424,
          1.9791630393515032,
          2.0127860262989996,
          2.0266869181146223,
          2.0364656964316965,
          2.0046629175543784,
          2.042644718103111,
          1.9989950148388744,
          2.015084676754971,
          2.0456079073250297,
          1.9958479737862942,
          2.025242576810221,
          2.0131552462155624,
          2.030277360851566,
          2.043584110401571,
          2.018955939666678,
          2.038599490622679,
          2.049742020231982,
          2.0013394741962354,
          2.0228008860101303,
          2.0218857659647864,
          2.019667176964382,
          2.0210051347812015,
          1.9944923782721162,
          2.0240291568761073,
          2.0127019833773376,
          2.026912141032517,
          2.0359384318192797,
          2.04575531968488,
          2.025610076946517,
          2.009442161085705,
          2.0149979850277306,
          2.028159307672952,
          1.9969174717863407,
          2.027548132898907,
          1.9940215720484655,
          2.037912233856817,
          1.967533485374103,
          2.178967800224027,
          2.0193207163363693,
          2.032900975830853,
          2.05103984841456,
          2.0245852988213304,
          2.038527622570594,
          2.030643261782825,
          2.027232877848049,
          2.026979379480083,
          2.046436837315559,
          2.014562934885422,
          2.0431386276458694,
          2.0444795411701002,
          2.044994877030452,
          2.002407243506362,
          2.0029658196493982,
          2.018412457468609,
          1.9992596091702584,
          2.007278581708669,
          2.05130925818036,
          2.018260183930397,
          1.9866422186295192,
          2.0665435874213776,
          2.0376329678421223,
          2.0425024308885136,
          2.0022378136714294,
          2.012861928716302,
          2.1266538123834016,
          2.032304486818611,
          2.0009019774074357,
          2.0324738968163727,
          1.9881675098091367,
          2.0378040083063147,
          2.015589562399934,
          2.0256219350422424,
          2.021515567476551,
          2.0059140294790265,
          2.0105993873129284,
          2.000054724514484,
          2.0102495200311146,
          2.026779988656441,
          2.040508767589927,
          2.0150723571578664,
          2.0256377548600235,
          2.0311912025053362,
          2.0165285727630065,
          2.0299545601320763,
          2.0073015026127297,
          2.035949964014192,
          2.019169795885682,
          2.044473959878087,
          2.0088271809741856,
          2.0179333185156185,
          1.9976303218553464,
          2.0125271840331456,
          2.0360368081678946,
          1.9978057449062667,
          2.03522837733229,
          2.038482583252092,
          2.01269294389834,
          2.0006310477231937,
          2.0075840990369516,
          2.005536031226317,
          1.9965220104902983,
          2.0624720171093944,
          2.010536775055031,
          2.0231188092380763,
          2.0253216531748572,
          2.0168211462597045,
          2.0144300809750955,
          2.0025662601614993,
          2.008157982242604,
          2.0197930674999944,
          1.9784020859127243,
          2.046996014441053,
          2.031540328450501,
          2.0086836164196336,
          2.0140339254712063,
          2.0292093326648084,
          2.006528028907875,
          2.0372114913538097,
          2.0426235224430758,
          2.0061029293263957,
          2.001587218294541,
          2.0321336957936484,
          2.0075046394641203,
          1.9725700275972486,
          2.014200206225117,
          1.969222811112801,
          2.0139491649344565,
          2.0077610470975435,
          2.0264136765773095,
          2.0202574159329134,
          2.0270110792169964,
          2.039587446550528,
          2.0402765774478513,
          2.0218504677837097,
          2.0269087268660466,
          2.008528808224946,
          2.023404535464943,
          2.0363381333649153,
          2.007005817629397,
          2.0042778111373383,
          2.003449879586697,
          2.004149526419739,
          1.9913712864431243,
          2.042175573048492,
          2.0328757505863906,
          2.006181125839551,
          2.0123686378821732,
          2.015680312116941,
          2.0083416392405833,
          2.0143981356173755,
          2.0075387438759207,
          2.0596826484426853,
          2.042883327168723,
          2.0137328891083603,
          2.019163974064092,
          2.0479791584114233,
          2.001718438168367,
          1.9758581584319472,
          2.0508166522042304,
          2.030169839939723,
          1.9426724705224234,
          1.9757595457602293,
          1.9126075264997784,
          1.9925186735422655,
          1.9440275486985534,
          1.875489182878907,
          1.9348430973050808,
          1.8972091947682201,
          1.8345644777330257,
          1.8454337870391704,
          1.815288175021608,
          1.7840753788904593,
          1.763601777485262,
          1.7308539025795955,
          1.7793822524722294,
          1.7395738357988495,
          1.7004089357331391,
          1.7073413252830505,
          1.6522221970682343,
          1.6785257495008405,
          1.671951452984164,
          1.6439408289268613,
          1.6138860661536452,
          1.6205713912534219,
          1.62540987127771,
          1.6301452450143796,
          1.581013801600784,
          1.6252393063157797,
          1.607791026526441,
          1.6052156346229214,
          1.5742152701131997,
          1.5386524410763136,
          1.5809022651364408,
          1.5664440994461377,
          1.5720471697238585,
          1.540413749932001,
          1.5612026542425153,
          1.5480197903700172,
          1.5065030878099304,
          1.5268197374418375,
          1.538413721990461,
          1.5606237821280953,
          1.49767521348161,
          1.4974506366377074,
          1.5260782439882554,
          1.4941152576357126,
          1.5002690970432013,
          1.511860323790461,
          1.526688354027768,
          1.5035677293470748,
          1.5346940801634144,
          1.4599893003081283,
          1.5451973840283855,
          1.4676294074393808,
          1.4941084902888782,
          1.479495457994441,
          1.4337732429150492,
          1.4771831739849102,
          1.4723530568337688,
          1.4588325732232383,
          1.4645445941636963,
          1.4835237596960118,
          1.4726956601875523,
          1.4610154448697963,
          1.4877146912738684,
          1.4606386600217471,
          1.4048102445745223,
          1.4258607160144798,
          1.4134219985300054,
          1.45497462033915
         ]
        },
        {
         "mode": "lines",
         "name": "c_per_20_p_per_10",
         "type": "scatter",
         "x": [
          0,
          1,
          2,
          3,
          4,
          5,
          6,
          7,
          8,
          9,
          10,
          11,
          12,
          13,
          14,
          15,
          16,
          17,
          18,
          19,
          20,
          21,
          22,
          23,
          24,
          25,
          26,
          27,
          28,
          29,
          30,
          31,
          32,
          33,
          34,
          35,
          36,
          37,
          38,
          39,
          40,
          41,
          42,
          43,
          44,
          45,
          46,
          47,
          48,
          49,
          50,
          51,
          52,
          53,
          54,
          55,
          56,
          57,
          58,
          59,
          60,
          61,
          62,
          63,
          64,
          65,
          66,
          67,
          68,
          69,
          70,
          71,
          72,
          73,
          74,
          75,
          76,
          77,
          78,
          79,
          80,
          81,
          82,
          83,
          84,
          85,
          86,
          87,
          88,
          89,
          90,
          91,
          92,
          93,
          94,
          95,
          96,
          97,
          98,
          99,
          100,
          101,
          102,
          103,
          104,
          105,
          106,
          107,
          108,
          109,
          110,
          111,
          112,
          113,
          114,
          115,
          116,
          117,
          118,
          119,
          120,
          121,
          122,
          123,
          124,
          125,
          126,
          127,
          128,
          129,
          130,
          131,
          132,
          133,
          134,
          135,
          136,
          137,
          138,
          139,
          140,
          141,
          142,
          143,
          144,
          145,
          146,
          147,
          148,
          149,
          150,
          151,
          152,
          153,
          154,
          155,
          156,
          157,
          158,
          159,
          160,
          161,
          162,
          163,
          164,
          165,
          166,
          167,
          168,
          169,
          170,
          171,
          172,
          173,
          174,
          175,
          176,
          177,
          178,
          179,
          180,
          181,
          182,
          183,
          184,
          185,
          186,
          187,
          188,
          189,
          190,
          191,
          192,
          193,
          194,
          195,
          196,
          197,
          198,
          199,
          200,
          201,
          202,
          203,
          204,
          205,
          206,
          207,
          208,
          209,
          210,
          211,
          212,
          213,
          214,
          215,
          216,
          217,
          218,
          219,
          220,
          221,
          222,
          223,
          224,
          225,
          226,
          227,
          228,
          229,
          230,
          231,
          232,
          233,
          234,
          235,
          236,
          237,
          238,
          239,
          240,
          241,
          242,
          243,
          244,
          245,
          246,
          247,
          248,
          249,
          250,
          251,
          252,
          253,
          254,
          255,
          256,
          257,
          258,
          259,
          260,
          261,
          262,
          263,
          264,
          265,
          266,
          267,
          268,
          269,
          270,
          271,
          272,
          273,
          274,
          275,
          276,
          277,
          278,
          279,
          280,
          281,
          282,
          283,
          284,
          285,
          286,
          287,
          288,
          289,
          290,
          291,
          292,
          293,
          294,
          295,
          296,
          297,
          298,
          299,
          300,
          301,
          302,
          303,
          304,
          305,
          306,
          307,
          308,
          309,
          310,
          311,
          312,
          313,
          314,
          315,
          316,
          317,
          318,
          319,
          320,
          321,
          322,
          323,
          324,
          325,
          326,
          327,
          328,
          329,
          330,
          331,
          332,
          333,
          334,
          335,
          336,
          337,
          338,
          339,
          340,
          341,
          342,
          343,
          344,
          345,
          346,
          347,
          348,
          349,
          350,
          351,
          352,
          353,
          354,
          355,
          356,
          357,
          358,
          359,
          360,
          361,
          362,
          363,
          364,
          365,
          366,
          367,
          368,
          369,
          370,
          371,
          372,
          373,
          374,
          375,
          376,
          377,
          378,
          379,
          380,
          381,
          382,
          383,
          384,
          385,
          386,
          387,
          388,
          389,
          390,
          391,
          392,
          393,
          394,
          395,
          396,
          397,
          398,
          399
         ],
         "y": [
          2.7338502062051364,
          2.135928802036991,
          2.087893441009025,
          2.052481939209004,
          2.027503793065747,
          2.0479145249351864,
          2.0356139207258823,
          2.0293591745197768,
          2.010786733962595,
          1.9767207718143858,
          1.9955495776608587,
          2.0024428042893607,
          2.027597085696955,
          2.0081289817268653,
          1.986151508769641,
          2.0377666605015596,
          1.9941341798752545,
          2.0122576794897515,
          2.0176568629841007,
          2.0180958370367685,
          2.013216522398095,
          1.983256186017146,
          2.019156622079511,
          2.0082382184142866,
          2.041875031590462,
          1.9839247935141124,
          2.0521309237616756,
          2.028002004263302,
          2.039380366106828,
          2.0078282081211607,
          2.018172951135784,
          1.9975527320678037,
          2.006674943429729,
          2.0238216613419353,
          2.047802254992227,
          1.9947557843911157,
          2.032435667794198,
          2.0380833476781848,
          2.0117844555526974,
          2.0256671860193207,
          2.0244199881330127,
          2.0155837253356976,
          2.0425656924024223,
          2.039490782779952,
          1.9595373902780318,
          2.0398344542831177,
          1.9708169875356056,
          2.014977515209466,
          2.021786128077656,
          2.0185561115543047,
          1.9990858740483717,
          1.9840390538175896,
          1.99837468660747,
          2.0404561787843707,
          2.0343373170432946,
          1.9745625372976068,
          2.0386178659896053,
          1.9949574862296384,
          2.0565570387989283,
          2.00384686725835,
          2.0500528452297053,
          2.0336069010198115,
          2.0316001165968673,
          2.013437236348788,
          2.0427975043654443,
          2.0396094921355443,
          2.035667523245017,
          1.984148537833244,
          2.057015868090093,
          1.958073413496216,
          2.0456110408529637,
          2.0270655643194915,
          2.0180751726031305,
          2.0097233540068067,
          2.0254198374226693,
          2.0548247881854578,
          2.031832362897694,
          2.0030266193052126,
          1.993372749754538,
          1.9991648367295667,
          2.0041447332439324,
          1.9663858332981665,
          2.0357539111437895,
          2.024201615341008,
          2.0083610279796025,
          2.0497058263048533,
          2.0079340546702347,
          2.011654392412553,
          2.0044571293828386,
          2.0529510594904425,
          1.9983453420301274,
          2.020499899641922,
          2.0164328734079993,
          1.9938770742466052,
          2.0057381692652902,
          2.0044480765238406,
          2.015906970451275,
          2.0271701621512572,
          2.020174695023646,
          2.0081581516191362,
          2.002880035744359,
          2.0075913021340965,
          2.015250696831693,
          1.986442904484769,
          2.018412704734753,
          2.0363928210611144,
          1.9642126654895642,
          2.011733214495083,
          1.9770606595712406,
          2.0312094321474428,
          2.046248308755457,
          2.012358171803256,
          1.9849644562850401,
          2.010071175917983,
          2.005006786994636,
          2.0192015657201408,
          1.973904348164797,
          2.0347208058151103,
          1.959406189993024,
          2.0075278636688987,
          2.0054329984821377,
          2.001738374587149,
          2.035377626524617,
          1.994372058628748,
          2.006865500969192,
          2.0107578678677482,
          2.0259298328931132,
          2.0191969298447168,
          2.018109376076609,
          2.0195242670675113,
          2.0087114873963094,
          1.9882096524350348,
          1.9645347103786972,
          2.032762267254293,
          2.0015556648994486,
          1.9888531276335317,
          2.0470764740370213,
          2.00992773550873,
          2.0178414771333335,
          2.00511834823216,
          1.9947732872329655,
          1.9962382164162893,
          2.0228938162326817,
          1.984162514905135,
          2.0269796047980586,
          2.037173876600961,
          2.0172516822504503,
          2.004538040608167,
          1.9977800915638606,
          2.0168103688086076,
          1.9858820663765073,
          2.001582787123819,
          2.018829394318163,
          1.9908023423204821,
          1.9856170023481048,
          1.9860758299008012,
          2.016226362002393,
          2.003686835430563,
          1.9769531129548947,
          1.996338998526334,
          2.034098162315786,
          2.0140314186612764,
          2.031006107168893,
          2.0064222143031656,
          2.037831833027303,
          2.0082037248959144,
          2.005632588795076,
          2.0219223385055862,
          2.020886013781031,
          2.0427220630149048,
          2.0217520928631223,
          2.0182449290218454,
          1.9918824980656307,
          1.9881483016225192,
          2.025128659171363,
          2.0444889115790525,
          2.045044590656956,
          1.996013629436493,
          2.0096852011668185,
          2.038729097197453,
          1.9939160509966314,
          1.990828311784814,
          2.000975876922409,
          2.0452917353560527,
          2.035520156286657,
          1.9967561502630513,
          1.996147188389053,
          2.0019185169289506,
          2.0093352095534405,
          1.9866121994641919,
          2.0267024045810107,
          2.022823116245369,
          2.0142654774089657,
          2.012179841628919,
          2.0282899931694067,
          2.0126366984720034,
          2.0013333060157796,
          1.9621915462737285,
          2.0127029756704973,
          1.9878163280896843,
          1.9690506201237443,
          2.0149459200290343,
          1.9903529830276967,
          2.019659844941149,
          2.0161194803814095,
          1.980422840639949,
          2.03909909799695,
          1.9992666814165805,
          2.038720800851782,
          2.0138139963770905,
          1.9994087455173333,
          2.011036933989575,
          1.9804925807751714,
          2.0209564313292505,
          2.0527775661398975,
          2.00522113777697,
          2.008828289092828,
          2.024812489127119,
          1.9841827515512702,
          1.9941847930351895,
          2.0222334747823583,
          1.9889060595072803,
          2.0129631643493964,
          2.019528099553039,
          2.0101797017268836,
          2.057740056080123,
          1.9880480203777555,
          1.988869725912809,
          2.0480082650979363,
          2.0193926009039087,
          2.0262254221364855,
          2.0437564802045625,
          2.04279440647612,
          2.0185329735899966,
          2.0063443644593164,
          2.0277605513110757,
          2.047948487785956,
          2.0167051182749365,
          2.002960476713876,
          2.0480928584933276,
          1.9853071187622848,
          2.0047144974271456,
          1.9859503697603942,
          2.044688593968749,
          2.013475927027563,
          2.0033872502235077,
          1.9953181793913246,
          1.9969519349125526,
          2.0166815225034957,
          2.0016870929549135,
          2.0286099791526793,
          1.9873035737002887,
          2.0205004588079953,
          1.9965342088912927,
          2.013641091436148,
          1.9760341744869951,
          2.0871179235478245,
          1.9477645732772841,
          2.075488598893086,
          1.9942409950929385,
          1.9825230482034382,
          2.0059234078973533,
          1.9746786462453507,
          2.0103951159554225,
          1.9832366721704602,
          2.013884322345257,
          2.0481149895737567,
          1.9919434325148662,
          2.023861220572144,
          2.041990703220169,
          2.0082525637311237,
          2.039902115861575,
          1.9951214380562305,
          2.0183116724714636,
          2.022593129488329,
          1.9877848230302337,
          1.9904901723377406,
          2.002292436361313,
          2.001951041848709,
          2.0132718689739706,
          2.008129955952366,
          2.0067284932980933,
          2.0101202012971044,
          2.0355458491171396,
          2.005881477209429,
          2.0358573767667014,
          1.9837636418951052,
          2.0119904172606766,
          1.9883943135539692,
          2.019592540493856,
          2.0215317275996014,
          2.0042597327070926,
          2.016806566901505,
          1.9895561306426923,
          2.0387573249017197,
          1.9802907215431333,
          2.0219869806120787,
          2.0221691378702724,
          2.0228811933348574,
          1.9680488937844836,
          2.0205887144431474,
          1.970938656385988,
          2.0480319814756514,
          2.0336696157542367,
          2.0100875636562705,
          2.022979466927548,
          2.0224714786745603,
          1.9827060202447075,
          1.997518363936494,
          1.959179483509312,
          2.035462324724843,
          2.0087439748769005,
          2.0271556056415045,
          2.0337156593178713,
          1.9627947359966735,
          2.0509167661890393,
          1.9752778348202504,
          2.010557089808087,
          1.9716258212303113,
          2.018562294666966,
          2.007523194514215,
          2.0034083168643217,
          2.0235516836245857,
          2.0509717492386703,
          2.039686468740305,
          2.013942838460207,
          2.001146210171282,
          2.040530510619283,
          2.0452459848175444,
          1.9838749960064888,
          2.011794594209641,
          2.0299521312738458,
          1.997528416973849,
          1.979179825074971,
          2.0377794747551286,
          1.9911604672359924,
          1.9960863417014476,
          2.0369688717027508,
          2.013796640497943,
          2.0148162933687366,
          1.9900676929702363,
          1.978376948678245,
          2.0301155744120476,
          1.9968718621879815,
          2.0582506043215596,
          1.995707005945345,
          2.0164106991762916,
          2.0103056162906188,
          2.018839333516856,
          2.026213761108617,
          1.9503048129690188,
          2.0502698936810093,
          1.9879334377124906,
          1.9988627858459949,
          2.0491783117875455,
          2.025382009645303,
          2.004981297440827,
          2.0094566625853383,
          2.0289476953446863,
          2.0448709710190696,
          2.066640892624855,
          2.00295433315138,
          2.0108969935526453,
          1.9879218967941898,
          2.0122082122912013,
          1.9610646163113414,
          2.039556086622178,
          2.0199639779826004,
          2.013344703428447,
          2.041002014496674,
          2.0184279816225166,
          1.9767935857176782,
          2.078790913211803,
          2.0098663842305537,
          2.000313528378804,
          2.020462185392777,
          1.958209946006536,
          2.013504081685096,
          2.0075700170670947,
          2.0403178154801322,
          1.9631077772316836,
          1.9927781181409956,
          2.022602514177561,
          2.026476428471506,
          2.0014428521816927,
          1.9987820572530228,
          1.99482696360598,
          1.982861300123235,
          2.0290437466154496,
          1.9930595993064344,
          1.9941944966092706,
          2.02819826953734,
          2.0187357697015007,
          1.9869296023622156,
          2.0417427337418,
          2.0118327357495827,
          1.9960868338122961,
          2.0518901185443,
          2.0166187360882755,
          2.0507484221830965
         ]
        },
        {
         "mode": "lines",
         "name": "c_per_20_p_per_20",
         "type": "scatter",
         "x": [
          0,
          1,
          2,
          3,
          4,
          5,
          6,
          7,
          8,
          9,
          10,
          11,
          12,
          13,
          14,
          15,
          16,
          17,
          18,
          19,
          20,
          21,
          22,
          23,
          24,
          25,
          26,
          27,
          28,
          29,
          30,
          31,
          32,
          33,
          34,
          35,
          36,
          37,
          38,
          39,
          40,
          41,
          42,
          43,
          44,
          45,
          46,
          47,
          48,
          49,
          50,
          51,
          52,
          53,
          54,
          55,
          56,
          57,
          58,
          59,
          60,
          61,
          62,
          63,
          64,
          65,
          66,
          67,
          68,
          69,
          70,
          71,
          72,
          73,
          74,
          75,
          76,
          77,
          78,
          79,
          80,
          81,
          82,
          83,
          84,
          85,
          86,
          87,
          88,
          89,
          90,
          91,
          92,
          93,
          94,
          95,
          96,
          97,
          98,
          99,
          100,
          101,
          102,
          103,
          104,
          105,
          106,
          107,
          108,
          109,
          110,
          111,
          112,
          113,
          114,
          115,
          116,
          117,
          118,
          119,
          120,
          121,
          122,
          123,
          124,
          125,
          126,
          127,
          128,
          129,
          130,
          131,
          132,
          133,
          134,
          135,
          136,
          137,
          138,
          139,
          140,
          141,
          142,
          143,
          144,
          145,
          146,
          147,
          148,
          149,
          150,
          151,
          152,
          153,
          154,
          155,
          156,
          157,
          158,
          159,
          160,
          161,
          162,
          163,
          164,
          165,
          166,
          167,
          168,
          169,
          170,
          171,
          172,
          173,
          174,
          175,
          176,
          177,
          178,
          179,
          180,
          181,
          182,
          183,
          184,
          185,
          186,
          187,
          188,
          189,
          190,
          191,
          192,
          193,
          194,
          195,
          196,
          197,
          198,
          199,
          200,
          201,
          202,
          203,
          204,
          205,
          206,
          207,
          208,
          209,
          210,
          211,
          212,
          213,
          214,
          215,
          216,
          217,
          218,
          219,
          220,
          221,
          222,
          223,
          224,
          225,
          226,
          227,
          228,
          229,
          230,
          231,
          232,
          233,
          234,
          235,
          236,
          237,
          238,
          239,
          240,
          241,
          242,
          243,
          244,
          245,
          246,
          247,
          248,
          249,
          250,
          251,
          252,
          253,
          254,
          255,
          256,
          257,
          258,
          259,
          260,
          261,
          262,
          263,
          264,
          265,
          266,
          267,
          268,
          269,
          270,
          271,
          272,
          273,
          274,
          275,
          276,
          277,
          278,
          279,
          280,
          281,
          282,
          283,
          284,
          285,
          286,
          287,
          288,
          289,
          290,
          291,
          292,
          293,
          294,
          295,
          296,
          297,
          298,
          299,
          300,
          301,
          302,
          303,
          304,
          305,
          306,
          307,
          308,
          309,
          310,
          311,
          312,
          313,
          314,
          315,
          316,
          317,
          318,
          319,
          320,
          321,
          322,
          323,
          324,
          325,
          326,
          327,
          328,
          329,
          330,
          331,
          332,
          333,
          334,
          335,
          336,
          337,
          338,
          339,
          340,
          341,
          342,
          343,
          344,
          345,
          346,
          347,
          348,
          349,
          350,
          351,
          352,
          353,
          354,
          355,
          356,
          357,
          358,
          359,
          360,
          361,
          362,
          363,
          364,
          365,
          366,
          367,
          368,
          369,
          370,
          371,
          372,
          373,
          374,
          375,
          376,
          377,
          378,
          379,
          380,
          381,
          382,
          383,
          384,
          385,
          386,
          387,
          388,
          389,
          390,
          391,
          392,
          393,
          394,
          395,
          396,
          397,
          398,
          399
         ],
         "y": [
          3.0120341501251606,
          2.158862609478335,
          2.0656174804394447,
          2.0447535238539176,
          2.037953744952877,
          1.9820812878509364,
          2.0356138689443464,
          1.9742307147632048,
          1.9865508849422138,
          1.9763194994380076,
          1.9944414948113258,
          1.9733516383916139,
          1.9846481281643116,
          2.021231862343847,
          2.020114556079109,
          2.0245692088579137,
          2.0164575070763626,
          2.0139728751654427,
          2.0384154281268514,
          2.0189055661981308,
          2.01602316138645,
          1.9819255540147425,
          2.015441343002022,
          2.017839129269123,
          1.9783369646097217,
          2.006821161073943,
          2.017516944929957,
          2.030682299037774,
          2.0434725423033036,
          2.0074204883848625,
          2.034650597985213,
          2.0084124540599686,
          1.995732929495474,
          1.999974783634146,
          1.9921952295737964,
          2.097352151249652,
          2.027995180649062,
          1.989627413265407,
          1.9897082109625142,
          1.978741346951574,
          2.0155003921439247,
          2.0267831586611766,
          2.003718076366931,
          2.0569829722245534,
          2.020488190278411,
          1.9999870115270215,
          2.013514043980588,
          2.0284368931315844,
          2.009526098457475,
          2.0025617766194044,
          2.0426636436333263,
          1.997629971802235,
          2.027989658682297,
          2.00455780957515,
          2.008728678586582,
          1.9762971511421104,
          2.038019868731499,
          1.996694749655823,
          2.0119925680880746,
          1.986905260446171,
          2.0167772993445396,
          1.989093229547143,
          2.007630620027581,
          1.9895479042703912,
          2.0116037680146595,
          1.9834958645825587,
          2.021966669801622,
          2.0434863131803773,
          2.0517705070475736,
          2.0068170435726644,
          2.014204242452979,
          2.0484438863272465,
          1.9984141553441688,
          2.076217684398095,
          2.0074677872781956,
          2.069959048944292,
          2.095185109662513,
          2.002921942000588,
          1.9944595076764629,
          2.029237296494345,
          2.055359817389399,
          2.033838314687212,
          2.026539404814442,
          1.9883713313067954,
          2.121288720145822,
          1.979024934551368,
          2.0181368972485267,
          2.0153784191235897,
          2.0002818821308512,
          1.9931371893112857,
          2.066104621626437,
          2.010088072018698,
          2.0064190786952776,
          1.9997562717025477,
          2.025605507877966,
          2.0186948923394086,
          2.013045722339302,
          2.014611848878364,
          2.037388765874008,
          2.006168956682086,
          1.9810223590893052,
          1.981570523791015,
          2.008615705867608,
          2.013135408051312,
          2.0544606944546104,
          2.008452090993523,
          1.9828506893788773,
          1.9925590074310702,
          1.9941814566031102,
          2.0282327061519028,
          2.0273480447630083,
          1.939726114148895,
          2.0525596424937254,
          2.0425957389486333,
          2.000823797409733,
          2.025440948922187,
          1.978896293354531,
          2.015266695059836,
          1.9967874800165497,
          1.9918603539466857,
          1.9901648656775557,
          2.07609474932154,
          1.9856733358775578,
          1.9849847023375333,
          1.9960416800652947,
          1.9833152817562223,
          1.9870706448021032,
          1.9937888740251464,
          2.025322883141537,
          1.9954939364766084,
          1.9922733800485726,
          2.020733907570442,
          1.9947019327742361,
          2.0248033998534085,
          2.0113233816809952,
          1.999263376928866,
          2.0123460068677863,
          1.9724980463273822,
          2.0455419330547255,
          2.0262365739171697,
          2.0410621027151743,
          2.002220543846488,
          1.9856490741794306,
          2.019078935372333,
          1.9912722662091256,
          2.030471041301886,
          2.0436665782704955,
          2.010239237981538,
          1.9611560430377721,
          2.0157413344209396,
          2.012891613257428,
          2.021616151525328,
          2.0356626494477195,
          1.9745571518316865,
          2.004394770072152,
          1.9966589174543823,
          2.024653850930432,
          1.9766534163306155,
          1.9988281937936943,
          2.068942682631314,
          2.0126805998384953,
          1.9747413900991284,
          2.009022832599779,
          2.0114680799034734,
          2.0257415941916403,
          2.010581569684048,
          2.055313725396991,
          1.9895933662851655,
          1.9902238701470192,
          2.0461500878135364,
          1.9834286261349914,
          2.040539918964108,
          2.009029300324619,
          2.0310484304403267,
          2.0048447116588552,
          1.999706158476571,
          2.0273727087303994,
          2.038147048403819,
          2.0408575744678576,
          2.0138618901371954,
          1.9660357571517426,
          2.025104202143848,
          1.9730854264770943,
          2.0538768520578747,
          2.0198200954124332,
          2.0059336859111982,
          2.0367774374783036,
          1.9927880718683202,
          2.094707931578159,
          1.9954572771986328,
          2.0253478306656083,
          1.9791182467713953,
          1.9802006124829254,
          2.026644484139979,
          2.0220876639087995,
          2.04580840729177,
          2.002183072641492,
          1.963210965227336,
          2.0459478930259745,
          2.032571700153251,
          2.0293194998676576,
          2.0225308453043302,
          1.9857383558837072,
          1.974926501326263,
          2.006253612879664,
          1.9967115456859268,
          1.9920613296329974,
          1.9923272270709274,
          1.993447281854848,
          2.033860951351623,
          1.9950919158756732,
          2.056878132435183,
          1.9609119765150052,
          2.09905478892227,
          2.0079902296264964,
          2.052684596243004,
          1.9968083579093214,
          1.9938105921261013,
          2.087646493315696,
          1.9780710673580564,
          2.0043753685429695,
          2.0531989524761833,
          1.9682355368820326,
          2.0200198562815785,
          2.0248738148560124,
          2.0354554144044714,
          2.0112611528486015,
          2.0114634746064746,
          1.9960022777939836,
          2.019821359279255,
          1.9857154664893948,
          1.9974559557313722,
          1.9681868564958376,
          2.0110616007819773,
          1.9627603882302842,
          2.0565670872728035,
          1.946189650458594,
          2.0635229922210176,
          2.0075020913655566,
          2.0036602405210333,
          1.9907853491604324,
          2.0332888357962178,
          1.999147403674821,
          2.05141016797473,
          1.996300636728605,
          2.000069095660001,
          2.009995389108857,
          1.9993945185715956,
          2.0291407346104586,
          1.984246999459962,
          2.0150702254225807,
          2.0041726425290105,
          2.0411300913741193,
          2.0242917962993188,
          1.9939826533508795,
          1.9517749647299447,
          2.0266816974927986,
          2.0028872660671673,
          1.9987492529675361,
          2.0117563739418984,
          1.9930897696564596,
          2.0505678060775,
          1.9969992887228727,
          2.0136646457637353,
          1.9963591693279643,
          2.0493409227579833,
          2.011497707168261,
          2.011680867522955,
          2.002133424518009,
          2.027615057552854,
          2.025542144384235,
          1.979183011377851,
          2.026429995087286,
          2.002087923449775,
          1.9940483304982386,
          2.0254137254630526,
          2.0019038632512087,
          2.003923319497456,
          2.0293336981286605,
          2.0725929371391736,
          2.0322196717063585,
          1.9829144164298977,
          2.015297562753161,
          2.0206081650840737,
          2.0018391092928747,
          2.026022301986813,
          2.031586760096252,
          2.008720757750173,
          2.016853888022403,
          2.0337525522957245,
          2.019691510312259,
          1.9559853221600254,
          2.015581641967098,
          1.98705250347654,
          1.9884478105232115,
          1.992495735206952,
          2.023206426265339,
          2.0153671610789994,
          2.0067727509886026,
          1.9958867862199743,
          2.042707920446992,
          1.9990069549530745,
          2.043088696151972,
          2.03470823969692,
          2.0234308889756596,
          2.0212666710761065,
          1.9965688058485587,
          2.035586319801708,
          2.0403916359568632,
          2.024044223098705,
          2.004377902423342,
          1.9577231536308926,
          2.041773310676217,
          1.9997592466572922,
          2.0139066898574427,
          2.007121527815859,
          2.017323821100096,
          2.0235371027141804,
          1.958770818635821,
          2.04984691819797,
          2.0036669109016656,
          1.992752048559487,
          2.0245655803009868,
          2.0230921590079864,
          2.0302262519175804,
          2.02249856715401,
          2.0128288218751544,
          1.9712221869267523,
          2.045818332396448,
          2.019163986419638,
          2.0211968529659012,
          2.010893311165273,
          2.0017173414429026,
          2.0369311702127257,
          1.9748741453513503,
          1.9968651637434962,
          1.9695516113502283,
          2.0692045657585068,
          1.9932241022586823,
          2.0482069226602713,
          2.006308061257005,
          2.0080685375258325,
          2.020508113565544,
          2.000320696334044,
          1.9975423064082864,
          2.021918535232544,
          2.02317928088208,
          2.0236373784020545,
          2.0155786234264577,
          1.9786285281802218,
          2.016256086714566,
          2.0136877266069257,
          1.9778413573279976,
          2.0213052781298755,
          2.0144538592547176,
          2.0238169704874354,
          2.0345780859390894,
          1.9670836239742733,
          2.0144769578861697,
          2.005124282495429,
          2.0054693627015996,
          2.1559096239662416,
          2.0579736393876376,
          2.001994334720075,
          2.022423538503548,
          2.095883756026888,
          2.010610108481099,
          2.0312284453461564,
          2.029090966222187,
          1.9935345644441747,
          2.0337412104631465,
          1.9886437512701378,
          2.0387328871719848,
          2.01621354703481,
          1.9882364578622702,
          1.9296232936903834,
          1.9337918769888347,
          1.8492589705623685,
          1.8474874999684592,
          1.85088231023401,
          1.8476072382492323,
          1.7792496957195305,
          1.7980636232222118,
          1.746619242119292,
          1.7440637280388427,
          1.6976249162418149,
          1.7368923087914783,
          1.6747376588794094,
          1.666494273673743,
          1.7437847319059074,
          1.6746884437277914,
          1.6202357271530978,
          1.6726701672188937,
          1.6129251931793989,
          1.6378808705757062,
          1.632291807948301,
          1.5702441041668256,
          1.5838382994445666,
          1.6042383873214323,
          1.5600552586217722
         ]
        },
        {
         "mode": "lines",
         "name": "c_per_20_p_per_40",
         "type": "scatter",
         "x": [
          0,
          1,
          2,
          3,
          4,
          5,
          6,
          7,
          8,
          9,
          10,
          11,
          12,
          13,
          14,
          15,
          16,
          17,
          18,
          19,
          20,
          21,
          22,
          23,
          24,
          25,
          26,
          27,
          28,
          29,
          30,
          31,
          32,
          33,
          34,
          35,
          36,
          37,
          38,
          39,
          40,
          41,
          42,
          43,
          44,
          45,
          46,
          47,
          48,
          49,
          50,
          51,
          52,
          53,
          54,
          55,
          56,
          57,
          58,
          59,
          60,
          61,
          62,
          63,
          64,
          65,
          66,
          67,
          68,
          69,
          70,
          71,
          72,
          73,
          74,
          75,
          76,
          77,
          78,
          79,
          80,
          81,
          82,
          83,
          84,
          85,
          86,
          87,
          88,
          89,
          90,
          91,
          92,
          93,
          94,
          95,
          96,
          97,
          98,
          99,
          100,
          101,
          102,
          103,
          104,
          105,
          106,
          107,
          108,
          109,
          110,
          111,
          112,
          113,
          114,
          115,
          116,
          117,
          118,
          119,
          120,
          121,
          122,
          123,
          124,
          125,
          126,
          127,
          128,
          129,
          130,
          131,
          132,
          133,
          134,
          135,
          136,
          137,
          138,
          139,
          140,
          141,
          142,
          143,
          144,
          145,
          146,
          147,
          148,
          149,
          150,
          151,
          152,
          153,
          154,
          155,
          156,
          157,
          158,
          159,
          160,
          161,
          162,
          163,
          164,
          165,
          166,
          167,
          168,
          169,
          170,
          171,
          172,
          173,
          174,
          175,
          176,
          177,
          178,
          179,
          180,
          181,
          182,
          183,
          184,
          185,
          186,
          187,
          188,
          189,
          190,
          191,
          192,
          193,
          194,
          195,
          196,
          197,
          198,
          199,
          200,
          201,
          202,
          203,
          204,
          205,
          206,
          207,
          208,
          209,
          210,
          211,
          212,
          213,
          214,
          215,
          216,
          217,
          218,
          219,
          220,
          221,
          222,
          223,
          224,
          225,
          226,
          227,
          228,
          229,
          230,
          231,
          232,
          233,
          234,
          235,
          236,
          237,
          238,
          239,
          240,
          241,
          242,
          243,
          244,
          245,
          246,
          247,
          248,
          249,
          250,
          251,
          252,
          253,
          254,
          255,
          256,
          257,
          258,
          259,
          260,
          261,
          262,
          263,
          264,
          265,
          266,
          267,
          268,
          269,
          270,
          271,
          272,
          273,
          274,
          275,
          276,
          277,
          278,
          279,
          280,
          281,
          282,
          283,
          284,
          285,
          286,
          287,
          288,
          289,
          290,
          291,
          292,
          293,
          294,
          295,
          296,
          297,
          298,
          299,
          300,
          301,
          302,
          303,
          304,
          305,
          306,
          307,
          308,
          309,
          310,
          311,
          312,
          313,
          314,
          315,
          316,
          317,
          318,
          319,
          320,
          321,
          322,
          323,
          324,
          325,
          326,
          327,
          328,
          329,
          330,
          331,
          332,
          333,
          334,
          335,
          336,
          337,
          338,
          339,
          340,
          341,
          342,
          343,
          344,
          345,
          346,
          347,
          348,
          349,
          350,
          351,
          352,
          353,
          354,
          355,
          356,
          357,
          358,
          359,
          360,
          361,
          362,
          363,
          364,
          365,
          366,
          367,
          368,
          369,
          370,
          371,
          372,
          373,
          374,
          375,
          376,
          377,
          378,
          379,
          380,
          381,
          382,
          383,
          384,
          385,
          386,
          387,
          388,
          389,
          390,
          391,
          392,
          393,
          394,
          395,
          396,
          397,
          398,
          399
         ],
         "y": [
          3.0581045348234044,
          2.119667535220894,
          2.070347232930362,
          2.0599054520949727,
          2.0130451748458045,
          1.9704336319739624,
          2.0210320260375743,
          1.9478224626742304,
          2.065323869014779,
          2.043006476961697,
          1.9838476279440027,
          1.9550924513489005,
          1.984691516744594,
          2.0105919505159053,
          1.9759764206595722,
          1.943047968763858,
          1.9709803495866556,
          1.974050804972649,
          2.021307347590725,
          2.0404409854362404,
          2.028342841130991,
          1.9851852322928611,
          2.072758979598681,
          1.960748315230012,
          2.003564401343465,
          1.9892608772342402,
          2.017119757210215,
          2.011253583803773,
          1.999929450980077,
          2.0051132085112235,
          1.9606025026179847,
          2.033993532756964,
          1.969589806379129,
          2.000714638798187,
          1.944176851802816,
          2.0562941128077608,
          2.018806928830842,
          2.0348409287010627,
          1.9962912059699494,
          2.0235885476693514,
          2.0257623229175805,
          2.009116640935342,
          1.9836809755923845,
          2.0228837741228443,
          2.0013807086584463,
          2.0543966355423136,
          1.988999096800884,
          1.9844443361274902,
          2.0103098554536696,
          1.997124770966669,
          1.9745895099205275,
          1.9791579219202202,
          2.0137674661663674,
          2.0673083544398345,
          2.076817317400128,
          2.0038776610046627,
          2.1105715146288277,
          2.005119799077511,
          2.065253568657984,
          2.037087449276199,
          2.0104358153417707,
          1.938424280037483,
          2.0598754219400393,
          1.988732191299399,
          2.088313757162541,
          2.0122426632170876,
          2.040799559125056,
          2.0214969272104404,
          1.9766135899039607,
          2.1703573109776095,
          2.037052671269824,
          1.9716731148151059,
          2.009236159889648,
          1.9974573416945838,
          2.0006367208436133,
          1.979567287582904,
          2.079462951639046,
          2.015820456730823,
          2.013663971982896,
          2.0936581447720526,
          2.0846362745389344,
          1.9854254925623533,
          2.0228059775506457,
          2.031979269782702,
          1.9955557242035866,
          2.116587655587743,
          2.0624789356564484,
          2.0478385796770455,
          2.012652408579986,
          2.095057188657423,
          2.0681753903627396,
          2.020308075845241,
          2.0858807075147827,
          2.034951845370233,
          2.023874763585627,
          2.055195115879178,
          1.9880840458596745,
          2.109225020185113,
          2.0056187072768807,
          2.066148475433389,
          1.9865483449461556,
          2.0656905338789024,
          2.058604236102353,
          1.998567733137558,
          2.095179446476201,
          2.0004781549796458,
          2.071828091517091,
          1.9763347239543994,
          2.0141242294261854,
          2.044673891707013,
          2.1139086044703914,
          2.0647004309731223,
          2.0980522389213245,
          2.081177851743996,
          2.028107745200395,
          1.962187583154688,
          2.1317719049751758,
          2.122885502999028,
          1.9887730827555061,
          2.073684986960143,
          2.03731080510964,
          2.0596375126391653,
          2.0627973570177947,
          2.0219032210608323,
          2.036006777112683,
          2.008743911112348,
          2.0475410879279177,
          2.0702378006651996,
          2.0936679290607576,
          2.0343915461252133,
          2.053991615399718,
          2.0661493963872397,
          2.071589038334787,
          2.12041313101848,
          1.998873218273123,
          2.1199737717087066,
          2.1232294229169693,
          2.0467157452367246,
          2.0289381927810615,
          2.0884526510412496,
          2.0075082433409994,
          2.0468329900875686,
          2.0612757148221137,
          2.041050991540154,
          2.0563758761311575,
          1.999691666290164,
          2.159706805211802,
          2.0498707155386606,
          2.0323486102744934,
          2.0643666308373216,
          2.0694799069315195,
          2.08507916573435,
          2.0270120901366075,
          2.0084626484041412,
          2.0178328889732553,
          2.0675386216491463,
          2.017692913891127,
          2.052724932072064,
          2.0334507875765366,
          1.9829845837627846,
          2.135304536670447,
          2.0898148966332277,
          1.987903595964114,
          2.0758898242066306,
          1.9972926593075198,
          2.069292315468192,
          2.0351418352996307,
          2.1908408263327424,
          1.9948918618572253,
          2.0664759835228326,
          2.0901015523200237,
          2.065662132886549,
          2.036327324124674,
          2.012684390880168,
          2.010377975056569,
          2.1303460163995624,
          1.9888272450615965,
          2.0175797214731572,
          2.0644347202653686,
          2.0361167314772803,
          2.0996175520742932,
          2.048257683031261,
          2.0197729546576735,
          2.086982949605832,
          2.0686496702333295,
          1.986080720834434,
          2.0493315666913987,
          1.9696286777034397,
          2.0272825850173835,
          1.9546528229489923,
          2.101387297300001,
          2.1591363100335004,
          2.057929225328068,
          1.9930262257655464,
          2.1664563337340956,
          2.02167652292798,
          2.1438500669474405,
          2.077620371989906,
          2.1200447593505185,
          2.0316737448796633,
          2.1119863107800487,
          2.0223736591637134,
          1.98237074414889,
          2.0402600523705283,
          2.057355902281901,
          2.0072804659294583,
          1.96366073411579,
          2.129729234613478,
          2.037838184026381,
          2.0655734137942394,
          2.0421374581754206,
          2.0227647207677366,
          1.994480547681451,
          2.1251884893203776,
          2.0404872695604963,
          2.071340209618211,
          2.034402330219746,
          2.028142238035798,
          2.052322168834507,
          2.0779496820022665,
          2.004426718937854,
          2.034597714431584,
          2.1179029122615853,
          2.0661732433984676,
          2.0320629088208078,
          2.0977702978998423,
          2.0443124338984484,
          2.0255285442496342,
          2.0738818792626263,
          2.0974960016086697,
          2.0284959965075053,
          2.0839013061175744,
          2.076671349691848,
          1.9781058941657341,
          2.0376554280519485,
          2.0302631333470345,
          2.1181112953151264,
          2.002267228936156,
          2.0503428387766083,
          2.106130600968997,
          2.0735449836278947,
          2.0828749905650814,
          2.005753064652284,
          2.040420403021077,
          2.029605312086642,
          2.0731862661118305,
          2.0640543478230633,
          2.1100290765985843,
          2.0596870598693693,
          2.0150163163120545,
          2.0368128428856527,
          2.031225404515862,
          2.0900911699980496,
          2.0050851278007036,
          2.145449379769464,
          2.0809819069691002,
          2.034254159592092,
          2.071196931848923,
          2.035879361629486,
          2.0108857032532494,
          2.060229108544687,
          2.072073164954781,
          2.051433912602564,
          1.9826072021697954,
          2.028002443102499,
          2.026611427217721,
          2.0403549579282605,
          2.1312746887405716,
          2.0896553887054323,
          1.9830272824193038,
          2.138327115712066,
          2.076633699548741,
          2.0391347061221796,
          2.0365108791117867,
          2.0253151990783707,
          1.9919434354950982,
          2.141144863826533,
          2.0695268900444113,
          2.033433904498816,
          2.08435507149746,
          2.030751970099906,
          2.012305398099125,
          2.0010841046770413,
          2.199291530655076,
          2.0914112563555443,
          1.9926863017802436,
          2.0326613812707364,
          2.0970270209635298,
          1.9854173099622134,
          1.9794972894713279,
          1.976137837395072,
          2.0033135116721192,
          2.0852691301455097,
          2.070545031192402,
          2.0351821487148607,
          1.9977006840830047,
          2.018075267101328,
          2.0098727208562193,
          2.0860034343476097,
          2.0068752896040682,
          2.0263968570778763,
          2.1368276307980225,
          2.0946896496539313,
          2.010589088809987,
          2.011268109455705,
          2.039461794681847,
          2.0162738461047414,
          2.0340818354859946,
          2.02911597987016,
          2.0664747461676596,
          2.083870430663228,
          2.029228837881237,
          2.0242532824166117,
          1.9863681921114522,
          2.0693158702303966,
          2.0016716323172052,
          2.025050811593732,
          2.038904176155726,
          1.971228400990367,
          2.0752052720636125,
          2.0458459315821527,
          1.9829136928543452,
          2.0917074892049037,
          2.145212770067156,
          2.0251773516337077,
          2.0185689402123295,
          2.056986024882644,
          1.9673471843202908,
          2.112311090839406,
          2.048389260098338,
          2.0465797765801357,
          2.1316043551390367,
          2.0718530075003705,
          2.041131773466865,
          2.076304195138315,
          2.079475964916249,
          2.016470038269957,
          2.1069298407683767,
          1.9966502531121175,
          2.1586386309936643,
          2.0271736436833936,
          2.0969327499469115,
          1.983286735912164,
          2.0899731596310933,
          2.000255787248413,
          2.0205236179754142,
          2.0608467648426694,
          2.079744078591466,
          2.033850187001129,
          1.9675753217190508,
          2.096683847221235,
          2.1374876900886495,
          2.1183562057092784,
          2.033476862870157,
          2.0832417431597907,
          1.9899869920685884,
          2.097816851052145,
          2.015911830527087,
          2.0113873713960255,
          2.0284110826129713,
          2.13783828454713,
          2.0457621795435745,
          2.065701118297875,
          2.0422135468882816,
          2.0553654339164495,
          2.215126365733643,
          2.053207391127944,
          2.1346188347786663,
          2.0519267376512293,
          2.030774177548786,
          2.0239982485150296,
          2.109133543943365,
          2.0797578570743402,
          2.0237111955881124,
          2.0848292291164396,
          2.0570724961037437,
          2.1183017686630286,
          2.0206068478524686,
          2.0249517048398658,
          2.1478657005975643,
          2.0961692155028384,
          2.0565832542876405,
          1.9733451690524813,
          2.0397355323657393,
          2.0060776597820222,
          2.0975529764468477,
          2.0457475047558544,
          2.108118938282132,
          2.0580182928281525,
          2.0329196504938105,
          1.9851164681836964,
          2.095185209686557,
          2.0131354315206407,
          1.9661092706024643,
          2.134243039724727,
          2.029967279887448,
          2.0856381846591834,
          2.082841950717072,
          2.0378572020369274,
          1.9940750416989128
         ]
        }
       ],
       "layout": {
        "template": {
         "data": {
          "bar": [
           {
            "error_x": {
             "color": "#2a3f5f"
            },
            "error_y": {
             "color": "#2a3f5f"
            },
            "marker": {
             "line": {
              "color": "#E5ECF6",
              "width": 0.5
             }
            },
            "type": "bar"
           }
          ],
          "barpolar": [
           {
            "marker": {
             "line": {
              "color": "#E5ECF6",
              "width": 0.5
             }
            },
            "type": "barpolar"
           }
          ],
          "carpet": [
           {
            "aaxis": {
             "endlinecolor": "#2a3f5f",
             "gridcolor": "white",
             "linecolor": "white",
             "minorgridcolor": "white",
             "startlinecolor": "#2a3f5f"
            },
            "baxis": {
             "endlinecolor": "#2a3f5f",
             "gridcolor": "white",
             "linecolor": "white",
             "minorgridcolor": "white",
             "startlinecolor": "#2a3f5f"
            },
            "type": "carpet"
           }
          ],
          "choropleth": [
           {
            "colorbar": {
             "outlinewidth": 0,
             "ticks": ""
            },
            "type": "choropleth"
           }
          ],
          "contour": [
           {
            "colorbar": {
             "outlinewidth": 0,
             "ticks": ""
            },
            "colorscale": [
             [
              0,
              "#0d0887"
             ],
             [
              0.1111111111111111,
              "#46039f"
             ],
             [
              0.2222222222222222,
              "#7201a8"
             ],
             [
              0.3333333333333333,
              "#9c179e"
             ],
             [
              0.4444444444444444,
              "#bd3786"
             ],
             [
              0.5555555555555556,
              "#d8576b"
             ],
             [
              0.6666666666666666,
              "#ed7953"
             ],
             [
              0.7777777777777778,
              "#fb9f3a"
             ],
             [
              0.8888888888888888,
              "#fdca26"
             ],
             [
              1,
              "#f0f921"
             ]
            ],
            "type": "contour"
           }
          ],
          "contourcarpet": [
           {
            "colorbar": {
             "outlinewidth": 0,
             "ticks": ""
            },
            "type": "contourcarpet"
           }
          ],
          "heatmap": [
           {
            "colorbar": {
             "outlinewidth": 0,
             "ticks": ""
            },
            "colorscale": [
             [
              0,
              "#0d0887"
             ],
             [
              0.1111111111111111,
              "#46039f"
             ],
             [
              0.2222222222222222,
              "#7201a8"
             ],
             [
              0.3333333333333333,
              "#9c179e"
             ],
             [
              0.4444444444444444,
              "#bd3786"
             ],
             [
              0.5555555555555556,
              "#d8576b"
             ],
             [
              0.6666666666666666,
              "#ed7953"
             ],
             [
              0.7777777777777778,
              "#fb9f3a"
             ],
             [
              0.8888888888888888,
              "#fdca26"
             ],
             [
              1,
              "#f0f921"
             ]
            ],
            "type": "heatmap"
           }
          ],
          "heatmapgl": [
           {
            "colorbar": {
             "outlinewidth": 0,
             "ticks": ""
            },
            "colorscale": [
             [
              0,
              "#0d0887"
             ],
             [
              0.1111111111111111,
              "#46039f"
             ],
             [
              0.2222222222222222,
              "#7201a8"
             ],
             [
              0.3333333333333333,
              "#9c179e"
             ],
             [
              0.4444444444444444,
              "#bd3786"
             ],
             [
              0.5555555555555556,
              "#d8576b"
             ],
             [
              0.6666666666666666,
              "#ed7953"
             ],
             [
              0.7777777777777778,
              "#fb9f3a"
             ],
             [
              0.8888888888888888,
              "#fdca26"
             ],
             [
              1,
              "#f0f921"
             ]
            ],
            "type": "heatmapgl"
           }
          ],
          "histogram": [
           {
            "marker": {
             "colorbar": {
              "outlinewidth": 0,
              "ticks": ""
             }
            },
            "type": "histogram"
           }
          ],
          "histogram2d": [
           {
            "colorbar": {
             "outlinewidth": 0,
             "ticks": ""
            },
            "colorscale": [
             [
              0,
              "#0d0887"
             ],
             [
              0.1111111111111111,
              "#46039f"
             ],
             [
              0.2222222222222222,
              "#7201a8"
             ],
             [
              0.3333333333333333,
              "#9c179e"
             ],
             [
              0.4444444444444444,
              "#bd3786"
             ],
             [
              0.5555555555555556,
              "#d8576b"
             ],
             [
              0.6666666666666666,
              "#ed7953"
             ],
             [
              0.7777777777777778,
              "#fb9f3a"
             ],
             [
              0.8888888888888888,
              "#fdca26"
             ],
             [
              1,
              "#f0f921"
             ]
            ],
            "type": "histogram2d"
           }
          ],
          "histogram2dcontour": [
           {
            "colorbar": {
             "outlinewidth": 0,
             "ticks": ""
            },
            "colorscale": [
             [
              0,
              "#0d0887"
             ],
             [
              0.1111111111111111,
              "#46039f"
             ],
             [
              0.2222222222222222,
              "#7201a8"
             ],
             [
              0.3333333333333333,
              "#9c179e"
             ],
             [
              0.4444444444444444,
              "#bd3786"
             ],
             [
              0.5555555555555556,
              "#d8576b"
             ],
             [
              0.6666666666666666,
              "#ed7953"
             ],
             [
              0.7777777777777778,
              "#fb9f3a"
             ],
             [
              0.8888888888888888,
              "#fdca26"
             ],
             [
              1,
              "#f0f921"
             ]
            ],
            "type": "histogram2dcontour"
           }
          ],
          "mesh3d": [
           {
            "colorbar": {
             "outlinewidth": 0,
             "ticks": ""
            },
            "type": "mesh3d"
           }
          ],
          "parcoords": [
           {
            "line": {
             "colorbar": {
              "outlinewidth": 0,
              "ticks": ""
             }
            },
            "type": "parcoords"
           }
          ],
          "pie": [
           {
            "automargin": true,
            "type": "pie"
           }
          ],
          "scatter": [
           {
            "marker": {
             "colorbar": {
              "outlinewidth": 0,
              "ticks": ""
             }
            },
            "type": "scatter"
           }
          ],
          "scatter3d": [
           {
            "line": {
             "colorbar": {
              "outlinewidth": 0,
              "ticks": ""
             }
            },
            "marker": {
             "colorbar": {
              "outlinewidth": 0,
              "ticks": ""
             }
            },
            "type": "scatter3d"
           }
          ],
          "scattercarpet": [
           {
            "marker": {
             "colorbar": {
              "outlinewidth": 0,
              "ticks": ""
             }
            },
            "type": "scattercarpet"
           }
          ],
          "scattergeo": [
           {
            "marker": {
             "colorbar": {
              "outlinewidth": 0,
              "ticks": ""
             }
            },
            "type": "scattergeo"
           }
          ],
          "scattergl": [
           {
            "marker": {
             "colorbar": {
              "outlinewidth": 0,
              "ticks": ""
             }
            },
            "type": "scattergl"
           }
          ],
          "scattermapbox": [
           {
            "marker": {
             "colorbar": {
              "outlinewidth": 0,
              "ticks": ""
             }
            },
            "type": "scattermapbox"
           }
          ],
          "scatterpolar": [
           {
            "marker": {
             "colorbar": {
              "outlinewidth": 0,
              "ticks": ""
             }
            },
            "type": "scatterpolar"
           }
          ],
          "scatterpolargl": [
           {
            "marker": {
             "colorbar": {
              "outlinewidth": 0,
              "ticks": ""
             }
            },
            "type": "scatterpolargl"
           }
          ],
          "scatterternary": [
           {
            "marker": {
             "colorbar": {
              "outlinewidth": 0,
              "ticks": ""
             }
            },
            "type": "scatterternary"
           }
          ],
          "surface": [
           {
            "colorbar": {
             "outlinewidth": 0,
             "ticks": ""
            },
            "colorscale": [
             [
              0,
              "#0d0887"
             ],
             [
              0.1111111111111111,
              "#46039f"
             ],
             [
              0.2222222222222222,
              "#7201a8"
             ],
             [
              0.3333333333333333,
              "#9c179e"
             ],
             [
              0.4444444444444444,
              "#bd3786"
             ],
             [
              0.5555555555555556,
              "#d8576b"
             ],
             [
              0.6666666666666666,
              "#ed7953"
             ],
             [
              0.7777777777777778,
              "#fb9f3a"
             ],
             [
              0.8888888888888888,
              "#fdca26"
             ],
             [
              1,
              "#f0f921"
             ]
            ],
            "type": "surface"
           }
          ],
          "table": [
           {
            "cells": {
             "fill": {
              "color": "#EBF0F8"
             },
             "line": {
              "color": "white"
             }
            },
            "header": {
             "fill": {
              "color": "#C8D4E3"
             },
             "line": {
              "color": "white"
             }
            },
            "type": "table"
           }
          ]
         },
         "layout": {
          "annotationdefaults": {
           "arrowcolor": "#2a3f5f",
           "arrowhead": 0,
           "arrowwidth": 1
          },
          "autotypenumbers": "strict",
          "coloraxis": {
           "colorbar": {
            "outlinewidth": 0,
            "ticks": ""
           }
          },
          "colorscale": {
           "diverging": [
            [
             0,
             "#8e0152"
            ],
            [
             0.1,
             "#c51b7d"
            ],
            [
             0.2,
             "#de77ae"
            ],
            [
             0.3,
             "#f1b6da"
            ],
            [
             0.4,
             "#fde0ef"
            ],
            [
             0.5,
             "#f7f7f7"
            ],
            [
             0.6,
             "#e6f5d0"
            ],
            [
             0.7,
             "#b8e186"
            ],
            [
             0.8,
             "#7fbc41"
            ],
            [
             0.9,
             "#4d9221"
            ],
            [
             1,
             "#276419"
            ]
           ],
           "sequential": [
            [
             0,
             "#0d0887"
            ],
            [
             0.1111111111111111,
             "#46039f"
            ],
            [
             0.2222222222222222,
             "#7201a8"
            ],
            [
             0.3333333333333333,
             "#9c179e"
            ],
            [
             0.4444444444444444,
             "#bd3786"
            ],
            [
             0.5555555555555556,
             "#d8576b"
            ],
            [
             0.6666666666666666,
             "#ed7953"
            ],
            [
             0.7777777777777778,
             "#fb9f3a"
            ],
            [
             0.8888888888888888,
             "#fdca26"
            ],
            [
             1,
             "#f0f921"
            ]
           ],
           "sequentialminus": [
            [
             0,
             "#0d0887"
            ],
            [
             0.1111111111111111,
             "#46039f"
            ],
            [
             0.2222222222222222,
             "#7201a8"
            ],
            [
             0.3333333333333333,
             "#9c179e"
            ],
            [
             0.4444444444444444,
             "#bd3786"
            ],
            [
             0.5555555555555556,
             "#d8576b"
            ],
            [
             0.6666666666666666,
             "#ed7953"
            ],
            [
             0.7777777777777778,
             "#fb9f3a"
            ],
            [
             0.8888888888888888,
             "#fdca26"
            ],
            [
             1,
             "#f0f921"
            ]
           ]
          },
          "colorway": [
           "#636efa",
           "#EF553B",
           "#00cc96",
           "#ab63fa",
           "#FFA15A",
           "#19d3f3",
           "#FF6692",
           "#B6E880",
           "#FF97FF",
           "#FECB52"
          ],
          "font": {
           "color": "#2a3f5f"
          },
          "geo": {
           "bgcolor": "white",
           "lakecolor": "white",
           "landcolor": "#E5ECF6",
           "showlakes": true,
           "showland": true,
           "subunitcolor": "white"
          },
          "hoverlabel": {
           "align": "left"
          },
          "hovermode": "closest",
          "mapbox": {
           "style": "light"
          },
          "paper_bgcolor": "white",
          "plot_bgcolor": "#E5ECF6",
          "polar": {
           "angularaxis": {
            "gridcolor": "white",
            "linecolor": "white",
            "ticks": ""
           },
           "bgcolor": "#E5ECF6",
           "radialaxis": {
            "gridcolor": "white",
            "linecolor": "white",
            "ticks": ""
           }
          },
          "scene": {
           "xaxis": {
            "backgroundcolor": "#E5ECF6",
            "gridcolor": "white",
            "gridwidth": 2,
            "linecolor": "white",
            "showbackground": true,
            "ticks": "",
            "zerolinecolor": "white"
           },
           "yaxis": {
            "backgroundcolor": "#E5ECF6",
            "gridcolor": "white",
            "gridwidth": 2,
            "linecolor": "white",
            "showbackground": true,
            "ticks": "",
            "zerolinecolor": "white"
           },
           "zaxis": {
            "backgroundcolor": "#E5ECF6",
            "gridcolor": "white",
            "gridwidth": 2,
            "linecolor": "white",
            "showbackground": true,
            "ticks": "",
            "zerolinecolor": "white"
           }
          },
          "shapedefaults": {
           "line": {
            "color": "#2a3f5f"
           }
          },
          "ternary": {
           "aaxis": {
            "gridcolor": "white",
            "linecolor": "white",
            "ticks": ""
           },
           "baxis": {
            "gridcolor": "white",
            "linecolor": "white",
            "ticks": ""
           },
           "bgcolor": "#E5ECF6",
           "caxis": {
            "gridcolor": "white",
            "linecolor": "white",
            "ticks": ""
           }
          },
          "title": {
           "x": 0.05
          },
          "xaxis": {
           "automargin": true,
           "gridcolor": "white",
           "linecolor": "white",
           "ticks": "",
           "title": {
            "standoff": 15
           },
           "zerolinecolor": "white",
           "zerolinewidth": 2
          },
          "yaxis": {
           "automargin": true,
           "gridcolor": "white",
           "linecolor": "white",
           "ticks": "",
           "title": {
            "standoff": 15
           },
           "zerolinecolor": "white",
           "zerolinewidth": 2
          }
         }
        },
        "title": {
         "text": "Training Losses"
        },
        "xaxis": {
         "title": {
          "text": "Fed Round"
         }
        },
        "yaxis": {
         "title": {
          "text": "Loss"
         }
        }
       }
      },
      "text/html": [
       "<div>                            <div id=\"4236d5fe-35c3-4484-93db-c95637aec134\" class=\"plotly-graph-div\" style=\"height:525px; width:100%;\"></div>            <script type=\"text/javascript\">                require([\"plotly\"], function(Plotly) {                    window.PLOTLYENV=window.PLOTLYENV || {};                                    if (document.getElementById(\"4236d5fe-35c3-4484-93db-c95637aec134\")) {                    Plotly.newPlot(                        \"4236d5fe-35c3-4484-93db-c95637aec134\",                        [{\"mode\": \"lines\", \"name\": \"c_per_20_p_per_00\", \"type\": \"scatter\", \"x\": [0, 1, 2, 3, 4, 5, 6, 7, 8, 9, 10, 11, 12, 13, 14, 15, 16, 17, 18, 19, 20, 21, 22, 23, 24, 25, 26, 27, 28, 29, 30, 31, 32, 33, 34, 35, 36, 37, 38, 39, 40, 41, 42, 43, 44, 45, 46, 47, 48, 49, 50, 51, 52, 53, 54, 55, 56, 57, 58, 59, 60, 61, 62, 63, 64, 65, 66, 67, 68, 69, 70, 71, 72, 73, 74, 75, 76, 77, 78, 79, 80, 81, 82, 83, 84, 85, 86, 87, 88, 89, 90, 91, 92, 93, 94, 95, 96, 97, 98, 99, 100, 101, 102, 103, 104, 105, 106, 107, 108, 109, 110, 111, 112, 113, 114, 115, 116, 117, 118, 119, 120, 121, 122, 123, 124, 125, 126, 127, 128, 129, 130, 131, 132, 133, 134, 135, 136, 137, 138, 139, 140, 141, 142, 143, 144, 145, 146, 147, 148, 149, 150, 151, 152, 153, 154, 155, 156, 157, 158, 159, 160, 161, 162, 163, 164, 165, 166, 167, 168, 169, 170, 171, 172, 173, 174, 175, 176, 177, 178, 179, 180, 181, 182, 183, 184, 185, 186, 187, 188, 189, 190, 191, 192, 193, 194, 195, 196, 197, 198, 199, 200, 201, 202, 203, 204, 205, 206, 207, 208, 209, 210, 211, 212, 213, 214, 215, 216, 217, 218, 219, 220, 221, 222, 223, 224, 225, 226, 227, 228, 229, 230, 231, 232, 233, 234, 235, 236, 237, 238, 239, 240, 241, 242, 243, 244, 245, 246, 247, 248, 249, 250, 251, 252, 253, 254, 255, 256, 257, 258, 259, 260, 261, 262, 263, 264, 265, 266, 267, 268, 269, 270, 271, 272, 273, 274, 275, 276, 277, 278, 279, 280, 281, 282, 283, 284, 285, 286, 287, 288, 289, 290, 291, 292, 293, 294, 295, 296, 297, 298, 299, 300, 301, 302, 303, 304, 305, 306, 307, 308, 309, 310, 311, 312, 313, 314, 315, 316, 317, 318, 319, 320, 321, 322, 323, 324, 325, 326, 327, 328, 329, 330, 331, 332, 333, 334, 335, 336, 337, 338, 339, 340, 341, 342, 343, 344, 345, 346, 347, 348, 349, 350, 351, 352, 353, 354, 355, 356, 357, 358, 359, 360, 361, 362, 363, 364, 365, 366, 367, 368, 369, 370, 371, 372, 373, 374, 375, 376, 377, 378, 379, 380, 381, 382, 383, 384, 385, 386, 387, 388, 389, 390, 391, 392, 393, 394, 395, 396, 397, 398, 399], \"y\": [2.3164772260994746, 2.1633431829512118, 2.115613877152403, 2.0760801331450542, 2.0520062977448106, 2.065957635392745, 2.04725190444539, 2.030686594483753, 2.004631110653281, 2.0318882539247474, 2.028151724177102, 2.003253217600286, 2.016681844430665, 2.009918228847285, 1.9829107711712521, 2.0353341657668356, 2.0100182019794977, 2.0029171314090495, 2.046069449310501, 2.0261287645126385, 2.010958014242351, 2.0324683926378686, 2.0284781776989504, 2.0106852455685535, 2.0371392454952, 1.994018297145764, 2.0092007643232743, 2.019510427614053, 2.037372734273473, 2.0176573817928634, 2.013039281653861, 2.0414184790104626, 2.0077651829769216, 2.0501626159374915, 1.9996410923078656, 2.0319238239588833, 2.0150481874123214, 2.045884480245877, 2.023936325280616, 2.0111168149237826, 2.077211721241489, 2.04510338678956, 2.0129905986910064, 2.018331334491571, 1.9999015018964805, 2.021016616684695, 2.027114222074548, 2.0116739561160406, 2.0153988293061653, 2.0436407893585664, 2.0250700435290736, 2.0466382483020427, 2.0204205056652422, 2.01193521466727, 2.036331654153764, 2.0342186223094663, 2.027179867091278, 1.9974988967490692, 2.014192395595213, 2.0156010083854197, 2.026319853651027, 1.991391364329805, 2.0140351093374194, 1.986341121420264, 2.028236563379566, 2.0470374583887554, 2.008991300594062, 2.032209896296263, 2.0224213746997215, 2.034588558971882, 1.998144421602289, 2.0161122190766028, 2.026308259088546, 2.008701716021945, 2.0023008007556204, 2.0103801585733887, 2.03671834776178, 2.017692709093293, 2.006610129214823, 2.0186773563735185, 2.0361506188306526, 2.029110889912894, 2.041632530155281, 2.0202422666673856, 1.993195821437985, 2.012519502174109, 2.038104730192572, 2.005667722628762, 2.008881899404029, 1.9941366109376155, 2.0265088997160396, 2.018865428554515, 2.0301168461019787, 2.023234739837547, 1.9951072139665484, 2.021968257489304, 2.02845003635933, 2.0502870315685864, 1.999558116402477, 1.9761623424167432, 2.0190977223527926, 2.010495936218649, 2.0132361994124945, 2.048613140421609, 2.02969606158634, 2.009093851844469, 2.0151994153236346, 2.0215344856182735, 2.0364982607929663, 2.0393004888668655, 2.0186140343546866, 2.014690694709619, 1.9918841978535056, 2.0039589127525685, 2.0458065551705658, 2.0029237747813267, 2.0431180180981756, 2.0176540639872353, 2.0235010070726274, 2.023617942569156, 2.0166114004639293, 2.0178928607453903, 2.0092767172803483, 2.037931136103968, 1.9878628920142856, 2.0211483793643614, 2.0391577354321875, 2.0071123687550427, 2.0074386366332573, 2.0333697241420547, 2.0227598157400886, 2.031182855181396, 2.025621919892728, 1.9933387978933754, 1.9983800674788654, 2.0478347399582466, 2.012637064357598, 2.022993005625904, 1.9882860105484723, 2.0248871659860015, 2.0290060846135023, 2.028895706869662, 2.036721884769698, 2.016328801276783, 2.020297699856261, 1.9729103670145076, 2.059826187044382, 2.0315916344523433, 2.009278908744455, 2.054533087089658, 2.0032649995759133, 2.0443980374218276, 2.015135768645753, 1.9829073891664541, 2.014248897011081, 2.029910007553796, 2.0334730112925175, 2.0188928204899033, 2.014817922686537, 2.015884819068015, 2.015655114191274, 2.0305824712229272, 2.040399755785863, 2.01987554791073, 2.0429506542161104, 2.0162507429718968, 1.9987022339676817, 2.1173109888553503, 1.9499269929404062, 2.065392151102424, 1.9791630393515032, 2.0127860262989996, 2.0266869181146223, 2.0364656964316965, 2.0046629175543784, 2.042644718103111, 1.9989950148388744, 2.015084676754971, 2.0456079073250297, 1.9958479737862942, 2.025242576810221, 2.0131552462155624, 2.030277360851566, 2.043584110401571, 2.018955939666678, 2.038599490622679, 2.049742020231982, 2.0013394741962354, 2.0228008860101303, 2.0218857659647864, 2.019667176964382, 2.0210051347812015, 1.9944923782721162, 2.0240291568761073, 2.0127019833773376, 2.026912141032517, 2.0359384318192797, 2.04575531968488, 2.025610076946517, 2.009442161085705, 2.0149979850277306, 2.028159307672952, 1.9969174717863407, 2.027548132898907, 1.9940215720484655, 2.037912233856817, 1.967533485374103, 2.178967800224027, 2.0193207163363693, 2.032900975830853, 2.05103984841456, 2.0245852988213304, 2.038527622570594, 2.030643261782825, 2.027232877848049, 2.026979379480083, 2.046436837315559, 2.014562934885422, 2.0431386276458694, 2.0444795411701002, 2.044994877030452, 2.002407243506362, 2.0029658196493982, 2.018412457468609, 1.9992596091702584, 2.007278581708669, 2.05130925818036, 2.018260183930397, 1.9866422186295192, 2.0665435874213776, 2.0376329678421223, 2.0425024308885136, 2.0022378136714294, 2.012861928716302, 2.1266538123834016, 2.032304486818611, 2.0009019774074357, 2.0324738968163727, 1.9881675098091367, 2.0378040083063147, 2.015589562399934, 2.0256219350422424, 2.021515567476551, 2.0059140294790265, 2.0105993873129284, 2.000054724514484, 2.0102495200311146, 2.026779988656441, 2.040508767589927, 2.0150723571578664, 2.0256377548600235, 2.0311912025053362, 2.0165285727630065, 2.0299545601320763, 2.0073015026127297, 2.035949964014192, 2.019169795885682, 2.044473959878087, 2.0088271809741856, 2.0179333185156185, 1.9976303218553464, 2.0125271840331456, 2.0360368081678946, 1.9978057449062667, 2.03522837733229, 2.038482583252092, 2.01269294389834, 2.0006310477231937, 2.0075840990369516, 2.005536031226317, 1.9965220104902983, 2.0624720171093944, 2.010536775055031, 2.0231188092380763, 2.0253216531748572, 2.0168211462597045, 2.0144300809750955, 2.0025662601614993, 2.008157982242604, 2.0197930674999944, 1.9784020859127243, 2.046996014441053, 2.031540328450501, 2.0086836164196336, 2.0140339254712063, 2.0292093326648084, 2.006528028907875, 2.0372114913538097, 2.0426235224430758, 2.0061029293263957, 2.001587218294541, 2.0321336957936484, 2.0075046394641203, 1.9725700275972486, 2.014200206225117, 1.969222811112801, 2.0139491649344565, 2.0077610470975435, 2.0264136765773095, 2.0202574159329134, 2.0270110792169964, 2.039587446550528, 2.0402765774478513, 2.0218504677837097, 2.0269087268660466, 2.008528808224946, 2.023404535464943, 2.0363381333649153, 2.007005817629397, 2.0042778111373383, 2.003449879586697, 2.004149526419739, 1.9913712864431243, 2.042175573048492, 2.0328757505863906, 2.006181125839551, 2.0123686378821732, 2.015680312116941, 2.0083416392405833, 2.0143981356173755, 2.0075387438759207, 2.0596826484426853, 2.042883327168723, 2.0137328891083603, 2.019163974064092, 2.0479791584114233, 2.001718438168367, 1.9758581584319472, 2.0508166522042304, 2.030169839939723, 1.9426724705224234, 1.9757595457602293, 1.9126075264997784, 1.9925186735422655, 1.9440275486985534, 1.875489182878907, 1.9348430973050808, 1.8972091947682201, 1.8345644777330257, 1.8454337870391704, 1.815288175021608, 1.7840753788904593, 1.763601777485262, 1.7308539025795955, 1.7793822524722294, 1.7395738357988495, 1.7004089357331391, 1.7073413252830505, 1.6522221970682343, 1.6785257495008405, 1.671951452984164, 1.6439408289268613, 1.6138860661536452, 1.6205713912534219, 1.62540987127771, 1.6301452450143796, 1.581013801600784, 1.6252393063157797, 1.607791026526441, 1.6052156346229214, 1.5742152701131997, 1.5386524410763136, 1.5809022651364408, 1.5664440994461377, 1.5720471697238585, 1.540413749932001, 1.5612026542425153, 1.5480197903700172, 1.5065030878099304, 1.5268197374418375, 1.538413721990461, 1.5606237821280953, 1.49767521348161, 1.4974506366377074, 1.5260782439882554, 1.4941152576357126, 1.5002690970432013, 1.511860323790461, 1.526688354027768, 1.5035677293470748, 1.5346940801634144, 1.4599893003081283, 1.5451973840283855, 1.4676294074393808, 1.4941084902888782, 1.479495457994441, 1.4337732429150492, 1.4771831739849102, 1.4723530568337688, 1.4588325732232383, 1.4645445941636963, 1.4835237596960118, 1.4726956601875523, 1.4610154448697963, 1.4877146912738684, 1.4606386600217471, 1.4048102445745223, 1.4258607160144798, 1.4134219985300054, 1.45497462033915]}, {\"mode\": \"lines\", \"name\": \"c_per_20_p_per_10\", \"type\": \"scatter\", \"x\": [0, 1, 2, 3, 4, 5, 6, 7, 8, 9, 10, 11, 12, 13, 14, 15, 16, 17, 18, 19, 20, 21, 22, 23, 24, 25, 26, 27, 28, 29, 30, 31, 32, 33, 34, 35, 36, 37, 38, 39, 40, 41, 42, 43, 44, 45, 46, 47, 48, 49, 50, 51, 52, 53, 54, 55, 56, 57, 58, 59, 60, 61, 62, 63, 64, 65, 66, 67, 68, 69, 70, 71, 72, 73, 74, 75, 76, 77, 78, 79, 80, 81, 82, 83, 84, 85, 86, 87, 88, 89, 90, 91, 92, 93, 94, 95, 96, 97, 98, 99, 100, 101, 102, 103, 104, 105, 106, 107, 108, 109, 110, 111, 112, 113, 114, 115, 116, 117, 118, 119, 120, 121, 122, 123, 124, 125, 126, 127, 128, 129, 130, 131, 132, 133, 134, 135, 136, 137, 138, 139, 140, 141, 142, 143, 144, 145, 146, 147, 148, 149, 150, 151, 152, 153, 154, 155, 156, 157, 158, 159, 160, 161, 162, 163, 164, 165, 166, 167, 168, 169, 170, 171, 172, 173, 174, 175, 176, 177, 178, 179, 180, 181, 182, 183, 184, 185, 186, 187, 188, 189, 190, 191, 192, 193, 194, 195, 196, 197, 198, 199, 200, 201, 202, 203, 204, 205, 206, 207, 208, 209, 210, 211, 212, 213, 214, 215, 216, 217, 218, 219, 220, 221, 222, 223, 224, 225, 226, 227, 228, 229, 230, 231, 232, 233, 234, 235, 236, 237, 238, 239, 240, 241, 242, 243, 244, 245, 246, 247, 248, 249, 250, 251, 252, 253, 254, 255, 256, 257, 258, 259, 260, 261, 262, 263, 264, 265, 266, 267, 268, 269, 270, 271, 272, 273, 274, 275, 276, 277, 278, 279, 280, 281, 282, 283, 284, 285, 286, 287, 288, 289, 290, 291, 292, 293, 294, 295, 296, 297, 298, 299, 300, 301, 302, 303, 304, 305, 306, 307, 308, 309, 310, 311, 312, 313, 314, 315, 316, 317, 318, 319, 320, 321, 322, 323, 324, 325, 326, 327, 328, 329, 330, 331, 332, 333, 334, 335, 336, 337, 338, 339, 340, 341, 342, 343, 344, 345, 346, 347, 348, 349, 350, 351, 352, 353, 354, 355, 356, 357, 358, 359, 360, 361, 362, 363, 364, 365, 366, 367, 368, 369, 370, 371, 372, 373, 374, 375, 376, 377, 378, 379, 380, 381, 382, 383, 384, 385, 386, 387, 388, 389, 390, 391, 392, 393, 394, 395, 396, 397, 398, 399], \"y\": [2.7338502062051364, 2.135928802036991, 2.087893441009025, 2.052481939209004, 2.027503793065747, 2.0479145249351864, 2.0356139207258823, 2.0293591745197768, 2.010786733962595, 1.9767207718143858, 1.9955495776608587, 2.0024428042893607, 2.027597085696955, 2.0081289817268653, 1.986151508769641, 2.0377666605015596, 1.9941341798752545, 2.0122576794897515, 2.0176568629841007, 2.0180958370367685, 2.013216522398095, 1.983256186017146, 2.019156622079511, 2.0082382184142866, 2.041875031590462, 1.9839247935141124, 2.0521309237616756, 2.028002004263302, 2.039380366106828, 2.0078282081211607, 2.018172951135784, 1.9975527320678037, 2.006674943429729, 2.0238216613419353, 2.047802254992227, 1.9947557843911157, 2.032435667794198, 2.0380833476781848, 2.0117844555526974, 2.0256671860193207, 2.0244199881330127, 2.0155837253356976, 2.0425656924024223, 2.039490782779952, 1.9595373902780318, 2.0398344542831177, 1.9708169875356056, 2.014977515209466, 2.021786128077656, 2.0185561115543047, 1.9990858740483717, 1.9840390538175896, 1.99837468660747, 2.0404561787843707, 2.0343373170432946, 1.9745625372976068, 2.0386178659896053, 1.9949574862296384, 2.0565570387989283, 2.00384686725835, 2.0500528452297053, 2.0336069010198115, 2.0316001165968673, 2.013437236348788, 2.0427975043654443, 2.0396094921355443, 2.035667523245017, 1.984148537833244, 2.057015868090093, 1.958073413496216, 2.0456110408529637, 2.0270655643194915, 2.0180751726031305, 2.0097233540068067, 2.0254198374226693, 2.0548247881854578, 2.031832362897694, 2.0030266193052126, 1.993372749754538, 1.9991648367295667, 2.0041447332439324, 1.9663858332981665, 2.0357539111437895, 2.024201615341008, 2.0083610279796025, 2.0497058263048533, 2.0079340546702347, 2.011654392412553, 2.0044571293828386, 2.0529510594904425, 1.9983453420301274, 2.020499899641922, 2.0164328734079993, 1.9938770742466052, 2.0057381692652902, 2.0044480765238406, 2.015906970451275, 2.0271701621512572, 2.020174695023646, 2.0081581516191362, 2.002880035744359, 2.0075913021340965, 2.015250696831693, 1.986442904484769, 2.018412704734753, 2.0363928210611144, 1.9642126654895642, 2.011733214495083, 1.9770606595712406, 2.0312094321474428, 2.046248308755457, 2.012358171803256, 1.9849644562850401, 2.010071175917983, 2.005006786994636, 2.0192015657201408, 1.973904348164797, 2.0347208058151103, 1.959406189993024, 2.0075278636688987, 2.0054329984821377, 2.001738374587149, 2.035377626524617, 1.994372058628748, 2.006865500969192, 2.0107578678677482, 2.0259298328931132, 2.0191969298447168, 2.018109376076609, 2.0195242670675113, 2.0087114873963094, 1.9882096524350348, 1.9645347103786972, 2.032762267254293, 2.0015556648994486, 1.9888531276335317, 2.0470764740370213, 2.00992773550873, 2.0178414771333335, 2.00511834823216, 1.9947732872329655, 1.9962382164162893, 2.0228938162326817, 1.984162514905135, 2.0269796047980586, 2.037173876600961, 2.0172516822504503, 2.004538040608167, 1.9977800915638606, 2.0168103688086076, 1.9858820663765073, 2.001582787123819, 2.018829394318163, 1.9908023423204821, 1.9856170023481048, 1.9860758299008012, 2.016226362002393, 2.003686835430563, 1.9769531129548947, 1.996338998526334, 2.034098162315786, 2.0140314186612764, 2.031006107168893, 2.0064222143031656, 2.037831833027303, 2.0082037248959144, 2.005632588795076, 2.0219223385055862, 2.020886013781031, 2.0427220630149048, 2.0217520928631223, 2.0182449290218454, 1.9918824980656307, 1.9881483016225192, 2.025128659171363, 2.0444889115790525, 2.045044590656956, 1.996013629436493, 2.0096852011668185, 2.038729097197453, 1.9939160509966314, 1.990828311784814, 2.000975876922409, 2.0452917353560527, 2.035520156286657, 1.9967561502630513, 1.996147188389053, 2.0019185169289506, 2.0093352095534405, 1.9866121994641919, 2.0267024045810107, 2.022823116245369, 2.0142654774089657, 2.012179841628919, 2.0282899931694067, 2.0126366984720034, 2.0013333060157796, 1.9621915462737285, 2.0127029756704973, 1.9878163280896843, 1.9690506201237443, 2.0149459200290343, 1.9903529830276967, 2.019659844941149, 2.0161194803814095, 1.980422840639949, 2.03909909799695, 1.9992666814165805, 2.038720800851782, 2.0138139963770905, 1.9994087455173333, 2.011036933989575, 1.9804925807751714, 2.0209564313292505, 2.0527775661398975, 2.00522113777697, 2.008828289092828, 2.024812489127119, 1.9841827515512702, 1.9941847930351895, 2.0222334747823583, 1.9889060595072803, 2.0129631643493964, 2.019528099553039, 2.0101797017268836, 2.057740056080123, 1.9880480203777555, 1.988869725912809, 2.0480082650979363, 2.0193926009039087, 2.0262254221364855, 2.0437564802045625, 2.04279440647612, 2.0185329735899966, 2.0063443644593164, 2.0277605513110757, 2.047948487785956, 2.0167051182749365, 2.002960476713876, 2.0480928584933276, 1.9853071187622848, 2.0047144974271456, 1.9859503697603942, 2.044688593968749, 2.013475927027563, 2.0033872502235077, 1.9953181793913246, 1.9969519349125526, 2.0166815225034957, 2.0016870929549135, 2.0286099791526793, 1.9873035737002887, 2.0205004588079953, 1.9965342088912927, 2.013641091436148, 1.9760341744869951, 2.0871179235478245, 1.9477645732772841, 2.075488598893086, 1.9942409950929385, 1.9825230482034382, 2.0059234078973533, 1.9746786462453507, 2.0103951159554225, 1.9832366721704602, 2.013884322345257, 2.0481149895737567, 1.9919434325148662, 2.023861220572144, 2.041990703220169, 2.0082525637311237, 2.039902115861575, 1.9951214380562305, 2.0183116724714636, 2.022593129488329, 1.9877848230302337, 1.9904901723377406, 2.002292436361313, 2.001951041848709, 2.0132718689739706, 2.008129955952366, 2.0067284932980933, 2.0101202012971044, 2.0355458491171396, 2.005881477209429, 2.0358573767667014, 1.9837636418951052, 2.0119904172606766, 1.9883943135539692, 2.019592540493856, 2.0215317275996014, 2.0042597327070926, 2.016806566901505, 1.9895561306426923, 2.0387573249017197, 1.9802907215431333, 2.0219869806120787, 2.0221691378702724, 2.0228811933348574, 1.9680488937844836, 2.0205887144431474, 1.970938656385988, 2.0480319814756514, 2.0336696157542367, 2.0100875636562705, 2.022979466927548, 2.0224714786745603, 1.9827060202447075, 1.997518363936494, 1.959179483509312, 2.035462324724843, 2.0087439748769005, 2.0271556056415045, 2.0337156593178713, 1.9627947359966735, 2.0509167661890393, 1.9752778348202504, 2.010557089808087, 1.9716258212303113, 2.018562294666966, 2.007523194514215, 2.0034083168643217, 2.0235516836245857, 2.0509717492386703, 2.039686468740305, 2.013942838460207, 2.001146210171282, 2.040530510619283, 2.0452459848175444, 1.9838749960064888, 2.011794594209641, 2.0299521312738458, 1.997528416973849, 1.979179825074971, 2.0377794747551286, 1.9911604672359924, 1.9960863417014476, 2.0369688717027508, 2.013796640497943, 2.0148162933687366, 1.9900676929702363, 1.978376948678245, 2.0301155744120476, 1.9968718621879815, 2.0582506043215596, 1.995707005945345, 2.0164106991762916, 2.0103056162906188, 2.018839333516856, 2.026213761108617, 1.9503048129690188, 2.0502698936810093, 1.9879334377124906, 1.9988627858459949, 2.0491783117875455, 2.025382009645303, 2.004981297440827, 2.0094566625853383, 2.0289476953446863, 2.0448709710190696, 2.066640892624855, 2.00295433315138, 2.0108969935526453, 1.9879218967941898, 2.0122082122912013, 1.9610646163113414, 2.039556086622178, 2.0199639779826004, 2.013344703428447, 2.041002014496674, 2.0184279816225166, 1.9767935857176782, 2.078790913211803, 2.0098663842305537, 2.000313528378804, 2.020462185392777, 1.958209946006536, 2.013504081685096, 2.0075700170670947, 2.0403178154801322, 1.9631077772316836, 1.9927781181409956, 2.022602514177561, 2.026476428471506, 2.0014428521816927, 1.9987820572530228, 1.99482696360598, 1.982861300123235, 2.0290437466154496, 1.9930595993064344, 1.9941944966092706, 2.02819826953734, 2.0187357697015007, 1.9869296023622156, 2.0417427337418, 2.0118327357495827, 1.9960868338122961, 2.0518901185443, 2.0166187360882755, 2.0507484221830965]}, {\"mode\": \"lines\", \"name\": \"c_per_20_p_per_20\", \"type\": \"scatter\", \"x\": [0, 1, 2, 3, 4, 5, 6, 7, 8, 9, 10, 11, 12, 13, 14, 15, 16, 17, 18, 19, 20, 21, 22, 23, 24, 25, 26, 27, 28, 29, 30, 31, 32, 33, 34, 35, 36, 37, 38, 39, 40, 41, 42, 43, 44, 45, 46, 47, 48, 49, 50, 51, 52, 53, 54, 55, 56, 57, 58, 59, 60, 61, 62, 63, 64, 65, 66, 67, 68, 69, 70, 71, 72, 73, 74, 75, 76, 77, 78, 79, 80, 81, 82, 83, 84, 85, 86, 87, 88, 89, 90, 91, 92, 93, 94, 95, 96, 97, 98, 99, 100, 101, 102, 103, 104, 105, 106, 107, 108, 109, 110, 111, 112, 113, 114, 115, 116, 117, 118, 119, 120, 121, 122, 123, 124, 125, 126, 127, 128, 129, 130, 131, 132, 133, 134, 135, 136, 137, 138, 139, 140, 141, 142, 143, 144, 145, 146, 147, 148, 149, 150, 151, 152, 153, 154, 155, 156, 157, 158, 159, 160, 161, 162, 163, 164, 165, 166, 167, 168, 169, 170, 171, 172, 173, 174, 175, 176, 177, 178, 179, 180, 181, 182, 183, 184, 185, 186, 187, 188, 189, 190, 191, 192, 193, 194, 195, 196, 197, 198, 199, 200, 201, 202, 203, 204, 205, 206, 207, 208, 209, 210, 211, 212, 213, 214, 215, 216, 217, 218, 219, 220, 221, 222, 223, 224, 225, 226, 227, 228, 229, 230, 231, 232, 233, 234, 235, 236, 237, 238, 239, 240, 241, 242, 243, 244, 245, 246, 247, 248, 249, 250, 251, 252, 253, 254, 255, 256, 257, 258, 259, 260, 261, 262, 263, 264, 265, 266, 267, 268, 269, 270, 271, 272, 273, 274, 275, 276, 277, 278, 279, 280, 281, 282, 283, 284, 285, 286, 287, 288, 289, 290, 291, 292, 293, 294, 295, 296, 297, 298, 299, 300, 301, 302, 303, 304, 305, 306, 307, 308, 309, 310, 311, 312, 313, 314, 315, 316, 317, 318, 319, 320, 321, 322, 323, 324, 325, 326, 327, 328, 329, 330, 331, 332, 333, 334, 335, 336, 337, 338, 339, 340, 341, 342, 343, 344, 345, 346, 347, 348, 349, 350, 351, 352, 353, 354, 355, 356, 357, 358, 359, 360, 361, 362, 363, 364, 365, 366, 367, 368, 369, 370, 371, 372, 373, 374, 375, 376, 377, 378, 379, 380, 381, 382, 383, 384, 385, 386, 387, 388, 389, 390, 391, 392, 393, 394, 395, 396, 397, 398, 399], \"y\": [3.0120341501251606, 2.158862609478335, 2.0656174804394447, 2.0447535238539176, 2.037953744952877, 1.9820812878509364, 2.0356138689443464, 1.9742307147632048, 1.9865508849422138, 1.9763194994380076, 1.9944414948113258, 1.9733516383916139, 1.9846481281643116, 2.021231862343847, 2.020114556079109, 2.0245692088579137, 2.0164575070763626, 2.0139728751654427, 2.0384154281268514, 2.0189055661981308, 2.01602316138645, 1.9819255540147425, 2.015441343002022, 2.017839129269123, 1.9783369646097217, 2.006821161073943, 2.017516944929957, 2.030682299037774, 2.0434725423033036, 2.0074204883848625, 2.034650597985213, 2.0084124540599686, 1.995732929495474, 1.999974783634146, 1.9921952295737964, 2.097352151249652, 2.027995180649062, 1.989627413265407, 1.9897082109625142, 1.978741346951574, 2.0155003921439247, 2.0267831586611766, 2.003718076366931, 2.0569829722245534, 2.020488190278411, 1.9999870115270215, 2.013514043980588, 2.0284368931315844, 2.009526098457475, 2.0025617766194044, 2.0426636436333263, 1.997629971802235, 2.027989658682297, 2.00455780957515, 2.008728678586582, 1.9762971511421104, 2.038019868731499, 1.996694749655823, 2.0119925680880746, 1.986905260446171, 2.0167772993445396, 1.989093229547143, 2.007630620027581, 1.9895479042703912, 2.0116037680146595, 1.9834958645825587, 2.021966669801622, 2.0434863131803773, 2.0517705070475736, 2.0068170435726644, 2.014204242452979, 2.0484438863272465, 1.9984141553441688, 2.076217684398095, 2.0074677872781956, 2.069959048944292, 2.095185109662513, 2.002921942000588, 1.9944595076764629, 2.029237296494345, 2.055359817389399, 2.033838314687212, 2.026539404814442, 1.9883713313067954, 2.121288720145822, 1.979024934551368, 2.0181368972485267, 2.0153784191235897, 2.0002818821308512, 1.9931371893112857, 2.066104621626437, 2.010088072018698, 2.0064190786952776, 1.9997562717025477, 2.025605507877966, 2.0186948923394086, 2.013045722339302, 2.014611848878364, 2.037388765874008, 2.006168956682086, 1.9810223590893052, 1.981570523791015, 2.008615705867608, 2.013135408051312, 2.0544606944546104, 2.008452090993523, 1.9828506893788773, 1.9925590074310702, 1.9941814566031102, 2.0282327061519028, 2.0273480447630083, 1.939726114148895, 2.0525596424937254, 2.0425957389486333, 2.000823797409733, 2.025440948922187, 1.978896293354531, 2.015266695059836, 1.9967874800165497, 1.9918603539466857, 1.9901648656775557, 2.07609474932154, 1.9856733358775578, 1.9849847023375333, 1.9960416800652947, 1.9833152817562223, 1.9870706448021032, 1.9937888740251464, 2.025322883141537, 1.9954939364766084, 1.9922733800485726, 2.020733907570442, 1.9947019327742361, 2.0248033998534085, 2.0113233816809952, 1.999263376928866, 2.0123460068677863, 1.9724980463273822, 2.0455419330547255, 2.0262365739171697, 2.0410621027151743, 2.002220543846488, 1.9856490741794306, 2.019078935372333, 1.9912722662091256, 2.030471041301886, 2.0436665782704955, 2.010239237981538, 1.9611560430377721, 2.0157413344209396, 2.012891613257428, 2.021616151525328, 2.0356626494477195, 1.9745571518316865, 2.004394770072152, 1.9966589174543823, 2.024653850930432, 1.9766534163306155, 1.9988281937936943, 2.068942682631314, 2.0126805998384953, 1.9747413900991284, 2.009022832599779, 2.0114680799034734, 2.0257415941916403, 2.010581569684048, 2.055313725396991, 1.9895933662851655, 1.9902238701470192, 2.0461500878135364, 1.9834286261349914, 2.040539918964108, 2.009029300324619, 2.0310484304403267, 2.0048447116588552, 1.999706158476571, 2.0273727087303994, 2.038147048403819, 2.0408575744678576, 2.0138618901371954, 1.9660357571517426, 2.025104202143848, 1.9730854264770943, 2.0538768520578747, 2.0198200954124332, 2.0059336859111982, 2.0367774374783036, 1.9927880718683202, 2.094707931578159, 1.9954572771986328, 2.0253478306656083, 1.9791182467713953, 1.9802006124829254, 2.026644484139979, 2.0220876639087995, 2.04580840729177, 2.002183072641492, 1.963210965227336, 2.0459478930259745, 2.032571700153251, 2.0293194998676576, 2.0225308453043302, 1.9857383558837072, 1.974926501326263, 2.006253612879664, 1.9967115456859268, 1.9920613296329974, 1.9923272270709274, 1.993447281854848, 2.033860951351623, 1.9950919158756732, 2.056878132435183, 1.9609119765150052, 2.09905478892227, 2.0079902296264964, 2.052684596243004, 1.9968083579093214, 1.9938105921261013, 2.087646493315696, 1.9780710673580564, 2.0043753685429695, 2.0531989524761833, 1.9682355368820326, 2.0200198562815785, 2.0248738148560124, 2.0354554144044714, 2.0112611528486015, 2.0114634746064746, 1.9960022777939836, 2.019821359279255, 1.9857154664893948, 1.9974559557313722, 1.9681868564958376, 2.0110616007819773, 1.9627603882302842, 2.0565670872728035, 1.946189650458594, 2.0635229922210176, 2.0075020913655566, 2.0036602405210333, 1.9907853491604324, 2.0332888357962178, 1.999147403674821, 2.05141016797473, 1.996300636728605, 2.000069095660001, 2.009995389108857, 1.9993945185715956, 2.0291407346104586, 1.984246999459962, 2.0150702254225807, 2.0041726425290105, 2.0411300913741193, 2.0242917962993188, 1.9939826533508795, 1.9517749647299447, 2.0266816974927986, 2.0028872660671673, 1.9987492529675361, 2.0117563739418984, 1.9930897696564596, 2.0505678060775, 1.9969992887228727, 2.0136646457637353, 1.9963591693279643, 2.0493409227579833, 2.011497707168261, 2.011680867522955, 2.002133424518009, 2.027615057552854, 2.025542144384235, 1.979183011377851, 2.026429995087286, 2.002087923449775, 1.9940483304982386, 2.0254137254630526, 2.0019038632512087, 2.003923319497456, 2.0293336981286605, 2.0725929371391736, 2.0322196717063585, 1.9829144164298977, 2.015297562753161, 2.0206081650840737, 2.0018391092928747, 2.026022301986813, 2.031586760096252, 2.008720757750173, 2.016853888022403, 2.0337525522957245, 2.019691510312259, 1.9559853221600254, 2.015581641967098, 1.98705250347654, 1.9884478105232115, 1.992495735206952, 2.023206426265339, 2.0153671610789994, 2.0067727509886026, 1.9958867862199743, 2.042707920446992, 1.9990069549530745, 2.043088696151972, 2.03470823969692, 2.0234308889756596, 2.0212666710761065, 1.9965688058485587, 2.035586319801708, 2.0403916359568632, 2.024044223098705, 2.004377902423342, 1.9577231536308926, 2.041773310676217, 1.9997592466572922, 2.0139066898574427, 2.007121527815859, 2.017323821100096, 2.0235371027141804, 1.958770818635821, 2.04984691819797, 2.0036669109016656, 1.992752048559487, 2.0245655803009868, 2.0230921590079864, 2.0302262519175804, 2.02249856715401, 2.0128288218751544, 1.9712221869267523, 2.045818332396448, 2.019163986419638, 2.0211968529659012, 2.010893311165273, 2.0017173414429026, 2.0369311702127257, 1.9748741453513503, 1.9968651637434962, 1.9695516113502283, 2.0692045657585068, 1.9932241022586823, 2.0482069226602713, 2.006308061257005, 2.0080685375258325, 2.020508113565544, 2.000320696334044, 1.9975423064082864, 2.021918535232544, 2.02317928088208, 2.0236373784020545, 2.0155786234264577, 1.9786285281802218, 2.016256086714566, 2.0136877266069257, 1.9778413573279976, 2.0213052781298755, 2.0144538592547176, 2.0238169704874354, 2.0345780859390894, 1.9670836239742733, 2.0144769578861697, 2.005124282495429, 2.0054693627015996, 2.1559096239662416, 2.0579736393876376, 2.001994334720075, 2.022423538503548, 2.095883756026888, 2.010610108481099, 2.0312284453461564, 2.029090966222187, 1.9935345644441747, 2.0337412104631465, 1.9886437512701378, 2.0387328871719848, 2.01621354703481, 1.9882364578622702, 1.9296232936903834, 1.9337918769888347, 1.8492589705623685, 1.8474874999684592, 1.85088231023401, 1.8476072382492323, 1.7792496957195305, 1.7980636232222118, 1.746619242119292, 1.7440637280388427, 1.6976249162418149, 1.7368923087914783, 1.6747376588794094, 1.666494273673743, 1.7437847319059074, 1.6746884437277914, 1.6202357271530978, 1.6726701672188937, 1.6129251931793989, 1.6378808705757062, 1.632291807948301, 1.5702441041668256, 1.5838382994445666, 1.6042383873214323, 1.5600552586217722]}, {\"mode\": \"lines\", \"name\": \"c_per_20_p_per_40\", \"type\": \"scatter\", \"x\": [0, 1, 2, 3, 4, 5, 6, 7, 8, 9, 10, 11, 12, 13, 14, 15, 16, 17, 18, 19, 20, 21, 22, 23, 24, 25, 26, 27, 28, 29, 30, 31, 32, 33, 34, 35, 36, 37, 38, 39, 40, 41, 42, 43, 44, 45, 46, 47, 48, 49, 50, 51, 52, 53, 54, 55, 56, 57, 58, 59, 60, 61, 62, 63, 64, 65, 66, 67, 68, 69, 70, 71, 72, 73, 74, 75, 76, 77, 78, 79, 80, 81, 82, 83, 84, 85, 86, 87, 88, 89, 90, 91, 92, 93, 94, 95, 96, 97, 98, 99, 100, 101, 102, 103, 104, 105, 106, 107, 108, 109, 110, 111, 112, 113, 114, 115, 116, 117, 118, 119, 120, 121, 122, 123, 124, 125, 126, 127, 128, 129, 130, 131, 132, 133, 134, 135, 136, 137, 138, 139, 140, 141, 142, 143, 144, 145, 146, 147, 148, 149, 150, 151, 152, 153, 154, 155, 156, 157, 158, 159, 160, 161, 162, 163, 164, 165, 166, 167, 168, 169, 170, 171, 172, 173, 174, 175, 176, 177, 178, 179, 180, 181, 182, 183, 184, 185, 186, 187, 188, 189, 190, 191, 192, 193, 194, 195, 196, 197, 198, 199, 200, 201, 202, 203, 204, 205, 206, 207, 208, 209, 210, 211, 212, 213, 214, 215, 216, 217, 218, 219, 220, 221, 222, 223, 224, 225, 226, 227, 228, 229, 230, 231, 232, 233, 234, 235, 236, 237, 238, 239, 240, 241, 242, 243, 244, 245, 246, 247, 248, 249, 250, 251, 252, 253, 254, 255, 256, 257, 258, 259, 260, 261, 262, 263, 264, 265, 266, 267, 268, 269, 270, 271, 272, 273, 274, 275, 276, 277, 278, 279, 280, 281, 282, 283, 284, 285, 286, 287, 288, 289, 290, 291, 292, 293, 294, 295, 296, 297, 298, 299, 300, 301, 302, 303, 304, 305, 306, 307, 308, 309, 310, 311, 312, 313, 314, 315, 316, 317, 318, 319, 320, 321, 322, 323, 324, 325, 326, 327, 328, 329, 330, 331, 332, 333, 334, 335, 336, 337, 338, 339, 340, 341, 342, 343, 344, 345, 346, 347, 348, 349, 350, 351, 352, 353, 354, 355, 356, 357, 358, 359, 360, 361, 362, 363, 364, 365, 366, 367, 368, 369, 370, 371, 372, 373, 374, 375, 376, 377, 378, 379, 380, 381, 382, 383, 384, 385, 386, 387, 388, 389, 390, 391, 392, 393, 394, 395, 396, 397, 398, 399], \"y\": [3.0581045348234044, 2.119667535220894, 2.070347232930362, 2.0599054520949727, 2.0130451748458045, 1.9704336319739624, 2.0210320260375743, 1.9478224626742304, 2.065323869014779, 2.043006476961697, 1.9838476279440027, 1.9550924513489005, 1.984691516744594, 2.0105919505159053, 1.9759764206595722, 1.943047968763858, 1.9709803495866556, 1.974050804972649, 2.021307347590725, 2.0404409854362404, 2.028342841130991, 1.9851852322928611, 2.072758979598681, 1.960748315230012, 2.003564401343465, 1.9892608772342402, 2.017119757210215, 2.011253583803773, 1.999929450980077, 2.0051132085112235, 1.9606025026179847, 2.033993532756964, 1.969589806379129, 2.000714638798187, 1.944176851802816, 2.0562941128077608, 2.018806928830842, 2.0348409287010627, 1.9962912059699494, 2.0235885476693514, 2.0257623229175805, 2.009116640935342, 1.9836809755923845, 2.0228837741228443, 2.0013807086584463, 2.0543966355423136, 1.988999096800884, 1.9844443361274902, 2.0103098554536696, 1.997124770966669, 1.9745895099205275, 1.9791579219202202, 2.0137674661663674, 2.0673083544398345, 2.076817317400128, 2.0038776610046627, 2.1105715146288277, 2.005119799077511, 2.065253568657984, 2.037087449276199, 2.0104358153417707, 1.938424280037483, 2.0598754219400393, 1.988732191299399, 2.088313757162541, 2.0122426632170876, 2.040799559125056, 2.0214969272104404, 1.9766135899039607, 2.1703573109776095, 2.037052671269824, 1.9716731148151059, 2.009236159889648, 1.9974573416945838, 2.0006367208436133, 1.979567287582904, 2.079462951639046, 2.015820456730823, 2.013663971982896, 2.0936581447720526, 2.0846362745389344, 1.9854254925623533, 2.0228059775506457, 2.031979269782702, 1.9955557242035866, 2.116587655587743, 2.0624789356564484, 2.0478385796770455, 2.012652408579986, 2.095057188657423, 2.0681753903627396, 2.020308075845241, 2.0858807075147827, 2.034951845370233, 2.023874763585627, 2.055195115879178, 1.9880840458596745, 2.109225020185113, 2.0056187072768807, 2.066148475433389, 1.9865483449461556, 2.0656905338789024, 2.058604236102353, 1.998567733137558, 2.095179446476201, 2.0004781549796458, 2.071828091517091, 1.9763347239543994, 2.0141242294261854, 2.044673891707013, 2.1139086044703914, 2.0647004309731223, 2.0980522389213245, 2.081177851743996, 2.028107745200395, 1.962187583154688, 2.1317719049751758, 2.122885502999028, 1.9887730827555061, 2.073684986960143, 2.03731080510964, 2.0596375126391653, 2.0627973570177947, 2.0219032210608323, 2.036006777112683, 2.008743911112348, 2.0475410879279177, 2.0702378006651996, 2.0936679290607576, 2.0343915461252133, 2.053991615399718, 2.0661493963872397, 2.071589038334787, 2.12041313101848, 1.998873218273123, 2.1199737717087066, 2.1232294229169693, 2.0467157452367246, 2.0289381927810615, 2.0884526510412496, 2.0075082433409994, 2.0468329900875686, 2.0612757148221137, 2.041050991540154, 2.0563758761311575, 1.999691666290164, 2.159706805211802, 2.0498707155386606, 2.0323486102744934, 2.0643666308373216, 2.0694799069315195, 2.08507916573435, 2.0270120901366075, 2.0084626484041412, 2.0178328889732553, 2.0675386216491463, 2.017692913891127, 2.052724932072064, 2.0334507875765366, 1.9829845837627846, 2.135304536670447, 2.0898148966332277, 1.987903595964114, 2.0758898242066306, 1.9972926593075198, 2.069292315468192, 2.0351418352996307, 2.1908408263327424, 1.9948918618572253, 2.0664759835228326, 2.0901015523200237, 2.065662132886549, 2.036327324124674, 2.012684390880168, 2.010377975056569, 2.1303460163995624, 1.9888272450615965, 2.0175797214731572, 2.0644347202653686, 2.0361167314772803, 2.0996175520742932, 2.048257683031261, 2.0197729546576735, 2.086982949605832, 2.0686496702333295, 1.986080720834434, 2.0493315666913987, 1.9696286777034397, 2.0272825850173835, 1.9546528229489923, 2.101387297300001, 2.1591363100335004, 2.057929225328068, 1.9930262257655464, 2.1664563337340956, 2.02167652292798, 2.1438500669474405, 2.077620371989906, 2.1200447593505185, 2.0316737448796633, 2.1119863107800487, 2.0223736591637134, 1.98237074414889, 2.0402600523705283, 2.057355902281901, 2.0072804659294583, 1.96366073411579, 2.129729234613478, 2.037838184026381, 2.0655734137942394, 2.0421374581754206, 2.0227647207677366, 1.994480547681451, 2.1251884893203776, 2.0404872695604963, 2.071340209618211, 2.034402330219746, 2.028142238035798, 2.052322168834507, 2.0779496820022665, 2.004426718937854, 2.034597714431584, 2.1179029122615853, 2.0661732433984676, 2.0320629088208078, 2.0977702978998423, 2.0443124338984484, 2.0255285442496342, 2.0738818792626263, 2.0974960016086697, 2.0284959965075053, 2.0839013061175744, 2.076671349691848, 1.9781058941657341, 2.0376554280519485, 2.0302631333470345, 2.1181112953151264, 2.002267228936156, 2.0503428387766083, 2.106130600968997, 2.0735449836278947, 2.0828749905650814, 2.005753064652284, 2.040420403021077, 2.029605312086642, 2.0731862661118305, 2.0640543478230633, 2.1100290765985843, 2.0596870598693693, 2.0150163163120545, 2.0368128428856527, 2.031225404515862, 2.0900911699980496, 2.0050851278007036, 2.145449379769464, 2.0809819069691002, 2.034254159592092, 2.071196931848923, 2.035879361629486, 2.0108857032532494, 2.060229108544687, 2.072073164954781, 2.051433912602564, 1.9826072021697954, 2.028002443102499, 2.026611427217721, 2.0403549579282605, 2.1312746887405716, 2.0896553887054323, 1.9830272824193038, 2.138327115712066, 2.076633699548741, 2.0391347061221796, 2.0365108791117867, 2.0253151990783707, 1.9919434354950982, 2.141144863826533, 2.0695268900444113, 2.033433904498816, 2.08435507149746, 2.030751970099906, 2.012305398099125, 2.0010841046770413, 2.199291530655076, 2.0914112563555443, 1.9926863017802436, 2.0326613812707364, 2.0970270209635298, 1.9854173099622134, 1.9794972894713279, 1.976137837395072, 2.0033135116721192, 2.0852691301455097, 2.070545031192402, 2.0351821487148607, 1.9977006840830047, 2.018075267101328, 2.0098727208562193, 2.0860034343476097, 2.0068752896040682, 2.0263968570778763, 2.1368276307980225, 2.0946896496539313, 2.010589088809987, 2.011268109455705, 2.039461794681847, 2.0162738461047414, 2.0340818354859946, 2.02911597987016, 2.0664747461676596, 2.083870430663228, 2.029228837881237, 2.0242532824166117, 1.9863681921114522, 2.0693158702303966, 2.0016716323172052, 2.025050811593732, 2.038904176155726, 1.971228400990367, 2.0752052720636125, 2.0458459315821527, 1.9829136928543452, 2.0917074892049037, 2.145212770067156, 2.0251773516337077, 2.0185689402123295, 2.056986024882644, 1.9673471843202908, 2.112311090839406, 2.048389260098338, 2.0465797765801357, 2.1316043551390367, 2.0718530075003705, 2.041131773466865, 2.076304195138315, 2.079475964916249, 2.016470038269957, 2.1069298407683767, 1.9966502531121175, 2.1586386309936643, 2.0271736436833936, 2.0969327499469115, 1.983286735912164, 2.0899731596310933, 2.000255787248413, 2.0205236179754142, 2.0608467648426694, 2.079744078591466, 2.033850187001129, 1.9675753217190508, 2.096683847221235, 2.1374876900886495, 2.1183562057092784, 2.033476862870157, 2.0832417431597907, 1.9899869920685884, 2.097816851052145, 2.015911830527087, 2.0113873713960255, 2.0284110826129713, 2.13783828454713, 2.0457621795435745, 2.065701118297875, 2.0422135468882816, 2.0553654339164495, 2.215126365733643, 2.053207391127944, 2.1346188347786663, 2.0519267376512293, 2.030774177548786, 2.0239982485150296, 2.109133543943365, 2.0797578570743402, 2.0237111955881124, 2.0848292291164396, 2.0570724961037437, 2.1183017686630286, 2.0206068478524686, 2.0249517048398658, 2.1478657005975643, 2.0961692155028384, 2.0565832542876405, 1.9733451690524813, 2.0397355323657393, 2.0060776597820222, 2.0975529764468477, 2.0457475047558544, 2.108118938282132, 2.0580182928281525, 2.0329196504938105, 1.9851164681836964, 2.095185209686557, 2.0131354315206407, 1.9661092706024643, 2.134243039724727, 2.029967279887448, 2.0856381846591834, 2.082841950717072, 2.0378572020369274, 1.9940750416989128]}],                        {\"template\": {\"data\": {\"bar\": [{\"error_x\": {\"color\": \"#2a3f5f\"}, \"error_y\": {\"color\": \"#2a3f5f\"}, \"marker\": {\"line\": {\"color\": \"#E5ECF6\", \"width\": 0.5}}, \"type\": \"bar\"}], \"barpolar\": [{\"marker\": {\"line\": {\"color\": \"#E5ECF6\", \"width\": 0.5}}, \"type\": \"barpolar\"}], \"carpet\": [{\"aaxis\": {\"endlinecolor\": \"#2a3f5f\", \"gridcolor\": \"white\", \"linecolor\": \"white\", \"minorgridcolor\": \"white\", \"startlinecolor\": \"#2a3f5f\"}, \"baxis\": {\"endlinecolor\": \"#2a3f5f\", \"gridcolor\": \"white\", \"linecolor\": \"white\", \"minorgridcolor\": \"white\", \"startlinecolor\": \"#2a3f5f\"}, \"type\": \"carpet\"}], \"choropleth\": [{\"colorbar\": {\"outlinewidth\": 0, \"ticks\": \"\"}, \"type\": \"choropleth\"}], \"contour\": [{\"colorbar\": {\"outlinewidth\": 0, \"ticks\": \"\"}, \"colorscale\": [[0.0, \"#0d0887\"], [0.1111111111111111, \"#46039f\"], [0.2222222222222222, \"#7201a8\"], [0.3333333333333333, \"#9c179e\"], [0.4444444444444444, \"#bd3786\"], [0.5555555555555556, \"#d8576b\"], [0.6666666666666666, \"#ed7953\"], [0.7777777777777778, \"#fb9f3a\"], [0.8888888888888888, \"#fdca26\"], [1.0, \"#f0f921\"]], \"type\": \"contour\"}], \"contourcarpet\": [{\"colorbar\": {\"outlinewidth\": 0, \"ticks\": \"\"}, \"type\": \"contourcarpet\"}], \"heatmap\": [{\"colorbar\": {\"outlinewidth\": 0, \"ticks\": \"\"}, \"colorscale\": [[0.0, \"#0d0887\"], [0.1111111111111111, \"#46039f\"], [0.2222222222222222, \"#7201a8\"], [0.3333333333333333, \"#9c179e\"], [0.4444444444444444, \"#bd3786\"], [0.5555555555555556, \"#d8576b\"], [0.6666666666666666, \"#ed7953\"], [0.7777777777777778, \"#fb9f3a\"], [0.8888888888888888, \"#fdca26\"], [1.0, \"#f0f921\"]], \"type\": \"heatmap\"}], \"heatmapgl\": [{\"colorbar\": {\"outlinewidth\": 0, \"ticks\": \"\"}, \"colorscale\": [[0.0, \"#0d0887\"], [0.1111111111111111, \"#46039f\"], [0.2222222222222222, \"#7201a8\"], [0.3333333333333333, \"#9c179e\"], [0.4444444444444444, \"#bd3786\"], [0.5555555555555556, \"#d8576b\"], [0.6666666666666666, \"#ed7953\"], [0.7777777777777778, \"#fb9f3a\"], [0.8888888888888888, \"#fdca26\"], [1.0, \"#f0f921\"]], \"type\": \"heatmapgl\"}], \"histogram\": [{\"marker\": {\"colorbar\": {\"outlinewidth\": 0, \"ticks\": \"\"}}, \"type\": \"histogram\"}], \"histogram2d\": [{\"colorbar\": {\"outlinewidth\": 0, \"ticks\": \"\"}, \"colorscale\": [[0.0, \"#0d0887\"], [0.1111111111111111, \"#46039f\"], [0.2222222222222222, \"#7201a8\"], [0.3333333333333333, \"#9c179e\"], [0.4444444444444444, \"#bd3786\"], [0.5555555555555556, \"#d8576b\"], [0.6666666666666666, \"#ed7953\"], [0.7777777777777778, \"#fb9f3a\"], [0.8888888888888888, \"#fdca26\"], [1.0, \"#f0f921\"]], \"type\": \"histogram2d\"}], \"histogram2dcontour\": [{\"colorbar\": {\"outlinewidth\": 0, \"ticks\": \"\"}, \"colorscale\": [[0.0, \"#0d0887\"], [0.1111111111111111, \"#46039f\"], [0.2222222222222222, \"#7201a8\"], [0.3333333333333333, \"#9c179e\"], [0.4444444444444444, \"#bd3786\"], [0.5555555555555556, \"#d8576b\"], [0.6666666666666666, \"#ed7953\"], [0.7777777777777778, \"#fb9f3a\"], [0.8888888888888888, \"#fdca26\"], [1.0, \"#f0f921\"]], \"type\": \"histogram2dcontour\"}], \"mesh3d\": [{\"colorbar\": {\"outlinewidth\": 0, \"ticks\": \"\"}, \"type\": \"mesh3d\"}], \"parcoords\": [{\"line\": {\"colorbar\": {\"outlinewidth\": 0, \"ticks\": \"\"}}, \"type\": \"parcoords\"}], \"pie\": [{\"automargin\": true, \"type\": \"pie\"}], \"scatter\": [{\"marker\": {\"colorbar\": {\"outlinewidth\": 0, \"ticks\": \"\"}}, \"type\": \"scatter\"}], \"scatter3d\": [{\"line\": {\"colorbar\": {\"outlinewidth\": 0, \"ticks\": \"\"}}, \"marker\": {\"colorbar\": {\"outlinewidth\": 0, \"ticks\": \"\"}}, \"type\": \"scatter3d\"}], \"scattercarpet\": [{\"marker\": {\"colorbar\": {\"outlinewidth\": 0, \"ticks\": \"\"}}, \"type\": \"scattercarpet\"}], \"scattergeo\": [{\"marker\": {\"colorbar\": {\"outlinewidth\": 0, \"ticks\": \"\"}}, \"type\": \"scattergeo\"}], \"scattergl\": [{\"marker\": {\"colorbar\": {\"outlinewidth\": 0, \"ticks\": \"\"}}, \"type\": \"scattergl\"}], \"scattermapbox\": [{\"marker\": {\"colorbar\": {\"outlinewidth\": 0, \"ticks\": \"\"}}, \"type\": \"scattermapbox\"}], \"scatterpolar\": [{\"marker\": {\"colorbar\": {\"outlinewidth\": 0, \"ticks\": \"\"}}, \"type\": \"scatterpolar\"}], \"scatterpolargl\": [{\"marker\": {\"colorbar\": {\"outlinewidth\": 0, \"ticks\": \"\"}}, \"type\": \"scatterpolargl\"}], \"scatterternary\": [{\"marker\": {\"colorbar\": {\"outlinewidth\": 0, \"ticks\": \"\"}}, \"type\": \"scatterternary\"}], \"surface\": [{\"colorbar\": {\"outlinewidth\": 0, \"ticks\": \"\"}, \"colorscale\": [[0.0, \"#0d0887\"], [0.1111111111111111, \"#46039f\"], [0.2222222222222222, \"#7201a8\"], [0.3333333333333333, \"#9c179e\"], [0.4444444444444444, \"#bd3786\"], [0.5555555555555556, \"#d8576b\"], [0.6666666666666666, \"#ed7953\"], [0.7777777777777778, \"#fb9f3a\"], [0.8888888888888888, \"#fdca26\"], [1.0, \"#f0f921\"]], \"type\": \"surface\"}], \"table\": [{\"cells\": {\"fill\": {\"color\": \"#EBF0F8\"}, \"line\": {\"color\": \"white\"}}, \"header\": {\"fill\": {\"color\": \"#C8D4E3\"}, \"line\": {\"color\": \"white\"}}, \"type\": \"table\"}]}, \"layout\": {\"annotationdefaults\": {\"arrowcolor\": \"#2a3f5f\", \"arrowhead\": 0, \"arrowwidth\": 1}, \"autotypenumbers\": \"strict\", \"coloraxis\": {\"colorbar\": {\"outlinewidth\": 0, \"ticks\": \"\"}}, \"colorscale\": {\"diverging\": [[0, \"#8e0152\"], [0.1, \"#c51b7d\"], [0.2, \"#de77ae\"], [0.3, \"#f1b6da\"], [0.4, \"#fde0ef\"], [0.5, \"#f7f7f7\"], [0.6, \"#e6f5d0\"], [0.7, \"#b8e186\"], [0.8, \"#7fbc41\"], [0.9, \"#4d9221\"], [1, \"#276419\"]], \"sequential\": [[0.0, \"#0d0887\"], [0.1111111111111111, \"#46039f\"], [0.2222222222222222, \"#7201a8\"], [0.3333333333333333, \"#9c179e\"], [0.4444444444444444, \"#bd3786\"], [0.5555555555555556, \"#d8576b\"], [0.6666666666666666, \"#ed7953\"], [0.7777777777777778, \"#fb9f3a\"], [0.8888888888888888, \"#fdca26\"], [1.0, \"#f0f921\"]], \"sequentialminus\": [[0.0, \"#0d0887\"], [0.1111111111111111, \"#46039f\"], [0.2222222222222222, \"#7201a8\"], [0.3333333333333333, \"#9c179e\"], [0.4444444444444444, \"#bd3786\"], [0.5555555555555556, \"#d8576b\"], [0.6666666666666666, \"#ed7953\"], [0.7777777777777778, \"#fb9f3a\"], [0.8888888888888888, \"#fdca26\"], [1.0, \"#f0f921\"]]}, \"colorway\": [\"#636efa\", \"#EF553B\", \"#00cc96\", \"#ab63fa\", \"#FFA15A\", \"#19d3f3\", \"#FF6692\", \"#B6E880\", \"#FF97FF\", \"#FECB52\"], \"font\": {\"color\": \"#2a3f5f\"}, \"geo\": {\"bgcolor\": \"white\", \"lakecolor\": \"white\", \"landcolor\": \"#E5ECF6\", \"showlakes\": true, \"showland\": true, \"subunitcolor\": \"white\"}, \"hoverlabel\": {\"align\": \"left\"}, \"hovermode\": \"closest\", \"mapbox\": {\"style\": \"light\"}, \"paper_bgcolor\": \"white\", \"plot_bgcolor\": \"#E5ECF6\", \"polar\": {\"angularaxis\": {\"gridcolor\": \"white\", \"linecolor\": \"white\", \"ticks\": \"\"}, \"bgcolor\": \"#E5ECF6\", \"radialaxis\": {\"gridcolor\": \"white\", \"linecolor\": \"white\", \"ticks\": \"\"}}, \"scene\": {\"xaxis\": {\"backgroundcolor\": \"#E5ECF6\", \"gridcolor\": \"white\", \"gridwidth\": 2, \"linecolor\": \"white\", \"showbackground\": true, \"ticks\": \"\", \"zerolinecolor\": \"white\"}, \"yaxis\": {\"backgroundcolor\": \"#E5ECF6\", \"gridcolor\": \"white\", \"gridwidth\": 2, \"linecolor\": \"white\", \"showbackground\": true, \"ticks\": \"\", \"zerolinecolor\": \"white\"}, \"zaxis\": {\"backgroundcolor\": \"#E5ECF6\", \"gridcolor\": \"white\", \"gridwidth\": 2, \"linecolor\": \"white\", \"showbackground\": true, \"ticks\": \"\", \"zerolinecolor\": \"white\"}}, \"shapedefaults\": {\"line\": {\"color\": \"#2a3f5f\"}}, \"ternary\": {\"aaxis\": {\"gridcolor\": \"white\", \"linecolor\": \"white\", \"ticks\": \"\"}, \"baxis\": {\"gridcolor\": \"white\", \"linecolor\": \"white\", \"ticks\": \"\"}, \"bgcolor\": \"#E5ECF6\", \"caxis\": {\"gridcolor\": \"white\", \"linecolor\": \"white\", \"ticks\": \"\"}}, \"title\": {\"x\": 0.05}, \"xaxis\": {\"automargin\": true, \"gridcolor\": \"white\", \"linecolor\": \"white\", \"ticks\": \"\", \"title\": {\"standoff\": 15}, \"zerolinecolor\": \"white\", \"zerolinewidth\": 2}, \"yaxis\": {\"automargin\": true, \"gridcolor\": \"white\", \"linecolor\": \"white\", \"ticks\": \"\", \"title\": {\"standoff\": 15}, \"zerolinecolor\": \"white\", \"zerolinewidth\": 2}}}, \"title\": {\"text\": \"Training Losses\"}, \"xaxis\": {\"title\": {\"text\": \"Fed Round\"}}, \"yaxis\": {\"title\": {\"text\": \"Loss\"}}},                        {\"responsive\": true}                    ).then(function(){\n",
       "                            \n",
       "var gd = document.getElementById('4236d5fe-35c3-4484-93db-c95637aec134');\n",
       "var x = new MutationObserver(function (mutations, observer) {{\n",
       "        var display = window.getComputedStyle(gd).display;\n",
       "        if (!display || display === 'none') {{\n",
       "            console.log([gd, 'removed!']);\n",
       "            Plotly.purge(gd);\n",
       "            observer.disconnect();\n",
       "        }}\n",
       "}});\n",
       "\n",
       "// Listen for the removal of the full notebook cells\n",
       "var notebookContainer = gd.closest('#notebook-container');\n",
       "if (notebookContainer) {{\n",
       "    x.observe(notebookContainer, {childList: true});\n",
       "}}\n",
       "\n",
       "// Listen for the clearing of the current output cell\n",
       "var outputEl = gd.closest('.output');\n",
       "if (outputEl) {{\n",
       "    x.observe(outputEl, {childList: true});\n",
       "}}\n",
       "\n",
       "                        })                };                });            </script>        </div>"
      ]
     },
     "metadata": {},
     "output_type": "display_data"
    },
    {
     "data": {
      "application/vnd.plotly.v1+json": {
       "config": {
        "plotlyServerURL": "https://plot.ly"
       },
       "data": [
        {
         "mode": "lines+markers",
         "name": "testing_loss_c20_p00",
         "type": "scatter",
         "x": [
          10,
          20,
          30,
          40,
          50,
          60,
          70,
          80,
          90,
          100,
          110,
          120,
          130,
          140,
          150,
          160,
          170,
          180,
          190,
          200,
          210,
          220,
          230,
          240,
          250,
          260,
          270,
          280,
          290,
          300,
          310,
          320,
          330,
          340,
          350,
          360,
          370,
          380,
          390,
          400
         ],
         "y": [
          0.07244375154972077,
          0.07249344155788422,
          0.07277624154090881,
          0.07256690375804901,
          0.07262628190517426,
          0.07271881384849549,
          0.07258740413188934,
          0.07255733785629273,
          0.07267539498806,
          0.07322049412727356,
          0.07259955449104309,
          0.07254658896923065,
          0.07259457585811616,
          0.07242326645851135,
          0.07237940208911896,
          0.07334792153835297,
          0.07255377089977265,
          0.07295113668441773,
          0.07255448119640351,
          0.07284435541629791,
          0.07271971533298492,
          0.07295013766288758,
          0.07239395842552185,
          0.07269122159481048,
          0.07245391833782196,
          0.0724089115858078,
          0.07271213405132294,
          0.07258653273582459,
          0.07286112809181214,
          0.07263803679943084,
          0.0727692694425583,
          0.07265040194988251,
          0.07013021123409272,
          0.0637575098156929,
          0.05934458267688751,
          0.05578474857807159,
          0.05466408016681671,
          0.05378954770565033,
          0.05328231769800186,
          0.052260896110534666
         ]
        },
        {
         "mode": "lines+markers",
         "name": "testing_loss_c20_p10",
         "type": "scatter",
         "x": [
          10,
          20,
          30,
          40,
          50,
          60,
          70,
          80,
          90,
          100,
          110,
          120,
          130,
          140,
          150,
          160,
          170,
          180,
          190,
          200,
          210,
          220,
          230,
          240,
          250,
          260,
          270,
          280,
          290,
          300,
          310,
          320,
          330,
          340,
          350,
          360,
          370,
          380,
          390,
          400
         ],
         "y": [
          0.07266029076576233,
          0.07298522748947144,
          0.07255681548118591,
          0.07256004302501678,
          0.07288533799648285,
          0.07331527194976807,
          0.07466748960018157,
          0.07328940887451171,
          0.07243674006462097,
          0.07278201184272766,
          0.07291603143215179,
          0.07342404863834381,
          0.07266671350002289,
          0.07275968911647797,
          0.07276112909317016,
          0.07353319864273071,
          0.07236484520435334,
          0.07229456028938293,
          0.07336499226093292,
          0.07278267159461975,
          0.07268182461261749,
          0.07311189289093017,
          0.07335107226371765,
          0.07249860033988953,
          0.07307537276744842,
          0.07324476947784424,
          0.07247097358703614,
          0.07315552451610566,
          0.07281394591331482,
          0.07477590539455414,
          0.07404916830062866,
          0.07257798600196838,
          0.07339882354736328,
          0.07275321307182311,
          0.07262241690158844,
          0.07275210752487182,
          0.07290305473804475,
          0.0724728512763977,
          0.07309744462966919,
          0.07250668971538543
         ]
        },
        {
         "mode": "lines+markers",
         "name": "testing_loss_c20_p20",
         "type": "scatter",
         "x": [
          10,
          20,
          30,
          40,
          50,
          60,
          70,
          80,
          90,
          100,
          110,
          120,
          130,
          140,
          150,
          160,
          170,
          180,
          190,
          200,
          210,
          220,
          230,
          240,
          250,
          260,
          270,
          280,
          290,
          300,
          310,
          320,
          330,
          340,
          350,
          360,
          370,
          380,
          390,
          400
         ],
         "y": [
          0.07343653163909912,
          0.0727957692861557,
          0.07320543973445892,
          0.07384845931529999,
          0.07318225882053375,
          0.07329107410907745,
          0.07341413044929504,
          0.07399825901985169,
          0.07467557461261749,
          0.07332375965118408,
          0.07380820128917694,
          0.07462213928699493,
          0.07394165976047516,
          0.07272800695896149,
          0.07406616060733795,
          0.0734402978181839,
          0.07311863050460815,
          0.0726291986465454,
          0.07380008692741394,
          0.07248049399852753,
          0.0731217176914215,
          0.07396149365901947,
          0.07363350474834442,
          0.0741531102657318,
          0.0747500829219818,
          0.07426787159442902,
          0.07326314299106598,
          0.07293247947692871,
          0.07339817130565643,
          0.0751973687171936,
          0.07349585404396057,
          0.07419255728721619,
          0.07395386934280396,
          0.07362924628257751,
          0.0743466649532318,
          0.07420942606925965,
          0.07208786067962647,
          0.06461726286411286,
          0.05977373321056366,
          0.05686624143123627
         ]
        },
        {
         "mode": "lines+markers",
         "name": "testing_loss_c20_p40",
         "type": "scatter",
         "x": [
          10,
          20,
          30,
          40,
          50,
          60,
          70,
          80,
          90,
          100,
          110,
          120,
          130,
          140,
          150,
          160,
          170,
          180,
          190,
          200,
          210,
          220,
          230,
          240,
          250,
          260,
          270,
          280,
          290,
          300,
          310,
          320,
          330,
          340,
          350,
          360,
          370,
          380,
          390,
          400
         ],
         "y": [
          0.07382291686534882,
          0.07362018971443177,
          0.07446619992256165,
          0.0749606782913208,
          0.0757528797864914,
          0.07776557426452636,
          0.07524176726341247,
          0.0777294112443924,
          0.07475151062011719,
          0.07639827828407288,
          0.07861614656448364,
          0.07794629015922547,
          0.07705697319507598,
          0.07658713619709015,
          0.07863524680137635,
          0.07961536278724671,
          0.07738205530643463,
          0.07838747534751891,
          0.080346821641922,
          0.07848418581485749,
          0.07533198034763336,
          0.07448610026836396,
          0.07398263213634491,
          0.078033323264122,
          0.07996707816123963,
          0.07804585835933685,
          0.07810338563919067,
          0.07549023621082306,
          0.07905859019756317,
          0.07857082989215851,
          0.07646720108985901,
          0.07629665553569794,
          0.07820153315067291,
          0.07790747382640839,
          0.08075204737186432,
          0.07846969072818756,
          0.07655029375553131,
          0.07635956695079804,
          0.07696979329586029,
          0.07838221335411072
         ]
        }
       ],
       "layout": {
        "template": {
         "data": {
          "bar": [
           {
            "error_x": {
             "color": "#2a3f5f"
            },
            "error_y": {
             "color": "#2a3f5f"
            },
            "marker": {
             "line": {
              "color": "#E5ECF6",
              "width": 0.5
             }
            },
            "type": "bar"
           }
          ],
          "barpolar": [
           {
            "marker": {
             "line": {
              "color": "#E5ECF6",
              "width": 0.5
             }
            },
            "type": "barpolar"
           }
          ],
          "carpet": [
           {
            "aaxis": {
             "endlinecolor": "#2a3f5f",
             "gridcolor": "white",
             "linecolor": "white",
             "minorgridcolor": "white",
             "startlinecolor": "#2a3f5f"
            },
            "baxis": {
             "endlinecolor": "#2a3f5f",
             "gridcolor": "white",
             "linecolor": "white",
             "minorgridcolor": "white",
             "startlinecolor": "#2a3f5f"
            },
            "type": "carpet"
           }
          ],
          "choropleth": [
           {
            "colorbar": {
             "outlinewidth": 0,
             "ticks": ""
            },
            "type": "choropleth"
           }
          ],
          "contour": [
           {
            "colorbar": {
             "outlinewidth": 0,
             "ticks": ""
            },
            "colorscale": [
             [
              0,
              "#0d0887"
             ],
             [
              0.1111111111111111,
              "#46039f"
             ],
             [
              0.2222222222222222,
              "#7201a8"
             ],
             [
              0.3333333333333333,
              "#9c179e"
             ],
             [
              0.4444444444444444,
              "#bd3786"
             ],
             [
              0.5555555555555556,
              "#d8576b"
             ],
             [
              0.6666666666666666,
              "#ed7953"
             ],
             [
              0.7777777777777778,
              "#fb9f3a"
             ],
             [
              0.8888888888888888,
              "#fdca26"
             ],
             [
              1,
              "#f0f921"
             ]
            ],
            "type": "contour"
           }
          ],
          "contourcarpet": [
           {
            "colorbar": {
             "outlinewidth": 0,
             "ticks": ""
            },
            "type": "contourcarpet"
           }
          ],
          "heatmap": [
           {
            "colorbar": {
             "outlinewidth": 0,
             "ticks": ""
            },
            "colorscale": [
             [
              0,
              "#0d0887"
             ],
             [
              0.1111111111111111,
              "#46039f"
             ],
             [
              0.2222222222222222,
              "#7201a8"
             ],
             [
              0.3333333333333333,
              "#9c179e"
             ],
             [
              0.4444444444444444,
              "#bd3786"
             ],
             [
              0.5555555555555556,
              "#d8576b"
             ],
             [
              0.6666666666666666,
              "#ed7953"
             ],
             [
              0.7777777777777778,
              "#fb9f3a"
             ],
             [
              0.8888888888888888,
              "#fdca26"
             ],
             [
              1,
              "#f0f921"
             ]
            ],
            "type": "heatmap"
           }
          ],
          "heatmapgl": [
           {
            "colorbar": {
             "outlinewidth": 0,
             "ticks": ""
            },
            "colorscale": [
             [
              0,
              "#0d0887"
             ],
             [
              0.1111111111111111,
              "#46039f"
             ],
             [
              0.2222222222222222,
              "#7201a8"
             ],
             [
              0.3333333333333333,
              "#9c179e"
             ],
             [
              0.4444444444444444,
              "#bd3786"
             ],
             [
              0.5555555555555556,
              "#d8576b"
             ],
             [
              0.6666666666666666,
              "#ed7953"
             ],
             [
              0.7777777777777778,
              "#fb9f3a"
             ],
             [
              0.8888888888888888,
              "#fdca26"
             ],
             [
              1,
              "#f0f921"
             ]
            ],
            "type": "heatmapgl"
           }
          ],
          "histogram": [
           {
            "marker": {
             "colorbar": {
              "outlinewidth": 0,
              "ticks": ""
             }
            },
            "type": "histogram"
           }
          ],
          "histogram2d": [
           {
            "colorbar": {
             "outlinewidth": 0,
             "ticks": ""
            },
            "colorscale": [
             [
              0,
              "#0d0887"
             ],
             [
              0.1111111111111111,
              "#46039f"
             ],
             [
              0.2222222222222222,
              "#7201a8"
             ],
             [
              0.3333333333333333,
              "#9c179e"
             ],
             [
              0.4444444444444444,
              "#bd3786"
             ],
             [
              0.5555555555555556,
              "#d8576b"
             ],
             [
              0.6666666666666666,
              "#ed7953"
             ],
             [
              0.7777777777777778,
              "#fb9f3a"
             ],
             [
              0.8888888888888888,
              "#fdca26"
             ],
             [
              1,
              "#f0f921"
             ]
            ],
            "type": "histogram2d"
           }
          ],
          "histogram2dcontour": [
           {
            "colorbar": {
             "outlinewidth": 0,
             "ticks": ""
            },
            "colorscale": [
             [
              0,
              "#0d0887"
             ],
             [
              0.1111111111111111,
              "#46039f"
             ],
             [
              0.2222222222222222,
              "#7201a8"
             ],
             [
              0.3333333333333333,
              "#9c179e"
             ],
             [
              0.4444444444444444,
              "#bd3786"
             ],
             [
              0.5555555555555556,
              "#d8576b"
             ],
             [
              0.6666666666666666,
              "#ed7953"
             ],
             [
              0.7777777777777778,
              "#fb9f3a"
             ],
             [
              0.8888888888888888,
              "#fdca26"
             ],
             [
              1,
              "#f0f921"
             ]
            ],
            "type": "histogram2dcontour"
           }
          ],
          "mesh3d": [
           {
            "colorbar": {
             "outlinewidth": 0,
             "ticks": ""
            },
            "type": "mesh3d"
           }
          ],
          "parcoords": [
           {
            "line": {
             "colorbar": {
              "outlinewidth": 0,
              "ticks": ""
             }
            },
            "type": "parcoords"
           }
          ],
          "pie": [
           {
            "automargin": true,
            "type": "pie"
           }
          ],
          "scatter": [
           {
            "marker": {
             "colorbar": {
              "outlinewidth": 0,
              "ticks": ""
             }
            },
            "type": "scatter"
           }
          ],
          "scatter3d": [
           {
            "line": {
             "colorbar": {
              "outlinewidth": 0,
              "ticks": ""
             }
            },
            "marker": {
             "colorbar": {
              "outlinewidth": 0,
              "ticks": ""
             }
            },
            "type": "scatter3d"
           }
          ],
          "scattercarpet": [
           {
            "marker": {
             "colorbar": {
              "outlinewidth": 0,
              "ticks": ""
             }
            },
            "type": "scattercarpet"
           }
          ],
          "scattergeo": [
           {
            "marker": {
             "colorbar": {
              "outlinewidth": 0,
              "ticks": ""
             }
            },
            "type": "scattergeo"
           }
          ],
          "scattergl": [
           {
            "marker": {
             "colorbar": {
              "outlinewidth": 0,
              "ticks": ""
             }
            },
            "type": "scattergl"
           }
          ],
          "scattermapbox": [
           {
            "marker": {
             "colorbar": {
              "outlinewidth": 0,
              "ticks": ""
             }
            },
            "type": "scattermapbox"
           }
          ],
          "scatterpolar": [
           {
            "marker": {
             "colorbar": {
              "outlinewidth": 0,
              "ticks": ""
             }
            },
            "type": "scatterpolar"
           }
          ],
          "scatterpolargl": [
           {
            "marker": {
             "colorbar": {
              "outlinewidth": 0,
              "ticks": ""
             }
            },
            "type": "scatterpolargl"
           }
          ],
          "scatterternary": [
           {
            "marker": {
             "colorbar": {
              "outlinewidth": 0,
              "ticks": ""
             }
            },
            "type": "scatterternary"
           }
          ],
          "surface": [
           {
            "colorbar": {
             "outlinewidth": 0,
             "ticks": ""
            },
            "colorscale": [
             [
              0,
              "#0d0887"
             ],
             [
              0.1111111111111111,
              "#46039f"
             ],
             [
              0.2222222222222222,
              "#7201a8"
             ],
             [
              0.3333333333333333,
              "#9c179e"
             ],
             [
              0.4444444444444444,
              "#bd3786"
             ],
             [
              0.5555555555555556,
              "#d8576b"
             ],
             [
              0.6666666666666666,
              "#ed7953"
             ],
             [
              0.7777777777777778,
              "#fb9f3a"
             ],
             [
              0.8888888888888888,
              "#fdca26"
             ],
             [
              1,
              "#f0f921"
             ]
            ],
            "type": "surface"
           }
          ],
          "table": [
           {
            "cells": {
             "fill": {
              "color": "#EBF0F8"
             },
             "line": {
              "color": "white"
             }
            },
            "header": {
             "fill": {
              "color": "#C8D4E3"
             },
             "line": {
              "color": "white"
             }
            },
            "type": "table"
           }
          ]
         },
         "layout": {
          "annotationdefaults": {
           "arrowcolor": "#2a3f5f",
           "arrowhead": 0,
           "arrowwidth": 1
          },
          "autotypenumbers": "strict",
          "coloraxis": {
           "colorbar": {
            "outlinewidth": 0,
            "ticks": ""
           }
          },
          "colorscale": {
           "diverging": [
            [
             0,
             "#8e0152"
            ],
            [
             0.1,
             "#c51b7d"
            ],
            [
             0.2,
             "#de77ae"
            ],
            [
             0.3,
             "#f1b6da"
            ],
            [
             0.4,
             "#fde0ef"
            ],
            [
             0.5,
             "#f7f7f7"
            ],
            [
             0.6,
             "#e6f5d0"
            ],
            [
             0.7,
             "#b8e186"
            ],
            [
             0.8,
             "#7fbc41"
            ],
            [
             0.9,
             "#4d9221"
            ],
            [
             1,
             "#276419"
            ]
           ],
           "sequential": [
            [
             0,
             "#0d0887"
            ],
            [
             0.1111111111111111,
             "#46039f"
            ],
            [
             0.2222222222222222,
             "#7201a8"
            ],
            [
             0.3333333333333333,
             "#9c179e"
            ],
            [
             0.4444444444444444,
             "#bd3786"
            ],
            [
             0.5555555555555556,
             "#d8576b"
            ],
            [
             0.6666666666666666,
             "#ed7953"
            ],
            [
             0.7777777777777778,
             "#fb9f3a"
            ],
            [
             0.8888888888888888,
             "#fdca26"
            ],
            [
             1,
             "#f0f921"
            ]
           ],
           "sequentialminus": [
            [
             0,
             "#0d0887"
            ],
            [
             0.1111111111111111,
             "#46039f"
            ],
            [
             0.2222222222222222,
             "#7201a8"
            ],
            [
             0.3333333333333333,
             "#9c179e"
            ],
            [
             0.4444444444444444,
             "#bd3786"
            ],
            [
             0.5555555555555556,
             "#d8576b"
            ],
            [
             0.6666666666666666,
             "#ed7953"
            ],
            [
             0.7777777777777778,
             "#fb9f3a"
            ],
            [
             0.8888888888888888,
             "#fdca26"
            ],
            [
             1,
             "#f0f921"
            ]
           ]
          },
          "colorway": [
           "#636efa",
           "#EF553B",
           "#00cc96",
           "#ab63fa",
           "#FFA15A",
           "#19d3f3",
           "#FF6692",
           "#B6E880",
           "#FF97FF",
           "#FECB52"
          ],
          "font": {
           "color": "#2a3f5f"
          },
          "geo": {
           "bgcolor": "white",
           "lakecolor": "white",
           "landcolor": "#E5ECF6",
           "showlakes": true,
           "showland": true,
           "subunitcolor": "white"
          },
          "hoverlabel": {
           "align": "left"
          },
          "hovermode": "closest",
          "mapbox": {
           "style": "light"
          },
          "paper_bgcolor": "white",
          "plot_bgcolor": "#E5ECF6",
          "polar": {
           "angularaxis": {
            "gridcolor": "white",
            "linecolor": "white",
            "ticks": ""
           },
           "bgcolor": "#E5ECF6",
           "radialaxis": {
            "gridcolor": "white",
            "linecolor": "white",
            "ticks": ""
           }
          },
          "scene": {
           "xaxis": {
            "backgroundcolor": "#E5ECF6",
            "gridcolor": "white",
            "gridwidth": 2,
            "linecolor": "white",
            "showbackground": true,
            "ticks": "",
            "zerolinecolor": "white"
           },
           "yaxis": {
            "backgroundcolor": "#E5ECF6",
            "gridcolor": "white",
            "gridwidth": 2,
            "linecolor": "white",
            "showbackground": true,
            "ticks": "",
            "zerolinecolor": "white"
           },
           "zaxis": {
            "backgroundcolor": "#E5ECF6",
            "gridcolor": "white",
            "gridwidth": 2,
            "linecolor": "white",
            "showbackground": true,
            "ticks": "",
            "zerolinecolor": "white"
           }
          },
          "shapedefaults": {
           "line": {
            "color": "#2a3f5f"
           }
          },
          "ternary": {
           "aaxis": {
            "gridcolor": "white",
            "linecolor": "white",
            "ticks": ""
           },
           "baxis": {
            "gridcolor": "white",
            "linecolor": "white",
            "ticks": ""
           },
           "bgcolor": "#E5ECF6",
           "caxis": {
            "gridcolor": "white",
            "linecolor": "white",
            "ticks": ""
           }
          },
          "title": {
           "x": 0.05
          },
          "xaxis": {
           "automargin": true,
           "gridcolor": "white",
           "linecolor": "white",
           "ticks": "",
           "title": {
            "standoff": 15
           },
           "zerolinecolor": "white",
           "zerolinewidth": 2
          },
          "yaxis": {
           "automargin": true,
           "gridcolor": "white",
           "linecolor": "white",
           "ticks": "",
           "title": {
            "standoff": 15
           },
           "zerolinecolor": "white",
           "zerolinewidth": 2
          }
         }
        },
        "title": {
         "text": "Testing Loss over the Training"
        },
        "xaxis": {
         "title": {
          "text": "Round Num"
         }
        },
        "yaxis": {
         "title": {
          "text": "Loss"
         }
        }
       }
      },
      "text/html": [
       "<div>                            <div id=\"d31e393c-21c3-41d1-9a57-080f97c9b861\" class=\"plotly-graph-div\" style=\"height:525px; width:100%;\"></div>            <script type=\"text/javascript\">                require([\"plotly\"], function(Plotly) {                    window.PLOTLYENV=window.PLOTLYENV || {};                                    if (document.getElementById(\"d31e393c-21c3-41d1-9a57-080f97c9b861\")) {                    Plotly.newPlot(                        \"d31e393c-21c3-41d1-9a57-080f97c9b861\",                        [{\"mode\": \"lines+markers\", \"name\": \"testing_loss_c20_p00\", \"type\": \"scatter\", \"x\": [10, 20, 30, 40, 50, 60, 70, 80, 90, 100, 110, 120, 130, 140, 150, 160, 170, 180, 190, 200, 210, 220, 230, 240, 250, 260, 270, 280, 290, 300, 310, 320, 330, 340, 350, 360, 370, 380, 390, 400], \"y\": [0.07244375154972077, 0.07249344155788422, 0.07277624154090881, 0.07256690375804901, 0.07262628190517426, 0.07271881384849549, 0.07258740413188934, 0.07255733785629273, 0.07267539498806, 0.07322049412727356, 0.07259955449104309, 0.07254658896923065, 0.07259457585811616, 0.07242326645851135, 0.07237940208911896, 0.07334792153835297, 0.07255377089977265, 0.07295113668441773, 0.07255448119640351, 0.07284435541629791, 0.07271971533298492, 0.07295013766288758, 0.07239395842552185, 0.07269122159481048, 0.07245391833782196, 0.0724089115858078, 0.07271213405132294, 0.07258653273582459, 0.07286112809181214, 0.07263803679943084, 0.0727692694425583, 0.07265040194988251, 0.07013021123409272, 0.0637575098156929, 0.05934458267688751, 0.05578474857807159, 0.05466408016681671, 0.05378954770565033, 0.05328231769800186, 0.052260896110534666]}, {\"mode\": \"lines+markers\", \"name\": \"testing_loss_c20_p10\", \"type\": \"scatter\", \"x\": [10, 20, 30, 40, 50, 60, 70, 80, 90, 100, 110, 120, 130, 140, 150, 160, 170, 180, 190, 200, 210, 220, 230, 240, 250, 260, 270, 280, 290, 300, 310, 320, 330, 340, 350, 360, 370, 380, 390, 400], \"y\": [0.07266029076576233, 0.07298522748947144, 0.07255681548118591, 0.07256004302501678, 0.07288533799648285, 0.07331527194976807, 0.07466748960018157, 0.07328940887451171, 0.07243674006462097, 0.07278201184272766, 0.07291603143215179, 0.07342404863834381, 0.07266671350002289, 0.07275968911647797, 0.07276112909317016, 0.07353319864273071, 0.07236484520435334, 0.07229456028938293, 0.07336499226093292, 0.07278267159461975, 0.07268182461261749, 0.07311189289093017, 0.07335107226371765, 0.07249860033988953, 0.07307537276744842, 0.07324476947784424, 0.07247097358703614, 0.07315552451610566, 0.07281394591331482, 0.07477590539455414, 0.07404916830062866, 0.07257798600196838, 0.07339882354736328, 0.07275321307182311, 0.07262241690158844, 0.07275210752487182, 0.07290305473804475, 0.0724728512763977, 0.07309744462966919, 0.07250668971538543]}, {\"mode\": \"lines+markers\", \"name\": \"testing_loss_c20_p20\", \"type\": \"scatter\", \"x\": [10, 20, 30, 40, 50, 60, 70, 80, 90, 100, 110, 120, 130, 140, 150, 160, 170, 180, 190, 200, 210, 220, 230, 240, 250, 260, 270, 280, 290, 300, 310, 320, 330, 340, 350, 360, 370, 380, 390, 400], \"y\": [0.07343653163909912, 0.0727957692861557, 0.07320543973445892, 0.07384845931529999, 0.07318225882053375, 0.07329107410907745, 0.07341413044929504, 0.07399825901985169, 0.07467557461261749, 0.07332375965118408, 0.07380820128917694, 0.07462213928699493, 0.07394165976047516, 0.07272800695896149, 0.07406616060733795, 0.0734402978181839, 0.07311863050460815, 0.0726291986465454, 0.07380008692741394, 0.07248049399852753, 0.0731217176914215, 0.07396149365901947, 0.07363350474834442, 0.0741531102657318, 0.0747500829219818, 0.07426787159442902, 0.07326314299106598, 0.07293247947692871, 0.07339817130565643, 0.0751973687171936, 0.07349585404396057, 0.07419255728721619, 0.07395386934280396, 0.07362924628257751, 0.0743466649532318, 0.07420942606925965, 0.07208786067962647, 0.06461726286411286, 0.05977373321056366, 0.05686624143123627]}, {\"mode\": \"lines+markers\", \"name\": \"testing_loss_c20_p40\", \"type\": \"scatter\", \"x\": [10, 20, 30, 40, 50, 60, 70, 80, 90, 100, 110, 120, 130, 140, 150, 160, 170, 180, 190, 200, 210, 220, 230, 240, 250, 260, 270, 280, 290, 300, 310, 320, 330, 340, 350, 360, 370, 380, 390, 400], \"y\": [0.07382291686534882, 0.07362018971443177, 0.07446619992256165, 0.0749606782913208, 0.0757528797864914, 0.07776557426452636, 0.07524176726341247, 0.0777294112443924, 0.07475151062011719, 0.07639827828407288, 0.07861614656448364, 0.07794629015922547, 0.07705697319507598, 0.07658713619709015, 0.07863524680137635, 0.07961536278724671, 0.07738205530643463, 0.07838747534751891, 0.080346821641922, 0.07848418581485749, 0.07533198034763336, 0.07448610026836396, 0.07398263213634491, 0.078033323264122, 0.07996707816123963, 0.07804585835933685, 0.07810338563919067, 0.07549023621082306, 0.07905859019756317, 0.07857082989215851, 0.07646720108985901, 0.07629665553569794, 0.07820153315067291, 0.07790747382640839, 0.08075204737186432, 0.07846969072818756, 0.07655029375553131, 0.07635956695079804, 0.07696979329586029, 0.07838221335411072]}],                        {\"template\": {\"data\": {\"bar\": [{\"error_x\": {\"color\": \"#2a3f5f\"}, \"error_y\": {\"color\": \"#2a3f5f\"}, \"marker\": {\"line\": {\"color\": \"#E5ECF6\", \"width\": 0.5}}, \"type\": \"bar\"}], \"barpolar\": [{\"marker\": {\"line\": {\"color\": \"#E5ECF6\", \"width\": 0.5}}, \"type\": \"barpolar\"}], \"carpet\": [{\"aaxis\": {\"endlinecolor\": \"#2a3f5f\", \"gridcolor\": \"white\", \"linecolor\": \"white\", \"minorgridcolor\": \"white\", \"startlinecolor\": \"#2a3f5f\"}, \"baxis\": {\"endlinecolor\": \"#2a3f5f\", \"gridcolor\": \"white\", \"linecolor\": \"white\", \"minorgridcolor\": \"white\", \"startlinecolor\": \"#2a3f5f\"}, \"type\": \"carpet\"}], \"choropleth\": [{\"colorbar\": {\"outlinewidth\": 0, \"ticks\": \"\"}, \"type\": \"choropleth\"}], \"contour\": [{\"colorbar\": {\"outlinewidth\": 0, \"ticks\": \"\"}, \"colorscale\": [[0.0, \"#0d0887\"], [0.1111111111111111, \"#46039f\"], [0.2222222222222222, \"#7201a8\"], [0.3333333333333333, \"#9c179e\"], [0.4444444444444444, \"#bd3786\"], [0.5555555555555556, \"#d8576b\"], [0.6666666666666666, \"#ed7953\"], [0.7777777777777778, \"#fb9f3a\"], [0.8888888888888888, \"#fdca26\"], [1.0, \"#f0f921\"]], \"type\": \"contour\"}], \"contourcarpet\": [{\"colorbar\": {\"outlinewidth\": 0, \"ticks\": \"\"}, \"type\": \"contourcarpet\"}], \"heatmap\": [{\"colorbar\": {\"outlinewidth\": 0, \"ticks\": \"\"}, \"colorscale\": [[0.0, \"#0d0887\"], [0.1111111111111111, \"#46039f\"], [0.2222222222222222, \"#7201a8\"], [0.3333333333333333, \"#9c179e\"], [0.4444444444444444, \"#bd3786\"], [0.5555555555555556, \"#d8576b\"], [0.6666666666666666, \"#ed7953\"], [0.7777777777777778, \"#fb9f3a\"], [0.8888888888888888, \"#fdca26\"], [1.0, \"#f0f921\"]], \"type\": \"heatmap\"}], \"heatmapgl\": [{\"colorbar\": {\"outlinewidth\": 0, \"ticks\": \"\"}, \"colorscale\": [[0.0, \"#0d0887\"], [0.1111111111111111, \"#46039f\"], [0.2222222222222222, \"#7201a8\"], [0.3333333333333333, \"#9c179e\"], [0.4444444444444444, \"#bd3786\"], [0.5555555555555556, \"#d8576b\"], [0.6666666666666666, \"#ed7953\"], [0.7777777777777778, \"#fb9f3a\"], [0.8888888888888888, \"#fdca26\"], [1.0, \"#f0f921\"]], \"type\": \"heatmapgl\"}], \"histogram\": [{\"marker\": {\"colorbar\": {\"outlinewidth\": 0, \"ticks\": \"\"}}, \"type\": \"histogram\"}], \"histogram2d\": [{\"colorbar\": {\"outlinewidth\": 0, \"ticks\": \"\"}, \"colorscale\": [[0.0, \"#0d0887\"], [0.1111111111111111, \"#46039f\"], [0.2222222222222222, \"#7201a8\"], [0.3333333333333333, \"#9c179e\"], [0.4444444444444444, \"#bd3786\"], [0.5555555555555556, \"#d8576b\"], [0.6666666666666666, \"#ed7953\"], [0.7777777777777778, \"#fb9f3a\"], [0.8888888888888888, \"#fdca26\"], [1.0, \"#f0f921\"]], \"type\": \"histogram2d\"}], \"histogram2dcontour\": [{\"colorbar\": {\"outlinewidth\": 0, \"ticks\": \"\"}, \"colorscale\": [[0.0, \"#0d0887\"], [0.1111111111111111, \"#46039f\"], [0.2222222222222222, \"#7201a8\"], [0.3333333333333333, \"#9c179e\"], [0.4444444444444444, \"#bd3786\"], [0.5555555555555556, \"#d8576b\"], [0.6666666666666666, \"#ed7953\"], [0.7777777777777778, \"#fb9f3a\"], [0.8888888888888888, \"#fdca26\"], [1.0, \"#f0f921\"]], \"type\": \"histogram2dcontour\"}], \"mesh3d\": [{\"colorbar\": {\"outlinewidth\": 0, \"ticks\": \"\"}, \"type\": \"mesh3d\"}], \"parcoords\": [{\"line\": {\"colorbar\": {\"outlinewidth\": 0, \"ticks\": \"\"}}, \"type\": \"parcoords\"}], \"pie\": [{\"automargin\": true, \"type\": \"pie\"}], \"scatter\": [{\"marker\": {\"colorbar\": {\"outlinewidth\": 0, \"ticks\": \"\"}}, \"type\": \"scatter\"}], \"scatter3d\": [{\"line\": {\"colorbar\": {\"outlinewidth\": 0, \"ticks\": \"\"}}, \"marker\": {\"colorbar\": {\"outlinewidth\": 0, \"ticks\": \"\"}}, \"type\": \"scatter3d\"}], \"scattercarpet\": [{\"marker\": {\"colorbar\": {\"outlinewidth\": 0, \"ticks\": \"\"}}, \"type\": \"scattercarpet\"}], \"scattergeo\": [{\"marker\": {\"colorbar\": {\"outlinewidth\": 0, \"ticks\": \"\"}}, \"type\": \"scattergeo\"}], \"scattergl\": [{\"marker\": {\"colorbar\": {\"outlinewidth\": 0, \"ticks\": \"\"}}, \"type\": \"scattergl\"}], \"scattermapbox\": [{\"marker\": {\"colorbar\": {\"outlinewidth\": 0, \"ticks\": \"\"}}, \"type\": \"scattermapbox\"}], \"scatterpolar\": [{\"marker\": {\"colorbar\": {\"outlinewidth\": 0, \"ticks\": \"\"}}, \"type\": \"scatterpolar\"}], \"scatterpolargl\": [{\"marker\": {\"colorbar\": {\"outlinewidth\": 0, \"ticks\": \"\"}}, \"type\": \"scatterpolargl\"}], \"scatterternary\": [{\"marker\": {\"colorbar\": {\"outlinewidth\": 0, \"ticks\": \"\"}}, \"type\": \"scatterternary\"}], \"surface\": [{\"colorbar\": {\"outlinewidth\": 0, \"ticks\": \"\"}, \"colorscale\": [[0.0, \"#0d0887\"], [0.1111111111111111, \"#46039f\"], [0.2222222222222222, \"#7201a8\"], [0.3333333333333333, \"#9c179e\"], [0.4444444444444444, \"#bd3786\"], [0.5555555555555556, \"#d8576b\"], [0.6666666666666666, \"#ed7953\"], [0.7777777777777778, \"#fb9f3a\"], [0.8888888888888888, \"#fdca26\"], [1.0, \"#f0f921\"]], \"type\": \"surface\"}], \"table\": [{\"cells\": {\"fill\": {\"color\": \"#EBF0F8\"}, \"line\": {\"color\": \"white\"}}, \"header\": {\"fill\": {\"color\": \"#C8D4E3\"}, \"line\": {\"color\": \"white\"}}, \"type\": \"table\"}]}, \"layout\": {\"annotationdefaults\": {\"arrowcolor\": \"#2a3f5f\", \"arrowhead\": 0, \"arrowwidth\": 1}, \"autotypenumbers\": \"strict\", \"coloraxis\": {\"colorbar\": {\"outlinewidth\": 0, \"ticks\": \"\"}}, \"colorscale\": {\"diverging\": [[0, \"#8e0152\"], [0.1, \"#c51b7d\"], [0.2, \"#de77ae\"], [0.3, \"#f1b6da\"], [0.4, \"#fde0ef\"], [0.5, \"#f7f7f7\"], [0.6, \"#e6f5d0\"], [0.7, \"#b8e186\"], [0.8, \"#7fbc41\"], [0.9, \"#4d9221\"], [1, \"#276419\"]], \"sequential\": [[0.0, \"#0d0887\"], [0.1111111111111111, \"#46039f\"], [0.2222222222222222, \"#7201a8\"], [0.3333333333333333, \"#9c179e\"], [0.4444444444444444, \"#bd3786\"], [0.5555555555555556, \"#d8576b\"], [0.6666666666666666, \"#ed7953\"], [0.7777777777777778, \"#fb9f3a\"], [0.8888888888888888, \"#fdca26\"], [1.0, \"#f0f921\"]], \"sequentialminus\": [[0.0, \"#0d0887\"], [0.1111111111111111, \"#46039f\"], [0.2222222222222222, \"#7201a8\"], [0.3333333333333333, \"#9c179e\"], [0.4444444444444444, \"#bd3786\"], [0.5555555555555556, \"#d8576b\"], [0.6666666666666666, \"#ed7953\"], [0.7777777777777778, \"#fb9f3a\"], [0.8888888888888888, \"#fdca26\"], [1.0, \"#f0f921\"]]}, \"colorway\": [\"#636efa\", \"#EF553B\", \"#00cc96\", \"#ab63fa\", \"#FFA15A\", \"#19d3f3\", \"#FF6692\", \"#B6E880\", \"#FF97FF\", \"#FECB52\"], \"font\": {\"color\": \"#2a3f5f\"}, \"geo\": {\"bgcolor\": \"white\", \"lakecolor\": \"white\", \"landcolor\": \"#E5ECF6\", \"showlakes\": true, \"showland\": true, \"subunitcolor\": \"white\"}, \"hoverlabel\": {\"align\": \"left\"}, \"hovermode\": \"closest\", \"mapbox\": {\"style\": \"light\"}, \"paper_bgcolor\": \"white\", \"plot_bgcolor\": \"#E5ECF6\", \"polar\": {\"angularaxis\": {\"gridcolor\": \"white\", \"linecolor\": \"white\", \"ticks\": \"\"}, \"bgcolor\": \"#E5ECF6\", \"radialaxis\": {\"gridcolor\": \"white\", \"linecolor\": \"white\", \"ticks\": \"\"}}, \"scene\": {\"xaxis\": {\"backgroundcolor\": \"#E5ECF6\", \"gridcolor\": \"white\", \"gridwidth\": 2, \"linecolor\": \"white\", \"showbackground\": true, \"ticks\": \"\", \"zerolinecolor\": \"white\"}, \"yaxis\": {\"backgroundcolor\": \"#E5ECF6\", \"gridcolor\": \"white\", \"gridwidth\": 2, \"linecolor\": \"white\", \"showbackground\": true, \"ticks\": \"\", \"zerolinecolor\": \"white\"}, \"zaxis\": {\"backgroundcolor\": \"#E5ECF6\", \"gridcolor\": \"white\", \"gridwidth\": 2, \"linecolor\": \"white\", \"showbackground\": true, \"ticks\": \"\", \"zerolinecolor\": \"white\"}}, \"shapedefaults\": {\"line\": {\"color\": \"#2a3f5f\"}}, \"ternary\": {\"aaxis\": {\"gridcolor\": \"white\", \"linecolor\": \"white\", \"ticks\": \"\"}, \"baxis\": {\"gridcolor\": \"white\", \"linecolor\": \"white\", \"ticks\": \"\"}, \"bgcolor\": \"#E5ECF6\", \"caxis\": {\"gridcolor\": \"white\", \"linecolor\": \"white\", \"ticks\": \"\"}}, \"title\": {\"x\": 0.05}, \"xaxis\": {\"automargin\": true, \"gridcolor\": \"white\", \"linecolor\": \"white\", \"ticks\": \"\", \"title\": {\"standoff\": 15}, \"zerolinecolor\": \"white\", \"zerolinewidth\": 2}, \"yaxis\": {\"automargin\": true, \"gridcolor\": \"white\", \"linecolor\": \"white\", \"ticks\": \"\", \"title\": {\"standoff\": 15}, \"zerolinecolor\": \"white\", \"zerolinewidth\": 2}}}, \"title\": {\"text\": \"Testing Loss over the Training\"}, \"xaxis\": {\"title\": {\"text\": \"Round Num\"}}, \"yaxis\": {\"title\": {\"text\": \"Loss\"}}},                        {\"responsive\": true}                    ).then(function(){\n",
       "                            \n",
       "var gd = document.getElementById('d31e393c-21c3-41d1-9a57-080f97c9b861');\n",
       "var x = new MutationObserver(function (mutations, observer) {{\n",
       "        var display = window.getComputedStyle(gd).display;\n",
       "        if (!display || display === 'none') {{\n",
       "            console.log([gd, 'removed!']);\n",
       "            Plotly.purge(gd);\n",
       "            observer.disconnect();\n",
       "        }}\n",
       "}});\n",
       "\n",
       "// Listen for the removal of the full notebook cells\n",
       "var notebookContainer = gd.closest('#notebook-container');\n",
       "if (notebookContainer) {{\n",
       "    x.observe(notebookContainer, {childList: true});\n",
       "}}\n",
       "\n",
       "// Listen for the clearing of the current output cell\n",
       "var outputEl = gd.closest('.output');\n",
       "if (outputEl) {{\n",
       "    x.observe(outputEl, {childList: true});\n",
       "}}\n",
       "\n",
       "                        })                };                });            </script>        </div>"
      ]
     },
     "metadata": {},
     "output_type": "display_data"
    }
   ],
   "source": [
    "fig = go.Figure()\n",
    "for j in [0, 10, 20, 40]:\n",
    "    file_name = f'file_c20_p{j:02}_a0'\n",
    "    avg_training_losses =  get_training_losses(files_dict[file_name])\n",
    "    \n",
    "    fig.add_trace(go.Scatter(x=np.arange(len(avg_training_losses)), y=avg_training_losses,\n",
    "                        mode='lines',\n",
    "                        name=f'c_per_20_p_per_{j:02}'))\n",
    "\n",
    "fig.update_layout(title='Training Losses',\n",
    "                   xaxis_title='Fed Round',\n",
    "                   yaxis_title='Loss')\n",
    "fig.show()\n",
    "\n",
    "fig = go.Figure()\n",
    "for j in [0, 10, 20, 40]:\n",
    "    file_name = f'file_c20_p{j:02}_a0'\n",
    "    data_df =  get_test_data_df(files_dict[file_name])\n",
    "    \n",
    "    fig.add_trace(go.Scatter(x=data_df['round_num'], y=data_df['testing_loss'],\n",
    "                    mode='lines+markers',\n",
    "                    name=f'testing_loss_c20_p{j:02}'))\n",
    "\n",
    "fig.update_layout(title='Testing Loss over the Training',\n",
    "                   xaxis_title='Round Num',\n",
    "                   yaxis_title='Loss')\n",
    "fig.show()"
   ]
  },
  {
   "cell_type": "code",
   "execution_count": null,
   "id": "d4477895",
   "metadata": {},
   "outputs": [],
   "source": []
  },
  {
   "cell_type": "code",
   "execution_count": null,
   "id": "8494d84c",
   "metadata": {},
   "outputs": [],
   "source": []
  }
 ],
 "metadata": {
  "kernelspec": {
   "display_name": "Python 3",
   "language": "python",
   "name": "python3"
  },
  "language_info": {
   "codemirror_mode": {
    "name": "ipython",
    "version": 3
   },
   "file_extension": ".py",
   "mimetype": "text/x-python",
   "name": "python",
   "nbconvert_exporter": "python",
   "pygments_lexer": "ipython3",
   "version": "3.9.4"
  }
 },
 "nbformat": 4,
 "nbformat_minor": 5
}
