{
 "cells": [
  {
   "cell_type": "markdown",
   "id": "c8f96658",
   "metadata": {},
   "source": [
    "# Result Visualization\n",
    "\n",
    "## 0. Importing Libraries"
   ]
  },
  {
   "cell_type": "code",
   "execution_count": 1,
   "id": "84e6f9e6",
   "metadata": {},
   "outputs": [],
   "source": [
    "import json\n",
    "import os\n",
    "import plotly.graph_objects as go\n",
    "from plotly.subplots import make_subplots\n",
    "from plotly.validators.scatter.marker import SymbolValidator\n",
    "from collections import defaultdict\n",
    "\n",
    "# base_path = os.path.dirname(os.path.dirname(os.path.abspath(__file__)))\n",
    "# sys.path.append(base_path)\n"
   ]
  },
  {
   "cell_type": "markdown",
   "id": "366e767a",
   "metadata": {},
   "source": [
    "## 1. Basic Processing Block"
   ]
  },
  {
   "cell_type": "code",
   "execution_count": 2,
   "id": "e69fabc7",
   "metadata": {},
   "outputs": [],
   "source": [
    "username = \"fnx11\"\n",
    "\n",
    "# just for notebook\n",
    "base_path = f'/home/{username}/thesis/codes/CosDefence/'\n",
    "\n",
    "# for picking data from the repo\n",
    "json_folder = os.path.join(base_path, 'results/json_files/')\n",
    "\n",
    "# to save plots\n",
    "plots_folder = base_path + 'plots/'\n",
    "\n",
    "\n",
    "def get_data(file_name):\n",
    "    result_data = defaultdict(list)\n",
    "    with open(file_name) as summary_file:\n",
    "        summary_data = json.load(summary_file)\n",
    "        summary_data = summary_data['summary']\n",
    "        for i in range(14):\n",
    "            config_res = summary_data[i]\n",
    "            if i%2 == 0:\n",
    "                result_data['p_acc_off_lt'].append(config_res['mean_mean_poison_class_accs'])\n",
    "                result_data['p_acc_off_lt_std'].append(config_res['std_mean_poison_class_accs'])\n",
    "\n",
    "                result_data['avg_acc_off_lt'].append(config_res['mean_mean_avg_accs'])\n",
    "                result_data['avg_acc_off_lt_std'].append(config_res['std_mean_avg_accs'])\n",
    "\n",
    "                result_data['p_f1_off_lt'].append(config_res['mean_mean_poison_class_f1_scores'])\n",
    "                result_data['p_f1_off_lt_std'].append(config_res['std_mean_poison_class_f1_scores'])\n",
    "\n",
    "                result_data['avg_f1_off_lt'].append(config_res['mean_mean_avg_f1_scores'])\n",
    "                result_data['avg_f1_off_lt_std'].append(config_res['std_mean_avg_f1_scores'])\n",
    "            else:\n",
    "                result_data['p_acc_on_lt'].append(config_res['mean_mean_poison_class_accs'])\n",
    "                result_data['p_acc_on_lt_std'].append(config_res['std_mean_poison_class_accs'])\n",
    "\n",
    "                result_data['avg_acc_on_lt'].append(config_res['mean_mean_avg_accs'])\n",
    "                result_data['avg_acc_on_lt_std'].append(config_res['std_mean_avg_accs'])\n",
    "\n",
    "                result_data['p_f1_on_lt'].append(config_res['mean_mean_poison_class_f1_scores'])\n",
    "                result_data['p_f1_on_lt_std'].append(config_res['std_mean_poison_class_f1_scores'])\n",
    "\n",
    "                result_data['avg_f1_on_lt'].append(config_res['mean_mean_avg_f1_scores'])\n",
    "                result_data['avg_f1_on_lt_std'].append(config_res['std_mean_avg_f1_scores'])\n",
    "\n",
    "    return result_data\n"
   ]
  },
  {
   "cell_type": "code",
   "execution_count": 3,
   "id": "e7e20609",
   "metadata": {},
   "outputs": [],
   "source": [
    "def gen_acc_f1_plot(title, result_data, res_fig_name, save_html=True):\n",
    "    poisoned_clients_var = list(range(len(result_data['p_acc_off_lt'])))\n",
    "    poisoned_clients = [i*10 for i in poisoned_clients_var]\n",
    "    ## plotting\n",
    "    save_location = os.path.join(base_path, 'results/plots/')\n",
    "    acc_f1_results_fig = make_subplots(rows=2, cols=2,\n",
    "                            shared_xaxes=True,\n",
    "                            shared_yaxes=True,\n",
    "                            vertical_spacing=0.1,\n",
    "                            horizontal_spacing=0.07)\n",
    "\n",
    "    acc_f1_results_fig.add_trace(go.Scatter(name='off', x=poisoned_clients, y=result_data['p_acc_off_lt'], mode='lines+markers'),\n",
    "                                row=1, col=1)\n",
    "    acc_f1_results_fig.add_trace(go.Scatter(name='on', x=poisoned_clients, y=result_data['p_acc_on_lt'], mode='lines+markers'),\n",
    "                                row=1, col=1)\n",
    "\n",
    "    acc_f1_results_fig.add_trace(go.Scatter(x=poisoned_clients, y=result_data['avg_acc_off_lt'], mode='lines+markers', showlegend=False),\n",
    "                                row=1, col=2)\n",
    "    acc_f1_results_fig.add_trace(go.Scatter(x=poisoned_clients, y=result_data['avg_acc_on_lt'], mode='lines+markers', showlegend=False),\n",
    "                                row=1, col=2)\n",
    "\n",
    "    acc_f1_results_fig.add_trace(go.Scatter(name='off', x=poisoned_clients, y=result_data['p_f1_off_lt'], mode='lines+markers', marker_symbol='square'),\n",
    "                                row=2, col=1)\n",
    "    acc_f1_results_fig.add_trace(go.Scatter(name='on', x=poisoned_clients, y=result_data['p_f1_on_lt'], mode='lines+markers', marker_symbol='square'),\n",
    "                                row=2, col=1)\n",
    "\n",
    "    acc_f1_results_fig.add_trace(go.Scatter(x=poisoned_clients, y=result_data['avg_f1_off_lt'], mode='lines+markers', marker_symbol='square', showlegend=False),\n",
    "                                row=2, col=2)\n",
    "    acc_f1_results_fig.add_trace(go.Scatter(x=poisoned_clients, y=result_data['avg_f1_on_lt'], mode='lines+markers', marker_symbol='square', showlegend=False),\n",
    "                                row=2, col=2)\n",
    "\n",
    "    acc_f1_results_fig.update_xaxes(title_text=\"Poisoned Clients in FL Env\", row=1, col=1, title_font = {\"size\": 16}, title_standoff = 7, tick0=0, dtick=10, ticks=\"outside\", tickwidth=2, tickcolor='blue', ticklen=10)\n",
    "    acc_f1_results_fig.update_xaxes(title_text=\"Poisoned Clients in FL Env\", row=1, col=2, title_font = {\"size\": 16}, title_standoff = 7, tick0=0, dtick=10, ticks=\"outside\", tickwidth=2, tickcolor='blue', ticklen=10)\n",
    "    acc_f1_results_fig.update_xaxes(title_text=\"Poisoned Clients in FL Env\", row=2, col=1, title_font = {\"size\": 16}, title_standoff = 7, tick0=0, dtick=10, ticks=\"outside\", tickwidth=2, tickcolor='blue', ticklen=10)\n",
    "    acc_f1_results_fig.update_xaxes(title_text=\"Poisoned Clients in FL Env\", row=2, col=2, title_font = {\"size\": 16}, title_standoff = 7, tick0=0, dtick=10, ticks=\"outside\", tickwidth=2, tickcolor='blue', ticklen=10)\n",
    "\n",
    "    acc_f1_results_fig.update_yaxes(title_text=\"Poisoned Class Mean Acc\", row=1, col=1, title_font = {\"size\": 16}, title_standoff = 5, tick0=0, dtick=20, ticks=\"outside\", tickwidth=2, tickcolor='blue', ticklen=10)\n",
    "    acc_f1_results_fig.update_yaxes(title_text=\"Avg Class Mean Acc\", row=1, col=2, title_font = {\"size\": 16}, title_standoff = 5, tick0=0, dtick=20, ticks=\"outside\", tickwidth=2, tickcolor='blue', ticklen=10)\n",
    "    acc_f1_results_fig.update_yaxes(title_text=\"Poisoned Class Mean F1\", row=2, col=1, title_font = {\"size\": 16}, title_standoff = 5, tick0=0, dtick=20, ticks=\"outside\", tickwidth=2, tickcolor='blue', ticklen=10)\n",
    "    acc_f1_results_fig.update_yaxes(title_text=\"Avg Class Mean F1\", row=2, col=2, title_font = {\"size\": 16}, title_standoff = 5, tick0=0, dtick=20, ticks=\"outside\", tickwidth=2, tickcolor='blue', ticklen=10)\n",
    "\n",
    "\n",
    "    acc_f1_results_fig.update_layout(height=800, width=1200, colorway=['red','green', 'red', 'green', 'red','green', 'red', 'green'],\n",
    "                                title_text=title,\n",
    "                                legend=dict(\n",
    "                                            orientation=\"h\",\n",
    "                                            yanchor=\"bottom\",\n",
    "                                            y=1.02,\n",
    "                                            xanchor=\"right\",\n",
    "                                            x=1,\n",
    "                                            font=dict(\n",
    "                                                    size=12,\n",
    "                                                ),\n",
    "                                            borderwidth=2),\n",
    "                                legend_title_text='CosDefence')\n",
    "\n",
    "    if save_html:\n",
    "        acc_f1_results_fig.write_html(os.path.join(save_location,'{}.html'.format(res_fig_name)))\n",
    "    else:\n",
    "        acc_f1_results_fig.write_image(os.path.join(save_location,'{}.png'.format(res_fig_name)))\n",
    "    return acc_f1_results_fig\n",
    "\n",
    "\n",
    "def gen_acc_f1_plot_std(title, result_data, res_fig_name, save_html=True):\n",
    "    poisoned_clients_var = list(range(len(result_data['p_acc_off_lt'])))\n",
    "    poisoned_clients = [i*10 for i in poisoned_clients_var]\n",
    "    poisoned_clients_rev = poisoned_clients[::-1]\n",
    "    ## plotting\n",
    "    save_location = os.path.join(base_path, 'results/plots/')\n",
    "    acc_f1_results_fig = make_subplots(rows=2, cols=2,\n",
    "                            shared_xaxes=True,\n",
    "                            shared_yaxes=True,\n",
    "                            vertical_spacing=0.1,\n",
    "                            horizontal_spacing=0.07)\n",
    "    \n",
    "    p_acc_off_lower = [i-j for i, j in zip(result_data['p_acc_off_lt'], result_data['p_acc_off_lt_std'])]\n",
    "    p_acc_off_lower = p_acc_off_lower[::-1]\n",
    "    p_acc_off_upper = [i+j for i, j in zip(result_data['p_acc_off_lt'], result_data['p_acc_off_lt_std'])]\n",
    "    acc_f1_results_fig.add_trace(go.Scatter(\n",
    "    x=poisoned_clients+poisoned_clients_rev,\n",
    "    y=p_acc_off_upper+p_acc_off_lower,\n",
    "    fill='toself',\n",
    "    fillcolor='rgba(255, 0, 0, 0.5)',\n",
    "    line_color='rgba(255,255,255,0)',\n",
    "    showlegend=False),\n",
    "    row=1, col=1)\n",
    "    acc_f1_results_fig.add_trace(go.Scatter(name='off', x=poisoned_clients, y=result_data['p_acc_off_lt'], mode='lines+markers', line_color='red'),\n",
    "                                row=1, col=1)\n",
    "\n",
    "\n",
    "    p_acc_on_lower = [i-j for i, j in zip(result_data['p_acc_on_lt'], result_data['p_acc_on_lt_std'])]\n",
    "    p_acc_on_lower = p_acc_on_lower[::-1]\n",
    "    p_acc_on_upper = [i+j for i, j in zip(result_data['p_acc_on_lt'], result_data['p_acc_on_lt_std'])]\n",
    "    acc_f1_results_fig.add_trace(go.Scatter(\n",
    "    x=poisoned_clients+poisoned_clients_rev,\n",
    "    y=p_acc_on_upper+p_acc_on_lower,\n",
    "    fill='toself',\n",
    "    fillcolor='rgba(0, 255, 0, 0.5)',\n",
    "    line_color='rgba(255,255,255,0)',\n",
    "    showlegend=False),\n",
    "    row=1, col=1)\n",
    "    acc_f1_results_fig.add_trace(go.Scatter(name='on', x=poisoned_clients, y=result_data['p_acc_on_lt'], mode='lines+markers', line_color='green'),\n",
    "                                row=1, col=1)\n",
    "\n",
    "\n",
    "\n",
    "    avg_acc_off_lower = [i-j for i, j in zip(result_data['avg_acc_off_lt'], result_data['avg_acc_off_lt_std'])]\n",
    "    avg_acc_off_lower = avg_acc_off_lower[::-1]\n",
    "    avg_acc_off_upper = [i+j for i, j in zip(result_data['avg_acc_off_lt'], result_data['avg_acc_off_lt_std'])]\n",
    "    acc_f1_results_fig.add_trace(go.Scatter(\n",
    "    x=poisoned_clients+poisoned_clients_rev,\n",
    "    y=avg_acc_off_upper+avg_acc_off_lower,\n",
    "    fill='toself',\n",
    "    fillcolor='rgba(255, 0, 0, 0.5)',\n",
    "    line_color='rgba(255,255,255,0)',\n",
    "    showlegend=False),\n",
    "    row=1, col=2)\n",
    "    acc_f1_results_fig.add_trace(go.Scatter(x=poisoned_clients, y=result_data['avg_acc_off_lt'], mode='lines+markers', showlegend=False, line_color='red'),\n",
    "                                row=1, col=2)\n",
    "    \n",
    "    avg_acc_on_lower = [i-j for i, j in zip(result_data['avg_acc_on_lt'], result_data['avg_acc_on_lt_std'])]\n",
    "    avg_acc_on_lower = avg_acc_on_lower[::-1]\n",
    "    avg_acc_on_upper = [i+j for i, j in zip(result_data['avg_acc_on_lt'], result_data['avg_acc_on_lt_std'])]\n",
    "    acc_f1_results_fig.add_trace(go.Scatter(\n",
    "    x=poisoned_clients+poisoned_clients_rev,\n",
    "    y=avg_acc_on_upper+avg_acc_on_lower,\n",
    "    fill='toself',\n",
    "    fillcolor='rgba(0, 255, 0, 0.5)',\n",
    "    line_color='rgba(255,255,255,0)',\n",
    "    showlegend=False),\n",
    "    row=1, col=2)\n",
    "    acc_f1_results_fig.add_trace(go.Scatter(x=poisoned_clients, y=result_data['avg_acc_on_lt'], mode='lines+markers', showlegend=False, line_color='green'),\n",
    "                                row=1, col=2)\n",
    "\n",
    "\n",
    "    p_f1_off_lower = [i-j for i, j in zip(result_data['p_f1_off_lt'], result_data['p_f1_off_lt_std'])]\n",
    "    p_f1_off_lower = p_f1_off_lower[::-1]\n",
    "    p_f1_off_upper = [i+j for i, j in zip(result_data['p_f1_off_lt'], result_data['p_f1_off_lt_std'])]\n",
    "    acc_f1_results_fig.add_trace(go.Scatter(\n",
    "    x=poisoned_clients+poisoned_clients_rev,\n",
    "    y=p_f1_off_upper+p_f1_off_lower,\n",
    "    fill='toself',\n",
    "    fillcolor='rgba(255, 0, 0, 0.5)',\n",
    "    line_color='rgba(255,255,255,0)',\n",
    "    showlegend=False),\n",
    "    row=2, col=1)\n",
    "    acc_f1_results_fig.add_trace(go.Scatter(name='off', x=poisoned_clients, y=result_data['p_f1_off_lt'], mode='lines+markers', marker_symbol='square', line_color='red'),\n",
    "                                row=2, col=1)\n",
    "    \n",
    "    p_f1_on_lower = [i-j for i, j in zip(result_data['p_f1_on_lt'], result_data['p_f1_on_lt_std'])]\n",
    "    p_f1_on_lower = p_f1_on_lower[::-1]\n",
    "    p_f1_on_upper = [i+j for i, j in zip(result_data['p_f1_on_lt'], result_data['p_f1_on_lt_std'])]\n",
    "    acc_f1_results_fig.add_trace(go.Scatter(\n",
    "    x=poisoned_clients+poisoned_clients_rev,\n",
    "    y=p_f1_on_upper+p_f1_on_lower,\n",
    "    fill='toself',\n",
    "    fillcolor='rgba(0, 255, 0, 0.5)',\n",
    "    line_color='rgba(255,255,255,0)',\n",
    "    showlegend=False),\n",
    "    row=2, col=1)\n",
    "    acc_f1_results_fig.add_trace(go.Scatter(name='on', x=poisoned_clients, y=result_data['p_f1_on_lt'], mode='lines+markers', marker_symbol='square', line_color='green'),\n",
    "                                row=2, col=1)\n",
    "\n",
    "\n",
    "\n",
    "    avg_f1_off_lower = [i-j for i, j in zip(result_data['avg_f1_off_lt'], result_data['avg_f1_off_lt_std'])]\n",
    "    avg_f1_off_lower = avg_f1_off_lower[::-1]\n",
    "    avg_f1_off_upper = [i+j for i, j in zip(result_data['avg_f1_off_lt'], result_data['avg_f1_off_lt_std'])]\n",
    "    acc_f1_results_fig.add_trace(go.Scatter(\n",
    "    x=poisoned_clients+poisoned_clients_rev,\n",
    "    y=avg_f1_off_upper+avg_f1_off_lower,\n",
    "    fill='toself',\n",
    "    fillcolor='rgba(255, 0, 0, 0.5)',\n",
    "    line_color='rgba(255,255,255,0)',\n",
    "    showlegend=False),\n",
    "    row=2, col=2)\n",
    "    acc_f1_results_fig.add_trace(go.Scatter(x=poisoned_clients, y=result_data['avg_f1_off_lt'], mode='lines+markers', marker_symbol='square', showlegend=False, line_color='red'),\n",
    "                                row=2, col=2)\n",
    "\n",
    "    avg_f1_on_lower = [i-j for i, j in zip(result_data['avg_f1_on_lt'], result_data['avg_f1_on_lt_std'])]\n",
    "    avg_f1_on_lower = avg_f1_on_lower[::-1]\n",
    "    avg_f1_on_upper = [i+j for i, j in zip(result_data['avg_f1_on_lt'], result_data['avg_f1_on_lt_std'])]\n",
    "    acc_f1_results_fig.add_trace(go.Scatter(\n",
    "    x=poisoned_clients+poisoned_clients_rev,\n",
    "    y=avg_f1_on_upper+avg_f1_on_lower,\n",
    "    fill='toself',\n",
    "    fillcolor='rgba(0, 255, 0, 0.5)',\n",
    "    line_color='rgba(255,255,255,0)',\n",
    "    showlegend=False),\n",
    "    row=2, col=2)\n",
    "    acc_f1_results_fig.add_trace(go.Scatter(x=poisoned_clients, y=result_data['avg_f1_on_lt'], mode='lines+markers', marker_symbol='square', showlegend=False, line_color='green'),\n",
    "                                row=2, col=2)\n",
    "\n",
    "\n",
    "    acc_f1_results_fig.update_xaxes(title_text=\"Poisoned Clients in FL Env\", row=1, col=1, title_font = {\"size\": 16}, title_standoff = 7, tick0=0, dtick=10, ticks=\"outside\", tickwidth=2, tickcolor='blue', ticklen=10)\n",
    "    acc_f1_results_fig.update_xaxes(title_text=\"Poisoned Clients in FL Env\", row=1, col=2, title_font = {\"size\": 16}, title_standoff = 7, tick0=0, dtick=10, ticks=\"outside\", tickwidth=2, tickcolor='blue', ticklen=10)\n",
    "    acc_f1_results_fig.update_xaxes(title_text=\"Poisoned Clients in FL Env\", row=2, col=1, title_font = {\"size\": 16}, title_standoff = 7, tick0=0, dtick=10, ticks=\"outside\", tickwidth=2, tickcolor='blue', ticklen=10)\n",
    "    acc_f1_results_fig.update_xaxes(title_text=\"Poisoned Clients in FL Env\", row=2, col=2, title_font = {\"size\": 16}, title_standoff = 7, tick0=0, dtick=10, ticks=\"outside\", tickwidth=2, tickcolor='blue', ticklen=10)\n",
    "\n",
    "    acc_f1_results_fig.update_yaxes(title_text=\"Poisoned Class Mean Acc\", row=1, col=1, title_font = {\"size\": 16}, title_standoff = 5, tick0=0, dtick=20, ticks=\"outside\", tickwidth=2, tickcolor='blue', ticklen=10)\n",
    "    acc_f1_results_fig.update_yaxes(title_text=\"Avg Class Mean Acc\", row=1, col=2, title_font = {\"size\": 16}, title_standoff = 5, tick0=0, dtick=20, ticks=\"outside\", tickwidth=2, tickcolor='blue', ticklen=10)\n",
    "    acc_f1_results_fig.update_yaxes(title_text=\"Poisoned Class Mean F1\", row=2, col=1, title_font = {\"size\": 16}, title_standoff = 5, tick0=0, dtick=20, ticks=\"outside\", tickwidth=2, tickcolor='blue', ticklen=10)\n",
    "    acc_f1_results_fig.update_yaxes(title_text=\"Avg Class Mean F1\", row=2, col=2, title_font = {\"size\": 16}, title_standoff = 5, tick0=0, dtick=20, ticks=\"outside\", tickwidth=2, tickcolor='blue', ticklen=10)\n",
    "\n",
    "\n",
    "    acc_f1_results_fig.update_layout(height=800, width=1200,\n",
    "                                title_text=title,\n",
    "                                legend=dict(\n",
    "                                            orientation=\"h\",\n",
    "                                            yanchor=\"bottom\",\n",
    "                                            y=1.02,\n",
    "                                            xanchor=\"right\",\n",
    "                                            x=1,\n",
    "                                            font=dict(\n",
    "                                                    size=12,\n",
    "                                                ),\n",
    "                                            borderwidth=2),\n",
    "                                legend_title_text='CosDefence')\n",
    "\n",
    "    if save_html:\n",
    "        acc_f1_results_fig.write_html(os.path.join(save_location,'{}.html'.format(res_fig_name)))\n",
    "    else:\n",
    "        acc_f1_results_fig.write_image(os.path.join(save_location,'{}.png'.format(res_fig_name)))\n",
    "    return acc_f1_results_fig\n"
   ]
  },
  {
   "cell_type": "markdown",
   "id": "b7b249a0",
   "metadata": {},
   "source": [
    "## Ratio 10:1 results"
   ]
  },
  {
   "cell_type": "code",
   "execution_count": 27,
   "id": "5b2aca4a",
   "metadata": {},
   "outputs": [
    {
     "data": {
      "application/vnd.plotly.v1+json": {
       "config": {
        "plotlyServerURL": "https://plot.ly"
       },
       "data": [
        {
         "mode": "lines+markers",
         "name": "off",
         "type": "scatter",
         "x": [
          0,
          10,
          20,
          30,
          40,
          50,
          60
         ],
         "xaxis": "x",
         "y": [
          93.26937984496124,
          86.66860465116278,
          81.83720930232558,
          76.18604651162791,
          54.72674418604652,
          41.156976744186046,
          14.127906976744185
         ],
         "yaxis": "y"
        },
        {
         "mode": "lines+markers",
         "name": "on",
         "type": "scatter",
         "x": [
          0,
          10,
          20,
          30,
          40,
          50,
          60
         ],
         "xaxis": "x",
         "y": [
          93.39341085271317,
          90.60271317829456,
          90.31976744186045,
          89.10077519379846,
          75.74224806201552,
          76.20736434108528,
          19.019379844961243
         ],
         "yaxis": "y"
        },
        {
         "mode": "lines+markers",
         "showlegend": false,
         "type": "scatter",
         "x": [
          0,
          10,
          20,
          30,
          40,
          50,
          60
         ],
         "xaxis": "x2",
         "y": [
          95.13239999999999,
          94.4526,
          94.00399999999999,
          93.4272,
          91.1846,
          89.7354,
          86.9512
         ],
         "yaxis": "y2"
        },
        {
         "mode": "lines+markers",
         "showlegend": false,
         "type": "scatter",
         "x": [
          0,
          10,
          20,
          30,
          40,
          50,
          60
         ],
         "xaxis": "x2",
         "y": [
          95.1028,
          94.84920000000001,
          94.8372,
          94.6346,
          93.2336,
          93.2674,
          87.349
         ],
         "yaxis": "y2"
        },
        {
         "marker": {
          "symbol": "square"
         },
         "mode": "lines+markers",
         "name": "off",
         "type": "scatter",
         "x": [
          0,
          10,
          20,
          30,
          40,
          50,
          60
         ],
         "xaxis": "x3",
         "y": [
          94.98302622909357,
          91.8807436964463,
          88.96792667917333,
          84.64945486906682,
          62.04458023559418,
          47.13884749562201,
          18.353279167670948
         ],
         "yaxis": "y3"
        },
        {
         "marker": {
          "symbol": "square"
         },
         "mode": "lines+markers",
         "name": "on",
         "type": "scatter",
         "x": [
          0,
          10,
          20,
          30,
          40,
          50,
          60
         ],
         "xaxis": "x3",
         "y": [
          94.94725585496656,
          93.95002113745451,
          93.69969103774568,
          92.94971673656129,
          80.13060293652967,
          80.46269498837266,
          21.168430387189638
         ],
         "yaxis": "y3"
        },
        {
         "marker": {
          "symbol": "square"
         },
         "mode": "lines+markers",
         "showlegend": false,
         "type": "scatter",
         "x": [
          0,
          10,
          20,
          30,
          40,
          50,
          60
         ],
         "xaxis": "x4",
         "y": [
          95.12647099811002,
          94.417170376957,
          93.9261979568654,
          93.25364934243427,
          90.19050857089437,
          88.19733028168153,
          84.34300189277252
         ],
         "yaxis": "y4"
        },
        {
         "marker": {
          "symbol": "square"
         },
         "mode": "lines+markers",
         "showlegend": false,
         "type": "scatter",
         "x": [
          0,
          10,
          20,
          30,
          40,
          50,
          60
         ],
         "xaxis": "x4",
         "y": [
          95.09578384241954,
          94.8396296286359,
          94.82613247756895,
          94.61710446180065,
          92.79570657804348,
          92.83214384528426,
          84.79236094609185
         ],
         "yaxis": "y4"
        }
       ],
       "layout": {
        "colorway": [
         "red",
         "green",
         "red",
         "green",
         "red",
         "green",
         "red",
         "green"
        ],
        "height": 800,
        "legend": {
         "borderwidth": 2,
         "font": {
          "size": 12
         },
         "orientation": "h",
         "title": {
          "text": "CosDefence"
         },
         "x": 1,
         "xanchor": "right",
         "y": 1.02,
         "yanchor": "bottom"
        },
        "template": {
         "data": {
          "bar": [
           {
            "error_x": {
             "color": "#2a3f5f"
            },
            "error_y": {
             "color": "#2a3f5f"
            },
            "marker": {
             "line": {
              "color": "#E5ECF6",
              "width": 0.5
             }
            },
            "type": "bar"
           }
          ],
          "barpolar": [
           {
            "marker": {
             "line": {
              "color": "#E5ECF6",
              "width": 0.5
             }
            },
            "type": "barpolar"
           }
          ],
          "carpet": [
           {
            "aaxis": {
             "endlinecolor": "#2a3f5f",
             "gridcolor": "white",
             "linecolor": "white",
             "minorgridcolor": "white",
             "startlinecolor": "#2a3f5f"
            },
            "baxis": {
             "endlinecolor": "#2a3f5f",
             "gridcolor": "white",
             "linecolor": "white",
             "minorgridcolor": "white",
             "startlinecolor": "#2a3f5f"
            },
            "type": "carpet"
           }
          ],
          "choropleth": [
           {
            "colorbar": {
             "outlinewidth": 0,
             "ticks": ""
            },
            "type": "choropleth"
           }
          ],
          "contour": [
           {
            "colorbar": {
             "outlinewidth": 0,
             "ticks": ""
            },
            "colorscale": [
             [
              0,
              "#0d0887"
             ],
             [
              0.1111111111111111,
              "#46039f"
             ],
             [
              0.2222222222222222,
              "#7201a8"
             ],
             [
              0.3333333333333333,
              "#9c179e"
             ],
             [
              0.4444444444444444,
              "#bd3786"
             ],
             [
              0.5555555555555556,
              "#d8576b"
             ],
             [
              0.6666666666666666,
              "#ed7953"
             ],
             [
              0.7777777777777778,
              "#fb9f3a"
             ],
             [
              0.8888888888888888,
              "#fdca26"
             ],
             [
              1,
              "#f0f921"
             ]
            ],
            "type": "contour"
           }
          ],
          "contourcarpet": [
           {
            "colorbar": {
             "outlinewidth": 0,
             "ticks": ""
            },
            "type": "contourcarpet"
           }
          ],
          "heatmap": [
           {
            "colorbar": {
             "outlinewidth": 0,
             "ticks": ""
            },
            "colorscale": [
             [
              0,
              "#0d0887"
             ],
             [
              0.1111111111111111,
              "#46039f"
             ],
             [
              0.2222222222222222,
              "#7201a8"
             ],
             [
              0.3333333333333333,
              "#9c179e"
             ],
             [
              0.4444444444444444,
              "#bd3786"
             ],
             [
              0.5555555555555556,
              "#d8576b"
             ],
             [
              0.6666666666666666,
              "#ed7953"
             ],
             [
              0.7777777777777778,
              "#fb9f3a"
             ],
             [
              0.8888888888888888,
              "#fdca26"
             ],
             [
              1,
              "#f0f921"
             ]
            ],
            "type": "heatmap"
           }
          ],
          "heatmapgl": [
           {
            "colorbar": {
             "outlinewidth": 0,
             "ticks": ""
            },
            "colorscale": [
             [
              0,
              "#0d0887"
             ],
             [
              0.1111111111111111,
              "#46039f"
             ],
             [
              0.2222222222222222,
              "#7201a8"
             ],
             [
              0.3333333333333333,
              "#9c179e"
             ],
             [
              0.4444444444444444,
              "#bd3786"
             ],
             [
              0.5555555555555556,
              "#d8576b"
             ],
             [
              0.6666666666666666,
              "#ed7953"
             ],
             [
              0.7777777777777778,
              "#fb9f3a"
             ],
             [
              0.8888888888888888,
              "#fdca26"
             ],
             [
              1,
              "#f0f921"
             ]
            ],
            "type": "heatmapgl"
           }
          ],
          "histogram": [
           {
            "marker": {
             "colorbar": {
              "outlinewidth": 0,
              "ticks": ""
             }
            },
            "type": "histogram"
           }
          ],
          "histogram2d": [
           {
            "colorbar": {
             "outlinewidth": 0,
             "ticks": ""
            },
            "colorscale": [
             [
              0,
              "#0d0887"
             ],
             [
              0.1111111111111111,
              "#46039f"
             ],
             [
              0.2222222222222222,
              "#7201a8"
             ],
             [
              0.3333333333333333,
              "#9c179e"
             ],
             [
              0.4444444444444444,
              "#bd3786"
             ],
             [
              0.5555555555555556,
              "#d8576b"
             ],
             [
              0.6666666666666666,
              "#ed7953"
             ],
             [
              0.7777777777777778,
              "#fb9f3a"
             ],
             [
              0.8888888888888888,
              "#fdca26"
             ],
             [
              1,
              "#f0f921"
             ]
            ],
            "type": "histogram2d"
           }
          ],
          "histogram2dcontour": [
           {
            "colorbar": {
             "outlinewidth": 0,
             "ticks": ""
            },
            "colorscale": [
             [
              0,
              "#0d0887"
             ],
             [
              0.1111111111111111,
              "#46039f"
             ],
             [
              0.2222222222222222,
              "#7201a8"
             ],
             [
              0.3333333333333333,
              "#9c179e"
             ],
             [
              0.4444444444444444,
              "#bd3786"
             ],
             [
              0.5555555555555556,
              "#d8576b"
             ],
             [
              0.6666666666666666,
              "#ed7953"
             ],
             [
              0.7777777777777778,
              "#fb9f3a"
             ],
             [
              0.8888888888888888,
              "#fdca26"
             ],
             [
              1,
              "#f0f921"
             ]
            ],
            "type": "histogram2dcontour"
           }
          ],
          "mesh3d": [
           {
            "colorbar": {
             "outlinewidth": 0,
             "ticks": ""
            },
            "type": "mesh3d"
           }
          ],
          "parcoords": [
           {
            "line": {
             "colorbar": {
              "outlinewidth": 0,
              "ticks": ""
             }
            },
            "type": "parcoords"
           }
          ],
          "pie": [
           {
            "automargin": true,
            "type": "pie"
           }
          ],
          "scatter": [
           {
            "marker": {
             "colorbar": {
              "outlinewidth": 0,
              "ticks": ""
             }
            },
            "type": "scatter"
           }
          ],
          "scatter3d": [
           {
            "line": {
             "colorbar": {
              "outlinewidth": 0,
              "ticks": ""
             }
            },
            "marker": {
             "colorbar": {
              "outlinewidth": 0,
              "ticks": ""
             }
            },
            "type": "scatter3d"
           }
          ],
          "scattercarpet": [
           {
            "marker": {
             "colorbar": {
              "outlinewidth": 0,
              "ticks": ""
             }
            },
            "type": "scattercarpet"
           }
          ],
          "scattergeo": [
           {
            "marker": {
             "colorbar": {
              "outlinewidth": 0,
              "ticks": ""
             }
            },
            "type": "scattergeo"
           }
          ],
          "scattergl": [
           {
            "marker": {
             "colorbar": {
              "outlinewidth": 0,
              "ticks": ""
             }
            },
            "type": "scattergl"
           }
          ],
          "scattermapbox": [
           {
            "marker": {
             "colorbar": {
              "outlinewidth": 0,
              "ticks": ""
             }
            },
            "type": "scattermapbox"
           }
          ],
          "scatterpolar": [
           {
            "marker": {
             "colorbar": {
              "outlinewidth": 0,
              "ticks": ""
             }
            },
            "type": "scatterpolar"
           }
          ],
          "scatterpolargl": [
           {
            "marker": {
             "colorbar": {
              "outlinewidth": 0,
              "ticks": ""
             }
            },
            "type": "scatterpolargl"
           }
          ],
          "scatterternary": [
           {
            "marker": {
             "colorbar": {
              "outlinewidth": 0,
              "ticks": ""
             }
            },
            "type": "scatterternary"
           }
          ],
          "surface": [
           {
            "colorbar": {
             "outlinewidth": 0,
             "ticks": ""
            },
            "colorscale": [
             [
              0,
              "#0d0887"
             ],
             [
              0.1111111111111111,
              "#46039f"
             ],
             [
              0.2222222222222222,
              "#7201a8"
             ],
             [
              0.3333333333333333,
              "#9c179e"
             ],
             [
              0.4444444444444444,
              "#bd3786"
             ],
             [
              0.5555555555555556,
              "#d8576b"
             ],
             [
              0.6666666666666666,
              "#ed7953"
             ],
             [
              0.7777777777777778,
              "#fb9f3a"
             ],
             [
              0.8888888888888888,
              "#fdca26"
             ],
             [
              1,
              "#f0f921"
             ]
            ],
            "type": "surface"
           }
          ],
          "table": [
           {
            "cells": {
             "fill": {
              "color": "#EBF0F8"
             },
             "line": {
              "color": "white"
             }
            },
            "header": {
             "fill": {
              "color": "#C8D4E3"
             },
             "line": {
              "color": "white"
             }
            },
            "type": "table"
           }
          ]
         },
         "layout": {
          "annotationdefaults": {
           "arrowcolor": "#2a3f5f",
           "arrowhead": 0,
           "arrowwidth": 1
          },
          "autotypenumbers": "strict",
          "coloraxis": {
           "colorbar": {
            "outlinewidth": 0,
            "ticks": ""
           }
          },
          "colorscale": {
           "diverging": [
            [
             0,
             "#8e0152"
            ],
            [
             0.1,
             "#c51b7d"
            ],
            [
             0.2,
             "#de77ae"
            ],
            [
             0.3,
             "#f1b6da"
            ],
            [
             0.4,
             "#fde0ef"
            ],
            [
             0.5,
             "#f7f7f7"
            ],
            [
             0.6,
             "#e6f5d0"
            ],
            [
             0.7,
             "#b8e186"
            ],
            [
             0.8,
             "#7fbc41"
            ],
            [
             0.9,
             "#4d9221"
            ],
            [
             1,
             "#276419"
            ]
           ],
           "sequential": [
            [
             0,
             "#0d0887"
            ],
            [
             0.1111111111111111,
             "#46039f"
            ],
            [
             0.2222222222222222,
             "#7201a8"
            ],
            [
             0.3333333333333333,
             "#9c179e"
            ],
            [
             0.4444444444444444,
             "#bd3786"
            ],
            [
             0.5555555555555556,
             "#d8576b"
            ],
            [
             0.6666666666666666,
             "#ed7953"
            ],
            [
             0.7777777777777778,
             "#fb9f3a"
            ],
            [
             0.8888888888888888,
             "#fdca26"
            ],
            [
             1,
             "#f0f921"
            ]
           ],
           "sequentialminus": [
            [
             0,
             "#0d0887"
            ],
            [
             0.1111111111111111,
             "#46039f"
            ],
            [
             0.2222222222222222,
             "#7201a8"
            ],
            [
             0.3333333333333333,
             "#9c179e"
            ],
            [
             0.4444444444444444,
             "#bd3786"
            ],
            [
             0.5555555555555556,
             "#d8576b"
            ],
            [
             0.6666666666666666,
             "#ed7953"
            ],
            [
             0.7777777777777778,
             "#fb9f3a"
            ],
            [
             0.8888888888888888,
             "#fdca26"
            ],
            [
             1,
             "#f0f921"
            ]
           ]
          },
          "colorway": [
           "#636efa",
           "#EF553B",
           "#00cc96",
           "#ab63fa",
           "#FFA15A",
           "#19d3f3",
           "#FF6692",
           "#B6E880",
           "#FF97FF",
           "#FECB52"
          ],
          "font": {
           "color": "#2a3f5f"
          },
          "geo": {
           "bgcolor": "white",
           "lakecolor": "white",
           "landcolor": "#E5ECF6",
           "showlakes": true,
           "showland": true,
           "subunitcolor": "white"
          },
          "hoverlabel": {
           "align": "left"
          },
          "hovermode": "closest",
          "mapbox": {
           "style": "light"
          },
          "paper_bgcolor": "white",
          "plot_bgcolor": "#E5ECF6",
          "polar": {
           "angularaxis": {
            "gridcolor": "white",
            "linecolor": "white",
            "ticks": ""
           },
           "bgcolor": "#E5ECF6",
           "radialaxis": {
            "gridcolor": "white",
            "linecolor": "white",
            "ticks": ""
           }
          },
          "scene": {
           "xaxis": {
            "backgroundcolor": "#E5ECF6",
            "gridcolor": "white",
            "gridwidth": 2,
            "linecolor": "white",
            "showbackground": true,
            "ticks": "",
            "zerolinecolor": "white"
           },
           "yaxis": {
            "backgroundcolor": "#E5ECF6",
            "gridcolor": "white",
            "gridwidth": 2,
            "linecolor": "white",
            "showbackground": true,
            "ticks": "",
            "zerolinecolor": "white"
           },
           "zaxis": {
            "backgroundcolor": "#E5ECF6",
            "gridcolor": "white",
            "gridwidth": 2,
            "linecolor": "white",
            "showbackground": true,
            "ticks": "",
            "zerolinecolor": "white"
           }
          },
          "shapedefaults": {
           "line": {
            "color": "#2a3f5f"
           }
          },
          "ternary": {
           "aaxis": {
            "gridcolor": "white",
            "linecolor": "white",
            "ticks": ""
           },
           "baxis": {
            "gridcolor": "white",
            "linecolor": "white",
            "ticks": ""
           },
           "bgcolor": "#E5ECF6",
           "caxis": {
            "gridcolor": "white",
            "linecolor": "white",
            "ticks": ""
           }
          },
          "title": {
           "x": 0.05
          },
          "xaxis": {
           "automargin": true,
           "gridcolor": "white",
           "linecolor": "white",
           "ticks": "",
           "title": {
            "standoff": 15
           },
           "zerolinecolor": "white",
           "zerolinewidth": 2
          },
          "yaxis": {
           "automargin": true,
           "gridcolor": "white",
           "linecolor": "white",
           "ticks": "",
           "title": {
            "standoff": 15
           },
           "zerolinecolor": "white",
           "zerolinewidth": 2
          }
         }
        },
        "title": {
         "text": "MNIST CosDefence result for 10:1 ratio in client data distribution"
        },
        "width": 1200,
        "xaxis": {
         "anchor": "y",
         "domain": [
          0,
          0.46499999999999997
         ],
         "dtick": 10,
         "matches": "x3",
         "showticklabels": false,
         "tick0": 0,
         "tickcolor": "blue",
         "ticklen": 10,
         "ticks": "outside",
         "tickwidth": 2,
         "title": {
          "font": {
           "size": 16
          },
          "standoff": 7,
          "text": "Poisoned Clients in FL Env"
         }
        },
        "xaxis2": {
         "anchor": "y2",
         "domain": [
          0.5349999999999999,
          0.9999999999999999
         ],
         "dtick": 10,
         "matches": "x4",
         "showticklabels": false,
         "tick0": 0,
         "tickcolor": "blue",
         "ticklen": 10,
         "ticks": "outside",
         "tickwidth": 2,
         "title": {
          "font": {
           "size": 16
          },
          "standoff": 7,
          "text": "Poisoned Clients in FL Env"
         }
        },
        "xaxis3": {
         "anchor": "y3",
         "domain": [
          0,
          0.46499999999999997
         ],
         "dtick": 10,
         "tick0": 0,
         "tickcolor": "blue",
         "ticklen": 10,
         "ticks": "outside",
         "tickwidth": 2,
         "title": {
          "font": {
           "size": 16
          },
          "standoff": 7,
          "text": "Poisoned Clients in FL Env"
         }
        },
        "xaxis4": {
         "anchor": "y4",
         "domain": [
          0.5349999999999999,
          0.9999999999999999
         ],
         "dtick": 10,
         "tick0": 0,
         "tickcolor": "blue",
         "ticklen": 10,
         "ticks": "outside",
         "tickwidth": 2,
         "title": {
          "font": {
           "size": 16
          },
          "standoff": 7,
          "text": "Poisoned Clients in FL Env"
         }
        },
        "yaxis": {
         "anchor": "x",
         "domain": [
          0.55,
          1
         ],
         "dtick": 20,
         "tick0": 0,
         "tickcolor": "blue",
         "ticklen": 10,
         "ticks": "outside",
         "tickwidth": 2,
         "title": {
          "font": {
           "size": 16
          },
          "standoff": 5,
          "text": "Poisoned Class Mean Acc"
         }
        },
        "yaxis2": {
         "anchor": "x2",
         "domain": [
          0.55,
          1
         ],
         "dtick": 20,
         "matches": "y",
         "showticklabels": false,
         "tick0": 0,
         "tickcolor": "blue",
         "ticklen": 10,
         "ticks": "outside",
         "tickwidth": 2,
         "title": {
          "font": {
           "size": 16
          },
          "standoff": 5,
          "text": "Avg Class Mean Acc"
         }
        },
        "yaxis3": {
         "anchor": "x3",
         "domain": [
          0,
          0.45
         ],
         "dtick": 20,
         "tick0": 0,
         "tickcolor": "blue",
         "ticklen": 10,
         "ticks": "outside",
         "tickwidth": 2,
         "title": {
          "font": {
           "size": 16
          },
          "standoff": 5,
          "text": "Poisoned Class Mean F1"
         }
        },
        "yaxis4": {
         "anchor": "x4",
         "domain": [
          0,
          0.45
         ],
         "dtick": 20,
         "matches": "y3",
         "showticklabels": false,
         "tick0": 0,
         "tickcolor": "blue",
         "ticklen": 10,
         "ticks": "outside",
         "tickwidth": 2,
         "title": {
          "font": {
           "size": 16
          },
          "standoff": 5,
          "text": "Avg Class Mean F1"
         }
        }
       }
      }
     },
     "metadata": {},
     "output_type": "display_data"
    }
   ],
   "source": [
    "summary_file = 'mnist_r10_results.json'\n",
    "res_fig_name = summary_file[:-5]\n",
    "result_data = get_data(json_folder + summary_file)\n",
    "fig = gen_acc_f1_plot(\"MNIST CosDefence result for 10:1 ratio in client data distribution\", result_data, res_fig_name, save_html=False)\n",
    "fig.show()"
   ]
  },
  {
   "cell_type": "code",
   "execution_count": 29,
   "id": "5fcdfe81",
   "metadata": {},
   "outputs": [
    {
     "data": {
      "application/vnd.plotly.v1+json": {
       "config": {
        "plotlyServerURL": "https://plot.ly"
       },
       "data": [
        {
         "fill": "toself",
         "fillcolor": "rgba(255, 0, 0, 0.5)",
         "line": {
          "color": "rgba(255,255,255,0)"
         },
         "showlegend": false,
         "type": "scatter",
         "x": [
          0,
          10,
          20,
          30,
          40,
          50,
          60,
          60,
          50,
          40,
          30,
          20,
          10,
          0
         ],
         "xaxis": "x",
         "y": [
          93.87840053060428,
          87.50590367018572,
          83.5930125605027,
          79.15612772751084,
          60.29149515425172,
          45.492879138884014,
          24.249953804399702,
          4.005860149088667,
          36.82107434948808,
          49.161993217841314,
          73.21596529574498,
          80.08140604414845,
          85.83130563213984,
          92.66035915931819
         ],
         "yaxis": "y"
        },
        {
         "line": {
          "color": "red"
         },
         "mode": "lines+markers",
         "name": "off",
         "type": "scatter",
         "x": [
          0,
          10,
          20,
          30,
          40,
          50,
          60
         ],
         "xaxis": "x",
         "y": [
          93.26937984496124,
          86.66860465116278,
          81.83720930232558,
          76.18604651162791,
          54.72674418604652,
          41.156976744186046,
          14.127906976744185
         ],
         "yaxis": "y"
        },
        {
         "fill": "toself",
         "fillcolor": "rgba(0, 255, 0, 0.5)",
         "line": {
          "color": "rgba(255,255,255,0)"
         },
         "showlegend": false,
         "type": "scatter",
         "x": [
          0,
          10,
          20,
          30,
          40,
          50,
          60,
          60,
          50,
          40,
          30,
          20,
          10,
          0
         ],
         "xaxis": "x",
         "y": [
          94.24984652594034,
          91.90285958784114,
          90.98695220538805,
          91.06355647707063,
          92.68815847942915,
          89.96867634286534,
          31.427600687390296,
          6.611159002532192,
          62.44605233930522,
          58.79633764460189,
          87.13799391052628,
          89.65258267833285,
          89.302566768748,
          92.536975179486
         ],
         "yaxis": "y"
        },
        {
         "line": {
          "color": "green"
         },
         "mode": "lines+markers",
         "name": "on",
         "type": "scatter",
         "x": [
          0,
          10,
          20,
          30,
          40,
          50,
          60
         ],
         "xaxis": "x",
         "y": [
          93.39341085271317,
          90.60271317829456,
          90.31976744186045,
          89.10077519379846,
          75.74224806201552,
          76.20736434108528,
          19.019379844961243
         ],
         "yaxis": "y"
        },
        {
         "fill": "toself",
         "fillcolor": "rgba(255, 0, 0, 0.5)",
         "line": {
          "color": "rgba(255,255,255,0)"
         },
         "showlegend": false,
         "type": "scatter",
         "x": [
          0,
          10,
          20,
          30,
          40,
          50,
          60,
          60,
          50,
          40,
          30,
          20,
          10,
          0
         ],
         "xaxis": "x2",
         "y": [
          95.26471114843427,
          94.61856698466865,
          94.16393123522313,
          93.86937345013014,
          91.79236462549247,
          90.11664354420763,
          88.00997635032144,
          85.89242364967856,
          89.35415645579236,
          90.57683537450754,
          92.98502654986986,
          93.84406876477685,
          94.28663301533136,
          95.0000888515657
         ],
         "yaxis": "y2"
        },
        {
         "line": {
          "color": "red"
         },
         "mode": "lines+markers",
         "showlegend": false,
         "type": "scatter",
         "x": [
          0,
          10,
          20,
          30,
          40,
          50,
          60
         ],
         "xaxis": "x2",
         "y": [
          95.13239999999999,
          94.4526,
          94.00399999999999,
          93.4272,
          91.1846,
          89.7354,
          86.9512
         ],
         "yaxis": "y2"
        },
        {
         "fill": "toself",
         "fillcolor": "rgba(0, 255, 0, 0.5)",
         "line": {
          "color": "rgba(255,255,255,0)"
         },
         "showlegend": false,
         "type": "scatter",
         "x": [
          0,
          10,
          20,
          30,
          40,
          50,
          60,
          60,
          50,
          40,
          30,
          20,
          10,
          0
         ],
         "xaxis": "x2",
         "y": [
          95.24312163054925,
          95.01261652303242,
          94.92901154611485,
          94.8716118984355,
          95.00845161069876,
          94.60773407775822,
          88.54518694191168,
          86.15281305808833,
          91.92706592224177,
          91.45874838930123,
          94.39758810156451,
          94.74538845388514,
          94.6857834769676,
          94.96247836945075
         ],
         "yaxis": "y2"
        },
        {
         "line": {
          "color": "green"
         },
         "mode": "lines+markers",
         "showlegend": false,
         "type": "scatter",
         "x": [
          0,
          10,
          20,
          30,
          40,
          50,
          60
         ],
         "xaxis": "x2",
         "y": [
          95.1028,
          94.84920000000001,
          94.8372,
          94.6346,
          93.2336,
          93.2674,
          87.349
         ],
         "yaxis": "y2"
        },
        {
         "fill": "toself",
         "fillcolor": "rgba(255, 0, 0, 0.5)",
         "line": {
          "color": "rgba(255,255,255,0)"
         },
         "showlegend": false,
         "type": "scatter",
         "x": [
          0,
          10,
          20,
          30,
          40,
          50,
          60,
          60,
          50,
          40,
          30,
          20,
          10,
          0
         ],
         "xaxis": "x3",
         "y": [
          95.32457769554578,
          92.53992588172406,
          90.23694413616862,
          87.57733247662809,
          69.57325906931048,
          52.2322748823702,
          29.948851444281512,
          6.7577068910603835,
          42.04542010887382,
          54.515901401877876,
          81.72157726150554,
          87.69890922217805,
          91.22156151116855,
          94.64147476264135
         ],
         "yaxis": "y3"
        },
        {
         "line": {
          "color": "red"
         },
         "marker": {
          "symbol": "square"
         },
         "mode": "lines+markers",
         "name": "off",
         "type": "scatter",
         "x": [
          0,
          10,
          20,
          30,
          40,
          50,
          60
         ],
         "xaxis": "x3",
         "y": [
          94.98302622909357,
          91.8807436964463,
          88.96792667917333,
          84.64945486906682,
          62.04458023559418,
          47.13884749562201,
          18.353279167670948
         ],
         "yaxis": "y3"
        },
        {
         "fill": "toself",
         "fillcolor": "rgba(0, 255, 0, 0.5)",
         "line": {
          "color": "rgba(255,255,255,0)"
         },
         "showlegend": false,
         "type": "scatter",
         "x": [
          0,
          10,
          20,
          30,
          40,
          50,
          60,
          60,
          50,
          40,
          30,
          20,
          10,
          0
         ],
         "xaxis": "x3",
         "y": [
          95.37466910678226,
          94.50831481271656,
          93.90332354349945,
          93.99169915557465,
          96.77323110097889,
          94.2153304760785,
          34.56495319960527,
          7.771907574774003,
          66.71005950066682,
          63.48797477208045,
          91.90773431754792,
          93.4960585319919,
          93.39172746219246,
          94.51984260315085
         ],
         "yaxis": "y3"
        },
        {
         "line": {
          "color": "green"
         },
         "marker": {
          "symbol": "square"
         },
         "mode": "lines+markers",
         "name": "on",
         "type": "scatter",
         "x": [
          0,
          10,
          20,
          30,
          40,
          50,
          60
         ],
         "xaxis": "x3",
         "y": [
          94.94725585496656,
          93.95002113745451,
          93.69969103774568,
          92.94971673656129,
          80.13060293652967,
          80.46269498837266,
          21.168430387189638
         ],
         "yaxis": "y3"
        },
        {
         "fill": "toself",
         "fillcolor": "rgba(255, 0, 0, 0.5)",
         "line": {
          "color": "rgba(255,255,255,0)"
         },
         "showlegend": false,
         "type": "scatter",
         "x": [
          0,
          10,
          20,
          30,
          40,
          50,
          60,
          60,
          50,
          40,
          30,
          20,
          10,
          0
         ],
         "xaxis": "x4",
         "y": [
          95.25919361269982,
          94.59683122188437,
          94.11826210384085,
          93.76997249815449,
          91.13609674670931,
          88.79619605441958,
          85.83874765977916,
          82.84725612576588,
          87.59846450894348,
          89.24492039507942,
          92.73732618671406,
          93.73413380988994,
          94.23750953202963,
          94.99374838352023
         ],
         "yaxis": "y4"
        },
        {
         "line": {
          "color": "red"
         },
         "marker": {
          "symbol": "square"
         },
         "mode": "lines+markers",
         "showlegend": false,
         "type": "scatter",
         "x": [
          0,
          10,
          20,
          30,
          40,
          50,
          60
         ],
         "xaxis": "x4",
         "y": [
          95.12647099811002,
          94.417170376957,
          93.9261979568654,
          93.25364934243427,
          90.19050857089437,
          88.19733028168153,
          84.34300189277252
         ],
         "yaxis": "y4"
        },
        {
         "fill": "toself",
         "fillcolor": "rgba(0, 255, 0, 0.5)",
         "line": {
          "color": "rgba(255,255,255,0)"
         },
         "showlegend": false,
         "type": "scatter",
         "x": [
          0,
          10,
          20,
          30,
          40,
          50,
          60,
          60,
          50,
          40,
          30,
          20,
          10,
          0
         ],
         "xaxis": "x4",
         "y": [
          95.23603675283564,
          95.0063291408017,
          94.91709238871165,
          94.86035186666172,
          95.13988676969565,
          94.6651661842837,
          86.48839670714227,
          83.09632518504142,
          90.99912150628482,
          90.45152638639131,
          94.37385705693958,
          94.73517256642624,
          94.67293011647011,
          94.95553093200343
         ],
         "yaxis": "y4"
        },
        {
         "line": {
          "color": "green"
         },
         "marker": {
          "symbol": "square"
         },
         "mode": "lines+markers",
         "showlegend": false,
         "type": "scatter",
         "x": [
          0,
          10,
          20,
          30,
          40,
          50,
          60
         ],
         "xaxis": "x4",
         "y": [
          95.09578384241954,
          94.8396296286359,
          94.82613247756895,
          94.61710446180065,
          92.79570657804348,
          92.83214384528426,
          84.79236094609185
         ],
         "yaxis": "y4"
        }
       ],
       "layout": {
        "height": 800,
        "legend": {
         "borderwidth": 2,
         "font": {
          "size": 12
         },
         "orientation": "h",
         "title": {
          "text": "CosDefence"
         },
         "x": 1,
         "xanchor": "right",
         "y": 1.02,
         "yanchor": "bottom"
        },
        "template": {
         "data": {
          "bar": [
           {
            "error_x": {
             "color": "#2a3f5f"
            },
            "error_y": {
             "color": "#2a3f5f"
            },
            "marker": {
             "line": {
              "color": "#E5ECF6",
              "width": 0.5
             }
            },
            "type": "bar"
           }
          ],
          "barpolar": [
           {
            "marker": {
             "line": {
              "color": "#E5ECF6",
              "width": 0.5
             }
            },
            "type": "barpolar"
           }
          ],
          "carpet": [
           {
            "aaxis": {
             "endlinecolor": "#2a3f5f",
             "gridcolor": "white",
             "linecolor": "white",
             "minorgridcolor": "white",
             "startlinecolor": "#2a3f5f"
            },
            "baxis": {
             "endlinecolor": "#2a3f5f",
             "gridcolor": "white",
             "linecolor": "white",
             "minorgridcolor": "white",
             "startlinecolor": "#2a3f5f"
            },
            "type": "carpet"
           }
          ],
          "choropleth": [
           {
            "colorbar": {
             "outlinewidth": 0,
             "ticks": ""
            },
            "type": "choropleth"
           }
          ],
          "contour": [
           {
            "colorbar": {
             "outlinewidth": 0,
             "ticks": ""
            },
            "colorscale": [
             [
              0,
              "#0d0887"
             ],
             [
              0.1111111111111111,
              "#46039f"
             ],
             [
              0.2222222222222222,
              "#7201a8"
             ],
             [
              0.3333333333333333,
              "#9c179e"
             ],
             [
              0.4444444444444444,
              "#bd3786"
             ],
             [
              0.5555555555555556,
              "#d8576b"
             ],
             [
              0.6666666666666666,
              "#ed7953"
             ],
             [
              0.7777777777777778,
              "#fb9f3a"
             ],
             [
              0.8888888888888888,
              "#fdca26"
             ],
             [
              1,
              "#f0f921"
             ]
            ],
            "type": "contour"
           }
          ],
          "contourcarpet": [
           {
            "colorbar": {
             "outlinewidth": 0,
             "ticks": ""
            },
            "type": "contourcarpet"
           }
          ],
          "heatmap": [
           {
            "colorbar": {
             "outlinewidth": 0,
             "ticks": ""
            },
            "colorscale": [
             [
              0,
              "#0d0887"
             ],
             [
              0.1111111111111111,
              "#46039f"
             ],
             [
              0.2222222222222222,
              "#7201a8"
             ],
             [
              0.3333333333333333,
              "#9c179e"
             ],
             [
              0.4444444444444444,
              "#bd3786"
             ],
             [
              0.5555555555555556,
              "#d8576b"
             ],
             [
              0.6666666666666666,
              "#ed7953"
             ],
             [
              0.7777777777777778,
              "#fb9f3a"
             ],
             [
              0.8888888888888888,
              "#fdca26"
             ],
             [
              1,
              "#f0f921"
             ]
            ],
            "type": "heatmap"
           }
          ],
          "heatmapgl": [
           {
            "colorbar": {
             "outlinewidth": 0,
             "ticks": ""
            },
            "colorscale": [
             [
              0,
              "#0d0887"
             ],
             [
              0.1111111111111111,
              "#46039f"
             ],
             [
              0.2222222222222222,
              "#7201a8"
             ],
             [
              0.3333333333333333,
              "#9c179e"
             ],
             [
              0.4444444444444444,
              "#bd3786"
             ],
             [
              0.5555555555555556,
              "#d8576b"
             ],
             [
              0.6666666666666666,
              "#ed7953"
             ],
             [
              0.7777777777777778,
              "#fb9f3a"
             ],
             [
              0.8888888888888888,
              "#fdca26"
             ],
             [
              1,
              "#f0f921"
             ]
            ],
            "type": "heatmapgl"
           }
          ],
          "histogram": [
           {
            "marker": {
             "colorbar": {
              "outlinewidth": 0,
              "ticks": ""
             }
            },
            "type": "histogram"
           }
          ],
          "histogram2d": [
           {
            "colorbar": {
             "outlinewidth": 0,
             "ticks": ""
            },
            "colorscale": [
             [
              0,
              "#0d0887"
             ],
             [
              0.1111111111111111,
              "#46039f"
             ],
             [
              0.2222222222222222,
              "#7201a8"
             ],
             [
              0.3333333333333333,
              "#9c179e"
             ],
             [
              0.4444444444444444,
              "#bd3786"
             ],
             [
              0.5555555555555556,
              "#d8576b"
             ],
             [
              0.6666666666666666,
              "#ed7953"
             ],
             [
              0.7777777777777778,
              "#fb9f3a"
             ],
             [
              0.8888888888888888,
              "#fdca26"
             ],
             [
              1,
              "#f0f921"
             ]
            ],
            "type": "histogram2d"
           }
          ],
          "histogram2dcontour": [
           {
            "colorbar": {
             "outlinewidth": 0,
             "ticks": ""
            },
            "colorscale": [
             [
              0,
              "#0d0887"
             ],
             [
              0.1111111111111111,
              "#46039f"
             ],
             [
              0.2222222222222222,
              "#7201a8"
             ],
             [
              0.3333333333333333,
              "#9c179e"
             ],
             [
              0.4444444444444444,
              "#bd3786"
             ],
             [
              0.5555555555555556,
              "#d8576b"
             ],
             [
              0.6666666666666666,
              "#ed7953"
             ],
             [
              0.7777777777777778,
              "#fb9f3a"
             ],
             [
              0.8888888888888888,
              "#fdca26"
             ],
             [
              1,
              "#f0f921"
             ]
            ],
            "type": "histogram2dcontour"
           }
          ],
          "mesh3d": [
           {
            "colorbar": {
             "outlinewidth": 0,
             "ticks": ""
            },
            "type": "mesh3d"
           }
          ],
          "parcoords": [
           {
            "line": {
             "colorbar": {
              "outlinewidth": 0,
              "ticks": ""
             }
            },
            "type": "parcoords"
           }
          ],
          "pie": [
           {
            "automargin": true,
            "type": "pie"
           }
          ],
          "scatter": [
           {
            "marker": {
             "colorbar": {
              "outlinewidth": 0,
              "ticks": ""
             }
            },
            "type": "scatter"
           }
          ],
          "scatter3d": [
           {
            "line": {
             "colorbar": {
              "outlinewidth": 0,
              "ticks": ""
             }
            },
            "marker": {
             "colorbar": {
              "outlinewidth": 0,
              "ticks": ""
             }
            },
            "type": "scatter3d"
           }
          ],
          "scattercarpet": [
           {
            "marker": {
             "colorbar": {
              "outlinewidth": 0,
              "ticks": ""
             }
            },
            "type": "scattercarpet"
           }
          ],
          "scattergeo": [
           {
            "marker": {
             "colorbar": {
              "outlinewidth": 0,
              "ticks": ""
             }
            },
            "type": "scattergeo"
           }
          ],
          "scattergl": [
           {
            "marker": {
             "colorbar": {
              "outlinewidth": 0,
              "ticks": ""
             }
            },
            "type": "scattergl"
           }
          ],
          "scattermapbox": [
           {
            "marker": {
             "colorbar": {
              "outlinewidth": 0,
              "ticks": ""
             }
            },
            "type": "scattermapbox"
           }
          ],
          "scatterpolar": [
           {
            "marker": {
             "colorbar": {
              "outlinewidth": 0,
              "ticks": ""
             }
            },
            "type": "scatterpolar"
           }
          ],
          "scatterpolargl": [
           {
            "marker": {
             "colorbar": {
              "outlinewidth": 0,
              "ticks": ""
             }
            },
            "type": "scatterpolargl"
           }
          ],
          "scatterternary": [
           {
            "marker": {
             "colorbar": {
              "outlinewidth": 0,
              "ticks": ""
             }
            },
            "type": "scatterternary"
           }
          ],
          "surface": [
           {
            "colorbar": {
             "outlinewidth": 0,
             "ticks": ""
            },
            "colorscale": [
             [
              0,
              "#0d0887"
             ],
             [
              0.1111111111111111,
              "#46039f"
             ],
             [
              0.2222222222222222,
              "#7201a8"
             ],
             [
              0.3333333333333333,
              "#9c179e"
             ],
             [
              0.4444444444444444,
              "#bd3786"
             ],
             [
              0.5555555555555556,
              "#d8576b"
             ],
             [
              0.6666666666666666,
              "#ed7953"
             ],
             [
              0.7777777777777778,
              "#fb9f3a"
             ],
             [
              0.8888888888888888,
              "#fdca26"
             ],
             [
              1,
              "#f0f921"
             ]
            ],
            "type": "surface"
           }
          ],
          "table": [
           {
            "cells": {
             "fill": {
              "color": "#EBF0F8"
             },
             "line": {
              "color": "white"
             }
            },
            "header": {
             "fill": {
              "color": "#C8D4E3"
             },
             "line": {
              "color": "white"
             }
            },
            "type": "table"
           }
          ]
         },
         "layout": {
          "annotationdefaults": {
           "arrowcolor": "#2a3f5f",
           "arrowhead": 0,
           "arrowwidth": 1
          },
          "autotypenumbers": "strict",
          "coloraxis": {
           "colorbar": {
            "outlinewidth": 0,
            "ticks": ""
           }
          },
          "colorscale": {
           "diverging": [
            [
             0,
             "#8e0152"
            ],
            [
             0.1,
             "#c51b7d"
            ],
            [
             0.2,
             "#de77ae"
            ],
            [
             0.3,
             "#f1b6da"
            ],
            [
             0.4,
             "#fde0ef"
            ],
            [
             0.5,
             "#f7f7f7"
            ],
            [
             0.6,
             "#e6f5d0"
            ],
            [
             0.7,
             "#b8e186"
            ],
            [
             0.8,
             "#7fbc41"
            ],
            [
             0.9,
             "#4d9221"
            ],
            [
             1,
             "#276419"
            ]
           ],
           "sequential": [
            [
             0,
             "#0d0887"
            ],
            [
             0.1111111111111111,
             "#46039f"
            ],
            [
             0.2222222222222222,
             "#7201a8"
            ],
            [
             0.3333333333333333,
             "#9c179e"
            ],
            [
             0.4444444444444444,
             "#bd3786"
            ],
            [
             0.5555555555555556,
             "#d8576b"
            ],
            [
             0.6666666666666666,
             "#ed7953"
            ],
            [
             0.7777777777777778,
             "#fb9f3a"
            ],
            [
             0.8888888888888888,
             "#fdca26"
            ],
            [
             1,
             "#f0f921"
            ]
           ],
           "sequentialminus": [
            [
             0,
             "#0d0887"
            ],
            [
             0.1111111111111111,
             "#46039f"
            ],
            [
             0.2222222222222222,
             "#7201a8"
            ],
            [
             0.3333333333333333,
             "#9c179e"
            ],
            [
             0.4444444444444444,
             "#bd3786"
            ],
            [
             0.5555555555555556,
             "#d8576b"
            ],
            [
             0.6666666666666666,
             "#ed7953"
            ],
            [
             0.7777777777777778,
             "#fb9f3a"
            ],
            [
             0.8888888888888888,
             "#fdca26"
            ],
            [
             1,
             "#f0f921"
            ]
           ]
          },
          "colorway": [
           "#636efa",
           "#EF553B",
           "#00cc96",
           "#ab63fa",
           "#FFA15A",
           "#19d3f3",
           "#FF6692",
           "#B6E880",
           "#FF97FF",
           "#FECB52"
          ],
          "font": {
           "color": "#2a3f5f"
          },
          "geo": {
           "bgcolor": "white",
           "lakecolor": "white",
           "landcolor": "#E5ECF6",
           "showlakes": true,
           "showland": true,
           "subunitcolor": "white"
          },
          "hoverlabel": {
           "align": "left"
          },
          "hovermode": "closest",
          "mapbox": {
           "style": "light"
          },
          "paper_bgcolor": "white",
          "plot_bgcolor": "#E5ECF6",
          "polar": {
           "angularaxis": {
            "gridcolor": "white",
            "linecolor": "white",
            "ticks": ""
           },
           "bgcolor": "#E5ECF6",
           "radialaxis": {
            "gridcolor": "white",
            "linecolor": "white",
            "ticks": ""
           }
          },
          "scene": {
           "xaxis": {
            "backgroundcolor": "#E5ECF6",
            "gridcolor": "white",
            "gridwidth": 2,
            "linecolor": "white",
            "showbackground": true,
            "ticks": "",
            "zerolinecolor": "white"
           },
           "yaxis": {
            "backgroundcolor": "#E5ECF6",
            "gridcolor": "white",
            "gridwidth": 2,
            "linecolor": "white",
            "showbackground": true,
            "ticks": "",
            "zerolinecolor": "white"
           },
           "zaxis": {
            "backgroundcolor": "#E5ECF6",
            "gridcolor": "white",
            "gridwidth": 2,
            "linecolor": "white",
            "showbackground": true,
            "ticks": "",
            "zerolinecolor": "white"
           }
          },
          "shapedefaults": {
           "line": {
            "color": "#2a3f5f"
           }
          },
          "ternary": {
           "aaxis": {
            "gridcolor": "white",
            "linecolor": "white",
            "ticks": ""
           },
           "baxis": {
            "gridcolor": "white",
            "linecolor": "white",
            "ticks": ""
           },
           "bgcolor": "#E5ECF6",
           "caxis": {
            "gridcolor": "white",
            "linecolor": "white",
            "ticks": ""
           }
          },
          "title": {
           "x": 0.05
          },
          "xaxis": {
           "automargin": true,
           "gridcolor": "white",
           "linecolor": "white",
           "ticks": "",
           "title": {
            "standoff": 15
           },
           "zerolinecolor": "white",
           "zerolinewidth": 2
          },
          "yaxis": {
           "automargin": true,
           "gridcolor": "white",
           "linecolor": "white",
           "ticks": "",
           "title": {
            "standoff": 15
           },
           "zerolinecolor": "white",
           "zerolinewidth": 2
          }
         }
        },
        "title": {
         "text": "MNIST CosDefence result for 10:1 ratio in client data distribution"
        },
        "width": 1200,
        "xaxis": {
         "anchor": "y",
         "domain": [
          0,
          0.46499999999999997
         ],
         "dtick": 10,
         "matches": "x3",
         "showticklabels": false,
         "tick0": 0,
         "tickcolor": "blue",
         "ticklen": 10,
         "ticks": "outside",
         "tickwidth": 2,
         "title": {
          "font": {
           "size": 16
          },
          "standoff": 7,
          "text": "Poisoned Clients in FL Env"
         }
        },
        "xaxis2": {
         "anchor": "y2",
         "domain": [
          0.5349999999999999,
          0.9999999999999999
         ],
         "dtick": 10,
         "matches": "x4",
         "showticklabels": false,
         "tick0": 0,
         "tickcolor": "blue",
         "ticklen": 10,
         "ticks": "outside",
         "tickwidth": 2,
         "title": {
          "font": {
           "size": 16
          },
          "standoff": 7,
          "text": "Poisoned Clients in FL Env"
         }
        },
        "xaxis3": {
         "anchor": "y3",
         "domain": [
          0,
          0.46499999999999997
         ],
         "dtick": 10,
         "tick0": 0,
         "tickcolor": "blue",
         "ticklen": 10,
         "ticks": "outside",
         "tickwidth": 2,
         "title": {
          "font": {
           "size": 16
          },
          "standoff": 7,
          "text": "Poisoned Clients in FL Env"
         }
        },
        "xaxis4": {
         "anchor": "y4",
         "domain": [
          0.5349999999999999,
          0.9999999999999999
         ],
         "dtick": 10,
         "tick0": 0,
         "tickcolor": "blue",
         "ticklen": 10,
         "ticks": "outside",
         "tickwidth": 2,
         "title": {
          "font": {
           "size": 16
          },
          "standoff": 7,
          "text": "Poisoned Clients in FL Env"
         }
        },
        "yaxis": {
         "anchor": "x",
         "domain": [
          0.55,
          1
         ],
         "dtick": 20,
         "tick0": 0,
         "tickcolor": "blue",
         "ticklen": 10,
         "ticks": "outside",
         "tickwidth": 2,
         "title": {
          "font": {
           "size": 16
          },
          "standoff": 5,
          "text": "Poisoned Class Mean Acc"
         }
        },
        "yaxis2": {
         "anchor": "x2",
         "domain": [
          0.55,
          1
         ],
         "dtick": 20,
         "matches": "y",
         "showticklabels": false,
         "tick0": 0,
         "tickcolor": "blue",
         "ticklen": 10,
         "ticks": "outside",
         "tickwidth": 2,
         "title": {
          "font": {
           "size": 16
          },
          "standoff": 5,
          "text": "Avg Class Mean Acc"
         }
        },
        "yaxis3": {
         "anchor": "x3",
         "domain": [
          0,
          0.45
         ],
         "dtick": 20,
         "tick0": 0,
         "tickcolor": "blue",
         "ticklen": 10,
         "ticks": "outside",
         "tickwidth": 2,
         "title": {
          "font": {
           "size": 16
          },
          "standoff": 5,
          "text": "Poisoned Class Mean F1"
         }
        },
        "yaxis4": {
         "anchor": "x4",
         "domain": [
          0,
          0.45
         ],
         "dtick": 20,
         "matches": "y3",
         "showticklabels": false,
         "tick0": 0,
         "tickcolor": "blue",
         "ticklen": 10,
         "ticks": "outside",
         "tickwidth": 2,
         "title": {
          "font": {
           "size": 16
          },
          "standoff": 5,
          "text": "Avg Class Mean F1"
         }
        }
       }
      }
     },
     "metadata": {},
     "output_type": "display_data"
    }
   ],
   "source": [
    "summary_file = 'mnist_r10_results.json'\n",
    "res_fig_name = summary_file[:-5]\n",
    "result_data = get_data(json_folder + summary_file)\n",
    "fig = gen_acc_f1_plot_std(\"MNIST CosDefence result for 10:1 ratio in client data distribution\", result_data, res_fig_name, save_html=False)\n",
    "fig.show()"
   ]
  },
  {
   "cell_type": "code",
   "execution_count": 30,
   "id": "eb30fda4",
   "metadata": {},
   "outputs": [
    {
     "data": {
      "application/vnd.plotly.v1+json": {
       "config": {
        "plotlyServerURL": "https://plot.ly"
       },
       "data": [
        {
         "fill": "toself",
         "fillcolor": "rgba(255, 0, 0, 0.5)",
         "line": {
          "color": "rgba(255,255,255,0)"
         },
         "showlegend": false,
         "type": "scatter",
         "x": [
          0,
          10,
          20,
          30,
          40,
          50,
          60,
          60,
          50,
          40,
          30,
          20,
          10,
          0
         ],
         "xaxis": "x",
         "y": [
          84.26681114017205,
          81.38891405528662,
          79.17031874940784,
          74.7666404700728,
          66.82294772878501,
          46.872249615023605,
          18.826688909936742,
          12.867311090063259,
          29.8257503849764,
          56.60705227121498,
          72.31935952992721,
          76.46568125059216,
          80.36508594471337,
          83.96518885982792
         ],
         "yaxis": "y"
        },
        {
         "line": {
          "color": "red"
         },
         "mode": "lines+markers",
         "name": "off",
         "type": "scatter",
         "x": [
          0,
          10,
          20,
          30,
          40,
          50,
          60
         ],
         "xaxis": "x",
         "y": [
          84.11599999999999,
          80.877,
          77.818,
          73.543,
          61.714999999999996,
          38.349000000000004,
          15.847
         ],
         "yaxis": "y"
        },
        {
         "fill": "toself",
         "fillcolor": "rgba(0, 255, 0, 0.5)",
         "line": {
          "color": "rgba(255,255,255,0)"
         },
         "showlegend": false,
         "type": "scatter",
         "x": [
          0,
          10,
          20,
          30,
          40,
          50,
          60,
          60,
          50,
          40,
          30,
          20,
          10,
          0
         ],
         "xaxis": "x",
         "y": [
          85.12661623103975,
          84.13533796150841,
          84.66093261694468,
          84.14362263268343,
          82.47036419540355,
          69.33810597982446,
          12.930910349678566,
          0.3710896503214318,
          17.431894020175537,
          78.15363580459645,
          78.69837736731658,
          82.0490673830553,
          81.99866203849155,
          83.02938376896026
         ],
         "yaxis": "y"
        },
        {
         "line": {
          "color": "green"
         },
         "mode": "lines+markers",
         "name": "on",
         "type": "scatter",
         "x": [
          0,
          10,
          20,
          30,
          40,
          50,
          60
         ],
         "xaxis": "x",
         "y": [
          84.078,
          83.06699999999998,
          83.35499999999999,
          81.421,
          80.312,
          43.385,
          6.650999999999999
         ],
         "yaxis": "y"
        },
        {
         "fill": "toself",
         "fillcolor": "rgba(255, 0, 0, 0.5)",
         "line": {
          "color": "rgba(255,255,255,0)"
         },
         "showlegend": false,
         "type": "scatter",
         "x": [
          0,
          10,
          20,
          30,
          40,
          50,
          60,
          60,
          50,
          40,
          30,
          20,
          10,
          0
         ],
         "xaxis": "x2",
         "y": [
          89.6017562559358,
          89.47415452107549,
          89.32413851887385,
          89.01462823806905,
          88.29067281437557,
          86.37829124707602,
          83.51228611078032,
          82.92911388921966,
          84.81310875292397,
          87.48512718562446,
          88.75077176193098,
          89.12186148112612,
          89.24024547892449,
          89.50304374406421
         ],
         "yaxis": "y2"
        },
        {
         "line": {
          "color": "red"
         },
         "mode": "lines+markers",
         "showlegend": false,
         "type": "scatter",
         "x": [
          0,
          10,
          20,
          30,
          40,
          50,
          60
         ],
         "xaxis": "x2",
         "y": [
          89.5524,
          89.35719999999999,
          89.22299999999998,
          88.88270000000001,
          87.88790000000002,
          85.5957,
          83.2207
         ],
         "yaxis": "y2"
        },
        {
         "fill": "toself",
         "fillcolor": "rgba(0, 255, 0, 0.5)",
         "line": {
          "color": "rgba(255,255,255,0)"
         },
         "showlegend": false,
         "type": "scatter",
         "x": [
          0,
          10,
          20,
          30,
          40,
          50,
          60,
          60,
          50,
          40,
          30,
          20,
          10,
          0
         ],
         "xaxis": "x2",
         "y": [
          89.45012574535316,
          89.48096409155211,
          89.288806702803,
          89.16573469241075,
          89.23586498877623,
          88.14718317460992,
          82.4841098372037,
          80.98469016279628,
          83.06321682539007,
          88.77033501122375,
          88.90166530758924,
          89.19779329719701,
          89.22423590844788,
          89.29667425464682
         ],
         "yaxis": "y2"
        },
        {
         "line": {
          "color": "green"
         },
         "mode": "lines+markers",
         "showlegend": false,
         "type": "scatter",
         "x": [
          0,
          10,
          20,
          30,
          40,
          50,
          60
         ],
         "xaxis": "x2",
         "y": [
          89.37339999999999,
          89.3526,
          89.2433,
          89.0337,
          89.00309999999999,
          85.6052,
          81.7344
         ],
         "yaxis": "y2"
        },
        {
         "fill": "toself",
         "fillcolor": "rgba(255, 0, 0, 0.5)",
         "line": {
          "color": "rgba(255,255,255,0)"
         },
         "showlegend": false,
         "type": "scatter",
         "x": [
          0,
          10,
          20,
          30,
          40,
          50,
          60,
          60,
          50,
          40,
          30,
          20,
          10,
          0
         ],
         "xaxis": "x3",
         "y": [
          82.90142133326003,
          82.38611747372632,
          81.94366075838454,
          80.26160089626367,
          74.96543704554608,
          54.81082977755105,
          24.734150885474126,
          16.9267113502332,
          38.24701270863085,
          66.69700825024694,
          79.00001494418498,
          80.69091828338236,
          81.75731284169329,
          82.68577590849517
         ],
         "yaxis": "y3"
        },
        {
         "line": {
          "color": "red"
         },
         "marker": {
          "symbol": "square"
         },
         "mode": "lines+markers",
         "name": "off",
         "type": "scatter",
         "x": [
          0,
          10,
          20,
          30,
          40,
          50,
          60
         ],
         "xaxis": "x3",
         "y": [
          82.7935986208776,
          82.0717151577098,
          81.31728952088345,
          79.63080792022433,
          70.83122264789651,
          46.52892124309095,
          20.830431117853664
         ],
         "yaxis": "y3"
        },
        {
         "fill": "toself",
         "fillcolor": "rgba(0, 255, 0, 0.5)",
         "line": {
          "color": "rgba(255,255,255,0)"
         },
         "showlegend": false,
         "type": "scatter",
         "x": [
          0,
          10,
          20,
          30,
          40,
          50,
          60,
          60,
          50,
          40,
          30,
          20,
          10,
          0
         ],
         "xaxis": "x3",
         "y": [
          83.04851148655129,
          82.60160090763037,
          82.2649508445762,
          82.00745674172958,
          82.56950354236636,
          74.21796773652639,
          14.962453312628757,
          0.7394220002201601,
          21.798795847698898,
          78.92376744923877,
          80.8259009724718,
          82.01011718104154,
          82.22965665260313,
          82.25798111383537
         ],
         "yaxis": "y3"
        },
        {
         "line": {
          "color": "green"
         },
         "marker": {
          "symbol": "square"
         },
         "mode": "lines+markers",
         "name": "on",
         "type": "scatter",
         "x": [
          0,
          10,
          20,
          30,
          40,
          50,
          60
         ],
         "xaxis": "x3",
         "y": [
          82.65324630019333,
          82.41562878011675,
          82.13753401280887,
          81.41667885710069,
          80.74663549580256,
          48.008381792112644,
          7.850937656424458
         ],
         "yaxis": "y3"
        },
        {
         "fill": "toself",
         "fillcolor": "rgba(255, 0, 0, 0.5)",
         "line": {
          "color": "rgba(255,255,255,0)"
         },
         "showlegend": false,
         "type": "scatter",
         "x": [
          0,
          10,
          20,
          30,
          40,
          50,
          60,
          60,
          50,
          40,
          30,
          20,
          10,
          0
         ],
         "xaxis": "x4",
         "y": [
          89.5089792208911,
          89.37871837700052,
          89.24044308288619,
          88.91463342724677,
          88.05121963322135,
          85.31414961744305,
          81.14811861427417,
          80.23307175420946,
          83.0541921808712,
          86.96856779464095,
          88.65774622032382,
          89.02596192293733,
          89.16079973653089,
          89.41465447396338
         ],
         "yaxis": "y4"
        },
        {
         "line": {
          "color": "red"
         },
         "marker": {
          "symbol": "square"
         },
         "mode": "lines+markers",
         "showlegend": false,
         "type": "scatter",
         "x": [
          0,
          10,
          20,
          30,
          40,
          50,
          60
         ],
         "xaxis": "x4",
         "y": [
          89.46181684742724,
          89.26975905676571,
          89.13320250291176,
          88.78618982378529,
          87.50989371393115,
          84.18417089915712,
          80.69059518424181
         ],
         "yaxis": "y4"
        },
        {
         "fill": "toself",
         "fillcolor": "rgba(0, 255, 0, 0.5)",
         "line": {
          "color": "rgba(255,255,255,0)"
         },
         "showlegend": false,
         "type": "scatter",
         "x": [
          0,
          10,
          20,
          30,
          40,
          50,
          60,
          60,
          50,
          40,
          30,
          20,
          10,
          0
         ],
         "xaxis": "x4",
         "y": [
          89.39619493490578,
          89.41127973593129,
          89.21635784923818,
          89.08723853135145,
          89.21497383366815,
          87.86356626460764,
          79.74382132276902,
          77.69602214388816,
          80.66495620832276,
          88.62895845255568,
          88.88341603136509,
          89.11910051489629,
          89.13960031612942,
          89.21416101066639
         ],
         "yaxis": "y4"
        },
        {
         "line": {
          "color": "green"
         },
         "marker": {
          "symbol": "square"
         },
         "mode": "lines+markers",
         "showlegend": false,
         "type": "scatter",
         "x": [
          0,
          10,
          20,
          30,
          40,
          50,
          60
         ],
         "xaxis": "x4",
         "y": [
          89.30517797278608,
          89.27544002603035,
          89.16772918206723,
          88.98532728135827,
          88.92196614311192,
          84.2642612364652,
          78.71992173332859
         ],
         "yaxis": "y4"
        }
       ],
       "layout": {
        "height": 800,
        "legend": {
         "borderwidth": 2,
         "font": {
          "size": 12
         },
         "orientation": "h",
         "title": {
          "text": "CosDefence"
         },
         "x": 1,
         "xanchor": "right",
         "y": 1.02,
         "yanchor": "bottom"
        },
        "template": {
         "data": {
          "bar": [
           {
            "error_x": {
             "color": "#2a3f5f"
            },
            "error_y": {
             "color": "#2a3f5f"
            },
            "marker": {
             "line": {
              "color": "#E5ECF6",
              "width": 0.5
             }
            },
            "type": "bar"
           }
          ],
          "barpolar": [
           {
            "marker": {
             "line": {
              "color": "#E5ECF6",
              "width": 0.5
             }
            },
            "type": "barpolar"
           }
          ],
          "carpet": [
           {
            "aaxis": {
             "endlinecolor": "#2a3f5f",
             "gridcolor": "white",
             "linecolor": "white",
             "minorgridcolor": "white",
             "startlinecolor": "#2a3f5f"
            },
            "baxis": {
             "endlinecolor": "#2a3f5f",
             "gridcolor": "white",
             "linecolor": "white",
             "minorgridcolor": "white",
             "startlinecolor": "#2a3f5f"
            },
            "type": "carpet"
           }
          ],
          "choropleth": [
           {
            "colorbar": {
             "outlinewidth": 0,
             "ticks": ""
            },
            "type": "choropleth"
           }
          ],
          "contour": [
           {
            "colorbar": {
             "outlinewidth": 0,
             "ticks": ""
            },
            "colorscale": [
             [
              0,
              "#0d0887"
             ],
             [
              0.1111111111111111,
              "#46039f"
             ],
             [
              0.2222222222222222,
              "#7201a8"
             ],
             [
              0.3333333333333333,
              "#9c179e"
             ],
             [
              0.4444444444444444,
              "#bd3786"
             ],
             [
              0.5555555555555556,
              "#d8576b"
             ],
             [
              0.6666666666666666,
              "#ed7953"
             ],
             [
              0.7777777777777778,
              "#fb9f3a"
             ],
             [
              0.8888888888888888,
              "#fdca26"
             ],
             [
              1,
              "#f0f921"
             ]
            ],
            "type": "contour"
           }
          ],
          "contourcarpet": [
           {
            "colorbar": {
             "outlinewidth": 0,
             "ticks": ""
            },
            "type": "contourcarpet"
           }
          ],
          "heatmap": [
           {
            "colorbar": {
             "outlinewidth": 0,
             "ticks": ""
            },
            "colorscale": [
             [
              0,
              "#0d0887"
             ],
             [
              0.1111111111111111,
              "#46039f"
             ],
             [
              0.2222222222222222,
              "#7201a8"
             ],
             [
              0.3333333333333333,
              "#9c179e"
             ],
             [
              0.4444444444444444,
              "#bd3786"
             ],
             [
              0.5555555555555556,
              "#d8576b"
             ],
             [
              0.6666666666666666,
              "#ed7953"
             ],
             [
              0.7777777777777778,
              "#fb9f3a"
             ],
             [
              0.8888888888888888,
              "#fdca26"
             ],
             [
              1,
              "#f0f921"
             ]
            ],
            "type": "heatmap"
           }
          ],
          "heatmapgl": [
           {
            "colorbar": {
             "outlinewidth": 0,
             "ticks": ""
            },
            "colorscale": [
             [
              0,
              "#0d0887"
             ],
             [
              0.1111111111111111,
              "#46039f"
             ],
             [
              0.2222222222222222,
              "#7201a8"
             ],
             [
              0.3333333333333333,
              "#9c179e"
             ],
             [
              0.4444444444444444,
              "#bd3786"
             ],
             [
              0.5555555555555556,
              "#d8576b"
             ],
             [
              0.6666666666666666,
              "#ed7953"
             ],
             [
              0.7777777777777778,
              "#fb9f3a"
             ],
             [
              0.8888888888888888,
              "#fdca26"
             ],
             [
              1,
              "#f0f921"
             ]
            ],
            "type": "heatmapgl"
           }
          ],
          "histogram": [
           {
            "marker": {
             "colorbar": {
              "outlinewidth": 0,
              "ticks": ""
             }
            },
            "type": "histogram"
           }
          ],
          "histogram2d": [
           {
            "colorbar": {
             "outlinewidth": 0,
             "ticks": ""
            },
            "colorscale": [
             [
              0,
              "#0d0887"
             ],
             [
              0.1111111111111111,
              "#46039f"
             ],
             [
              0.2222222222222222,
              "#7201a8"
             ],
             [
              0.3333333333333333,
              "#9c179e"
             ],
             [
              0.4444444444444444,
              "#bd3786"
             ],
             [
              0.5555555555555556,
              "#d8576b"
             ],
             [
              0.6666666666666666,
              "#ed7953"
             ],
             [
              0.7777777777777778,
              "#fb9f3a"
             ],
             [
              0.8888888888888888,
              "#fdca26"
             ],
             [
              1,
              "#f0f921"
             ]
            ],
            "type": "histogram2d"
           }
          ],
          "histogram2dcontour": [
           {
            "colorbar": {
             "outlinewidth": 0,
             "ticks": ""
            },
            "colorscale": [
             [
              0,
              "#0d0887"
             ],
             [
              0.1111111111111111,
              "#46039f"
             ],
             [
              0.2222222222222222,
              "#7201a8"
             ],
             [
              0.3333333333333333,
              "#9c179e"
             ],
             [
              0.4444444444444444,
              "#bd3786"
             ],
             [
              0.5555555555555556,
              "#d8576b"
             ],
             [
              0.6666666666666666,
              "#ed7953"
             ],
             [
              0.7777777777777778,
              "#fb9f3a"
             ],
             [
              0.8888888888888888,
              "#fdca26"
             ],
             [
              1,
              "#f0f921"
             ]
            ],
            "type": "histogram2dcontour"
           }
          ],
          "mesh3d": [
           {
            "colorbar": {
             "outlinewidth": 0,
             "ticks": ""
            },
            "type": "mesh3d"
           }
          ],
          "parcoords": [
           {
            "line": {
             "colorbar": {
              "outlinewidth": 0,
              "ticks": ""
             }
            },
            "type": "parcoords"
           }
          ],
          "pie": [
           {
            "automargin": true,
            "type": "pie"
           }
          ],
          "scatter": [
           {
            "marker": {
             "colorbar": {
              "outlinewidth": 0,
              "ticks": ""
             }
            },
            "type": "scatter"
           }
          ],
          "scatter3d": [
           {
            "line": {
             "colorbar": {
              "outlinewidth": 0,
              "ticks": ""
             }
            },
            "marker": {
             "colorbar": {
              "outlinewidth": 0,
              "ticks": ""
             }
            },
            "type": "scatter3d"
           }
          ],
          "scattercarpet": [
           {
            "marker": {
             "colorbar": {
              "outlinewidth": 0,
              "ticks": ""
             }
            },
            "type": "scattercarpet"
           }
          ],
          "scattergeo": [
           {
            "marker": {
             "colorbar": {
              "outlinewidth": 0,
              "ticks": ""
             }
            },
            "type": "scattergeo"
           }
          ],
          "scattergl": [
           {
            "marker": {
             "colorbar": {
              "outlinewidth": 0,
              "ticks": ""
             }
            },
            "type": "scattergl"
           }
          ],
          "scattermapbox": [
           {
            "marker": {
             "colorbar": {
              "outlinewidth": 0,
              "ticks": ""
             }
            },
            "type": "scattermapbox"
           }
          ],
          "scatterpolar": [
           {
            "marker": {
             "colorbar": {
              "outlinewidth": 0,
              "ticks": ""
             }
            },
            "type": "scatterpolar"
           }
          ],
          "scatterpolargl": [
           {
            "marker": {
             "colorbar": {
              "outlinewidth": 0,
              "ticks": ""
             }
            },
            "type": "scatterpolargl"
           }
          ],
          "scatterternary": [
           {
            "marker": {
             "colorbar": {
              "outlinewidth": 0,
              "ticks": ""
             }
            },
            "type": "scatterternary"
           }
          ],
          "surface": [
           {
            "colorbar": {
             "outlinewidth": 0,
             "ticks": ""
            },
            "colorscale": [
             [
              0,
              "#0d0887"
             ],
             [
              0.1111111111111111,
              "#46039f"
             ],
             [
              0.2222222222222222,
              "#7201a8"
             ],
             [
              0.3333333333333333,
              "#9c179e"
             ],
             [
              0.4444444444444444,
              "#bd3786"
             ],
             [
              0.5555555555555556,
              "#d8576b"
             ],
             [
              0.6666666666666666,
              "#ed7953"
             ],
             [
              0.7777777777777778,
              "#fb9f3a"
             ],
             [
              0.8888888888888888,
              "#fdca26"
             ],
             [
              1,
              "#f0f921"
             ]
            ],
            "type": "surface"
           }
          ],
          "table": [
           {
            "cells": {
             "fill": {
              "color": "#EBF0F8"
             },
             "line": {
              "color": "white"
             }
            },
            "header": {
             "fill": {
              "color": "#C8D4E3"
             },
             "line": {
              "color": "white"
             }
            },
            "type": "table"
           }
          ]
         },
         "layout": {
          "annotationdefaults": {
           "arrowcolor": "#2a3f5f",
           "arrowhead": 0,
           "arrowwidth": 1
          },
          "autotypenumbers": "strict",
          "coloraxis": {
           "colorbar": {
            "outlinewidth": 0,
            "ticks": ""
           }
          },
          "colorscale": {
           "diverging": [
            [
             0,
             "#8e0152"
            ],
            [
             0.1,
             "#c51b7d"
            ],
            [
             0.2,
             "#de77ae"
            ],
            [
             0.3,
             "#f1b6da"
            ],
            [
             0.4,
             "#fde0ef"
            ],
            [
             0.5,
             "#f7f7f7"
            ],
            [
             0.6,
             "#e6f5d0"
            ],
            [
             0.7,
             "#b8e186"
            ],
            [
             0.8,
             "#7fbc41"
            ],
            [
             0.9,
             "#4d9221"
            ],
            [
             1,
             "#276419"
            ]
           ],
           "sequential": [
            [
             0,
             "#0d0887"
            ],
            [
             0.1111111111111111,
             "#46039f"
            ],
            [
             0.2222222222222222,
             "#7201a8"
            ],
            [
             0.3333333333333333,
             "#9c179e"
            ],
            [
             0.4444444444444444,
             "#bd3786"
            ],
            [
             0.5555555555555556,
             "#d8576b"
            ],
            [
             0.6666666666666666,
             "#ed7953"
            ],
            [
             0.7777777777777778,
             "#fb9f3a"
            ],
            [
             0.8888888888888888,
             "#fdca26"
            ],
            [
             1,
             "#f0f921"
            ]
           ],
           "sequentialminus": [
            [
             0,
             "#0d0887"
            ],
            [
             0.1111111111111111,
             "#46039f"
            ],
            [
             0.2222222222222222,
             "#7201a8"
            ],
            [
             0.3333333333333333,
             "#9c179e"
            ],
            [
             0.4444444444444444,
             "#bd3786"
            ],
            [
             0.5555555555555556,
             "#d8576b"
            ],
            [
             0.6666666666666666,
             "#ed7953"
            ],
            [
             0.7777777777777778,
             "#fb9f3a"
            ],
            [
             0.8888888888888888,
             "#fdca26"
            ],
            [
             1,
             "#f0f921"
            ]
           ]
          },
          "colorway": [
           "#636efa",
           "#EF553B",
           "#00cc96",
           "#ab63fa",
           "#FFA15A",
           "#19d3f3",
           "#FF6692",
           "#B6E880",
           "#FF97FF",
           "#FECB52"
          ],
          "font": {
           "color": "#2a3f5f"
          },
          "geo": {
           "bgcolor": "white",
           "lakecolor": "white",
           "landcolor": "#E5ECF6",
           "showlakes": true,
           "showland": true,
           "subunitcolor": "white"
          },
          "hoverlabel": {
           "align": "left"
          },
          "hovermode": "closest",
          "mapbox": {
           "style": "light"
          },
          "paper_bgcolor": "white",
          "plot_bgcolor": "#E5ECF6",
          "polar": {
           "angularaxis": {
            "gridcolor": "white",
            "linecolor": "white",
            "ticks": ""
           },
           "bgcolor": "#E5ECF6",
           "radialaxis": {
            "gridcolor": "white",
            "linecolor": "white",
            "ticks": ""
           }
          },
          "scene": {
           "xaxis": {
            "backgroundcolor": "#E5ECF6",
            "gridcolor": "white",
            "gridwidth": 2,
            "linecolor": "white",
            "showbackground": true,
            "ticks": "",
            "zerolinecolor": "white"
           },
           "yaxis": {
            "backgroundcolor": "#E5ECF6",
            "gridcolor": "white",
            "gridwidth": 2,
            "linecolor": "white",
            "showbackground": true,
            "ticks": "",
            "zerolinecolor": "white"
           },
           "zaxis": {
            "backgroundcolor": "#E5ECF6",
            "gridcolor": "white",
            "gridwidth": 2,
            "linecolor": "white",
            "showbackground": true,
            "ticks": "",
            "zerolinecolor": "white"
           }
          },
          "shapedefaults": {
           "line": {
            "color": "#2a3f5f"
           }
          },
          "ternary": {
           "aaxis": {
            "gridcolor": "white",
            "linecolor": "white",
            "ticks": ""
           },
           "baxis": {
            "gridcolor": "white",
            "linecolor": "white",
            "ticks": ""
           },
           "bgcolor": "#E5ECF6",
           "caxis": {
            "gridcolor": "white",
            "linecolor": "white",
            "ticks": ""
           }
          },
          "title": {
           "x": 0.05
          },
          "xaxis": {
           "automargin": true,
           "gridcolor": "white",
           "linecolor": "white",
           "ticks": "",
           "title": {
            "standoff": 15
           },
           "zerolinecolor": "white",
           "zerolinewidth": 2
          },
          "yaxis": {
           "automargin": true,
           "gridcolor": "white",
           "linecolor": "white",
           "ticks": "",
           "title": {
            "standoff": 15
           },
           "zerolinecolor": "white",
           "zerolinewidth": 2
          }
         }
        },
        "title": {
         "text": "FMNIST CosDefence result for 10:1 ratio in client data distribution"
        },
        "width": 1200,
        "xaxis": {
         "anchor": "y",
         "domain": [
          0,
          0.46499999999999997
         ],
         "dtick": 10,
         "matches": "x3",
         "showticklabels": false,
         "tick0": 0,
         "tickcolor": "blue",
         "ticklen": 10,
         "ticks": "outside",
         "tickwidth": 2,
         "title": {
          "font": {
           "size": 16
          },
          "standoff": 7,
          "text": "Poisoned Clients in FL Env"
         }
        },
        "xaxis2": {
         "anchor": "y2",
         "domain": [
          0.5349999999999999,
          0.9999999999999999
         ],
         "dtick": 10,
         "matches": "x4",
         "showticklabels": false,
         "tick0": 0,
         "tickcolor": "blue",
         "ticklen": 10,
         "ticks": "outside",
         "tickwidth": 2,
         "title": {
          "font": {
           "size": 16
          },
          "standoff": 7,
          "text": "Poisoned Clients in FL Env"
         }
        },
        "xaxis3": {
         "anchor": "y3",
         "domain": [
          0,
          0.46499999999999997
         ],
         "dtick": 10,
         "tick0": 0,
         "tickcolor": "blue",
         "ticklen": 10,
         "ticks": "outside",
         "tickwidth": 2,
         "title": {
          "font": {
           "size": 16
          },
          "standoff": 7,
          "text": "Poisoned Clients in FL Env"
         }
        },
        "xaxis4": {
         "anchor": "y4",
         "domain": [
          0.5349999999999999,
          0.9999999999999999
         ],
         "dtick": 10,
         "tick0": 0,
         "tickcolor": "blue",
         "ticklen": 10,
         "ticks": "outside",
         "tickwidth": 2,
         "title": {
          "font": {
           "size": 16
          },
          "standoff": 7,
          "text": "Poisoned Clients in FL Env"
         }
        },
        "yaxis": {
         "anchor": "x",
         "domain": [
          0.55,
          1
         ],
         "dtick": 20,
         "tick0": 0,
         "tickcolor": "blue",
         "ticklen": 10,
         "ticks": "outside",
         "tickwidth": 2,
         "title": {
          "font": {
           "size": 16
          },
          "standoff": 5,
          "text": "Poisoned Class Mean Acc"
         }
        },
        "yaxis2": {
         "anchor": "x2",
         "domain": [
          0.55,
          1
         ],
         "dtick": 20,
         "matches": "y",
         "showticklabels": false,
         "tick0": 0,
         "tickcolor": "blue",
         "ticklen": 10,
         "ticks": "outside",
         "tickwidth": 2,
         "title": {
          "font": {
           "size": 16
          },
          "standoff": 5,
          "text": "Avg Class Mean Acc"
         }
        },
        "yaxis3": {
         "anchor": "x3",
         "domain": [
          0,
          0.45
         ],
         "dtick": 20,
         "tick0": 0,
         "tickcolor": "blue",
         "ticklen": 10,
         "ticks": "outside",
         "tickwidth": 2,
         "title": {
          "font": {
           "size": 16
          },
          "standoff": 5,
          "text": "Poisoned Class Mean F1"
         }
        },
        "yaxis4": {
         "anchor": "x4",
         "domain": [
          0,
          0.45
         ],
         "dtick": 20,
         "matches": "y3",
         "showticklabels": false,
         "tick0": 0,
         "tickcolor": "blue",
         "ticklen": 10,
         "ticks": "outside",
         "tickwidth": 2,
         "title": {
          "font": {
           "size": 16
          },
          "standoff": 5,
          "text": "Avg Class Mean F1"
         }
        }
       }
      }
     },
     "metadata": {},
     "output_type": "display_data"
    }
   ],
   "source": [
    "summary_file = 'fmnist_r10_results.json'\n",
    "res_fig_name = summary_file[:-5]\n",
    "result_data = get_data(json_folder + summary_file)\n",
    "fig = gen_acc_f1_plot_std(\"FMNIST CosDefence result for 10:1 ratio in client data distribution\", result_data, res_fig_name, save_html=False)\n",
    "fig.show()"
   ]
  },
  {
   "cell_type": "code",
   "execution_count": 4,
   "id": "9546fa21",
   "metadata": {},
   "outputs": [
    {
     "data": {
      "application/vnd.plotly.v1+json": {
       "config": {
        "plotlyServerURL": "https://plot.ly"
       },
       "data": [
        {
         "fill": "toself",
         "fillcolor": "rgba(255, 0, 0, 0.5)",
         "line": {
          "color": "rgba(255,255,255,0)"
         },
         "showlegend": false,
         "type": "scatter",
         "x": [
          0,
          10,
          20,
          30,
          40,
          50,
          60,
          60,
          50,
          40,
          30,
          20,
          10,
          0
         ],
         "xaxis": "x",
         "y": [
          47.9172869276143,
          43.04576169813361,
          40.38059154078362,
          33.09012485957638,
          27.992814854685626,
          21.236382098386937,
          9.487180125398368,
          7.010466933425161,
          16.529735548671884,
          23.5333027923732,
          30.662581022776564,
          34.53940845921637,
          38.75235594892522,
          43.10671307238569
         ],
         "yaxis": "y"
        },
        {
         "line": {
          "color": "red"
         },
         "mode": "lines+markers",
         "name": "off",
         "type": "scatter",
         "x": [
          0,
          10,
          20,
          30,
          40,
          50,
          60
         ],
         "xaxis": "x",
         "y": [
          45.51199999999999,
          40.899058823529415,
          37.459999999999994,
          31.87635294117647,
          25.763058823529413,
          18.88305882352941,
          8.248823529411764
         ],
         "yaxis": "y"
        },
        {
         "fill": "toself",
         "fillcolor": "rgba(0, 255, 0, 0.5)",
         "line": {
          "color": "rgba(255,255,255,0)"
         },
         "showlegend": false,
         "type": "scatter",
         "x": [
          0,
          10,
          20,
          30,
          40,
          50,
          60,
          60,
          50,
          40,
          30,
          20,
          10,
          0
         ],
         "xaxis": "x",
         "y": [
          48.07145225954349,
          45.12127113424402,
          42.48595360069531,
          40.492948274046306,
          32.0441022001165,
          25.065052237204945,
          6.156390540619537,
          5.347609459380465,
          20.97353599808917,
          25.37142721164822,
          35.20822819654193,
          38.38439934048115,
          38.92696415987363,
          44.45866538751534
         ],
         "yaxis": "y"
        },
        {
         "line": {
          "color": "green"
         },
         "mode": "lines+markers",
         "name": "on",
         "type": "scatter",
         "x": [
          0,
          10,
          20,
          30,
          40,
          50,
          60
         ],
         "xaxis": "x",
         "y": [
          46.265058823529415,
          42.02411764705882,
          40.43517647058823,
          37.85058823529412,
          28.707764705882358,
          23.019294117647057,
          5.752000000000001
         ],
         "yaxis": "y"
        },
        {
         "fill": "toself",
         "fillcolor": "rgba(255, 0, 0, 0.5)",
         "line": {
          "color": "rgba(255,255,255,0)"
         },
         "showlegend": false,
         "type": "scatter",
         "x": [
          0,
          10,
          20,
          30,
          40,
          50,
          60,
          60,
          50,
          40,
          30,
          20,
          10,
          0
         ],
         "xaxis": "x2",
         "y": [
          62.71763028228014,
          61.541023665859655,
          62.27534002286828,
          60.87629486724465,
          60.718370336207705,
          60.11358304264926,
          57.56422706982959,
          56.14179645958216,
          57.610793427938965,
          58.74887672261581,
          58.25398748569653,
          58.46480115360231,
          57.43283515766976,
          58.22858148242575
         ],
         "yaxis": "y2"
        },
        {
         "line": {
          "color": "red"
         },
         "mode": "lines+markers",
         "showlegend": false,
         "type": "scatter",
         "x": [
          0,
          10,
          20,
          30,
          40,
          50,
          60
         ],
         "xaxis": "x2",
         "y": [
          60.47310588235295,
          59.486929411764706,
          60.37007058823529,
          59.56514117647059,
          59.73362352941176,
          58.86218823529411,
          56.853011764705876
         ],
         "yaxis": "y2"
        },
        {
         "fill": "toself",
         "fillcolor": "rgba(0, 255, 0, 0.5)",
         "line": {
          "color": "rgba(255,255,255,0)"
         },
         "showlegend": false,
         "type": "scatter",
         "x": [
          0,
          10,
          20,
          30,
          40,
          50,
          60,
          60,
          50,
          40,
          30,
          20,
          10,
          0
         ],
         "xaxis": "x2",
         "y": [
          63.00423199853643,
          61.32711918521976,
          61.851409691801116,
          61.6348842338933,
          60.70660876066709,
          59.21285136098271,
          56.85668727945967,
          55.304936249952085,
          57.39552510960553,
          58.49809712168585,
          59.54163341316551,
          59.84249619055182,
          58.15998669713319,
          58.84713270734593
         ],
         "yaxis": "y2"
        },
        {
         "line": {
          "color": "green"
         },
         "mode": "lines+markers",
         "showlegend": false,
         "type": "scatter",
         "x": [
          0,
          10,
          20,
          30,
          40,
          50,
          60
         ],
         "xaxis": "x2",
         "y": [
          60.92568235294118,
          59.743552941176475,
          60.84695294117647,
          60.58825882352941,
          59.60235294117647,
          58.30418823529412,
          56.08081176470588
         ],
         "yaxis": "y2"
        },
        {
         "fill": "toself",
         "fillcolor": "rgba(255, 0, 0, 0.5)",
         "line": {
          "color": "rgba(255,255,255,0)"
         },
         "showlegend": false,
         "type": "scatter",
         "x": [
          0,
          10,
          20,
          30,
          40,
          50,
          60,
          60,
          50,
          40,
          30,
          20,
          10,
          0
         ],
         "xaxis": "x3",
         "y": [
          50.99449034445715,
          47.57292067979305,
          47.048158480856515,
          41.06564374827269,
          37.14522307322925,
          30.121261312916754,
          15.288679900404144,
          11.5319719210929,
          24.52995839227378,
          32.66080804900023,
          39.10646061313129,
          41.29064924570788,
          43.448390058472036,
          45.6468422196114
         ],
         "yaxis": "y3"
        },
        {
         "line": {
          "color": "red"
         },
         "marker": {
          "symbol": "square"
         },
         "mode": "lines+markers",
         "name": "off",
         "type": "scatter",
         "x": [
          0,
          10,
          20,
          30,
          40,
          50,
          60
         ],
         "xaxis": "x3",
         "y": [
          48.320666282034274,
          45.51065536913254,
          44.1694038632822,
          40.08605218070199,
          34.90301556111474,
          27.325609852595267,
          13.410325910748522
         ],
         "yaxis": "y3"
        },
        {
         "fill": "toself",
         "fillcolor": "rgba(0, 255, 0, 0.5)",
         "line": {
          "color": "rgba(255,255,255,0)"
         },
         "showlegend": false,
         "type": "scatter",
         "x": [
          0,
          10,
          20,
          30,
          40,
          50,
          60,
          60,
          50,
          40,
          30,
          20,
          10,
          0
         ],
         "xaxis": "x3",
         "y": [
          51.34019015922014,
          48.48454924510431,
          47.109511755400966,
          45.26190843442089,
          40.7308652543297,
          33.078535049148456,
          10.400705454361233,
          9.056212210658256,
          29.541342186851047,
          34.16521333749904,
          43.16455192522223,
          44.89116383987312,
          43.73004411626676,
          47.27969180411843
         ],
         "yaxis": "y3"
        },
        {
         "line": {
          "color": "green"
         },
         "marker": {
          "symbol": "square"
         },
         "mode": "lines+markers",
         "name": "on",
         "type": "scatter",
         "x": [
          0,
          10,
          20,
          30,
          40,
          50,
          60
         ],
         "xaxis": "x3",
         "y": [
          49.309940981669286,
          46.107296680685536,
          46.000337797637044,
          44.21323017982156,
          37.44803929591437,
          31.30993861799975,
          9.728458832509745
         ],
         "yaxis": "y3"
        },
        {
         "fill": "toself",
         "fillcolor": "rgba(255, 0, 0, 0.5)",
         "line": {
          "color": "rgba(255,255,255,0)"
         },
         "showlegend": false,
         "type": "scatter",
         "x": [
          0,
          10,
          20,
          30,
          40,
          50,
          60,
          60,
          50,
          40,
          30,
          20,
          10,
          0
         ],
         "xaxis": "x4",
         "y": [
          62.48030555133945,
          61.22960861833551,
          61.881527952375045,
          60.186734371469115,
          59.95162919265695,
          59.054397131058465,
          55.84223037865246,
          54.38497130780355,
          56.396931326936524,
          57.84249276656901,
          57.70952145779394,
          58.01012731139995,
          57.09129676986297,
          57.94600280931571
         ],
         "yaxis": "y4"
        },
        {
         "line": {
          "color": "red"
         },
         "marker": {
          "symbol": "square"
         },
         "mode": "lines+markers",
         "showlegend": false,
         "type": "scatter",
         "x": [
          0,
          10,
          20,
          30,
          40,
          50,
          60
         ],
         "xaxis": "x4",
         "y": [
          60.21315418032758,
          59.16045269409924,
          59.9458276318875,
          58.94812791463153,
          58.89706097961298,
          57.725664228997495,
          55.11360084322801
         ],
         "yaxis": "y4"
        },
        {
         "fill": "toself",
         "fillcolor": "rgba(0, 255, 0, 0.5)",
         "line": {
          "color": "rgba(255,255,255,0)"
         },
         "showlegend": false,
         "type": "scatter",
         "x": [
          0,
          10,
          20,
          30,
          40,
          50,
          60,
          60,
          50,
          40,
          30,
          20,
          10,
          0
         ],
         "xaxis": "x4",
         "y": [
          62.76414650320698,
          61.129618181103,
          61.48544629653029,
          61.184005618176194,
          60.06921476527127,
          58.308744673600366,
          54.90167267027599,
          53.44213481848484,
          56.39527719431596,
          57.73855996725709,
          59.15672901803948,
          59.54846544445672,
          57.81111084587269,
          58.58056080375788
         ],
         "yaxis": "y4"
        },
        {
         "line": {
          "color": "green"
         },
         "marker": {
          "symbol": "square"
         },
         "mode": "lines+markers",
         "showlegend": false,
         "type": "scatter",
         "x": [
          0,
          10,
          20,
          30,
          40,
          50,
          60
         ],
         "xaxis": "x4",
         "y": [
          60.67235365348243,
          59.470364513487844,
          60.516955870493504,
          60.170367318107836,
          58.90388736626418,
          57.35201093395816,
          54.171903744380415
         ],
         "yaxis": "y4"
        }
       ],
       "layout": {
        "height": 800,
        "legend": {
         "borderwidth": 2,
         "font": {
          "size": 12
         },
         "orientation": "h",
         "title": {
          "text": "CosDefence"
         },
         "x": 1,
         "xanchor": "right",
         "y": 1.02,
         "yanchor": "bottom"
        },
        "template": {
         "data": {
          "bar": [
           {
            "error_x": {
             "color": "#2a3f5f"
            },
            "error_y": {
             "color": "#2a3f5f"
            },
            "marker": {
             "line": {
              "color": "#E5ECF6",
              "width": 0.5
             }
            },
            "type": "bar"
           }
          ],
          "barpolar": [
           {
            "marker": {
             "line": {
              "color": "#E5ECF6",
              "width": 0.5
             }
            },
            "type": "barpolar"
           }
          ],
          "carpet": [
           {
            "aaxis": {
             "endlinecolor": "#2a3f5f",
             "gridcolor": "white",
             "linecolor": "white",
             "minorgridcolor": "white",
             "startlinecolor": "#2a3f5f"
            },
            "baxis": {
             "endlinecolor": "#2a3f5f",
             "gridcolor": "white",
             "linecolor": "white",
             "minorgridcolor": "white",
             "startlinecolor": "#2a3f5f"
            },
            "type": "carpet"
           }
          ],
          "choropleth": [
           {
            "colorbar": {
             "outlinewidth": 0,
             "ticks": ""
            },
            "type": "choropleth"
           }
          ],
          "contour": [
           {
            "colorbar": {
             "outlinewidth": 0,
             "ticks": ""
            },
            "colorscale": [
             [
              0,
              "#0d0887"
             ],
             [
              0.1111111111111111,
              "#46039f"
             ],
             [
              0.2222222222222222,
              "#7201a8"
             ],
             [
              0.3333333333333333,
              "#9c179e"
             ],
             [
              0.4444444444444444,
              "#bd3786"
             ],
             [
              0.5555555555555556,
              "#d8576b"
             ],
             [
              0.6666666666666666,
              "#ed7953"
             ],
             [
              0.7777777777777778,
              "#fb9f3a"
             ],
             [
              0.8888888888888888,
              "#fdca26"
             ],
             [
              1,
              "#f0f921"
             ]
            ],
            "type": "contour"
           }
          ],
          "contourcarpet": [
           {
            "colorbar": {
             "outlinewidth": 0,
             "ticks": ""
            },
            "type": "contourcarpet"
           }
          ],
          "heatmap": [
           {
            "colorbar": {
             "outlinewidth": 0,
             "ticks": ""
            },
            "colorscale": [
             [
              0,
              "#0d0887"
             ],
             [
              0.1111111111111111,
              "#46039f"
             ],
             [
              0.2222222222222222,
              "#7201a8"
             ],
             [
              0.3333333333333333,
              "#9c179e"
             ],
             [
              0.4444444444444444,
              "#bd3786"
             ],
             [
              0.5555555555555556,
              "#d8576b"
             ],
             [
              0.6666666666666666,
              "#ed7953"
             ],
             [
              0.7777777777777778,
              "#fb9f3a"
             ],
             [
              0.8888888888888888,
              "#fdca26"
             ],
             [
              1,
              "#f0f921"
             ]
            ],
            "type": "heatmap"
           }
          ],
          "heatmapgl": [
           {
            "colorbar": {
             "outlinewidth": 0,
             "ticks": ""
            },
            "colorscale": [
             [
              0,
              "#0d0887"
             ],
             [
              0.1111111111111111,
              "#46039f"
             ],
             [
              0.2222222222222222,
              "#7201a8"
             ],
             [
              0.3333333333333333,
              "#9c179e"
             ],
             [
              0.4444444444444444,
              "#bd3786"
             ],
             [
              0.5555555555555556,
              "#d8576b"
             ],
             [
              0.6666666666666666,
              "#ed7953"
             ],
             [
              0.7777777777777778,
              "#fb9f3a"
             ],
             [
              0.8888888888888888,
              "#fdca26"
             ],
             [
              1,
              "#f0f921"
             ]
            ],
            "type": "heatmapgl"
           }
          ],
          "histogram": [
           {
            "marker": {
             "colorbar": {
              "outlinewidth": 0,
              "ticks": ""
             }
            },
            "type": "histogram"
           }
          ],
          "histogram2d": [
           {
            "colorbar": {
             "outlinewidth": 0,
             "ticks": ""
            },
            "colorscale": [
             [
              0,
              "#0d0887"
             ],
             [
              0.1111111111111111,
              "#46039f"
             ],
             [
              0.2222222222222222,
              "#7201a8"
             ],
             [
              0.3333333333333333,
              "#9c179e"
             ],
             [
              0.4444444444444444,
              "#bd3786"
             ],
             [
              0.5555555555555556,
              "#d8576b"
             ],
             [
              0.6666666666666666,
              "#ed7953"
             ],
             [
              0.7777777777777778,
              "#fb9f3a"
             ],
             [
              0.8888888888888888,
              "#fdca26"
             ],
             [
              1,
              "#f0f921"
             ]
            ],
            "type": "histogram2d"
           }
          ],
          "histogram2dcontour": [
           {
            "colorbar": {
             "outlinewidth": 0,
             "ticks": ""
            },
            "colorscale": [
             [
              0,
              "#0d0887"
             ],
             [
              0.1111111111111111,
              "#46039f"
             ],
             [
              0.2222222222222222,
              "#7201a8"
             ],
             [
              0.3333333333333333,
              "#9c179e"
             ],
             [
              0.4444444444444444,
              "#bd3786"
             ],
             [
              0.5555555555555556,
              "#d8576b"
             ],
             [
              0.6666666666666666,
              "#ed7953"
             ],
             [
              0.7777777777777778,
              "#fb9f3a"
             ],
             [
              0.8888888888888888,
              "#fdca26"
             ],
             [
              1,
              "#f0f921"
             ]
            ],
            "type": "histogram2dcontour"
           }
          ],
          "mesh3d": [
           {
            "colorbar": {
             "outlinewidth": 0,
             "ticks": ""
            },
            "type": "mesh3d"
           }
          ],
          "parcoords": [
           {
            "line": {
             "colorbar": {
              "outlinewidth": 0,
              "ticks": ""
             }
            },
            "type": "parcoords"
           }
          ],
          "pie": [
           {
            "automargin": true,
            "type": "pie"
           }
          ],
          "scatter": [
           {
            "marker": {
             "colorbar": {
              "outlinewidth": 0,
              "ticks": ""
             }
            },
            "type": "scatter"
           }
          ],
          "scatter3d": [
           {
            "line": {
             "colorbar": {
              "outlinewidth": 0,
              "ticks": ""
             }
            },
            "marker": {
             "colorbar": {
              "outlinewidth": 0,
              "ticks": ""
             }
            },
            "type": "scatter3d"
           }
          ],
          "scattercarpet": [
           {
            "marker": {
             "colorbar": {
              "outlinewidth": 0,
              "ticks": ""
             }
            },
            "type": "scattercarpet"
           }
          ],
          "scattergeo": [
           {
            "marker": {
             "colorbar": {
              "outlinewidth": 0,
              "ticks": ""
             }
            },
            "type": "scattergeo"
           }
          ],
          "scattergl": [
           {
            "marker": {
             "colorbar": {
              "outlinewidth": 0,
              "ticks": ""
             }
            },
            "type": "scattergl"
           }
          ],
          "scattermapbox": [
           {
            "marker": {
             "colorbar": {
              "outlinewidth": 0,
              "ticks": ""
             }
            },
            "type": "scattermapbox"
           }
          ],
          "scatterpolar": [
           {
            "marker": {
             "colorbar": {
              "outlinewidth": 0,
              "ticks": ""
             }
            },
            "type": "scatterpolar"
           }
          ],
          "scatterpolargl": [
           {
            "marker": {
             "colorbar": {
              "outlinewidth": 0,
              "ticks": ""
             }
            },
            "type": "scatterpolargl"
           }
          ],
          "scatterternary": [
           {
            "marker": {
             "colorbar": {
              "outlinewidth": 0,
              "ticks": ""
             }
            },
            "type": "scatterternary"
           }
          ],
          "surface": [
           {
            "colorbar": {
             "outlinewidth": 0,
             "ticks": ""
            },
            "colorscale": [
             [
              0,
              "#0d0887"
             ],
             [
              0.1111111111111111,
              "#46039f"
             ],
             [
              0.2222222222222222,
              "#7201a8"
             ],
             [
              0.3333333333333333,
              "#9c179e"
             ],
             [
              0.4444444444444444,
              "#bd3786"
             ],
             [
              0.5555555555555556,
              "#d8576b"
             ],
             [
              0.6666666666666666,
              "#ed7953"
             ],
             [
              0.7777777777777778,
              "#fb9f3a"
             ],
             [
              0.8888888888888888,
              "#fdca26"
             ],
             [
              1,
              "#f0f921"
             ]
            ],
            "type": "surface"
           }
          ],
          "table": [
           {
            "cells": {
             "fill": {
              "color": "#EBF0F8"
             },
             "line": {
              "color": "white"
             }
            },
            "header": {
             "fill": {
              "color": "#C8D4E3"
             },
             "line": {
              "color": "white"
             }
            },
            "type": "table"
           }
          ]
         },
         "layout": {
          "annotationdefaults": {
           "arrowcolor": "#2a3f5f",
           "arrowhead": 0,
           "arrowwidth": 1
          },
          "autotypenumbers": "strict",
          "coloraxis": {
           "colorbar": {
            "outlinewidth": 0,
            "ticks": ""
           }
          },
          "colorscale": {
           "diverging": [
            [
             0,
             "#8e0152"
            ],
            [
             0.1,
             "#c51b7d"
            ],
            [
             0.2,
             "#de77ae"
            ],
            [
             0.3,
             "#f1b6da"
            ],
            [
             0.4,
             "#fde0ef"
            ],
            [
             0.5,
             "#f7f7f7"
            ],
            [
             0.6,
             "#e6f5d0"
            ],
            [
             0.7,
             "#b8e186"
            ],
            [
             0.8,
             "#7fbc41"
            ],
            [
             0.9,
             "#4d9221"
            ],
            [
             1,
             "#276419"
            ]
           ],
           "sequential": [
            [
             0,
             "#0d0887"
            ],
            [
             0.1111111111111111,
             "#46039f"
            ],
            [
             0.2222222222222222,
             "#7201a8"
            ],
            [
             0.3333333333333333,
             "#9c179e"
            ],
            [
             0.4444444444444444,
             "#bd3786"
            ],
            [
             0.5555555555555556,
             "#d8576b"
            ],
            [
             0.6666666666666666,
             "#ed7953"
            ],
            [
             0.7777777777777778,
             "#fb9f3a"
            ],
            [
             0.8888888888888888,
             "#fdca26"
            ],
            [
             1,
             "#f0f921"
            ]
           ],
           "sequentialminus": [
            [
             0,
             "#0d0887"
            ],
            [
             0.1111111111111111,
             "#46039f"
            ],
            [
             0.2222222222222222,
             "#7201a8"
            ],
            [
             0.3333333333333333,
             "#9c179e"
            ],
            [
             0.4444444444444444,
             "#bd3786"
            ],
            [
             0.5555555555555556,
             "#d8576b"
            ],
            [
             0.6666666666666666,
             "#ed7953"
            ],
            [
             0.7777777777777778,
             "#fb9f3a"
            ],
            [
             0.8888888888888888,
             "#fdca26"
            ],
            [
             1,
             "#f0f921"
            ]
           ]
          },
          "colorway": [
           "#636efa",
           "#EF553B",
           "#00cc96",
           "#ab63fa",
           "#FFA15A",
           "#19d3f3",
           "#FF6692",
           "#B6E880",
           "#FF97FF",
           "#FECB52"
          ],
          "font": {
           "color": "#2a3f5f"
          },
          "geo": {
           "bgcolor": "white",
           "lakecolor": "white",
           "landcolor": "#E5ECF6",
           "showlakes": true,
           "showland": true,
           "subunitcolor": "white"
          },
          "hoverlabel": {
           "align": "left"
          },
          "hovermode": "closest",
          "mapbox": {
           "style": "light"
          },
          "paper_bgcolor": "white",
          "plot_bgcolor": "#E5ECF6",
          "polar": {
           "angularaxis": {
            "gridcolor": "white",
            "linecolor": "white",
            "ticks": ""
           },
           "bgcolor": "#E5ECF6",
           "radialaxis": {
            "gridcolor": "white",
            "linecolor": "white",
            "ticks": ""
           }
          },
          "scene": {
           "xaxis": {
            "backgroundcolor": "#E5ECF6",
            "gridcolor": "white",
            "gridwidth": 2,
            "linecolor": "white",
            "showbackground": true,
            "ticks": "",
            "zerolinecolor": "white"
           },
           "yaxis": {
            "backgroundcolor": "#E5ECF6",
            "gridcolor": "white",
            "gridwidth": 2,
            "linecolor": "white",
            "showbackground": true,
            "ticks": "",
            "zerolinecolor": "white"
           },
           "zaxis": {
            "backgroundcolor": "#E5ECF6",
            "gridcolor": "white",
            "gridwidth": 2,
            "linecolor": "white",
            "showbackground": true,
            "ticks": "",
            "zerolinecolor": "white"
           }
          },
          "shapedefaults": {
           "line": {
            "color": "#2a3f5f"
           }
          },
          "ternary": {
           "aaxis": {
            "gridcolor": "white",
            "linecolor": "white",
            "ticks": ""
           },
           "baxis": {
            "gridcolor": "white",
            "linecolor": "white",
            "ticks": ""
           },
           "bgcolor": "#E5ECF6",
           "caxis": {
            "gridcolor": "white",
            "linecolor": "white",
            "ticks": ""
           }
          },
          "title": {
           "x": 0.05
          },
          "xaxis": {
           "automargin": true,
           "gridcolor": "white",
           "linecolor": "white",
           "ticks": "",
           "title": {
            "standoff": 15
           },
           "zerolinecolor": "white",
           "zerolinewidth": 2
          },
          "yaxis": {
           "automargin": true,
           "gridcolor": "white",
           "linecolor": "white",
           "ticks": "",
           "title": {
            "standoff": 15
           },
           "zerolinecolor": "white",
           "zerolinewidth": 2
          }
         }
        },
        "title": {
         "text": "CIFAR10 CosDefence result for 10:1 ratio in client data distribution"
        },
        "width": 1200,
        "xaxis": {
         "anchor": "y",
         "domain": [
          0,
          0.46499999999999997
         ],
         "dtick": 10,
         "matches": "x3",
         "showticklabels": false,
         "tick0": 0,
         "tickcolor": "blue",
         "ticklen": 10,
         "ticks": "outside",
         "tickwidth": 2,
         "title": {
          "font": {
           "size": 16
          },
          "standoff": 7,
          "text": "Poisoned Clients in FL Env"
         }
        },
        "xaxis2": {
         "anchor": "y2",
         "domain": [
          0.5349999999999999,
          0.9999999999999999
         ],
         "dtick": 10,
         "matches": "x4",
         "showticklabels": false,
         "tick0": 0,
         "tickcolor": "blue",
         "ticklen": 10,
         "ticks": "outside",
         "tickwidth": 2,
         "title": {
          "font": {
           "size": 16
          },
          "standoff": 7,
          "text": "Poisoned Clients in FL Env"
         }
        },
        "xaxis3": {
         "anchor": "y3",
         "domain": [
          0,
          0.46499999999999997
         ],
         "dtick": 10,
         "tick0": 0,
         "tickcolor": "blue",
         "ticklen": 10,
         "ticks": "outside",
         "tickwidth": 2,
         "title": {
          "font": {
           "size": 16
          },
          "standoff": 7,
          "text": "Poisoned Clients in FL Env"
         }
        },
        "xaxis4": {
         "anchor": "y4",
         "domain": [
          0.5349999999999999,
          0.9999999999999999
         ],
         "dtick": 10,
         "tick0": 0,
         "tickcolor": "blue",
         "ticklen": 10,
         "ticks": "outside",
         "tickwidth": 2,
         "title": {
          "font": {
           "size": 16
          },
          "standoff": 7,
          "text": "Poisoned Clients in FL Env"
         }
        },
        "yaxis": {
         "anchor": "x",
         "domain": [
          0.55,
          1
         ],
         "dtick": 20,
         "tick0": 0,
         "tickcolor": "blue",
         "ticklen": 10,
         "ticks": "outside",
         "tickwidth": 2,
         "title": {
          "font": {
           "size": 16
          },
          "standoff": 5,
          "text": "Poisoned Class Mean Acc"
         }
        },
        "yaxis2": {
         "anchor": "x2",
         "domain": [
          0.55,
          1
         ],
         "dtick": 20,
         "matches": "y",
         "showticklabels": false,
         "tick0": 0,
         "tickcolor": "blue",
         "ticklen": 10,
         "ticks": "outside",
         "tickwidth": 2,
         "title": {
          "font": {
           "size": 16
          },
          "standoff": 5,
          "text": "Avg Class Mean Acc"
         }
        },
        "yaxis3": {
         "anchor": "x3",
         "domain": [
          0,
          0.45
         ],
         "dtick": 20,
         "tick0": 0,
         "tickcolor": "blue",
         "ticklen": 10,
         "ticks": "outside",
         "tickwidth": 2,
         "title": {
          "font": {
           "size": 16
          },
          "standoff": 5,
          "text": "Poisoned Class Mean F1"
         }
        },
        "yaxis4": {
         "anchor": "x4",
         "domain": [
          0,
          0.45
         ],
         "dtick": 20,
         "matches": "y3",
         "showticklabels": false,
         "tick0": 0,
         "tickcolor": "blue",
         "ticklen": 10,
         "ticks": "outside",
         "tickwidth": 2,
         "title": {
          "font": {
           "size": 16
          },
          "standoff": 5,
          "text": "Avg Class Mean F1"
         }
        }
       }
      }
     },
     "metadata": {},
     "output_type": "display_data"
    }
   ],
   "source": [
    "summary_file = 'cifar10_r10_results.json'\n",
    "res_fig_name = summary_file[:-5]\n",
    "result_data = get_data(json_folder + summary_file)\n",
    "fig = gen_acc_f1_plot_std(\"CIFAR10 CosDefence result for 10:1 ratio in client data distribution\", result_data, res_fig_name, save_html=False)\n",
    "fig.show()"
   ]
  },
  {
   "cell_type": "markdown",
   "id": "3e7f02b7",
   "metadata": {},
   "source": [
    "## Ratio 4:1 results"
   ]
  },
  {
   "cell_type": "code",
   "execution_count": 32,
   "id": "ccfd4cc6",
   "metadata": {},
   "outputs": [
    {
     "data": {
      "application/vnd.plotly.v1+json": {
       "config": {
        "plotlyServerURL": "https://plot.ly"
       },
       "data": [
        {
         "fill": "toself",
         "fillcolor": "rgba(255, 0, 0, 0.5)",
         "line": {
          "color": "rgba(255,255,255,0)"
         },
         "showlegend": false,
         "type": "scatter",
         "x": [
          0,
          10,
          20,
          30,
          40,
          50,
          60,
          60,
          50,
          40,
          30,
          20,
          10,
          0
         ],
         "xaxis": "x",
         "y": [
          95.05774401283963,
          87.69868472311032,
          81.38166215201507,
          77.75310877371989,
          57.74732379625284,
          44.1271569731168,
          23.41081080384709,
          5.666708575997873,
          34.01237791060413,
          49.02787000219678,
          72.09960440457466,
          78.58345412705471,
          86.4486020985951,
          94.8492327313464
         ],
         "yaxis": "y"
        },
        {
         "line": {
          "color": "red"
         },
         "mode": "lines+markers",
         "name": "off",
         "type": "scatter",
         "x": [
          0,
          10,
          20,
          30,
          40,
          50,
          60
         ],
         "xaxis": "x",
         "y": [
          94.95348837209302,
          87.07364341085271,
          79.98255813953489,
          74.92635658914728,
          53.38759689922481,
          39.06976744186046,
          14.538759689922482
         ],
         "yaxis": "y"
        },
        {
         "fill": "toself",
         "fillcolor": "rgba(0, 255, 0, 0.5)",
         "line": {
          "color": "rgba(255,255,255,0)"
         },
         "showlegend": false,
         "type": "scatter",
         "x": [
          0,
          10,
          20,
          30,
          40,
          50,
          60,
          60,
          50,
          40,
          30,
          20,
          10,
          0
         ],
         "xaxis": "x",
         "y": [
          95.16894456361118,
          93.20982130951352,
          91.87357220768246,
          93.98220386171049,
          88.57344921051805,
          78.96393521769843,
          10.271294135656678,
          1.0775430736456473,
          44.601956255169796,
          73.5273259832804,
          79.49066435534375,
          90.93262934270513,
          92.07312442692059,
          94.58299342088495
         ],
         "yaxis": "y"
        },
        {
         "line": {
          "color": "green"
         },
         "mode": "lines+markers",
         "name": "on",
         "type": "scatter",
         "x": [
          0,
          10,
          20,
          30,
          40,
          50,
          60
         ],
         "xaxis": "x",
         "y": [
          94.87596899224806,
          92.64147286821705,
          91.40310077519379,
          86.73643410852712,
          81.05038759689923,
          61.782945736434115,
          5.674418604651163
         ],
         "yaxis": "y"
        },
        {
         "fill": "toself",
         "fillcolor": "rgba(255, 0, 0, 0.5)",
         "line": {
          "color": "rgba(255,255,255,0)"
         },
         "showlegend": false,
         "type": "scatter",
         "x": [
          0,
          10,
          20,
          30,
          40,
          50,
          60,
          60,
          50,
          40,
          30,
          20,
          10,
          0
         ],
         "xaxis": "x2",
         "y": [
          95.64734266614406,
          94.91718428424413,
          94.27028739938764,
          94.01428653242907,
          91.90295447662497,
          90.36086431518743,
          88.32856663715961,
          86.48343336284037,
          89.43473568481258,
          90.71064552337502,
          93.28291346757094,
          93.94571260061237,
          94.74921571575585,
          95.48065733385596
         ],
         "yaxis": "y2"
        },
        {
         "line": {
          "color": "red"
         },
         "mode": "lines+markers",
         "showlegend": false,
         "type": "scatter",
         "x": [
          0,
          10,
          20,
          30,
          40,
          50,
          60
         ],
         "xaxis": "x2",
         "y": [
          95.56400000000001,
          94.83319999999999,
          94.108,
          93.6486,
          91.3068,
          89.8978,
          87.40599999999999
         ],
         "yaxis": "y2"
        },
        {
         "fill": "toself",
         "fillcolor": "rgba(0, 255, 0, 0.5)",
         "line": {
          "color": "rgba(255,255,255,0)"
         },
         "showlegend": false,
         "type": "scatter",
         "x": [
          0,
          10,
          20,
          30,
          40,
          50,
          60,
          60,
          50,
          40,
          30,
          20,
          10,
          0
         ],
         "xaxis": "x2",
         "y": [
          95.60198067916694,
          95.48146350837206,
          95.35970851119382,
          95.50249844811349,
          94.99914577896718,
          93.92438593362483,
          86.97617431673467,
          85.89222568326534,
          90.48641406637519,
          93.1364542210328,
          94.00110155188652,
          95.10709148880616,
          95.22253649162795,
          95.46121932083305
         ],
         "yaxis": "y2"
        },
        {
         "line": {
          "color": "green"
         },
         "mode": "lines+markers",
         "showlegend": false,
         "type": "scatter",
         "x": [
          0,
          10,
          20,
          30,
          40,
          50,
          60
         ],
         "xaxis": "x2",
         "y": [
          95.5316,
          95.352,
          95.23339999999999,
          94.7518,
          94.06779999999999,
          92.20540000000001,
          86.4342
         ],
         "yaxis": "y2"
        },
        {
         "fill": "toself",
         "fillcolor": "rgba(255, 0, 0, 0.5)",
         "line": {
          "color": "rgba(255,255,255,0)"
         },
         "showlegend": false,
         "type": "scatter",
         "x": [
          0,
          10,
          20,
          30,
          40,
          50,
          60,
          60,
          50,
          40,
          30,
          20,
          10,
          0
         ],
         "xaxis": "x3",
         "y": [
          95.74878621640673,
          92.3219448556586,
          88.6254638050402,
          86.76665742326473,
          67.30609311385604,
          50.840923971873224,
          29.04929988847939,
          9.61482873077489,
          39.29230322221346,
          54.33137936921869,
          80.47501704458595,
          86.42939449889352,
          91.84681261408743,
          95.60848466716371
         ],
         "yaxis": "y3"
        },
        {
         "line": {
          "color": "red"
         },
         "marker": {
          "symbol": "square"
         },
         "mode": "lines+markers",
         "name": "off",
         "type": "scatter",
         "x": [
          0,
          10,
          20,
          30,
          40,
          50,
          60
         ],
         "xaxis": "x3",
         "y": [
          95.67863544178522,
          92.08437873487301,
          87.52742915196686,
          83.62083723392534,
          60.818736241537366,
          45.06661359704334,
          19.33206430962714
         ],
         "yaxis": "y3"
        },
        {
         "fill": "toself",
         "fillcolor": "rgba(0, 255, 0, 0.5)",
         "line": {
          "color": "rgba(255,255,255,0)"
         },
         "showlegend": false,
         "type": "scatter",
         "x": [
          0,
          10,
          20,
          30,
          40,
          50,
          60,
          60,
          50,
          40,
          30,
          20,
          10,
          0
         ],
         "xaxis": "x3",
         "y": [
          95.71397914645216,
          95.15041439557372,
          94.65706202387375,
          96.92604640322679,
          93.57239969613809,
          84.42044565668836,
          11.885035485016171,
          1.3127633393195,
          49.43011546034363,
          78.41884482676016,
          82.50984278306206,
          94.17356197371532,
          94.66388915069892,
          95.52391770088163
         ],
         "yaxis": "y3"
        },
        {
         "line": {
          "color": "green"
         },
         "marker": {
          "symbol": "square"
         },
         "mode": "lines+markers",
         "name": "on",
         "type": "scatter",
         "x": [
          0,
          10,
          20,
          30,
          40,
          50,
          60
         ],
         "xaxis": "x3",
         "y": [
          95.6189484236669,
          94.90715177313632,
          94.41531199879454,
          89.71794459314442,
          85.99562226144913,
          66.925280558516,
          6.598899412167836
         ],
         "yaxis": "y3"
        },
        {
         "fill": "toself",
         "fillcolor": "rgba(255, 0, 0, 0.5)",
         "line": {
          "color": "rgba(255,255,255,0)"
         },
         "showlegend": false,
         "type": "scatter",
         "x": [
          0,
          10,
          20,
          30,
          40,
          50,
          60,
          60,
          50,
          40,
          30,
          20,
          10,
          0
         ],
         "xaxis": "x4",
         "y": [
          95.64336049441233,
          94.869018726579,
          94.16659184889667,
          93.926978348972,
          91.17003158819777,
          88.9563515366633,
          86.12545600285374,
          83.59569455029167,
          87.5942086438368,
          89.36472571280127,
          92.95993186389845,
          93.8105464028931,
          94.71564871084358,
          95.47480735071595
         ],
         "yaxis": "y4"
        },
        {
         "line": {
          "color": "red"
         },
         "marker": {
          "symbol": "square"
         },
         "mode": "lines+markers",
         "showlegend": false,
         "type": "scatter",
         "x": [
          0,
          10,
          20,
          30,
          40,
          50,
          60
         ],
         "xaxis": "x4",
         "y": [
          95.55908392256414,
          94.79233371871129,
          93.98856912589488,
          93.44345510643522,
          90.26737865049952,
          88.27528009025005,
          84.8605752765727
         ],
         "yaxis": "y4"
        },
        {
         "fill": "toself",
         "fillcolor": "rgba(0, 255, 0, 0.5)",
         "line": {
          "color": "rgba(255,255,255,0)"
         },
         "showlegend": false,
         "type": "scatter",
         "x": [
          0,
          10,
          20,
          30,
          40,
          50,
          60,
          60,
          50,
          40,
          30,
          20,
          10,
          0
         ],
         "xaxis": "x4",
         "y": [
          95.5963363827087,
          95.47500095167499,
          95.35067672573808,
          95.60579127790757,
          95.01751576954777,
          93.6429700593998,
          84.07439049153045,
          82.59490208544229,
          88.99268580712584,
          92.64192367427984,
          93.57163102588041,
          95.09541356691395,
          95.21352397541895,
          95.45572444329744
         ],
         "yaxis": "y4"
        },
        {
         "line": {
          "color": "green"
         },
         "marker": {
          "symbol": "square"
         },
         "mode": "lines+markers",
         "showlegend": false,
         "type": "scatter",
         "x": [
          0,
          10,
          20,
          30,
          40,
          50,
          60
         ],
         "xaxis": "x4",
         "y": [
          95.52603041300307,
          95.34426246354697,
          95.22304514632602,
          94.58871115189399,
          93.8297197219138,
          91.31782793326282,
          83.33464628848637
         ],
         "yaxis": "y4"
        }
       ],
       "layout": {
        "height": 800,
        "legend": {
         "borderwidth": 2,
         "font": {
          "size": 12
         },
         "orientation": "h",
         "title": {
          "text": "CosDefence"
         },
         "x": 1,
         "xanchor": "right",
         "y": 1.02,
         "yanchor": "bottom"
        },
        "template": {
         "data": {
          "bar": [
           {
            "error_x": {
             "color": "#2a3f5f"
            },
            "error_y": {
             "color": "#2a3f5f"
            },
            "marker": {
             "line": {
              "color": "#E5ECF6",
              "width": 0.5
             }
            },
            "type": "bar"
           }
          ],
          "barpolar": [
           {
            "marker": {
             "line": {
              "color": "#E5ECF6",
              "width": 0.5
             }
            },
            "type": "barpolar"
           }
          ],
          "carpet": [
           {
            "aaxis": {
             "endlinecolor": "#2a3f5f",
             "gridcolor": "white",
             "linecolor": "white",
             "minorgridcolor": "white",
             "startlinecolor": "#2a3f5f"
            },
            "baxis": {
             "endlinecolor": "#2a3f5f",
             "gridcolor": "white",
             "linecolor": "white",
             "minorgridcolor": "white",
             "startlinecolor": "#2a3f5f"
            },
            "type": "carpet"
           }
          ],
          "choropleth": [
           {
            "colorbar": {
             "outlinewidth": 0,
             "ticks": ""
            },
            "type": "choropleth"
           }
          ],
          "contour": [
           {
            "colorbar": {
             "outlinewidth": 0,
             "ticks": ""
            },
            "colorscale": [
             [
              0,
              "#0d0887"
             ],
             [
              0.1111111111111111,
              "#46039f"
             ],
             [
              0.2222222222222222,
              "#7201a8"
             ],
             [
              0.3333333333333333,
              "#9c179e"
             ],
             [
              0.4444444444444444,
              "#bd3786"
             ],
             [
              0.5555555555555556,
              "#d8576b"
             ],
             [
              0.6666666666666666,
              "#ed7953"
             ],
             [
              0.7777777777777778,
              "#fb9f3a"
             ],
             [
              0.8888888888888888,
              "#fdca26"
             ],
             [
              1,
              "#f0f921"
             ]
            ],
            "type": "contour"
           }
          ],
          "contourcarpet": [
           {
            "colorbar": {
             "outlinewidth": 0,
             "ticks": ""
            },
            "type": "contourcarpet"
           }
          ],
          "heatmap": [
           {
            "colorbar": {
             "outlinewidth": 0,
             "ticks": ""
            },
            "colorscale": [
             [
              0,
              "#0d0887"
             ],
             [
              0.1111111111111111,
              "#46039f"
             ],
             [
              0.2222222222222222,
              "#7201a8"
             ],
             [
              0.3333333333333333,
              "#9c179e"
             ],
             [
              0.4444444444444444,
              "#bd3786"
             ],
             [
              0.5555555555555556,
              "#d8576b"
             ],
             [
              0.6666666666666666,
              "#ed7953"
             ],
             [
              0.7777777777777778,
              "#fb9f3a"
             ],
             [
              0.8888888888888888,
              "#fdca26"
             ],
             [
              1,
              "#f0f921"
             ]
            ],
            "type": "heatmap"
           }
          ],
          "heatmapgl": [
           {
            "colorbar": {
             "outlinewidth": 0,
             "ticks": ""
            },
            "colorscale": [
             [
              0,
              "#0d0887"
             ],
             [
              0.1111111111111111,
              "#46039f"
             ],
             [
              0.2222222222222222,
              "#7201a8"
             ],
             [
              0.3333333333333333,
              "#9c179e"
             ],
             [
              0.4444444444444444,
              "#bd3786"
             ],
             [
              0.5555555555555556,
              "#d8576b"
             ],
             [
              0.6666666666666666,
              "#ed7953"
             ],
             [
              0.7777777777777778,
              "#fb9f3a"
             ],
             [
              0.8888888888888888,
              "#fdca26"
             ],
             [
              1,
              "#f0f921"
             ]
            ],
            "type": "heatmapgl"
           }
          ],
          "histogram": [
           {
            "marker": {
             "colorbar": {
              "outlinewidth": 0,
              "ticks": ""
             }
            },
            "type": "histogram"
           }
          ],
          "histogram2d": [
           {
            "colorbar": {
             "outlinewidth": 0,
             "ticks": ""
            },
            "colorscale": [
             [
              0,
              "#0d0887"
             ],
             [
              0.1111111111111111,
              "#46039f"
             ],
             [
              0.2222222222222222,
              "#7201a8"
             ],
             [
              0.3333333333333333,
              "#9c179e"
             ],
             [
              0.4444444444444444,
              "#bd3786"
             ],
             [
              0.5555555555555556,
              "#d8576b"
             ],
             [
              0.6666666666666666,
              "#ed7953"
             ],
             [
              0.7777777777777778,
              "#fb9f3a"
             ],
             [
              0.8888888888888888,
              "#fdca26"
             ],
             [
              1,
              "#f0f921"
             ]
            ],
            "type": "histogram2d"
           }
          ],
          "histogram2dcontour": [
           {
            "colorbar": {
             "outlinewidth": 0,
             "ticks": ""
            },
            "colorscale": [
             [
              0,
              "#0d0887"
             ],
             [
              0.1111111111111111,
              "#46039f"
             ],
             [
              0.2222222222222222,
              "#7201a8"
             ],
             [
              0.3333333333333333,
              "#9c179e"
             ],
             [
              0.4444444444444444,
              "#bd3786"
             ],
             [
              0.5555555555555556,
              "#d8576b"
             ],
             [
              0.6666666666666666,
              "#ed7953"
             ],
             [
              0.7777777777777778,
              "#fb9f3a"
             ],
             [
              0.8888888888888888,
              "#fdca26"
             ],
             [
              1,
              "#f0f921"
             ]
            ],
            "type": "histogram2dcontour"
           }
          ],
          "mesh3d": [
           {
            "colorbar": {
             "outlinewidth": 0,
             "ticks": ""
            },
            "type": "mesh3d"
           }
          ],
          "parcoords": [
           {
            "line": {
             "colorbar": {
              "outlinewidth": 0,
              "ticks": ""
             }
            },
            "type": "parcoords"
           }
          ],
          "pie": [
           {
            "automargin": true,
            "type": "pie"
           }
          ],
          "scatter": [
           {
            "marker": {
             "colorbar": {
              "outlinewidth": 0,
              "ticks": ""
             }
            },
            "type": "scatter"
           }
          ],
          "scatter3d": [
           {
            "line": {
             "colorbar": {
              "outlinewidth": 0,
              "ticks": ""
             }
            },
            "marker": {
             "colorbar": {
              "outlinewidth": 0,
              "ticks": ""
             }
            },
            "type": "scatter3d"
           }
          ],
          "scattercarpet": [
           {
            "marker": {
             "colorbar": {
              "outlinewidth": 0,
              "ticks": ""
             }
            },
            "type": "scattercarpet"
           }
          ],
          "scattergeo": [
           {
            "marker": {
             "colorbar": {
              "outlinewidth": 0,
              "ticks": ""
             }
            },
            "type": "scattergeo"
           }
          ],
          "scattergl": [
           {
            "marker": {
             "colorbar": {
              "outlinewidth": 0,
              "ticks": ""
             }
            },
            "type": "scattergl"
           }
          ],
          "scattermapbox": [
           {
            "marker": {
             "colorbar": {
              "outlinewidth": 0,
              "ticks": ""
             }
            },
            "type": "scattermapbox"
           }
          ],
          "scatterpolar": [
           {
            "marker": {
             "colorbar": {
              "outlinewidth": 0,
              "ticks": ""
             }
            },
            "type": "scatterpolar"
           }
          ],
          "scatterpolargl": [
           {
            "marker": {
             "colorbar": {
              "outlinewidth": 0,
              "ticks": ""
             }
            },
            "type": "scatterpolargl"
           }
          ],
          "scatterternary": [
           {
            "marker": {
             "colorbar": {
              "outlinewidth": 0,
              "ticks": ""
             }
            },
            "type": "scatterternary"
           }
          ],
          "surface": [
           {
            "colorbar": {
             "outlinewidth": 0,
             "ticks": ""
            },
            "colorscale": [
             [
              0,
              "#0d0887"
             ],
             [
              0.1111111111111111,
              "#46039f"
             ],
             [
              0.2222222222222222,
              "#7201a8"
             ],
             [
              0.3333333333333333,
              "#9c179e"
             ],
             [
              0.4444444444444444,
              "#bd3786"
             ],
             [
              0.5555555555555556,
              "#d8576b"
             ],
             [
              0.6666666666666666,
              "#ed7953"
             ],
             [
              0.7777777777777778,
              "#fb9f3a"
             ],
             [
              0.8888888888888888,
              "#fdca26"
             ],
             [
              1,
              "#f0f921"
             ]
            ],
            "type": "surface"
           }
          ],
          "table": [
           {
            "cells": {
             "fill": {
              "color": "#EBF0F8"
             },
             "line": {
              "color": "white"
             }
            },
            "header": {
             "fill": {
              "color": "#C8D4E3"
             },
             "line": {
              "color": "white"
             }
            },
            "type": "table"
           }
          ]
         },
         "layout": {
          "annotationdefaults": {
           "arrowcolor": "#2a3f5f",
           "arrowhead": 0,
           "arrowwidth": 1
          },
          "autotypenumbers": "strict",
          "coloraxis": {
           "colorbar": {
            "outlinewidth": 0,
            "ticks": ""
           }
          },
          "colorscale": {
           "diverging": [
            [
             0,
             "#8e0152"
            ],
            [
             0.1,
             "#c51b7d"
            ],
            [
             0.2,
             "#de77ae"
            ],
            [
             0.3,
             "#f1b6da"
            ],
            [
             0.4,
             "#fde0ef"
            ],
            [
             0.5,
             "#f7f7f7"
            ],
            [
             0.6,
             "#e6f5d0"
            ],
            [
             0.7,
             "#b8e186"
            ],
            [
             0.8,
             "#7fbc41"
            ],
            [
             0.9,
             "#4d9221"
            ],
            [
             1,
             "#276419"
            ]
           ],
           "sequential": [
            [
             0,
             "#0d0887"
            ],
            [
             0.1111111111111111,
             "#46039f"
            ],
            [
             0.2222222222222222,
             "#7201a8"
            ],
            [
             0.3333333333333333,
             "#9c179e"
            ],
            [
             0.4444444444444444,
             "#bd3786"
            ],
            [
             0.5555555555555556,
             "#d8576b"
            ],
            [
             0.6666666666666666,
             "#ed7953"
            ],
            [
             0.7777777777777778,
             "#fb9f3a"
            ],
            [
             0.8888888888888888,
             "#fdca26"
            ],
            [
             1,
             "#f0f921"
            ]
           ],
           "sequentialminus": [
            [
             0,
             "#0d0887"
            ],
            [
             0.1111111111111111,
             "#46039f"
            ],
            [
             0.2222222222222222,
             "#7201a8"
            ],
            [
             0.3333333333333333,
             "#9c179e"
            ],
            [
             0.4444444444444444,
             "#bd3786"
            ],
            [
             0.5555555555555556,
             "#d8576b"
            ],
            [
             0.6666666666666666,
             "#ed7953"
            ],
            [
             0.7777777777777778,
             "#fb9f3a"
            ],
            [
             0.8888888888888888,
             "#fdca26"
            ],
            [
             1,
             "#f0f921"
            ]
           ]
          },
          "colorway": [
           "#636efa",
           "#EF553B",
           "#00cc96",
           "#ab63fa",
           "#FFA15A",
           "#19d3f3",
           "#FF6692",
           "#B6E880",
           "#FF97FF",
           "#FECB52"
          ],
          "font": {
           "color": "#2a3f5f"
          },
          "geo": {
           "bgcolor": "white",
           "lakecolor": "white",
           "landcolor": "#E5ECF6",
           "showlakes": true,
           "showland": true,
           "subunitcolor": "white"
          },
          "hoverlabel": {
           "align": "left"
          },
          "hovermode": "closest",
          "mapbox": {
           "style": "light"
          },
          "paper_bgcolor": "white",
          "plot_bgcolor": "#E5ECF6",
          "polar": {
           "angularaxis": {
            "gridcolor": "white",
            "linecolor": "white",
            "ticks": ""
           },
           "bgcolor": "#E5ECF6",
           "radialaxis": {
            "gridcolor": "white",
            "linecolor": "white",
            "ticks": ""
           }
          },
          "scene": {
           "xaxis": {
            "backgroundcolor": "#E5ECF6",
            "gridcolor": "white",
            "gridwidth": 2,
            "linecolor": "white",
            "showbackground": true,
            "ticks": "",
            "zerolinecolor": "white"
           },
           "yaxis": {
            "backgroundcolor": "#E5ECF6",
            "gridcolor": "white",
            "gridwidth": 2,
            "linecolor": "white",
            "showbackground": true,
            "ticks": "",
            "zerolinecolor": "white"
           },
           "zaxis": {
            "backgroundcolor": "#E5ECF6",
            "gridcolor": "white",
            "gridwidth": 2,
            "linecolor": "white",
            "showbackground": true,
            "ticks": "",
            "zerolinecolor": "white"
           }
          },
          "shapedefaults": {
           "line": {
            "color": "#2a3f5f"
           }
          },
          "ternary": {
           "aaxis": {
            "gridcolor": "white",
            "linecolor": "white",
            "ticks": ""
           },
           "baxis": {
            "gridcolor": "white",
            "linecolor": "white",
            "ticks": ""
           },
           "bgcolor": "#E5ECF6",
           "caxis": {
            "gridcolor": "white",
            "linecolor": "white",
            "ticks": ""
           }
          },
          "title": {
           "x": 0.05
          },
          "xaxis": {
           "automargin": true,
           "gridcolor": "white",
           "linecolor": "white",
           "ticks": "",
           "title": {
            "standoff": 15
           },
           "zerolinecolor": "white",
           "zerolinewidth": 2
          },
          "yaxis": {
           "automargin": true,
           "gridcolor": "white",
           "linecolor": "white",
           "ticks": "",
           "title": {
            "standoff": 15
           },
           "zerolinecolor": "white",
           "zerolinewidth": 2
          }
         }
        },
        "title": {
         "text": "MNIST CosDefence result for 4:1 ratio in client data distribution"
        },
        "width": 1200,
        "xaxis": {
         "anchor": "y",
         "domain": [
          0,
          0.46499999999999997
         ],
         "dtick": 10,
         "matches": "x3",
         "showticklabels": false,
         "tick0": 0,
         "tickcolor": "blue",
         "ticklen": 10,
         "ticks": "outside",
         "tickwidth": 2,
         "title": {
          "font": {
           "size": 16
          },
          "standoff": 7,
          "text": "Poisoned Clients in FL Env"
         }
        },
        "xaxis2": {
         "anchor": "y2",
         "domain": [
          0.5349999999999999,
          0.9999999999999999
         ],
         "dtick": 10,
         "matches": "x4",
         "showticklabels": false,
         "tick0": 0,
         "tickcolor": "blue",
         "ticklen": 10,
         "ticks": "outside",
         "tickwidth": 2,
         "title": {
          "font": {
           "size": 16
          },
          "standoff": 7,
          "text": "Poisoned Clients in FL Env"
         }
        },
        "xaxis3": {
         "anchor": "y3",
         "domain": [
          0,
          0.46499999999999997
         ],
         "dtick": 10,
         "tick0": 0,
         "tickcolor": "blue",
         "ticklen": 10,
         "ticks": "outside",
         "tickwidth": 2,
         "title": {
          "font": {
           "size": 16
          },
          "standoff": 7,
          "text": "Poisoned Clients in FL Env"
         }
        },
        "xaxis4": {
         "anchor": "y4",
         "domain": [
          0.5349999999999999,
          0.9999999999999999
         ],
         "dtick": 10,
         "tick0": 0,
         "tickcolor": "blue",
         "ticklen": 10,
         "ticks": "outside",
         "tickwidth": 2,
         "title": {
          "font": {
           "size": 16
          },
          "standoff": 7,
          "text": "Poisoned Clients in FL Env"
         }
        },
        "yaxis": {
         "anchor": "x",
         "domain": [
          0.55,
          1
         ],
         "dtick": 20,
         "tick0": 0,
         "tickcolor": "blue",
         "ticklen": 10,
         "ticks": "outside",
         "tickwidth": 2,
         "title": {
          "font": {
           "size": 16
          },
          "standoff": 5,
          "text": "Poisoned Class Mean Acc"
         }
        },
        "yaxis2": {
         "anchor": "x2",
         "domain": [
          0.55,
          1
         ],
         "dtick": 20,
         "matches": "y",
         "showticklabels": false,
         "tick0": 0,
         "tickcolor": "blue",
         "ticklen": 10,
         "ticks": "outside",
         "tickwidth": 2,
         "title": {
          "font": {
           "size": 16
          },
          "standoff": 5,
          "text": "Avg Class Mean Acc"
         }
        },
        "yaxis3": {
         "anchor": "x3",
         "domain": [
          0,
          0.45
         ],
         "dtick": 20,
         "tick0": 0,
         "tickcolor": "blue",
         "ticklen": 10,
         "ticks": "outside",
         "tickwidth": 2,
         "title": {
          "font": {
           "size": 16
          },
          "standoff": 5,
          "text": "Poisoned Class Mean F1"
         }
        },
        "yaxis4": {
         "anchor": "x4",
         "domain": [
          0,
          0.45
         ],
         "dtick": 20,
         "matches": "y3",
         "showticklabels": false,
         "tick0": 0,
         "tickcolor": "blue",
         "ticklen": 10,
         "ticks": "outside",
         "tickwidth": 2,
         "title": {
          "font": {
           "size": 16
          },
          "standoff": 5,
          "text": "Avg Class Mean F1"
         }
        }
       }
      }
     },
     "metadata": {},
     "output_type": "display_data"
    }
   ],
   "source": [
    "summary_file = 'mnist_r4_results.json'\n",
    "res_fig_name = summary_file[:-5]\n",
    "result_data = get_data(json_folder + summary_file)\n",
    "fig = gen_acc_f1_plot_std(\"MNIST CosDefence result for 4:1 ratio in client data distribution\", result_data, res_fig_name, save_html=False)\n",
    "fig.show()"
   ]
  },
  {
   "cell_type": "code",
   "execution_count": 33,
   "id": "a96749f0",
   "metadata": {},
   "outputs": [
    {
     "data": {
      "application/vnd.plotly.v1+json": {
       "config": {
        "plotlyServerURL": "https://plot.ly"
       },
       "data": [
        {
         "fill": "toself",
         "fillcolor": "rgba(255, 0, 0, 0.5)",
         "line": {
          "color": "rgba(255,255,255,0)"
         },
         "showlegend": false,
         "type": "scatter",
         "x": [
          0,
          10,
          20,
          30,
          40,
          50,
          60,
          60,
          50,
          40,
          30,
          20,
          10,
          0
         ],
         "xaxis": "x",
         "y": [
          82.59790055413426,
          79.1649977375527,
          75.11213341303629,
          70.09331053056287,
          59.29215321803235,
          36.88137298894294,
          13.07486604984255,
          6.4531339501574525,
          31.714627011057058,
          43.82384678196767,
          68.01268946943712,
          72.8258665869637,
          77.8390022624473,
          81.89409944586573
         ],
         "yaxis": "y"
        },
        {
         "line": {
          "color": "red"
         },
         "mode": "lines+markers",
         "name": "off",
         "type": "scatter",
         "x": [
          0,
          10,
          20,
          30,
          40,
          50,
          60
         ],
         "xaxis": "x",
         "y": [
          82.246,
          78.502,
          73.969,
          69.053,
          51.55800000000001,
          34.298,
          9.764000000000001
         ],
         "yaxis": "y"
        },
        {
         "fill": "toself",
         "fillcolor": "rgba(0, 255, 0, 0.5)",
         "line": {
          "color": "rgba(255,255,255,0)"
         },
         "showlegend": false,
         "type": "scatter",
         "x": [
          0,
          10,
          20,
          30,
          40,
          50,
          60,
          60,
          50,
          40,
          30,
          20,
          10,
          0
         ],
         "xaxis": "x",
         "y": [
          83.45496405144293,
          82.69094460630096,
          83.6757777980995,
          84.05097875911964,
          79.26071361088029,
          86.40327111907851,
          54.01907305689946,
          -1.9510730568994603,
          36.49872888092148,
          75.32928638911972,
          81.08502124088038,
          80.63822220190049,
          81.337055393699,
          81.92503594855704
         ],
         "yaxis": "y"
        },
        {
         "line": {
          "color": "green"
         },
         "mode": "lines+markers",
         "name": "on",
         "type": "scatter",
         "x": [
          0,
          10,
          20,
          30,
          40,
          50,
          60
         ],
         "xaxis": "x",
         "y": [
          82.68999999999998,
          82.01399999999998,
          82.157,
          82.56800000000001,
          77.295,
          61.451,
          26.034
         ],
         "yaxis": "y"
        },
        {
         "fill": "toself",
         "fillcolor": "rgba(255, 0, 0, 0.5)",
         "line": {
          "color": "rgba(255,255,255,0)"
         },
         "showlegend": false,
         "type": "scatter",
         "x": [
          0,
          10,
          20,
          30,
          40,
          50,
          60,
          60,
          50,
          40,
          30,
          20,
          10,
          0
         ],
         "xaxis": "x2",
         "y": [
          89.28309682425883,
          89.0981187608981,
          88.66684838312834,
          88.33331911437259,
          87.39843480092237,
          85.09808611916334,
          82.4127300563607,
          81.5060699436393,
          84.29411388083666,
          85.58896519907766,
          88.1318808856274,
          88.15815161687165,
          88.7862812391019,
          88.71630317574115
         ],
         "yaxis": "y2"
        },
        {
         "line": {
          "color": "red"
         },
         "mode": "lines+markers",
         "showlegend": false,
         "type": "scatter",
         "x": [
          0,
          10,
          20,
          30,
          40,
          50,
          60
         ],
         "xaxis": "x2",
         "y": [
          88.99969999999999,
          88.9422,
          88.4125,
          88.23259999999999,
          86.49370000000002,
          84.6961,
          81.9594
         ],
         "yaxis": "y2"
        },
        {
         "fill": "toself",
         "fillcolor": "rgba(0, 255, 0, 0.5)",
         "line": {
          "color": "rgba(255,255,255,0)"
         },
         "showlegend": false,
         "type": "scatter",
         "x": [
          0,
          10,
          20,
          30,
          40,
          50,
          60,
          60,
          50,
          40,
          30,
          20,
          10,
          0
         ],
         "xaxis": "x2",
         "y": [
          89.14738919164841,
          89.09353953006035,
          88.7171271185102,
          88.85217132135708,
          88.43186911463272,
          88.76087731891946,
          85.5177269606793,
          80.46367303932071,
          84.44232268108053,
          87.92033088536729,
          88.33822867864293,
          88.28787288148976,
          88.67306046993966,
          88.8652108083516
         ],
         "yaxis": "y2"
        },
        {
         "line": {
          "color": "green"
         },
         "mode": "lines+markers",
         "showlegend": false,
         "type": "scatter",
         "x": [
          0,
          10,
          20,
          30,
          40,
          50,
          60
         ],
         "xaxis": "x2",
         "y": [
          89.00630000000001,
          88.8833,
          88.50249999999998,
          88.5952,
          88.1761,
          86.60159999999999,
          82.9907
         ],
         "yaxis": "y2"
        },
        {
         "fill": "toself",
         "fillcolor": "rgba(255, 0, 0, 0.5)",
         "line": {
          "color": "rgba(255,255,255,0)"
         },
         "showlegend": false,
         "type": "scatter",
         "x": [
          0,
          10,
          20,
          30,
          40,
          50,
          60,
          60,
          50,
          40,
          30,
          20,
          10,
          0
         ],
         "xaxis": "x3",
         "y": [
          82.5769752997217,
          81.62523892546112,
          80.53810788225373,
          78.00076880016883,
          69.48073743049173,
          45.27140393120089,
          17.581782874722123,
          9.249581034695963,
          39.56205279533979,
          55.50823617639774,
          76.80228986336132,
          79.01410793120765,
          81.07185436916303,
          81.58693540349837
         ],
         "yaxis": "y3"
        },
        {
         "line": {
          "color": "red"
         },
         "marker": {
          "symbol": "square"
         },
         "mode": "lines+markers",
         "name": "off",
         "type": "scatter",
         "x": [
          0,
          10,
          20,
          30,
          40,
          50,
          60
         ],
         "xaxis": "x3",
         "y": [
          82.08195535161003,
          81.34854664731208,
          79.77610790673069,
          77.40152933176508,
          62.49448680344474,
          42.41672836327034,
          13.415681954709044
         ],
         "yaxis": "y3"
        },
        {
         "fill": "toself",
         "fillcolor": "rgba(0, 255, 0, 0.5)",
         "line": {
          "color": "rgba(255,255,255,0)"
         },
         "showlegend": false,
         "type": "scatter",
         "x": [
          0,
          10,
          20,
          30,
          40,
          50,
          60,
          60,
          50,
          40,
          30,
          20,
          10,
          0
         ],
         "xaxis": "x3",
         "y": [
          82.34111623237918,
          82.1695932660371,
          81.80161625409778,
          81.91873554949632,
          80.14580919616166,
          85.49466182528708,
          55.962356466035665,
          -1.3592489591532484,
          38.746741215921006,
          77.87324734115442,
          81.0246562690447,
          80.87827513618686,
          81.60588512752953,
          82.09993578804794
         ],
         "yaxis": "y3"
        },
        {
         "line": {
          "color": "green"
         },
         "marker": {
          "symbol": "square"
         },
         "mode": "lines+markers",
         "name": "on",
         "type": "scatter",
         "x": [
          0,
          10,
          20,
          30,
          40,
          50,
          60
         ],
         "xaxis": "x3",
         "y": [
          82.22052601021356,
          81.88773919678331,
          81.33994569514232,
          81.47169590927051,
          79.00952826865804,
          62.120701520604044,
          27.30155375344121
         ],
         "yaxis": "y3"
        },
        {
         "fill": "toself",
         "fillcolor": "rgba(255, 0, 0, 0.5)",
         "line": {
          "color": "rgba(255,255,255,0)"
         },
         "showlegend": false,
         "type": "scatter",
         "x": [
          0,
          10,
          20,
          30,
          40,
          50,
          60,
          60,
          50,
          40,
          30,
          20,
          10,
          0
         ],
         "xaxis": "x4",
         "y": [
          89.23145424395294,
          89.05781318592926,
          88.61813902015433,
          88.24766899107028,
          87.06498387960264,
          83.69674711861634,
          79.67246965981643,
          78.44549816195315,
          82.66200075205134,
          84.79663117859772,
          88.05172650306982,
          88.07805432552587,
          88.71279884314603,
          88.64281074245777
         ],
         "yaxis": "y4"
        },
        {
         "line": {
          "color": "red"
         },
         "marker": {
          "symbol": "square"
         },
         "mode": "lines+markers",
         "showlegend": false,
         "type": "scatter",
         "x": [
          0,
          10,
          20,
          30,
          40,
          50,
          60
         ],
         "xaxis": "x4",
         "y": [
          88.93713249320535,
          88.88530601453765,
          88.3480966728401,
          88.14969774707005,
          85.93080752910018,
          83.17937393533384,
          79.05898391088479
         ],
         "yaxis": "y4"
        },
        {
         "fill": "toself",
         "fillcolor": "rgba(0, 255, 0, 0.5)",
         "line": {
          "color": "rgba(255,255,255,0)"
         },
         "showlegend": false,
         "type": "scatter",
         "x": [
          0,
          10,
          20,
          30,
          40,
          50,
          60,
          60,
          50,
          40,
          30,
          20,
          10,
          0
         ],
         "xaxis": "x4",
         "y": [
          89.10106032811679,
          89.06927345269203,
          88.67705458784621,
          88.8041610935895,
          88.32552612717353,
          88.90014699792366,
          84.53551831455536,
          76.96520255955957,
          82.65496387165402,
          87.86154121544246,
          88.31271393506461,
          88.25700132924536,
          88.64058645242564,
          88.81138248295032
         ],
         "yaxis": "y4"
        },
        {
         "line": {
          "color": "green"
         },
         "marker": {
          "symbol": "square"
         },
         "mode": "lines+markers",
         "showlegend": false,
         "type": "scatter",
         "x": [
          0,
          10,
          20,
          30,
          40,
          50,
          60
         ],
         "xaxis": "x4",
         "y": [
          88.95622140553355,
          88.85492995255883,
          88.46702795854578,
          88.55843751432705,
          88.093533671308,
          85.77755543478884,
          80.75036043705747
         ],
         "yaxis": "y4"
        }
       ],
       "layout": {
        "height": 800,
        "legend": {
         "borderwidth": 2,
         "font": {
          "size": 12
         },
         "orientation": "h",
         "title": {
          "text": "CosDefence"
         },
         "x": 1,
         "xanchor": "right",
         "y": 1.02,
         "yanchor": "bottom"
        },
        "template": {
         "data": {
          "bar": [
           {
            "error_x": {
             "color": "#2a3f5f"
            },
            "error_y": {
             "color": "#2a3f5f"
            },
            "marker": {
             "line": {
              "color": "#E5ECF6",
              "width": 0.5
             }
            },
            "type": "bar"
           }
          ],
          "barpolar": [
           {
            "marker": {
             "line": {
              "color": "#E5ECF6",
              "width": 0.5
             }
            },
            "type": "barpolar"
           }
          ],
          "carpet": [
           {
            "aaxis": {
             "endlinecolor": "#2a3f5f",
             "gridcolor": "white",
             "linecolor": "white",
             "minorgridcolor": "white",
             "startlinecolor": "#2a3f5f"
            },
            "baxis": {
             "endlinecolor": "#2a3f5f",
             "gridcolor": "white",
             "linecolor": "white",
             "minorgridcolor": "white",
             "startlinecolor": "#2a3f5f"
            },
            "type": "carpet"
           }
          ],
          "choropleth": [
           {
            "colorbar": {
             "outlinewidth": 0,
             "ticks": ""
            },
            "type": "choropleth"
           }
          ],
          "contour": [
           {
            "colorbar": {
             "outlinewidth": 0,
             "ticks": ""
            },
            "colorscale": [
             [
              0,
              "#0d0887"
             ],
             [
              0.1111111111111111,
              "#46039f"
             ],
             [
              0.2222222222222222,
              "#7201a8"
             ],
             [
              0.3333333333333333,
              "#9c179e"
             ],
             [
              0.4444444444444444,
              "#bd3786"
             ],
             [
              0.5555555555555556,
              "#d8576b"
             ],
             [
              0.6666666666666666,
              "#ed7953"
             ],
             [
              0.7777777777777778,
              "#fb9f3a"
             ],
             [
              0.8888888888888888,
              "#fdca26"
             ],
             [
              1,
              "#f0f921"
             ]
            ],
            "type": "contour"
           }
          ],
          "contourcarpet": [
           {
            "colorbar": {
             "outlinewidth": 0,
             "ticks": ""
            },
            "type": "contourcarpet"
           }
          ],
          "heatmap": [
           {
            "colorbar": {
             "outlinewidth": 0,
             "ticks": ""
            },
            "colorscale": [
             [
              0,
              "#0d0887"
             ],
             [
              0.1111111111111111,
              "#46039f"
             ],
             [
              0.2222222222222222,
              "#7201a8"
             ],
             [
              0.3333333333333333,
              "#9c179e"
             ],
             [
              0.4444444444444444,
              "#bd3786"
             ],
             [
              0.5555555555555556,
              "#d8576b"
             ],
             [
              0.6666666666666666,
              "#ed7953"
             ],
             [
              0.7777777777777778,
              "#fb9f3a"
             ],
             [
              0.8888888888888888,
              "#fdca26"
             ],
             [
              1,
              "#f0f921"
             ]
            ],
            "type": "heatmap"
           }
          ],
          "heatmapgl": [
           {
            "colorbar": {
             "outlinewidth": 0,
             "ticks": ""
            },
            "colorscale": [
             [
              0,
              "#0d0887"
             ],
             [
              0.1111111111111111,
              "#46039f"
             ],
             [
              0.2222222222222222,
              "#7201a8"
             ],
             [
              0.3333333333333333,
              "#9c179e"
             ],
             [
              0.4444444444444444,
              "#bd3786"
             ],
             [
              0.5555555555555556,
              "#d8576b"
             ],
             [
              0.6666666666666666,
              "#ed7953"
             ],
             [
              0.7777777777777778,
              "#fb9f3a"
             ],
             [
              0.8888888888888888,
              "#fdca26"
             ],
             [
              1,
              "#f0f921"
             ]
            ],
            "type": "heatmapgl"
           }
          ],
          "histogram": [
           {
            "marker": {
             "colorbar": {
              "outlinewidth": 0,
              "ticks": ""
             }
            },
            "type": "histogram"
           }
          ],
          "histogram2d": [
           {
            "colorbar": {
             "outlinewidth": 0,
             "ticks": ""
            },
            "colorscale": [
             [
              0,
              "#0d0887"
             ],
             [
              0.1111111111111111,
              "#46039f"
             ],
             [
              0.2222222222222222,
              "#7201a8"
             ],
             [
              0.3333333333333333,
              "#9c179e"
             ],
             [
              0.4444444444444444,
              "#bd3786"
             ],
             [
              0.5555555555555556,
              "#d8576b"
             ],
             [
              0.6666666666666666,
              "#ed7953"
             ],
             [
              0.7777777777777778,
              "#fb9f3a"
             ],
             [
              0.8888888888888888,
              "#fdca26"
             ],
             [
              1,
              "#f0f921"
             ]
            ],
            "type": "histogram2d"
           }
          ],
          "histogram2dcontour": [
           {
            "colorbar": {
             "outlinewidth": 0,
             "ticks": ""
            },
            "colorscale": [
             [
              0,
              "#0d0887"
             ],
             [
              0.1111111111111111,
              "#46039f"
             ],
             [
              0.2222222222222222,
              "#7201a8"
             ],
             [
              0.3333333333333333,
              "#9c179e"
             ],
             [
              0.4444444444444444,
              "#bd3786"
             ],
             [
              0.5555555555555556,
              "#d8576b"
             ],
             [
              0.6666666666666666,
              "#ed7953"
             ],
             [
              0.7777777777777778,
              "#fb9f3a"
             ],
             [
              0.8888888888888888,
              "#fdca26"
             ],
             [
              1,
              "#f0f921"
             ]
            ],
            "type": "histogram2dcontour"
           }
          ],
          "mesh3d": [
           {
            "colorbar": {
             "outlinewidth": 0,
             "ticks": ""
            },
            "type": "mesh3d"
           }
          ],
          "parcoords": [
           {
            "line": {
             "colorbar": {
              "outlinewidth": 0,
              "ticks": ""
             }
            },
            "type": "parcoords"
           }
          ],
          "pie": [
           {
            "automargin": true,
            "type": "pie"
           }
          ],
          "scatter": [
           {
            "marker": {
             "colorbar": {
              "outlinewidth": 0,
              "ticks": ""
             }
            },
            "type": "scatter"
           }
          ],
          "scatter3d": [
           {
            "line": {
             "colorbar": {
              "outlinewidth": 0,
              "ticks": ""
             }
            },
            "marker": {
             "colorbar": {
              "outlinewidth": 0,
              "ticks": ""
             }
            },
            "type": "scatter3d"
           }
          ],
          "scattercarpet": [
           {
            "marker": {
             "colorbar": {
              "outlinewidth": 0,
              "ticks": ""
             }
            },
            "type": "scattercarpet"
           }
          ],
          "scattergeo": [
           {
            "marker": {
             "colorbar": {
              "outlinewidth": 0,
              "ticks": ""
             }
            },
            "type": "scattergeo"
           }
          ],
          "scattergl": [
           {
            "marker": {
             "colorbar": {
              "outlinewidth": 0,
              "ticks": ""
             }
            },
            "type": "scattergl"
           }
          ],
          "scattermapbox": [
           {
            "marker": {
             "colorbar": {
              "outlinewidth": 0,
              "ticks": ""
             }
            },
            "type": "scattermapbox"
           }
          ],
          "scatterpolar": [
           {
            "marker": {
             "colorbar": {
              "outlinewidth": 0,
              "ticks": ""
             }
            },
            "type": "scatterpolar"
           }
          ],
          "scatterpolargl": [
           {
            "marker": {
             "colorbar": {
              "outlinewidth": 0,
              "ticks": ""
             }
            },
            "type": "scatterpolargl"
           }
          ],
          "scatterternary": [
           {
            "marker": {
             "colorbar": {
              "outlinewidth": 0,
              "ticks": ""
             }
            },
            "type": "scatterternary"
           }
          ],
          "surface": [
           {
            "colorbar": {
             "outlinewidth": 0,
             "ticks": ""
            },
            "colorscale": [
             [
              0,
              "#0d0887"
             ],
             [
              0.1111111111111111,
              "#46039f"
             ],
             [
              0.2222222222222222,
              "#7201a8"
             ],
             [
              0.3333333333333333,
              "#9c179e"
             ],
             [
              0.4444444444444444,
              "#bd3786"
             ],
             [
              0.5555555555555556,
              "#d8576b"
             ],
             [
              0.6666666666666666,
              "#ed7953"
             ],
             [
              0.7777777777777778,
              "#fb9f3a"
             ],
             [
              0.8888888888888888,
              "#fdca26"
             ],
             [
              1,
              "#f0f921"
             ]
            ],
            "type": "surface"
           }
          ],
          "table": [
           {
            "cells": {
             "fill": {
              "color": "#EBF0F8"
             },
             "line": {
              "color": "white"
             }
            },
            "header": {
             "fill": {
              "color": "#C8D4E3"
             },
             "line": {
              "color": "white"
             }
            },
            "type": "table"
           }
          ]
         },
         "layout": {
          "annotationdefaults": {
           "arrowcolor": "#2a3f5f",
           "arrowhead": 0,
           "arrowwidth": 1
          },
          "autotypenumbers": "strict",
          "coloraxis": {
           "colorbar": {
            "outlinewidth": 0,
            "ticks": ""
           }
          },
          "colorscale": {
           "diverging": [
            [
             0,
             "#8e0152"
            ],
            [
             0.1,
             "#c51b7d"
            ],
            [
             0.2,
             "#de77ae"
            ],
            [
             0.3,
             "#f1b6da"
            ],
            [
             0.4,
             "#fde0ef"
            ],
            [
             0.5,
             "#f7f7f7"
            ],
            [
             0.6,
             "#e6f5d0"
            ],
            [
             0.7,
             "#b8e186"
            ],
            [
             0.8,
             "#7fbc41"
            ],
            [
             0.9,
             "#4d9221"
            ],
            [
             1,
             "#276419"
            ]
           ],
           "sequential": [
            [
             0,
             "#0d0887"
            ],
            [
             0.1111111111111111,
             "#46039f"
            ],
            [
             0.2222222222222222,
             "#7201a8"
            ],
            [
             0.3333333333333333,
             "#9c179e"
            ],
            [
             0.4444444444444444,
             "#bd3786"
            ],
            [
             0.5555555555555556,
             "#d8576b"
            ],
            [
             0.6666666666666666,
             "#ed7953"
            ],
            [
             0.7777777777777778,
             "#fb9f3a"
            ],
            [
             0.8888888888888888,
             "#fdca26"
            ],
            [
             1,
             "#f0f921"
            ]
           ],
           "sequentialminus": [
            [
             0,
             "#0d0887"
            ],
            [
             0.1111111111111111,
             "#46039f"
            ],
            [
             0.2222222222222222,
             "#7201a8"
            ],
            [
             0.3333333333333333,
             "#9c179e"
            ],
            [
             0.4444444444444444,
             "#bd3786"
            ],
            [
             0.5555555555555556,
             "#d8576b"
            ],
            [
             0.6666666666666666,
             "#ed7953"
            ],
            [
             0.7777777777777778,
             "#fb9f3a"
            ],
            [
             0.8888888888888888,
             "#fdca26"
            ],
            [
             1,
             "#f0f921"
            ]
           ]
          },
          "colorway": [
           "#636efa",
           "#EF553B",
           "#00cc96",
           "#ab63fa",
           "#FFA15A",
           "#19d3f3",
           "#FF6692",
           "#B6E880",
           "#FF97FF",
           "#FECB52"
          ],
          "font": {
           "color": "#2a3f5f"
          },
          "geo": {
           "bgcolor": "white",
           "lakecolor": "white",
           "landcolor": "#E5ECF6",
           "showlakes": true,
           "showland": true,
           "subunitcolor": "white"
          },
          "hoverlabel": {
           "align": "left"
          },
          "hovermode": "closest",
          "mapbox": {
           "style": "light"
          },
          "paper_bgcolor": "white",
          "plot_bgcolor": "#E5ECF6",
          "polar": {
           "angularaxis": {
            "gridcolor": "white",
            "linecolor": "white",
            "ticks": ""
           },
           "bgcolor": "#E5ECF6",
           "radialaxis": {
            "gridcolor": "white",
            "linecolor": "white",
            "ticks": ""
           }
          },
          "scene": {
           "xaxis": {
            "backgroundcolor": "#E5ECF6",
            "gridcolor": "white",
            "gridwidth": 2,
            "linecolor": "white",
            "showbackground": true,
            "ticks": "",
            "zerolinecolor": "white"
           },
           "yaxis": {
            "backgroundcolor": "#E5ECF6",
            "gridcolor": "white",
            "gridwidth": 2,
            "linecolor": "white",
            "showbackground": true,
            "ticks": "",
            "zerolinecolor": "white"
           },
           "zaxis": {
            "backgroundcolor": "#E5ECF6",
            "gridcolor": "white",
            "gridwidth": 2,
            "linecolor": "white",
            "showbackground": true,
            "ticks": "",
            "zerolinecolor": "white"
           }
          },
          "shapedefaults": {
           "line": {
            "color": "#2a3f5f"
           }
          },
          "ternary": {
           "aaxis": {
            "gridcolor": "white",
            "linecolor": "white",
            "ticks": ""
           },
           "baxis": {
            "gridcolor": "white",
            "linecolor": "white",
            "ticks": ""
           },
           "bgcolor": "#E5ECF6",
           "caxis": {
            "gridcolor": "white",
            "linecolor": "white",
            "ticks": ""
           }
          },
          "title": {
           "x": 0.05
          },
          "xaxis": {
           "automargin": true,
           "gridcolor": "white",
           "linecolor": "white",
           "ticks": "",
           "title": {
            "standoff": 15
           },
           "zerolinecolor": "white",
           "zerolinewidth": 2
          },
          "yaxis": {
           "automargin": true,
           "gridcolor": "white",
           "linecolor": "white",
           "ticks": "",
           "title": {
            "standoff": 15
           },
           "zerolinecolor": "white",
           "zerolinewidth": 2
          }
         }
        },
        "title": {
         "text": "FMNIST CosDefence result for 4:1 ratio in client data distribution"
        },
        "width": 1200,
        "xaxis": {
         "anchor": "y",
         "domain": [
          0,
          0.46499999999999997
         ],
         "dtick": 10,
         "matches": "x3",
         "showticklabels": false,
         "tick0": 0,
         "tickcolor": "blue",
         "ticklen": 10,
         "ticks": "outside",
         "tickwidth": 2,
         "title": {
          "font": {
           "size": 16
          },
          "standoff": 7,
          "text": "Poisoned Clients in FL Env"
         }
        },
        "xaxis2": {
         "anchor": "y2",
         "domain": [
          0.5349999999999999,
          0.9999999999999999
         ],
         "dtick": 10,
         "matches": "x4",
         "showticklabels": false,
         "tick0": 0,
         "tickcolor": "blue",
         "ticklen": 10,
         "ticks": "outside",
         "tickwidth": 2,
         "title": {
          "font": {
           "size": 16
          },
          "standoff": 7,
          "text": "Poisoned Clients in FL Env"
         }
        },
        "xaxis3": {
         "anchor": "y3",
         "domain": [
          0,
          0.46499999999999997
         ],
         "dtick": 10,
         "tick0": 0,
         "tickcolor": "blue",
         "ticklen": 10,
         "ticks": "outside",
         "tickwidth": 2,
         "title": {
          "font": {
           "size": 16
          },
          "standoff": 7,
          "text": "Poisoned Clients in FL Env"
         }
        },
        "xaxis4": {
         "anchor": "y4",
         "domain": [
          0.5349999999999999,
          0.9999999999999999
         ],
         "dtick": 10,
         "tick0": 0,
         "tickcolor": "blue",
         "ticklen": 10,
         "ticks": "outside",
         "tickwidth": 2,
         "title": {
          "font": {
           "size": 16
          },
          "standoff": 7,
          "text": "Poisoned Clients in FL Env"
         }
        },
        "yaxis": {
         "anchor": "x",
         "domain": [
          0.55,
          1
         ],
         "dtick": 20,
         "tick0": 0,
         "tickcolor": "blue",
         "ticklen": 10,
         "ticks": "outside",
         "tickwidth": 2,
         "title": {
          "font": {
           "size": 16
          },
          "standoff": 5,
          "text": "Poisoned Class Mean Acc"
         }
        },
        "yaxis2": {
         "anchor": "x2",
         "domain": [
          0.55,
          1
         ],
         "dtick": 20,
         "matches": "y",
         "showticklabels": false,
         "tick0": 0,
         "tickcolor": "blue",
         "ticklen": 10,
         "ticks": "outside",
         "tickwidth": 2,
         "title": {
          "font": {
           "size": 16
          },
          "standoff": 5,
          "text": "Avg Class Mean Acc"
         }
        },
        "yaxis3": {
         "anchor": "x3",
         "domain": [
          0,
          0.45
         ],
         "dtick": 20,
         "tick0": 0,
         "tickcolor": "blue",
         "ticklen": 10,
         "ticks": "outside",
         "tickwidth": 2,
         "title": {
          "font": {
           "size": 16
          },
          "standoff": 5,
          "text": "Poisoned Class Mean F1"
         }
        },
        "yaxis4": {
         "anchor": "x4",
         "domain": [
          0,
          0.45
         ],
         "dtick": 20,
         "matches": "y3",
         "showticklabels": false,
         "tick0": 0,
         "tickcolor": "blue",
         "ticklen": 10,
         "ticks": "outside",
         "tickwidth": 2,
         "title": {
          "font": {
           "size": 16
          },
          "standoff": 5,
          "text": "Avg Class Mean F1"
         }
        }
       }
      }
     },
     "metadata": {},
     "output_type": "display_data"
    }
   ],
   "source": [
    "summary_file = 'fmnist_r4_results.json'\n",
    "res_fig_name = summary_file[:-5]\n",
    "result_data = get_data(json_folder + summary_file)\n",
    "fig = gen_acc_f1_plot_std(\"FMNIST CosDefence result for 4:1 ratio in client data distribution\", result_data, res_fig_name, save_html=False)\n",
    "fig.show()"
   ]
  },
  {
   "cell_type": "code",
   "execution_count": 5,
   "id": "6b6bdbd1",
   "metadata": {},
   "outputs": [
    {
     "data": {
      "application/vnd.plotly.v1+json": {
       "config": {
        "plotlyServerURL": "https://plot.ly"
       },
       "data": [
        {
         "fill": "toself",
         "fillcolor": "rgba(255, 0, 0, 0.5)",
         "line": {
          "color": "rgba(255,255,255,0)"
         },
         "showlegend": false,
         "type": "scatter",
         "x": [
          0,
          10,
          20,
          30,
          40,
          50,
          60,
          60,
          50,
          40,
          30,
          20,
          10,
          0
         ],
         "xaxis": "x",
         "y": [
          47.2408919943092,
          41.15045911616848,
          38.60499697920282,
          35.834401824615185,
          26.853876527637716,
          18.97631501245825,
          8.816336822789477,
          5.883898471328171,
          14.281332046365286,
          24.52541759000934,
          30.565127587149522,
          34.489355961973665,
          39.75095264853742,
          44.18922565274962
         ],
         "yaxis": "y"
        },
        {
         "line": {
          "color": "red"
         },
         "mode": "lines+markers",
         "name": "off",
         "type": "scatter",
         "x": [
          0,
          10,
          20,
          30,
          40,
          50,
          60
         ],
         "xaxis": "x",
         "y": [
          45.71505882352941,
          40.45070588235295,
          36.54717647058824,
          33.19976470588235,
          25.689647058823528,
          16.62882352941177,
          7.350117647058823
         ],
         "yaxis": "y"
        },
        {
         "fill": "toself",
         "fillcolor": "rgba(0, 255, 0, 0.5)",
         "line": {
          "color": "rgba(255,255,255,0)"
         },
         "showlegend": false,
         "type": "scatter",
         "x": [
          0,
          10,
          20,
          30,
          40,
          50,
          60,
          60,
          50,
          40,
          30,
          20,
          10,
          0
         ],
         "xaxis": "x",
         "y": [
          48.233820151498335,
          42.57881276536959,
          37.917161744859484,
          42.134261261364,
          35.23418267242029,
          29.684436272284156,
          8.808831428353022,
          3.6344626892940375,
          22.41838725712761,
          27.84769968052088,
          34.133738738636,
          32.85013237278757,
          38.374128411101,
          45.99559161320754
         ],
         "yaxis": "y"
        },
        {
         "line": {
          "color": "green"
         },
         "mode": "lines+markers",
         "name": "on",
         "type": "scatter",
         "x": [
          0,
          10,
          20,
          30,
          40,
          50,
          60
         ],
         "xaxis": "x",
         "y": [
          47.114705882352936,
          40.476470588235294,
          35.38364705882353,
          38.134,
          31.540941176470586,
          26.051411764705882,
          6.22164705882353
         ],
         "yaxis": "y"
        },
        {
         "fill": "toself",
         "fillcolor": "rgba(255, 0, 0, 0.5)",
         "line": {
          "color": "rgba(255,255,255,0)"
         },
         "showlegend": false,
         "type": "scatter",
         "x": [
          0,
          10,
          20,
          30,
          40,
          50,
          60,
          60,
          50,
          40,
          30,
          20,
          10,
          0
         ],
         "xaxis": "x2",
         "y": [
          62.79813445005906,
          61.97415040888508,
          60.39946332285041,
          62.19446495680733,
          61.10120456142217,
          59.13526006873427,
          57.943234878568546,
          56.78747100378442,
          56.772034048912786,
          58.83225426210725,
          60.19673504319267,
          58.77660726538487,
          59.63935547346787,
          59.482100844058586
         ],
         "yaxis": "y2"
        },
        {
         "line": {
          "color": "red"
         },
         "mode": "lines+markers",
         "showlegend": false,
         "type": "scatter",
         "x": [
          0,
          10,
          20,
          30,
          40,
          50,
          60
         ],
         "xaxis": "x2",
         "y": [
          61.14011764705882,
          60.80675294117648,
          59.58803529411764,
          61.1956,
          59.96672941176471,
          57.95364705882353,
          57.36535294117648
         ],
         "yaxis": "y2"
        },
        {
         "fill": "toself",
         "fillcolor": "rgba(0, 255, 0, 0.5)",
         "line": {
          "color": "rgba(255,255,255,0)"
         },
         "showlegend": false,
         "type": "scatter",
         "x": [
          0,
          10,
          20,
          30,
          40,
          50,
          60,
          60,
          50,
          40,
          30,
          20,
          10,
          0
         ],
         "xaxis": "x2",
         "y": [
          63.6603078292364,
          61.863833343566306,
          60.46362381740656,
          62.211315273196554,
          62.08526984550009,
          59.906259580373614,
          58.63610163952266,
          55.30288659577146,
          57.96905806668521,
          58.66967133097049,
          59.359672962097584,
          57.28305853553462,
          58.51884900937487,
          59.53126864135183
         ],
         "yaxis": "y2"
        },
        {
         "line": {
          "color": "green"
         },
         "mode": "lines+markers",
         "showlegend": false,
         "type": "scatter",
         "x": [
          0,
          10,
          20,
          30,
          40,
          50,
          60
         ],
         "xaxis": "x2",
         "y": [
          61.595788235294116,
          60.19134117647059,
          58.87334117647059,
          60.78549411764707,
          60.37747058823529,
          58.93765882352941,
          56.96949411764706
         ],
         "yaxis": "y2"
        },
        {
         "fill": "toself",
         "fillcolor": "rgba(255, 0, 0, 0.5)",
         "line": {
          "color": "rgba(255,255,255,0)"
         },
         "showlegend": false,
         "type": "scatter",
         "x": [
          0,
          10,
          20,
          30,
          40,
          50,
          60,
          60,
          50,
          40,
          30,
          20,
          10,
          0
         ],
         "xaxis": "x3",
         "y": [
          50.59956591926543,
          47.68370875828696,
          45.48968539340645,
          44.86137475845233,
          36.44382468561524,
          27.7398966212983,
          14.455128413421841,
          9.945538685480676,
          21.70935726097194,
          34.32883234086454,
          39.93479256672745,
          41.95854955496549,
          45.48870070533318,
          47.64577321382927
         ],
         "yaxis": "y3"
        },
        {
         "line": {
          "color": "red"
         },
         "marker": {
          "symbol": "square"
         },
         "mode": "lines+markers",
         "name": "off",
         "type": "scatter",
         "x": [
          0,
          10,
          20,
          30,
          40,
          50,
          60
         ],
         "xaxis": "x3",
         "y": [
          49.12266956654735,
          46.58620473181007,
          43.72411747418597,
          42.39808366258989,
          35.38632851323989,
          24.72462694113512,
          12.200333549451258
         ],
         "yaxis": "y3"
        },
        {
         "fill": "toself",
         "fillcolor": "rgba(0, 255, 0, 0.5)",
         "line": {
          "color": "rgba(255,255,255,0)"
         },
         "showlegend": false,
         "type": "scatter",
         "x": [
          0,
          10,
          20,
          30,
          40,
          50,
          60,
          60,
          50,
          40,
          30,
          20,
          10,
          0
         ],
         "xaxis": "x3",
         "y": [
          51.718546818697604,
          48.632901829578365,
          44.8583428809155,
          48.14107294508245,
          43.70265115796086,
          38.35600235002596,
          14.129561661714677,
          6.436343722366276,
          30.97010721397166,
          36.72568177596487,
          42.31895121582078,
          40.142001338879766,
          43.962191677036024,
          48.72304392724209
         ],
         "yaxis": "y3"
        },
        {
         "line": {
          "color": "green"
         },
         "marker": {
          "symbol": "square"
         },
         "mode": "lines+markers",
         "name": "on",
         "type": "scatter",
         "x": [
          0,
          10,
          20,
          30,
          40,
          50,
          60
         ],
         "xaxis": "x3",
         "y": [
          50.220795372969846,
          46.297546753307195,
          42.50017210989763,
          45.230012080451615,
          40.214166466962865,
          34.66305478199881,
          10.282952692040476
         ],
         "yaxis": "y3"
        },
        {
         "fill": "toself",
         "fillcolor": "rgba(255, 0, 0, 0.5)",
         "line": {
          "color": "rgba(255,255,255,0)"
         },
         "showlegend": false,
         "type": "scatter",
         "x": [
          0,
          10,
          20,
          30,
          40,
          50,
          60,
          60,
          50,
          40,
          30,
          20,
          10,
          0
         ],
         "xaxis": "x4",
         "y": [
          62.58127667674742,
          61.65717248790354,
          60.039422780334306,
          61.709521483617415,
          60.2616196635309,
          57.97562994087206,
          56.22578332187227,
          54.9233452828537,
          55.56832032646465,
          58.07643370973651,
          59.687131515356604,
          58.363547588753605,
          59.36316198912691,
          59.290538567191945
         ],
         "yaxis": "y4"
        },
        {
         "line": {
          "color": "red"
         },
         "marker": {
          "symbol": "square"
         },
         "mode": "lines+markers",
         "showlegend": false,
         "type": "scatter",
         "x": [
          0,
          10,
          20,
          30,
          40,
          50,
          60
         ],
         "xaxis": "x4",
         "y": [
          60.93590762196968,
          60.51016723851522,
          59.201485184543955,
          60.69832649948701,
          59.16902668663371,
          56.771975133668356,
          55.57456430236299
         ],
         "yaxis": "y4"
        },
        {
         "fill": "toself",
         "fillcolor": "rgba(0, 255, 0, 0.5)",
         "line": {
          "color": "rgba(255,255,255,0)"
         },
         "showlegend": false,
         "type": "scatter",
         "x": [
          0,
          10,
          20,
          30,
          40,
          50,
          60,
          60,
          50,
          40,
          30,
          20,
          10,
          0
         ],
         "xaxis": "x4",
         "y": [
          63.48416671529283,
          61.60707051176032,
          60.132881735048706,
          61.88754129904277,
          61.50270339552036,
          59.275375992250005,
          56.68249607508606,
          53.46675724678216,
          57.12407087213893,
          58.09553282603262,
          58.99680646150062,
          56.8477514549676,
          58.17420578903391,
          59.37645086194175
         ],
         "yaxis": "y4"
        },
        {
         "line": {
          "color": "green"
         },
         "marker": {
          "symbol": "square"
         },
         "mode": "lines+markers",
         "showlegend": false,
         "type": "scatter",
         "x": [
          0,
          10,
          20,
          30,
          40,
          50,
          60
         ],
         "xaxis": "x4",
         "y": [
          61.43030878861729,
          59.890638150397116,
          58.49031659500815,
          60.442173880271696,
          59.79911811077649,
          58.19972343219447,
          55.07462666093411
         ],
         "yaxis": "y4"
        }
       ],
       "layout": {
        "height": 800,
        "legend": {
         "borderwidth": 2,
         "font": {
          "size": 12
         },
         "orientation": "h",
         "title": {
          "text": "CosDefence"
         },
         "x": 1,
         "xanchor": "right",
         "y": 1.02,
         "yanchor": "bottom"
        },
        "template": {
         "data": {
          "bar": [
           {
            "error_x": {
             "color": "#2a3f5f"
            },
            "error_y": {
             "color": "#2a3f5f"
            },
            "marker": {
             "line": {
              "color": "#E5ECF6",
              "width": 0.5
             }
            },
            "type": "bar"
           }
          ],
          "barpolar": [
           {
            "marker": {
             "line": {
              "color": "#E5ECF6",
              "width": 0.5
             }
            },
            "type": "barpolar"
           }
          ],
          "carpet": [
           {
            "aaxis": {
             "endlinecolor": "#2a3f5f",
             "gridcolor": "white",
             "linecolor": "white",
             "minorgridcolor": "white",
             "startlinecolor": "#2a3f5f"
            },
            "baxis": {
             "endlinecolor": "#2a3f5f",
             "gridcolor": "white",
             "linecolor": "white",
             "minorgridcolor": "white",
             "startlinecolor": "#2a3f5f"
            },
            "type": "carpet"
           }
          ],
          "choropleth": [
           {
            "colorbar": {
             "outlinewidth": 0,
             "ticks": ""
            },
            "type": "choropleth"
           }
          ],
          "contour": [
           {
            "colorbar": {
             "outlinewidth": 0,
             "ticks": ""
            },
            "colorscale": [
             [
              0,
              "#0d0887"
             ],
             [
              0.1111111111111111,
              "#46039f"
             ],
             [
              0.2222222222222222,
              "#7201a8"
             ],
             [
              0.3333333333333333,
              "#9c179e"
             ],
             [
              0.4444444444444444,
              "#bd3786"
             ],
             [
              0.5555555555555556,
              "#d8576b"
             ],
             [
              0.6666666666666666,
              "#ed7953"
             ],
             [
              0.7777777777777778,
              "#fb9f3a"
             ],
             [
              0.8888888888888888,
              "#fdca26"
             ],
             [
              1,
              "#f0f921"
             ]
            ],
            "type": "contour"
           }
          ],
          "contourcarpet": [
           {
            "colorbar": {
             "outlinewidth": 0,
             "ticks": ""
            },
            "type": "contourcarpet"
           }
          ],
          "heatmap": [
           {
            "colorbar": {
             "outlinewidth": 0,
             "ticks": ""
            },
            "colorscale": [
             [
              0,
              "#0d0887"
             ],
             [
              0.1111111111111111,
              "#46039f"
             ],
             [
              0.2222222222222222,
              "#7201a8"
             ],
             [
              0.3333333333333333,
              "#9c179e"
             ],
             [
              0.4444444444444444,
              "#bd3786"
             ],
             [
              0.5555555555555556,
              "#d8576b"
             ],
             [
              0.6666666666666666,
              "#ed7953"
             ],
             [
              0.7777777777777778,
              "#fb9f3a"
             ],
             [
              0.8888888888888888,
              "#fdca26"
             ],
             [
              1,
              "#f0f921"
             ]
            ],
            "type": "heatmap"
           }
          ],
          "heatmapgl": [
           {
            "colorbar": {
             "outlinewidth": 0,
             "ticks": ""
            },
            "colorscale": [
             [
              0,
              "#0d0887"
             ],
             [
              0.1111111111111111,
              "#46039f"
             ],
             [
              0.2222222222222222,
              "#7201a8"
             ],
             [
              0.3333333333333333,
              "#9c179e"
             ],
             [
              0.4444444444444444,
              "#bd3786"
             ],
             [
              0.5555555555555556,
              "#d8576b"
             ],
             [
              0.6666666666666666,
              "#ed7953"
             ],
             [
              0.7777777777777778,
              "#fb9f3a"
             ],
             [
              0.8888888888888888,
              "#fdca26"
             ],
             [
              1,
              "#f0f921"
             ]
            ],
            "type": "heatmapgl"
           }
          ],
          "histogram": [
           {
            "marker": {
             "colorbar": {
              "outlinewidth": 0,
              "ticks": ""
             }
            },
            "type": "histogram"
           }
          ],
          "histogram2d": [
           {
            "colorbar": {
             "outlinewidth": 0,
             "ticks": ""
            },
            "colorscale": [
             [
              0,
              "#0d0887"
             ],
             [
              0.1111111111111111,
              "#46039f"
             ],
             [
              0.2222222222222222,
              "#7201a8"
             ],
             [
              0.3333333333333333,
              "#9c179e"
             ],
             [
              0.4444444444444444,
              "#bd3786"
             ],
             [
              0.5555555555555556,
              "#d8576b"
             ],
             [
              0.6666666666666666,
              "#ed7953"
             ],
             [
              0.7777777777777778,
              "#fb9f3a"
             ],
             [
              0.8888888888888888,
              "#fdca26"
             ],
             [
              1,
              "#f0f921"
             ]
            ],
            "type": "histogram2d"
           }
          ],
          "histogram2dcontour": [
           {
            "colorbar": {
             "outlinewidth": 0,
             "ticks": ""
            },
            "colorscale": [
             [
              0,
              "#0d0887"
             ],
             [
              0.1111111111111111,
              "#46039f"
             ],
             [
              0.2222222222222222,
              "#7201a8"
             ],
             [
              0.3333333333333333,
              "#9c179e"
             ],
             [
              0.4444444444444444,
              "#bd3786"
             ],
             [
              0.5555555555555556,
              "#d8576b"
             ],
             [
              0.6666666666666666,
              "#ed7953"
             ],
             [
              0.7777777777777778,
              "#fb9f3a"
             ],
             [
              0.8888888888888888,
              "#fdca26"
             ],
             [
              1,
              "#f0f921"
             ]
            ],
            "type": "histogram2dcontour"
           }
          ],
          "mesh3d": [
           {
            "colorbar": {
             "outlinewidth": 0,
             "ticks": ""
            },
            "type": "mesh3d"
           }
          ],
          "parcoords": [
           {
            "line": {
             "colorbar": {
              "outlinewidth": 0,
              "ticks": ""
             }
            },
            "type": "parcoords"
           }
          ],
          "pie": [
           {
            "automargin": true,
            "type": "pie"
           }
          ],
          "scatter": [
           {
            "marker": {
             "colorbar": {
              "outlinewidth": 0,
              "ticks": ""
             }
            },
            "type": "scatter"
           }
          ],
          "scatter3d": [
           {
            "line": {
             "colorbar": {
              "outlinewidth": 0,
              "ticks": ""
             }
            },
            "marker": {
             "colorbar": {
              "outlinewidth": 0,
              "ticks": ""
             }
            },
            "type": "scatter3d"
           }
          ],
          "scattercarpet": [
           {
            "marker": {
             "colorbar": {
              "outlinewidth": 0,
              "ticks": ""
             }
            },
            "type": "scattercarpet"
           }
          ],
          "scattergeo": [
           {
            "marker": {
             "colorbar": {
              "outlinewidth": 0,
              "ticks": ""
             }
            },
            "type": "scattergeo"
           }
          ],
          "scattergl": [
           {
            "marker": {
             "colorbar": {
              "outlinewidth": 0,
              "ticks": ""
             }
            },
            "type": "scattergl"
           }
          ],
          "scattermapbox": [
           {
            "marker": {
             "colorbar": {
              "outlinewidth": 0,
              "ticks": ""
             }
            },
            "type": "scattermapbox"
           }
          ],
          "scatterpolar": [
           {
            "marker": {
             "colorbar": {
              "outlinewidth": 0,
              "ticks": ""
             }
            },
            "type": "scatterpolar"
           }
          ],
          "scatterpolargl": [
           {
            "marker": {
             "colorbar": {
              "outlinewidth": 0,
              "ticks": ""
             }
            },
            "type": "scatterpolargl"
           }
          ],
          "scatterternary": [
           {
            "marker": {
             "colorbar": {
              "outlinewidth": 0,
              "ticks": ""
             }
            },
            "type": "scatterternary"
           }
          ],
          "surface": [
           {
            "colorbar": {
             "outlinewidth": 0,
             "ticks": ""
            },
            "colorscale": [
             [
              0,
              "#0d0887"
             ],
             [
              0.1111111111111111,
              "#46039f"
             ],
             [
              0.2222222222222222,
              "#7201a8"
             ],
             [
              0.3333333333333333,
              "#9c179e"
             ],
             [
              0.4444444444444444,
              "#bd3786"
             ],
             [
              0.5555555555555556,
              "#d8576b"
             ],
             [
              0.6666666666666666,
              "#ed7953"
             ],
             [
              0.7777777777777778,
              "#fb9f3a"
             ],
             [
              0.8888888888888888,
              "#fdca26"
             ],
             [
              1,
              "#f0f921"
             ]
            ],
            "type": "surface"
           }
          ],
          "table": [
           {
            "cells": {
             "fill": {
              "color": "#EBF0F8"
             },
             "line": {
              "color": "white"
             }
            },
            "header": {
             "fill": {
              "color": "#C8D4E3"
             },
             "line": {
              "color": "white"
             }
            },
            "type": "table"
           }
          ]
         },
         "layout": {
          "annotationdefaults": {
           "arrowcolor": "#2a3f5f",
           "arrowhead": 0,
           "arrowwidth": 1
          },
          "autotypenumbers": "strict",
          "coloraxis": {
           "colorbar": {
            "outlinewidth": 0,
            "ticks": ""
           }
          },
          "colorscale": {
           "diverging": [
            [
             0,
             "#8e0152"
            ],
            [
             0.1,
             "#c51b7d"
            ],
            [
             0.2,
             "#de77ae"
            ],
            [
             0.3,
             "#f1b6da"
            ],
            [
             0.4,
             "#fde0ef"
            ],
            [
             0.5,
             "#f7f7f7"
            ],
            [
             0.6,
             "#e6f5d0"
            ],
            [
             0.7,
             "#b8e186"
            ],
            [
             0.8,
             "#7fbc41"
            ],
            [
             0.9,
             "#4d9221"
            ],
            [
             1,
             "#276419"
            ]
           ],
           "sequential": [
            [
             0,
             "#0d0887"
            ],
            [
             0.1111111111111111,
             "#46039f"
            ],
            [
             0.2222222222222222,
             "#7201a8"
            ],
            [
             0.3333333333333333,
             "#9c179e"
            ],
            [
             0.4444444444444444,
             "#bd3786"
            ],
            [
             0.5555555555555556,
             "#d8576b"
            ],
            [
             0.6666666666666666,
             "#ed7953"
            ],
            [
             0.7777777777777778,
             "#fb9f3a"
            ],
            [
             0.8888888888888888,
             "#fdca26"
            ],
            [
             1,
             "#f0f921"
            ]
           ],
           "sequentialminus": [
            [
             0,
             "#0d0887"
            ],
            [
             0.1111111111111111,
             "#46039f"
            ],
            [
             0.2222222222222222,
             "#7201a8"
            ],
            [
             0.3333333333333333,
             "#9c179e"
            ],
            [
             0.4444444444444444,
             "#bd3786"
            ],
            [
             0.5555555555555556,
             "#d8576b"
            ],
            [
             0.6666666666666666,
             "#ed7953"
            ],
            [
             0.7777777777777778,
             "#fb9f3a"
            ],
            [
             0.8888888888888888,
             "#fdca26"
            ],
            [
             1,
             "#f0f921"
            ]
           ]
          },
          "colorway": [
           "#636efa",
           "#EF553B",
           "#00cc96",
           "#ab63fa",
           "#FFA15A",
           "#19d3f3",
           "#FF6692",
           "#B6E880",
           "#FF97FF",
           "#FECB52"
          ],
          "font": {
           "color": "#2a3f5f"
          },
          "geo": {
           "bgcolor": "white",
           "lakecolor": "white",
           "landcolor": "#E5ECF6",
           "showlakes": true,
           "showland": true,
           "subunitcolor": "white"
          },
          "hoverlabel": {
           "align": "left"
          },
          "hovermode": "closest",
          "mapbox": {
           "style": "light"
          },
          "paper_bgcolor": "white",
          "plot_bgcolor": "#E5ECF6",
          "polar": {
           "angularaxis": {
            "gridcolor": "white",
            "linecolor": "white",
            "ticks": ""
           },
           "bgcolor": "#E5ECF6",
           "radialaxis": {
            "gridcolor": "white",
            "linecolor": "white",
            "ticks": ""
           }
          },
          "scene": {
           "xaxis": {
            "backgroundcolor": "#E5ECF6",
            "gridcolor": "white",
            "gridwidth": 2,
            "linecolor": "white",
            "showbackground": true,
            "ticks": "",
            "zerolinecolor": "white"
           },
           "yaxis": {
            "backgroundcolor": "#E5ECF6",
            "gridcolor": "white",
            "gridwidth": 2,
            "linecolor": "white",
            "showbackground": true,
            "ticks": "",
            "zerolinecolor": "white"
           },
           "zaxis": {
            "backgroundcolor": "#E5ECF6",
            "gridcolor": "white",
            "gridwidth": 2,
            "linecolor": "white",
            "showbackground": true,
            "ticks": "",
            "zerolinecolor": "white"
           }
          },
          "shapedefaults": {
           "line": {
            "color": "#2a3f5f"
           }
          },
          "ternary": {
           "aaxis": {
            "gridcolor": "white",
            "linecolor": "white",
            "ticks": ""
           },
           "baxis": {
            "gridcolor": "white",
            "linecolor": "white",
            "ticks": ""
           },
           "bgcolor": "#E5ECF6",
           "caxis": {
            "gridcolor": "white",
            "linecolor": "white",
            "ticks": ""
           }
          },
          "title": {
           "x": 0.05
          },
          "xaxis": {
           "automargin": true,
           "gridcolor": "white",
           "linecolor": "white",
           "ticks": "",
           "title": {
            "standoff": 15
           },
           "zerolinecolor": "white",
           "zerolinewidth": 2
          },
          "yaxis": {
           "automargin": true,
           "gridcolor": "white",
           "linecolor": "white",
           "ticks": "",
           "title": {
            "standoff": 15
           },
           "zerolinecolor": "white",
           "zerolinewidth": 2
          }
         }
        },
        "title": {
         "text": "CIFAR10 CosDefence result for 4:1 ratio in client data distribution"
        },
        "width": 1200,
        "xaxis": {
         "anchor": "y",
         "domain": [
          0,
          0.46499999999999997
         ],
         "dtick": 10,
         "matches": "x3",
         "showticklabels": false,
         "tick0": 0,
         "tickcolor": "blue",
         "ticklen": 10,
         "ticks": "outside",
         "tickwidth": 2,
         "title": {
          "font": {
           "size": 16
          },
          "standoff": 7,
          "text": "Poisoned Clients in FL Env"
         }
        },
        "xaxis2": {
         "anchor": "y2",
         "domain": [
          0.5349999999999999,
          0.9999999999999999
         ],
         "dtick": 10,
         "matches": "x4",
         "showticklabels": false,
         "tick0": 0,
         "tickcolor": "blue",
         "ticklen": 10,
         "ticks": "outside",
         "tickwidth": 2,
         "title": {
          "font": {
           "size": 16
          },
          "standoff": 7,
          "text": "Poisoned Clients in FL Env"
         }
        },
        "xaxis3": {
         "anchor": "y3",
         "domain": [
          0,
          0.46499999999999997
         ],
         "dtick": 10,
         "tick0": 0,
         "tickcolor": "blue",
         "ticklen": 10,
         "ticks": "outside",
         "tickwidth": 2,
         "title": {
          "font": {
           "size": 16
          },
          "standoff": 7,
          "text": "Poisoned Clients in FL Env"
         }
        },
        "xaxis4": {
         "anchor": "y4",
         "domain": [
          0.5349999999999999,
          0.9999999999999999
         ],
         "dtick": 10,
         "tick0": 0,
         "tickcolor": "blue",
         "ticklen": 10,
         "ticks": "outside",
         "tickwidth": 2,
         "title": {
          "font": {
           "size": 16
          },
          "standoff": 7,
          "text": "Poisoned Clients in FL Env"
         }
        },
        "yaxis": {
         "anchor": "x",
         "domain": [
          0.55,
          1
         ],
         "dtick": 20,
         "tick0": 0,
         "tickcolor": "blue",
         "ticklen": 10,
         "ticks": "outside",
         "tickwidth": 2,
         "title": {
          "font": {
           "size": 16
          },
          "standoff": 5,
          "text": "Poisoned Class Mean Acc"
         }
        },
        "yaxis2": {
         "anchor": "x2",
         "domain": [
          0.55,
          1
         ],
         "dtick": 20,
         "matches": "y",
         "showticklabels": false,
         "tick0": 0,
         "tickcolor": "blue",
         "ticklen": 10,
         "ticks": "outside",
         "tickwidth": 2,
         "title": {
          "font": {
           "size": 16
          },
          "standoff": 5,
          "text": "Avg Class Mean Acc"
         }
        },
        "yaxis3": {
         "anchor": "x3",
         "domain": [
          0,
          0.45
         ],
         "dtick": 20,
         "tick0": 0,
         "tickcolor": "blue",
         "ticklen": 10,
         "ticks": "outside",
         "tickwidth": 2,
         "title": {
          "font": {
           "size": 16
          },
          "standoff": 5,
          "text": "Poisoned Class Mean F1"
         }
        },
        "yaxis4": {
         "anchor": "x4",
         "domain": [
          0,
          0.45
         ],
         "dtick": 20,
         "matches": "y3",
         "showticklabels": false,
         "tick0": 0,
         "tickcolor": "blue",
         "ticklen": 10,
         "ticks": "outside",
         "tickwidth": 2,
         "title": {
          "font": {
           "size": 16
          },
          "standoff": 5,
          "text": "Avg Class Mean F1"
         }
        }
       }
      }
     },
     "metadata": {},
     "output_type": "display_data"
    }
   ],
   "source": [
    "summary_file = 'cifar10_r4_results.json'\n",
    "res_fig_name = summary_file[:-5]\n",
    "result_data = get_data(json_folder + summary_file)\n",
    "fig = gen_acc_f1_plot_std(\"CIFAR10 CosDefence result for 4:1 ratio in client data distribution\", result_data, res_fig_name, save_html=False)\n",
    "fig.show()"
   ]
  },
  {
   "cell_type": "markdown",
   "id": "df741702",
   "metadata": {},
   "source": [
    "## Ratio 1:1 results"
   ]
  },
  {
   "cell_type": "code",
   "execution_count": 35,
   "id": "529e583c",
   "metadata": {},
   "outputs": [
    {
     "data": {
      "application/vnd.plotly.v1+json": {
       "config": {
        "plotlyServerURL": "https://plot.ly"
       },
       "data": [
        {
         "fill": "toself",
         "fillcolor": "rgba(255, 0, 0, 0.5)",
         "line": {
          "color": "rgba(255,255,255,0)"
         },
         "showlegend": false,
         "type": "scatter",
         "x": [
          0,
          10,
          20,
          30,
          40,
          50,
          60,
          60,
          50,
          40,
          30,
          20,
          10,
          0
         ],
         "xaxis": "x",
         "y": [
          94.94994324989001,
          87.80090336586454,
          79.99832774126122,
          74.72223142129911,
          60.139344797279215,
          45.546973824083146,
          20.899879875554557,
          7.42570151979428,
          35.8522509821184,
          48.00794202442622,
          68.2351329197862,
          76.7613621812194,
          85.34638345584088,
          94.3252505485596
         ],
         "yaxis": "y"
        },
        {
         "line": {
          "color": "red"
         },
         "mode": "lines+markers",
         "name": "off",
         "type": "scatter",
         "x": [
          0,
          10,
          20,
          30,
          40,
          50,
          60
         ],
         "xaxis": "x",
         "y": [
          94.6375968992248,
          86.57364341085271,
          78.37984496124031,
          71.47868217054265,
          54.07364341085272,
          40.69961240310077,
          14.162790697674419
         ],
         "yaxis": "y"
        },
        {
         "fill": "toself",
         "fillcolor": "rgba(0, 255, 0, 0.5)",
         "line": {
          "color": "rgba(255,255,255,0)"
         },
         "showlegend": false,
         "type": "scatter",
         "x": [
          0,
          10,
          20,
          30,
          40,
          50,
          60,
          60,
          50,
          40,
          30,
          20,
          10,
          0
         ],
         "xaxis": "x",
         "y": [
          94.99519332966793,
          93.59211737763815,
          92.41404837270164,
          91.34647157130667,
          94.39036873172603,
          87.32666100901018,
          20.65102132798259,
          1.9071182069011297,
          49.17333899098982,
          69.76079405897164,
          79.62252067675536,
          88.64409116218206,
          92.53578959910604,
          94.43116325947935
         ],
         "yaxis": "y"
        },
        {
         "line": {
          "color": "green"
         },
         "mode": "lines+markers",
         "name": "on",
         "type": "scatter",
         "x": [
          0,
          10,
          20,
          30,
          40,
          50,
          60
         ],
         "xaxis": "x",
         "y": [
          94.71317829457364,
          93.06395348837209,
          90.52906976744185,
          85.48449612403101,
          82.07558139534883,
          68.25,
          11.27906976744186
         ],
         "yaxis": "y"
        },
        {
         "fill": "toself",
         "fillcolor": "rgba(255, 0, 0, 0.5)",
         "line": {
          "color": "rgba(255,255,255,0)"
         },
         "showlegend": false,
         "type": "scatter",
         "x": [
          0,
          10,
          20,
          30,
          40,
          50,
          60,
          60,
          50,
          40,
          30,
          20,
          10,
          0
         ],
         "xaxis": "x2",
         "y": [
          95.71110312272164,
          94.96932262664689,
          94.35329599213385,
          93.76753947304934,
          92.19214478200595,
          90.64502568057443,
          88.12301392608384,
          86.72418607391617,
          89.67617431942557,
          90.88465521799407,
          92.97126052695066,
          93.79190400786617,
          94.56667737335312,
          95.43249687727835
         ],
         "yaxis": "y2"
        },
        {
         "line": {
          "color": "red"
         },
         "mode": "lines+markers",
         "showlegend": false,
         "type": "scatter",
         "x": [
          0,
          10,
          20,
          30,
          40,
          50,
          60
         ],
         "xaxis": "x2",
         "y": [
          95.5718,
          94.768,
          94.07260000000001,
          93.3694,
          91.53840000000001,
          90.1606,
          87.42360000000001
         ],
         "yaxis": "y2"
        },
        {
         "fill": "toself",
         "fillcolor": "rgba(0, 255, 0, 0.5)",
         "line": {
          "color": "rgba(255,255,255,0)"
         },
         "showlegend": false,
         "type": "scatter",
         "x": [
          0,
          10,
          20,
          30,
          40,
          50,
          60,
          60,
          50,
          40,
          30,
          20,
          10,
          0
         ],
         "xaxis": "x2",
         "y": [
          95.63163706188804,
          95.54405675306518,
          95.63322706067609,
          95.35012410678168,
          95.65528584750517,
          94.87732885243864,
          88.07492289777784,
          86.08387710222215,
          91.03187114756136,
          93.09391415249486,
          94.2354758932183,
          95.01237293932391,
          95.25714324693485,
          95.38876293811195
         ],
         "yaxis": "y2"
        },
        {
         "line": {
          "color": "green"
         },
         "mode": "lines+markers",
         "showlegend": false,
         "type": "scatter",
         "x": [
          0,
          10,
          20,
          30,
          40,
          50,
          60
         ],
         "xaxis": "x2",
         "y": [
          95.5102,
          95.40060000000001,
          95.3228,
          94.79279999999999,
          94.37460000000002,
          92.9546,
          87.07939999999999
         ],
         "yaxis": "y2"
        },
        {
         "fill": "toself",
         "fillcolor": "rgba(255, 0, 0, 0.5)",
         "line": {
          "color": "rgba(255,255,255,0)"
         },
         "showlegend": false,
         "type": "scatter",
         "x": [
          0,
          10,
          20,
          30,
          40,
          50,
          60,
          60,
          50,
          40,
          30,
          20,
          10,
          0
         ],
         "xaxis": "x3",
         "y": [
          95.66475848774596,
          92.76650558667367,
          87.53209358248587,
          84.01892602312864,
          68.7067107826853,
          53.3343088069079,
          27.848625060994397,
          11.630752333803688,
          41.48055517948907,
          54.52475028955813,
          77.36490030728947,
          84.69998057701874,
          90.67829414799874,
          95.26384797916288
         ],
         "yaxis": "y3"
        },
        {
         "line": {
          "color": "red"
         },
         "marker": {
          "symbol": "square"
         },
         "mode": "lines+markers",
         "name": "off",
         "type": "scatter",
         "x": [
          0,
          10,
          20,
          30,
          40,
          50,
          60
         ],
         "xaxis": "x3",
         "y": [
          95.46430323345442,
          91.72239986733621,
          86.1160370797523,
          80.69191316520906,
          61.61573053612172,
          47.407431993198486,
          19.739688697399043
         ],
         "yaxis": "y3"
        },
        {
         "fill": "toself",
         "fillcolor": "rgba(0, 255, 0, 0.5)",
         "line": {
          "color": "rgba(255,255,255,0)"
         },
         "showlegend": false,
         "type": "scatter",
         "x": [
          0,
          10,
          20,
          30,
          40,
          50,
          60,
          60,
          50,
          40,
          30,
          20,
          10,
          0
         ],
         "xaxis": "x3",
         "y": [
          95.71462429187349,
          95.38679209635656,
          94.77615640896603,
          95.29160201599582,
          98.29682976567679,
          92.1797597076897,
          24.1040504645636,
          2.799189661987974,
          53.06911998680485,
          75.14919034681725,
          84.73227894131524,
          92.67572181243996,
          94.74060358035639,
          95.38380672565111
         ],
         "yaxis": "y3"
        },
        {
         "line": {
          "color": "green"
         },
         "marker": {
          "symbol": "square"
         },
         "mode": "lines+markers",
         "name": "on",
         "type": "scatter",
         "x": [
          0,
          10,
          20,
          30,
          40,
          50,
          60
         ],
         "xaxis": "x3",
         "y": [
          95.5492155087623,
          95.06369783835648,
          93.725939110703,
          90.01194047865553,
          86.72301005624702,
          72.62443984724727,
          13.451620063275787
         ],
         "yaxis": "y3"
        },
        {
         "fill": "toself",
         "fillcolor": "rgba(255, 0, 0, 0.5)",
         "line": {
          "color": "rgba(255,255,255,0)"
         },
         "showlegend": false,
         "type": "scatter",
         "x": [
          0,
          10,
          20,
          30,
          40,
          50,
          60,
          60,
          50,
          40,
          30,
          20,
          10,
          0
         ],
         "xaxis": "x4",
         "y": [
          95.70679699980464,
          94.94807226786025,
          94.22441020354287,
          93.59044743900789,
          91.4647567605031,
          89.39540744798254,
          85.972497827929,
          83.92216984967402,
          87.9425659788744,
          89.61555749011065,
          92.56402863640135,
          93.59401450303045,
          94.49587202213104,
          95.42809028522369
         ],
         "yaxis": "y4"
        },
        {
         "line": {
          "color": "red"
         },
         "marker": {
          "symbol": "square"
         },
         "mode": "lines+markers",
         "showlegend": false,
         "type": "scatter",
         "x": [
          0,
          10,
          20,
          30,
          40,
          50,
          60
         ],
         "xaxis": "x4",
         "y": [
          95.56744364251416,
          94.72197214499565,
          93.90921235328666,
          93.07723803770462,
          90.54015712530688,
          88.66898671342847,
          84.94733383880151
         ],
         "yaxis": "y4"
        },
        {
         "fill": "toself",
         "fillcolor": "rgba(0, 255, 0, 0.5)",
         "line": {
          "color": "rgba(255,255,255,0)"
         },
         "showlegend": false,
         "type": "scatter",
         "x": [
          0,
          10,
          20,
          30,
          40,
          50,
          60,
          60,
          50,
          40,
          30,
          20,
          10,
          0
         ],
         "xaxis": "x4",
         "y": [
          95.62739013459873,
          95.5390939198357,
          95.62704489049216,
          95.40004558160693,
          95.8078761507134,
          94.86420340946822,
          85.67770944232488,
          82.89978832298586,
          89.63117467205493,
          92.50330685282565,
          93.94987611861971,
          94.97932373733343,
          95.25159526463048,
          95.38509253229995
         ],
         "yaxis": "y4"
        },
        {
         "line": {
          "color": "green"
         },
         "marker": {
          "symbol": "square"
         },
         "mode": "lines+markers",
         "showlegend": false,
         "type": "scatter",
         "x": [
          0,
          10,
          20,
          30,
          40,
          50,
          60
         ],
         "xaxis": "x4",
         "y": [
          95.50624133344934,
          95.39534459223309,
          95.3031843139128,
          94.67496085011332,
          94.15559150176952,
          92.24768904076157,
          84.28874888265537
         ],
         "yaxis": "y4"
        }
       ],
       "layout": {
        "height": 800,
        "legend": {
         "borderwidth": 2,
         "font": {
          "size": 12
         },
         "orientation": "h",
         "title": {
          "text": "CosDefence"
         },
         "x": 1,
         "xanchor": "right",
         "y": 1.02,
         "yanchor": "bottom"
        },
        "template": {
         "data": {
          "bar": [
           {
            "error_x": {
             "color": "#2a3f5f"
            },
            "error_y": {
             "color": "#2a3f5f"
            },
            "marker": {
             "line": {
              "color": "#E5ECF6",
              "width": 0.5
             }
            },
            "type": "bar"
           }
          ],
          "barpolar": [
           {
            "marker": {
             "line": {
              "color": "#E5ECF6",
              "width": 0.5
             }
            },
            "type": "barpolar"
           }
          ],
          "carpet": [
           {
            "aaxis": {
             "endlinecolor": "#2a3f5f",
             "gridcolor": "white",
             "linecolor": "white",
             "minorgridcolor": "white",
             "startlinecolor": "#2a3f5f"
            },
            "baxis": {
             "endlinecolor": "#2a3f5f",
             "gridcolor": "white",
             "linecolor": "white",
             "minorgridcolor": "white",
             "startlinecolor": "#2a3f5f"
            },
            "type": "carpet"
           }
          ],
          "choropleth": [
           {
            "colorbar": {
             "outlinewidth": 0,
             "ticks": ""
            },
            "type": "choropleth"
           }
          ],
          "contour": [
           {
            "colorbar": {
             "outlinewidth": 0,
             "ticks": ""
            },
            "colorscale": [
             [
              0,
              "#0d0887"
             ],
             [
              0.1111111111111111,
              "#46039f"
             ],
             [
              0.2222222222222222,
              "#7201a8"
             ],
             [
              0.3333333333333333,
              "#9c179e"
             ],
             [
              0.4444444444444444,
              "#bd3786"
             ],
             [
              0.5555555555555556,
              "#d8576b"
             ],
             [
              0.6666666666666666,
              "#ed7953"
             ],
             [
              0.7777777777777778,
              "#fb9f3a"
             ],
             [
              0.8888888888888888,
              "#fdca26"
             ],
             [
              1,
              "#f0f921"
             ]
            ],
            "type": "contour"
           }
          ],
          "contourcarpet": [
           {
            "colorbar": {
             "outlinewidth": 0,
             "ticks": ""
            },
            "type": "contourcarpet"
           }
          ],
          "heatmap": [
           {
            "colorbar": {
             "outlinewidth": 0,
             "ticks": ""
            },
            "colorscale": [
             [
              0,
              "#0d0887"
             ],
             [
              0.1111111111111111,
              "#46039f"
             ],
             [
              0.2222222222222222,
              "#7201a8"
             ],
             [
              0.3333333333333333,
              "#9c179e"
             ],
             [
              0.4444444444444444,
              "#bd3786"
             ],
             [
              0.5555555555555556,
              "#d8576b"
             ],
             [
              0.6666666666666666,
              "#ed7953"
             ],
             [
              0.7777777777777778,
              "#fb9f3a"
             ],
             [
              0.8888888888888888,
              "#fdca26"
             ],
             [
              1,
              "#f0f921"
             ]
            ],
            "type": "heatmap"
           }
          ],
          "heatmapgl": [
           {
            "colorbar": {
             "outlinewidth": 0,
             "ticks": ""
            },
            "colorscale": [
             [
              0,
              "#0d0887"
             ],
             [
              0.1111111111111111,
              "#46039f"
             ],
             [
              0.2222222222222222,
              "#7201a8"
             ],
             [
              0.3333333333333333,
              "#9c179e"
             ],
             [
              0.4444444444444444,
              "#bd3786"
             ],
             [
              0.5555555555555556,
              "#d8576b"
             ],
             [
              0.6666666666666666,
              "#ed7953"
             ],
             [
              0.7777777777777778,
              "#fb9f3a"
             ],
             [
              0.8888888888888888,
              "#fdca26"
             ],
             [
              1,
              "#f0f921"
             ]
            ],
            "type": "heatmapgl"
           }
          ],
          "histogram": [
           {
            "marker": {
             "colorbar": {
              "outlinewidth": 0,
              "ticks": ""
             }
            },
            "type": "histogram"
           }
          ],
          "histogram2d": [
           {
            "colorbar": {
             "outlinewidth": 0,
             "ticks": ""
            },
            "colorscale": [
             [
              0,
              "#0d0887"
             ],
             [
              0.1111111111111111,
              "#46039f"
             ],
             [
              0.2222222222222222,
              "#7201a8"
             ],
             [
              0.3333333333333333,
              "#9c179e"
             ],
             [
              0.4444444444444444,
              "#bd3786"
             ],
             [
              0.5555555555555556,
              "#d8576b"
             ],
             [
              0.6666666666666666,
              "#ed7953"
             ],
             [
              0.7777777777777778,
              "#fb9f3a"
             ],
             [
              0.8888888888888888,
              "#fdca26"
             ],
             [
              1,
              "#f0f921"
             ]
            ],
            "type": "histogram2d"
           }
          ],
          "histogram2dcontour": [
           {
            "colorbar": {
             "outlinewidth": 0,
             "ticks": ""
            },
            "colorscale": [
             [
              0,
              "#0d0887"
             ],
             [
              0.1111111111111111,
              "#46039f"
             ],
             [
              0.2222222222222222,
              "#7201a8"
             ],
             [
              0.3333333333333333,
              "#9c179e"
             ],
             [
              0.4444444444444444,
              "#bd3786"
             ],
             [
              0.5555555555555556,
              "#d8576b"
             ],
             [
              0.6666666666666666,
              "#ed7953"
             ],
             [
              0.7777777777777778,
              "#fb9f3a"
             ],
             [
              0.8888888888888888,
              "#fdca26"
             ],
             [
              1,
              "#f0f921"
             ]
            ],
            "type": "histogram2dcontour"
           }
          ],
          "mesh3d": [
           {
            "colorbar": {
             "outlinewidth": 0,
             "ticks": ""
            },
            "type": "mesh3d"
           }
          ],
          "parcoords": [
           {
            "line": {
             "colorbar": {
              "outlinewidth": 0,
              "ticks": ""
             }
            },
            "type": "parcoords"
           }
          ],
          "pie": [
           {
            "automargin": true,
            "type": "pie"
           }
          ],
          "scatter": [
           {
            "marker": {
             "colorbar": {
              "outlinewidth": 0,
              "ticks": ""
             }
            },
            "type": "scatter"
           }
          ],
          "scatter3d": [
           {
            "line": {
             "colorbar": {
              "outlinewidth": 0,
              "ticks": ""
             }
            },
            "marker": {
             "colorbar": {
              "outlinewidth": 0,
              "ticks": ""
             }
            },
            "type": "scatter3d"
           }
          ],
          "scattercarpet": [
           {
            "marker": {
             "colorbar": {
              "outlinewidth": 0,
              "ticks": ""
             }
            },
            "type": "scattercarpet"
           }
          ],
          "scattergeo": [
           {
            "marker": {
             "colorbar": {
              "outlinewidth": 0,
              "ticks": ""
             }
            },
            "type": "scattergeo"
           }
          ],
          "scattergl": [
           {
            "marker": {
             "colorbar": {
              "outlinewidth": 0,
              "ticks": ""
             }
            },
            "type": "scattergl"
           }
          ],
          "scattermapbox": [
           {
            "marker": {
             "colorbar": {
              "outlinewidth": 0,
              "ticks": ""
             }
            },
            "type": "scattermapbox"
           }
          ],
          "scatterpolar": [
           {
            "marker": {
             "colorbar": {
              "outlinewidth": 0,
              "ticks": ""
             }
            },
            "type": "scatterpolar"
           }
          ],
          "scatterpolargl": [
           {
            "marker": {
             "colorbar": {
              "outlinewidth": 0,
              "ticks": ""
             }
            },
            "type": "scatterpolargl"
           }
          ],
          "scatterternary": [
           {
            "marker": {
             "colorbar": {
              "outlinewidth": 0,
              "ticks": ""
             }
            },
            "type": "scatterternary"
           }
          ],
          "surface": [
           {
            "colorbar": {
             "outlinewidth": 0,
             "ticks": ""
            },
            "colorscale": [
             [
              0,
              "#0d0887"
             ],
             [
              0.1111111111111111,
              "#46039f"
             ],
             [
              0.2222222222222222,
              "#7201a8"
             ],
             [
              0.3333333333333333,
              "#9c179e"
             ],
             [
              0.4444444444444444,
              "#bd3786"
             ],
             [
              0.5555555555555556,
              "#d8576b"
             ],
             [
              0.6666666666666666,
              "#ed7953"
             ],
             [
              0.7777777777777778,
              "#fb9f3a"
             ],
             [
              0.8888888888888888,
              "#fdca26"
             ],
             [
              1,
              "#f0f921"
             ]
            ],
            "type": "surface"
           }
          ],
          "table": [
           {
            "cells": {
             "fill": {
              "color": "#EBF0F8"
             },
             "line": {
              "color": "white"
             }
            },
            "header": {
             "fill": {
              "color": "#C8D4E3"
             },
             "line": {
              "color": "white"
             }
            },
            "type": "table"
           }
          ]
         },
         "layout": {
          "annotationdefaults": {
           "arrowcolor": "#2a3f5f",
           "arrowhead": 0,
           "arrowwidth": 1
          },
          "autotypenumbers": "strict",
          "coloraxis": {
           "colorbar": {
            "outlinewidth": 0,
            "ticks": ""
           }
          },
          "colorscale": {
           "diverging": [
            [
             0,
             "#8e0152"
            ],
            [
             0.1,
             "#c51b7d"
            ],
            [
             0.2,
             "#de77ae"
            ],
            [
             0.3,
             "#f1b6da"
            ],
            [
             0.4,
             "#fde0ef"
            ],
            [
             0.5,
             "#f7f7f7"
            ],
            [
             0.6,
             "#e6f5d0"
            ],
            [
             0.7,
             "#b8e186"
            ],
            [
             0.8,
             "#7fbc41"
            ],
            [
             0.9,
             "#4d9221"
            ],
            [
             1,
             "#276419"
            ]
           ],
           "sequential": [
            [
             0,
             "#0d0887"
            ],
            [
             0.1111111111111111,
             "#46039f"
            ],
            [
             0.2222222222222222,
             "#7201a8"
            ],
            [
             0.3333333333333333,
             "#9c179e"
            ],
            [
             0.4444444444444444,
             "#bd3786"
            ],
            [
             0.5555555555555556,
             "#d8576b"
            ],
            [
             0.6666666666666666,
             "#ed7953"
            ],
            [
             0.7777777777777778,
             "#fb9f3a"
            ],
            [
             0.8888888888888888,
             "#fdca26"
            ],
            [
             1,
             "#f0f921"
            ]
           ],
           "sequentialminus": [
            [
             0,
             "#0d0887"
            ],
            [
             0.1111111111111111,
             "#46039f"
            ],
            [
             0.2222222222222222,
             "#7201a8"
            ],
            [
             0.3333333333333333,
             "#9c179e"
            ],
            [
             0.4444444444444444,
             "#bd3786"
            ],
            [
             0.5555555555555556,
             "#d8576b"
            ],
            [
             0.6666666666666666,
             "#ed7953"
            ],
            [
             0.7777777777777778,
             "#fb9f3a"
            ],
            [
             0.8888888888888888,
             "#fdca26"
            ],
            [
             1,
             "#f0f921"
            ]
           ]
          },
          "colorway": [
           "#636efa",
           "#EF553B",
           "#00cc96",
           "#ab63fa",
           "#FFA15A",
           "#19d3f3",
           "#FF6692",
           "#B6E880",
           "#FF97FF",
           "#FECB52"
          ],
          "font": {
           "color": "#2a3f5f"
          },
          "geo": {
           "bgcolor": "white",
           "lakecolor": "white",
           "landcolor": "#E5ECF6",
           "showlakes": true,
           "showland": true,
           "subunitcolor": "white"
          },
          "hoverlabel": {
           "align": "left"
          },
          "hovermode": "closest",
          "mapbox": {
           "style": "light"
          },
          "paper_bgcolor": "white",
          "plot_bgcolor": "#E5ECF6",
          "polar": {
           "angularaxis": {
            "gridcolor": "white",
            "linecolor": "white",
            "ticks": ""
           },
           "bgcolor": "#E5ECF6",
           "radialaxis": {
            "gridcolor": "white",
            "linecolor": "white",
            "ticks": ""
           }
          },
          "scene": {
           "xaxis": {
            "backgroundcolor": "#E5ECF6",
            "gridcolor": "white",
            "gridwidth": 2,
            "linecolor": "white",
            "showbackground": true,
            "ticks": "",
            "zerolinecolor": "white"
           },
           "yaxis": {
            "backgroundcolor": "#E5ECF6",
            "gridcolor": "white",
            "gridwidth": 2,
            "linecolor": "white",
            "showbackground": true,
            "ticks": "",
            "zerolinecolor": "white"
           },
           "zaxis": {
            "backgroundcolor": "#E5ECF6",
            "gridcolor": "white",
            "gridwidth": 2,
            "linecolor": "white",
            "showbackground": true,
            "ticks": "",
            "zerolinecolor": "white"
           }
          },
          "shapedefaults": {
           "line": {
            "color": "#2a3f5f"
           }
          },
          "ternary": {
           "aaxis": {
            "gridcolor": "white",
            "linecolor": "white",
            "ticks": ""
           },
           "baxis": {
            "gridcolor": "white",
            "linecolor": "white",
            "ticks": ""
           },
           "bgcolor": "#E5ECF6",
           "caxis": {
            "gridcolor": "white",
            "linecolor": "white",
            "ticks": ""
           }
          },
          "title": {
           "x": 0.05
          },
          "xaxis": {
           "automargin": true,
           "gridcolor": "white",
           "linecolor": "white",
           "ticks": "",
           "title": {
            "standoff": 15
           },
           "zerolinecolor": "white",
           "zerolinewidth": 2
          },
          "yaxis": {
           "automargin": true,
           "gridcolor": "white",
           "linecolor": "white",
           "ticks": "",
           "title": {
            "standoff": 15
           },
           "zerolinecolor": "white",
           "zerolinewidth": 2
          }
         }
        },
        "title": {
         "text": "MNIST CosDefence result for 1:1 ratio in client data distribution"
        },
        "width": 1200,
        "xaxis": {
         "anchor": "y",
         "domain": [
          0,
          0.46499999999999997
         ],
         "dtick": 10,
         "matches": "x3",
         "showticklabels": false,
         "tick0": 0,
         "tickcolor": "blue",
         "ticklen": 10,
         "ticks": "outside",
         "tickwidth": 2,
         "title": {
          "font": {
           "size": 16
          },
          "standoff": 7,
          "text": "Poisoned Clients in FL Env"
         }
        },
        "xaxis2": {
         "anchor": "y2",
         "domain": [
          0.5349999999999999,
          0.9999999999999999
         ],
         "dtick": 10,
         "matches": "x4",
         "showticklabels": false,
         "tick0": 0,
         "tickcolor": "blue",
         "ticklen": 10,
         "ticks": "outside",
         "tickwidth": 2,
         "title": {
          "font": {
           "size": 16
          },
          "standoff": 7,
          "text": "Poisoned Clients in FL Env"
         }
        },
        "xaxis3": {
         "anchor": "y3",
         "domain": [
          0,
          0.46499999999999997
         ],
         "dtick": 10,
         "tick0": 0,
         "tickcolor": "blue",
         "ticklen": 10,
         "ticks": "outside",
         "tickwidth": 2,
         "title": {
          "font": {
           "size": 16
          },
          "standoff": 7,
          "text": "Poisoned Clients in FL Env"
         }
        },
        "xaxis4": {
         "anchor": "y4",
         "domain": [
          0.5349999999999999,
          0.9999999999999999
         ],
         "dtick": 10,
         "tick0": 0,
         "tickcolor": "blue",
         "ticklen": 10,
         "ticks": "outside",
         "tickwidth": 2,
         "title": {
          "font": {
           "size": 16
          },
          "standoff": 7,
          "text": "Poisoned Clients in FL Env"
         }
        },
        "yaxis": {
         "anchor": "x",
         "domain": [
          0.55,
          1
         ],
         "dtick": 20,
         "tick0": 0,
         "tickcolor": "blue",
         "ticklen": 10,
         "ticks": "outside",
         "tickwidth": 2,
         "title": {
          "font": {
           "size": 16
          },
          "standoff": 5,
          "text": "Poisoned Class Mean Acc"
         }
        },
        "yaxis2": {
         "anchor": "x2",
         "domain": [
          0.55,
          1
         ],
         "dtick": 20,
         "matches": "y",
         "showticklabels": false,
         "tick0": 0,
         "tickcolor": "blue",
         "ticklen": 10,
         "ticks": "outside",
         "tickwidth": 2,
         "title": {
          "font": {
           "size": 16
          },
          "standoff": 5,
          "text": "Avg Class Mean Acc"
         }
        },
        "yaxis3": {
         "anchor": "x3",
         "domain": [
          0,
          0.45
         ],
         "dtick": 20,
         "tick0": 0,
         "tickcolor": "blue",
         "ticklen": 10,
         "ticks": "outside",
         "tickwidth": 2,
         "title": {
          "font": {
           "size": 16
          },
          "standoff": 5,
          "text": "Poisoned Class Mean F1"
         }
        },
        "yaxis4": {
         "anchor": "x4",
         "domain": [
          0,
          0.45
         ],
         "dtick": 20,
         "matches": "y3",
         "showticklabels": false,
         "tick0": 0,
         "tickcolor": "blue",
         "ticklen": 10,
         "ticks": "outside",
         "tickwidth": 2,
         "title": {
          "font": {
           "size": 16
          },
          "standoff": 5,
          "text": "Avg Class Mean F1"
         }
        }
       }
      }
     },
     "metadata": {},
     "output_type": "display_data"
    }
   ],
   "source": [
    "summary_file = 'mnist_r1_results.json'\n",
    "res_fig_name = summary_file[:-5]\n",
    "result_data = get_data(json_folder + summary_file)\n",
    "fig = gen_acc_f1_plot_std(\"MNIST CosDefence result for 1:1 ratio in client data distribution\", result_data, res_fig_name, save_html=False)\n",
    "fig.show()"
   ]
  },
  {
   "cell_type": "code",
   "execution_count": 36,
   "id": "948cf66c",
   "metadata": {},
   "outputs": [
    {
     "data": {
      "application/vnd.plotly.v1+json": {
       "config": {
        "plotlyServerURL": "https://plot.ly"
       },
       "data": [
        {
         "fill": "toself",
         "fillcolor": "rgba(255, 0, 0, 0.5)",
         "line": {
          "color": "rgba(255,255,255,0)"
         },
         "showlegend": false,
         "type": "scatter",
         "x": [
          0,
          10,
          20,
          30,
          40,
          50,
          60,
          60,
          50,
          40,
          30,
          20,
          10,
          0
         ],
         "xaxis": "x",
         "y": [
          78.16870049463546,
          72.78606805753921,
          67.62164887758742,
          54.97002009446719,
          45.21336468178692,
          27.087928150718252,
          6.192495036708014,
          2.5155049632919866,
          17.568071849281754,
          30.90463531821309,
          50.739979905532806,
          62.612351122412555,
          70.91993194246078,
          76.73329950536453
         ],
         "yaxis": "y"
        },
        {
         "line": {
          "color": "red"
         },
         "mode": "lines+markers",
         "name": "off",
         "type": "scatter",
         "x": [
          0,
          10,
          20,
          30,
          40,
          50,
          60
         ],
         "xaxis": "x",
         "y": [
          77.451,
          71.853,
          65.11699999999999,
          52.855,
          38.059000000000005,
          22.328000000000003,
          4.354
         ],
         "yaxis": "y"
        },
        {
         "fill": "toself",
         "fillcolor": "rgba(0, 255, 0, 0.5)",
         "line": {
          "color": "rgba(255,255,255,0)"
         },
         "showlegend": false,
         "type": "scatter",
         "x": [
          0,
          10,
          20,
          30,
          40,
          50,
          60,
          60,
          50,
          40,
          30,
          20,
          10,
          0
         ],
         "xaxis": "x",
         "y": [
          78.51573985527973,
          77.59812679703127,
          79.04130568754593,
          76.24723024788733,
          83.83908817566783,
          86.599958328706,
          10.82327862267771,
          -3.55127862267771,
          32.19804167129401,
          40.300911824332196,
          73.63676975211268,
          75.1186943124541,
          76.49387320296874,
          76.39026014472027
         ],
         "yaxis": "y"
        },
        {
         "line": {
          "color": "green"
         },
         "mode": "lines+markers",
         "name": "on",
         "type": "scatter",
         "x": [
          0,
          10,
          20,
          30,
          40,
          50,
          60
         ],
         "xaxis": "x",
         "y": [
          77.453,
          77.046,
          77.08000000000001,
          74.94200000000001,
          62.07000000000001,
          59.399,
          3.636
         ],
         "yaxis": "y"
        },
        {
         "fill": "toself",
         "fillcolor": "rgba(255, 0, 0, 0.5)",
         "line": {
          "color": "rgba(255,255,255,0)"
         },
         "showlegend": false,
         "type": "scatter",
         "x": [
          0,
          10,
          20,
          30,
          40,
          50,
          60,
          60,
          50,
          40,
          30,
          20,
          10,
          0
         ],
         "xaxis": "x2",
         "y": [
          86.76154831244966,
          86.54712522814884,
          86.59807357804945,
          84.86697086983216,
          84.62611949163829,
          82.33845960458042,
          80.57453584063201,
          79.97406415936801,
          81.2975403954196,
          81.98548050836172,
          84.13682913016785,
          85.25792642195054,
          85.71707477185114,
          85.83565168755032
         ],
         "yaxis": "y2"
        },
        {
         "line": {
          "color": "red"
         },
         "mode": "lines+markers",
         "showlegend": false,
         "type": "scatter",
         "x": [
          0,
          10,
          20,
          30,
          40,
          50,
          60
         ],
         "xaxis": "x2",
         "y": [
          86.2986,
          86.1321,
          85.928,
          84.5019,
          83.3058,
          81.81800000000001,
          80.27430000000001
         ],
         "yaxis": "y2"
        },
        {
         "fill": "toself",
         "fillcolor": "rgba(0, 255, 0, 0.5)",
         "line": {
          "color": "rgba(255,255,255,0)"
         },
         "showlegend": false,
         "type": "scatter",
         "x": [
          0,
          10,
          20,
          30,
          40,
          50,
          60,
          60,
          50,
          40,
          30,
          20,
          10,
          0
         ],
         "xaxis": "x2",
         "y": [
          86.76795838920883,
          86.74688309082971,
          87.05052726784534,
          86.02073731280674,
          86.72305514226372,
          87.16033762764944,
          80.27140882287613,
          78.35139117712389,
          81.5896623723505,
          82.56194485773628,
          85.46566268719323,
          85.78087273215463,
          85.89351690917029,
          85.75504161079117
         ],
         "yaxis": "y2"
        },
        {
         "line": {
          "color": "green"
         },
         "mode": "lines+markers",
         "showlegend": false,
         "type": "scatter",
         "x": [
          0,
          10,
          20,
          30,
          40,
          50,
          60
         ],
         "xaxis": "x2",
         "y": [
          86.2615,
          86.3202,
          86.41569999999999,
          85.74319999999999,
          84.6425,
          84.37499999999997,
          79.3114
         ],
         "yaxis": "y2"
        },
        {
         "fill": "toself",
         "fillcolor": "rgba(255, 0, 0, 0.5)",
         "line": {
          "color": "rgba(255,255,255,0)"
         },
         "showlegend": false,
         "type": "scatter",
         "x": [
          0,
          10,
          20,
          30,
          40,
          50,
          60,
          60,
          50,
          40,
          30,
          20,
          10,
          0
         ],
         "xaxis": "x3",
         "y": [
          78.5077617152576,
          76.73935152972442,
          75.70569640266615,
          66.34771981764236,
          57.686792459606735,
          35.301291683418285,
          9.27394636166234,
          4.047573223331327,
          25.432784992620586,
          41.135523463066804,
          63.21147204445005,
          71.3535347572705,
          75.15748364732443,
          76.8147136293621
         ],
         "yaxis": "y3"
        },
        {
         "line": {
          "color": "red"
         },
         "marker": {
          "symbol": "square"
         },
         "mode": "lines+markers",
         "name": "off",
         "type": "scatter",
         "x": [
          0,
          10,
          20,
          30,
          40,
          50,
          60
         ],
         "xaxis": "x3",
         "y": [
          77.66123767230985,
          75.94841758852442,
          73.52961557996832,
          64.7795959310462,
          49.41115796133677,
          30.367038338019437,
          6.660759792496833
         ],
         "yaxis": "y3"
        },
        {
         "fill": "toself",
         "fillcolor": "rgba(0, 255, 0, 0.5)",
         "line": {
          "color": "rgba(255,255,255,0)"
         },
         "showlegend": false,
         "type": "scatter",
         "x": [
          0,
          10,
          20,
          30,
          40,
          50,
          60,
          60,
          50,
          40,
          30,
          20,
          10,
          0
         ],
         "xaxis": "x3",
         "y": [
          78.57844288215331,
          78.0954458277772,
          79.48055869726903,
          76.31817595649883,
          83.757403487752,
          86.77661139229441,
          13.17955118682561,
          -4.282141089194776,
          32.91426921695296,
          44.253193532127895,
          75.1933755282972,
          75.80946269541073,
          76.92690266385249,
          76.79907091074485
         ],
         "yaxis": "y3"
        },
        {
         "line": {
          "color": "green"
         },
         "marker": {
          "symbol": "square"
         },
         "mode": "lines+markers",
         "name": "on",
         "type": "scatter",
         "x": [
          0,
          10,
          20,
          30,
          40,
          50,
          60
         ],
         "xaxis": "x3",
         "y": [
          77.68875689644908,
          77.51117424581484,
          77.64501069633988,
          75.75577574239801,
          64.00529850993995,
          59.845440304623686,
          4.448705048815417
         ],
         "yaxis": "y3"
        },
        {
         "fill": "toself",
         "fillcolor": "rgba(255, 0, 0, 0.5)",
         "line": {
          "color": "rgba(255,255,255,0)"
         },
         "showlegend": false,
         "type": "scatter",
         "x": [
          0,
          10,
          20,
          30,
          40,
          50,
          60,
          60,
          50,
          40,
          30,
          20,
          10,
          0
         ],
         "xaxis": "x4",
         "y": [
          86.62955682564389,
          86.43800603933195,
          86.53779346927742,
          84.60918213798328,
          84.06749151051284,
          80.66261773946866,
          77.74013230909212,
          76.7994624264157,
          79.48278075898739,
          80.89356706828067,
          83.86749159188187,
          85.08126361547106,
          85.60808854247193,
          85.70936895876433
         ],
         "yaxis": "y4"
        },
        {
         "line": {
          "color": "red"
         },
         "marker": {
          "symbol": "square"
         },
         "mode": "lines+markers",
         "showlegend": false,
         "type": "scatter",
         "x": [
          0,
          10,
          20,
          30,
          40,
          50,
          60
         ],
         "xaxis": "x4",
         "y": [
          86.16946289220411,
          86.02304729090194,
          85.80952854237424,
          84.23833686493258,
          82.48052928939676,
          80.07269924922802,
          77.26979736775391
         ],
         "yaxis": "y4"
        },
        {
         "fill": "toself",
         "fillcolor": "rgba(0, 255, 0, 0.5)",
         "line": {
          "color": "rgba(255,255,255,0)"
         },
         "showlegend": false,
         "type": "scatter",
         "x": [
          0,
          10,
          20,
          30,
          40,
          50,
          60,
          60,
          50,
          40,
          30,
          20,
          10,
          0
         ],
         "xaxis": "x4",
         "y": [
          86.63745504467407,
          86.6510295886382,
          87.00583121268532,
          85.90840954007665,
          86.87913258026092,
          87.53659085817895,
          77.5505775660363,
          74.7211710952377,
          79.73766569330704,
          81.30330662494234,
          85.37292271397543,
          85.63745509228484,
          85.79827626799367,
          85.63905815886177
         ],
         "yaxis": "y4"
        },
        {
         "line": {
          "color": "green"
         },
         "marker": {
          "symbol": "square"
         },
         "mode": "lines+markers",
         "showlegend": false,
         "type": "scatter",
         "x": [
          0,
          10,
          20,
          30,
          40,
          50,
          60
         ],
         "xaxis": "x4",
         "y": [
          86.13825660176792,
          86.22465292831593,
          86.32164315248508,
          85.64066612702604,
          84.09121960260163,
          83.637128275743,
          76.135874330637
         ],
         "yaxis": "y4"
        }
       ],
       "layout": {
        "height": 800,
        "legend": {
         "borderwidth": 2,
         "font": {
          "size": 12
         },
         "orientation": "h",
         "title": {
          "text": "CosDefence"
         },
         "x": 1,
         "xanchor": "right",
         "y": 1.02,
         "yanchor": "bottom"
        },
        "template": {
         "data": {
          "bar": [
           {
            "error_x": {
             "color": "#2a3f5f"
            },
            "error_y": {
             "color": "#2a3f5f"
            },
            "marker": {
             "line": {
              "color": "#E5ECF6",
              "width": 0.5
             }
            },
            "type": "bar"
           }
          ],
          "barpolar": [
           {
            "marker": {
             "line": {
              "color": "#E5ECF6",
              "width": 0.5
             }
            },
            "type": "barpolar"
           }
          ],
          "carpet": [
           {
            "aaxis": {
             "endlinecolor": "#2a3f5f",
             "gridcolor": "white",
             "linecolor": "white",
             "minorgridcolor": "white",
             "startlinecolor": "#2a3f5f"
            },
            "baxis": {
             "endlinecolor": "#2a3f5f",
             "gridcolor": "white",
             "linecolor": "white",
             "minorgridcolor": "white",
             "startlinecolor": "#2a3f5f"
            },
            "type": "carpet"
           }
          ],
          "choropleth": [
           {
            "colorbar": {
             "outlinewidth": 0,
             "ticks": ""
            },
            "type": "choropleth"
           }
          ],
          "contour": [
           {
            "colorbar": {
             "outlinewidth": 0,
             "ticks": ""
            },
            "colorscale": [
             [
              0,
              "#0d0887"
             ],
             [
              0.1111111111111111,
              "#46039f"
             ],
             [
              0.2222222222222222,
              "#7201a8"
             ],
             [
              0.3333333333333333,
              "#9c179e"
             ],
             [
              0.4444444444444444,
              "#bd3786"
             ],
             [
              0.5555555555555556,
              "#d8576b"
             ],
             [
              0.6666666666666666,
              "#ed7953"
             ],
             [
              0.7777777777777778,
              "#fb9f3a"
             ],
             [
              0.8888888888888888,
              "#fdca26"
             ],
             [
              1,
              "#f0f921"
             ]
            ],
            "type": "contour"
           }
          ],
          "contourcarpet": [
           {
            "colorbar": {
             "outlinewidth": 0,
             "ticks": ""
            },
            "type": "contourcarpet"
           }
          ],
          "heatmap": [
           {
            "colorbar": {
             "outlinewidth": 0,
             "ticks": ""
            },
            "colorscale": [
             [
              0,
              "#0d0887"
             ],
             [
              0.1111111111111111,
              "#46039f"
             ],
             [
              0.2222222222222222,
              "#7201a8"
             ],
             [
              0.3333333333333333,
              "#9c179e"
             ],
             [
              0.4444444444444444,
              "#bd3786"
             ],
             [
              0.5555555555555556,
              "#d8576b"
             ],
             [
              0.6666666666666666,
              "#ed7953"
             ],
             [
              0.7777777777777778,
              "#fb9f3a"
             ],
             [
              0.8888888888888888,
              "#fdca26"
             ],
             [
              1,
              "#f0f921"
             ]
            ],
            "type": "heatmap"
           }
          ],
          "heatmapgl": [
           {
            "colorbar": {
             "outlinewidth": 0,
             "ticks": ""
            },
            "colorscale": [
             [
              0,
              "#0d0887"
             ],
             [
              0.1111111111111111,
              "#46039f"
             ],
             [
              0.2222222222222222,
              "#7201a8"
             ],
             [
              0.3333333333333333,
              "#9c179e"
             ],
             [
              0.4444444444444444,
              "#bd3786"
             ],
             [
              0.5555555555555556,
              "#d8576b"
             ],
             [
              0.6666666666666666,
              "#ed7953"
             ],
             [
              0.7777777777777778,
              "#fb9f3a"
             ],
             [
              0.8888888888888888,
              "#fdca26"
             ],
             [
              1,
              "#f0f921"
             ]
            ],
            "type": "heatmapgl"
           }
          ],
          "histogram": [
           {
            "marker": {
             "colorbar": {
              "outlinewidth": 0,
              "ticks": ""
             }
            },
            "type": "histogram"
           }
          ],
          "histogram2d": [
           {
            "colorbar": {
             "outlinewidth": 0,
             "ticks": ""
            },
            "colorscale": [
             [
              0,
              "#0d0887"
             ],
             [
              0.1111111111111111,
              "#46039f"
             ],
             [
              0.2222222222222222,
              "#7201a8"
             ],
             [
              0.3333333333333333,
              "#9c179e"
             ],
             [
              0.4444444444444444,
              "#bd3786"
             ],
             [
              0.5555555555555556,
              "#d8576b"
             ],
             [
              0.6666666666666666,
              "#ed7953"
             ],
             [
              0.7777777777777778,
              "#fb9f3a"
             ],
             [
              0.8888888888888888,
              "#fdca26"
             ],
             [
              1,
              "#f0f921"
             ]
            ],
            "type": "histogram2d"
           }
          ],
          "histogram2dcontour": [
           {
            "colorbar": {
             "outlinewidth": 0,
             "ticks": ""
            },
            "colorscale": [
             [
              0,
              "#0d0887"
             ],
             [
              0.1111111111111111,
              "#46039f"
             ],
             [
              0.2222222222222222,
              "#7201a8"
             ],
             [
              0.3333333333333333,
              "#9c179e"
             ],
             [
              0.4444444444444444,
              "#bd3786"
             ],
             [
              0.5555555555555556,
              "#d8576b"
             ],
             [
              0.6666666666666666,
              "#ed7953"
             ],
             [
              0.7777777777777778,
              "#fb9f3a"
             ],
             [
              0.8888888888888888,
              "#fdca26"
             ],
             [
              1,
              "#f0f921"
             ]
            ],
            "type": "histogram2dcontour"
           }
          ],
          "mesh3d": [
           {
            "colorbar": {
             "outlinewidth": 0,
             "ticks": ""
            },
            "type": "mesh3d"
           }
          ],
          "parcoords": [
           {
            "line": {
             "colorbar": {
              "outlinewidth": 0,
              "ticks": ""
             }
            },
            "type": "parcoords"
           }
          ],
          "pie": [
           {
            "automargin": true,
            "type": "pie"
           }
          ],
          "scatter": [
           {
            "marker": {
             "colorbar": {
              "outlinewidth": 0,
              "ticks": ""
             }
            },
            "type": "scatter"
           }
          ],
          "scatter3d": [
           {
            "line": {
             "colorbar": {
              "outlinewidth": 0,
              "ticks": ""
             }
            },
            "marker": {
             "colorbar": {
              "outlinewidth": 0,
              "ticks": ""
             }
            },
            "type": "scatter3d"
           }
          ],
          "scattercarpet": [
           {
            "marker": {
             "colorbar": {
              "outlinewidth": 0,
              "ticks": ""
             }
            },
            "type": "scattercarpet"
           }
          ],
          "scattergeo": [
           {
            "marker": {
             "colorbar": {
              "outlinewidth": 0,
              "ticks": ""
             }
            },
            "type": "scattergeo"
           }
          ],
          "scattergl": [
           {
            "marker": {
             "colorbar": {
              "outlinewidth": 0,
              "ticks": ""
             }
            },
            "type": "scattergl"
           }
          ],
          "scattermapbox": [
           {
            "marker": {
             "colorbar": {
              "outlinewidth": 0,
              "ticks": ""
             }
            },
            "type": "scattermapbox"
           }
          ],
          "scatterpolar": [
           {
            "marker": {
             "colorbar": {
              "outlinewidth": 0,
              "ticks": ""
             }
            },
            "type": "scatterpolar"
           }
          ],
          "scatterpolargl": [
           {
            "marker": {
             "colorbar": {
              "outlinewidth": 0,
              "ticks": ""
             }
            },
            "type": "scatterpolargl"
           }
          ],
          "scatterternary": [
           {
            "marker": {
             "colorbar": {
              "outlinewidth": 0,
              "ticks": ""
             }
            },
            "type": "scatterternary"
           }
          ],
          "surface": [
           {
            "colorbar": {
             "outlinewidth": 0,
             "ticks": ""
            },
            "colorscale": [
             [
              0,
              "#0d0887"
             ],
             [
              0.1111111111111111,
              "#46039f"
             ],
             [
              0.2222222222222222,
              "#7201a8"
             ],
             [
              0.3333333333333333,
              "#9c179e"
             ],
             [
              0.4444444444444444,
              "#bd3786"
             ],
             [
              0.5555555555555556,
              "#d8576b"
             ],
             [
              0.6666666666666666,
              "#ed7953"
             ],
             [
              0.7777777777777778,
              "#fb9f3a"
             ],
             [
              0.8888888888888888,
              "#fdca26"
             ],
             [
              1,
              "#f0f921"
             ]
            ],
            "type": "surface"
           }
          ],
          "table": [
           {
            "cells": {
             "fill": {
              "color": "#EBF0F8"
             },
             "line": {
              "color": "white"
             }
            },
            "header": {
             "fill": {
              "color": "#C8D4E3"
             },
             "line": {
              "color": "white"
             }
            },
            "type": "table"
           }
          ]
         },
         "layout": {
          "annotationdefaults": {
           "arrowcolor": "#2a3f5f",
           "arrowhead": 0,
           "arrowwidth": 1
          },
          "autotypenumbers": "strict",
          "coloraxis": {
           "colorbar": {
            "outlinewidth": 0,
            "ticks": ""
           }
          },
          "colorscale": {
           "diverging": [
            [
             0,
             "#8e0152"
            ],
            [
             0.1,
             "#c51b7d"
            ],
            [
             0.2,
             "#de77ae"
            ],
            [
             0.3,
             "#f1b6da"
            ],
            [
             0.4,
             "#fde0ef"
            ],
            [
             0.5,
             "#f7f7f7"
            ],
            [
             0.6,
             "#e6f5d0"
            ],
            [
             0.7,
             "#b8e186"
            ],
            [
             0.8,
             "#7fbc41"
            ],
            [
             0.9,
             "#4d9221"
            ],
            [
             1,
             "#276419"
            ]
           ],
           "sequential": [
            [
             0,
             "#0d0887"
            ],
            [
             0.1111111111111111,
             "#46039f"
            ],
            [
             0.2222222222222222,
             "#7201a8"
            ],
            [
             0.3333333333333333,
             "#9c179e"
            ],
            [
             0.4444444444444444,
             "#bd3786"
            ],
            [
             0.5555555555555556,
             "#d8576b"
            ],
            [
             0.6666666666666666,
             "#ed7953"
            ],
            [
             0.7777777777777778,
             "#fb9f3a"
            ],
            [
             0.8888888888888888,
             "#fdca26"
            ],
            [
             1,
             "#f0f921"
            ]
           ],
           "sequentialminus": [
            [
             0,
             "#0d0887"
            ],
            [
             0.1111111111111111,
             "#46039f"
            ],
            [
             0.2222222222222222,
             "#7201a8"
            ],
            [
             0.3333333333333333,
             "#9c179e"
            ],
            [
             0.4444444444444444,
             "#bd3786"
            ],
            [
             0.5555555555555556,
             "#d8576b"
            ],
            [
             0.6666666666666666,
             "#ed7953"
            ],
            [
             0.7777777777777778,
             "#fb9f3a"
            ],
            [
             0.8888888888888888,
             "#fdca26"
            ],
            [
             1,
             "#f0f921"
            ]
           ]
          },
          "colorway": [
           "#636efa",
           "#EF553B",
           "#00cc96",
           "#ab63fa",
           "#FFA15A",
           "#19d3f3",
           "#FF6692",
           "#B6E880",
           "#FF97FF",
           "#FECB52"
          ],
          "font": {
           "color": "#2a3f5f"
          },
          "geo": {
           "bgcolor": "white",
           "lakecolor": "white",
           "landcolor": "#E5ECF6",
           "showlakes": true,
           "showland": true,
           "subunitcolor": "white"
          },
          "hoverlabel": {
           "align": "left"
          },
          "hovermode": "closest",
          "mapbox": {
           "style": "light"
          },
          "paper_bgcolor": "white",
          "plot_bgcolor": "#E5ECF6",
          "polar": {
           "angularaxis": {
            "gridcolor": "white",
            "linecolor": "white",
            "ticks": ""
           },
           "bgcolor": "#E5ECF6",
           "radialaxis": {
            "gridcolor": "white",
            "linecolor": "white",
            "ticks": ""
           }
          },
          "scene": {
           "xaxis": {
            "backgroundcolor": "#E5ECF6",
            "gridcolor": "white",
            "gridwidth": 2,
            "linecolor": "white",
            "showbackground": true,
            "ticks": "",
            "zerolinecolor": "white"
           },
           "yaxis": {
            "backgroundcolor": "#E5ECF6",
            "gridcolor": "white",
            "gridwidth": 2,
            "linecolor": "white",
            "showbackground": true,
            "ticks": "",
            "zerolinecolor": "white"
           },
           "zaxis": {
            "backgroundcolor": "#E5ECF6",
            "gridcolor": "white",
            "gridwidth": 2,
            "linecolor": "white",
            "showbackground": true,
            "ticks": "",
            "zerolinecolor": "white"
           }
          },
          "shapedefaults": {
           "line": {
            "color": "#2a3f5f"
           }
          },
          "ternary": {
           "aaxis": {
            "gridcolor": "white",
            "linecolor": "white",
            "ticks": ""
           },
           "baxis": {
            "gridcolor": "white",
            "linecolor": "white",
            "ticks": ""
           },
           "bgcolor": "#E5ECF6",
           "caxis": {
            "gridcolor": "white",
            "linecolor": "white",
            "ticks": ""
           }
          },
          "title": {
           "x": 0.05
          },
          "xaxis": {
           "automargin": true,
           "gridcolor": "white",
           "linecolor": "white",
           "ticks": "",
           "title": {
            "standoff": 15
           },
           "zerolinecolor": "white",
           "zerolinewidth": 2
          },
          "yaxis": {
           "automargin": true,
           "gridcolor": "white",
           "linecolor": "white",
           "ticks": "",
           "title": {
            "standoff": 15
           },
           "zerolinecolor": "white",
           "zerolinewidth": 2
          }
         }
        },
        "title": {
         "text": "FMNIST CosDefence result for 1:1 ratio in client data distribution"
        },
        "width": 1200,
        "xaxis": {
         "anchor": "y",
         "domain": [
          0,
          0.46499999999999997
         ],
         "dtick": 10,
         "matches": "x3",
         "showticklabels": false,
         "tick0": 0,
         "tickcolor": "blue",
         "ticklen": 10,
         "ticks": "outside",
         "tickwidth": 2,
         "title": {
          "font": {
           "size": 16
          },
          "standoff": 7,
          "text": "Poisoned Clients in FL Env"
         }
        },
        "xaxis2": {
         "anchor": "y2",
         "domain": [
          0.5349999999999999,
          0.9999999999999999
         ],
         "dtick": 10,
         "matches": "x4",
         "showticklabels": false,
         "tick0": 0,
         "tickcolor": "blue",
         "ticklen": 10,
         "ticks": "outside",
         "tickwidth": 2,
         "title": {
          "font": {
           "size": 16
          },
          "standoff": 7,
          "text": "Poisoned Clients in FL Env"
         }
        },
        "xaxis3": {
         "anchor": "y3",
         "domain": [
          0,
          0.46499999999999997
         ],
         "dtick": 10,
         "tick0": 0,
         "tickcolor": "blue",
         "ticklen": 10,
         "ticks": "outside",
         "tickwidth": 2,
         "title": {
          "font": {
           "size": 16
          },
          "standoff": 7,
          "text": "Poisoned Clients in FL Env"
         }
        },
        "xaxis4": {
         "anchor": "y4",
         "domain": [
          0.5349999999999999,
          0.9999999999999999
         ],
         "dtick": 10,
         "tick0": 0,
         "tickcolor": "blue",
         "ticklen": 10,
         "ticks": "outside",
         "tickwidth": 2,
         "title": {
          "font": {
           "size": 16
          },
          "standoff": 7,
          "text": "Poisoned Clients in FL Env"
         }
        },
        "yaxis": {
         "anchor": "x",
         "domain": [
          0.55,
          1
         ],
         "dtick": 20,
         "tick0": 0,
         "tickcolor": "blue",
         "ticklen": 10,
         "ticks": "outside",
         "tickwidth": 2,
         "title": {
          "font": {
           "size": 16
          },
          "standoff": 5,
          "text": "Poisoned Class Mean Acc"
         }
        },
        "yaxis2": {
         "anchor": "x2",
         "domain": [
          0.55,
          1
         ],
         "dtick": 20,
         "matches": "y",
         "showticklabels": false,
         "tick0": 0,
         "tickcolor": "blue",
         "ticklen": 10,
         "ticks": "outside",
         "tickwidth": 2,
         "title": {
          "font": {
           "size": 16
          },
          "standoff": 5,
          "text": "Avg Class Mean Acc"
         }
        },
        "yaxis3": {
         "anchor": "x3",
         "domain": [
          0,
          0.45
         ],
         "dtick": 20,
         "tick0": 0,
         "tickcolor": "blue",
         "ticklen": 10,
         "ticks": "outside",
         "tickwidth": 2,
         "title": {
          "font": {
           "size": 16
          },
          "standoff": 5,
          "text": "Poisoned Class Mean F1"
         }
        },
        "yaxis4": {
         "anchor": "x4",
         "domain": [
          0,
          0.45
         ],
         "dtick": 20,
         "matches": "y3",
         "showticklabels": false,
         "tick0": 0,
         "tickcolor": "blue",
         "ticklen": 10,
         "ticks": "outside",
         "tickwidth": 2,
         "title": {
          "font": {
           "size": 16
          },
          "standoff": 5,
          "text": "Avg Class Mean F1"
         }
        }
       }
      }
     },
     "metadata": {},
     "output_type": "display_data"
    }
   ],
   "source": [
    "summary_file = 'fmnist_r1_results.json'\n",
    "res_fig_name = summary_file[:-5]\n",
    "result_data = get_data(json_folder + summary_file)\n",
    "fig = gen_acc_f1_plot_std(\"FMNIST CosDefence result for 1:1 ratio in client data distribution\", result_data, res_fig_name, save_html=False)\n",
    "fig.show()"
   ]
  },
  {
   "cell_type": "code",
   "execution_count": null,
   "id": "ac9acccd",
   "metadata": {},
   "outputs": [],
   "source": []
  },
  {
   "cell_type": "code",
   "execution_count": null,
   "id": "6c7b8a3e",
   "metadata": {},
   "outputs": [],
   "source": []
  }
 ],
 "metadata": {
  "kernelspec": {
   "display_name": "Python 3",
   "language": "python",
   "name": "python3"
  },
  "language_info": {
   "codemirror_mode": {
    "name": "ipython",
    "version": 3
   },
   "file_extension": ".py",
   "mimetype": "text/x-python",
   "name": "python",
   "nbconvert_exporter": "python",
   "pygments_lexer": "ipython3",
   "version": "3.9.4"
  }
 },
 "nbformat": 4,
 "nbformat_minor": 5
}
