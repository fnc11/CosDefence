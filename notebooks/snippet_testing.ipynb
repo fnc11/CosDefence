{
 "cells": [
  {
   "cell_type": "code",
   "execution_count": 49,
   "id": "8989e960",
   "metadata": {},
   "outputs": [],
   "source": [
    "import torch\n",
    "import torch.nn as nn\n",
    "import torch.nn.functional as F\n",
    "import torch.optim as optim\n",
    "from torch.utils.data import Dataset, DataLoader\n",
    "from torchvision import models, transforms\n",
    "\n",
    "import numpy as np\n",
    "\n",
    "from collections import OrderedDict, defaultdict"
   ]
  },
  {
   "cell_type": "code",
   "execution_count": 67,
   "id": "cce668a3",
   "metadata": {},
   "outputs": [],
   "source": [
    "class ClientDataset(Dataset):\n",
    "    def __init__(self, img_tensors, lbl_tensors, transform=None):\n",
    "        self.img_tensors = img_tensors\n",
    "        self.lbl_tensors = lbl_tensors\n",
    "        self.transform = transform\n",
    "    \n",
    "    def __len__(self):\n",
    "        return self.lbl_tensors.shape[0]\n",
    "    \n",
    "    def __getitem__(self, idx):\n",
    "        if torch.is_tensor(idx):\n",
    "            idx = idx.tolist()\n",
    "        return self.img_tensors[idx], self.lbl_tensors[idx]\n",
    "    \n",
    "def create_client_data_loaders(client_nums, data_folder, batch_size, random_mode=False):\n",
    "    data_loaders = []\n",
    "    for idx in range(client_nums):\n",
    "        # loading data to tensors\n",
    "        img_tensor_file = data_folder + f'client_{idx}_img.pt'\n",
    "        lbl_tensor_file = data_folder + f'client_{idx}_lbl.pt'\n",
    "        img_tensors = torch.load(img_tensor_file) # this contains 494 images, currently 76\n",
    "        lbl_tensors = torch.load(lbl_tensor_file)\n",
    "\n",
    "        # creating a dataset which can be fed to dataloader\n",
    "        client_dataset = ClientDataset(img_tensors, lbl_tensors)\n",
    "        data_loader = DataLoader(client_dataset, batch_size=batch_size, shuffle=random_mode)\n",
    "        data_loaders.append(data_loader)\n",
    "    return data_loaders"
   ]
  },
  {
   "cell_type": "code",
   "execution_count": 78,
   "id": "0b73fc7f",
   "metadata": {},
   "outputs": [],
   "source": [
    "# Save the tensor of images and labels for clients\n",
    "username = 'fnx11'\n",
    "data_folder = f'/home/{username}/thesis/codes/Playground/data/fed_data/'\n",
    "client_nums = 20\n",
    "client_data_loaders = create_client_data_loaders(client_nums, data_folder, 8)"
   ]
  },
  {
   "cell_type": "markdown",
   "id": "c3adbbf4",
   "metadata": {},
   "source": [
    "### Let's see some of the loaders"
   ]
  },
  {
   "cell_type": "code",
   "execution_count": 79,
   "id": "144869d4",
   "metadata": {},
   "outputs": [],
   "source": [
    "import matplotlib.pyplot as plt\n",
    "%matplotlib inline\n",
    "\n",
    "# helper function to un-normalize and display an image\n",
    "def imshow(img):\n",
    "    img = img / 2 + 0.5  # unnormalize\n",
    "    plt.imshow(np.transpose(img, (1, 2, 0)))\n",
    "\n",
    "def visualize(images, labels):\n",
    "    images = images.numpy() # convert images to numpy for display\n",
    "    # plot the images in the batch, along with the corresponding labels\n",
    "    fig = plt.figure(figsize=(25, 4))\n",
    "    # display 20 images\n",
    "    for idx in np.arange(8):\n",
    "        ax = fig.add_subplot(2, 8/2, idx+1, xticks=[], yticks=[])\n",
    "        imshow(images[idx])\n",
    "        ax.set_title(classes[labels[idx]])\n",
    "    "
   ]
  },
  {
   "cell_type": "code",
   "execution_count": 84,
   "id": "ade0e73c",
   "metadata": {},
   "outputs": [
    {
     "name": "stdout",
     "output_type": "stream",
     "text": [
      "torch.Size([8, 3, 32, 32])\n",
      "torch.Size([8])\n"
     ]
    }
   ],
   "source": [
    "client_iter = iter(client_data_loaders[15])\n",
    "# specify the image classes\n",
    "classes = ['airplane', 'automobile', 'bird', 'cat', 'deer',\n",
    "           'dog', 'frog', 'horse', 'ship', 'truck']\n",
    "for step in range(len(client_iter)):\n",
    "    images, labels = next(client_iter)  \n",
    "#     visualize(images, labels)\n",
    "    print(images.shape)\n",
    "    print(labels.shape)\n",
    "    break"
   ]
  },
  {
   "cell_type": "code",
   "execution_count": null,
   "id": "af574bfd",
   "metadata": {},
   "outputs": [],
   "source": []
  },
  {
   "cell_type": "code",
   "execution_count": null,
   "id": "c355c475",
   "metadata": {},
   "outputs": [],
   "source": []
  }
 ],
 "metadata": {
  "kernelspec": {
   "display_name": "Python 3",
   "language": "python",
   "name": "python3"
  },
  "language_info": {
   "codemirror_mode": {
    "name": "ipython",
    "version": 3
   },
   "file_extension": ".py",
   "mimetype": "text/x-python",
   "name": "python",
   "nbconvert_exporter": "python",
   "pygments_lexer": "ipython3",
   "version": "3.9.4"
  }
 },
 "nbformat": 4,
 "nbformat_minor": 5
}
