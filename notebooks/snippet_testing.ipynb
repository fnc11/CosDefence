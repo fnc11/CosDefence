{
 "cells": [
  {
   "cell_type": "code",
   "execution_count": 49,
   "id": "8989e960",
   "metadata": {},
   "outputs": [],
   "source": [
    "import torch\n",
    "import torch.nn as nn\n",
    "import torch.nn.functional as F\n",
    "import torch.optim as optim\n",
    "from torch.utils.data import Dataset, DataLoader\n",
    "from torchvision import models, transforms\n",
    "\n",
    "import numpy as np\n",
    "\n",
    "from collections import OrderedDict, defaultdict"
   ]
  },
  {
   "cell_type": "code",
   "execution_count": 67,
   "id": "cce668a3",
   "metadata": {},
   "outputs": [],
   "source": [
    "class ClientDataset(Dataset):\n",
    "    def __init__(self, img_tensors, lbl_tensors, transform=None):\n",
    "        self.img_tensors = img_tensors\n",
    "        self.lbl_tensors = lbl_tensors\n",
    "        self.transform = transform\n",
    "    \n",
    "    def __len__(self):\n",
    "        return self.lbl_tensors.shape[0]\n",
    "    \n",
    "    def __getitem__(self, idx):\n",
    "        if torch.is_tensor(idx):\n",
    "            idx = idx.tolist()\n",
    "        return self.img_tensors[idx], self.lbl_tensors[idx]\n",
    "    \n",
    "def create_client_data_loaders(client_nums, data_folder, batch_size, random_mode=False):\n",
    "    data_loaders = []\n",
    "    for idx in range(client_nums):\n",
    "        # loading data to tensors\n",
    "        img_tensor_file = data_folder + f'client_{idx}_img.pt'\n",
    "        lbl_tensor_file = data_folder + f'client_{idx}_lbl.pt'\n",
    "        img_tensors = torch.load(img_tensor_file) # this contains 494 images, currently 76\n",
    "        lbl_tensors = torch.load(lbl_tensor_file)\n",
    "\n",
    "        # creating a dataset which can be fed to dataloader\n",
    "        client_dataset = ClientDataset(img_tensors, lbl_tensors)\n",
    "        data_loader = DataLoader(client_dataset, batch_size=batch_size, shuffle=random_mode)\n",
    "        data_loaders.append(data_loader)\n",
    "    return data_loaders"
   ]
  },
  {
   "cell_type": "code",
   "execution_count": 78,
   "id": "0b73fc7f",
   "metadata": {},
   "outputs": [],
   "source": [
    "# Save the tensor of images and labels for clients\n",
    "username = 'fnx11'\n",
    "data_folder = f'/home/{username}/thesis/codes/Playground/data/fed_data/'\n",
    "client_nums = 20\n",
    "client_data_loaders = create_client_data_loaders(client_nums, data_folder, 8)"
   ]
  },
  {
   "cell_type": "markdown",
   "id": "c3adbbf4",
   "metadata": {},
   "source": [
    "### Let's see some of the loaders"
   ]
  },
  {
   "cell_type": "code",
   "execution_count": 79,
   "id": "144869d4",
   "metadata": {},
   "outputs": [],
   "source": [
    "import matplotlib.pyplot as plt\n",
    "%matplotlib inline\n",
    "\n",
    "# helper function to un-normalize and display an image\n",
    "def imshow(img):\n",
    "    img = img / 2 + 0.5  # unnormalize\n",
    "    plt.imshow(np.transpose(img, (1, 2, 0)))\n",
    "\n",
    "def visualize(images, labels):\n",
    "    images = images.numpy() # convert images to numpy for display\n",
    "    # plot the images in the batch, along with the corresponding labels\n",
    "    fig = plt.figure(figsize=(25, 4))\n",
    "    # display 20 images\n",
    "    for idx in np.arange(8):\n",
    "        ax = fig.add_subplot(2, 8/2, idx+1, xticks=[], yticks=[])\n",
    "        imshow(images[idx])\n",
    "        ax.set_title(classes[labels[idx]])\n",
    "    "
   ]
  },
  {
   "cell_type": "code",
   "execution_count": 84,
   "id": "ade0e73c",
   "metadata": {},
   "outputs": [
    {
     "name": "stdout",
     "output_type": "stream",
     "text": [
      "torch.Size([8, 3, 32, 32])\n",
      "torch.Size([8])\n"
     ]
    }
   ],
   "source": [
    "client_iter = iter(client_data_loaders[15])\n",
    "# specify the image classes\n",
    "classes = ['airplane', 'automobile', 'bird', 'cat', 'deer',\n",
    "           'dog', 'frog', 'horse', 'ship', 'truck']\n",
    "for step in range(len(client_iter)):\n",
    "    images, labels = next(client_iter)  \n",
    "#     visualize(images, labels)\n",
    "    print(images.shape)\n",
    "    print(labels.shape)\n",
    "    break"
   ]
  },
  {
   "cell_type": "code",
   "execution_count": 1,
   "id": "af574bfd",
   "metadata": {},
   "outputs": [],
   "source": [
    "from sklearn.cluster import KMeans\n",
    "import numpy as np"
   ]
  },
  {
   "cell_type": "code",
   "execution_count": 6,
   "id": "c355c475",
   "metadata": {},
   "outputs": [],
   "source": [
    "arr1 = np.array([1,2,3,4,5,80,90,100,110,120]).reshape(-1, 1)\n",
    "arr2 = np.array([11,12,13,14,15,16,17,20,220,230]).reshape(-1, 1)\n",
    "arr3 = np.array([100,120,105,8,9,10,11,12,13,14]).reshape(-1, 1)\n"
   ]
  },
  {
   "cell_type": "code",
   "execution_count": 7,
   "id": "15ceebc9",
   "metadata": {},
   "outputs": [
    {
     "name": "stdout",
     "output_type": "stream",
     "text": [
      "[[100.]\n",
      " [  3.]]\n",
      "[[ 14.75]\n",
      " [225.  ]]\n",
      "[[ 11.        ]\n",
      " [108.33333333]]\n"
     ]
    }
   ],
   "source": [
    "kmeans1 = KMeans(n_clusters=2, random_state=0).fit(arr1)\n",
    "centers1 = kmeans1.cluster_centers_\n",
    "print(centers1)\n",
    "\n",
    "kmeans2 = KMeans(n_clusters=2, random_state=0).fit(arr2)\n",
    "centers2 = kmeans2.cluster_centers_\n",
    "print(centers2)\n",
    "\n",
    "kmeans3 = KMeans(n_clusters=2, random_state=0).fit(arr3)\n",
    "centers3 = kmeans3.cluster_centers_\n",
    "print(centers3)"
   ]
  },
  {
   "cell_type": "code",
   "execution_count": 8,
   "id": "11eb3ed7",
   "metadata": {},
   "outputs": [
    {
     "name": "stdout",
     "output_type": "stream",
     "text": [
      "[5 5]\n",
      "[8 2]\n",
      "[7 3]\n",
      "[5, 2, 3]\n"
     ]
    }
   ],
   "source": [
    "mins = []\n",
    "\n",
    "labels1 = kmeans1.predict(arr1)\n",
    "val1, count1 = np.unique(labels1, return_counts=True)\n",
    "print(count1)\n",
    "mins.append(np.min(count1))\n",
    "\n",
    "labels2 = kmeans2.predict(arr2)\n",
    "val2, count2 = np.unique(labels2, return_counts=True)\n",
    "print(count2)\n",
    "mins.append(np.min(count2))\n",
    "\n",
    "labels3 = kmeans3.predict(arr3)\n",
    "val3, count3 = np.unique(labels3, return_counts=True)\n",
    "print(count3)\n",
    "mins.append(np.min(count3))\n",
    "\n",
    "print(mins)"
   ]
  },
  {
   "cell_type": "code",
   "execution_count": 11,
   "id": "738bbcf0",
   "metadata": {},
   "outputs": [
    {
     "name": "stdout",
     "output_type": "stream",
     "text": [
      "[[5. ]\n",
      " [2.5]]\n",
      "[0 1 1]\n"
     ]
    }
   ],
   "source": [
    "min_arr = np.array(mins).reshape(-1, 1)\n",
    "kmeans = KMeans(n_clusters=2, random_state=0).fit(min_arr)\n",
    "centers = kmeans.cluster_centers_\n",
    "print(centers)\n",
    "\n",
    "labels = kmeans.predict(min_arr)\n",
    "print(labels)\n",
    "val, count = np.unique(labels, return_counts=True)"
   ]
  },
  {
   "cell_type": "code",
   "execution_count": 4,
   "id": "0d152cf7",
   "metadata": {},
   "outputs": [],
   "source": [
    "import numpy as np"
   ]
  },
  {
   "cell_type": "code",
   "execution_count": 5,
   "id": "03591b9a",
   "metadata": {},
   "outputs": [],
   "source": [
    "arr = np.array([4,2,1,3,6,5])\n",
    "brr = np.argsort(arr)[-3:]"
   ]
  },
  {
   "cell_type": "code",
   "execution_count": 6,
   "id": "31a6f39d",
   "metadata": {},
   "outputs": [
    {
     "name": "stdout",
     "output_type": "stream",
     "text": [
      "[4 2 1 3 6 5]\n",
      "[0 5 4]\n"
     ]
    }
   ],
   "source": [
    "print(arr)\n",
    "print(brr)"
   ]
  },
  {
   "cell_type": "code",
   "execution_count": 10,
   "id": "748f1672",
   "metadata": {},
   "outputs": [
    {
     "data": {
      "text/plain": [
       "array([4, 5, 6])"
      ]
     },
     "execution_count": 10,
     "metadata": {},
     "output_type": "execute_result"
    }
   ],
   "source": [
    "arr[brr]"
   ]
  },
  {
   "cell_type": "code",
   "execution_count": 11,
   "id": "bfca7f97",
   "metadata": {},
   "outputs": [
    {
     "data": {
      "text/plain": [
       "6"
      ]
     },
     "execution_count": 11,
     "metadata": {},
     "output_type": "execute_result"
    }
   ],
   "source": [
    "len(arr)"
   ]
  },
  {
   "cell_type": "code",
   "execution_count": 12,
   "id": "962fd5cb",
   "metadata": {},
   "outputs": [
    {
     "data": {
      "text/plain": [
       "6"
      ]
     },
     "execution_count": 12,
     "metadata": {},
     "output_type": "execute_result"
    }
   ],
   "source": [
    "arr.size"
   ]
  },
  {
   "cell_type": "code",
   "execution_count": 16,
   "id": "449e0df8",
   "metadata": {},
   "outputs": [
    {
     "name": "stdout",
     "output_type": "stream",
     "text": [
      "0.9999999999999998\n"
     ]
    }
   ],
   "source": [
    "from sklearn.metrics.pairwise import cosine_similarity\n",
    "arr1 = np.arange(10).reshape(1, -1)\n",
    "arr2 = np.arange(10).reshape(1, -1)\n",
    "\n",
    "print(cosine_similarity(arr1, arr2)[0][0])"
   ]
  },
  {
   "cell_type": "code",
   "execution_count": null,
   "id": "5a8d2e8f",
   "metadata": {},
   "outputs": [],
   "source": []
  }
 ],
 "metadata": {
  "kernelspec": {
   "display_name": "Python 3",
   "language": "python",
   "name": "python3"
  },
  "language_info": {
   "codemirror_mode": {
    "name": "ipython",
    "version": 3
   },
   "file_extension": ".py",
   "mimetype": "text/x-python",
   "name": "python",
   "nbconvert_exporter": "python",
   "pygments_lexer": "ipython3",
   "version": "3.9.4"
  }
 },
 "nbformat": 4,
 "nbformat_minor": 5
}
