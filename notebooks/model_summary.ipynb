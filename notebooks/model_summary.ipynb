{
 "cells": [
  {
   "cell_type": "code",
   "execution_count": 1,
   "id": "fcfeb476",
   "metadata": {},
   "outputs": [],
   "source": [
    "from available_models import NNet, BasicCNN0, BasicCNN1\n",
    "from torchsummary import summary"
   ]
  },
  {
   "cell_type": "code",
   "execution_count": null,
   "id": "71458434",
   "metadata": {},
   "outputs": [],
   "source": [
    "summary(NNet(), (1, 28, 28), col_names = [\"input_size\", \"output_size\", \"num_params\", \"kernel_size\"], col_width = 18, verbose=0)"
   ]
  },
  {
   "cell_type": "code",
   "execution_count": 29,
   "id": "8c10ba1d",
   "metadata": {},
   "outputs": [
    {
     "data": {
      "text/plain": [
       "================================================================================================================\n",
       "Layer (type:depth-idx)                   Input Shape        Output Shape       Param #            Kernel Shape\n",
       "================================================================================================================\n",
       "├─Conv2d: 1-1                            [-1, 1, 28, 28]    [-1, 32, 28, 28]   320                [1, 32, 3, 3]\n",
       "├─MaxPool2d: 1-2                         [-1, 32, 28, 28]   [-1, 32, 14, 14]   --                 --\n",
       "├─Conv2d: 1-3                            [-1, 32, 14, 14]   [-1, 32, 14, 14]   9,248              [32, 32, 3, 3]\n",
       "├─MaxPool2d: 1-4                         [-1, 32, 14, 14]   [-1, 32, 7, 7]     --                 --\n",
       "├─Dropout: 1-5                           [-1, 32, 7, 7]     [-1, 32, 7, 7]     --                 --\n",
       "├─Linear: 1-6                            [-1, 1568]         [-1, 128]          200,832            [1568, 128]\n",
       "├─Dropout: 1-7                           [-1, 128]          [-1, 128]          --                 --\n",
       "├─Linear: 1-8                            [-1, 128]          [-1, 10]           1,290              [128, 10]\n",
       "================================================================================================================\n",
       "Total params: 211,690\n",
       "Trainable params: 211,690\n",
       "Non-trainable params: 0\n",
       "Total mult-adds (M): 2.23\n",
       "================================================================================================================\n",
       "Input size (MB): 0.00\n",
       "Forward/backward pass size (MB): 0.24\n",
       "Params size (MB): 0.81\n",
       "Estimated Total Size (MB): 1.05\n",
       "================================================================================================================"
      ]
     },
     "execution_count": 29,
     "metadata": {},
     "output_type": "execute_result"
    }
   ],
   "source": [
    "summary(BasicCNN0(), (1, 28, 28), col_names = [\"input_size\", \"output_size\", \"num_params\", \"kernel_size\"], col_width = 18, verbose=0)"
   ]
  },
  {
   "cell_type": "code",
   "execution_count": 28,
   "id": "2377f190",
   "metadata": {},
   "outputs": [
    {
     "data": {
      "text/plain": [
       "================================================================================================================\n",
       "Layer (type:depth-idx)                   Input Shape        Output Shape       Param #            Kernel Shape\n",
       "================================================================================================================\n",
       "├─Conv2d: 1-1                            [-1, 3, 32, 32]    [-1, 32, 32, 32]   896                [3, 32, 3, 3]\n",
       "├─MaxPool2d: 1-2                         [-1, 32, 32, 32]   [-1, 32, 16, 16]   --                 --\n",
       "├─Conv2d: 1-3                            [-1, 32, 16, 16]   [-1, 64, 16, 16]   18,496             [32, 64, 3, 3]\n",
       "├─MaxPool2d: 1-4                         [-1, 64, 16, 16]   [-1, 64, 8, 8]     --                 --\n",
       "├─Conv2d: 1-5                            [-1, 64, 8, 8]     [-1, 128, 8, 8]    73,856             [64, 128, 3, 3]\n",
       "├─MaxPool2d: 1-6                         [-1, 128, 8, 8]    [-1, 128, 4, 4]    --                 --\n",
       "├─Dropout: 1-7                           [-1, 2048]         [-1, 2048]         --                 --\n",
       "├─Linear: 1-8                            [-1, 2048]         [-1, 216]          442,584            [2048, 216]\n",
       "├─Dropout: 1-9                           [-1, 216]          [-1, 216]          --                 --\n",
       "├─Linear: 1-10                           [-1, 216]          [-1, 10]           2,170              [216, 10]\n",
       "================================================================================================================\n",
       "Total params: 538,002\n",
       "Trainable params: 538,002\n",
       "Non-trainable params: 0\n",
       "Total mult-adds (M): 10.77\n",
       "================================================================================================================\n",
       "Input size (MB): 0.01\n",
       "Forward/backward pass size (MB): 0.44\n",
       "Params size (MB): 2.05\n",
       "Estimated Total Size (MB): 2.50\n",
       "================================================================================================================"
      ]
     },
     "execution_count": 28,
     "metadata": {},
     "output_type": "execute_result"
    }
   ],
   "source": [
    "summary(BasicCNN1(), (3, 32, 32), col_names = [\"input_size\", \"output_size\", \"num_params\", \"kernel_size\"], col_width = 18, verbose=0)"
   ]
  },
  {
   "cell_type": "code",
   "execution_count": null,
   "id": "6c9452b0",
   "metadata": {},
   "outputs": [],
   "source": []
  }
 ],
 "metadata": {
  "kernelspec": {
   "display_name": "Python 3",
   "language": "python",
   "name": "python3"
  },
  "language_info": {
   "codemirror_mode": {
    "name": "ipython",
    "version": 3
   },
   "file_extension": ".py",
   "mimetype": "text/x-python",
   "name": "python",
   "nbconvert_exporter": "python",
   "pygments_lexer": "ipython3",
   "version": "3.9.4"
  }
 },
 "nbformat": 4,
 "nbformat_minor": 5
}
